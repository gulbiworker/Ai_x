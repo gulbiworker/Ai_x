{
 "cells": [
  {
   "cell_type": "code",
   "execution_count": 1,
   "id": "2e4fffc6",
   "metadata": {},
   "outputs": [
    {
     "data": {
      "text/html": [
       "\n",
       "<style>\n",
       "div.container{width:86% !important;}\n",
       "div.cell.code_cell.rendered{width:100%;}\n",
       "div.CodeMirror {font-family:Consolas; font-size:15pt;}\n",
       "div.output {font-size:15pt; font-weight:bold;}\n",
       "div.input {font-family:Consolas; font-size:15pt;}\n",
       "div.prompt {min-width:70px;}\n",
       "div#toc-wrapper{padding-top:120px;}\n",
       "div.text_cell_render ul li{font-size:12pt;padding:5px;}\n",
       "table.dataframe{font-size:15px;}\n",
       "</style>\n"
      ],
      "text/plain": [
       "<IPython.core.display.HTML object>"
      ]
     },
     "metadata": {},
     "output_type": "display_data"
    }
   ],
   "source": [
    "from IPython.display import display, HTML\n",
    "display(HTML(\"\"\"\n",
    "<style>\n",
    "div.container{width:86% !important;}\n",
    "div.cell.code_cell.rendered{width:100%;}\n",
    "div.CodeMirror {font-family:Consolas; font-size:15pt;}\n",
    "div.output {font-size:15pt; font-weight:bold;}\n",
    "div.input {font-family:Consolas; font-size:15pt;}\n",
    "div.prompt {min-width:70px;}\n",
    "div#toc-wrapper{padding-top:120px;}\n",
    "div.text_cell_render ul li{font-size:12pt;padding:5px;}\n",
    "table.dataframe{font-size:15px;}\n",
    "</style>\n",
    "\"\"\"))"
   ]
  },
  {
   "cell_type": "code",
   "execution_count": 5,
   "id": "7ab5f7eb",
   "metadata": {},
   "outputs": [],
   "source": [
    "import numpy as np\n",
    "import pandas as pd\n",
    "from tensorflow.keras import utils\n",
    "from tensorflow.keras.models import Sequential\n",
    "from tensorflow.keras.layers import Dense, Input\n",
    "from matplotlib import pyplot as plt"
   ]
  },
  {
   "cell_type": "markdown",
   "id": "785c9dab",
   "metadata": {},
   "source": [
    "# 로지스틱회귀분석\n",
    "# 1. 데이터셋 생성 & 전처리"
   ]
  },
  {
   "cell_type": "code",
   "execution_count": 6,
   "id": "6ddca72d",
   "metadata": {},
   "outputs": [
    {
     "data": {
      "text/html": [
       "<div>\n",
       "<style scoped>\n",
       "    .dataframe tbody tr th:only-of-type {\n",
       "        vertical-align: middle;\n",
       "    }\n",
       "\n",
       "    .dataframe tbody tr th {\n",
       "        vertical-align: top;\n",
       "    }\n",
       "\n",
       "    .dataframe thead th {\n",
       "        text-align: right;\n",
       "    }\n",
       "</style>\n",
       "<table border=\"1\" class=\"dataframe\">\n",
       "  <thead>\n",
       "    <tr style=\"text-align: right;\">\n",
       "      <th></th>\n",
       "      <th>6</th>\n",
       "      <th>148</th>\n",
       "      <th>72</th>\n",
       "      <th>35</th>\n",
       "      <th>0</th>\n",
       "      <th>33.6</th>\n",
       "      <th>0.627</th>\n",
       "      <th>50</th>\n",
       "      <th>1</th>\n",
       "    </tr>\n",
       "  </thead>\n",
       "  <tbody>\n",
       "    <tr>\n",
       "      <th>0</th>\n",
       "      <td>1</td>\n",
       "      <td>85</td>\n",
       "      <td>66</td>\n",
       "      <td>29</td>\n",
       "      <td>0</td>\n",
       "      <td>26.6</td>\n",
       "      <td>0.351</td>\n",
       "      <td>31</td>\n",
       "      <td>0</td>\n",
       "    </tr>\n",
       "    <tr>\n",
       "      <th>1</th>\n",
       "      <td>8</td>\n",
       "      <td>183</td>\n",
       "      <td>64</td>\n",
       "      <td>0</td>\n",
       "      <td>0</td>\n",
       "      <td>23.3</td>\n",
       "      <td>0.672</td>\n",
       "      <td>32</td>\n",
       "      <td>1</td>\n",
       "    </tr>\n",
       "    <tr>\n",
       "      <th>2</th>\n",
       "      <td>1</td>\n",
       "      <td>89</td>\n",
       "      <td>66</td>\n",
       "      <td>23</td>\n",
       "      <td>94</td>\n",
       "      <td>28.1</td>\n",
       "      <td>0.167</td>\n",
       "      <td>21</td>\n",
       "      <td>0</td>\n",
       "    </tr>\n",
       "    <tr>\n",
       "      <th>3</th>\n",
       "      <td>0</td>\n",
       "      <td>137</td>\n",
       "      <td>40</td>\n",
       "      <td>35</td>\n",
       "      <td>168</td>\n",
       "      <td>43.1</td>\n",
       "      <td>2.288</td>\n",
       "      <td>33</td>\n",
       "      <td>1</td>\n",
       "    </tr>\n",
       "    <tr>\n",
       "      <th>4</th>\n",
       "      <td>5</td>\n",
       "      <td>116</td>\n",
       "      <td>74</td>\n",
       "      <td>0</td>\n",
       "      <td>0</td>\n",
       "      <td>25.6</td>\n",
       "      <td>0.201</td>\n",
       "      <td>30</td>\n",
       "      <td>0</td>\n",
       "    </tr>\n",
       "    <tr>\n",
       "      <th>...</th>\n",
       "      <td>...</td>\n",
       "      <td>...</td>\n",
       "      <td>...</td>\n",
       "      <td>...</td>\n",
       "      <td>...</td>\n",
       "      <td>...</td>\n",
       "      <td>...</td>\n",
       "      <td>...</td>\n",
       "      <td>...</td>\n",
       "    </tr>\n",
       "    <tr>\n",
       "      <th>762</th>\n",
       "      <td>10</td>\n",
       "      <td>101</td>\n",
       "      <td>76</td>\n",
       "      <td>48</td>\n",
       "      <td>180</td>\n",
       "      <td>32.9</td>\n",
       "      <td>0.171</td>\n",
       "      <td>63</td>\n",
       "      <td>0</td>\n",
       "    </tr>\n",
       "    <tr>\n",
       "      <th>763</th>\n",
       "      <td>2</td>\n",
       "      <td>122</td>\n",
       "      <td>70</td>\n",
       "      <td>27</td>\n",
       "      <td>0</td>\n",
       "      <td>36.8</td>\n",
       "      <td>0.340</td>\n",
       "      <td>27</td>\n",
       "      <td>0</td>\n",
       "    </tr>\n",
       "    <tr>\n",
       "      <th>764</th>\n",
       "      <td>5</td>\n",
       "      <td>121</td>\n",
       "      <td>72</td>\n",
       "      <td>23</td>\n",
       "      <td>112</td>\n",
       "      <td>26.2</td>\n",
       "      <td>0.245</td>\n",
       "      <td>30</td>\n",
       "      <td>0</td>\n",
       "    </tr>\n",
       "    <tr>\n",
       "      <th>765</th>\n",
       "      <td>1</td>\n",
       "      <td>126</td>\n",
       "      <td>60</td>\n",
       "      <td>0</td>\n",
       "      <td>0</td>\n",
       "      <td>30.1</td>\n",
       "      <td>0.349</td>\n",
       "      <td>47</td>\n",
       "      <td>1</td>\n",
       "    </tr>\n",
       "    <tr>\n",
       "      <th>766</th>\n",
       "      <td>1</td>\n",
       "      <td>93</td>\n",
       "      <td>70</td>\n",
       "      <td>31</td>\n",
       "      <td>0</td>\n",
       "      <td>30.4</td>\n",
       "      <td>0.315</td>\n",
       "      <td>23</td>\n",
       "      <td>0</td>\n",
       "    </tr>\n",
       "  </tbody>\n",
       "</table>\n",
       "<p>767 rows × 9 columns</p>\n",
       "</div>"
      ],
      "text/plain": [
       "      6  148  72  35    0  33.6  0.627  50  1\n",
       "0     1   85  66  29    0  26.6  0.351  31  0\n",
       "1     8  183  64   0    0  23.3  0.672  32  1\n",
       "2     1   89  66  23   94  28.1  0.167  21  0\n",
       "3     0  137  40  35  168  43.1  2.288  33  1\n",
       "4     5  116  74   0    0  25.6  0.201  30  0\n",
       "..   ..  ...  ..  ..  ...   ...    ...  .. ..\n",
       "762  10  101  76  48  180  32.9  0.171  63  0\n",
       "763   2  122  70  27    0  36.8  0.340  27  0\n",
       "764   5  121  72  23  112  26.2  0.245  30  0\n",
       "765   1  126  60   0    0  30.1  0.349  47  1\n",
       "766   1   93  70  31    0  30.4  0.315  23  0\n",
       "\n",
       "[767 rows x 9 columns]"
      ]
     },
     "execution_count": 6,
     "metadata": {},
     "output_type": "execute_result"
    }
   ],
   "source": [
    "df = pd.read_csv('data/pima-indians-diabetes.csv', comment='#')\n",
    "df"
   ]
  },
  {
   "cell_type": "code",
   "execution_count": 7,
   "id": "b3ee1dc5",
   "metadata": {},
   "outputs": [
    {
     "data": {
      "text/plain": [
       "0    500\n",
       "1    267\n",
       "Name: 1, dtype: int64"
      ]
     },
     "execution_count": 7,
     "metadata": {},
     "output_type": "execute_result"
    }
   ],
   "source": [
    "df.iloc[:,-1].value_counts()"
   ]
  },
  {
   "cell_type": "code",
   "execution_count": 8,
   "id": "e6a96d31",
   "metadata": {},
   "outputs": [
    {
     "data": {
      "text/html": [
       "<div>\n",
       "<style scoped>\n",
       "    .dataframe tbody tr th:only-of-type {\n",
       "        vertical-align: middle;\n",
       "    }\n",
       "\n",
       "    .dataframe tbody tr th {\n",
       "        vertical-align: top;\n",
       "    }\n",
       "\n",
       "    .dataframe thead th {\n",
       "        text-align: right;\n",
       "    }\n",
       "</style>\n",
       "<table border=\"1\" class=\"dataframe\">\n",
       "  <thead>\n",
       "    <tr style=\"text-align: right;\">\n",
       "      <th></th>\n",
       "      <th>6</th>\n",
       "      <th>148</th>\n",
       "      <th>72</th>\n",
       "      <th>35</th>\n",
       "      <th>0</th>\n",
       "      <th>33.6</th>\n",
       "      <th>0.627</th>\n",
       "      <th>50</th>\n",
       "      <th>1</th>\n",
       "    </tr>\n",
       "  </thead>\n",
       "  <tbody>\n",
       "    <tr>\n",
       "      <th>0</th>\n",
       "      <td>1</td>\n",
       "      <td>85</td>\n",
       "      <td>66</td>\n",
       "      <td>29</td>\n",
       "      <td>0</td>\n",
       "      <td>26.6</td>\n",
       "      <td>0.351</td>\n",
       "      <td>31</td>\n",
       "      <td>0</td>\n",
       "    </tr>\n",
       "    <tr>\n",
       "      <th>1</th>\n",
       "      <td>8</td>\n",
       "      <td>183</td>\n",
       "      <td>64</td>\n",
       "      <td>0</td>\n",
       "      <td>0</td>\n",
       "      <td>23.3</td>\n",
       "      <td>0.672</td>\n",
       "      <td>32</td>\n",
       "      <td>1</td>\n",
       "    </tr>\n",
       "    <tr>\n",
       "      <th>2</th>\n",
       "      <td>1</td>\n",
       "      <td>89</td>\n",
       "      <td>66</td>\n",
       "      <td>23</td>\n",
       "      <td>94</td>\n",
       "      <td>28.1</td>\n",
       "      <td>0.167</td>\n",
       "      <td>21</td>\n",
       "      <td>0</td>\n",
       "    </tr>\n",
       "    <tr>\n",
       "      <th>3</th>\n",
       "      <td>0</td>\n",
       "      <td>137</td>\n",
       "      <td>40</td>\n",
       "      <td>35</td>\n",
       "      <td>168</td>\n",
       "      <td>43.1</td>\n",
       "      <td>2.288</td>\n",
       "      <td>33</td>\n",
       "      <td>1</td>\n",
       "    </tr>\n",
       "    <tr>\n",
       "      <th>4</th>\n",
       "      <td>5</td>\n",
       "      <td>116</td>\n",
       "      <td>74</td>\n",
       "      <td>0</td>\n",
       "      <td>0</td>\n",
       "      <td>25.6</td>\n",
       "      <td>0.201</td>\n",
       "      <td>30</td>\n",
       "      <td>0</td>\n",
       "    </tr>\n",
       "  </tbody>\n",
       "</table>\n",
       "</div>"
      ],
      "text/plain": [
       "   6  148  72  35    0  33.6  0.627  50  1\n",
       "0  1   85  66  29    0  26.6  0.351  31  0\n",
       "1  8  183  64   0    0  23.3  0.672  32  1\n",
       "2  1   89  66  23   94  28.1  0.167  21  0\n",
       "3  0  137  40  35  168  43.1  2.288  33  1\n",
       "4  5  116  74   0    0  25.6  0.201  30  0"
      ]
     },
     "execution_count": 8,
     "metadata": {},
     "output_type": "execute_result"
    }
   ],
   "source": [
    "df.head()"
   ]
  },
  {
   "cell_type": "code",
   "execution_count": 9,
   "id": "977ca115",
   "metadata": {},
   "outputs": [
    {
     "data": {
      "text/plain": [
       "(768, 9)"
      ]
     },
     "execution_count": 9,
     "metadata": {},
     "output_type": "execute_result"
    }
   ],
   "source": [
    "# csv 파일을 numpy 로 읽어오기\n",
    "dataset = np.loadtxt('data/pima-indians-diabetes.csv',\n",
    "                    encoding='utf-8',\n",
    "                    delimiter=',')\n",
    "dataset.shape"
   ]
  },
  {
   "cell_type": "code",
   "execution_count": 72,
   "id": "ab29c784",
   "metadata": {},
   "outputs": [
    {
     "data": {
      "text/plain": [
       "((650, 8), (650,), (118, 8), (118,))"
      ]
     },
     "execution_count": 72,
     "metadata": {},
     "output_type": "execute_result"
    }
   ],
   "source": [
    "# 데이터 분할 : 학습데이터셋(모델학습용) + 시험데이터셋(모델평가용)\n",
    "x_train = dataset[:650, :-1]\n",
    "y_train = dataset[:650, -1]\n",
    "x_test = dataset[650:, :-1]\n",
    "y_test = dataset[650:, -1]\n",
    "x_train.shape, y_train.shape, x_test.shape, y_test.shape\n"
   ]
  },
  {
   "cell_type": "markdown",
   "id": "a9921a01",
   "metadata": {},
   "source": [
    "## 2. 모델구성"
   ]
  },
  {
   "cell_type": "code",
   "execution_count": 12,
   "id": "86793a98",
   "metadata": {},
   "outputs": [
    {
     "name": "stdout",
     "output_type": "stream",
     "text": [
      "Model: \"sequential_1\"\n",
      "_________________________________________________________________\n",
      " Layer (type)                Output Shape              Param #   \n",
      "=================================================================\n",
      " dense (Dense)               (None, 32)                288       \n",
      "                                                                 \n",
      " dense_1 (Dense)             (None, 16)                528       \n",
      "                                                                 \n",
      " dense_2 (Dense)             (None, 1)                 17        \n",
      "                                                                 \n",
      "=================================================================\n",
      "Total params: 833\n",
      "Trainable params: 833\n",
      "Non-trainable params: 0\n",
      "_________________________________________________________________\n"
     ]
    }
   ],
   "source": [
    "model = Sequential()\n",
    "model.add(Input(shape=(8,)))\n",
    "model.add(Dense(units=32, activation='relu'))\n",
    "\n",
    "model.add(Dense(units=16, activation='relu'))\n",
    "\n",
    "model.add(Dense(units=1, activation='sigmoid'))\n",
    "model.summary()"
   ]
  },
  {
   "cell_type": "markdown",
   "id": "47c6c37d",
   "metadata": {},
   "source": [
    "## 3. 학습과정 설정"
   ]
  },
  {
   "cell_type": "code",
   "execution_count": 19,
   "id": "05900c31",
   "metadata": {},
   "outputs": [],
   "source": [
    "model.compile(loss='binary_crossentropy',\n",
    "             optimizer='adam',\n",
    "             metrics=['binary_accuracy'])"
   ]
  },
  {
   "cell_type": "code",
   "execution_count": 23,
   "id": "dee014be",
   "metadata": {},
   "outputs": [
    {
     "name": "stdout",
     "output_type": "stream",
     "text": [
      "CPU times: total: 1.31 s\n",
      "Wall time: 784 ms\n"
     ]
    }
   ],
   "source": [
    "%%time\n",
    "hist = model.fit(x_train, y_train,\n",
    "                epochs=200, # 학습횟수\n",
    "                batch_size=350,  # 한번에 읽어드리는 데이터 양\n",
    "                # validation_data=[x_test, y_test]\n",
    "                # validation_split=0.1,\n",
    "                 verbose=0 # 학습로그 출력 여부 (0: 이면 출력을 안하고 1이면 한다)\n",
    "                )"
   ]
  },
  {
   "cell_type": "markdown",
   "id": "7d7cb703",
   "metadata": {},
   "source": [
    "## 5. 모델 평가하기(학습과정 보기, 평가)"
   ]
  },
  {
   "cell_type": "code",
   "execution_count": 24,
   "id": "5a50b21a",
   "metadata": {},
   "outputs": [
    {
     "data": {
      "text/plain": [
       "dict_keys(['loss', 'binary_accuracy'])"
      ]
     },
     "execution_count": 24,
     "metadata": {},
     "output_type": "execute_result"
    }
   ],
   "source": [
    "hist.history.keys()"
   ]
  },
  {
   "cell_type": "code",
   "execution_count": 132,
   "id": "756b39ec",
   "metadata": {},
   "outputs": [
    {
     "ename": "ValueError",
     "evalue": "x, y, and format string must not be None",
     "output_type": "error",
     "traceback": [
      "\u001b[1;31m---------------------------------------------------------------------------\u001b[0m",
      "\u001b[1;31mValueError\u001b[0m                                Traceback (most recent call last)",
      "Cell \u001b[1;32mIn[132], line 5\u001b[0m\n\u001b[0;32m      3\u001b[0m loss_ax\u001b[38;5;241m.\u001b[39mplot(hist\u001b[38;5;241m.\u001b[39mhistory[\u001b[38;5;124m'\u001b[39m\u001b[38;5;124mloss\u001b[39m\u001b[38;5;124m'\u001b[39m], \u001b[38;5;124m'\u001b[39m\u001b[38;5;124mr\u001b[39m\u001b[38;5;124m'\u001b[39m)\n\u001b[0;32m      4\u001b[0m acc_ax \u001b[38;5;241m=\u001b[39m loss_ax\u001b[38;5;241m.\u001b[39mtwinx()\n\u001b[1;32m----> 5\u001b[0m \u001b[43macc_ax\u001b[49m\u001b[38;5;241;43m.\u001b[39;49m\u001b[43mplot\u001b[49m\u001b[43m(\u001b[49m\u001b[43mhist\u001b[49m\u001b[38;5;241;43m.\u001b[39;49m\u001b[43mhistory\u001b[49m\u001b[38;5;241;43m.\u001b[39;49m\u001b[43mget\u001b[49m\u001b[43m(\u001b[49m\u001b[38;5;124;43m'\u001b[39;49m\u001b[38;5;124;43mbinary_accuracy\u001b[39;49m\u001b[38;5;124;43m'\u001b[39;49m\u001b[43m)\u001b[49m\u001b[43m,\u001b[49m\u001b[38;5;124;43m'\u001b[39;49m\u001b[38;5;124;43mb\u001b[39;49m\u001b[38;5;124;43m'\u001b[39;49m\u001b[43m)\u001b[49m\n",
      "File \u001b[1;32m~\\anaconda3\\envs\\ml-dl-nlp\\lib\\site-packages\\matplotlib\\axes\\_axes.py:1688\u001b[0m, in \u001b[0;36mAxes.plot\u001b[1;34m(self, scalex, scaley, data, *args, **kwargs)\u001b[0m\n\u001b[0;32m   1445\u001b[0m \u001b[38;5;250m\u001b[39m\u001b[38;5;124;03m\"\"\"\u001b[39;00m\n\u001b[0;32m   1446\u001b[0m \u001b[38;5;124;03mPlot y versus x as lines and/or markers.\u001b[39;00m\n\u001b[0;32m   1447\u001b[0m \n\u001b[1;32m   (...)\u001b[0m\n\u001b[0;32m   1685\u001b[0m \u001b[38;5;124;03m(``'green'``) or hex strings (``'#008000'``).\u001b[39;00m\n\u001b[0;32m   1686\u001b[0m \u001b[38;5;124;03m\"\"\"\u001b[39;00m\n\u001b[0;32m   1687\u001b[0m kwargs \u001b[38;5;241m=\u001b[39m cbook\u001b[38;5;241m.\u001b[39mnormalize_kwargs(kwargs, mlines\u001b[38;5;241m.\u001b[39mLine2D)\n\u001b[1;32m-> 1688\u001b[0m lines \u001b[38;5;241m=\u001b[39m [\u001b[38;5;241m*\u001b[39m\u001b[38;5;28mself\u001b[39m\u001b[38;5;241m.\u001b[39m_get_lines(\u001b[38;5;241m*\u001b[39margs, data\u001b[38;5;241m=\u001b[39mdata, \u001b[38;5;241m*\u001b[39m\u001b[38;5;241m*\u001b[39mkwargs)]\n\u001b[0;32m   1689\u001b[0m \u001b[38;5;28;01mfor\u001b[39;00m line \u001b[38;5;129;01min\u001b[39;00m lines:\n\u001b[0;32m   1690\u001b[0m     \u001b[38;5;28mself\u001b[39m\u001b[38;5;241m.\u001b[39madd_line(line)\n",
      "File \u001b[1;32m~\\anaconda3\\envs\\ml-dl-nlp\\lib\\site-packages\\matplotlib\\axes\\_base.py:311\u001b[0m, in \u001b[0;36m_process_plot_var_args.__call__\u001b[1;34m(self, data, *args, **kwargs)\u001b[0m\n\u001b[0;32m    309\u001b[0m     this \u001b[38;5;241m+\u001b[39m\u001b[38;5;241m=\u001b[39m args[\u001b[38;5;241m0\u001b[39m],\n\u001b[0;32m    310\u001b[0m     args \u001b[38;5;241m=\u001b[39m args[\u001b[38;5;241m1\u001b[39m:]\n\u001b[1;32m--> 311\u001b[0m \u001b[38;5;28;01myield from\u001b[39;00m \u001b[38;5;28;43mself\u001b[39;49m\u001b[38;5;241;43m.\u001b[39;49m\u001b[43m_plot_args\u001b[49m\u001b[43m(\u001b[49m\n\u001b[0;32m    312\u001b[0m \u001b[43m    \u001b[49m\u001b[43mthis\u001b[49m\u001b[43m,\u001b[49m\u001b[43m \u001b[49m\u001b[43mkwargs\u001b[49m\u001b[43m,\u001b[49m\u001b[43m \u001b[49m\u001b[43mambiguous_fmt_datakey\u001b[49m\u001b[38;5;241;43m=\u001b[39;49m\u001b[43mambiguous_fmt_datakey\u001b[49m\u001b[43m)\u001b[49m\n",
      "File \u001b[1;32m~\\anaconda3\\envs\\ml-dl-nlp\\lib\\site-packages\\matplotlib\\axes\\_base.py:465\u001b[0m, in \u001b[0;36m_process_plot_var_args._plot_args\u001b[1;34m(self, tup, kwargs, return_kwargs, ambiguous_fmt_datakey)\u001b[0m\n\u001b[0;32m    462\u001b[0m \u001b[38;5;66;03m# Don't allow any None value; these would be up-converted to one\u001b[39;00m\n\u001b[0;32m    463\u001b[0m \u001b[38;5;66;03m# element array of None which causes problems downstream.\u001b[39;00m\n\u001b[0;32m    464\u001b[0m \u001b[38;5;28;01mif\u001b[39;00m \u001b[38;5;28many\u001b[39m(v \u001b[38;5;129;01mis\u001b[39;00m \u001b[38;5;28;01mNone\u001b[39;00m \u001b[38;5;28;01mfor\u001b[39;00m v \u001b[38;5;129;01min\u001b[39;00m tup):\n\u001b[1;32m--> 465\u001b[0m     \u001b[38;5;28;01mraise\u001b[39;00m \u001b[38;5;167;01mValueError\u001b[39;00m(\u001b[38;5;124m\"\u001b[39m\u001b[38;5;124mx, y, and format string must not be None\u001b[39m\u001b[38;5;124m\"\u001b[39m)\n\u001b[0;32m    467\u001b[0m kw \u001b[38;5;241m=\u001b[39m {}\n\u001b[0;32m    468\u001b[0m \u001b[38;5;28;01mfor\u001b[39;00m prop_name, val \u001b[38;5;129;01min\u001b[39;00m \u001b[38;5;28mzip\u001b[39m((\u001b[38;5;124m'\u001b[39m\u001b[38;5;124mlinestyle\u001b[39m\u001b[38;5;124m'\u001b[39m, \u001b[38;5;124m'\u001b[39m\u001b[38;5;124mmarker\u001b[39m\u001b[38;5;124m'\u001b[39m, \u001b[38;5;124m'\u001b[39m\u001b[38;5;124mcolor\u001b[39m\u001b[38;5;124m'\u001b[39m),\n\u001b[0;32m    469\u001b[0m                           (linestyle, marker, color)):\n",
      "\u001b[1;31mValueError\u001b[0m: x, y, and format string must not be None"
     ]
    },
    {
     "data": {
      "image/png": "[encoded data removed]",
      "text/plain": [
       "<Figure size 1000x500 with 2 Axes>"
      ]
     },
     "metadata": {},
     "output_type": "display_data"
    }
   ],
   "source": [
    "# 학습과정 표시(학습데이터에 대한 loss 와 accuracy)\n",
    "fig, loss_ax = plt.subplots(figsize=(10,5))\n",
    "loss_ax.plot(hist.history['loss'], 'r')\n",
    "acc_ax = loss_ax.twinx()\n",
    "acc_ax.plot(hist.history.get('binary_accuracy'),'b')"
   ]
  },
  {
   "cell_type": "code",
   "execution_count": 29,
   "id": "53adf0b6",
   "metadata": {},
   "outputs": [
    {
     "name": "stdout",
     "output_type": "stream",
     "text": [
      "4/4 [==============================] - 0s 2ms/step - loss: 24.8128 - binary_accuracy: 0.0911\n"
     ]
    },
    {
     "data": {
      "text/plain": [
       "[24.81279945373535, 0.09110169857740402]"
      ]
     },
     "execution_count": 29,
     "metadata": {},
     "output_type": "execute_result"
    }
   ],
   "source": [
    "# 평가하기\n",
    "model.evaluate(x_test, y_test)"
   ]
  },
  {
   "cell_type": "markdown",
   "id": "c9aebe9c",
   "metadata": {},
   "source": [
    "# 혼동행렬\n",
    "- 테스트 데이터 셋의 실제값과 예측값으로 작성된 교차표"
   ]
  },
  {
   "cell_type": "code",
   "execution_count": 50,
   "id": "c016092d",
   "metadata": {},
   "outputs": [
    {
     "name": "stdout",
     "output_type": "stream",
     "text": [
      "4/4 [==============================] - 0s 2ms/step\n"
     ]
    },
    {
     "data": {
      "text/plain": [
       "array([[0.],\n",
       "       [0.],\n",
       "       [0.],\n",
       "       [1.],\n",
       "       [0.]])"
      ]
     },
     "execution_count": 50,
     "metadata": {},
     "output_type": "execute_result"
    }
   ],
   "source": [
    "# 실제값 : y_test\n",
    "# 예측값\n",
    "y_hat=(model.predict(x_test)>=0.5).astype(float)\n",
    "y_hat[:5]"
   ]
  },
  {
   "cell_type": "code",
   "execution_count": 77,
   "id": "ee174e5f",
   "metadata": {},
   "outputs": [
    {
     "data": {
      "text/plain": [
       "array([0., 0., 0., 0., 0.])"
      ]
     },
     "execution_count": 77,
     "metadata": {},
     "output_type": "execute_result"
    }
   ],
   "source": [
    "y_test[:5]\n"
   ]
  },
  {
   "cell_type": "code",
   "execution_count": 76,
   "id": "c42d58d3",
   "metadata": {},
   "outputs": [
    {
     "name": "stdout",
     "output_type": "stream",
     "text": [
      "(118,) (118, 1)\n",
      "62 11\n",
      "28 17\n"
     ]
    }
   ],
   "source": [
    "TN = 0  # 0을 0으로 예측한 경우의 수(T)\n",
    "FP = 0  # 0을 1로 예측한 경우의 수(F)\n",
    "FN = 0  # 1을 0으로 예측한 경우의 수(F)\n",
    "TP = 0  # 1을 1로 예측한 경우의 수(T)\n",
    "print(y_test.shape, y_hat.shape)\n",
    "for y, h in zip(y_test, y_hat.reshape(-1)):\n",
    "    if y==0 and h==0:\n",
    "        TN += 1\n",
    "    elif y==0 and h==1:\n",
    "        FP += 1\n",
    "    elif y==1 and h==0:\n",
    "        FN += 1\n",
    "    else:\n",
    "        TP += 1\n",
    "print(TN, FP)\n",
    "print(FN, TP)"
   ]
  },
  {
   "cell_type": "code",
   "execution_count": 74,
   "id": "f0329c0a",
   "metadata": {},
   "outputs": [
    {
     "data": {
      "text/html": [
       "<div>\n",
       "<style scoped>\n",
       "    .dataframe tbody tr th:only-of-type {\n",
       "        vertical-align: middle;\n",
       "    }\n",
       "\n",
       "    .dataframe tbody tr th {\n",
       "        vertical-align: top;\n",
       "    }\n",
       "\n",
       "    .dataframe thead th {\n",
       "        text-align: right;\n",
       "    }\n",
       "</style>\n",
       "<table border=\"1\" class=\"dataframe\">\n",
       "  <thead>\n",
       "    <tr style=\"text-align: right;\">\n",
       "      <th>예측값</th>\n",
       "      <th>0.0</th>\n",
       "      <th>1.0</th>\n",
       "    </tr>\n",
       "    <tr>\n",
       "      <th>실제값</th>\n",
       "      <th></th>\n",
       "      <th></th>\n",
       "    </tr>\n",
       "  </thead>\n",
       "  <tbody>\n",
       "    <tr>\n",
       "      <th>0.0</th>\n",
       "      <td>62</td>\n",
       "      <td>11</td>\n",
       "    </tr>\n",
       "    <tr>\n",
       "      <th>1.0</th>\n",
       "      <td>28</td>\n",
       "      <td>17</td>\n",
       "    </tr>\n",
       "  </tbody>\n",
       "</table>\n",
       "</div>"
      ],
      "text/plain": [
       "예측값  0.0  1.0\n",
       "실제값          \n",
       "0.0   62   11\n",
       "1.0   28   17"
      ]
     },
     "execution_count": 74,
     "metadata": {},
     "output_type": "execute_result"
    }
   ],
   "source": [
    "ctap = pd.crosstab(y_test, y_hat.reshape(-1))\n",
    "ctap.index.name = '실제값'\n",
    "ctap.columns.name='예측값'\n",
    "ctap\n",
    "pd.crosstab(y_test,\n",
    "           y_hat.reshape(-1),\n",
    "           rownames=['실제값'],\n",
    "           colnames=['예측값'])"
   ]
  },
  {
   "cell_type": "code",
   "execution_count": 75,
   "id": "13bb379c",
   "metadata": {},
   "outputs": [
    {
     "data": {
      "text/plain": [
       "array([[62, 11],\n",
       "       [28, 17]], dtype=int64)"
      ]
     },
     "execution_count": 75,
     "metadata": {},
     "output_type": "execute_result"
    }
   ],
   "source": [
    "# 혼동행렬\n",
    "from sklearn.metrics import confusion_matrix\n",
    "confusion_matrix(y_test,\n",
    "                y_hat.reshape(-1))"
   ]
  },
  {
   "cell_type": "code",
   "execution_count": 79,
   "id": "a3b67115",
   "metadata": {},
   "outputs": [
    {
     "name": "stdout",
     "output_type": "stream",
     "text": [
      "acc: 0.6694915254237288\n",
      "recall: 0.37777777777777777\n",
      "precision: 0.6071428571428571\n"
     ]
    }
   ],
   "source": [
    "print('acc:',(TN+TP)/(TN+FP+FN+TP))\n",
    "print('recall:',(TP)/(FN+TP))\n",
    "print('precision:', (TP)/(FP+TP))"
   ]
  },
  {
   "cell_type": "markdown",
   "id": "7f1381f0",
   "metadata": {},
   "source": [
    "## 6. 모델 사용"
   ]
  },
  {
   "cell_type": "code",
   "execution_count": 81,
   "id": "add270fd",
   "metadata": {},
   "outputs": [
    {
     "data": {
      "text/plain": [
       "array([  1.   ,  91.   ,  54.   ,  25.   , 100.   ,  25.2  ,   0.234,\n",
       "        23.   ])"
      ]
     },
     "execution_count": 81,
     "metadata": {},
     "output_type": "execute_result"
    }
   ],
   "source": [
    "x_test[0]"
   ]
  },
  {
   "cell_type": "code",
   "execution_count": 83,
   "id": "d48cd3cb",
   "metadata": {},
   "outputs": [
    {
     "name": "stdout",
     "output_type": "stream",
     "text": [
      "1/1 [==============================] - 0s 23ms/step\n"
     ]
    },
    {
     "data": {
      "text/plain": [
       "array([[0.2762496]], dtype=float32)"
      ]
     },
     "execution_count": 83,
     "metadata": {},
     "output_type": "execute_result"
    }
   ],
   "source": [
    "model.predict(np.array([[  1.   ,  91.   ,  54.   ,  25.   , 100.   ,  25.2  ,   0.234,\n",
    "        23.   ]]))"
   ]
  },
  {
   "cell_type": "code",
   "execution_count": 84,
   "id": "06f2fc9d",
   "metadata": {},
   "outputs": [
    {
     "name": "stdout",
     "output_type": "stream",
     "text": [
      "1/1 [==============================] - 0s 21ms/step\n"
     ]
    },
    {
     "data": {
      "text/plain": [
       "0"
      ]
     },
     "execution_count": 84,
     "metadata": {},
     "output_type": "execute_result"
    }
   ],
   "source": [
    "int(model.predict(np.array([[  1.   ,  91.   ,  54.   ,  25.   , 100.   ,  25.2  ,   0.234,\n",
    "        23.   ]])))"
   ]
  },
  {
   "cell_type": "markdown",
   "id": "a924c337",
   "metadata": {},
   "source": [
    "# 분류분석\n",
    "1. 데이터셋 생성 및 전처리 : 훈련셋(600), 검증셋(100), 테스트셋(68)\n",
    "2. 모델생성(input, output) \" 출력층 softmax\n",
    "3. 모델학습 설정 : loss=\"categorical_crossentropy, metrics=['accuracy']\n",
    "4. 모델 학습 : 훈련셋과 검증셋\n",
    "5. 모델 평가: 그래프(hist.history), 평가(테스트셋), 교차표(테스트셋)\n",
    "6. 모델 사용:\n",
    "0 99.2\n",
    "1 0.8"
   ]
  },
  {
   "cell_type": "markdown",
   "id": "9f2fbd7b",
   "metadata": {},
   "source": [
    "## 데이터 셋 정리"
   ]
  },
  {
   "cell_type": "code",
   "execution_count": 85,
   "id": "0c833933",
   "metadata": {},
   "outputs": [
    {
     "data": {
      "text/plain": [
       "(768, 9)"
      ]
     },
     "execution_count": 85,
     "metadata": {},
     "output_type": "execute_result"
    }
   ],
   "source": [
    "dataset = np.loadtxt('data/pima-indians-diabetes.csv',\n",
    "                    encoding = 'utf-8',\n",
    "                    delimiter=',')\n",
    "dataset.shape"
   ]
  },
  {
   "cell_type": "code",
   "execution_count": 87,
   "id": "40b36aaa",
   "metadata": {},
   "outputs": [
    {
     "data": {
      "text/plain": [
       "((600, 8), (600,))"
      ]
     },
     "execution_count": 87,
     "metadata": {},
     "output_type": "execute_result"
    }
   ],
   "source": [
    "x_train = dataset[:600, :-1]\n",
    "y_train = dataset[:600, -1]\n",
    "x_val = dataset[600:700, :-1]\n",
    "y_val = dataset[600:700, -1]\n",
    "x_test = dataset[700:, :-1]\n",
    "y_test = dataset[700:, -1]\n",
    "x_train.shape, y_train.shape"
   ]
  },
  {
   "cell_type": "code",
   "execution_count": 88,
   "id": "1968e188",
   "metadata": {},
   "outputs": [],
   "source": [
    "# 타겟변수의 원핫인코딩 분류 분석"
   ]
  },
  {
   "cell_type": "code",
   "execution_count": 98,
   "id": "457a9296",
   "metadata": {},
   "outputs": [
    {
     "name": "stdout",
     "output_type": "stream",
     "text": [
      "[1. 0. 1. 0. 1.]\n",
      "[[0. 1.]\n",
      " [1. 0.]\n",
      " [0. 1.]\n",
      " ...\n",
      " [1. 0.]\n",
      " [0. 1.]\n",
      " [1. 0.]]\n"
     ]
    }
   ],
   "source": [
    "print(y_train[:5])\n",
    "print(utils.to_categorical(y_train))\n",
    "Y_train = utils.to_categorical(y_train)\n",
    "Y_val = utils.to_categorical(y_val)\n",
    "Y_test = utils.to_categorical(y_test)"
   ]
  },
  {
   "cell_type": "markdown",
   "id": "94bc1136",
   "metadata": {},
   "source": [
    "## 모델생성\n",
    " - 좌적합을 줄이는 dropout 추가"
   ]
  },
  {
   "cell_type": "code",
   "execution_count": 110,
   "id": "38fda716",
   "metadata": {},
   "outputs": [
    {
     "name": "stdout",
     "output_type": "stream",
     "text": [
      "Model: \"sequential_5\"\n",
      "_________________________________________________________________\n",
      " Layer (type)                Output Shape              Param #   \n",
      "=================================================================\n",
      " dense_18 (Dense)            (None, 32)                288       \n",
      "                                                                 \n",
      " dropout (Dropout)           (None, 32)                0         \n",
      "                                                                 \n",
      " dense_19 (Dense)            (None, 64)                2112      \n",
      "                                                                 \n",
      " dropout_1 (Dropout)         (None, 64)                0         \n",
      "                                                                 \n",
      " dense_20 (Dense)            (None, 16)                1040      \n",
      "                                                                 \n",
      " dropout_2 (Dropout)         (None, 16)                0         \n",
      "                                                                 \n",
      " dense_21 (Dense)            (None, 8)                 136       \n",
      "                                                                 \n",
      " dense_22 (Dense)            (None, 2)                 18        \n",
      "                                                                 \n",
      "=================================================================\n",
      "Total params: 3,594\n",
      "Trainable params: 3,594\n",
      "Non-trainable params: 0\n",
      "_________________________________________________________________\n"
     ]
    }
   ],
   "source": [
    "from tensorflow.keras.layers import Dropout\n",
    "model = Sequential()\n",
    "model.add(Input(shape=(8,)))\n",
    "model.add(Dense(units=32, activation='relu'))\n",
    "model.add(Dropout(0.2)) # 과적합을 해결\n",
    "model.add(Dense(units=64, activation='relu'))\n",
    "model.add(Dropout(0.1))\n",
    "model.add(Dense(units=16, activation='sigmoid'))\n",
    "model.add(Dropout(0.2))\n",
    "model.add(Dense(units=8, activation='sigmoid'))\n",
    "model.add(Dense(units=2, activation='softmax'))\n",
    "model.summary()"
   ]
  },
  {
   "cell_type": "markdown",
   "id": "adf34ca0",
   "metadata": {},
   "source": [
    "## 3. 학습과정 설정"
   ]
  },
  {
   "cell_type": "code",
   "execution_count": 111,
   "id": "4853ab4d",
   "metadata": {},
   "outputs": [],
   "source": [
    "model.compile(loss = 'categorical_crossentropy',\n",
    "             optimizer='nadam',\n",
    "             metrics=['accuracy'])"
   ]
  },
  {
   "cell_type": "markdown",
   "id": "22b21c05",
   "metadata": {},
   "source": [
    "## 4. 모델 학습"
   ]
  },
  {
   "cell_type": "code",
   "execution_count": 112,
   "id": "3b66d715",
   "metadata": {},
   "outputs": [
    {
     "name": "stdout",
     "output_type": "stream",
     "text": [
      "Epoch 1/300\n",
      "19/19 [==============================] - 1s 12ms/step - loss: 1.0485 - accuracy: 0.3467 - val_loss: 0.8010 - val_accuracy: 0.3300\n",
      "Epoch 2/300\n",
      "19/19 [==============================] - 0s 4ms/step - loss: 0.7996 - accuracy: 0.3617 - val_loss: 0.7091 - val_accuracy: 0.3300\n",
      "Epoch 3/300\n",
      "19/19 [==============================] - 0s 4ms/step - loss: 0.7225 - accuracy: 0.4767 - val_loss: 0.6770 - val_accuracy: 0.6700\n",
      "Epoch 4/300\n",
      "19/19 [==============================] - 0s 3ms/step - loss: 0.6951 - accuracy: 0.5150 - val_loss: 0.6587 - val_accuracy: 0.6700\n",
      "Epoch 5/300\n",
      "19/19 [==============================] - 0s 3ms/step - loss: 0.6673 - accuracy: 0.6100 - val_loss: 0.6476 - val_accuracy: 0.6700\n",
      "Epoch 6/300\n",
      "19/19 [==============================] - 0s 3ms/step - loss: 0.6628 - accuracy: 0.6283 - val_loss: 0.6415 - val_accuracy: 0.6700\n",
      "Epoch 7/300\n",
      "19/19 [==============================] - 0s 3ms/step - loss: 0.6548 - accuracy: 0.6383 - val_loss: 0.6377 - val_accuracy: 0.6700\n",
      "Epoch 8/300\n",
      "19/19 [==============================] - 0s 4ms/step - loss: 0.6516 - accuracy: 0.6500 - val_loss: 0.6360 - val_accuracy: 0.6700\n",
      "Epoch 9/300\n",
      "19/19 [==============================] - 0s 3ms/step - loss: 0.6524 - accuracy: 0.6450 - val_loss: 0.6350 - val_accuracy: 0.6700\n",
      "Epoch 10/300\n",
      "19/19 [==============================] - 0s 4ms/step - loss: 0.6507 - accuracy: 0.6417 - val_loss: 0.6345 - val_accuracy: 0.6700\n",
      "Epoch 11/300\n",
      "19/19 [==============================] - 0s 3ms/step - loss: 0.6460 - accuracy: 0.6500 - val_loss: 0.6330 - val_accuracy: 0.6700\n",
      "Epoch 12/300\n",
      "19/19 [==============================] - 0s 3ms/step - loss: 0.6450 - accuracy: 0.6500 - val_loss: 0.6333 - val_accuracy: 0.6700\n",
      "Epoch 13/300\n",
      "19/19 [==============================] - 0s 4ms/step - loss: 0.6446 - accuracy: 0.6433 - val_loss: 0.6329 - val_accuracy: 0.6700\n",
      "Epoch 14/300\n",
      "19/19 [==============================] - 0s 4ms/step - loss: 0.6551 - accuracy: 0.6483 - val_loss: 0.6317 - val_accuracy: 0.6700\n",
      "Epoch 15/300\n",
      "19/19 [==============================] - 0s 4ms/step - loss: 0.6470 - accuracy: 0.6550 - val_loss: 0.6327 - val_accuracy: 0.6700\n",
      "Epoch 16/300\n",
      "19/19 [==============================] - 0s 3ms/step - loss: 0.6507 - accuracy: 0.6533 - val_loss: 0.6329 - val_accuracy: 0.6700\n",
      "Epoch 17/300\n",
      "19/19 [==============================] - 0s 4ms/step - loss: 0.6470 - accuracy: 0.6500 - val_loss: 0.6327 - val_accuracy: 0.6700\n",
      "Epoch 18/300\n",
      "19/19 [==============================] - 0s 4ms/step - loss: 0.6483 - accuracy: 0.6483 - val_loss: 0.6333 - val_accuracy: 0.6700\n",
      "Epoch 19/300\n",
      "19/19 [==============================] - 0s 4ms/step - loss: 0.6443 - accuracy: 0.6467 - val_loss: 0.6282 - val_accuracy: 0.6700\n",
      "Epoch 20/300\n",
      "19/19 [==============================] - 0s 4ms/step - loss: 0.6453 - accuracy: 0.6450 - val_loss: 0.6272 - val_accuracy: 0.6700\n",
      "Epoch 21/300\n",
      "19/19 [==============================] - 0s 4ms/step - loss: 0.6438 - accuracy: 0.6567 - val_loss: 0.6268 - val_accuracy: 0.6700\n",
      "Epoch 22/300\n",
      "19/19 [==============================] - 0s 4ms/step - loss: 0.6444 - accuracy: 0.6483 - val_loss: 0.6263 - val_accuracy: 0.6700\n",
      "Epoch 23/300\n",
      "19/19 [==============================] - 0s 4ms/step - loss: 0.6412 - accuracy: 0.6450 - val_loss: 0.6271 - val_accuracy: 0.6700\n",
      "Epoch 24/300\n",
      "19/19 [==============================] - 0s 4ms/step - loss: 0.6468 - accuracy: 0.6550 - val_loss: 0.6299 - val_accuracy: 0.6700\n",
      "Epoch 25/300\n",
      "19/19 [==============================] - 0s 3ms/step - loss: 0.6404 - accuracy: 0.6483 - val_loss: 0.6280 - val_accuracy: 0.6700\n",
      "Epoch 26/300\n",
      "19/19 [==============================] - 0s 4ms/step - loss: 0.6463 - accuracy: 0.6417 - val_loss: 0.6303 - val_accuracy: 0.6700\n",
      "Epoch 27/300\n",
      "19/19 [==============================] - 0s 4ms/step - loss: 0.6399 - accuracy: 0.6550 - val_loss: 0.6297 - val_accuracy: 0.6700\n",
      "Epoch 28/300\n",
      "19/19 [==============================] - 0s 4ms/step - loss: 0.6420 - accuracy: 0.6500 - val_loss: 0.6286 - val_accuracy: 0.6700\n",
      "Epoch 29/300\n",
      "19/19 [==============================] - 0s 4ms/step - loss: 0.6380 - accuracy: 0.6550 - val_loss: 0.6271 - val_accuracy: 0.6700\n",
      "Epoch 30/300\n",
      "19/19 [==============================] - 0s 4ms/step - loss: 0.6424 - accuracy: 0.6417 - val_loss: 0.6277 - val_accuracy: 0.6700\n",
      "Epoch 31/300\n",
      "19/19 [==============================] - 0s 4ms/step - loss: 0.6457 - accuracy: 0.6483 - val_loss: 0.6226 - val_accuracy: 0.6700\n",
      "Epoch 32/300\n",
      "19/19 [==============================] - 0s 4ms/step - loss: 0.6420 - accuracy: 0.6400 - val_loss: 0.6334 - val_accuracy: 0.6700\n",
      "Epoch 33/300\n",
      "19/19 [==============================] - 0s 5ms/step - loss: 0.6379 - accuracy: 0.6400 - val_loss: 0.6325 - val_accuracy: 0.6700\n",
      "Epoch 34/300\n",
      "19/19 [==============================] - 0s 4ms/step - loss: 0.6360 - accuracy: 0.6517 - val_loss: 0.6310 - val_accuracy: 0.6700\n",
      "Epoch 35/300\n",
      "19/19 [==============================] - 0s 4ms/step - loss: 0.6317 - accuracy: 0.6483 - val_loss: 0.6301 - val_accuracy: 0.6700\n",
      "Epoch 36/300\n",
      "19/19 [==============================] - 0s 4ms/step - loss: 0.6287 - accuracy: 0.6567 - val_loss: 0.6304 - val_accuracy: 0.6700\n",
      "Epoch 37/300\n",
      "19/19 [==============================] - 0s 4ms/step - loss: 0.6288 - accuracy: 0.6600 - val_loss: 0.6243 - val_accuracy: 0.6700\n",
      "Epoch 38/300\n",
      "19/19 [==============================] - 0s 3ms/step - loss: 0.6270 - accuracy: 0.6483 - val_loss: 0.6265 - val_accuracy: 0.6700\n",
      "Epoch 39/300\n",
      "19/19 [==============================] - 0s 3ms/step - loss: 0.6263 - accuracy: 0.6550 - val_loss: 0.6319 - val_accuracy: 0.6700\n",
      "Epoch 40/300\n",
      "19/19 [==============================] - 0s 3ms/step - loss: 0.6293 - accuracy: 0.6533 - val_loss: 0.6269 - val_accuracy: 0.6700\n",
      "Epoch 41/300\n",
      "19/19 [==============================] - 0s 3ms/step - loss: 0.6217 - accuracy: 0.6567 - val_loss: 0.6267 - val_accuracy: 0.6700\n",
      "Epoch 42/300\n",
      "19/19 [==============================] - 0s 3ms/step - loss: 0.6308 - accuracy: 0.6567 - val_loss: 0.6280 - val_accuracy: 0.6700\n",
      "Epoch 43/300\n",
      "19/19 [==============================] - 0s 3ms/step - loss: 0.6280 - accuracy: 0.6600 - val_loss: 0.6246 - val_accuracy: 0.6700\n",
      "Epoch 44/300\n",
      "19/19 [==============================] - 0s 4ms/step - loss: 0.6254 - accuracy: 0.6517 - val_loss: 0.6229 - val_accuracy: 0.6800\n",
      "Epoch 45/300\n",
      "19/19 [==============================] - 0s 4ms/step - loss: 0.6186 - accuracy: 0.6567 - val_loss: 0.6218 - val_accuracy: 0.6700\n",
      "Epoch 46/300\n",
      "19/19 [==============================] - 0s 4ms/step - loss: 0.6252 - accuracy: 0.6517 - val_loss: 0.6239 - val_accuracy: 0.6600\n",
      "Epoch 47/300\n",
      "19/19 [==============================] - 0s 4ms/step - loss: 0.6063 - accuracy: 0.6683 - val_loss: 0.6271 - val_accuracy: 0.6600\n",
      "Epoch 48/300\n",
      "19/19 [==============================] - 0s 3ms/step - loss: 0.6105 - accuracy: 0.6650 - val_loss: 0.6259 - val_accuracy: 0.7000\n",
      "Epoch 49/300\n",
      "19/19 [==============================] - 0s 3ms/step - loss: 0.6117 - accuracy: 0.6533 - val_loss: 0.6283 - val_accuracy: 0.6600\n",
      "Epoch 50/300\n",
      "19/19 [==============================] - 0s 3ms/step - loss: 0.6146 - accuracy: 0.6667 - val_loss: 0.6295 - val_accuracy: 0.5900\n",
      "Epoch 51/300\n",
      "19/19 [==============================] - 0s 4ms/step - loss: 0.6100 - accuracy: 0.6733 - val_loss: 0.6203 - val_accuracy: 0.6800\n",
      "Epoch 52/300\n",
      "19/19 [==============================] - 0s 4ms/step - loss: 0.6019 - accuracy: 0.6417 - val_loss: 0.6051 - val_accuracy: 0.7000\n",
      "Epoch 53/300\n",
      "19/19 [==============================] - 0s 4ms/step - loss: 0.6047 - accuracy: 0.6700 - val_loss: 0.6213 - val_accuracy: 0.6400\n",
      "Epoch 54/300\n",
      "19/19 [==============================] - 0s 5ms/step - loss: 0.6154 - accuracy: 0.6683 - val_loss: 0.6091 - val_accuracy: 0.7100\n",
      "Epoch 55/300\n",
      "19/19 [==============================] - 0s 4ms/step - loss: 0.6188 - accuracy: 0.6567 - val_loss: 0.6257 - val_accuracy: 0.6400\n",
      "Epoch 56/300\n",
      "19/19 [==============================] - 0s 4ms/step - loss: 0.5974 - accuracy: 0.6517 - val_loss: 0.6153 - val_accuracy: 0.6800\n",
      "Epoch 57/300\n",
      "19/19 [==============================] - 0s 4ms/step - loss: 0.6111 - accuracy: 0.6650 - val_loss: 0.6106 - val_accuracy: 0.7100\n",
      "Epoch 58/300\n",
      "19/19 [==============================] - 0s 4ms/step - loss: 0.6015 - accuracy: 0.6550 - val_loss: 0.6250 - val_accuracy: 0.6500\n"
     ]
    },
    {
     "name": "stdout",
     "output_type": "stream",
     "text": [
      "Epoch 59/300\n",
      "19/19 [==============================] - 0s 4ms/step - loss: 0.5987 - accuracy: 0.6783 - val_loss: 0.6216 - val_accuracy: 0.6600\n",
      "Epoch 60/300\n",
      "19/19 [==============================] - 0s 4ms/step - loss: 0.6037 - accuracy: 0.6650 - val_loss: 0.6088 - val_accuracy: 0.7100\n",
      "Epoch 61/300\n",
      "19/19 [==============================] - 0s 3ms/step - loss: 0.6036 - accuracy: 0.6667 - val_loss: 0.6146 - val_accuracy: 0.6500\n",
      "Epoch 62/300\n",
      "19/19 [==============================] - 0s 4ms/step - loss: 0.6070 - accuracy: 0.6633 - val_loss: 0.6215 - val_accuracy: 0.5600\n",
      "Epoch 63/300\n",
      "19/19 [==============================] - 0s 4ms/step - loss: 0.6059 - accuracy: 0.6333 - val_loss: 0.6238 - val_accuracy: 0.5500\n",
      "Epoch 64/300\n",
      "19/19 [==============================] - 0s 4ms/step - loss: 0.5946 - accuracy: 0.6450 - val_loss: 0.6211 - val_accuracy: 0.5800\n",
      "Epoch 65/300\n",
      "19/19 [==============================] - 0s 4ms/step - loss: 0.5946 - accuracy: 0.6583 - val_loss: 0.6228 - val_accuracy: 0.5900\n",
      "Epoch 66/300\n",
      "19/19 [==============================] - 0s 4ms/step - loss: 0.6000 - accuracy: 0.6550 - val_loss: 0.6287 - val_accuracy: 0.6800\n",
      "Epoch 67/300\n",
      "19/19 [==============================] - 0s 4ms/step - loss: 0.6027 - accuracy: 0.6733 - val_loss: 0.6214 - val_accuracy: 0.6600\n",
      "Epoch 68/300\n",
      "19/19 [==============================] - 0s 4ms/step - loss: 0.6028 - accuracy: 0.6583 - val_loss: 0.6271 - val_accuracy: 0.6400\n",
      "Epoch 69/300\n",
      "19/19 [==============================] - 0s 4ms/step - loss: 0.6113 - accuracy: 0.6533 - val_loss: 0.6083 - val_accuracy: 0.6700\n",
      "Epoch 70/300\n",
      "19/19 [==============================] - 0s 3ms/step - loss: 0.6061 - accuracy: 0.6683 - val_loss: 0.6139 - val_accuracy: 0.6400\n",
      "Epoch 71/300\n",
      "19/19 [==============================] - 0s 3ms/step - loss: 0.5954 - accuracy: 0.6767 - val_loss: 0.6194 - val_accuracy: 0.5700\n",
      "Epoch 72/300\n",
      "19/19 [==============================] - 0s 4ms/step - loss: 0.5934 - accuracy: 0.6883 - val_loss: 0.6182 - val_accuracy: 0.6400\n",
      "Epoch 73/300\n",
      "19/19 [==============================] - 0s 3ms/step - loss: 0.5962 - accuracy: 0.6650 - val_loss: 0.6170 - val_accuracy: 0.6400\n",
      "Epoch 74/300\n",
      "19/19 [==============================] - 0s 3ms/step - loss: 0.5974 - accuracy: 0.6683 - val_loss: 0.6226 - val_accuracy: 0.6100\n",
      "Epoch 75/300\n",
      "19/19 [==============================] - 0s 4ms/step - loss: 0.5965 - accuracy: 0.6517 - val_loss: 0.6177 - val_accuracy: 0.6100\n",
      "Epoch 76/300\n",
      "19/19 [==============================] - 0s 4ms/step - loss: 0.5979 - accuracy: 0.6833 - val_loss: 0.6116 - val_accuracy: 0.6100\n",
      "Epoch 77/300\n",
      "19/19 [==============================] - 0s 4ms/step - loss: 0.5989 - accuracy: 0.6633 - val_loss: 0.6271 - val_accuracy: 0.5600\n",
      "Epoch 78/300\n",
      "19/19 [==============================] - 0s 4ms/step - loss: 0.5863 - accuracy: 0.6783 - val_loss: 0.6131 - val_accuracy: 0.6500\n",
      "Epoch 79/300\n",
      "19/19 [==============================] - 0s 3ms/step - loss: 0.5952 - accuracy: 0.6467 - val_loss: 0.6217 - val_accuracy: 0.5600\n",
      "Epoch 80/300\n",
      "19/19 [==============================] - 0s 3ms/step - loss: 0.5965 - accuracy: 0.6500 - val_loss: 0.6255 - val_accuracy: 0.5500\n",
      "Epoch 81/300\n",
      "19/19 [==============================] - 0s 4ms/step - loss: 0.5805 - accuracy: 0.6783 - val_loss: 0.6228 - val_accuracy: 0.5900\n",
      "Epoch 82/300\n",
      "19/19 [==============================] - 0s 4ms/step - loss: 0.5851 - accuracy: 0.6883 - val_loss: 0.6156 - val_accuracy: 0.6100\n",
      "Epoch 83/300\n",
      "19/19 [==============================] - 0s 4ms/step - loss: 0.6016 - accuracy: 0.6667 - val_loss: 0.6267 - val_accuracy: 0.5700\n",
      "Epoch 84/300\n",
      "19/19 [==============================] - 0s 4ms/step - loss: 0.5776 - accuracy: 0.6833 - val_loss: 0.6197 - val_accuracy: 0.6000\n",
      "Epoch 85/300\n",
      "19/19 [==============================] - 0s 3ms/step - loss: 0.5890 - accuracy: 0.6750 - val_loss: 0.6127 - val_accuracy: 0.6000\n",
      "Epoch 86/300\n",
      "19/19 [==============================] - 0s 3ms/step - loss: 0.5878 - accuracy: 0.6817 - val_loss: 0.6120 - val_accuracy: 0.6200\n",
      "Epoch 87/300\n",
      "19/19 [==============================] - 0s 3ms/step - loss: 0.5906 - accuracy: 0.6767 - val_loss: 0.6098 - val_accuracy: 0.6100\n",
      "Epoch 88/300\n",
      "19/19 [==============================] - 0s 3ms/step - loss: 0.5935 - accuracy: 0.6783 - val_loss: 0.6201 - val_accuracy: 0.5500\n",
      "Epoch 89/300\n",
      "19/19 [==============================] - 0s 3ms/step - loss: 0.6121 - accuracy: 0.6500 - val_loss: 0.6132 - val_accuracy: 0.5500\n",
      "Epoch 90/300\n",
      "19/19 [==============================] - 0s 4ms/step - loss: 0.5794 - accuracy: 0.6767 - val_loss: 0.6106 - val_accuracy: 0.6300\n",
      "Epoch 91/300\n",
      "19/19 [==============================] - 0s 3ms/step - loss: 0.5944 - accuracy: 0.6600 - val_loss: 0.6043 - val_accuracy: 0.5700\n",
      "Epoch 92/300\n",
      "19/19 [==============================] - 0s 5ms/step - loss: 0.5911 - accuracy: 0.6833 - val_loss: 0.6058 - val_accuracy: 0.5500\n",
      "Epoch 93/300\n",
      "19/19 [==============================] - 0s 4ms/step - loss: 0.5837 - accuracy: 0.7017 - val_loss: 0.6203 - val_accuracy: 0.5400\n",
      "Epoch 94/300\n",
      "19/19 [==============================] - 0s 4ms/step - loss: 0.5841 - accuracy: 0.6850 - val_loss: 0.6222 - val_accuracy: 0.5400\n",
      "Epoch 95/300\n",
      "19/19 [==============================] - 0s 4ms/step - loss: 0.5812 - accuracy: 0.6767 - val_loss: 0.6176 - val_accuracy: 0.5600\n",
      "Epoch 96/300\n",
      "19/19 [==============================] - 0s 4ms/step - loss: 0.5829 - accuracy: 0.6950 - val_loss: 0.6144 - val_accuracy: 0.6600\n",
      "Epoch 97/300\n",
      "19/19 [==============================] - 0s 4ms/step - loss: 0.5779 - accuracy: 0.6817 - val_loss: 0.6185 - val_accuracy: 0.6100\n",
      "Epoch 98/300\n",
      "19/19 [==============================] - 0s 4ms/step - loss: 0.5793 - accuracy: 0.6850 - val_loss: 0.6219 - val_accuracy: 0.5600\n",
      "Epoch 99/300\n",
      "19/19 [==============================] - 0s 3ms/step - loss: 0.5853 - accuracy: 0.6617 - val_loss: 0.6153 - val_accuracy: 0.5800\n",
      "Epoch 100/300\n",
      "19/19 [==============================] - 0s 4ms/step - loss: 0.5845 - accuracy: 0.7000 - val_loss: 0.6073 - val_accuracy: 0.5800\n",
      "Epoch 101/300\n",
      "19/19 [==============================] - 0s 4ms/step - loss: 0.5818 - accuracy: 0.6817 - val_loss: 0.6218 - val_accuracy: 0.5900\n",
      "Epoch 102/300\n",
      "19/19 [==============================] - 0s 4ms/step - loss: 0.5746 - accuracy: 0.6817 - val_loss: 0.6266 - val_accuracy: 0.5600\n",
      "Epoch 103/300\n",
      "19/19 [==============================] - 0s 4ms/step - loss: 0.5759 - accuracy: 0.6967 - val_loss: 0.6226 - val_accuracy: 0.5600\n",
      "Epoch 104/300\n",
      "19/19 [==============================] - 0s 4ms/step - loss: 0.5832 - accuracy: 0.6900 - val_loss: 0.6160 - val_accuracy: 0.6100\n",
      "Epoch 105/300\n",
      "19/19 [==============================] - 0s 4ms/step - loss: 0.5874 - accuracy: 0.6833 - val_loss: 0.6088 - val_accuracy: 0.5900\n",
      "Epoch 106/300\n",
      "19/19 [==============================] - 0s 4ms/step - loss: 0.5753 - accuracy: 0.6883 - val_loss: 0.6096 - val_accuracy: 0.5800\n",
      "Epoch 107/300\n",
      "19/19 [==============================] - 0s 3ms/step - loss: 0.5817 - accuracy: 0.6683 - val_loss: 0.6105 - val_accuracy: 0.5900\n",
      "Epoch 108/300\n",
      "19/19 [==============================] - 0s 3ms/step - loss: 0.5946 - accuracy: 0.6683 - val_loss: 0.6060 - val_accuracy: 0.6300\n",
      "Epoch 109/300\n",
      "19/19 [==============================] - 0s 4ms/step - loss: 0.5774 - accuracy: 0.6850 - val_loss: 0.6207 - val_accuracy: 0.6100\n",
      "Epoch 110/300\n",
      "19/19 [==============================] - 0s 4ms/step - loss: 0.5734 - accuracy: 0.7100 - val_loss: 0.5974 - val_accuracy: 0.6100\n",
      "Epoch 111/300\n",
      "19/19 [==============================] - 0s 4ms/step - loss: 0.5828 - accuracy: 0.6917 - val_loss: 0.6029 - val_accuracy: 0.5700\n",
      "Epoch 112/300\n",
      "19/19 [==============================] - 0s 3ms/step - loss: 0.5675 - accuracy: 0.7083 - val_loss: 0.6020 - val_accuracy: 0.5700\n",
      "Epoch 113/300\n",
      "19/19 [==============================] - 0s 4ms/step - loss: 0.5718 - accuracy: 0.6917 - val_loss: 0.6097 - val_accuracy: 0.6100\n",
      "Epoch 114/300\n",
      "19/19 [==============================] - 0s 4ms/step - loss: 0.5647 - accuracy: 0.7050 - val_loss: 0.6071 - val_accuracy: 0.5600\n",
      "Epoch 115/300\n",
      "19/19 [==============================] - 0s 4ms/step - loss: 0.5734 - accuracy: 0.6783 - val_loss: 0.6075 - val_accuracy: 0.5900\n",
      "Epoch 116/300\n",
      "19/19 [==============================] - 0s 4ms/step - loss: 0.5802 - accuracy: 0.6917 - val_loss: 0.6032 - val_accuracy: 0.6000\n",
      "Epoch 117/300\n",
      "19/19 [==============================] - 0s 4ms/step - loss: 0.5759 - accuracy: 0.6900 - val_loss: 0.5997 - val_accuracy: 0.6200\n",
      "Epoch 118/300\n",
      "19/19 [==============================] - 0s 3ms/step - loss: 0.5673 - accuracy: 0.7100 - val_loss: 0.6030 - val_accuracy: 0.6000\n",
      "Epoch 119/300\n",
      "19/19 [==============================] - 0s 3ms/step - loss: 0.5738 - accuracy: 0.6933 - val_loss: 0.6043 - val_accuracy: 0.6000\n",
      "Epoch 120/300\n",
      "19/19 [==============================] - 0s 3ms/step - loss: 0.5712 - accuracy: 0.7050 - val_loss: 0.6054 - val_accuracy: 0.6100\n",
      "Epoch 121/300\n",
      "19/19 [==============================] - 0s 3ms/step - loss: 0.5724 - accuracy: 0.6967 - val_loss: 0.6130 - val_accuracy: 0.5900\n",
      "Epoch 122/300\n",
      "19/19 [==============================] - 0s 4ms/step - loss: 0.5672 - accuracy: 0.7000 - val_loss: 0.6123 - val_accuracy: 0.6400\n",
      "Epoch 123/300\n",
      "19/19 [==============================] - 0s 4ms/step - loss: 0.5735 - accuracy: 0.6933 - val_loss: 0.6119 - val_accuracy: 0.5900\n",
      "Epoch 124/300\n",
      "19/19 [==============================] - 0s 4ms/step - loss: 0.5788 - accuracy: 0.6883 - val_loss: 0.6093 - val_accuracy: 0.5800\n",
      "Epoch 125/300\n",
      "19/19 [==============================] - 0s 3ms/step - loss: 0.5645 - accuracy: 0.7083 - val_loss: 0.6026 - val_accuracy: 0.5800\n",
      "Epoch 126/300\n",
      "19/19 [==============================] - 0s 4ms/step - loss: 0.5813 - accuracy: 0.6817 - val_loss: 0.5965 - val_accuracy: 0.5900\n",
      "Epoch 127/300\n",
      "19/19 [==============================] - 0s 4ms/step - loss: 0.5677 - accuracy: 0.6967 - val_loss: 0.5855 - val_accuracy: 0.6300\n",
      "Epoch 128/300\n",
      "19/19 [==============================] - 0s 3ms/step - loss: 0.5670 - accuracy: 0.6933 - val_loss: 0.5950 - val_accuracy: 0.6400\n",
      "Epoch 129/300\n",
      "19/19 [==============================] - 0s 4ms/step - loss: 0.5596 - accuracy: 0.7033 - val_loss: 0.5848 - val_accuracy: 0.6100\n",
      "Epoch 130/300\n",
      "19/19 [==============================] - 0s 3ms/step - loss: 0.5730 - accuracy: 0.6867 - val_loss: 0.5841 - val_accuracy: 0.6400\n",
      "Epoch 131/300\n",
      "19/19 [==============================] - 0s 3ms/step - loss: 0.5599 - accuracy: 0.7100 - val_loss: 0.5904 - val_accuracy: 0.5900\n",
      "Epoch 132/300\n",
      "19/19 [==============================] - 0s 4ms/step - loss: 0.5629 - accuracy: 0.6833 - val_loss: 0.5911 - val_accuracy: 0.6000\n",
      "Epoch 133/300\n",
      "19/19 [==============================] - 0s 4ms/step - loss: 0.5688 - accuracy: 0.6950 - val_loss: 0.5933 - val_accuracy: 0.6100\n",
      "Epoch 134/300\n",
      "19/19 [==============================] - 0s 4ms/step - loss: 0.5716 - accuracy: 0.7083 - val_loss: 0.5925 - val_accuracy: 0.6100\n",
      "Epoch 135/300\n",
      "19/19 [==============================] - 0s 3ms/step - loss: 0.5681 - accuracy: 0.6950 - val_loss: 0.5868 - val_accuracy: 0.6100\n",
      "Epoch 136/300\n",
      "19/19 [==============================] - 0s 4ms/step - loss: 0.5682 - accuracy: 0.7033 - val_loss: 0.5896 - val_accuracy: 0.5900\n",
      "Epoch 137/300\n",
      "19/19 [==============================] - 0s 4ms/step - loss: 0.5641 - accuracy: 0.6967 - val_loss: 0.5848 - val_accuracy: 0.6300\n",
      "Epoch 138/300\n",
      "19/19 [==============================] - 0s 4ms/step - loss: 0.5754 - accuracy: 0.6767 - val_loss: 0.5833 - val_accuracy: 0.6400\n",
      "Epoch 139/300\n",
      "19/19 [==============================] - 0s 4ms/step - loss: 0.5715 - accuracy: 0.6883 - val_loss: 0.5919 - val_accuracy: 0.6100\n",
      "Epoch 140/300\n",
      "19/19 [==============================] - 0s 4ms/step - loss: 0.5738 - accuracy: 0.6783 - val_loss: 0.5857 - val_accuracy: 0.6200\n",
      "Epoch 141/300\n",
      "19/19 [==============================] - 0s 4ms/step - loss: 0.5640 - accuracy: 0.7017 - val_loss: 0.5969 - val_accuracy: 0.6400\n",
      "Epoch 142/300\n",
      "19/19 [==============================] - 0s 4ms/step - loss: 0.5687 - accuracy: 0.6967 - val_loss: 0.5766 - val_accuracy: 0.6300\n",
      "Epoch 143/300\n",
      "19/19 [==============================] - 0s 4ms/step - loss: 0.5527 - accuracy: 0.6983 - val_loss: 0.5835 - val_accuracy: 0.6400\n",
      "Epoch 144/300\n",
      "19/19 [==============================] - 0s 4ms/step - loss: 0.5604 - accuracy: 0.7167 - val_loss: 0.5829 - val_accuracy: 0.6200\n",
      "Epoch 145/300\n",
      "19/19 [==============================] - 0s 4ms/step - loss: 0.5610 - accuracy: 0.7017 - val_loss: 0.5764 - val_accuracy: 0.6500\n",
      "Epoch 146/300\n",
      "19/19 [==============================] - 0s 4ms/step - loss: 0.5641 - accuracy: 0.7100 - val_loss: 0.5787 - val_accuracy: 0.6300\n",
      "Epoch 147/300\n",
      "19/19 [==============================] - 0s 4ms/step - loss: 0.5563 - accuracy: 0.7033 - val_loss: 0.5767 - val_accuracy: 0.6400\n",
      "Epoch 148/300\n",
      "19/19 [==============================] - 0s 3ms/step - loss: 0.5732 - accuracy: 0.7067 - val_loss: 0.5792 - val_accuracy: 0.6600\n",
      "Epoch 149/300\n",
      "19/19 [==============================] - 0s 4ms/step - loss: 0.5629 - accuracy: 0.6983 - val_loss: 0.5727 - val_accuracy: 0.6500\n",
      "Epoch 150/300\n",
      "19/19 [==============================] - 0s 3ms/step - loss: 0.5604 - accuracy: 0.7017 - val_loss: 0.5899 - val_accuracy: 0.6400\n",
      "Epoch 151/300\n",
      "19/19 [==============================] - 0s 3ms/step - loss: 0.5697 - accuracy: 0.6733 - val_loss: 0.5815 - val_accuracy: 0.6500\n",
      "Epoch 152/300\n",
      "19/19 [==============================] - 0s 4ms/step - loss: 0.5605 - accuracy: 0.7133 - val_loss: 0.5773 - val_accuracy: 0.6500\n",
      "Epoch 153/300\n",
      "19/19 [==============================] - 0s 4ms/step - loss: 0.5689 - accuracy: 0.6883 - val_loss: 0.5779 - val_accuracy: 0.6600\n",
      "Epoch 154/300\n",
      "19/19 [==============================] - 0s 4ms/step - loss: 0.5650 - accuracy: 0.6817 - val_loss: 0.5736 - val_accuracy: 0.6500\n",
      "Epoch 155/300\n",
      "19/19 [==============================] - 0s 4ms/step - loss: 0.5623 - accuracy: 0.7000 - val_loss: 0.5729 - val_accuracy: 0.6500\n",
      "Epoch 156/300\n",
      "19/19 [==============================] - 0s 4ms/step - loss: 0.5632 - accuracy: 0.7017 - val_loss: 0.5699 - val_accuracy: 0.6500\n",
      "Epoch 157/300\n",
      "19/19 [==============================] - 0s 4ms/step - loss: 0.5639 - accuracy: 0.6800 - val_loss: 0.5762 - val_accuracy: 0.6500\n",
      "Epoch 158/300\n",
      "19/19 [==============================] - 0s 4ms/step - loss: 0.5621 - accuracy: 0.7000 - val_loss: 0.5742 - val_accuracy: 0.6500\n",
      "Epoch 159/300\n",
      "19/19 [==============================] - 0s 4ms/step - loss: 0.5478 - accuracy: 0.7050 - val_loss: 0.5735 - val_accuracy: 0.6500\n",
      "Epoch 160/300\n",
      "19/19 [==============================] - 0s 3ms/step - loss: 0.5689 - accuracy: 0.6917 - val_loss: 0.5730 - val_accuracy: 0.6600\n",
      "Epoch 161/300\n",
      "19/19 [==============================] - 0s 4ms/step - loss: 0.5450 - accuracy: 0.7083 - val_loss: 0.5671 - val_accuracy: 0.6600\n",
      "Epoch 162/300\n",
      "19/19 [==============================] - 0s 3ms/step - loss: 0.5661 - accuracy: 0.6967 - val_loss: 0.5720 - val_accuracy: 0.6800\n",
      "Epoch 163/300\n",
      "19/19 [==============================] - 0s 4ms/step - loss: 0.5574 - accuracy: 0.6967 - val_loss: 0.5784 - val_accuracy: 0.6400\n",
      "Epoch 164/300\n",
      "19/19 [==============================] - 0s 4ms/step - loss: 0.5536 - accuracy: 0.7133 - val_loss: 0.5730 - val_accuracy: 0.6600\n",
      "Epoch 165/300\n",
      "19/19 [==============================] - 0s 4ms/step - loss: 0.5477 - accuracy: 0.7167 - val_loss: 0.5684 - val_accuracy: 0.6500\n",
      "Epoch 166/300\n",
      "19/19 [==============================] - 0s 4ms/step - loss: 0.5607 - accuracy: 0.6933 - val_loss: 0.5718 - val_accuracy: 0.6500\n",
      "Epoch 167/300\n",
      "19/19 [==============================] - 0s 4ms/step - loss: 0.5540 - accuracy: 0.7017 - val_loss: 0.5748 - val_accuracy: 0.6300\n",
      "Epoch 168/300\n",
      "19/19 [==============================] - 0s 4ms/step - loss: 0.5576 - accuracy: 0.7133 - val_loss: 0.5807 - val_accuracy: 0.6400\n",
      "Epoch 169/300\n",
      "19/19 [==============================] - 0s 3ms/step - loss: 0.5595 - accuracy: 0.7217 - val_loss: 0.5754 - val_accuracy: 0.6500\n",
      "Epoch 170/300\n",
      "19/19 [==============================] - 0s 3ms/step - loss: 0.5692 - accuracy: 0.6817 - val_loss: 0.5795 - val_accuracy: 0.6600\n",
      "Epoch 171/300\n",
      "19/19 [==============================] - 0s 4ms/step - loss: 0.5584 - accuracy: 0.7067 - val_loss: 0.5830 - val_accuracy: 0.6300\n",
      "Epoch 172/300\n",
      "19/19 [==============================] - 0s 4ms/step - loss: 0.5552 - accuracy: 0.7050 - val_loss: 0.5761 - val_accuracy: 0.6400\n",
      "Epoch 173/300\n"
     ]
    },
    {
     "name": "stdout",
     "output_type": "stream",
     "text": [
      "19/19 [==============================] - 0s 3ms/step - loss: 0.5459 - accuracy: 0.7267 - val_loss: 0.5767 - val_accuracy: 0.6600\n",
      "Epoch 174/300\n",
      "19/19 [==============================] - 0s 4ms/step - loss: 0.5520 - accuracy: 0.7200 - val_loss: 0.5813 - val_accuracy: 0.6500\n",
      "Epoch 175/300\n",
      "19/19 [==============================] - 0s 4ms/step - loss: 0.5489 - accuracy: 0.7200 - val_loss: 0.5766 - val_accuracy: 0.6400\n",
      "Epoch 176/300\n",
      "19/19 [==============================] - 0s 4ms/step - loss: 0.5485 - accuracy: 0.7167 - val_loss: 0.5768 - val_accuracy: 0.6300\n",
      "Epoch 177/300\n",
      "19/19 [==============================] - 0s 4ms/step - loss: 0.5499 - accuracy: 0.7067 - val_loss: 0.5767 - val_accuracy: 0.6500\n",
      "Epoch 178/300\n",
      "19/19 [==============================] - 0s 4ms/step - loss: 0.5366 - accuracy: 0.7183 - val_loss: 0.5792 - val_accuracy: 0.6600\n",
      "Epoch 179/300\n",
      "19/19 [==============================] - 0s 4ms/step - loss: 0.5645 - accuracy: 0.7017 - val_loss: 0.5818 - val_accuracy: 0.6600\n",
      "Epoch 180/300\n",
      "19/19 [==============================] - 0s 4ms/step - loss: 0.5583 - accuracy: 0.7017 - val_loss: 0.5771 - val_accuracy: 0.7000\n",
      "Epoch 181/300\n",
      "19/19 [==============================] - 0s 4ms/step - loss: 0.5561 - accuracy: 0.7133 - val_loss: 0.5727 - val_accuracy: 0.7100\n",
      "Epoch 182/300\n",
      "19/19 [==============================] - 0s 3ms/step - loss: 0.5593 - accuracy: 0.6750 - val_loss: 0.5784 - val_accuracy: 0.6400\n",
      "Epoch 183/300\n",
      "19/19 [==============================] - 0s 4ms/step - loss: 0.5438 - accuracy: 0.7200 - val_loss: 0.5751 - val_accuracy: 0.6700\n",
      "Epoch 184/300\n",
      "19/19 [==============================] - 0s 4ms/step - loss: 0.5427 - accuracy: 0.7083 - val_loss: 0.5765 - val_accuracy: 0.6500\n",
      "Epoch 185/300\n",
      "19/19 [==============================] - 0s 5ms/step - loss: 0.5383 - accuracy: 0.7200 - val_loss: 0.5785 - val_accuracy: 0.6400\n",
      "Epoch 186/300\n",
      "19/19 [==============================] - 0s 4ms/step - loss: 0.5453 - accuracy: 0.7200 - val_loss: 0.5826 - val_accuracy: 0.6500\n",
      "Epoch 187/300\n",
      "19/19 [==============================] - 0s 4ms/step - loss: 0.5348 - accuracy: 0.7400 - val_loss: 0.5756 - val_accuracy: 0.6600\n",
      "Epoch 188/300\n",
      "19/19 [==============================] - 0s 4ms/step - loss: 0.5577 - accuracy: 0.7250 - val_loss: 0.5626 - val_accuracy: 0.7100\n",
      "Epoch 189/300\n",
      "19/19 [==============================] - 0s 4ms/step - loss: 0.5482 - accuracy: 0.7033 - val_loss: 0.5602 - val_accuracy: 0.7500\n",
      "Epoch 190/300\n",
      "19/19 [==============================] - 0s 4ms/step - loss: 0.5330 - accuracy: 0.7267 - val_loss: 0.5702 - val_accuracy: 0.7200\n",
      "Epoch 191/300\n",
      "19/19 [==============================] - 0s 4ms/step - loss: 0.5375 - accuracy: 0.7283 - val_loss: 0.5659 - val_accuracy: 0.7300\n",
      "Epoch 192/300\n",
      "19/19 [==============================] - 0s 4ms/step - loss: 0.5387 - accuracy: 0.7283 - val_loss: 0.5688 - val_accuracy: 0.7300\n",
      "Epoch 193/300\n",
      "19/19 [==============================] - 0s 3ms/step - loss: 0.5382 - accuracy: 0.7417 - val_loss: 0.5736 - val_accuracy: 0.6500\n",
      "Epoch 194/300\n",
      "19/19 [==============================] - 0s 4ms/step - loss: 0.5530 - accuracy: 0.7100 - val_loss: 0.5713 - val_accuracy: 0.6700\n",
      "Epoch 195/300\n",
      "19/19 [==============================] - 0s 4ms/step - loss: 0.5426 - accuracy: 0.7317 - val_loss: 0.5770 - val_accuracy: 0.6400\n",
      "Epoch 196/300\n",
      "19/19 [==============================] - 0s 3ms/step - loss: 0.5357 - accuracy: 0.7150 - val_loss: 0.5691 - val_accuracy: 0.6900\n",
      "Epoch 197/300\n",
      "19/19 [==============================] - 0s 3ms/step - loss: 0.5351 - accuracy: 0.7283 - val_loss: 0.5633 - val_accuracy: 0.6700\n",
      "Epoch 198/300\n",
      "19/19 [==============================] - 0s 3ms/step - loss: 0.5331 - accuracy: 0.7267 - val_loss: 0.5639 - val_accuracy: 0.7300\n",
      "Epoch 199/300\n",
      "19/19 [==============================] - 0s 4ms/step - loss: 0.5357 - accuracy: 0.7167 - val_loss: 0.5656 - val_accuracy: 0.6800\n",
      "Epoch 200/300\n",
      "19/19 [==============================] - 0s 4ms/step - loss: 0.5412 - accuracy: 0.6850 - val_loss: 0.5846 - val_accuracy: 0.6500\n",
      "Epoch 201/300\n",
      "19/19 [==============================] - 0s 4ms/step - loss: 0.5339 - accuracy: 0.7183 - val_loss: 0.5802 - val_accuracy: 0.6700\n",
      "Epoch 202/300\n",
      "19/19 [==============================] - 0s 3ms/step - loss: 0.5339 - accuracy: 0.7217 - val_loss: 0.5745 - val_accuracy: 0.6500\n",
      "Epoch 203/300\n",
      "19/19 [==============================] - 0s 4ms/step - loss: 0.5291 - accuracy: 0.7267 - val_loss: 0.5511 - val_accuracy: 0.7700\n",
      "Epoch 204/300\n",
      "19/19 [==============================] - 0s 5ms/step - loss: 0.5256 - accuracy: 0.7350 - val_loss: 0.5645 - val_accuracy: 0.7200\n",
      "Epoch 205/300\n",
      "19/19 [==============================] - 0s 4ms/step - loss: 0.5366 - accuracy: 0.7067 - val_loss: 0.5548 - val_accuracy: 0.6700\n",
      "Epoch 206/300\n",
      "19/19 [==============================] - 0s 4ms/step - loss: 0.5475 - accuracy: 0.7283 - val_loss: 0.5655 - val_accuracy: 0.7000\n",
      "Epoch 207/300\n",
      "19/19 [==============================] - 0s 4ms/step - loss: 0.5361 - accuracy: 0.7217 - val_loss: 0.5643 - val_accuracy: 0.6600\n",
      "Epoch 208/300\n",
      "19/19 [==============================] - 0s 4ms/step - loss: 0.5485 - accuracy: 0.7200 - val_loss: 0.5696 - val_accuracy: 0.7300\n",
      "Epoch 209/300\n",
      "19/19 [==============================] - 0s 4ms/step - loss: 0.5378 - accuracy: 0.7350 - val_loss: 0.5631 - val_accuracy: 0.6500\n",
      "Epoch 210/300\n",
      "19/19 [==============================] - 0s 4ms/step - loss: 0.5259 - accuracy: 0.7233 - val_loss: 0.5691 - val_accuracy: 0.6500\n",
      "Epoch 211/300\n",
      "19/19 [==============================] - 0s 4ms/step - loss: 0.5306 - accuracy: 0.7350 - val_loss: 0.5717 - val_accuracy: 0.6600\n",
      "Epoch 212/300\n",
      "19/19 [==============================] - 0s 4ms/step - loss: 0.5288 - accuracy: 0.7183 - val_loss: 0.5609 - val_accuracy: 0.6700\n",
      "Epoch 213/300\n",
      "19/19 [==============================] - 0s 4ms/step - loss: 0.5373 - accuracy: 0.7000 - val_loss: 0.5701 - val_accuracy: 0.7100\n",
      "Epoch 214/300\n",
      "19/19 [==============================] - 0s 4ms/step - loss: 0.5364 - accuracy: 0.7200 - val_loss: 0.5627 - val_accuracy: 0.7300\n",
      "Epoch 215/300\n",
      "19/19 [==============================] - 0s 4ms/step - loss: 0.5448 - accuracy: 0.7167 - val_loss: 0.5528 - val_accuracy: 0.7500\n",
      "Epoch 216/300\n",
      "19/19 [==============================] - 0s 4ms/step - loss: 0.5403 - accuracy: 0.7300 - val_loss: 0.5584 - val_accuracy: 0.7300\n",
      "Epoch 217/300\n",
      "19/19 [==============================] - 0s 4ms/step - loss: 0.5504 - accuracy: 0.7000 - val_loss: 0.5686 - val_accuracy: 0.6900\n",
      "Epoch 218/300\n",
      "19/19 [==============================] - 0s 4ms/step - loss: 0.5161 - accuracy: 0.7367 - val_loss: 0.5605 - val_accuracy: 0.7100\n",
      "Epoch 219/300\n",
      "19/19 [==============================] - 0s 4ms/step - loss: 0.5226 - accuracy: 0.7100 - val_loss: 0.5680 - val_accuracy: 0.7200\n",
      "Epoch 220/300\n",
      "19/19 [==============================] - 0s 4ms/step - loss: 0.5178 - accuracy: 0.7400 - val_loss: 0.5717 - val_accuracy: 0.7000\n",
      "Epoch 221/300\n",
      "19/19 [==============================] - 0s 4ms/step - loss: 0.5164 - accuracy: 0.7450 - val_loss: 0.5540 - val_accuracy: 0.7000\n",
      "Epoch 222/300\n",
      "19/19 [==============================] - 0s 4ms/step - loss: 0.5348 - accuracy: 0.7133 - val_loss: 0.5769 - val_accuracy: 0.6600\n",
      "Epoch 223/300\n",
      "19/19 [==============================] - 0s 3ms/step - loss: 0.5219 - accuracy: 0.7217 - val_loss: 0.5654 - val_accuracy: 0.6700\n",
      "Epoch 224/300\n",
      "19/19 [==============================] - 0s 3ms/step - loss: 0.5374 - accuracy: 0.7233 - val_loss: 0.5568 - val_accuracy: 0.6900\n",
      "Epoch 225/300\n",
      "19/19 [==============================] - 0s 4ms/step - loss: 0.5347 - accuracy: 0.7100 - val_loss: 0.5559 - val_accuracy: 0.7300\n",
      "Epoch 226/300\n",
      "19/19 [==============================] - 0s 4ms/step - loss: 0.5210 - accuracy: 0.7300 - val_loss: 0.5594 - val_accuracy: 0.7100\n",
      "Epoch 227/300\n",
      "19/19 [==============================] - 0s 4ms/step - loss: 0.5208 - accuracy: 0.7133 - val_loss: 0.5730 - val_accuracy: 0.7000\n",
      "Epoch 228/300\n",
      "19/19 [==============================] - 0s 4ms/step - loss: 0.5381 - accuracy: 0.7150 - val_loss: 0.5620 - val_accuracy: 0.7100\n",
      "Epoch 229/300\n",
      "19/19 [==============================] - 0s 3ms/step - loss: 0.5118 - accuracy: 0.7383 - val_loss: 0.5685 - val_accuracy: 0.7100\n",
      "Epoch 230/300\n",
      "19/19 [==============================] - 0s 4ms/step - loss: 0.5167 - accuracy: 0.7200 - val_loss: 0.5601 - val_accuracy: 0.6900\n",
      "Epoch 231/300\n",
      "19/19 [==============================] - 0s 4ms/step - loss: 0.5221 - accuracy: 0.7017 - val_loss: 0.5625 - val_accuracy: 0.7000\n",
      "Epoch 232/300\n",
      "19/19 [==============================] - 0s 3ms/step - loss: 0.5389 - accuracy: 0.7017 - val_loss: 0.5661 - val_accuracy: 0.7100\n",
      "Epoch 233/300\n",
      "19/19 [==============================] - 0s 3ms/step - loss: 0.5322 - accuracy: 0.7017 - val_loss: 0.5809 - val_accuracy: 0.7000\n",
      "Epoch 234/300\n",
      "19/19 [==============================] - 0s 3ms/step - loss: 0.5215 - accuracy: 0.7217 - val_loss: 0.5728 - val_accuracy: 0.6700\n",
      "Epoch 235/300\n",
      "19/19 [==============================] - 0s 3ms/step - loss: 0.5376 - accuracy: 0.7083 - val_loss: 0.5830 - val_accuracy: 0.6800\n",
      "Epoch 236/300\n",
      "19/19 [==============================] - 0s 3ms/step - loss: 0.5119 - accuracy: 0.7333 - val_loss: 0.5813 - val_accuracy: 0.6700\n",
      "Epoch 237/300\n",
      "19/19 [==============================] - 0s 4ms/step - loss: 0.5280 - accuracy: 0.7250 - val_loss: 0.5585 - val_accuracy: 0.7300\n",
      "Epoch 238/300\n",
      "19/19 [==============================] - 0s 3ms/step - loss: 0.5307 - accuracy: 0.7000 - val_loss: 0.5529 - val_accuracy: 0.6600\n",
      "Epoch 239/300\n",
      "19/19 [==============================] - 0s 3ms/step - loss: 0.5399 - accuracy: 0.7017 - val_loss: 0.5592 - val_accuracy: 0.6600\n",
      "Epoch 240/300\n",
      "19/19 [==============================] - 0s 4ms/step - loss: 0.5223 - accuracy: 0.7217 - val_loss: 0.5522 - val_accuracy: 0.6600\n",
      "Epoch 241/300\n",
      "19/19 [==============================] - 0s 4ms/step - loss: 0.5419 - accuracy: 0.7150 - val_loss: 0.5439 - val_accuracy: 0.6700\n",
      "Epoch 242/300\n",
      "19/19 [==============================] - 0s 4ms/step - loss: 0.5328 - accuracy: 0.7200 - val_loss: 0.5429 - val_accuracy: 0.6800\n",
      "Epoch 243/300\n",
      "19/19 [==============================] - 0s 4ms/step - loss: 0.5286 - accuracy: 0.7267 - val_loss: 0.5574 - val_accuracy: 0.6700\n",
      "Epoch 244/300\n",
      "19/19 [==============================] - 0s 4ms/step - loss: 0.5213 - accuracy: 0.7333 - val_loss: 0.5746 - val_accuracy: 0.6600\n",
      "Epoch 245/300\n",
      "19/19 [==============================] - 0s 4ms/step - loss: 0.5087 - accuracy: 0.7400 - val_loss: 0.5616 - val_accuracy: 0.6900\n",
      "Epoch 246/300\n",
      "19/19 [==============================] - 0s 4ms/step - loss: 0.5209 - accuracy: 0.7283 - val_loss: 0.5496 - val_accuracy: 0.7100\n",
      "Epoch 247/300\n",
      "19/19 [==============================] - 0s 4ms/step - loss: 0.5255 - accuracy: 0.7067 - val_loss: 0.5519 - val_accuracy: 0.7400\n",
      "Epoch 248/300\n",
      "19/19 [==============================] - 0s 4ms/step - loss: 0.5169 - accuracy: 0.7450 - val_loss: 0.5538 - val_accuracy: 0.7700\n",
      "Epoch 249/300\n",
      "19/19 [==============================] - 0s 3ms/step - loss: 0.5435 - accuracy: 0.6917 - val_loss: 0.5432 - val_accuracy: 0.7500\n",
      "Epoch 250/300\n",
      "19/19 [==============================] - 0s 3ms/step - loss: 0.5161 - accuracy: 0.7350 - val_loss: 0.5332 - val_accuracy: 0.7500\n",
      "Epoch 251/300\n",
      "19/19 [==============================] - 0s 3ms/step - loss: 0.5174 - accuracy: 0.7533 - val_loss: 0.5559 - val_accuracy: 0.6700\n",
      "Epoch 252/300\n",
      "19/19 [==============================] - 0s 4ms/step - loss: 0.5199 - accuracy: 0.7167 - val_loss: 0.5453 - val_accuracy: 0.7100\n",
      "Epoch 253/300\n",
      "19/19 [==============================] - 0s 3ms/step - loss: 0.5180 - accuracy: 0.7233 - val_loss: 0.5491 - val_accuracy: 0.6600\n",
      "Epoch 254/300\n",
      "19/19 [==============================] - 0s 4ms/step - loss: 0.5145 - accuracy: 0.7250 - val_loss: 0.5400 - val_accuracy: 0.6700\n",
      "Epoch 255/300\n",
      "19/19 [==============================] - 0s 3ms/step - loss: 0.5229 - accuracy: 0.7217 - val_loss: 0.5434 - val_accuracy: 0.6700\n",
      "Epoch 256/300\n",
      "19/19 [==============================] - 0s 3ms/step - loss: 0.5106 - accuracy: 0.7400 - val_loss: 0.5440 - val_accuracy: 0.6800\n",
      "Epoch 257/300\n",
      "19/19 [==============================] - 0s 3ms/step - loss: 0.5179 - accuracy: 0.7317 - val_loss: 0.5454 - val_accuracy: 0.6900\n",
      "Epoch 258/300\n",
      "19/19 [==============================] - 0s 4ms/step - loss: 0.5106 - accuracy: 0.7200 - val_loss: 0.5501 - val_accuracy: 0.6900\n",
      "Epoch 259/300\n",
      "19/19 [==============================] - 0s 3ms/step - loss: 0.5363 - accuracy: 0.7133 - val_loss: 0.5382 - val_accuracy: 0.7800\n",
      "Epoch 260/300\n",
      "19/19 [==============================] - 0s 3ms/step - loss: 0.5094 - accuracy: 0.7467 - val_loss: 0.5340 - val_accuracy: 0.7500\n",
      "Epoch 261/300\n",
      "19/19 [==============================] - 0s 3ms/step - loss: 0.5183 - accuracy: 0.7183 - val_loss: 0.5368 - val_accuracy: 0.7600\n",
      "Epoch 262/300\n",
      "19/19 [==============================] - 0s 4ms/step - loss: 0.5199 - accuracy: 0.7200 - val_loss: 0.5388 - val_accuracy: 0.7400\n",
      "Epoch 263/300\n",
      "19/19 [==============================] - 0s 4ms/step - loss: 0.5246 - accuracy: 0.7333 - val_loss: 0.5391 - val_accuracy: 0.7600\n",
      "Epoch 264/300\n",
      "19/19 [==============================] - 0s 4ms/step - loss: 0.5214 - accuracy: 0.7383 - val_loss: 0.5445 - val_accuracy: 0.7400\n",
      "Epoch 265/300\n",
      "19/19 [==============================] - 0s 4ms/step - loss: 0.5192 - accuracy: 0.7317 - val_loss: 0.5497 - val_accuracy: 0.7300\n",
      "Epoch 266/300\n",
      "19/19 [==============================] - 0s 4ms/step - loss: 0.5168 - accuracy: 0.7183 - val_loss: 0.5449 - val_accuracy: 0.7600\n",
      "Epoch 267/300\n",
      "19/19 [==============================] - 0s 4ms/step - loss: 0.5102 - accuracy: 0.7250 - val_loss: 0.5336 - val_accuracy: 0.7800\n",
      "Epoch 268/300\n",
      "19/19 [==============================] - 0s 4ms/step - loss: 0.5029 - accuracy: 0.7467 - val_loss: 0.5198 - val_accuracy: 0.7800\n",
      "Epoch 269/300\n",
      "19/19 [==============================] - 0s 3ms/step - loss: 0.5077 - accuracy: 0.7567 - val_loss: 0.5381 - val_accuracy: 0.7500\n",
      "Epoch 270/300\n",
      "19/19 [==============================] - 0s 3ms/step - loss: 0.5095 - accuracy: 0.7433 - val_loss: 0.5417 - val_accuracy: 0.7400\n",
      "Epoch 271/300\n",
      "19/19 [==============================] - 0s 4ms/step - loss: 0.5217 - accuracy: 0.7300 - val_loss: 0.5342 - val_accuracy: 0.7000\n",
      "Epoch 272/300\n",
      "19/19 [==============================] - 0s 3ms/step - loss: 0.5270 - accuracy: 0.7117 - val_loss: 0.5271 - val_accuracy: 0.7300\n",
      "Epoch 273/300\n",
      "19/19 [==============================] - 0s 3ms/step - loss: 0.5064 - accuracy: 0.7300 - val_loss: 0.5277 - val_accuracy: 0.7700\n",
      "Epoch 274/300\n",
      "19/19 [==============================] - 0s 4ms/step - loss: 0.5225 - accuracy: 0.7150 - val_loss: 0.5162 - val_accuracy: 0.7900\n",
      "Epoch 275/300\n",
      "19/19 [==============================] - 0s 4ms/step - loss: 0.4983 - accuracy: 0.7383 - val_loss: 0.5244 - val_accuracy: 0.7800\n",
      "Epoch 276/300\n",
      "19/19 [==============================] - 0s 3ms/step - loss: 0.5142 - accuracy: 0.7300 - val_loss: 0.5306 - val_accuracy: 0.7800\n",
      "Epoch 277/300\n",
      "19/19 [==============================] - 0s 3ms/step - loss: 0.5091 - accuracy: 0.7200 - val_loss: 0.5368 - val_accuracy: 0.7300\n",
      "Epoch 278/300\n",
      "19/19 [==============================] - 0s 4ms/step - loss: 0.5122 - accuracy: 0.7300 - val_loss: 0.5338 - val_accuracy: 0.7400\n",
      "Epoch 279/300\n",
      "19/19 [==============================] - 0s 3ms/step - loss: 0.5132 - accuracy: 0.7333 - val_loss: 0.5310 - val_accuracy: 0.7500\n",
      "Epoch 280/300\n",
      "19/19 [==============================] - 0s 4ms/step - loss: 0.5031 - accuracy: 0.7433 - val_loss: 0.5338 - val_accuracy: 0.7600\n",
      "Epoch 281/300\n",
      "19/19 [==============================] - 0s 4ms/step - loss: 0.5064 - accuracy: 0.7400 - val_loss: 0.5451 - val_accuracy: 0.7100\n",
      "Epoch 282/300\n",
      "19/19 [==============================] - 0s 4ms/step - loss: 0.5102 - accuracy: 0.7383 - val_loss: 0.5442 - val_accuracy: 0.7200\n",
      "Epoch 283/300\n",
      "19/19 [==============================] - 0s 4ms/step - loss: 0.5084 - accuracy: 0.7433 - val_loss: 0.5563 - val_accuracy: 0.7200\n",
      "Epoch 284/300\n",
      "19/19 [==============================] - 0s 4ms/step - loss: 0.5062 - accuracy: 0.7250 - val_loss: 0.5465 - val_accuracy: 0.7200\n",
      "Epoch 285/300\n",
      "19/19 [==============================] - 0s 4ms/step - loss: 0.5075 - accuracy: 0.7267 - val_loss: 0.5393 - val_accuracy: 0.7200\n",
      "Epoch 286/300\n",
      "19/19 [==============================] - 0s 4ms/step - loss: 0.4935 - accuracy: 0.7483 - val_loss: 0.5340 - val_accuracy: 0.6900\n",
      "Epoch 287/300\n"
     ]
    },
    {
     "name": "stdout",
     "output_type": "stream",
     "text": [
      "19/19 [==============================] - 0s 3ms/step - loss: 0.4975 - accuracy: 0.7400 - val_loss: 0.5466 - val_accuracy: 0.7100\n",
      "Epoch 288/300\n",
      "19/19 [==============================] - 0s 4ms/step - loss: 0.5171 - accuracy: 0.7333 - val_loss: 0.5394 - val_accuracy: 0.7700\n",
      "Epoch 289/300\n",
      "19/19 [==============================] - 0s 3ms/step - loss: 0.5151 - accuracy: 0.7083 - val_loss: 0.5368 - val_accuracy: 0.7500\n",
      "Epoch 290/300\n",
      "19/19 [==============================] - 0s 4ms/step - loss: 0.4982 - accuracy: 0.7667 - val_loss: 0.5366 - val_accuracy: 0.7100\n",
      "Epoch 291/300\n",
      "19/19 [==============================] - 0s 4ms/step - loss: 0.5150 - accuracy: 0.7317 - val_loss: 0.5363 - val_accuracy: 0.7400\n",
      "Epoch 292/300\n",
      "19/19 [==============================] - 0s 4ms/step - loss: 0.5193 - accuracy: 0.7383 - val_loss: 0.5268 - val_accuracy: 0.7700\n",
      "Epoch 293/300\n",
      "19/19 [==============================] - 0s 4ms/step - loss: 0.4989 - accuracy: 0.7417 - val_loss: 0.5294 - val_accuracy: 0.7600\n",
      "Epoch 294/300\n",
      "19/19 [==============================] - 0s 4ms/step - loss: 0.5273 - accuracy: 0.7333 - val_loss: 0.5367 - val_accuracy: 0.7700\n",
      "Epoch 295/300\n",
      "19/19 [==============================] - 0s 4ms/step - loss: 0.5002 - accuracy: 0.7433 - val_loss: 0.5430 - val_accuracy: 0.7800\n",
      "Epoch 296/300\n",
      "19/19 [==============================] - 0s 4ms/step - loss: 0.5141 - accuracy: 0.7400 - val_loss: 0.5344 - val_accuracy: 0.7400\n",
      "Epoch 297/300\n",
      "19/19 [==============================] - 0s 4ms/step - loss: 0.4926 - accuracy: 0.7450 - val_loss: 0.5262 - val_accuracy: 0.7600\n",
      "Epoch 298/300\n",
      "19/19 [==============================] - 0s 4ms/step - loss: 0.5188 - accuracy: 0.7067 - val_loss: 0.5286 - val_accuracy: 0.7500\n",
      "Epoch 299/300\n",
      "19/19 [==============================] - 0s 3ms/step - loss: 0.5094 - accuracy: 0.7467 - val_loss: 0.5401 - val_accuracy: 0.7500\n",
      "Epoch 300/300\n",
      "19/19 [==============================] - 0s 3ms/step - loss: 0.4976 - accuracy: 0.7400 - val_loss: 0.5412 - val_accuracy: 0.7600\n"
     ]
    }
   ],
   "source": [
    "hist = model.fit(x_train, Y_train,\n",
    "                epochs=300,\n",
    "                validation_data=(x_val, Y_val),\n",
    "                verbose=1)"
   ]
  },
  {
   "cell_type": "code",
   "execution_count": 114,
   "id": "e7c17d37",
   "metadata": {},
   "outputs": [
    {
     "data": {
      "text/plain": [
       "[<matplotlib.lines.Line2D at 0x1e8dec27400>]"
      ]
     },
     "execution_count": 114,
     "metadata": {},
     "output_type": "execute_result"
    },
    {
     "data": {
      "image/png": "[encoded data removed]",
      "text/plain": [
       "<Figure size 1200x600 with 2 Axes>"
      ]
     },
     "metadata": {},
     "output_type": "display_data"
    }
   ],
   "source": [
    "fig, loss_ax = plt.subplots(figsize=(12,6))\n",
    "loss_ax.plot(hist.history['loss'],'y',label='train loss')\n",
    "loss_ax.plot(hist.history['val_loss'],'r',label='val loss')\n",
    "acc_ax = loss_ax.twinx()\n",
    "acc_ax.plot(hist.history['accuracy'],'g', label='train accuracy')\n",
    "acc_ax.plot(hist.history['val_accuracy'],'b', label='val accuracy')\n",
    "loss_ax.set_xlaber('epochs')\n",
    "loss_ax.set_ylaber('loss')\n",
    "acc_ax.set_xlaber('accuracy')\n",
    "loss_ax.legend(loc)"
   ]
  },
  {
   "cell_type": "markdown",
   "id": "dbf60b71",
   "metadata": {},
   "source": [
    "## 6. 모델 평가와 교차표"
   ]
  },
  {
   "cell_type": "code",
   "execution_count": 116,
   "id": "a66bd2d1",
   "metadata": {},
   "outputs": [
    {
     "name": "stdout",
     "output_type": "stream",
     "text": [
      "0.6134990453720093 0.75\n"
     ]
    }
   ],
   "source": [
    "loss, accuracy = model.evaluate(x_test, Y_test, verbose=0)\n",
    "print(loss, accuracy)"
   ]
  },
  {
   "cell_type": "code",
   "execution_count": 121,
   "id": "3aa30d06",
   "metadata": {},
   "outputs": [
    {
     "data": {
      "text/plain": [
       "array([0, 1, 1, 0, 0, 0, 1, 0, 1, 1, 0, 0, 1, 0, 0, 1, 1, 0, 0, 1, 0, 0,\n",
       "       1, 0, 0, 0, 0, 0, 0, 0, 1, 1, 1, 0, 0, 0, 0, 0, 0, 1, 1, 0, 0, 1,\n",
       "       0, 0, 1, 0, 1, 1, 1, 0, 0, 1, 1, 1, 0, 1, 0, 1, 0, 1, 0, 0, 0, 0,\n",
       "       1, 0], dtype=int64)"
      ]
     },
     "execution_count": 121,
     "metadata": {},
     "output_type": "execute_result"
    }
   ],
   "source": [
    "# 교차표\n",
    "Y_test.argmax(axis=1)"
   ]
  },
  {
   "cell_type": "code",
   "execution_count": 122,
   "id": "5f12a890",
   "metadata": {},
   "outputs": [
    {
     "name": "stdout",
     "output_type": "stream",
     "text": [
      "3/3 [==============================] - 0s 2ms/step\n"
     ]
    },
    {
     "data": {
      "text/plain": [
       "array([0, 0, 0, 0, 0, 0, 0, 0, 1, 0, 0, 0, 1, 0, 0, 1, 1, 0, 0, 0, 0, 0,\n",
       "       0, 0, 0, 0, 0, 0, 0, 0, 0, 0, 0, 0, 1, 0, 0, 0, 0, 0, 1, 0, 0, 0,\n",
       "       1, 0, 0, 0, 1, 1, 1, 0, 0, 0, 1, 0, 0, 1, 0, 1, 0, 1, 0, 1, 0, 0,\n",
       "       1, 0], dtype=int64)"
      ]
     },
     "execution_count": 122,
     "metadata": {},
     "output_type": "execute_result"
    }
   ],
   "source": [
    "y_hat = model.predict(x_test).argmax(axis=1)\n",
    "y_hat"
   ]
  },
  {
   "cell_type": "code",
   "execution_count": 123,
   "id": "720791a9",
   "metadata": {},
   "outputs": [
    {
     "data": {
      "text/html": [
       "<div>\n",
       "<style scoped>\n",
       "    .dataframe tbody tr th:only-of-type {\n",
       "        vertical-align: middle;\n",
       "    }\n",
       "\n",
       "    .dataframe tbody tr th {\n",
       "        vertical-align: top;\n",
       "    }\n",
       "\n",
       "    .dataframe thead th {\n",
       "        text-align: right;\n",
       "    }\n",
       "</style>\n",
       "<table border=\"1\" class=\"dataframe\">\n",
       "  <thead>\n",
       "    <tr style=\"text-align: right;\">\n",
       "      <th>예측값</th>\n",
       "      <th>0</th>\n",
       "      <th>1</th>\n",
       "    </tr>\n",
       "    <tr>\n",
       "      <th>실제값</th>\n",
       "      <th></th>\n",
       "      <th></th>\n",
       "    </tr>\n",
       "  </thead>\n",
       "  <tbody>\n",
       "    <tr>\n",
       "      <th>0.0</th>\n",
       "      <td>38</td>\n",
       "      <td>3</td>\n",
       "    </tr>\n",
       "    <tr>\n",
       "      <th>1.0</th>\n",
       "      <td>14</td>\n",
       "      <td>13</td>\n",
       "    </tr>\n",
       "  </tbody>\n",
       "</table>\n",
       "</div>"
      ],
      "text/plain": [
       "예측값   0   1\n",
       "실제값        \n",
       "0.0  38   3\n",
       "1.0  14  13"
      ]
     },
     "execution_count": 123,
     "metadata": {},
     "output_type": "execute_result"
    }
   ],
   "source": [
    "pd.crosstab(y_test, y_hat, rownames=['실제값'], colnames=['예측값'])"
   ]
  },
  {
   "cell_type": "code",
   "execution_count": 124,
   "id": "854cb1a6",
   "metadata": {},
   "outputs": [
    {
     "data": {
      "text/plain": [
       "array([[38,  3],\n",
       "       [14, 13]], dtype=int64)"
      ]
     },
     "execution_count": 124,
     "metadata": {},
     "output_type": "execute_result"
    }
   ],
   "source": [
    "confusion_matrix(y_test, y_hat)"
   ]
  },
  {
   "cell_type": "markdown",
   "id": "79063399",
   "metadata": {},
   "source": [
    "## 7 모델 저장 및 사용"
   ]
  },
  {
   "cell_type": "code",
   "execution_count": 126,
   "id": "73793c58",
   "metadata": {},
   "outputs": [],
   "source": [
    "from tensorflow.keras.models import save_model, load_model\n",
    "save_model(model, 'model/06_pima.h5')"
   ]
  },
  {
   "cell_type": "code",
   "execution_count": 127,
   "id": "2601d7bc",
   "metadata": {},
   "outputs": [],
   "source": [
    "model2 = load_model('model/06_pima.h5')"
   ]
  },
  {
   "cell_type": "code",
   "execution_count": 129,
   "id": "fd9a4f04",
   "metadata": {},
   "outputs": [
    {
     "data": {
      "text/plain": [
       "array([  6.   , 125.   ,  78.   ,  31.   ,   0.   ,  27.6  ,   0.565,\n",
       "        49.   ])"
      ]
     },
     "execution_count": 129,
     "metadata": {},
     "output_type": "execute_result"
    }
   ],
   "source": [
    "x_test[1]"
   ]
  },
  {
   "cell_type": "code",
   "execution_count": 131,
   "id": "0e126c5e",
   "metadata": {},
   "outputs": [
    {
     "name": "stdout",
     "output_type": "stream",
     "text": [
      "1/1 [==============================] - 0s 43ms/step\n"
     ]
    },
    {
     "data": {
      "text/plain": [
       "array([0], dtype=int64)"
      ]
     },
     "execution_count": 131,
     "metadata": {},
     "output_type": "execute_result"
    }
   ],
   "source": [
    "pred = model2.predict([[  6.   , 125.   ,  78.   ,  31.   ,   0.   ,  27.6  ,   0.565,\n",
    "        49.   ]])\n",
    "pred.argmax(axis=1)"
   ]
  },
  {
   "cell_type": "code",
   "execution_count": null,
   "id": "412e0ad9",
   "metadata": {},
   "outputs": [],
   "source": []
  },
  {
   "cell_type": "code",
   "execution_count": null,
   "id": "de490a0f",
   "metadata": {},
   "outputs": [],
   "source": []
  },
  {
   "cell_type": "code",
   "execution_count": null,
   "id": "84532ac7",
   "metadata": {},
   "outputs": [],
   "source": []
  },
  {
   "cell_type": "code",
   "execution_count": null,
   "id": "d4f81da8",
   "metadata": {},
   "outputs": [],
   "source": []
  }
 ],
 "metadata": {
  "kernelspec": {
   "display_name": "ml-dl-nlp",
   "language": "python",
   "name": "ml-dl-nlp"
  },
  "language_info": {
   "codemirror_mode": {
    "name": "ipython",
    "version": 3
   },
   "file_extension": ".py",
   "mimetype": "text/x-python",
   "name": "python",
   "nbconvert_exporter": "python",
   "pygments_lexer": "ipython3",
   "version": "3.10.18"
  },
  "toc": {
   "base_numbering": 1,
   "nav_menu": {},
   "number_sections": false,
   "sideBar": true,
   "skip_h1_title": false,
   "title_cell": "Table of Contents",
   "title_sidebar": "Contents",
   "toc_cell": false,
   "toc_position": {},
   "toc_section_display": true,
   "toc_window_display": false
  }
 },
 "nbformat": 4,
 "nbformat_minor": 5
}
