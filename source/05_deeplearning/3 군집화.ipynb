{
 "cells": [
  {
   "cell_type": "code",
   "execution_count": 1,
   "id": "44bac09d",
   "metadata": {},
   "outputs": [
    {
     "data": {
      "text/html": [
       "\n",
       "<style>\n",
       "div.container{width:86% !important;}\n",
       "div.cell.code_cell.rendered{width:100%;}\n",
       "div.CodeMirror {font-family:Consolas; font-size:15pt;}\n",
       "div.output {font-size:15pt; font-weight:bold;}\n",
       "div.input {font-family:Consolas; font-size:15pt;}\n",
       "div.prompt {min-width:70px;}\n",
       "div#toc-wrapper{padding-top:120px;}\n",
       "div.text_cell_render ul li{font-size:12pt;padding:5px;}\n",
       "table.dataframe{font-size:15px;}\n",
       "</style>\n"
      ],
      "text/plain": [
       "<IPython.core.display.HTML object>"
      ]
     },
     "metadata": {},
     "output_type": "display_data"
    }
   ],
   "source": [
    "from IPython.display import display, HTML\n",
    "display(HTML(\"\"\"\n",
    "<style>\n",
    "div.container{width:86% !important;}\n",
    "div.cell.code_cell.rendered{width:100%;}\n",
    "div.CodeMirror {font-family:Consolas; font-size:15pt;}\n",
    "div.output {font-size:15pt; font-weight:bold;}\n",
    "div.input {font-family:Consolas; font-size:15pt;}\n",
    "div.prompt {min-width:70px;}\n",
    "div#toc-wrapper{padding-top:120px;}\n",
    "div.text_cell_render ul li{font-size:12pt;padding:5px;}\n",
    "table.dataframe{font-size:15px;}\n",
    "</style>\n",
    "\"\"\"))"
   ]
  },
  {
   "cell_type": "markdown",
   "id": "86234ef9",
   "metadata": {},
   "source": [
    "# 데이터 생성\n",
    "- 남자와 여자의 키와 몸무게를 군집화\n"
   ]
  },
  {
   "cell_type": "code",
   "execution_count": 2,
   "id": "55624413",
   "metadata": {},
   "outputs": [],
   "source": [
    "import random\n",
    "import numpy as np\n",
    "import matplotlib.pyplot as plt\n"
   ]
  },
  {
   "cell_type": "code",
   "execution_count": 3,
   "id": "7c360102",
   "metadata": {},
   "outputs": [
    {
     "data": {
      "text/plain": [
       "44"
      ]
     },
     "execution_count": 3,
     "metadata": {},
     "output_type": "execute_result"
    }
   ],
   "source": [
    "random.randint(40,95) # 40 부터 95까지의 정수중 하나를 무작위 선택 후 반환"
   ]
  },
  {
   "cell_type": "code",
   "execution_count": 7,
   "id": "0107d2b4",
   "metadata": {},
   "outputs": [
    {
     "data": {
      "text/plain": [
       "[[40, 148],\n",
       " [46, 144],\n",
       " [61, 150],\n",
       " [53, 169],\n",
       " [68, 158],\n",
       " [42, 158],\n",
       " [40, 154],\n",
       " [60, 144],\n",
       " [42, 167],\n",
       " [65, 165],\n",
       " [70, 149],\n",
       " [59, 161],\n",
       " [51, 157],\n",
       " [70, 159],\n",
       " [65, 152],\n",
       " [65, 169],\n",
       " [68, 147],\n",
       " [45, 147],\n",
       " [57, 164],\n",
       " [60, 157],\n",
       " [46, 142],\n",
       " [46, 145],\n",
       " [46, 147],\n",
       " [57, 166],\n",
       " [47, 159],\n",
       " [55, 165],\n",
       " [64, 148],\n",
       " [63, 156],\n",
       " [44, 147],\n",
       " [49, 155],\n",
       " [68, 144],\n",
       " [48, 144],\n",
       " [50, 170],\n",
       " [45, 150],\n",
       " [65, 165],\n",
       " [56, 167],\n",
       " [57, 149],\n",
       " [46, 151],\n",
       " [57, 161],\n",
       " [46, 154],\n",
       " [52, 142],\n",
       " [41, 146],\n",
       " [56, 143],\n",
       " [58, 161],\n",
       " [70, 164],\n",
       " [51, 168],\n",
       " [62, 140],\n",
       " [65, 164],\n",
       " [64, 151],\n",
       " [45, 146]]"
      ]
     },
     "execution_count": 7,
     "metadata": {},
     "output_type": "execute_result"
    }
   ],
   "source": [
    "data = []\n",
    "for i in range(50):\n",
    "    # 여자 데이터\n",
    "    data.append([random.randint(40,70), random.randint(140,170)])\n",
    "data"
   ]
  },
  {
   "cell_type": "code",
   "execution_count": 8,
   "id": "296379f7",
   "metadata": {},
   "outputs": [
    {
     "data": {
      "text/plain": [
       "[[40, 148],\n",
       " [46, 144],\n",
       " [61, 150],\n",
       " [53, 169],\n",
       " [68, 158],\n",
       " [42, 158],\n",
       " [40, 154],\n",
       " [60, 144],\n",
       " [42, 167],\n",
       " [65, 165],\n",
       " [70, 149],\n",
       " [59, 161],\n",
       " [51, 157],\n",
       " [70, 159],\n",
       " [65, 152],\n",
       " [65, 169],\n",
       " [68, 147],\n",
       " [45, 147],\n",
       " [57, 164],\n",
       " [60, 157],\n",
       " [46, 142],\n",
       " [46, 145],\n",
       " [46, 147],\n",
       " [57, 166],\n",
       " [47, 159],\n",
       " [55, 165],\n",
       " [64, 148],\n",
       " [63, 156],\n",
       " [44, 147],\n",
       " [49, 155],\n",
       " [68, 144],\n",
       " [48, 144],\n",
       " [50, 170],\n",
       " [45, 150],\n",
       " [65, 165],\n",
       " [56, 167],\n",
       " [57, 149],\n",
       " [46, 151],\n",
       " [57, 161],\n",
       " [46, 154],\n",
       " [52, 142],\n",
       " [41, 146],\n",
       " [56, 143],\n",
       " [58, 161],\n",
       " [70, 164],\n",
       " [51, 168],\n",
       " [62, 140],\n",
       " [65, 164],\n",
       " [64, 151],\n",
       " [45, 146],\n",
       " [63, 191]]"
      ]
     },
     "execution_count": 8,
     "metadata": {},
     "output_type": "execute_result"
    }
   ],
   "source": [
    "data.append([random.randint(60,95), random.randint(160,195)])\n",
    "data"
   ]
  },
  {
   "cell_type": "code",
   "execution_count": 10,
   "id": "0ef1e324",
   "metadata": {},
   "outputs": [
    {
     "name": "stdout",
     "output_type": "stream",
     "text": [
      "[40, 148][61, 150][68, 158][40, 154][42, 167][70, 149][51, 157][65, 152][68, 147][57, 164][46, 142][46, 147][47, 159][64, 148][44, 147][68, 144][50, 170][65, 165][57, 149][57, 161][52, 142][56, 143][70, 164][62, 140][64, 151][63, 191]\n",
      "-----\n",
      "[46, 144][53, 169][42, 158][60, 144][65, 165][59, 161][70, 159][65, 169][45, 147][60, 157][46, 145][57, 166][55, 165][63, 156][49, 155][48, 144][45, 150][56, 167][46, 151][46, 154][41, 146][58, 161][51, 168][65, 164][45, 146]"
     ]
    }
   ],
   "source": [
    "#여자\n",
    "for female in data[:100:2]:\n",
    "    print(female, end='')\n",
    "print('\\n-----')\n",
    "for male in data[1:100:2]:\n",
    "    print(male, end='')"
   ]
  },
  {
   "cell_type": "code",
   "execution_count": 11,
   "id": "6b21d51c",
   "metadata": {},
   "outputs": [
    {
     "name": "stdout",
     "output_type": "stream",
     "text": [
      "여자 몸무게: [40, 61, 68, 40, 42, 70, 51, 65, 68, 57, 46, 46, 47, 64, 44, 68, 50, 65, 57, 57, 52, 56, 70, 62, 64, 63]\n",
      "여자 키: [148, 150, 158, 154, 167, 149, 157, 152, 147, 164, 142, 147, 159, 148, 147, 144, 170, 165, 149, 161, 142, 143, 164, 140, 151, 191]\n",
      "남자 몸무게: [46, 53, 42, 60, 65, 59, 70, 65, 45, 60, 46, 57, 55, 63, 49, 48, 45, 56, 46, 46, 41, 58, 51, 65, 45]\n",
      "남자 키: [144, 169, 158, 144, 165, 161, 159, 169, 147, 157, 145, 166, 165, 156, 155, 144, 150, 167, 151, 154, 146, 161, 168, 164, 146]\n"
     ]
    }
   ],
   "source": [
    "print('여자 몸무게:',[d[0] for d in data[::2]])\n",
    "print('여자 키:',[d[1] for d in data[::2]])\n",
    "print('남자 몸무게:',[d[0] for d in data[1::2]])\n",
    "print('남자 키:',[d[1] for d in data[1::2]])"
   ]
  },
  {
   "cell_type": "code",
   "execution_count": 14,
   "id": "f00277a5",
   "metadata": {},
   "outputs": [
    {
     "data": {
      "text/plain": [
       "[<matplotlib.lines.Line2D at 0x22fda6de020>]"
      ]
     },
     "execution_count": 14,
     "metadata": {},
     "output_type": "execute_result"
    },
    {
     "data": {
      "image/png": "[encoded data removed]",
      "text/plain": [
       "<Figure size 640x480 with 1 Axes>"
      ]
     },
     "metadata": {},
     "output_type": "display_data"
    }
   ],
   "source": [
    "plt.plot([d[0] for d in data[::2]],\n",
    "        [d[1] for d in data[::2]], 'o', color='r')    \n",
    "plt.plot([d[0] for d in data[1::2]],\n",
    "        [d[1] for d in data[1::2]], '^', color='b')    "
   ]
  },
  {
   "cell_type": "markdown",
   "id": "0e4d81ab",
   "metadata": {},
   "source": [
    "# 2.군집화 로직"
   ]
  },
  {
   "cell_type": "code",
   "execution_count": 16,
   "id": "d5ff5676",
   "metadata": {},
   "outputs": [
    {
     "data": {
      "text/plain": [
       "[[41, 153], [61, 150]]"
      ]
     },
     "execution_count": 16,
     "metadata": {},
     "output_type": "execute_result"
    }
   ],
   "source": [
    "# 초기 랜덤지점 2개\n",
    "random_points = [[random.randint(40, 95), random.randint(140,195)],\n",
    "              [random.randint(40,95), random.randint(140,195)]]\n",
    "random_points"
   ]
  },
  {
   "cell_type": "code",
   "execution_count": 17,
   "id": "bd5f7e64",
   "metadata": {},
   "outputs": [
    {
     "data": {
      "text/plain": [
       "[<matplotlib.lines.Line2D at 0x22fda7ba140>]"
      ]
     },
     "execution_count": 17,
     "metadata": {},
     "output_type": "execute_result"
    },
    {
     "data": {
      "image/png": "[encoded data removed]",
      "text/plain": [
       "<Figure size 640x480 with 1 Axes>"
      ]
     },
     "metadata": {},
     "output_type": "display_data"
    }
   ],
   "source": [
    "plt.plot([d[0] for d in data],\n",
    "        [d[1] for d in data], 'o', color='k')\n",
    "plt.plot(random_points[0][0],\n",
    "        random_points[0][1], 'x', color='r', markersize=20)\n",
    "plt.plot(random_points[1][0],\n",
    "        random_points[1][1], 'x', color='b', markersize=20)"
   ]
  },
  {
   "cell_type": "code",
   "execution_count": 28,
   "id": "9581da43",
   "metadata": {},
   "outputs": [],
   "source": [
    "# 두 점의 거리를 return a:(0,0) ~ b:(4,3)\n",
    "def dist(a, b):\n",
    "    return np.sqrt( (a[0]-b[0])**2  + (a[1]-b[1])**2 )"
   ]
  },
  {
   "cell_type": "code",
   "execution_count": 29,
   "id": "4e46fcb6",
   "metadata": {},
   "outputs": [
    {
     "data": {
      "text/plain": [
       "(22, 29)"
      ]
     },
     "execution_count": 29,
     "metadata": {},
     "output_type": "execute_result"
    }
   ],
   "source": [
    "# random_points[0]과 random_points[1]을 기준으로 나눈 두 영역\n",
    "group1 = [] # random_points[0]이 가까운 그룹\n",
    "group2 = [] # random_points[1]이 가까운 그룹\n",
    "for d in data:\n",
    "    if dist(random_points[0], d) < dist(random_points[1], d):\n",
    "        group1.append(d) # 빨간X랑 더 가까운 그룹\n",
    "    else:\n",
    "        group2.append(d) # 파란 X랑 더 가까운 그룹\n",
    "len(group1), len(group2)"
   ]
  },
  {
   "cell_type": "code",
   "execution_count": 30,
   "id": "48a975e5",
   "metadata": {},
   "outputs": [
    {
     "data": {
      "image/png": "[encoded data removed]",
      "text/plain": [
       "<Figure size 640x480 with 1 Axes>"
      ]
     },
     "metadata": {},
     "output_type": "display_data"
    }
   ],
   "source": [
    "\n",
    "# 새로운 그룹 group1과 group2, 초기 램던 지점\n",
    "plt.plot([d[0] for d in group1],\n",
    "        [d[1] for d in group1], 'o', color='r')\n",
    "plt.plot([d[0] for d in group2],\n",
    "        [d[1] for d in group2], 'o', color='b')\n",
    "plt.plot(random_points[0][0],\n",
    "        random_points[0][1], 'x', color='r', markersize=20) # 기준점1\n",
    "plt.plot(random_points[1][0],\n",
    "        random_points[1][1], 'x', color='b', markersize=20) # 기준점2\n",
    "plt.show()"
   ]
  },
  {
   "cell_type": "code",
   "execution_count": 32,
   "id": "616d1044",
   "metadata": {},
   "outputs": [
    {
     "data": {
      "text/plain": [
       "[[45.86363636363637, 153.0909090909091],\n",
       " [62.06896551724138, 156.9655172413793]]"
      ]
     },
     "execution_count": 32,
     "metadata": {},
     "output_type": "execute_result"
    }
   ],
   "source": [
    "# 기준점 이동 group\n",
    "sumX=0 ; sumY=0\n",
    "for g in group1:\n",
    "    sumX += g[0]\n",
    "    sumY += g[1]\n",
    "# 새로운 기준점\n",
    "random_points[0] = [sumX/len(group1), sumY/len(group1)]\n",
    "sumX=0 ; sumY=0\n",
    "for g in group2:\n",
    "    sumX += g[0]\n",
    "    sumY += g[1]\n",
    "# 새로운 기준점\n",
    "random_points[1] = [sumX/len(group2), sumY/len(group2)]\n",
    "random_points"
   ]
  },
  {
   "cell_type": "code",
   "execution_count": 34,
   "id": "e37e6075",
   "metadata": {},
   "outputs": [
    {
     "data": {
      "image/png": "[encoded data removed]",
      "text/plain": [
       "<Figure size 640x480 with 1 Axes>"
      ]
     },
     "metadata": {},
     "output_type": "display_data"
    }
   ],
   "source": [
    "plt.plot(random_points[0][0],\n",
    "        random_points[0][1], 'x', color='r', markersize=20) # 기준점1\n",
    "plt.plot(random_points[1][0],\n",
    "        random_points[1][1], 'x', color='b', markersize=20) # 기준점2\n",
    "plt.show()"
   ]
  },
  {
   "cell_type": "markdown",
   "id": "900bcea7",
   "metadata": {},
   "source": [
    "# 3. 전체코드 (for 문 이용)\n",
    "- data 생성\n",
    "- 랜덤포인트2지점\n",
    "- 랜덤포인트 2지점 기준으로 group1 과 group2\n",
    "- 랜덤포인트 이용(group1중간지점, group2중간지점)"
   ]
  },
  {
   "cell_type": "code",
   "execution_count": 51,
   "id": "d380d8f6",
   "metadata": {},
   "outputs": [
    {
     "name": "stdout",
     "output_type": "stream",
     "text": [
      "초기 points :  [[62, 191], [48, 166]]\n",
      "1 번째 points :  [[80.78048780487805, 178.17073170731706], [57.220338983050844, 155.64406779661016]]\n",
      "2 번째 points :  [[80.0, 176.375], [54.76923076923077, 154.26923076923077]]\n",
      "3 번째 points :  [[80.0, 176.375], [54.76923076923077, 154.26923076923077]]\n",
      "4 번째 points :  [[80.0, 176.375], [54.76923076923077, 154.26923076923077]]\n",
      "5 번째 points :  [[80.0, 176.375], [54.76923076923077, 154.26923076923077]]\n",
      "6 번째 points :  [[80.0, 176.375], [54.76923076923077, 154.26923076923077]]\n",
      "7 번째 points :  [[80.0, 176.375], [54.76923076923077, 154.26923076923077]]\n",
      "8 번째 points :  [[80.0, 176.375], [54.76923076923077, 154.26923076923077]]\n",
      "9 번째 points :  [[80.0, 176.375], [54.76923076923077, 154.26923076923077]]\n",
      "10 번째 points :  [[80.0, 176.375], [54.76923076923077, 154.26923076923077]]\n"
     ]
    },
    {
     "data": {
      "image/png": "[encoded data removed]",
      "text/plain": [
       "<Figure size 640x480 with 1 Axes>"
      ]
     },
     "metadata": {},
     "output_type": "display_data"
    }
   ],
   "source": [
    " #데이터 생성\n",
    "data = []\n",
    "for i in range(50):\n",
    "    # 여자 데이터\n",
    "    data.append([random.randint(40,70), random.randint(140,170)])\n",
    "    # 남자 데이터\n",
    "    data.append([random.randint(60,95), random.randint(160,195)])\n",
    "# point 지정\n",
    "points = [[random.randint(40,95), random.randint(140,195)],\n",
    "          [random.randint(40,95), random.randint(140,195)]]\n",
    "print(\"초기 points : \", points)\n",
    "plt.plot(points[0][0], points[0][1], 'o', c='r', markersize=20)\n",
    "plt.plot(points[1][0], points[1][1], 'o', c='b', markersize=20)\n",
    "# 포인트 2지점기준으로 group1과 group2\n",
    "for i in range(1, 11):\n",
    "    group1 = [] # points[0]과 가까운 그룹\n",
    "    group2 = [] # points[1]과 가까운 그룹\n",
    "    for d in data:\n",
    "        if dist(d, points[0]) < dist(d, points[1]):\n",
    "            group1.append(d)\n",
    "        else:\n",
    "            group2.append(d)\n",
    "    # 새로운 포인트로 할당\n",
    "    sumX = 0; sumY=0\n",
    "    for g in group1:\n",
    "        sumX += g[0]\n",
    "        sumY += g[1]\n",
    "    points[0] = [sumX/len(group1), sumY/len(group1)]\n",
    "    sumX = 0; sumY=0\n",
    "    for g in group2:\n",
    "        sumX += g[0]\n",
    "        sumY += g[1]\n",
    "    points[1] = [sumX/len(group2), sumY/len(group2)]\n",
    "    print(i, \"번째 points : \", points)\n",
    "    plt.plot(points[0][0], points[0][1], '^', c='r')\n",
    "    plt.plot(points[1][0], points[1][1], '^', c='b')"
   ]
  },
  {
   "cell_type": "code",
   "execution_count": 54,
   "id": "fff0b68b",
   "metadata": {},
   "outputs": [
    {
     "data": {
      "text/plain": [
       "[<matplotlib.lines.Line2D at 0x22fddea19c0>]"
      ]
     },
     "execution_count": 54,
     "metadata": {},
     "output_type": "execute_result"
    },
    {
     "data": {
      "image/png": "[encoded data removed]",
      "text/plain": [
       "<Figure size 640x480 with 1 Axes>"
      ]
     },
     "metadata": {},
     "output_type": "display_data"
    }
   ],
   "source": [
    "plt.plot([d[0] for d in group1],\n",
    "        [d[1] for d in group1],'o',color='r')\n",
    "plt.plot([d[0] for d in group2],\n",
    "        [d[1] for d in group2],'o',color='b')\n",
    "plt.plot(points[0][0], points[0][1], 'x', color='r', markersize=20)\n",
    "\n",
    "plt.plot(points[1][0], points[1][1], 'x', color='b', markersize=20)"
   ]
  },
  {
   "cell_type": "markdown",
   "id": "fbbd0fce",
   "metadata": {},
   "source": [
    "# 4. api(sklearn)를 이용한 군집화\n",
    "- sklearn 머신러닝\n",
    "    * 예측함수 - 분류, 회귀, 군집분석  fit(학습), predict(예측)\n",
    "    * 변환모델 - 전처리 ex) 스케일조정   fit(학습), transform(변환함수)"
   ]
  },
  {
   "cell_type": "code",
   "execution_count": null,
   "id": "757f6623",
   "metadata": {},
   "outputs": [],
   "source": [
    "# 군집분석 라이브러리가 joblib 충돌 경도 메세지 출력\n",
    "import os \n",
    "os.envirnon[\"OMP_NUM_THREADS\"] = \"1\"\n"
   ]
  },
  {
   "cell_type": "code",
   "execution_count": 60,
   "id": "da01dd8f",
   "metadata": {},
   "outputs": [
    {
     "data": {
      "text/html": [
       "<style>#sk-container-id-2 {color: black;background-color: white;}#sk-container-id-2 pre{padding: 0;}#sk-container-id-2 div.sk-toggleable {background-color: white;}#sk-container-id-2 label.sk-toggleable__label {cursor: pointer;display: block;width: 100%;margin-bottom: 0;padding: 0.3em;box-sizing: border-box;text-align: center;}#sk-container-id-2 label.sk-toggleable__label-arrow:before {content: \"▸\";float: left;margin-right: 0.25em;color: #696969;}#sk-container-id-2 label.sk-toggleable__label-arrow:hover:before {color: black;}#sk-container-id-2 div.sk-estimator:hover label.sk-toggleable__label-arrow:before {color: black;}#sk-container-id-2 div.sk-toggleable__content {max-height: 0;max-width: 0;overflow: hidden;text-align: left;background-color: #f0f8ff;}#sk-container-id-2 div.sk-toggleable__content pre {margin: 0.2em;color: black;border-radius: 0.25em;background-color: #f0f8ff;}#sk-container-id-2 input.sk-toggleable__control:checked~div.sk-toggleable__content {max-height: 200px;max-width: 100%;overflow: auto;}#sk-container-id-2 input.sk-toggleable__control:checked~label.sk-toggleable__label-arrow:before {content: \"▾\";}#sk-container-id-2 div.sk-estimator input.sk-toggleable__control:checked~label.sk-toggleable__label {background-color: #d4ebff;}#sk-container-id-2 div.sk-label input.sk-toggleable__control:checked~label.sk-toggleable__label {background-color: #d4ebff;}#sk-container-id-2 input.sk-hidden--visually {border: 0;clip: rect(1px 1px 1px 1px);clip: rect(1px, 1px, 1px, 1px);height: 1px;margin: -1px;overflow: hidden;padding: 0;position: absolute;width: 1px;}#sk-container-id-2 div.sk-estimator {font-family: monospace;background-color: #f0f8ff;border: 1px dotted black;border-radius: 0.25em;box-sizing: border-box;margin-bottom: 0.5em;}#sk-container-id-2 div.sk-estimator:hover {background-color: #d4ebff;}#sk-container-id-2 div.sk-parallel-item::after {content: \"\";width: 100%;border-bottom: 1px solid gray;flex-grow: 1;}#sk-container-id-2 div.sk-label:hover label.sk-toggleable__label {background-color: #d4ebff;}#sk-container-id-2 div.sk-serial::before {content: \"\";position: absolute;border-left: 1px solid gray;box-sizing: border-box;top: 0;bottom: 0;left: 50%;z-index: 0;}#sk-container-id-2 div.sk-serial {display: flex;flex-direction: column;align-items: center;background-color: white;padding-right: 0.2em;padding-left: 0.2em;position: relative;}#sk-container-id-2 div.sk-item {position: relative;z-index: 1;}#sk-container-id-2 div.sk-parallel {display: flex;align-items: stretch;justify-content: center;background-color: white;position: relative;}#sk-container-id-2 div.sk-item::before, #sk-container-id-2 div.sk-parallel-item::before {content: \"\";position: absolute;border-left: 1px solid gray;box-sizing: border-box;top: 0;bottom: 0;left: 50%;z-index: -1;}#sk-container-id-2 div.sk-parallel-item {display: flex;flex-direction: column;z-index: 1;position: relative;background-color: white;}#sk-container-id-2 div.sk-parallel-item:first-child::after {align-self: flex-end;width: 50%;}#sk-container-id-2 div.sk-parallel-item:last-child::after {align-self: flex-start;width: 50%;}#sk-container-id-2 div.sk-parallel-item:only-child::after {width: 0;}#sk-container-id-2 div.sk-dashed-wrapped {border: 1px dashed gray;margin: 0 0.4em 0.5em 0.4em;box-sizing: border-box;padding-bottom: 0.4em;background-color: white;}#sk-container-id-2 div.sk-label label {font-family: monospace;font-weight: bold;display: inline-block;line-height: 1.2em;}#sk-container-id-2 div.sk-label-container {text-align: center;}#sk-container-id-2 div.sk-container {/* jupyter's `normalize.less` sets `[hidden] { display: none; }` but bootstrap.min.css set `[hidden] { display: none !important; }` so we also need the `!important` here to be able to override the default hidden behavior on the sphinx rendered scikit-learn.org. See: https://github.com/scikit-learn/scikit-learn/issues/21755 */display: inline-block !important;position: relative;}#sk-container-id-2 div.sk-text-repr-fallback {display: none;}</style><div id=\"sk-container-id-2\" class=\"sk-top-container\"><div class=\"sk-text-repr-fallback\"><pre>KMeans(init=&#x27;random&#x27;, n_clusters=2, n_init=10, random_state=7)</pre><b>In a Jupyter environment, please rerun this cell to show the HTML representation or trust the notebook. <br />On GitHub, the HTML representation is unable to render, please try loading this page with nbviewer.org.</b></div><div class=\"sk-container\" hidden><div class=\"sk-item\"><div class=\"sk-estimator sk-toggleable\"><input class=\"sk-toggleable__control sk-hidden--visually\" id=\"sk-estimator-id-2\" type=\"checkbox\" checked><label for=\"sk-estimator-id-2\" class=\"sk-toggleable__label sk-toggleable__label-arrow\">KMeans</label><div class=\"sk-toggleable__content\"><pre>KMeans(init=&#x27;random&#x27;, n_clusters=2, n_init=10, random_state=7)</pre></div></div></div></div></div>"
      ],
      "text/plain": [
       "KMeans(init='random', n_clusters=2, n_init=10, random_state=7)"
      ]
     },
     "execution_count": 60,
     "metadata": {},
     "output_type": "execute_result"
    }
   ],
   "source": [
    "data = np.array(data)\n",
    "from sklearn.cluster import KMeans\n",
    "model = KMeans(n_clusters=2,   #2개 그룹으로 나눠\n",
    "              init='random',   #초기 중심점 랜덤하게\n",
    "              n_init=10, # 10번 실행\n",
    "              random_state=7)\n",
    "model.fit(data)"
   ]
  },
  {
   "cell_type": "code",
   "execution_count": 62,
   "id": "4c8bc79a",
   "metadata": {},
   "outputs": [
    {
     "data": {
      "text/plain": [
       "array([[ 79.56, 175.84],\n",
       "       [ 54.2 , 153.92]])"
      ]
     },
     "execution_count": 62,
     "metadata": {},
     "output_type": "execute_result"
    }
   ],
   "source": [
    "# 중심점\n",
    "model.cluster_centers_"
   ]
  },
  {
   "cell_type": "code",
   "execution_count": 63,
   "id": "1217cd05",
   "metadata": {},
   "outputs": [
    {
     "data": {
      "text/plain": [
       "array([1, 0, 1, 0, 1, 0, 1, 0, 0, 0, 1, 0, 1, 0, 1, 0, 1, 0, 1, 0, 1, 0,\n",
       "       1, 0, 1, 0, 1, 0, 1, 0, 1, 0, 1, 0, 1, 0, 1, 0, 1, 0, 1, 0, 1, 0,\n",
       "       1, 0, 1, 0, 1, 0, 1, 0, 1, 0, 1, 0, 1, 0, 0, 0, 1, 0, 1, 0, 1, 0,\n",
       "       1, 0, 1, 0, 1, 0, 1, 0, 1, 0, 1, 0, 1, 0, 1, 0, 1, 0, 1, 0, 1, 1,\n",
       "       1, 0, 1, 0, 1, 0, 1, 0, 1, 0, 1, 1])"
      ]
     },
     "execution_count": 63,
     "metadata": {},
     "output_type": "execute_result"
    }
   ],
   "source": [
    "# 나눠진 그룹들의 인덱스\n",
    "model.labels_"
   ]
  },
  {
   "cell_type": "code",
   "execution_count": 66,
   "id": "803ea9e4",
   "metadata": {},
   "outputs": [],
   "source": [
    "group1 = data[model.labels_==1]\n",
    "group2 = data[model.labels_==0]\n",
    "c1, c2 = model.cluster_centers_"
   ]
  },
  {
   "cell_type": "code",
   "execution_count": 69,
   "id": "02436d6d",
   "metadata": {},
   "outputs": [
    {
     "data": {
      "text/plain": [
       "[<matplotlib.lines.Line2D at 0x22ff15fe3b0>]"
      ]
     },
     "execution_count": 69,
     "metadata": {},
     "output_type": "execute_result"
    },
    {
     "data": {
      "image/png": "[encoded data removed]",
      "text/plain": [
       "<Figure size 640x480 with 1 Axes>"
      ]
     },
     "metadata": {},
     "output_type": "display_data"
    }
   ],
   "source": [
    "plt.plot([d[0] for d in group1],\n",
    "        [d[1] for d in group1], 'o', color='r')\n",
    "plt.plot([d[0] for d in group2],\n",
    "        [d[1] for d in group2], 'o', color='b')\n",
    "plt.plot(c1[0], c1[1], 'x', color='b')       # group2의 중싱점\n",
    "plt.plot(c2[0], c2[1], 'x', color='r')       # group1의 중싱점"
   ]
  },
  {
   "cell_type": "code",
   "execution_count": null,
   "id": "fd6e3cd9",
   "metadata": {},
   "outputs": [],
   "source": []
  }
 ],
 "metadata": {
  "kernelspec": {
   "display_name": "ml-dl-nlp",
   "language": "python",
   "name": "ml-dl-nlp"
  },
  "language_info": {
   "codemirror_mode": {
    "name": "ipython",
    "version": 3
   },
   "file_extension": ".py",
   "mimetype": "text/x-python",
   "name": "python",
   "nbconvert_exporter": "python",
   "pygments_lexer": "ipython3",
   "version": "3.10.18"
  },
  "toc": {
   "base_numbering": 1,
   "nav_menu": {},
   "number_sections": false,
   "sideBar": true,
   "skip_h1_title": false,
   "title_cell": "Table of Contents",
   "title_sidebar": "Contents",
   "toc_cell": false,
   "toc_position": {},
   "toc_section_display": true,
   "toc_window_display": false
  }
 },
 "nbformat": 4,
 "nbformat_minor": 5
}
