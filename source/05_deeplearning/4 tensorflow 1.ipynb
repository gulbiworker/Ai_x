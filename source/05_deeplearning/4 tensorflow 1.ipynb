{
 "cells": [
  {
   "cell_type": "code",
   "execution_count": 1,
   "id": "9b59fa45",
   "metadata": {},
   "outputs": [
    {
     "data": {
      "text/html": [
       "\n",
       "<style>\n",
       "div.container{width:86% !important;}\n",
       "div.cell.code_cell.rendered{width:100%;}\n",
       "div.CodeMirror {font-family:Consolas; font-size:15pt;}\n",
       "div.output {font-size:15pt; font-weight:bold;}\n",
       "div.input {font-family:Consolas; font-size:15pt;}\n",
       "div.prompt {min-width:70px;}\n",
       "div#toc-wrapper{padding-top:120px;}\n",
       "div.text_cell_render ul li{font-size:12pt;padding:5px;}\n",
       "table.dataframe{font-size:15px;}\n",
       "</style>\n"
      ],
      "text/plain": [
       "<IPython.core.display.HTML object>"
      ]
     },
     "metadata": {},
     "output_type": "display_data"
    }
   ],
   "source": [
    "from IPython.display import display, HTML\n",
    "display(HTML(\"\"\"\n",
    "<style>\n",
    "div.container{width:86% !important;}\n",
    "div.cell.code_cell.rendered{width:100%;}\n",
    "div.CodeMirror {font-family:Consolas; font-size:15pt;}\n",
    "div.output {font-size:15pt; font-weight:bold;}\n",
    "div.input {font-family:Consolas; font-size:15pt;}\n",
    "div.prompt {min-width:70px;}\n",
    "div#toc-wrapper{padding-top:120px;}\n",
    "div.text_cell_render ul li{font-size:12pt;padding:5px;}\n",
    "table.dataframe{font-size:15px;}\n",
    "</style>\n",
    "\"\"\"))"
   ]
  },
  {
   "cell_type": "markdown",
   "id": "810b6910",
   "metadata": {},
   "source": [
    "# 1.tensorflow\n"
   ]
  },
  {
   "cell_type": "code",
   "execution_count": 42,
   "id": "4efe5d68",
   "metadata": {},
   "outputs": [
    {
     "data": {
      "text/plain": [
       "'2.10.0'"
      ]
     },
     "execution_count": 42,
     "metadata": {},
     "output_type": "execute_result"
    }
   ],
   "source": [
    "import tensorflow.compat.v1 as tf\n",
    "tf.disable_v2_behavior()  # v2를 비활성화하고 v1을 활성화 시킴\n",
    "import pandas as pd\n",
    "import numpy as np\n",
    "tf.__version__"
   ]
  },
  {
   "cell_type": "markdown",
   "id": "b6dcf911",
   "metadata": {},
   "source": [
    "## Tensorflow\n",
    " - 데이터 흐름 그래프(tensor 객체의 흐름)\n",
    "  - 그래프는 node(상수, 변수, 연산)와 edge로 구성\n",
    "  - tf.Session()으로 실행\n",
    "  - sess.run()을 통해 값을 확인"
   ]
  },
  {
   "cell_type": "code",
   "execution_count": 56,
   "id": "891e0bdd",
   "metadata": {},
   "outputs": [
    {
     "name": "stdout",
     "output_type": "stream",
     "text": [
      "b'Hello, Tensorflow'\n"
     ]
    }
   ],
   "source": [
    "# tensor = data(상수, 변수)와 연산\n",
    "node1 = tf.constant('Hello, Tensorflow')\n",
    "sess = tf.Session()\n",
    "print(sess.run(node1))"
   ]
  },
  {
   "cell_type": "code",
   "execution_count": 47,
   "id": "75d1bcbc",
   "metadata": {},
   "outputs": [
    {
     "name": "stdout",
     "output_type": "stream",
     "text": [
      "[10.0, 20.0, 30.0]\n"
     ]
    }
   ],
   "source": [
    "# 간단한 연산 tensor 그래프\n",
    "node1 = tf.constant(10, dtype=tf.float16)\n",
    "node2 = tf.constant(20, dtype=tf.float16)\n",
    "node3 = tf.add(node1, node2)\n",
    "sess = tf.Session()\n",
    "print(sess.run([node1, node2, node3]))"
   ]
  },
  {
   "cell_type": "code",
   "execution_count": 48,
   "id": "54d1dad5",
   "metadata": {},
   "outputs": [
    {
     "data": {
      "text/plain": [
       "[array([1, 2, 3], dtype=int16), array([1., 2., 3.], dtype=float32)]"
      ]
     },
     "execution_count": 48,
     "metadata": {},
     "output_type": "execute_result"
    }
   ],
   "source": [
    "node1 = tf.constant(np.array([1,2,3]), dtype=tf.int16)\n",
    "node2 = tf.cast(node1, dtype=tf.float32)\n",
    "sess = tf.Session()\n",
    "sess.run([node1, node2])"
   ]
  },
  {
   "cell_type": "code",
   "execution_count": 49,
   "id": "fd100a63",
   "metadata": {},
   "outputs": [
    {
     "data": {
      "text/plain": [
       "2.0"
      ]
     },
     "execution_count": 49,
     "metadata": {},
     "output_type": "execute_result"
    }
   ],
   "source": [
    "# 평균값 계산 : tf.reduce_mean()\n",
    "data = np.array([1., 2., 3.])\n",
    "tensor = tf.reduce_mean(data)\n",
    "sess = tf.Session()\n",
    "sess.run(tensor)"
   ]
  },
  {
   "cell_type": "code",
   "execution_count": 50,
   "id": "1b617e58",
   "metadata": {},
   "outputs": [
    {
     "data": {
      "text/plain": [
       "array([0.57825273], dtype=float32)"
      ]
     },
     "execution_count": 50,
     "metadata": {},
     "output_type": "execute_result"
    }
   ],
   "source": [
    "# 랜덤값을 갖는 tensor\n",
    "a = tf.random_normal([1])\n",
    "sess = tf.Session()\n",
    "sess.run(a)"
   ]
  },
  {
   "cell_type": "code",
   "execution_count": 51,
   "id": "0cd5c7b0",
   "metadata": {},
   "outputs": [
    {
     "data": {
      "text/plain": [
       "array([-0.82391304], dtype=float32)"
      ]
     },
     "execution_count": 51,
     "metadata": {},
     "output_type": "execute_result"
    }
   ],
   "source": [
    "w = tf.Variable(tf.random.normal([1]))\n",
    "sess = tf.Session()\n",
    "sess.run(tf.global_variables_initializer())\n",
    "sess.run(w)"
   ]
  },
  {
   "cell_type": "markdown",
   "id": "dc42f51c",
   "metadata": {},
   "source": [
    "# 2. tensorflow v1을 이용한 linear regression 을 구현\n",
    "## 2.1 독립변수 x가1개, 타겟변수 y 가 1개"
   ]
  },
  {
   "cell_type": "code",
   "execution_count": 52,
   "id": "268372e2",
   "metadata": {},
   "outputs": [
    {
     "name": "stdout",
     "output_type": "stream",
     "text": [
      "0번째 cost:16.032211303710938, W:[-0.3326733], b:[0.27580562]\n",
      "200번째 cost:0.0007353413966484368, W:[1.0314193], b:[0.9285767]\n",
      "400번째 cost:0.00028079168987460434, W:[1.0194153], b:[0.9558646]\n",
      "600번째 cost:0.00010721845319494605, W:[1.0119973], b:[0.97272724]\n",
      "800번째 cost:4.0940853068605065e-05, W:[1.0074136], b:[0.98314714]\n",
      "1000번째 cost:1.5633575458195992e-05, W:[1.0045812], b:[0.98958576]\n",
      "1200번째 cost:5.970252004772192e-06, W:[1.0028311], b:[0.99356437]\n",
      "1400번째 cost:2.279775344504742e-06, W:[1.0017495], b:[0.99602306]\n",
      "1600번째 cost:8.710078986950975e-07, W:[1.0010815], b:[0.9975419]\n",
      "1800번째 cost:3.329899982418283e-07, W:[1.0006685], b:[0.9984801]\n",
      "2000번째 cost:1.2742768262796744e-07, W:[1.0004138], b:[0.99905974]\n",
      "2200번째 cost:4.886799942482867e-08, W:[1.0002564], b:[0.99941784]\n",
      "2400번째 cost:1.8781134869527705e-08, W:[1.000159], b:[0.9996392]\n",
      "2600번째 cost:7.2552794883051774e-09, W:[1.000099], b:[0.99977577]\n",
      "2800번째 cost:2.7853275241795927e-09, W:[1.0000614], b:[0.99986106]\n",
      "3000번째 cost:1.0956947571472142e-09, W:[1.000038], b:[0.99991274]\n",
      "3200번째 cost:4.152459209816328e-10, W:[1.0000237], b:[0.99994624]\n",
      "3400번째 cost:1.7485390912952425e-10, W:[1.0000155], b:[0.9999652]\n",
      "3600번째 cost:7.723480882626532e-11, W:[1.0000104], b:[0.9999771]\n",
      "3800번째 cost:5.328478283606053e-11, W:[1.0000087], b:[0.9999811]\n",
      "4000번째 cost:5.328478283606053e-11, W:[1.0000087], b:[0.9999811]\n",
      "4200번째 cost:5.328478283606053e-11, W:[1.0000087], b:[0.9999811]\n",
      "4400번째 cost:5.328478283606053e-11, W:[1.0000087], b:[0.9999811]\n",
      "4600번째 cost:5.328478283606053e-11, W:[1.0000087], b:[0.9999811]\n",
      "4800번째 cost:5.328478283606053e-11, W:[1.0000087], b:[0.9999811]\n",
      "5000번째 cost:5.328478283606053e-11, W:[1.0000087], b:[0.9999811]\n"
     ]
    }
   ],
   "source": [
    "x = np.array([1,2,3])\n",
    "y = np.array([2,3,4])\n",
    "# weight오 bias(처음엔 랜덤값으로 셋팅, 학습과정에서 변경)\n",
    "W = tf.Variable(tf.random.normal([1]), name='weight')\n",
    "b = tf.Variable(tf.random.normal([1]), name='bias')\n",
    "# Hypothesis : 예측값\n",
    "H = W*x + b\n",
    "#cost function(손실함수 = mse;최소제곱법)\n",
    "cost = tf.reduce_mean(tf.square(H-y))\n",
    "'''\n",
    "학습목적 : cost가 최소가 되는 W, b를 찾아내는 것\n",
    "cost는 2차함수이므로 곡선그래프. 곡선위 미분값이 줄어드는 방향으로 학습(경사하강)\n",
    "=> GradientDescentOptimizer\n",
    "'''\n",
    "optimizer = tf.train.GradientDescentOptimizer(learning_rate=0.01)\n",
    "train = optimizer.minimize(cost)\n",
    "# Session 생성\n",
    "sess = tf.Session()\n",
    "# W, b 변수 노드에 초기화\n",
    "sess.run(tf.global_variables_initializer())\n",
    "# 5000번 학습 (v2에서는 fit함수)\n",
    "for step in range(5001):\n",
    "    _, cost_val, W_val, b_val = sess.run([train, cost, W, b])\n",
    "    if step%200 == 0:\n",
    "        print(\"{}번째 cost:{}, W:{}, b:{}\".format(step,\n",
    "                                               cost_val,\n",
    "                                               W_val,\n",
    "                                               b_val))"
   ]
  },
  {
   "cell_type": "markdown",
   "id": "c414abd8",
   "metadata": {},
   "source": [
    "## 2.2 predict를 위한 placeholder이용\n",
    " - placeholder : 텐서플로우 외부에서 데이터를 입력받는 노드"
   ]
  },
  {
   "cell_type": "code",
   "execution_count": 2,
   "id": "da00e9a4",
   "metadata": {},
   "outputs": [
    {
     "name": "stdout",
     "output_type": "stream",
     "text": [
      "6.0\n",
      "[2. 3. 4.]\n"
     ]
    }
   ],
   "source": [
    "import numpy as np\n",
    "\n",
    "# 데이터 타입을 float32로 수정\n",
    "x = tf.placeholder(tf.float16)\n",
    "\n",
    "H = 1 * x + 1\n",
    "sess = tf.Session()\n",
    "\n",
    "# 스칼라 값 5 전달\n",
    "result1 = sess.run(H, feed_dict={x: 5})\n",
    "print(result1)  # 출력: 6.0\n",
    "\n",
    "# 벡터 값 전달 (배열로 x에 전달)\n",
    "result2 = sess.run(H, feed_dict={x: np.array([1, 2, 3], dtype=np.float32)})\n",
    "print(result2)  # 출력: [2. 3. 4.]\n"
   ]
  },
  {
   "cell_type": "code",
   "execution_count": 6,
   "id": "c90f56a5",
   "metadata": {},
   "outputs": [
    {
     "name": "stdout",
     "output_type": "stream",
     "text": [
      "0번째 cost:130.4217987060547, W:[0.52528757], b:[1.1653669]\n",
      "200번째 cost:0.005411284975707531, W:[1.9749836], b:[1.1337125]\n",
      "400번째 cost:0.0005322621436789632, W:[1.9921542], b:[1.0419357]\n",
      "600번째 cost:5.2350522310007364e-05, W:[1.9975394], b:[1.0131519]\n",
      "800번째 cost:5.1492233978933655e-06, W:[1.9992284], b:[1.0041244]\n",
      "1000번째 cost:5.06557114476891e-07, W:[1.9997579], b:[1.0012938]\n",
      "1200번째 cost:4.9861966999742435e-08, W:[1.9999241], b:[1.0004061]\n",
      "1400번째 cost:4.942831033361017e-09, W:[1.999976], b:[1.0001277]\n",
      "1600번째 cost:5.10772202311216e-10, W:[1.9999924], b:[1.0000407]\n",
      "1800번째 cost:4.497451369656069e-11, W:[1.9999977], b:[1.000012]\n",
      "2000번째 cost:3.470859016863059e-11, W:[1.9999979], b:[1.000011]\n",
      "2200번째 cost:3.470859016863059e-11, W:[1.9999979], b:[1.000011]\n",
      "2400번째 cost:3.470859016863059e-11, W:[1.9999979], b:[1.000011]\n",
      "2600번째 cost:3.470859016863059e-11, W:[1.9999979], b:[1.000011]\n",
      "2800번째 cost:3.470859016863059e-11, W:[1.9999979], b:[1.000011]\n",
      "3000번째 cost:3.470859016863059e-11, W:[1.9999979], b:[1.000011]\n",
      "3200번째 cost:3.470859016863059e-11, W:[1.9999979], b:[1.000011]\n",
      "3400번째 cost:3.470859016863059e-11, W:[1.9999979], b:[1.000011]\n",
      "3600번째 cost:3.470859016863059e-11, W:[1.9999979], b:[1.000011]\n",
      "3800번째 cost:3.470859016863059e-11, W:[1.9999979], b:[1.000011]\n",
      "4000번째 cost:3.470859016863059e-11, W:[1.9999979], b:[1.000011]\n",
      "4200번째 cost:3.470859016863059e-11, W:[1.9999979], b:[1.000011]\n",
      "4400번째 cost:3.470859016863059e-11, W:[1.9999979], b:[1.000011]\n",
      "4600번째 cost:3.470859016863059e-11, W:[1.9999979], b:[1.000011]\n",
      "4800번째 cost:3.470859016863059e-11, W:[1.9999979], b:[1.000011]\n",
      "5000번째 cost:3.470859016863059e-11, W:[1.9999979], b:[1.000011]\n"
     ]
    }
   ],
   "source": [
    "x_data = np.array([1,2,3,5,8])\n",
    "y_data = np.array([3,5,7,11,17])\n",
    "x = tf.placeholder(dtype=tf.float32)\n",
    "y = tf.placeholder(dtype=tf.float32)\n",
    "\n",
    "w=tf.Variable(tf.random.normal([1]))\n",
    "b=tf.Variable(tf.random.normal([1]))\n",
    "\n",
    "H = w*x + b\n",
    "\n",
    "cost = tf.reduce_mean(tf.square(H-y))\n",
    "\n",
    "train = tf.train.GradientDescentOptimizer(learning_rate=0.01).minimize(cost)\n",
    "\n",
    "sess = tf.Session()\n",
    "sess.run(tf.global_variables_initializer())\n",
    "\n",
    "for step in range(5001):\n",
    "    _, cost_val, W_val, b_val = sess.run([train, cost, w, b],\n",
    "                                        feed_dict={x:x_data,\n",
    "                                                  y:y_data})\n",
    "    if step%200 == 0:\n",
    "        print(\"{}번째 cost:{}, W:{}, b:{}\".format(step,\n",
    "                                               cost_val,\n",
    "                                               W_val,\n",
    "                                               b_val))\n",
    "    "
   ]
  },
  {
   "cell_type": "code",
   "execution_count": null,
   "id": "fb5e8285",
   "metadata": {},
   "outputs": [],
   "source": [
    "# 예측하기\n",
    "sess.run(H, feed_dict)"
   ]
  },
  {
   "cell_type": "markdown",
   "id": "0be6b797",
   "metadata": {},
   "source": [
    "## 스케일 조정"
   ]
  },
  {
   "cell_type": "code",
   "execution_count": 9,
   "id": "6b9e5d41",
   "metadata": {},
   "outputs": [
    {
     "name": "stdout",
     "output_type": "stream",
     "text": [
      "0번째 cost:3961.050048828125, W:[5.611336], b:[1.4476088]\n",
      "200번째 cost:265.6222229003906, W:[13.118919], b:[2.4051538]\n",
      "400번째 cost:265.61151123046875, W:[13.144263], b:[2.269689]\n",
      "600번째 cost:265.61053466796875, W:[13.152212], b:[2.2272053]\n",
      "800번째 cost:265.6103820800781, W:[13.154705], b:[2.2138815]\n",
      "1000번째 cost:265.61041259765625, W:[13.155486], b:[2.2097023]\n",
      "1200번째 cost:265.6103820800781, W:[13.155732], b:[2.2083905]\n",
      "1400번째 cost:265.6103820800781, W:[13.1558075], b:[2.207982]\n",
      "1600번째 cost:265.6103515625, W:[13.155831], b:[2.2078571]\n",
      "1800번째 cost:265.6103515625, W:[13.155839], b:[2.2078176]\n",
      "2000번째 cost:265.6103515625, W:[13.155839], b:[2.2078176]\n"
     ]
    }
   ],
   "source": [
    "x_data = np.array([1,2,3,5,8])\n",
    "y_data = np.array([3,15,68,80,95])\n",
    "x = tf.placeholder(dtype=tf.float32)\n",
    "y = tf.placeholder(dtype=tf.float32)\n",
    "\n",
    "w=tf.Variable(tf.random.normal([1]))\n",
    "b=tf.Variable(tf.random.normal([1]))\n",
    "\n",
    "H = w*x + b\n",
    "\n",
    "cost = tf.reduce_mean(tf.square(H-y))\n",
    "\n",
    "train = tf.train.GradientDescentOptimizer(learning_rate=0.01).minimize(cost)\n",
    "\n",
    "sess = tf.Session()\n",
    "sess.run(tf.global_variables_initializer())\n",
    "\n",
    "for step in range(2001):\n",
    "    _, cost_val, W_val, b_val = sess.run([train, cost, w, b],\n",
    "                                        feed_dict={x:x_data,\n",
    "                                                  y:y_data})\n",
    "    if step%200 == 0:\n",
    "        print(\"{}번째 cost:{}, W:{}, b:{}\".format(step,\n",
    "                                               cost_val,\n",
    "                                               W_val,\n",
    "                                               b_val))\n",
    "    "
   ]
  },
  {
   "cell_type": "code",
   "execution_count": null,
   "id": "37df9956",
   "metadata": {},
   "outputs": [],
   "source": [
    "# cost 값이 멈춤 "
   ]
  },
  {
   "cell_type": "markdown",
   "id": "a6bdeabf",
   "metadata": {},
   "source": [
    "## 2.4 scale이 다른 데이터의 linear regression을 구현\n",
    "### sclae 을 맞추기 : 모든 데이터를 이정 범위내로 조정\n",
    "\n",
    "\n",
    "normalization(정규화) : 0~1로 조정 X - Xmin normalization =/Xmax - Xmin * 위의 식을 써도 되지만 라이브러리를 씀(sklearn.preprocessing.MinMaxScaler이용)\n",
    "\n",
    "standardization(표준화) : 평균0, 표준편차1로 조정 X - Xmean(평균) / Xstd(표준편차) * 위의 식을 써도 되지만 라이브러리를 씀(sklearn.preprocessing.StandardScaler이용"
   ]
  },
  {
   "cell_type": "code",
   "execution_count": 13,
   "id": "a70eae93",
   "metadata": {},
   "outputs": [
    {
     "data": {
      "text/plain": [
       "array([0.        , 0.13043478, 0.70652174, 0.83695652, 1.        ])"
      ]
     },
     "execution_count": 13,
     "metadata": {},
     "output_type": "execute_result"
    }
   ],
   "source": [
    "# 라이브러리를 쓰지 않고 정규화\n",
    "x_data = np.array([1,2,3,5,8])\n",
    "y_data = np.array([3,15,68,80,95])\n",
    "scaled_x_data = (x_data - x_data.min()) / (x_data.max() - x_data.min())\n",
    "scaled_x_data\n",
    "scaled_y_data = (y_data - y_data.min()) / (y_data.max() - y_data.min())\n",
    "scaled_y_data"
   ]
  },
  {
   "cell_type": "code",
   "execution_count": 36,
   "id": "fcd21360",
   "metadata": {},
   "outputs": [
    {
     "name": "stdout",
     "output_type": "stream",
     "text": [
      "0번째 cost:1.6071674823760986, W:[0.75619775], b:[-1.0468972]\n",
      "200번째 cost:0.013975812122225761, W:[1.1690234], b:[-0.02865713]\n",
      "400번째 cost:0.01145548652857542, W:[1.1109978], b:[0.00992158]\n",
      "600번째 cost:0.010489647276699543, W:[1.0725701], b:[0.03026957]\n",
      "800번째 cost:0.010109670460224152, W:[1.0484538], b:[0.04300771]\n",
      "1000번째 cost:0.009960180148482323, W:[1.0333273], b:[0.05099732]\n",
      "1200번째 cost:0.009901371784508228, W:[1.0238395], b:[0.05600869]\n",
      "1400번째 cost:0.009878229349851608, W:[1.0178884], b:[0.05915201]\n",
      "1600번째 cost:0.009869123809039593, W:[1.0141555], b:[0.06112365]\n",
      "1800번째 cost:0.009865546599030495, W:[1.0118142], b:[0.06236023]\n",
      "2000번째 cost:0.009864136576652527, W:[1.0103456], b:[0.06313599]\n"
     ]
    }
   ],
   "source": [
    "x_data = np.array([1,2,5,8,10]).reshape(-1,1)\n",
    "y_data = np.array([3,15,68,80,95]).reshape(-1,1)\n",
    "# np.column_stack([x_data, y_data])\n",
    "from sklearn.preprocessing import MinMaxScaler\n",
    "scaler_x = MinMaxScaler()\n",
    "#scaler_x.fit(x_data)\n",
    "#scaled_x_data = scaler_x.transform(x_data)\n",
    "scaled_x_data = scaler_x.fit_transform(x_data)\n",
    "scaler_y = MinMaxScaler()\n",
    "scaled_y_data = scaler_y.fit_transform(y_data)\n",
    "np.column_stack([x_data, y_data, scaled_x_data, scaled_y_data])\n",
    "train = tf.train.GradientDescentOptimizer(learning_rate=0.01).minimize(cost)\n",
    "\n",
    "sess = tf.Session()\n",
    "sess.run(tf.global_variables_initializer())\n",
    "\n",
    "for step in range(2001):\n",
    "    _, cost_val, W_val, b_val = sess.run([train, cost, w, b],\n",
    "                                        feed_dict={x:scaled_x_data,\n",
    "                                                  y:scaled_y_data})\n",
    "    if step%200 == 0:\n",
    "        print(\"{}번째 cost:{}, W:{}, b:{}\".format(step,\n",
    "                                               cost_val,\n",
    "                                               W_val,\n",
    "                                               b_val))"
   ]
  },
  {
   "cell_type": "code",
   "execution_count": 37,
   "id": "821c0bc3",
   "metadata": {},
   "outputs": [
    {
     "name": "stdout",
     "output_type": "stream",
     "text": [
      "모델 예측을 위한 입력 :\n",
      "[[0.11111111]\n",
      " [0.22222222]]\n",
      "모델 예측 결과 :\n",
      "[[0.1753966 ]\n",
      " [0.28765723]]\n",
      "결과 :\n",
      "[[19.136488]\n",
      " [29.464464]]\n"
     ]
    }
   ],
   "source": [
    "# 예측 : 모델에 scale 조정된 값으로 예측=>scale 조정된 y값\n",
    "scaled_input = scaler_x.transform(np.array([[2],\n",
    "                                            [3]]))\n",
    "print('모델 예측을 위한 입력 :', scaled_input, sep='\\n')\n",
    "scaled_output = sess.run(H, feed_dict={x:scaled_input})\n",
    "print('모델 예측 결과 :', scaled_output, sep='\\n')\n",
    "print('결과 :', scaler_y.inverse_transform(scaled_output), sep='\\n')"
   ]
  },
  {
   "cell_type": "code",
   "execution_count": 38,
   "id": "ac0a5fc1",
   "metadata": {},
   "outputs": [],
   "source": [
    "# x_data들의 예측값\n",
    "scaled_y_hat = sess.run(H, feed_dict={x:scaled_x_data})\n",
    "y_hat = scaler_y.inverse_transform(scaled_y_hat)"
   ]
  },
  {
   "cell_type": "code",
   "execution_count": 39,
   "id": "1deab82f",
   "metadata": {},
   "outputs": [
    {
     "data": {
      "text/plain": [
       "[<matplotlib.lines.Line2D at 0x21b6ab28730>]"
      ]
     },
     "execution_count": 39,
     "metadata": {},
     "output_type": "execute_result"
    },
    {
     "data": {
      "image/png": "[encoded data removed]",
      "text/plain": [
       "<Figure size 640x480 with 1 Axes>"
      ]
     },
     "metadata": {},
     "output_type": "display_data"
    }
   ],
   "source": [
    "import matplotlib.pyplot as plt\n",
    "plt.plot(x_data, y_data, 'r')\n",
    "plt.plot(x_data, y_hat, 'b')"
   ]
  },
  {
   "cell_type": "code",
   "execution_count": 42,
   "id": "1da197de",
   "metadata": {},
   "outputs": [
    {
     "name": "stdout",
     "output_type": "stream",
     "text": [
      "[[ 1  3]\n",
      " [ 2 15]\n",
      " [ 5 68]\n",
      " [ 8 80]\n",
      " [10 98]]\n",
      "[[-1.22474487 -1.33836155]\n",
      " [-0.93313895 -1.01586479]\n",
      " [-0.05832118  0.4084959 ]\n",
      " [ 0.81649658  0.73099266]\n",
      " [ 1.39970842  1.2147378 ]]\n"
     ]
    }
   ],
   "source": [
    "# 라이브러리르 쓰고 표준화\n",
    "x_data = np.array([1,2,5,8,10]).reshape(-1,1)\n",
    "y_data = np.array([3,15,68,80,98]).reshape(-1,1)\n",
    "from sklearn.preprocessing import StandardScaler\n",
    "scaler_x = StandardScaler()\n",
    "scaler_y = StandardScaler()\n",
    "scaled_x_data = scaler_x.fit_transform(x_data)\n",
    "scaled_y_data = scaler_y.fit_transform(y_data)\n",
    "print(np.column_stack([x_data, y_data]))\n",
    "print(np.column_stack([scaled_x_data, scaled_y_data]))"
   ]
  },
  {
   "cell_type": "markdown",
   "id": "cce60e48",
   "metadata": {},
   "source": [
    "## 변수가 3개/\n"
   ]
  },
  {
   "cell_type": "code",
   "execution_count": 54,
   "id": "18aa0a75",
   "metadata": {},
   "outputs": [
    {
     "data": {
      "text/plain": [
       "array([[ 41. , 190. ,   7.4,  67. ,   5. ,   1. ],\n",
       "       [ 36. , 118. ,   8. ,  72. ,   5. ,   2. ],\n",
       "       [ 12. , 149. ,  12.6,  74. ,   5. ,   3. ],\n",
       "       [ 18. , 313. ,  11.5,  62. ,   5. ,   4. ],\n",
       "       [  nan,   nan,  14.3,  56. ,   5. ,   5. ],\n",
       "       [ 28. ,   nan,  14.9,  66. ,   5. ,   6. ],\n",
       "       [ 23. , 299. ,   8.6,  65. ,   5. ,   7. ],\n",
       "       [ 19. ,  99. ,  13.8,  59. ,   5. ,   8. ],\n",
       "       [  8. ,  19. ,  20.1,  61. ,   5. ,   9. ],\n",
       "       [  nan, 194. ,   8.6,  69. ,   5. ,  10. ],\n",
       "       [  7. ,   nan,   6.9,  74. ,   5. ,  11. ],\n",
       "       [ 16. , 256. ,   9.7,  69. ,   5. ,  12. ],\n",
       "       [ 11. , 290. ,   9.2,  66. ,   5. ,  13. ],\n",
       "       [ 14. , 274. ,  10.9,  68. ,   5. ,  14. ],\n",
       "       [ 18. ,  65. ,  13.2,  58. ,   5. ,  15. ],\n",
       "       [ 14. , 334. ,  11.5,  64. ,   5. ,  16. ],\n",
       "       [ 34. , 307. ,  12. ,  66. ,   5. ,  17. ],\n",
       "       [  6. ,  78. ,  18.4,  57. ,   5. ,  18. ],\n",
       "       [ 30. , 322. ,  11.5,  68. ,   5. ,  19. ],\n",
       "       [ 11. ,  44. ,   9.7,  62. ,   5. ,  20. ],\n",
       "       [  1. ,   8. ,   9.7,  59. ,   5. ,  21. ],\n",
       "       [ 11. , 320. ,  16.6,  73. ,   5. ,  22. ],\n",
       "       [  4. ,  25. ,   9.7,  61. ,   5. ,  23. ],\n",
       "       [ 32. ,  92. ,  12. ,  61. ,   5. ,  24. ],\n",
       "       [  nan,  66. ,  16.6,  57. ,   5. ,  25. ],\n",
       "       [  nan, 266. ,  14.9,  58. ,   5. ,  26. ],\n",
       "       [  nan,   nan,   8. ,  57. ,   5. ,  27. ],\n",
       "       [ 23. ,  13. ,  12. ,  67. ,   5. ,  28. ],\n",
       "       [ 45. , 252. ,  14.9,  81. ,   5. ,  29. ],\n",
       "       [115. , 223. ,   5.7,  79. ,   5. ,  30. ],\n",
       "       [ 37. , 279. ,   7.4,  76. ,   5. ,  31. ],\n",
       "       [  nan, 286. ,   8.6,  78. ,   6. ,   1. ],\n",
       "       [  nan, 287. ,   9.7,  74. ,   6. ,   2. ],\n",
       "       [  nan, 242. ,  16.1,  67. ,   6. ,   3. ],\n",
       "       [  nan, 186. ,   9.2,  84. ,   6. ,   4. ],\n",
       "       [  nan, 220. ,   8.6,  85. ,   6. ,   5. ],\n",
       "       [  nan, 264. ,  14.3,  79. ,   6. ,   6. ],\n",
       "       [ 29. , 127. ,   9.7,  82. ,   6. ,   7. ],\n",
       "       [  nan, 273. ,   6.9,  87. ,   6. ,   8. ],\n",
       "       [ 71. , 291. ,  13.8,  90. ,   6. ,   9. ],\n",
       "       [ 39. , 323. ,  11.5,  87. ,   6. ,  10. ],\n",
       "       [  nan, 259. ,  10.9,  93. ,   6. ,  11. ],\n",
       "       [  nan, 250. ,   9.2,  92. ,   6. ,  12. ],\n",
       "       [ 23. , 148. ,   8. ,  82. ,   6. ,  13. ],\n",
       "       [  nan, 332. ,  13.8,  80. ,   6. ,  14. ],\n",
       "       [  nan, 322. ,  11.5,  79. ,   6. ,  15. ],\n",
       "       [ 21. , 191. ,  14.9,  77. ,   6. ,  16. ],\n",
       "       [ 37. , 284. ,  20.7,  72. ,   6. ,  17. ],\n",
       "       [ 20. ,  37. ,   9.2,  65. ,   6. ,  18. ],\n",
       "       [ 12. , 120. ,  11.5,  73. ,   6. ,  19. ],\n",
       "       [ 13. , 137. ,  10.3,  76. ,   6. ,  20. ],\n",
       "       [  nan, 150. ,   6.3,  77. ,   6. ,  21. ],\n",
       "       [  nan,  59. ,   1.7,  76. ,   6. ,  22. ],\n",
       "       [  nan,  91. ,   4.6,  76. ,   6. ,  23. ],\n",
       "       [  nan, 250. ,   6.3,  76. ,   6. ,  24. ],\n",
       "       [  nan, 135. ,   8. ,  75. ,   6. ,  25. ],\n",
       "       [  nan, 127. ,   8. ,  78. ,   6. ,  26. ],\n",
       "       [  nan,  47. ,  10.3,  73. ,   6. ,  27. ],\n",
       "       [  nan,  98. ,  11.5,  80. ,   6. ,  28. ],\n",
       "       [  nan,  31. ,  14.9,  77. ,   6. ,  29. ],\n",
       "       [  nan, 138. ,   8. ,  83. ,   6. ,  30. ],\n",
       "       [135. , 269. ,   4.1,  84. ,   7. ,   1. ],\n",
       "       [ 49. , 248. ,   9.2,  85. ,   7. ,   2. ],\n",
       "       [ 32. , 236. ,   9.2,  81. ,   7. ,   3. ],\n",
       "       [  nan, 101. ,  10.9,  84. ,   7. ,   4. ],\n",
       "       [ 64. , 175. ,   4.6,  83. ,   7. ,   5. ],\n",
       "       [ 40. , 314. ,  10.9,  83. ,   7. ,   6. ],\n",
       "       [ 77. , 276. ,   5.1,  88. ,   7. ,   7. ],\n",
       "       [ 97. , 267. ,   6.3,  92. ,   7. ,   8. ],\n",
       "       [ 97. , 272. ,   5.7,  92. ,   7. ,   9. ],\n",
       "       [ 85. , 175. ,   7.4,  89. ,   7. ,  10. ],\n",
       "       [  nan, 139. ,   8.6,  82. ,   7. ,  11. ],\n",
       "       [ 10. , 264. ,  14.3,  73. ,   7. ,  12. ],\n",
       "       [ 27. , 175. ,  14.9,  81. ,   7. ,  13. ],\n",
       "       [  nan, 291. ,  14.9,  91. ,   7. ,  14. ],\n",
       "       [  7. ,  48. ,  14.3,  80. ,   7. ,  15. ],\n",
       "       [ 48. , 260. ,   6.9,  81. ,   7. ,  16. ],\n",
       "       [ 35. , 274. ,  10.3,  82. ,   7. ,  17. ],\n",
       "       [ 61. , 285. ,   6.3,  84. ,   7. ,  18. ],\n",
       "       [ 79. , 187. ,   5.1,  87. ,   7. ,  19. ],\n",
       "       [ 63. , 220. ,  11.5,  85. ,   7. ,  20. ],\n",
       "       [ 16. ,   7. ,   6.9,  74. ,   7. ,  21. ],\n",
       "       [  nan, 258. ,   9.7,  81. ,   7. ,  22. ],\n",
       "       [  nan, 295. ,  11.5,  82. ,   7. ,  23. ],\n",
       "       [ 80. , 294. ,   8.6,  86. ,   7. ,  24. ],\n",
       "       [108. , 223. ,   8. ,  85. ,   7. ,  25. ],\n",
       "       [ 20. ,  81. ,   8.6,  82. ,   7. ,  26. ],\n",
       "       [ 52. ,  82. ,  12. ,  86. ,   7. ,  27. ],\n",
       "       [ 82. , 213. ,   7.4,  88. ,   7. ,  28. ],\n",
       "       [ 50. , 275. ,   7.4,  86. ,   7. ,  29. ],\n",
       "       [ 64. , 253. ,   7.4,  83. ,   7. ,  30. ],\n",
       "       [ 59. , 254. ,   9.2,  81. ,   7. ,  31. ],\n",
       "       [ 39. ,  83. ,   6.9,  81. ,   8. ,   1. ],\n",
       "       [  9. ,  24. ,  13.8,  81. ,   8. ,   2. ],\n",
       "       [ 16. ,  77. ,   7.4,  82. ,   8. ,   3. ],\n",
       "       [ 78. ,   nan,   6.9,  86. ,   8. ,   4. ],\n",
       "       [ 35. ,   nan,   7.4,  85. ,   8. ,   5. ],\n",
       "       [ 66. ,   nan,   4.6,  87. ,   8. ,   6. ],\n",
       "       [122. , 255. ,   4. ,  89. ,   8. ,   7. ],\n",
       "       [ 89. , 229. ,  10.3,  90. ,   8. ,   8. ],\n",
       "       [110. , 207. ,   8. ,  90. ,   8. ,   9. ],\n",
       "       [  nan, 222. ,   8.6,  92. ,   8. ,  10. ],\n",
       "       [  nan, 137. ,  11.5,  86. ,   8. ,  11. ],\n",
       "       [ 44. , 192. ,  11.5,  86. ,   8. ,  12. ],\n",
       "       [ 28. , 273. ,  11.5,  82. ,   8. ,  13. ],\n",
       "       [ 65. , 157. ,   9.7,  80. ,   8. ,  14. ],\n",
       "       [  nan,  64. ,  11.5,  79. ,   8. ,  15. ],\n",
       "       [ 22. ,  71. ,  10.3,  77. ,   8. ,  16. ],\n",
       "       [ 59. ,  51. ,   6.3,  79. ,   8. ,  17. ],\n",
       "       [ 23. , 115. ,   7.4,  76. ,   8. ,  18. ],\n",
       "       [ 31. , 244. ,  10.9,  78. ,   8. ,  19. ],\n",
       "       [ 44. , 190. ,  10.3,  78. ,   8. ,  20. ],\n",
       "       [ 21. , 259. ,  15.5,  77. ,   8. ,  21. ],\n",
       "       [  9. ,  36. ,  14.3,  72. ,   8. ,  22. ],\n",
       "       [  nan, 255. ,  12.6,  75. ,   8. ,  23. ],\n",
       "       [ 45. , 212. ,   9.7,  79. ,   8. ,  24. ],\n",
       "       [168. , 238. ,   3.4,  81. ,   8. ,  25. ],\n",
       "       [ 73. , 215. ,   8. ,  86. ,   8. ,  26. ],\n",
       "       [  nan, 153. ,   5.7,  88. ,   8. ,  27. ],\n",
       "       [ 76. , 203. ,   9.7,  97. ,   8. ,  28. ],\n",
       "       [118. , 225. ,   2.3,  94. ,   8. ,  29. ],\n",
       "       [ 84. , 237. ,   6.3,  96. ,   8. ,  30. ],\n",
       "       [ 85. , 188. ,   6.3,  94. ,   8. ,  31. ],\n",
       "       [ 96. , 167. ,   6.9,  91. ,   9. ,   1. ],\n",
       "       [ 78. , 197. ,   5.1,  92. ,   9. ,   2. ],\n",
       "       [ 73. , 183. ,   2.8,  93. ,   9. ,   3. ],\n",
       "       [ 91. , 189. ,   4.6,  93. ,   9. ,   4. ],\n",
       "       [ 47. ,  95. ,   7.4,  87. ,   9. ,   5. ],\n",
       "       [ 32. ,  92. ,  15.5,  84. ,   9. ,   6. ],\n",
       "       [ 20. , 252. ,  10.9,  80. ,   9. ,   7. ],\n",
       "       [ 23. , 220. ,  10.3,  78. ,   9. ,   8. ],\n",
       "       [ 21. , 230. ,  10.9,  75. ,   9. ,   9. ],\n",
       "       [ 24. , 259. ,   9.7,  73. ,   9. ,  10. ],\n",
       "       [ 44. , 236. ,  14.9,  81. ,   9. ,  11. ],\n",
       "       [ 21. , 259. ,  15.5,  76. ,   9. ,  12. ],\n",
       "       [ 28. , 238. ,   6.3,  77. ,   9. ,  13. ],\n",
       "       [  9. ,  24. ,  10.9,  71. ,   9. ,  14. ],\n",
       "       [ 13. , 112. ,  11.5,  71. ,   9. ,  15. ],\n",
       "       [ 46. , 237. ,   6.9,  78. ,   9. ,  16. ],\n",
       "       [ 18. , 224. ,  13.8,  67. ,   9. ,  17. ],\n",
       "       [ 13. ,  27. ,  10.3,  76. ,   9. ,  18. ],\n",
       "       [ 24. , 238. ,  10.3,  68. ,   9. ,  19. ],\n",
       "       [ 16. , 201. ,   8. ,  82. ,   9. ,  20. ],\n",
       "       [ 13. , 238. ,  12.6,  64. ,   9. ,  21. ],\n",
       "       [ 23. ,  14. ,   9.2,  71. ,   9. ,  22. ],\n",
       "       [ 36. , 139. ,  10.3,  81. ,   9. ,  23. ],\n",
       "       [  7. ,  49. ,  10.3,  69. ,   9. ,  24. ],\n",
       "       [ 14. ,  20. ,  16.6,  63. ,   9. ,  25. ],\n",
       "       [ 30. , 193. ,   6.9,  70. ,   9. ,  26. ],\n",
       "       [  nan, 145. ,  13.2,  77. ,   9. ,  27. ],\n",
       "       [ 14. , 191. ,  14.3,  75. ,   9. ,  28. ],\n",
       "       [ 18. , 131. ,   8. ,  76. ,   9. ,  29. ],\n",
       "       [ 20. , 223. ,  11.5,  68. ,   9. ,  30. ]])"
      ]
     },
     "metadata": {},
     "output_type": "display_data"
    }
   ],
   "source": [
    "import numpy as np\n",
    "data = np.genfromtxt('data/ozone.csv',\n",
    "                    delimiter=',',\n",
    "                    skip_header=1,\n",
    "                    missing_values='NA',\n",
    "                    filling_values=np.nan)\n",
    "display(data)\n"
   ]
  },
  {
   "cell_type": "code",
   "execution_count": 18,
   "id": "37a0c555",
   "metadata": {},
   "outputs": [
    {
     "name": "stdout",
     "output_type": "stream",
     "text": [
      "<class 'pandas.core.frame.DataFrame'>\n",
      "RangeIndex: 153 entries, 0 to 152\n",
      "Data columns (total 6 columns):\n",
      " #   Column   Non-Null Count  Dtype  \n",
      "---  ------   --------------  -----  \n",
      " 0   Ozone    116 non-null    float64\n",
      " 1   Solar.R  146 non-null    float64\n",
      " 2   Wind     153 non-null    float64\n",
      " 3   Temp     153 non-null    int64  \n",
      " 4   Month    153 non-null    int64  \n",
      " 5   Day      153 non-null    int64  \n",
      "dtypes: float64(3), int64(3)\n",
      "memory usage: 7.3 KB\n"
     ]
    },
    {
     "data": {
      "text/plain": [
       "Ozone      37\n",
       "Solar.R     7\n",
       "Wind        0\n",
       "Temp        0\n",
       "Month       0\n",
       "Day         0\n",
       "dtype: int64"
      ]
     },
     "execution_count": 18,
     "metadata": {},
     "output_type": "execute_result"
    }
   ],
   "source": [
    "# 방법2 : csv파일 -> 데이터프레임 -> 결측치처리 -> 넘파이배열 -> 머신러닝\n",
    "#1. csv를 데이터프레임으로 읽기\n",
    "import pandas as pd\n",
    "data = pd.read_csv('data/ozone.csv')\n",
    "data.info()\n",
    "data.isna().sum()"
   ]
  },
  {
   "cell_type": "code",
   "execution_count": 29,
   "id": "ef1bd1ae",
   "metadata": {},
   "outputs": [
    {
     "data": {
      "text/html": [
       "<div>\n",
       "<style scoped>\n",
       "    .dataframe tbody tr th:only-of-type {\n",
       "        vertical-align: middle;\n",
       "    }\n",
       "\n",
       "    .dataframe tbody tr th {\n",
       "        vertical-align: top;\n",
       "    }\n",
       "\n",
       "    .dataframe thead th {\n",
       "        text-align: right;\n",
       "    }\n",
       "</style>\n",
       "<table border=\"1\" class=\"dataframe\">\n",
       "  <thead>\n",
       "    <tr style=\"text-align: right;\">\n",
       "      <th></th>\n",
       "      <th>Ozone</th>\n",
       "      <th>Solar.R</th>\n",
       "    </tr>\n",
       "    <tr>\n",
       "      <th>Month</th>\n",
       "      <th></th>\n",
       "      <th></th>\n",
       "    </tr>\n",
       "  </thead>\n",
       "  <tbody>\n",
       "    <tr>\n",
       "      <th>5</th>\n",
       "      <td>23.615385</td>\n",
       "      <td>181.296296</td>\n",
       "    </tr>\n",
       "    <tr>\n",
       "      <th>6</th>\n",
       "      <td>29.444444</td>\n",
       "      <td>190.166667</td>\n",
       "    </tr>\n",
       "    <tr>\n",
       "      <th>7</th>\n",
       "      <td>59.115385</td>\n",
       "      <td>216.483871</td>\n",
       "    </tr>\n",
       "    <tr>\n",
       "      <th>8</th>\n",
       "      <td>59.961538</td>\n",
       "      <td>171.857143</td>\n",
       "    </tr>\n",
       "    <tr>\n",
       "      <th>9</th>\n",
       "      <td>31.448276</td>\n",
       "      <td>167.433333</td>\n",
       "    </tr>\n",
       "  </tbody>\n",
       "</table>\n",
       "</div>"
      ],
      "text/plain": [
       "           Ozone     Solar.R\n",
       "Month                       \n",
       "5      23.615385  181.296296\n",
       "6      29.444444  190.166667\n",
       "7      59.115385  216.483871\n",
       "8      59.961538  171.857143\n",
       "9      31.448276  167.433333"
      ]
     },
     "metadata": {},
     "output_type": "display_data"
    },
    {
     "name": "stdout",
     "output_type": "stream",
     "text": [
      "5월에 Ozone으로 대체할 값 : 23.615384615384617\n"
     ]
    }
   ],
   "source": [
    "# 2. 결측치처리\n",
    "# 결측치 처리 방법1 : 결측치가 있는 행을 제거\n",
    "# data.dropna(how='any', axis=0, inplace=True)\n",
    "# 결측치 처리 방법2 : 결측치 대체(열별 평균값으로 대체)\n",
    "data.mean() # 열별평균\n",
    "# data.fillna(value=data.mean(), inplace=True)\n",
    "# 결측치 처리 방법3 : 결측치 대체(월별 열별 평균값으로 대체)\n",
    "mean_data = data.groupby('Month')[['Ozone','Solar.R']].mean()\n",
    "display(mean_data)\n",
    "print('5월에 Ozone으로 대체할 값 :', mean_data.loc[5, 'Ozone'])"
   ]
  },
  {
   "cell_type": "code",
   "execution_count": 30,
   "id": "f119d449",
   "metadata": {},
   "outputs": [
    {
     "data": {
      "text/html": [
       "<div>\n",
       "<style scoped>\n",
       "    .dataframe tbody tr th:only-of-type {\n",
       "        vertical-align: middle;\n",
       "    }\n",
       "\n",
       "    .dataframe tbody tr th {\n",
       "        vertical-align: top;\n",
       "    }\n",
       "\n",
       "    .dataframe thead th {\n",
       "        text-align: right;\n",
       "    }\n",
       "</style>\n",
       "<table border=\"1\" class=\"dataframe\">\n",
       "  <thead>\n",
       "    <tr style=\"text-align: right;\">\n",
       "      <th></th>\n",
       "      <th>Ozone</th>\n",
       "      <th>Solar.R</th>\n",
       "      <th>Wind</th>\n",
       "      <th>Temp</th>\n",
       "      <th>Month</th>\n",
       "      <th>Day</th>\n",
       "    </tr>\n",
       "  </thead>\n",
       "  <tbody>\n",
       "    <tr>\n",
       "      <th>4</th>\n",
       "      <td>NaN</td>\n",
       "      <td>NaN</td>\n",
       "      <td>14.3</td>\n",
       "      <td>56</td>\n",
       "      <td>5</td>\n",
       "      <td>5</td>\n",
       "    </tr>\n",
       "  </tbody>\n",
       "</table>\n",
       "</div>"
      ],
      "text/plain": [
       "   Ozone  Solar.R  Wind  Temp  Month  Day\n",
       "4    NaN      NaN  14.3    56      5    5"
      ]
     },
     "execution_count": 30,
     "metadata": {},
     "output_type": "execute_result"
    }
   ],
   "source": [
    "# 결측치가 있는 데이터\n",
    "data[data['Ozone'].isna() | data['Solar.R'].isna()].head(1)"
   ]
  },
  {
   "cell_type": "code",
   "execution_count": 31,
   "id": "74fe2293",
   "metadata": {},
   "outputs": [
    {
     "name": "stderr",
     "output_type": "stream",
     "text": [
      "C:\\Users\\Admin\\AppData\\Local\\Temp\\ipykernel_12468\\542713890.py:6: SettingWithCopyWarning: \n",
      "A value is trying to be set on a copy of a slice from a DataFrame\n",
      "\n",
      "See the caveats in the documentation: https://pandas.pydata.org/pandas-docs/stable/user_guide/indexing.html#returning-a-view-versus-a-copy\n",
      "  row['Ozone'] = mean_data.loc[row.Month, 'Ozone']\n",
      "C:\\Users\\Admin\\AppData\\Local\\Temp\\ipykernel_12468\\542713890.py:8: SettingWithCopyWarning: \n",
      "A value is trying to be set on a copy of a slice from a DataFrame\n",
      "\n",
      "See the caveats in the documentation: https://pandas.pydata.org/pandas-docs/stable/user_guide/indexing.html#returning-a-view-versus-a-copy\n",
      "  row['Solar.R'] = mean_data.loc[row['Month'], 'Solar.R']\n"
     ]
    },
    {
     "data": {
      "text/plain": [
       "Ozone       23.615385\n",
       "Solar.R    181.296296\n",
       "Wind        14.300000\n",
       "Temp        56.000000\n",
       "Month        5.000000\n",
       "Day          5.000000\n",
       "Name: 4, dtype: float64"
      ]
     },
     "execution_count": 31,
     "metadata": {},
     "output_type": "execute_result"
    }
   ],
   "source": [
    "def fill_nan(row):\n",
    "    #print(row['Ozone'], row['Solar.R'])\n",
    "   # print(row.isna())\n",
    "    #두개의 행이 결측치이면 평균값으로 대체한다\n",
    "    if row.isna()['Ozone']:\n",
    "        row['Ozone'] = mean_data.loc[row.Month, 'Ozone']\n",
    "    if row.isna()['Solar.R']:\n",
    "        row['Solar.R'] = mean_data.loc[row['Month'], 'Solar.R']\n",
    "    return row\n",
    "fill_nan(data.loc[4])"
   ]
  },
  {
   "cell_type": "code",
   "execution_count": 39,
   "id": "4b003a69",
   "metadata": {},
   "outputs": [
    {
     "data": {
      "text/plain": [
       "((153, 3), (153, 1))"
      ]
     },
     "execution_count": 39,
     "metadata": {},
     "output_type": "execute_result"
    }
   ],
   "source": [
    "data.apply(fill_nan, axis=1)\n",
    "x_data = data[['Solar.R', 'Wind', 'Temp']].values\n",
    "y_data = data[['Ozone']].values\n",
    "x_data.shape, y_data.shape"
   ]
  },
  {
   "cell_type": "code",
   "execution_count": 49,
   "id": "2fd38722",
   "metadata": {},
   "outputs": [],
   "source": [
    "import tensorflow.compat.v1 as tf\n",
    "tf.disable_v2_behavior()  # TensorFlow 2.x 기능 비활성화 (v1 스타일로 실행)\n"
   ]
  },
  {
   "cell_type": "code",
   "execution_count": 62,
   "id": "c15127cb",
   "metadata": {},
   "outputs": [
    {
     "name": "stdout",
     "output_type": "stream",
     "text": [
      "1000 0.24277133\n",
      "2000 0.025216231\n",
      "3000 0.002619205\n",
      "4000 0.00027207064\n",
      "5000 2.828094e-05\n",
      "6000 2.943171e-06\n",
      "7000 3.0987454e-07\n",
      "8000 3.155098e-08\n",
      "9000 5.258395e-09\n",
      "10000 2.217045e-09\n"
     ]
    }
   ],
   "source": [
    "import tensorflow.compat.v1 as tf\n",
    "tf.disable_v2_behavior()\n",
    "\n",
    "# 입력값 (3개의 특성), 출력값 (1개 정답)\n",
    "x = tf.placeholder(shape=[None, 3], dtype=tf.float32)\n",
    "y = tf.placeholder(shape=[None, 1], dtype=tf.float32)\n",
    "\n",
    "# 가중치와 편향 초기화\n",
    "w = tf.Variable(tf.random.normal([3, 1]))\n",
    "b = tf.Variable(tf.random.normal([1]))\n",
    "\n",
    "# 가설 함수 H = xw + b\n",
    "H = tf.matmul(x, w) + b\n",
    "\n",
    "# 비용 함수 (MSE: 평균 제곱 오차)\n",
    "cost = tf.reduce_mean(tf.square(H - y))\n",
    "\n",
    "# 경사 하강법 최적화\n",
    "train = tf.train.GradientDescentOptimizer(learning_rate=0.001).minimize(cost)\n",
    "\n",
    "# 세션 실행\n",
    "sess = tf.Session()\n",
    "sess.run(tf.global_variables_initializer()) \n",
    "\n",
    "# 학습 루프\n",
    "for step in range(1, 10001):\n",
    "    _, cost_val = sess.run([train, cost], feed_dict={x: x_train, y: y_train})\n",
    "    if step%1000 == 0:\n",
    "        print(step, cost_val)"
   ]
  },
  {
   "cell_type": "code",
   "execution_count": 63,
   "id": "747237c4",
   "metadata": {},
   "outputs": [
    {
     "data": {
      "text/plain": [
       "array([[261.5838]], dtype=float32)"
      ]
     },
     "execution_count": 63,
     "metadata": {},
     "output_type": "execute_result"
    }
   ],
   "source": [
    "# 예측하기\n",
    "input_data = np.array([[190, 7.4, 67]])\n",
    "sess.run(H, feed_dict={x:input_data})"
   ]
  },
  {
   "cell_type": "code",
   "execution_count": 64,
   "id": "70b8b83e",
   "metadata": {},
   "outputs": [
    {
     "data": {
      "text/plain": [
       "array([[222.93272]], dtype=float32)"
      ]
     },
     "execution_count": 64,
     "metadata": {},
     "output_type": "execute_result"
    }
   ],
   "source": [
    "input_data = np.array([[118, 8, 72]])\n",
    "sess.run(H, feed_dict={x:input_data})"
   ]
  },
  {
   "cell_type": "markdown",
   "id": "c4d4787c",
   "metadata": {},
   "source": [
    "### 스케일 조정\n",
    "- MinMaxScaler, StandardScaler"
   ]
  },
  {
   "cell_type": "code",
   "execution_count": 66,
   "id": "864b89a2",
   "metadata": {},
   "outputs": [],
   "source": [
    "from sklearn.preprocessing import MinMaxScaler\n",
    "scaler_x = MinMaxScaler()\n",
    "scaler_y = MinMaxScaler()\n",
    "scaled_x_data = scaler_x.fit_transform(x_data)\n",
    "scaled_y_data = scaler_y.fit_transform(x_data)"
   ]
  },
  {
   "cell_type": "code",
   "execution_count": 68,
   "id": "3d67d88c",
   "metadata": {},
   "outputs": [
    {
     "ename": "NotFittedError",
     "evalue": "This MinMaxScaler instance is not fitted yet. Call 'fit' with appropriate arguments before using this estimator.",
     "output_type": "error",
     "traceback": [
      "\u001b[1;31m---------------------------------------------------------------------------\u001b[0m",
      "\u001b[1;31mNotFittedError\u001b[0m                            Traceback (most recent call last)",
      "Cell \u001b[1;32mIn[68], line 4\u001b[0m\n\u001b[0;32m      2\u001b[0m input_data \u001b[38;5;241m=\u001b[39m np\u001b[38;5;241m.\u001b[39marray([[\u001b[38;5;241m118\u001b[39m, \u001b[38;5;241m8\u001b[39m, \u001b[38;5;241m72\u001b[39m]])\n\u001b[0;32m      3\u001b[0m scaled_y_hat \u001b[38;5;241m=\u001b[39m sess\u001b[38;5;241m.\u001b[39mrun(H, feed_dict\u001b[38;5;241m=\u001b[39m{x:scaler_x\u001b[38;5;241m.\u001b[39mtransform(input_data)})\n\u001b[1;32m----> 4\u001b[0m \u001b[43my_scaler\u001b[49m\u001b[38;5;241;43m.\u001b[39;49m\u001b[43minverse_transform\u001b[49m\u001b[43m(\u001b[49m\u001b[43mscaled_y_hat\u001b[49m\u001b[43m)\u001b[49m\n",
      "File \u001b[1;32m~\\anaconda3\\envs\\ml-dl-nlp\\lib\\site-packages\\sklearn\\preprocessing\\_data.py:535\u001b[0m, in \u001b[0;36mMinMaxScaler.inverse_transform\u001b[1;34m(self, X)\u001b[0m\n\u001b[0;32m    522\u001b[0m \u001b[38;5;28;01mdef\u001b[39;00m\u001b[38;5;250m \u001b[39m\u001b[38;5;21minverse_transform\u001b[39m(\u001b[38;5;28mself\u001b[39m, X):\n\u001b[0;32m    523\u001b[0m \u001b[38;5;250m    \u001b[39m\u001b[38;5;124;03m\"\"\"Undo the scaling of X according to feature_range.\u001b[39;00m\n\u001b[0;32m    524\u001b[0m \n\u001b[0;32m    525\u001b[0m \u001b[38;5;124;03m    Parameters\u001b[39;00m\n\u001b[1;32m   (...)\u001b[0m\n\u001b[0;32m    533\u001b[0m \u001b[38;5;124;03m        Transformed data.\u001b[39;00m\n\u001b[0;32m    534\u001b[0m \u001b[38;5;124;03m    \"\"\"\u001b[39;00m\n\u001b[1;32m--> 535\u001b[0m     \u001b[43mcheck_is_fitted\u001b[49m\u001b[43m(\u001b[49m\u001b[38;5;28;43mself\u001b[39;49m\u001b[43m)\u001b[49m\n\u001b[0;32m    537\u001b[0m     X \u001b[38;5;241m=\u001b[39m check_array(\n\u001b[0;32m    538\u001b[0m         X, copy\u001b[38;5;241m=\u001b[39m\u001b[38;5;28mself\u001b[39m\u001b[38;5;241m.\u001b[39mcopy, dtype\u001b[38;5;241m=\u001b[39mFLOAT_DTYPES, force_all_finite\u001b[38;5;241m=\u001b[39m\u001b[38;5;124m\"\u001b[39m\u001b[38;5;124mallow-nan\u001b[39m\u001b[38;5;124m\"\u001b[39m\n\u001b[0;32m    539\u001b[0m     )\n\u001b[0;32m    541\u001b[0m     X \u001b[38;5;241m-\u001b[39m\u001b[38;5;241m=\u001b[39m \u001b[38;5;28mself\u001b[39m\u001b[38;5;241m.\u001b[39mmin_\n",
      "File \u001b[1;32m~\\anaconda3\\envs\\ml-dl-nlp\\lib\\site-packages\\sklearn\\utils\\validation.py:1390\u001b[0m, in \u001b[0;36mcheck_is_fitted\u001b[1;34m(estimator, attributes, msg, all_or_any)\u001b[0m\n\u001b[0;32m   1385\u001b[0m     fitted \u001b[38;5;241m=\u001b[39m [\n\u001b[0;32m   1386\u001b[0m         v \u001b[38;5;28;01mfor\u001b[39;00m v \u001b[38;5;129;01min\u001b[39;00m \u001b[38;5;28mvars\u001b[39m(estimator) \u001b[38;5;28;01mif\u001b[39;00m v\u001b[38;5;241m.\u001b[39mendswith(\u001b[38;5;124m\"\u001b[39m\u001b[38;5;124m_\u001b[39m\u001b[38;5;124m\"\u001b[39m) \u001b[38;5;129;01mand\u001b[39;00m \u001b[38;5;129;01mnot\u001b[39;00m v\u001b[38;5;241m.\u001b[39mstartswith(\u001b[38;5;124m\"\u001b[39m\u001b[38;5;124m__\u001b[39m\u001b[38;5;124m\"\u001b[39m)\n\u001b[0;32m   1387\u001b[0m     ]\n\u001b[0;32m   1389\u001b[0m \u001b[38;5;28;01mif\u001b[39;00m \u001b[38;5;129;01mnot\u001b[39;00m fitted:\n\u001b[1;32m-> 1390\u001b[0m     \u001b[38;5;28;01mraise\u001b[39;00m NotFittedError(msg \u001b[38;5;241m%\u001b[39m {\u001b[38;5;124m\"\u001b[39m\u001b[38;5;124mname\u001b[39m\u001b[38;5;124m\"\u001b[39m: \u001b[38;5;28mtype\u001b[39m(estimator)\u001b[38;5;241m.\u001b[39m\u001b[38;5;18m__name__\u001b[39m})\n",
      "\u001b[1;31mNotFittedError\u001b[0m: This MinMaxScaler instance is not fitted yet. Call 'fit' with appropriate arguments before using this estimator."
     ]
    }
   ],
   "source": [
    "# 예측하기\n",
    "input_data = np.array([[118, 8, 72]])\n",
    "scaled_y_hat = sess.run(H, feed_dict={x:scaler_x.transform(input_data)})\n",
    "y_scaler.inverse_transform(scaled_y_hat)"
   ]
  },
  {
   "cell_type": "markdown",
   "id": "06f5e62a",
   "metadata": {},
   "source": [
    "# 3. 이진분류"
   ]
  },
  {
   "cell_type": "code",
   "execution_count": 71,
   "id": "f94b1fc4",
   "metadata": {},
   "outputs": [
    {
     "data": {
      "text/plain": [
       "<matplotlib.collections.PathCollection at 0x2a2b901a110>"
      ]
     },
     "execution_count": 71,
     "metadata": {},
     "output_type": "execute_result"
    },
    {
     "data": {
      "image/png": "[encoded data removed]",
      "text/plain": [
       "<Figure size 640x480 with 1 Axes>"
      ]
     },
     "metadata": {},
     "output_type": "display_data"
    }
   ],
   "source": [
    "x = np.array([1,2,5,8,10])\n",
    "y = np.array([0,0,0,0,1]) # 실제값\n",
    "from scipy import stats\n",
    "lm = stats.linregress(x, y) # 기울기와 y 절편\n",
    "H = lm[0]*x + lm[1]\n",
    "import matplotlib.pyplot as plt\n",
    "plt.plot(x, H, 'r')\n",
    "plt.scatter(x,y)"
   ]
  },
  {
   "cell_type": "code",
   "execution_count": 78,
   "id": "74823493",
   "metadata": {},
   "outputs": [
    {
     "name": "stdout",
     "output_type": "stream",
     "text": [
      "800번째 cost:0.2108505219221115\n",
      "1600번째 cost:0.16581089794635773\n",
      "2400번째 cost:0.13987232744693756\n",
      "3200번째 cost:0.1212165504693985\n",
      "4000번째 cost:0.10680949687957764\n",
      "4800번째 cost:0.09529435634613037\n",
      "5600번째 cost:0.08588570356369019\n",
      "6400번째 cost:0.07806862890720367\n",
      "7200번째 cost:0.0714840218424797\n",
      "8000번째 cost:0.06587176024913788\n"
     ]
    }
   ],
   "source": [
    "# 교안 50pt\n",
    "import numpy as np\n",
    "X_data = np.array([[10,0],\n",
    "                   [8,1],\n",
    "                   [3,3],\n",
    "                   [2,3],\n",
    "                   [5,1],\n",
    "                   [2,0],\n",
    "                   [1,0]])\n",
    "y_data = np.array([[1],[1],[1],[1],[0],[0],[0],])\n",
    "# tensorflow 구현(tensor 그래프)\n",
    "X = tf.placeholder(shape=[None, 2], dtype=tf.float32)\n",
    "y = tf.placeholder(shape=[None, 1], dtype=tf.float32)\n",
    "# 독립변수가 2개, 종속변수가 1개의 weight, bias\n",
    "W = tf.Variable(tf.random.normal([2, 1]))\n",
    "b = tf.Variable(tf.random.normal([1]))\n",
    "# Hypothesis\n",
    "logits = tf.matmul(X, W) + b\n",
    "H      = tf.sigmoid(logits)\n",
    "#cost 함수\n",
    "# cost = tf.reduce_mean(tf.square(H-y))\n",
    "cost = tf.reduce_mean(tf.nn.sigmoid_cross_entropy_with_logits(logits=logits,\n",
    "                                                             labels=y))\n",
    "#train\n",
    "train = tf.train.GradientDescentOptimizer(learning_rate=0.1).minimize(cost)\n",
    "# sess객체 생성\n",
    "sess = tf.Session()\n",
    "sess.run(tf.global_variables_initializer())\n",
    "# 학습\n",
    "for step in range(1, 8001):\n",
    "    _, cost_val = sess.run([train, cost], feed_dict={X:X_data,\n",
    "                                                    y:y_data})\n",
    "    if step%800==0:\n",
    "        print(\"{}번째 cost:{}\".format(step, cost_val))"
   ]
  },
  {
   "cell_type": "code",
   "execution_count": 83,
   "id": "8674a97a",
   "metadata": {},
   "outputs": [
    {
     "data": {
      "text/plain": [
       "array([[1.]], dtype=float32)"
      ]
     },
     "execution_count": 83,
     "metadata": {},
     "output_type": "execute_result"
    }
   ],
   "source": [
    "# 모델 사용\n",
    "input_data = np.array([[10,0]])\n",
    "predict = tf.cast(H>=0.5, dtype=tf.float32)\n",
    "sess.run(predict, feed_dict={X:input_data})"
   ]
  },
  {
   "cell_type": "code",
   "execution_count": 85,
   "id": "3db008a0",
   "metadata": {},
   "outputs": [
    {
     "name": "stdout",
     "output_type": "stream",
     "text": [
      "모델 정확도 : 1.0\n"
     ]
    }
   ],
   "source": [
    "# accuracy\n",
    "correct = tf.equal(predict, y)\n",
    "sess.run(correct, feed_dict={X:X_data,\n",
    "                            y:y_data})\n",
    "accuracy = tf.reduce_mean( tf.cast(correct, dtype=tf.float32))\n",
    "print('모델 정확도 :', sess.run(accuracy, feed_dict={X:X_data,\n",
    "                                               y:y_data}))"
   ]
  },
  {
   "cell_type": "markdown",
   "id": "3b8ef87c",
   "metadata": {},
   "source": [
    "## 4.xor"
   ]
  },
  {
   "cell_type": "code",
   "execution_count": 100,
   "id": "c11ddd5c",
   "metadata": {},
   "outputs": [
    {
     "name": "stdout",
     "output_type": "stream",
     "text": [
      "1000 0.5926912\n",
      "2000 0.5296484\n",
      "3000 0.48549306\n",
      "4000 0.432927\n",
      "5000 0.32968438\n",
      "6000 0.18747431\n",
      "7000 0.1027004\n",
      "8000 0.071508706\n",
      "9000 0.054470457\n",
      "10000 0.043619707\n"
     ]
    }
   ],
   "source": [
    "x_data = np.array([[0,0],\n",
    "                 [0,1],\n",
    "                 [1,0],\n",
    "                 [1,1]])\n",
    "y_data = np.array([[0], [1], [1], [0]])\n",
    "x = tf.placeholder(shape=[None, 2], dtype=tf.float32)\n",
    "y = tf.placeholder(shape=[None, 1], dtype=tf.float32)\n",
    "\n",
    "w1 = tf.Variable(tf.random.normal([2,4]))\n",
    "b1 = tf.Variable(tf.random.normal([4]))\n",
    "\n",
    "layer1 = tf.nn.relu(tf.matmul(x, w1)+b1)\n",
    "\n",
    "w2 = tf.Variable(tf.random.normal([4,1]))\n",
    "b2 = tf.Variable(tf.random.normal([1]))\n",
    "logits = tf.matmul(layer1, w2) + b2\n",
    "H      = tf.sigmoid(logits)\n",
    "\n",
    "\n",
    "cost = tf.reduce_mean(tf.nn.sigmoid_cross_entropy_with_logits(logits=logits,\n",
    "                                                             labels=y))\n",
    "\n",
    "train = tf.train.GradientDescentOptimizer(learning_rate=0.01).minimize(cost)\n",
    "\n",
    "sess = tf.Session()\n",
    "sess.run(tf.global_variables_initializer())\n",
    "\n",
    "for step in range(1,10001):\n",
    "    _,cost_val = sess.run([train, cost], feed_dict={x:x_data,\n",
    "                                                   y:y_data})\n",
    "    if step%1000==0:\n",
    "        print(step, cost_val)"
   ]
  },
  {
   "cell_type": "code",
   "execution_count": 103,
   "id": "0ab70a10",
   "metadata": {},
   "outputs": [
    {
     "name": "stdout",
     "output_type": "stream",
     "text": [
      "모델 정확도 : 1.0\n"
     ]
    }
   ],
   "source": [
    "predict = tf.cast(H>=0.5, dtype=tf.float32)\n",
    "correct = tf.equal(predict, y)\n",
    "sess.run(correct, feed_dict={x:x_data,\n",
    "                            y:y_data})\n",
    "accuracy = tf.reduce_mean( tf.cast(correct, dtype=tf.float32))\n",
    "print('모델 정확도 :', sess.run(accuracy, feed_dict={x:x_data,\n",
    "                                               y:y_data}))"
   ]
  },
  {
   "cell_type": "markdown",
   "id": "ff2aed94",
   "metadata": {},
   "source": [
    "## x층 2개 -> 4개 ->1개\n",
    "## layer x_data 2개 -> 10 ->20 ->10 ->1"
   ]
  },
  {
   "cell_type": "code",
   "execution_count": 115,
   "id": "a46ab199",
   "metadata": {},
   "outputs": [
    {
     "name": "stdout",
     "output_type": "stream",
     "text": [
      "50 0.055699024\n",
      "100 0.02987327\n",
      "150 0.019671194\n",
      "200 0.014361814\n",
      "250 0.011197001\n",
      "300 0.009165708\n"
     ]
    }
   ],
   "source": [
    "x_data = np.array([[0,0],\n",
    "                 [0,1],\n",
    "                 [1,0],\n",
    "                 [1,1]])\n",
    "y_data = np.array([[0], [1], [1], [0]])\n",
    "x = tf.placeholder(shape=[None, 2], dtype=tf.float32)\n",
    "y = tf.placeholder(shape=[None, 1], dtype=tf.float32)\n",
    "\n",
    "w1 = tf.Variable(tf.random.normal([2,10]))\n",
    "b1 = tf.Variable(tf.random.normal([10]))\n",
    "layer1 = tf.nn.relu(tf.matmul(x, w1)+b1)\n",
    "\n",
    "w2 = tf.Variable(tf.random.normal([10,20]))\n",
    "b2 = tf.Variable(tf.random.normal([20]))\n",
    "layer2 = tf.nn.relu(tf.matmul(layer1, w2)+b2)\n",
    "\n",
    "w3 = tf.Variable(tf.random.normal([20,10]))\n",
    "b3 = tf.Variable(tf.random.normal([10]))\n",
    "layer3 = tf.nn.relu(tf.matmul(layer2, w3)+b3)\n",
    "\n",
    "w4 = tf.Variable(tf.random.normal([10,1]))\n",
    "b4 = tf.Variable(tf.random.normal([1]))\n",
    "\n",
    "logits = tf.matmul(layer3, w4) + b4\n",
    "H      = tf.sigmoid(logits)\n",
    "\n",
    "\n",
    "cost = tf.reduce_mean(tf.nn.sigmoid_cross_entropy_with_logits(logits=logits,\n",
    "                                                             labels=y))\n",
    "\n",
    "train = tf.train.GradientDescentOptimizer(learning_rate=0.01).minimize(cost)\n",
    "\n",
    "sess = tf.Session()\n",
    "sess.run(tf.global_variables_initializer())\n",
    "\n",
    "for step in range(1,301):\n",
    "    _,cost_val = sess.run([train, cost], feed_dict={x:x_data,\n",
    "                                                   y:y_data})\n",
    "    if step%50==0:\n",
    "        print(step, cost_val)"
   ]
  },
  {
   "cell_type": "code",
   "execution_count": 116,
   "id": "e66c48c8",
   "metadata": {},
   "outputs": [
    {
     "name": "stdout",
     "output_type": "stream",
     "text": [
      "모델 정확도 : 1.0\n"
     ]
    }
   ],
   "source": [
    "predict = tf.cast(H>=0.5, dtype=tf.float32)\n",
    "correct = tf.equal(predict, y)\n",
    "sess.run(correct, feed_dict={x:x_data,\n",
    "                            y:y_data})\n",
    "accuracy = tf.reduce_mean( tf.cast(correct, dtype=tf.float32))\n",
    "print('모델 정확도 :', sess.run(accuracy, feed_dict={x:x_data,\n",
    "                                               y:y_data}))"
   ]
  },
  {
   "cell_type": "code",
   "execution_count": null,
   "id": "90d13539",
   "metadata": {},
   "outputs": [],
   "source": []
  },
  {
   "cell_type": "code",
   "execution_count": null,
   "id": "5673f108",
   "metadata": {},
   "outputs": [],
   "source": []
  },
  {
   "cell_type": "code",
   "execution_count": null,
   "id": "505016b7",
   "metadata": {},
   "outputs": [],
   "source": []
  },
  {
   "cell_type": "code",
   "execution_count": null,
   "id": "b00e830e",
   "metadata": {},
   "outputs": [],
   "source": []
  },
  {
   "cell_type": "code",
   "execution_count": null,
   "id": "b65a2bf0",
   "metadata": {},
   "outputs": [],
   "source": []
  },
  {
   "cell_type": "code",
   "execution_count": null,
   "id": "294adf1e",
   "metadata": {},
   "outputs": [],
   "source": []
  }
 ],
 "metadata": {
  "kernelspec": {
   "display_name": "ml-dl-nlp",
   "language": "python",
   "name": "ml-dl-nlp"
  },
  "language_info": {
   "codemirror_mode": {
    "name": "ipython",
    "version": 3
   },
   "file_extension": ".py",
   "mimetype": "text/x-python",
   "name": "python",
   "nbconvert_exporter": "python",
   "pygments_lexer": "ipython3",
   "version": "3.10.18"
  },
  "toc": {
   "base_numbering": 1,
   "nav_menu": {},
   "number_sections": false,
   "sideBar": true,
   "skip_h1_title": false,
   "title_cell": "Table of Contents",
   "title_sidebar": "Contents",
   "toc_cell": false,
   "toc_position": {},
   "toc_section_display": true,
   "toc_window_display": false
  }
 },
 "nbformat": 4,
 "nbformat_minor": 5
}
