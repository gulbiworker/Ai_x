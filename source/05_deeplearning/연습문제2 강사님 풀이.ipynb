{
 "cells": [
  {
   "cell_type": "code",
   "execution_count": 1,
   "id": "643d2279",
   "metadata": {},
   "outputs": [
    {
     "data": {
      "text/html": [
       "\n",
       "<style>\n",
       "div.container{width:86% !important;}\n",
       "div.cell.code_cell.rendered{width:100%;}\n",
       "div.CodeMirror {font-family:Consolas; font-size:15pt;}\n",
       "div.output {font-size:15pt; font-weight:bold;}\n",
       "div.input {font-family:Consolas; font-size:15pt;}\n",
       "div.prompt {min-width:70px;}\n",
       "div#toc-wrapper{padding-top:120px;}\n",
       "div.text_cell_render ul li{font-size:12pt;padding:5px;}\n",
       "table.dataframe{font-size:15px;}\n",
       "</style>\n"
      ],
      "text/plain": [
       "<IPython.core.display.HTML object>"
      ]
     },
     "metadata": {},
     "output_type": "display_data"
    }
   ],
   "source": [
    "from IPython.display import display, HTML\n",
    "display(HTML(\"\"\"\n",
    "<style>\n",
    "div.container{width:86% !important;}\n",
    "div.cell.code_cell.rendered{width:100%;}\n",
    "div.CodeMirror {font-family:Consolas; font-size:15pt;}\n",
    "div.output {font-size:15pt; font-weight:bold;}\n",
    "div.input {font-family:Consolas; font-size:15pt;}\n",
    "div.prompt {min-width:70px;}\n",
    "div#toc-wrapper{padding-top:120px;}\n",
    "div.text_cell_render ul li{font-size:12pt;padding:5px;}\n",
    "table.dataframe{font-size:15px;}\n",
    "</style>\n",
    "\"\"\"))"
   ]
  },
  {
   "cell_type": "code",
   "execution_count": 2,
   "id": "84d2c0de",
   "metadata": {},
   "outputs": [],
   "source": [
    "import numpy as np\n",
    "import pandas as pd\n",
    "import sys\n",
    "from tensorflow.keras.utils import to_categorical  # 원핫인코딩\n",
    "from tensorflow.keras.models import Sequential, save_model, load_model\n",
    "from tensorflow.keras.layers import Dense, Input, Dropout \n",
    "from matplotlib import pyplot as plt # 학습 과정 그래프 \n",
    "from sklearn.metrics import confusion_matrix # 혼동행렬\n",
    "from sklearn.preprocessing import MinMaxScaler, StandardScaler\n",
    "from sklearn.model_selection import train_test_split # 데이터 분리"
   ]
  },
  {
   "cell_type": "code",
   "execution_count": 3,
   "id": "62ebf528",
   "metadata": {},
   "outputs": [
    {
     "name": "stdout",
     "output_type": "stream",
     "text": [
      "<class 'pandas.core.frame.DataFrame'>\n",
      "RangeIndex: 303 entries, 0 to 302\n",
      "Data columns (total 14 columns):\n",
      " #   Column        Non-Null Count  Dtype  \n",
      "---  ------        --------------  -----  \n",
      " 0   age           303 non-null    int64  \n",
      " 1   sex           303 non-null    int64  \n",
      " 2   cp            303 non-null    int64  \n",
      " 3   treshtbps     303 non-null    int64  \n",
      " 4   chol          303 non-null    object \n",
      " 5   fbs           303 non-null    int64  \n",
      " 6   restecg       303 non-null    int64  \n",
      " 7   thalach       303 non-null    int64  \n",
      " 8   exang         303 non-null    int64  \n",
      " 9   oldpeak       303 non-null    float64\n",
      " 10  slope         303 non-null    int64  \n",
      " 11  ca            303 non-null    object \n",
      " 12  hsl           303 non-null    object \n",
      " 13  heartDisease  303 non-null    int64  \n",
      "dtypes: float64(1), int64(10), object(3)\n",
      "memory usage: 33.3+ KB\n"
     ]
    }
   ],
   "source": [
    "dataset = pd.read_excel('data/heart-disease.xlsx')\n",
    "dataset.info() # dataset.isnull().sum()"
   ]
  },
  {
   "cell_type": "code",
   "execution_count": 4,
   "id": "f14b0533",
   "metadata": {},
   "outputs": [
    {
     "name": "stdout",
     "output_type": "stream",
     "text": [
      "<class 'pandas.core.frame.DataFrame'>\n",
      "RangeIndex: 303 entries, 0 to 302\n",
      "Data columns (total 14 columns):\n",
      " #   Column        Non-Null Count  Dtype  \n",
      "---  ------        --------------  -----  \n",
      " 0   age           303 non-null    int64  \n",
      " 1   sex           303 non-null    int64  \n",
      " 2   cp            303 non-null    int64  \n",
      " 3   treshtbps     303 non-null    int64  \n",
      " 4   chol          302 non-null    float64\n",
      " 5   fbs           303 non-null    int64  \n",
      " 6   restecg       303 non-null    int64  \n",
      " 7   thalach       303 non-null    int64  \n",
      " 8   exang         303 non-null    int64  \n",
      " 9   oldpeak       303 non-null    float64\n",
      " 10  slope         303 non-null    int64  \n",
      " 11  ca            299 non-null    float64\n",
      " 12  hsl           301 non-null    float64\n",
      " 13  heartDisease  303 non-null    int64  \n",
      "dtypes: float64(4), int64(10)\n",
      "memory usage: 33.3 KB\n"
     ]
    }
   ],
   "source": [
    "# '?'를 결측치(np.nan)로 대체\n",
    "df = dataset.replace('?', np.nan)\n",
    "df.info()"
   ]
  },
  {
   "cell_type": "code",
   "execution_count": 5,
   "id": "63f1259e",
   "metadata": {},
   "outputs": [
    {
     "data": {
      "text/html": [
       "<div>\n",
       "<style scoped>\n",
       "    .dataframe tbody tr th:only-of-type {\n",
       "        vertical-align: middle;\n",
       "    }\n",
       "\n",
       "    .dataframe tbody tr th {\n",
       "        vertical-align: top;\n",
       "    }\n",
       "\n",
       "    .dataframe thead th {\n",
       "        text-align: right;\n",
       "    }\n",
       "</style>\n",
       "<table border=\"1\" class=\"dataframe\">\n",
       "  <thead>\n",
       "    <tr style=\"text-align: right;\">\n",
       "      <th></th>\n",
       "      <th>age</th>\n",
       "      <th>sex</th>\n",
       "      <th>cp</th>\n",
       "      <th>treshtbps</th>\n",
       "      <th>chol</th>\n",
       "      <th>fbs</th>\n",
       "      <th>restecg</th>\n",
       "      <th>thalach</th>\n",
       "      <th>exang</th>\n",
       "      <th>oldpeak</th>\n",
       "      <th>slope</th>\n",
       "      <th>ca</th>\n",
       "      <th>hsl</th>\n",
       "      <th>heartDisease</th>\n",
       "    </tr>\n",
       "  </thead>\n",
       "  <tbody>\n",
       "    <tr>\n",
       "      <th>2</th>\n",
       "      <td>67</td>\n",
       "      <td>1</td>\n",
       "      <td>4</td>\n",
       "      <td>120</td>\n",
       "      <td>NaN</td>\n",
       "      <td>0</td>\n",
       "      <td>2</td>\n",
       "      <td>129</td>\n",
       "      <td>1</td>\n",
       "      <td>2.6</td>\n",
       "      <td>2</td>\n",
       "      <td>2.0</td>\n",
       "      <td>7.0</td>\n",
       "      <td>1</td>\n",
       "    </tr>\n",
       "    <tr>\n",
       "      <th>87</th>\n",
       "      <td>53</td>\n",
       "      <td>0</td>\n",
       "      <td>3</td>\n",
       "      <td>128</td>\n",
       "      <td>216.0</td>\n",
       "      <td>0</td>\n",
       "      <td>2</td>\n",
       "      <td>115</td>\n",
       "      <td>0</td>\n",
       "      <td>0.0</td>\n",
       "      <td>1</td>\n",
       "      <td>0.0</td>\n",
       "      <td>NaN</td>\n",
       "      <td>0</td>\n",
       "    </tr>\n",
       "    <tr>\n",
       "      <th>166</th>\n",
       "      <td>52</td>\n",
       "      <td>1</td>\n",
       "      <td>3</td>\n",
       "      <td>138</td>\n",
       "      <td>223.0</td>\n",
       "      <td>0</td>\n",
       "      <td>0</td>\n",
       "      <td>169</td>\n",
       "      <td>0</td>\n",
       "      <td>0.0</td>\n",
       "      <td>1</td>\n",
       "      <td>NaN</td>\n",
       "      <td>3.0</td>\n",
       "      <td>0</td>\n",
       "    </tr>\n",
       "    <tr>\n",
       "      <th>192</th>\n",
       "      <td>43</td>\n",
       "      <td>1</td>\n",
       "      <td>4</td>\n",
       "      <td>132</td>\n",
       "      <td>247.0</td>\n",
       "      <td>1</td>\n",
       "      <td>2</td>\n",
       "      <td>143</td>\n",
       "      <td>1</td>\n",
       "      <td>0.1</td>\n",
       "      <td>2</td>\n",
       "      <td>NaN</td>\n",
       "      <td>7.0</td>\n",
       "      <td>1</td>\n",
       "    </tr>\n",
       "    <tr>\n",
       "      <th>266</th>\n",
       "      <td>52</td>\n",
       "      <td>1</td>\n",
       "      <td>4</td>\n",
       "      <td>128</td>\n",
       "      <td>204.0</td>\n",
       "      <td>1</td>\n",
       "      <td>0</td>\n",
       "      <td>156</td>\n",
       "      <td>1</td>\n",
       "      <td>1.0</td>\n",
       "      <td>2</td>\n",
       "      <td>0.0</td>\n",
       "      <td>NaN</td>\n",
       "      <td>1</td>\n",
       "    </tr>\n",
       "    <tr>\n",
       "      <th>287</th>\n",
       "      <td>58</td>\n",
       "      <td>1</td>\n",
       "      <td>2</td>\n",
       "      <td>125</td>\n",
       "      <td>220.0</td>\n",
       "      <td>0</td>\n",
       "      <td>0</td>\n",
       "      <td>144</td>\n",
       "      <td>0</td>\n",
       "      <td>0.4</td>\n",
       "      <td>2</td>\n",
       "      <td>NaN</td>\n",
       "      <td>7.0</td>\n",
       "      <td>0</td>\n",
       "    </tr>\n",
       "    <tr>\n",
       "      <th>302</th>\n",
       "      <td>38</td>\n",
       "      <td>1</td>\n",
       "      <td>3</td>\n",
       "      <td>138</td>\n",
       "      <td>175.0</td>\n",
       "      <td>0</td>\n",
       "      <td>0</td>\n",
       "      <td>173</td>\n",
       "      <td>0</td>\n",
       "      <td>0.0</td>\n",
       "      <td>1</td>\n",
       "      <td>NaN</td>\n",
       "      <td>3.0</td>\n",
       "      <td>0</td>\n",
       "    </tr>\n",
       "  </tbody>\n",
       "</table>\n",
       "</div>"
      ],
      "text/plain": [
       "     age  sex  cp  treshtbps   chol  fbs  restecg  thalach  exang  oldpeak  \\\n",
       "2     67    1   4        120    NaN    0        2      129      1      2.6   \n",
       "87    53    0   3        128  216.0    0        2      115      0      0.0   \n",
       "166   52    1   3        138  223.0    0        0      169      0      0.0   \n",
       "192   43    1   4        132  247.0    1        2      143      1      0.1   \n",
       "266   52    1   4        128  204.0    1        0      156      1      1.0   \n",
       "287   58    1   2        125  220.0    0        0      144      0      0.4   \n",
       "302   38    1   3        138  175.0    0        0      173      0      0.0   \n",
       "\n",
       "     slope   ca  hsl  heartDisease  \n",
       "2        2  2.0  7.0             1  \n",
       "87       1  0.0  NaN             0  \n",
       "166      1  NaN  3.0             0  \n",
       "192      2  NaN  7.0             1  \n",
       "266      2  0.0  NaN             1  \n",
       "287      2  NaN  7.0             0  \n",
       "302      1  NaN  3.0             0  "
      ]
     },
     "execution_count": 5,
     "metadata": {},
     "output_type": "execute_result"
    }
   ],
   "source": [
    "# 결측치가 포함된 데이터 추출\n",
    "df[df.isna().any(axis=1)]"
   ]
  },
  {
   "cell_type": "code",
   "execution_count": 6,
   "id": "67933dd2",
   "metadata": {},
   "outputs": [
    {
     "data": {
      "text/plain": [
       "age             0\n",
       "sex             0\n",
       "cp              0\n",
       "treshtbps       0\n",
       "chol            0\n",
       "fbs             0\n",
       "restecg         0\n",
       "thalach         0\n",
       "exang           0\n",
       "oldpeak         0\n",
       "slope           0\n",
       "ca              0\n",
       "hsl             0\n",
       "heartDisease    0\n",
       "dtype: int64"
      ]
     },
     "execution_count": 6,
     "metadata": {},
     "output_type": "execute_result"
    }
   ],
   "source": [
    "# 결측치 처리 : 대체 or 제거\n",
    "df.fillna(value=df.median(), inplace=True) # 결측치를 중위수로 대체\n",
    "# df = df.dropna(how='any')  #결측치 제거\n",
    "df.isna().sum() # 결측치가 없는지 확인"
   ]
  },
  {
   "cell_type": "code",
   "execution_count": 7,
   "id": "641fdc61",
   "metadata": {},
   "outputs": [
    {
     "name": "stdout",
     "output_type": "stream",
     "text": [
      "0    164\n",
      "1    139\n",
      "Name: heartDisease, dtype: int64\n",
      "0    0.541254\n",
      "1    0.458746\n",
      "Name: heartDisease, dtype: float64\n"
     ]
    }
   ],
   "source": [
    "# Target변수의 분포(0:음성, 1:양성)\n",
    "print(df['heartDisease'].value_counts()) \n",
    "# negative, positive = df['heartDisease'].value_counts()\n",
    "# total = df.shape[0]\n",
    "# print('음성 결과 :', negative/total)\n",
    "# print('양성 결과 :', positive/total)\n",
    "print(df['heartDisease'].value_counts(normalize=True))"
   ]
  },
  {
   "cell_type": "code",
   "execution_count": 8,
   "id": "8a0a12fa",
   "metadata": {},
   "outputs": [
    {
     "data": {
      "text/plain": [
       "((303, 13), (303, 1))"
      ]
     },
     "execution_count": 8,
     "metadata": {},
     "output_type": "execute_result"
    }
   ],
   "source": [
    "# 입력변수와 타겟변수 분리\n",
    "X = df.iloc[:, :-1].values\n",
    "y = df.iloc[:, -1:].values\n",
    "X.shape, y.shape"
   ]
  },
  {
   "cell_type": "code",
   "execution_count": 9,
   "id": "d042c9ca",
   "metadata": {},
   "outputs": [
    {
     "data": {
      "text/plain": [
       "array([[0.70833333, 1.        , 0.        , 0.48113208, 0.24429224,\n",
       "        1.        , 1.        , 0.60305344, 0.        , 0.37096774,\n",
       "        1.        , 0.        , 0.75      ],\n",
       "       [0.79166667, 1.        , 1.        , 0.62264151, 0.3652968 ,\n",
       "        0.        , 0.        , 0.28244275, 1.        , 0.24193548,\n",
       "        0.5       , 1.        , 0.        ]])"
      ]
     },
     "execution_count": 9,
     "metadata": {},
     "output_type": "execute_result"
    }
   ],
   "source": [
    "# 입력변수 X의 스케일 조정\n",
    "scaler = MinMaxScaler()\n",
    "scaled_X = scaler.fit_transform(X)\n",
    "scaled_X[:2]"
   ]
  },
  {
   "cell_type": "code",
   "execution_count": 10,
   "id": "2b9cc38b",
   "metadata": {},
   "outputs": [
    {
     "data": {
      "text/plain": [
       "((212, 13), (91, 13), (212, 1), (91, 1))"
      ]
     },
     "execution_count": 10,
     "metadata": {},
     "output_type": "execute_result"
    }
   ],
   "source": [
    "X_train, X_test, y_train, y_test = train_test_split(scaled_X,\n",
    "                                                   y,\n",
    "                                                   test_size=0.3, # 테스트셋비율\n",
    "                                                   random_state=7,\n",
    "                                                   stratify=y # 층화추출\n",
    "                                                   )\n",
    "X_train.shape, X_test.shape, y_train.shape, y_test.shape"
   ]
  },
  {
   "cell_type": "code",
   "execution_count": 11,
   "id": "1085c18d",
   "metadata": {},
   "outputs": [
    {
     "name": "stdout",
     "output_type": "stream",
     "text": [
      "0    0.541254\n",
      "1    0.458746\n",
      "dtype: float64\n",
      "0    0.542453\n",
      "1    0.457547\n",
      "dtype: float64\n",
      "0    0.538462\n",
      "1    0.461538\n",
      "dtype: float64\n"
     ]
    }
   ],
   "source": [
    "# 음성|양성 비율\n",
    "print(pd.DataFrame(y).value_counts(normalize=True)) # 전체 데이터\n",
    "print(pd.DataFrame(y_train).value_counts(normalize=True)) # y_train\n",
    "print(pd.DataFrame(y_test).value_counts(normalize=True)) # y_test"
   ]
  },
  {
   "cell_type": "code",
   "execution_count": 13,
   "id": "73130e11",
   "metadata": {},
   "outputs": [
    {
     "name": "stdout",
     "output_type": "stream",
     "text": [
      "Model: \"sequential_1\"\n",
      "_________________________________________________________________\n",
      " Layer (type)                Output Shape              Param #   \n",
      "=================================================================\n",
      " dense_3 (Dense)             (None, 64)                896       \n",
      "                                                                 \n",
      " dense_4 (Dense)             (None, 150)               9750      \n",
      "                                                                 \n",
      " dense_5 (Dense)             (None, 100)               15100     \n",
      "                                                                 \n",
      " dense_6 (Dense)             (None, 50)                5050      \n",
      "                                                                 \n",
      " dense_7 (Dense)             (None, 1)                 51        \n",
      "                                                                 \n",
      "=================================================================\n",
      "Total params: 30,847\n",
      "Trainable params: 30,847\n",
      "Non-trainable params: 0\n",
      "_________________________________________________________________\n"
     ]
    }
   ],
   "source": [
    "model = Sequential()\n",
    "model.add(Input(shape=(13,)))\n",
    "model.add(Dense(units=64, activation='relu'))\n",
    "model.add(Dense(units=150, activation='relu'))\n",
    "model.add(Dense(units=100, activation='relu'))\n",
    "model.add(Dense(units=50, activation='relu'))\n",
    "model.add(Dense(units=1,  activation='sigmoid'))\n",
    "model.summary()"
   ]
  },
  {
   "cell_type": "code",
   "execution_count": 15,
   "id": "7f13fad7",
   "metadata": {},
   "outputs": [],
   "source": [
    "from tensorflow.keras import metrics\n",
    "model.compile(\n",
    "    optimizer='adam',\n",
    "    loss='binary_crossentropy',\n",
    "    metrics=['binary_accuracy',\n",
    "            metrics.Recall(),\n",
    "            metrics.Precision()]\n",
    ")\n"
   ]
  },
  {
   "cell_type": "code",
   "execution_count": 19,
   "id": "65c410ed",
   "metadata": {},
   "outputs": [
    {
     "name": "stdout",
     "output_type": "stream",
     "text": [
      "Epoch 1/150\n",
      "6/6 [==============================] - 0s 14ms/step - loss: 0.0016 - binary_accuracy: 1.0000 - recall: 1.0000 - precision: 1.0000 - val_loss: 1.7295 - val_binary_accuracy: 0.7907 - val_recall: 0.7619 - val_precision: 0.8000\n",
      "Epoch 2/150\n",
      "6/6 [==============================] - 0s 9ms/step - loss: 0.0014 - binary_accuracy: 1.0000 - recall: 1.0000 - precision: 1.0000 - val_loss: 1.7346 - val_binary_accuracy: 0.7907 - val_recall: 0.7619 - val_precision: 0.8000\n",
      "Epoch 3/150\n",
      "6/6 [==============================] - 0s 8ms/step - loss: 0.0014 - binary_accuracy: 1.0000 - recall: 1.0000 - precision: 1.0000 - val_loss: 1.7289 - val_binary_accuracy: 0.7907 - val_recall: 0.7619 - val_precision: 0.8000\n",
      "Epoch 4/150\n",
      "6/6 [==============================] - 0s 8ms/step - loss: 0.0012 - binary_accuracy: 1.0000 - recall: 1.0000 - precision: 1.0000 - val_loss: 1.7249 - val_binary_accuracy: 0.7907 - val_recall: 0.7619 - val_precision: 0.8000\n",
      "Epoch 5/150\n",
      "6/6 [==============================] - 0s 9ms/step - loss: 0.0014 - binary_accuracy: 1.0000 - recall: 1.0000 - precision: 1.0000 - val_loss: 1.7412 - val_binary_accuracy: 0.7907 - val_recall: 0.7619 - val_precision: 0.8000\n",
      "Epoch 6/150\n",
      "6/6 [==============================] - 0s 9ms/step - loss: 0.0010 - binary_accuracy: 1.0000 - recall: 1.0000 - precision: 1.0000 - val_loss: 1.7533 - val_binary_accuracy: 0.7907 - val_recall: 0.7619 - val_precision: 0.8000\n",
      "Epoch 7/150\n",
      "6/6 [==============================] - 0s 8ms/step - loss: 0.0013 - binary_accuracy: 1.0000 - recall: 1.0000 - precision: 1.0000 - val_loss: 1.7526 - val_binary_accuracy: 0.7907 - val_recall: 0.7619 - val_precision: 0.8000\n",
      "Epoch 8/150\n",
      "6/6 [==============================] - 0s 8ms/step - loss: 0.0011 - binary_accuracy: 1.0000 - recall: 1.0000 - precision: 1.0000 - val_loss: 1.7503 - val_binary_accuracy: 0.7907 - val_recall: 0.7619 - val_precision: 0.8000\n",
      "Epoch 9/150\n",
      "6/6 [==============================] - 0s 9ms/step - loss: 0.0010 - binary_accuracy: 1.0000 - recall: 1.0000 - precision: 1.0000 - val_loss: 1.7524 - val_binary_accuracy: 0.7907 - val_recall: 0.7619 - val_precision: 0.8000\n",
      "Epoch 10/150\n",
      "6/6 [==============================] - 0s 9ms/step - loss: 0.0010 - binary_accuracy: 1.0000 - recall: 1.0000 - precision: 1.0000 - val_loss: 1.7536 - val_binary_accuracy: 0.7907 - val_recall: 0.7619 - val_precision: 0.8000\n",
      "Epoch 11/150\n",
      "6/6 [==============================] - 0s 8ms/step - loss: 9.7104e-04 - binary_accuracy: 1.0000 - recall: 1.0000 - precision: 1.0000 - val_loss: 1.7565 - val_binary_accuracy: 0.7907 - val_recall: 0.7619 - val_precision: 0.8000\n",
      "Epoch 12/150\n",
      "6/6 [==============================] - 0s 9ms/step - loss: 9.7069e-04 - binary_accuracy: 1.0000 - recall: 1.0000 - precision: 1.0000 - val_loss: 1.7621 - val_binary_accuracy: 0.7907 - val_recall: 0.7619 - val_precision: 0.8000\n",
      "Epoch 13/150\n",
      "6/6 [==============================] - 0s 9ms/step - loss: 0.0010 - binary_accuracy: 1.0000 - recall: 1.0000 - precision: 1.0000 - val_loss: 1.7674 - val_binary_accuracy: 0.7907 - val_recall: 0.7619 - val_precision: 0.8000\n",
      "Epoch 14/150\n",
      "6/6 [==============================] - 0s 9ms/step - loss: 9.2114e-04 - binary_accuracy: 1.0000 - recall: 1.0000 - precision: 1.0000 - val_loss: 1.7708 - val_binary_accuracy: 0.7907 - val_recall: 0.7619 - val_precision: 0.8000\n",
      "Epoch 15/150\n",
      "6/6 [==============================] - 0s 8ms/step - loss: 0.0015 - binary_accuracy: 1.0000 - recall: 1.0000 - precision: 1.0000 - val_loss: 1.7809 - val_binary_accuracy: 0.7907 - val_recall: 0.7619 - val_precision: 0.8000\n",
      "Epoch 16/150\n",
      "6/6 [==============================] - 0s 9ms/step - loss: 0.0022 - binary_accuracy: 1.0000 - recall: 1.0000 - precision: 1.0000 - val_loss: 1.7844 - val_binary_accuracy: 0.7907 - val_recall: 0.7619 - val_precision: 0.8000\n",
      "Epoch 17/150\n",
      "6/6 [==============================] - 0s 9ms/step - loss: 0.0031 - binary_accuracy: 1.0000 - recall: 1.0000 - precision: 1.0000 - val_loss: 1.7675 - val_binary_accuracy: 0.7907 - val_recall: 0.7619 - val_precision: 0.8000\n",
      "Epoch 18/150\n",
      "6/6 [==============================] - 0s 8ms/step - loss: 0.0011 - binary_accuracy: 1.0000 - recall: 1.0000 - precision: 1.0000 - val_loss: 1.7819 - val_binary_accuracy: 0.7907 - val_recall: 0.7619 - val_precision: 0.8000\n",
      "Epoch 19/150\n",
      "6/6 [==============================] - 0s 11ms/step - loss: 0.0029 - binary_accuracy: 1.0000 - recall: 1.0000 - precision: 1.0000 - val_loss: 1.7933 - val_binary_accuracy: 0.7907 - val_recall: 0.7619 - val_precision: 0.8000\n",
      "Epoch 20/150\n",
      "6/6 [==============================] - 0s 9ms/step - loss: 0.0022 - binary_accuracy: 1.0000 - recall: 1.0000 - precision: 1.0000 - val_loss: 1.7882 - val_binary_accuracy: 0.7907 - val_recall: 0.7619 - val_precision: 0.8000\n",
      "Epoch 21/150\n",
      "6/6 [==============================] - 0s 9ms/step - loss: 0.0012 - binary_accuracy: 1.0000 - recall: 1.0000 - precision: 1.0000 - val_loss: 1.7810 - val_binary_accuracy: 0.7907 - val_recall: 0.7619 - val_precision: 0.8000\n",
      "Epoch 22/150\n",
      "6/6 [==============================] - 0s 9ms/step - loss: 0.0024 - binary_accuracy: 1.0000 - recall: 1.0000 - precision: 1.0000 - val_loss: 1.8034 - val_binary_accuracy: 0.7907 - val_recall: 0.7619 - val_precision: 0.8000\n",
      "Epoch 23/150\n",
      "6/6 [==============================] - 0s 10ms/step - loss: 0.0015 - binary_accuracy: 1.0000 - recall: 1.0000 - precision: 1.0000 - val_loss: 1.8141 - val_binary_accuracy: 0.7907 - val_recall: 0.7619 - val_precision: 0.8000\n",
      "Epoch 24/150\n",
      "6/6 [==============================] - 0s 8ms/step - loss: 9.3905e-04 - binary_accuracy: 1.0000 - recall: 1.0000 - precision: 1.0000 - val_loss: 1.8292 - val_binary_accuracy: 0.7907 - val_recall: 0.7619 - val_precision: 0.8000\n",
      "Epoch 25/150\n",
      "6/6 [==============================] - 0s 9ms/step - loss: 0.0168 - binary_accuracy: 0.9941 - recall: 1.0000 - precision: 0.9870 - val_loss: 1.8878 - val_binary_accuracy: 0.8140 - val_recall: 0.7619 - val_precision: 0.8421\n",
      "Epoch 26/150\n",
      "6/6 [==============================] - 0s 9ms/step - loss: 0.0200 - binary_accuracy: 0.9941 - recall: 0.9868 - precision: 1.0000 - val_loss: 1.7989 - val_binary_accuracy: 0.7907 - val_recall: 0.7619 - val_precision: 0.8000\n",
      "Epoch 27/150\n",
      "6/6 [==============================] - 0s 9ms/step - loss: 0.0032 - binary_accuracy: 1.0000 - recall: 1.0000 - precision: 1.0000 - val_loss: 1.9510 - val_binary_accuracy: 0.7674 - val_recall: 0.7143 - val_precision: 0.7895\n",
      "Epoch 28/150\n",
      "6/6 [==============================] - 0s 9ms/step - loss: 0.0573 - binary_accuracy: 0.9763 - recall: 0.9868 - precision: 0.9615 - val_loss: 1.9567 - val_binary_accuracy: 0.7907 - val_recall: 0.7619 - val_precision: 0.8000\n",
      "Epoch 29/150\n",
      "6/6 [==============================] - 0s 8ms/step - loss: 0.0571 - binary_accuracy: 0.9704 - recall: 0.9474 - precision: 0.9863 - val_loss: 1.8977 - val_binary_accuracy: 0.7907 - val_recall: 0.8571 - val_precision: 0.7500\n",
      "Epoch 30/150\n",
      "6/6 [==============================] - 0s 8ms/step - loss: 0.0620 - binary_accuracy: 0.9763 - recall: 0.9737 - precision: 0.9737 - val_loss: 1.6751 - val_binary_accuracy: 0.7674 - val_recall: 0.7143 - val_precision: 0.7895\n",
      "Epoch 31/150\n",
      "6/6 [==============================] - 0s 8ms/step - loss: 0.0865 - binary_accuracy: 0.9645 - recall: 1.0000 - precision: 0.9268 - val_loss: 1.6433 - val_binary_accuracy: 0.7674 - val_recall: 0.7619 - val_precision: 0.7619\n",
      "Epoch 32/150\n",
      "6/6 [==============================] - 0s 8ms/step - loss: 0.2593 - binary_accuracy: 0.9112 - recall: 0.8421 - precision: 0.9552 - val_loss: 1.8042 - val_binary_accuracy: 0.7907 - val_recall: 0.8571 - val_precision: 0.7500\n",
      "Epoch 33/150\n",
      "6/6 [==============================] - 0s 9ms/step - loss: 0.1378 - binary_accuracy: 0.9527 - recall: 0.9737 - precision: 0.9250 - val_loss: 2.1043 - val_binary_accuracy: 0.7674 - val_recall: 0.6667 - val_precision: 0.8235\n",
      "Epoch 34/150\n",
      "6/6 [==============================] - 0s 9ms/step - loss: 0.1577 - binary_accuracy: 0.9349 - recall: 0.9342 - precision: 0.9221 - val_loss: 1.5870 - val_binary_accuracy: 0.7907 - val_recall: 0.7143 - val_precision: 0.8333\n",
      "Epoch 35/150\n",
      "6/6 [==============================] - 0s 9ms/step - loss: 0.2302 - binary_accuracy: 0.9112 - recall: 0.8289 - precision: 0.9692 - val_loss: 1.0446 - val_binary_accuracy: 0.8372 - val_recall: 0.7619 - val_precision: 0.8889\n"
     ]
    },
    {
     "name": "stdout",
     "output_type": "stream",
     "text": [
      "Epoch 36/150\n",
      "6/6 [==============================] - 0s 9ms/step - loss: 0.0740 - binary_accuracy: 0.9704 - recall: 0.9737 - precision: 0.9610 - val_loss: 0.9114 - val_binary_accuracy: 0.8372 - val_recall: 0.9048 - val_precision: 0.7917\n",
      "Epoch 37/150\n",
      "6/6 [==============================] - 0s 9ms/step - loss: 0.0608 - binary_accuracy: 0.9704 - recall: 1.0000 - precision: 0.9383 - val_loss: 0.8520 - val_binary_accuracy: 0.8372 - val_recall: 0.8571 - val_precision: 0.8182\n",
      "Epoch 38/150\n",
      "6/6 [==============================] - 0s 8ms/step - loss: 0.0317 - binary_accuracy: 1.0000 - recall: 1.0000 - precision: 1.0000 - val_loss: 0.9261 - val_binary_accuracy: 0.7907 - val_recall: 0.7619 - val_precision: 0.8000\n",
      "Epoch 39/150\n",
      "6/6 [==============================] - 0s 8ms/step - loss: 0.0223 - binary_accuracy: 1.0000 - recall: 1.0000 - precision: 1.0000 - val_loss: 0.9758 - val_binary_accuracy: 0.8372 - val_recall: 0.8571 - val_precision: 0.8182\n",
      "Epoch 40/150\n",
      "6/6 [==============================] - 0s 8ms/step - loss: 0.0201 - binary_accuracy: 1.0000 - recall: 1.0000 - precision: 1.0000 - val_loss: 1.0247 - val_binary_accuracy: 0.7907 - val_recall: 0.7619 - val_precision: 0.8000\n",
      "Epoch 41/150\n",
      "6/6 [==============================] - 0s 8ms/step - loss: 0.0120 - binary_accuracy: 1.0000 - recall: 1.0000 - precision: 1.0000 - val_loss: 1.0715 - val_binary_accuracy: 0.8140 - val_recall: 0.8095 - val_precision: 0.8095\n",
      "Epoch 42/150\n",
      "6/6 [==============================] - 0s 8ms/step - loss: 0.0097 - binary_accuracy: 1.0000 - recall: 1.0000 - precision: 1.0000 - val_loss: 1.1078 - val_binary_accuracy: 0.8140 - val_recall: 0.8095 - val_precision: 0.8095\n",
      "Epoch 43/150\n",
      "6/6 [==============================] - 0s 8ms/step - loss: 0.0080 - binary_accuracy: 1.0000 - recall: 1.0000 - precision: 1.0000 - val_loss: 1.1365 - val_binary_accuracy: 0.8140 - val_recall: 0.8095 - val_precision: 0.8095\n",
      "Epoch 44/150\n",
      "6/6 [==============================] - 0s 8ms/step - loss: 0.0068 - binary_accuracy: 1.0000 - recall: 1.0000 - precision: 1.0000 - val_loss: 1.1609 - val_binary_accuracy: 0.8140 - val_recall: 0.8095 - val_precision: 0.8095\n",
      "Epoch 45/150\n",
      "6/6 [==============================] - 0s 8ms/step - loss: 0.0059 - binary_accuracy: 1.0000 - recall: 1.0000 - precision: 1.0000 - val_loss: 1.1843 - val_binary_accuracy: 0.8140 - val_recall: 0.8095 - val_precision: 0.8095\n",
      "Epoch 46/150\n",
      "6/6 [==============================] - 0s 8ms/step - loss: 0.0050 - binary_accuracy: 1.0000 - recall: 1.0000 - precision: 1.0000 - val_loss: 1.2085 - val_binary_accuracy: 0.8140 - val_recall: 0.8095 - val_precision: 0.8095\n",
      "Epoch 47/150\n",
      "6/6 [==============================] - 0s 9ms/step - loss: 0.0046 - binary_accuracy: 1.0000 - recall: 1.0000 - precision: 1.0000 - val_loss: 1.2356 - val_binary_accuracy: 0.8372 - val_recall: 0.8571 - val_precision: 0.8182\n",
      "Epoch 48/150\n",
      "6/6 [==============================] - 0s 8ms/step - loss: 0.0044 - binary_accuracy: 1.0000 - recall: 1.0000 - precision: 1.0000 - val_loss: 1.2643 - val_binary_accuracy: 0.8372 - val_recall: 0.8571 - val_precision: 0.8182\n",
      "Epoch 49/150\n",
      "6/6 [==============================] - 0s 9ms/step - loss: 0.0038 - binary_accuracy: 1.0000 - recall: 1.0000 - precision: 1.0000 - val_loss: 1.2813 - val_binary_accuracy: 0.8372 - val_recall: 0.8571 - val_precision: 0.8182\n",
      "Epoch 50/150\n",
      "6/6 [==============================] - 0s 9ms/step - loss: 0.0033 - binary_accuracy: 1.0000 - recall: 1.0000 - precision: 1.0000 - val_loss: 1.2970 - val_binary_accuracy: 0.8140 - val_recall: 0.8095 - val_precision: 0.8095\n",
      "Epoch 51/150\n",
      "6/6 [==============================] - 0s 8ms/step - loss: 0.0032 - binary_accuracy: 1.0000 - recall: 1.0000 - precision: 1.0000 - val_loss: 1.3147 - val_binary_accuracy: 0.8372 - val_recall: 0.8571 - val_precision: 0.8182\n",
      "Epoch 52/150\n",
      "6/6 [==============================] - 0s 9ms/step - loss: 0.0028 - binary_accuracy: 1.0000 - recall: 1.0000 - precision: 1.0000 - val_loss: 1.3335 - val_binary_accuracy: 0.8372 - val_recall: 0.8571 - val_precision: 0.8182\n",
      "Epoch 53/150\n",
      "6/6 [==============================] - 0s 8ms/step - loss: 0.0026 - binary_accuracy: 1.0000 - recall: 1.0000 - precision: 1.0000 - val_loss: 1.3497 - val_binary_accuracy: 0.8372 - val_recall: 0.8571 - val_precision: 0.8182\n",
      "Epoch 54/150\n",
      "6/6 [==============================] - 0s 8ms/step - loss: 0.0025 - binary_accuracy: 1.0000 - recall: 1.0000 - precision: 1.0000 - val_loss: 1.3628 - val_binary_accuracy: 0.8372 - val_recall: 0.8571 - val_precision: 0.8182\n",
      "Epoch 55/150\n",
      "6/6 [==============================] - 0s 8ms/step - loss: 0.0023 - binary_accuracy: 1.0000 - recall: 1.0000 - precision: 1.0000 - val_loss: 1.3708 - val_binary_accuracy: 0.8372 - val_recall: 0.8571 - val_precision: 0.8182\n",
      "Epoch 56/150\n",
      "6/6 [==============================] - 0s 8ms/step - loss: 0.0022 - binary_accuracy: 1.0000 - recall: 1.0000 - precision: 1.0000 - val_loss: 1.3760 - val_binary_accuracy: 0.8140 - val_recall: 0.8095 - val_precision: 0.8095\n",
      "Epoch 57/150\n",
      "6/6 [==============================] - 0s 8ms/step - loss: 0.0022 - binary_accuracy: 1.0000 - recall: 1.0000 - precision: 1.0000 - val_loss: 1.3980 - val_binary_accuracy: 0.8372 - val_recall: 0.8571 - val_precision: 0.8182\n",
      "Epoch 58/150\n",
      "6/6 [==============================] - 0s 8ms/step - loss: 0.0022 - binary_accuracy: 1.0000 - recall: 1.0000 - precision: 1.0000 - val_loss: 1.4091 - val_binary_accuracy: 0.8372 - val_recall: 0.8571 - val_precision: 0.8182\n",
      "Epoch 59/150\n",
      "6/6 [==============================] - 0s 8ms/step - loss: 0.0022 - binary_accuracy: 1.0000 - recall: 1.0000 - precision: 1.0000 - val_loss: 1.4525 - val_binary_accuracy: 0.8140 - val_recall: 0.8571 - val_precision: 0.7826\n",
      "Epoch 60/150\n",
      "6/6 [==============================] - 0s 8ms/step - loss: 0.0031 - binary_accuracy: 1.0000 - recall: 1.0000 - precision: 1.0000 - val_loss: 1.4415 - val_binary_accuracy: 0.8372 - val_recall: 0.8571 - val_precision: 0.8182\n",
      "Epoch 61/150\n",
      "6/6 [==============================] - 0s 8ms/step - loss: 0.0016 - binary_accuracy: 1.0000 - recall: 1.0000 - precision: 1.0000 - val_loss: 1.4338 - val_binary_accuracy: 0.8140 - val_recall: 0.8095 - val_precision: 0.8095\n",
      "Epoch 62/150\n",
      "6/6 [==============================] - 0s 8ms/step - loss: 0.0019 - binary_accuracy: 1.0000 - recall: 1.0000 - precision: 1.0000 - val_loss: 1.4449 - val_binary_accuracy: 0.8140 - val_recall: 0.8095 - val_precision: 0.8095\n",
      "Epoch 63/150\n",
      "6/6 [==============================] - 0s 8ms/step - loss: 0.0016 - binary_accuracy: 1.0000 - recall: 1.0000 - precision: 1.0000 - val_loss: 1.4607 - val_binary_accuracy: 0.8372 - val_recall: 0.8571 - val_precision: 0.8182\n",
      "Epoch 64/150\n",
      "6/6 [==============================] - 0s 8ms/step - loss: 0.0015 - binary_accuracy: 1.0000 - recall: 1.0000 - precision: 1.0000 - val_loss: 1.4761 - val_binary_accuracy: 0.8372 - val_recall: 0.8571 - val_precision: 0.8182\n",
      "Epoch 65/150\n",
      "6/6 [==============================] - 0s 8ms/step - loss: 0.0015 - binary_accuracy: 1.0000 - recall: 1.0000 - precision: 1.0000 - val_loss: 1.4773 - val_binary_accuracy: 0.8372 - val_recall: 0.8571 - val_precision: 0.8182\n",
      "Epoch 66/150\n",
      "6/6 [==============================] - 0s 9ms/step - loss: 0.0015 - binary_accuracy: 1.0000 - recall: 1.0000 - precision: 1.0000 - val_loss: 1.4876 - val_binary_accuracy: 0.8372 - val_recall: 0.8571 - val_precision: 0.8182\n",
      "Epoch 67/150\n",
      "6/6 [==============================] - 0s 11ms/step - loss: 0.0014 - binary_accuracy: 1.0000 - recall: 1.0000 - precision: 1.0000 - val_loss: 1.5000 - val_binary_accuracy: 0.8372 - val_recall: 0.8571 - val_precision: 0.8182\n",
      "Epoch 68/150\n",
      "6/6 [==============================] - 0s 9ms/step - loss: 0.0012 - binary_accuracy: 1.0000 - recall: 1.0000 - precision: 1.0000 - val_loss: 1.5068 - val_binary_accuracy: 0.8372 - val_recall: 0.8571 - val_precision: 0.8182\n",
      "Epoch 69/150\n",
      "6/6 [==============================] - 0s 8ms/step - loss: 0.0012 - binary_accuracy: 1.0000 - recall: 1.0000 - precision: 1.0000 - val_loss: 1.5112 - val_binary_accuracy: 0.8372 - val_recall: 0.8571 - val_precision: 0.8182\n",
      "Epoch 70/150\n",
      "6/6 [==============================] - 0s 8ms/step - loss: 0.0011 - binary_accuracy: 1.0000 - recall: 1.0000 - precision: 1.0000 - val_loss: 1.5192 - val_binary_accuracy: 0.8372 - val_recall: 0.8571 - val_precision: 0.8182\n"
     ]
    },
    {
     "name": "stdout",
     "output_type": "stream",
     "text": [
      "Epoch 71/150\n",
      "6/6 [==============================] - 0s 8ms/step - loss: 0.0011 - binary_accuracy: 1.0000 - recall: 1.0000 - precision: 1.0000 - val_loss: 1.5275 - val_binary_accuracy: 0.8372 - val_recall: 0.8571 - val_precision: 0.8182\n",
      "Epoch 72/150\n",
      "6/6 [==============================] - 0s 8ms/step - loss: 0.0012 - binary_accuracy: 1.0000 - recall: 1.0000 - precision: 1.0000 - val_loss: 1.5421 - val_binary_accuracy: 0.8372 - val_recall: 0.8571 - val_precision: 0.8182\n",
      "Epoch 73/150\n",
      "6/6 [==============================] - 0s 8ms/step - loss: 0.0011 - binary_accuracy: 1.0000 - recall: 1.0000 - precision: 1.0000 - val_loss: 1.5433 - val_binary_accuracy: 0.8372 - val_recall: 0.8571 - val_precision: 0.8182\n",
      "Epoch 74/150\n",
      "6/6 [==============================] - 0s 8ms/step - loss: 0.0010 - binary_accuracy: 1.0000 - recall: 1.0000 - precision: 1.0000 - val_loss: 1.5424 - val_binary_accuracy: 0.8140 - val_recall: 0.8095 - val_precision: 0.8095\n",
      "Epoch 75/150\n",
      "6/6 [==============================] - 0s 8ms/step - loss: 0.0013 - binary_accuracy: 1.0000 - recall: 1.0000 - precision: 1.0000 - val_loss: 1.5469 - val_binary_accuracy: 0.8140 - val_recall: 0.8095 - val_precision: 0.8095\n",
      "Epoch 76/150\n",
      "6/6 [==============================] - 0s 8ms/step - loss: 0.0010 - binary_accuracy: 1.0000 - recall: 1.0000 - precision: 1.0000 - val_loss: 1.5590 - val_binary_accuracy: 0.8140 - val_recall: 0.8095 - val_precision: 0.8095\n",
      "Epoch 77/150\n",
      "6/6 [==============================] - 0s 8ms/step - loss: 9.3519e-04 - binary_accuracy: 1.0000 - recall: 1.0000 - precision: 1.0000 - val_loss: 1.5730 - val_binary_accuracy: 0.8372 - val_recall: 0.8571 - val_precision: 0.8182\n",
      "Epoch 78/150\n",
      "6/6 [==============================] - 0s 8ms/step - loss: 9.6330e-04 - binary_accuracy: 1.0000 - recall: 1.0000 - precision: 1.0000 - val_loss: 1.5755 - val_binary_accuracy: 0.8372 - val_recall: 0.8571 - val_precision: 0.8182\n",
      "Epoch 79/150\n",
      "6/6 [==============================] - 0s 8ms/step - loss: 8.7092e-04 - binary_accuracy: 1.0000 - recall: 1.0000 - precision: 1.0000 - val_loss: 1.5735 - val_binary_accuracy: 0.8140 - val_recall: 0.8095 - val_precision: 0.8095\n",
      "Epoch 80/150\n",
      "6/6 [==============================] - 0s 9ms/step - loss: 8.2616e-04 - binary_accuracy: 1.0000 - recall: 1.0000 - precision: 1.0000 - val_loss: 1.5763 - val_binary_accuracy: 0.8140 - val_recall: 0.8095 - val_precision: 0.8095\n",
      "Epoch 81/150\n",
      "6/6 [==============================] - 0s 9ms/step - loss: 8.2971e-04 - binary_accuracy: 1.0000 - recall: 1.0000 - precision: 1.0000 - val_loss: 1.5813 - val_binary_accuracy: 0.8140 - val_recall: 0.8095 - val_precision: 0.8095\n",
      "Epoch 82/150\n",
      "6/6 [==============================] - 0s 9ms/step - loss: 7.7262e-04 - binary_accuracy: 1.0000 - recall: 1.0000 - precision: 1.0000 - val_loss: 1.5945 - val_binary_accuracy: 0.8372 - val_recall: 0.8571 - val_precision: 0.8182\n",
      "Epoch 83/150\n",
      "6/6 [==============================] - 0s 10ms/step - loss: 8.0412e-04 - binary_accuracy: 1.0000 - recall: 1.0000 - precision: 1.0000 - val_loss: 1.5996 - val_binary_accuracy: 0.8140 - val_recall: 0.8095 - val_precision: 0.8095\n",
      "Epoch 84/150\n",
      "6/6 [==============================] - 0s 10ms/step - loss: 8.2121e-04 - binary_accuracy: 1.0000 - recall: 1.0000 - precision: 1.0000 - val_loss: 1.6027 - val_binary_accuracy: 0.8140 - val_recall: 0.8095 - val_precision: 0.8095\n",
      "Epoch 85/150\n",
      "6/6 [==============================] - 0s 10ms/step - loss: 7.5123e-04 - binary_accuracy: 1.0000 - recall: 1.0000 - precision: 1.0000 - val_loss: 1.6036 - val_binary_accuracy: 0.8140 - val_recall: 0.8095 - val_precision: 0.8095\n",
      "Epoch 86/150\n",
      "6/6 [==============================] - 0s 10ms/step - loss: 7.6612e-04 - binary_accuracy: 1.0000 - recall: 1.0000 - precision: 1.0000 - val_loss: 1.6076 - val_binary_accuracy: 0.8140 - val_recall: 0.8095 - val_precision: 0.8095\n",
      "Epoch 87/150\n",
      "6/6 [==============================] - 0s 9ms/step - loss: 7.2493e-04 - binary_accuracy: 1.0000 - recall: 1.0000 - precision: 1.0000 - val_loss: 1.6150 - val_binary_accuracy: 0.8140 - val_recall: 0.8095 - val_precision: 0.8095\n",
      "Epoch 88/150\n",
      "6/6 [==============================] - 0s 9ms/step - loss: 6.7837e-04 - binary_accuracy: 1.0000 - recall: 1.0000 - precision: 1.0000 - val_loss: 1.6265 - val_binary_accuracy: 0.8140 - val_recall: 0.8095 - val_precision: 0.8095\n",
      "Epoch 89/150\n",
      "6/6 [==============================] - 0s 8ms/step - loss: 6.7876e-04 - binary_accuracy: 1.0000 - recall: 1.0000 - precision: 1.0000 - val_loss: 1.6322 - val_binary_accuracy: 0.8140 - val_recall: 0.8095 - val_precision: 0.8095\n",
      "Epoch 90/150\n",
      "6/6 [==============================] - 0s 8ms/step - loss: 6.5273e-04 - binary_accuracy: 1.0000 - recall: 1.0000 - precision: 1.0000 - val_loss: 1.6342 - val_binary_accuracy: 0.8140 - val_recall: 0.8095 - val_precision: 0.8095\n",
      "Epoch 91/150\n",
      "6/6 [==============================] - 0s 9ms/step - loss: 6.2937e-04 - binary_accuracy: 1.0000 - recall: 1.0000 - precision: 1.0000 - val_loss: 1.6357 - val_binary_accuracy: 0.8140 - val_recall: 0.8095 - val_precision: 0.8095\n",
      "Epoch 92/150\n",
      "6/6 [==============================] - 0s 8ms/step - loss: 6.1973e-04 - binary_accuracy: 1.0000 - recall: 1.0000 - precision: 1.0000 - val_loss: 1.6387 - val_binary_accuracy: 0.8140 - val_recall: 0.8095 - val_precision: 0.8095\n",
      "Epoch 93/150\n",
      "6/6 [==============================] - 0s 9ms/step - loss: 6.1118e-04 - binary_accuracy: 1.0000 - recall: 1.0000 - precision: 1.0000 - val_loss: 1.6440 - val_binary_accuracy: 0.8140 - val_recall: 0.8095 - val_precision: 0.8095\n",
      "Epoch 94/150\n",
      "6/6 [==============================] - 0s 8ms/step - loss: 5.9003e-04 - binary_accuracy: 1.0000 - recall: 1.0000 - precision: 1.0000 - val_loss: 1.6481 - val_binary_accuracy: 0.8140 - val_recall: 0.8095 - val_precision: 0.8095\n",
      "Epoch 95/150\n",
      "6/6 [==============================] - 0s 9ms/step - loss: 5.7879e-04 - binary_accuracy: 1.0000 - recall: 1.0000 - precision: 1.0000 - val_loss: 1.6508 - val_binary_accuracy: 0.8140 - val_recall: 0.8095 - val_precision: 0.8095\n",
      "Epoch 96/150\n",
      "6/6 [==============================] - 0s 9ms/step - loss: 5.7024e-04 - binary_accuracy: 1.0000 - recall: 1.0000 - precision: 1.0000 - val_loss: 1.6545 - val_binary_accuracy: 0.8140 - val_recall: 0.8095 - val_precision: 0.8095\n",
      "Epoch 97/150\n",
      "6/6 [==============================] - 0s 9ms/step - loss: 5.6824e-04 - binary_accuracy: 1.0000 - recall: 1.0000 - precision: 1.0000 - val_loss: 1.6567 - val_binary_accuracy: 0.8140 - val_recall: 0.8095 - val_precision: 0.8095\n",
      "Epoch 98/150\n",
      "6/6 [==============================] - 0s 11ms/step - loss: 5.7059e-04 - binary_accuracy: 1.0000 - recall: 1.0000 - precision: 1.0000 - val_loss: 1.6669 - val_binary_accuracy: 0.8140 - val_recall: 0.8095 - val_precision: 0.8095\n",
      "Epoch 99/150\n",
      "6/6 [==============================] - 0s 8ms/step - loss: 5.3085e-04 - binary_accuracy: 1.0000 - recall: 1.0000 - precision: 1.0000 - val_loss: 1.6722 - val_binary_accuracy: 0.8140 - val_recall: 0.8095 - val_precision: 0.8095\n",
      "Epoch 100/150\n",
      "6/6 [==============================] - 0s 8ms/step - loss: 5.2054e-04 - binary_accuracy: 1.0000 - recall: 1.0000 - precision: 1.0000 - val_loss: 1.6775 - val_binary_accuracy: 0.8140 - val_recall: 0.8095 - val_precision: 0.8095\n",
      "Epoch 101/150\n",
      "6/6 [==============================] - 0s 8ms/step - loss: 5.1654e-04 - binary_accuracy: 1.0000 - recall: 1.0000 - precision: 1.0000 - val_loss: 1.6859 - val_binary_accuracy: 0.8140 - val_recall: 0.8095 - val_precision: 0.8095\n",
      "Epoch 102/150\n",
      "6/6 [==============================] - 0s 9ms/step - loss: 5.0107e-04 - binary_accuracy: 1.0000 - recall: 1.0000 - precision: 1.0000 - val_loss: 1.6905 - val_binary_accuracy: 0.8140 - val_recall: 0.8095 - val_precision: 0.8095\n",
      "Epoch 103/150\n",
      "6/6 [==============================] - 0s 9ms/step - loss: 4.8559e-04 - binary_accuracy: 1.0000 - recall: 1.0000 - precision: 1.0000 - val_loss: 1.6935 - val_binary_accuracy: 0.8140 - val_recall: 0.8095 - val_precision: 0.8095\n",
      "Epoch 104/150\n",
      "6/6 [==============================] - 0s 9ms/step - loss: 4.7523e-04 - binary_accuracy: 1.0000 - recall: 1.0000 - precision: 1.0000 - val_loss: 1.6970 - val_binary_accuracy: 0.8140 - val_recall: 0.8095 - val_precision: 0.8095\n",
      "Epoch 105/150\n",
      "6/6 [==============================] - 0s 8ms/step - loss: 4.6956e-04 - binary_accuracy: 1.0000 - recall: 1.0000 - precision: 1.0000 - val_loss: 1.7014 - val_binary_accuracy: 0.8140 - val_recall: 0.8095 - val_precision: 0.8095\n",
      "Epoch 106/150\n",
      "6/6 [==============================] - 0s 9ms/step - loss: 4.6181e-04 - binary_accuracy: 1.0000 - recall: 1.0000 - precision: 1.0000 - val_loss: 1.7058 - val_binary_accuracy: 0.8140 - val_recall: 0.8095 - val_precision: 0.8095\n",
      "Epoch 107/150\n",
      "6/6 [==============================] - 0s 9ms/step - loss: 4.8318e-04 - binary_accuracy: 1.0000 - recall: 1.0000 - precision: 1.0000 - val_loss: 1.7085 - val_binary_accuracy: 0.8140 - val_recall: 0.8095 - val_precision: 0.8095\n",
      "Epoch 108/150\n",
      "6/6 [==============================] - 0s 9ms/step - loss: 4.4357e-04 - binary_accuracy: 1.0000 - recall: 1.0000 - precision: 1.0000 - val_loss: 1.7227 - val_binary_accuracy: 0.8140 - val_recall: 0.8095 - val_precision: 0.8095\n",
      "Epoch 109/150\n",
      "6/6 [==============================] - 0s 9ms/step - loss: 4.7447e-04 - binary_accuracy: 1.0000 - recall: 1.0000 - precision: 1.0000 - val_loss: 1.7301 - val_binary_accuracy: 0.8140 - val_recall: 0.8095 - val_precision: 0.8095\n",
      "Epoch 110/150\n",
      "6/6 [==============================] - 0s 9ms/step - loss: 4.5889e-04 - binary_accuracy: 1.0000 - recall: 1.0000 - precision: 1.0000 - val_loss: 1.7264 - val_binary_accuracy: 0.8140 - val_recall: 0.8095 - val_precision: 0.8095\n",
      "Epoch 111/150\n",
      "6/6 [==============================] - 0s 8ms/step - loss: 4.1712e-04 - binary_accuracy: 1.0000 - recall: 1.0000 - precision: 1.0000 - val_loss: 1.7288 - val_binary_accuracy: 0.8140 - val_recall: 0.8095 - val_precision: 0.8095\n",
      "Epoch 112/150\n",
      "6/6 [==============================] - 0s 9ms/step - loss: 4.1223e-04 - binary_accuracy: 1.0000 - recall: 1.0000 - precision: 1.0000 - val_loss: 1.7300 - val_binary_accuracy: 0.8140 - val_recall: 0.8095 - val_precision: 0.8095\n",
      "Epoch 113/150\n",
      "6/6 [==============================] - 0s 9ms/step - loss: 4.5492e-04 - binary_accuracy: 1.0000 - recall: 1.0000 - precision: 1.0000 - val_loss: 1.7379 - val_binary_accuracy: 0.8140 - val_recall: 0.8095 - val_precision: 0.8095\n",
      "Epoch 114/150\n",
      "6/6 [==============================] - 0s 9ms/step - loss: 4.0493e-04 - binary_accuracy: 1.0000 - recall: 1.0000 - precision: 1.0000 - val_loss: 1.7507 - val_binary_accuracy: 0.8140 - val_recall: 0.8095 - val_precision: 0.8095\n",
      "Epoch 115/150\n",
      "6/6 [==============================] - 0s 8ms/step - loss: 3.7713e-04 - binary_accuracy: 1.0000 - recall: 1.0000 - precision: 1.0000 - val_loss: 1.7625 - val_binary_accuracy: 0.8140 - val_recall: 0.8095 - val_precision: 0.8095\n",
      "Epoch 116/150\n",
      "6/6 [==============================] - 0s 8ms/step - loss: 3.6272e-04 - binary_accuracy: 1.0000 - recall: 1.0000 - precision: 1.0000 - val_loss: 1.7721 - val_binary_accuracy: 0.8140 - val_recall: 0.8095 - val_precision: 0.8095\n",
      "Epoch 117/150\n",
      "6/6 [==============================] - 0s 9ms/step - loss: 3.4851e-04 - binary_accuracy: 1.0000 - recall: 1.0000 - precision: 1.0000 - val_loss: 1.7780 - val_binary_accuracy: 0.8140 - val_recall: 0.8095 - val_precision: 0.8095\n",
      "Epoch 118/150\n",
      "6/6 [==============================] - 0s 9ms/step - loss: 3.3075e-04 - binary_accuracy: 1.0000 - recall: 1.0000 - precision: 1.0000 - val_loss: 1.7813 - val_binary_accuracy: 0.8140 - val_recall: 0.8095 - val_precision: 0.8095\n",
      "Epoch 119/150\n",
      "6/6 [==============================] - 0s 9ms/step - loss: 3.2189e-04 - binary_accuracy: 1.0000 - recall: 1.0000 - precision: 1.0000 - val_loss: 1.7860 - val_binary_accuracy: 0.8140 - val_recall: 0.8095 - val_precision: 0.8095\n",
      "Epoch 120/150\n",
      "6/6 [==============================] - 0s 8ms/step - loss: 3.1324e-04 - binary_accuracy: 1.0000 - recall: 1.0000 - precision: 1.0000 - val_loss: 1.7935 - val_binary_accuracy: 0.8140 - val_recall: 0.8095 - val_precision: 0.8095\n",
      "Epoch 121/150\n",
      "6/6 [==============================] - 0s 8ms/step - loss: 3.0332e-04 - binary_accuracy: 1.0000 - recall: 1.0000 - precision: 1.0000 - val_loss: 1.8006 - val_binary_accuracy: 0.8140 - val_recall: 0.8095 - val_precision: 0.8095\n",
      "Epoch 122/150\n",
      "6/6 [==============================] - 0s 9ms/step - loss: 2.9306e-04 - binary_accuracy: 1.0000 - recall: 1.0000 - precision: 1.0000 - val_loss: 1.8130 - val_binary_accuracy: 0.8140 - val_recall: 0.8095 - val_precision: 0.8095\n",
      "Epoch 123/150\n",
      "6/6 [==============================] - 0s 8ms/step - loss: 2.8289e-04 - binary_accuracy: 1.0000 - recall: 1.0000 - precision: 1.0000 - val_loss: 1.8206 - val_binary_accuracy: 0.8140 - val_recall: 0.8095 - val_precision: 0.8095\n",
      "Epoch 124/150\n",
      "6/6 [==============================] - 0s 8ms/step - loss: 2.7278e-04 - binary_accuracy: 1.0000 - recall: 1.0000 - precision: 1.0000 - val_loss: 1.8246 - val_binary_accuracy: 0.8140 - val_recall: 0.8095 - val_precision: 0.8095\n",
      "Epoch 125/150\n",
      "6/6 [==============================] - 0s 8ms/step - loss: 2.6613e-04 - binary_accuracy: 1.0000 - recall: 1.0000 - precision: 1.0000 - val_loss: 1.8306 - val_binary_accuracy: 0.8140 - val_recall: 0.8095 - val_precision: 0.8095\n",
      "Epoch 126/150\n",
      "6/6 [==============================] - 0s 8ms/step - loss: 2.5356e-04 - binary_accuracy: 1.0000 - recall: 1.0000 - precision: 1.0000 - val_loss: 1.8411 - val_binary_accuracy: 0.8140 - val_recall: 0.8095 - val_precision: 0.8095\n",
      "Epoch 127/150\n",
      "6/6 [==============================] - 0s 8ms/step - loss: 2.6455e-04 - binary_accuracy: 1.0000 - recall: 1.0000 - precision: 1.0000 - val_loss: 1.8565 - val_binary_accuracy: 0.8140 - val_recall: 0.8095 - val_precision: 0.8095\n",
      "Epoch 128/150\n",
      "6/6 [==============================] - 0s 10ms/step - loss: 2.5099e-04 - binary_accuracy: 1.0000 - recall: 1.0000 - precision: 1.0000 - val_loss: 1.8613 - val_binary_accuracy: 0.8140 - val_recall: 0.8095 - val_precision: 0.8095\n",
      "Epoch 129/150\n",
      "6/6 [==============================] - 0s 8ms/step - loss: 2.3265e-04 - binary_accuracy: 1.0000 - recall: 1.0000 - precision: 1.0000 - val_loss: 1.8639 - val_binary_accuracy: 0.8140 - val_recall: 0.8095 - val_precision: 0.8095\n",
      "Epoch 130/150\n",
      "6/6 [==============================] - 0s 8ms/step - loss: 2.2577e-04 - binary_accuracy: 1.0000 - recall: 1.0000 - precision: 1.0000 - val_loss: 1.8667 - val_binary_accuracy: 0.8140 - val_recall: 0.8095 - val_precision: 0.8095\n",
      "Epoch 131/150\n",
      "6/6 [==============================] - 0s 8ms/step - loss: 2.1720e-04 - binary_accuracy: 1.0000 - recall: 1.0000 - precision: 1.0000 - val_loss: 1.8724 - val_binary_accuracy: 0.8140 - val_recall: 0.8095 - val_precision: 0.8095\n",
      "Epoch 132/150\n",
      "6/6 [==============================] - 0s 8ms/step - loss: 2.1341e-04 - binary_accuracy: 1.0000 - recall: 1.0000 - precision: 1.0000 - val_loss: 1.8779 - val_binary_accuracy: 0.8140 - val_recall: 0.8095 - val_precision: 0.8095\n",
      "Epoch 133/150\n",
      "6/6 [==============================] - 0s 8ms/step - loss: 2.0479e-04 - binary_accuracy: 1.0000 - recall: 1.0000 - precision: 1.0000 - val_loss: 1.8869 - val_binary_accuracy: 0.8140 - val_recall: 0.8095 - val_precision: 0.8095\n",
      "Epoch 134/150\n",
      "6/6 [==============================] - 0s 9ms/step - loss: 1.9600e-04 - binary_accuracy: 1.0000 - recall: 1.0000 - precision: 1.0000 - val_loss: 1.8982 - val_binary_accuracy: 0.8140 - val_recall: 0.8095 - val_precision: 0.8095\n",
      "Epoch 135/150\n",
      "6/6 [==============================] - 0s 9ms/step - loss: 1.9454e-04 - binary_accuracy: 1.0000 - recall: 1.0000 - precision: 1.0000 - val_loss: 1.9070 - val_binary_accuracy: 0.8140 - val_recall: 0.8095 - val_precision: 0.8095\n",
      "Epoch 136/150\n",
      "6/6 [==============================] - 0s 8ms/step - loss: 1.8977e-04 - binary_accuracy: 1.0000 - recall: 1.0000 - precision: 1.0000 - val_loss: 1.9114 - val_binary_accuracy: 0.8140 - val_recall: 0.8095 - val_precision: 0.8095\n",
      "Epoch 137/150\n",
      "6/6 [==============================] - 0s 8ms/step - loss: 1.8242e-04 - binary_accuracy: 1.0000 - recall: 1.0000 - precision: 1.0000 - val_loss: 1.9141 - val_binary_accuracy: 0.8140 - val_recall: 0.8095 - val_precision: 0.8095\n",
      "Epoch 138/150\n",
      "6/6 [==============================] - 0s 9ms/step - loss: 1.7760e-04 - binary_accuracy: 1.0000 - recall: 1.0000 - precision: 1.0000 - val_loss: 1.9172 - val_binary_accuracy: 0.8140 - val_recall: 0.8095 - val_precision: 0.8095\n",
      "Epoch 139/150\n"
     ]
    },
    {
     "name": "stdout",
     "output_type": "stream",
     "text": [
      "6/6 [==============================] - 0s 8ms/step - loss: 1.7174e-04 - binary_accuracy: 1.0000 - recall: 1.0000 - precision: 1.0000 - val_loss: 1.9256 - val_binary_accuracy: 0.8140 - val_recall: 0.8095 - val_precision: 0.8095\n",
      "Epoch 140/150\n",
      "6/6 [==============================] - 0s 8ms/step - loss: 1.6786e-04 - binary_accuracy: 1.0000 - recall: 1.0000 - precision: 1.0000 - val_loss: 1.9330 - val_binary_accuracy: 0.8140 - val_recall: 0.8095 - val_precision: 0.8095\n",
      "Epoch 141/150\n",
      "6/6 [==============================] - 0s 8ms/step - loss: 1.6338e-04 - binary_accuracy: 1.0000 - recall: 1.0000 - precision: 1.0000 - val_loss: 1.9389 - val_binary_accuracy: 0.8140 - val_recall: 0.8095 - val_precision: 0.8095\n",
      "Epoch 142/150\n",
      "6/6 [==============================] - 0s 8ms/step - loss: 1.6108e-04 - binary_accuracy: 1.0000 - recall: 1.0000 - precision: 1.0000 - val_loss: 1.9451 - val_binary_accuracy: 0.8140 - val_recall: 0.8095 - val_precision: 0.8095\n",
      "Epoch 143/150\n",
      "6/6 [==============================] - 0s 8ms/step - loss: 1.5723e-04 - binary_accuracy: 1.0000 - recall: 1.0000 - precision: 1.0000 - val_loss: 1.9499 - val_binary_accuracy: 0.8140 - val_recall: 0.8095 - val_precision: 0.8095\n",
      "Epoch 144/150\n",
      "6/6 [==============================] - 0s 8ms/step - loss: 1.5308e-04 - binary_accuracy: 1.0000 - recall: 1.0000 - precision: 1.0000 - val_loss: 1.9545 - val_binary_accuracy: 0.8140 - val_recall: 0.8095 - val_precision: 0.8095\n",
      "Epoch 145/150\n",
      "6/6 [==============================] - 0s 8ms/step - loss: 1.5053e-04 - binary_accuracy: 1.0000 - recall: 1.0000 - precision: 1.0000 - val_loss: 1.9612 - val_binary_accuracy: 0.8140 - val_recall: 0.8095 - val_precision: 0.8095\n",
      "Epoch 146/150\n",
      "6/6 [==============================] - 0s 9ms/step - loss: 1.4567e-04 - binary_accuracy: 1.0000 - recall: 1.0000 - precision: 1.0000 - val_loss: 1.9656 - val_binary_accuracy: 0.8140 - val_recall: 0.8095 - val_precision: 0.8095\n",
      "Epoch 147/150\n",
      "6/6 [==============================] - 0s 8ms/step - loss: 1.4220e-04 - binary_accuracy: 1.0000 - recall: 1.0000 - precision: 1.0000 - val_loss: 1.9743 - val_binary_accuracy: 0.8140 - val_recall: 0.8095 - val_precision: 0.8095\n",
      "Epoch 148/150\n",
      "6/6 [==============================] - 0s 9ms/step - loss: 1.3888e-04 - binary_accuracy: 1.0000 - recall: 1.0000 - precision: 1.0000 - val_loss: 1.9801 - val_binary_accuracy: 0.8140 - val_recall: 0.8095 - val_precision: 0.8095\n",
      "Epoch 149/150\n",
      "6/6 [==============================] - 0s 8ms/step - loss: 1.3552e-04 - binary_accuracy: 1.0000 - recall: 1.0000 - precision: 1.0000 - val_loss: 1.9845 - val_binary_accuracy: 0.8140 - val_recall: 0.8095 - val_precision: 0.8095\n",
      "Epoch 150/150\n",
      "6/6 [==============================] - 0s 9ms/step - loss: 1.3322e-04 - binary_accuracy: 1.0000 - recall: 1.0000 - precision: 1.0000 - val_loss: 1.9883 - val_binary_accuracy: 0.8140 - val_recall: 0.8095 - val_precision: 0.8095\n"
     ]
    }
   ],
   "source": [
    "hist = model.fit(X_train, y_train,           # 훈련 데이터\n",
    "                    validation_split=0.2, # 검증 데이터\n",
    "                    epochs=150,                         # 반복 횟수\n",
    "                    batch_size=32,                     # 배치 크기\n",
    "                    verbose=1)                         # 출력 모드\n"
   ]
  },
  {
   "cell_type": "code",
   "execution_count": 20,
   "id": "7f31ec49",
   "metadata": {},
   "outputs": [
    {
     "data": {
      "text/plain": [
       "dict_keys(['loss', 'binary_accuracy', 'recall', 'precision', 'val_loss', 'val_binary_accuracy', 'val_recall', 'val_precision'])"
      ]
     },
     "execution_count": 20,
     "metadata": {},
     "output_type": "execute_result"
    }
   ],
   "source": [
    "hist.history.keys()"
   ]
  },
  {
   "cell_type": "code",
   "execution_count": 29,
   "id": "bab08f2f",
   "metadata": {},
   "outputs": [
    {
     "ename": "KeyError",
     "evalue": "'accuracy'",
     "output_type": "error",
     "traceback": [
      "\u001b[1;31m---------------------------------------------------------------------------\u001b[0m",
      "\u001b[1;31mKeyError\u001b[0m                                  Traceback (most recent call last)",
      "Cell \u001b[1;32mIn[29], line 15\u001b[0m\n\u001b[0;32m     13\u001b[0m \u001b[38;5;66;03m# 오른쪽 y축: Accuracy\u001b[39;00m\n\u001b[0;32m     14\u001b[0m acc_ax \u001b[38;5;241m=\u001b[39m loss_ax\u001b[38;5;241m.\u001b[39mtwinx()\n\u001b[1;32m---> 15\u001b[0m acc_ax\u001b[38;5;241m.\u001b[39mplot(\u001b[43mhistory\u001b[49m\u001b[38;5;241;43m.\u001b[39;49m\u001b[43mhistory\u001b[49m\u001b[43m[\u001b[49m\u001b[38;5;124;43m'\u001b[39;49m\u001b[38;5;124;43maccuracy\u001b[39;49m\u001b[38;5;124;43m'\u001b[39;49m\u001b[43m]\u001b[49m, \u001b[38;5;124m'\u001b[39m\u001b[38;5;124mg\u001b[39m\u001b[38;5;124m'\u001b[39m, label\u001b[38;5;241m=\u001b[39m\u001b[38;5;124m'\u001b[39m\u001b[38;5;124mTrain Acc\u001b[39m\u001b[38;5;124m'\u001b[39m)\n\u001b[0;32m     16\u001b[0m acc_ax\u001b[38;5;241m.\u001b[39mplot(history\u001b[38;5;241m.\u001b[39mhistory[\u001b[38;5;124m'\u001b[39m\u001b[38;5;124mval_accuracy\u001b[39m\u001b[38;5;124m'\u001b[39m], \u001b[38;5;124m'\u001b[39m\u001b[38;5;124mb\u001b[39m\u001b[38;5;124m'\u001b[39m, label\u001b[38;5;241m=\u001b[39m\u001b[38;5;124m'\u001b[39m\u001b[38;5;124mVal Acc\u001b[39m\u001b[38;5;124m'\u001b[39m)\n\u001b[0;32m     17\u001b[0m acc_ax\u001b[38;5;241m.\u001b[39mset_ylabel(\u001b[38;5;124m'\u001b[39m\u001b[38;5;124mAccuracy\u001b[39m\u001b[38;5;124m'\u001b[39m)\n",
      "\u001b[1;31mKeyError\u001b[0m: 'accuracy'"
     ]
    },
    {
     "data": {
      "image/png": "[encoded data removed]",
      "text/plain": [
       "<Figure size 1200x600 with 2 Axes>"
      ]
     },
     "metadata": {},
     "output_type": "display_data"
    }
   ],
   "source": [
    "import matplotlib.pyplot as plt\n",
    "\n",
    "# 하나의 Figure + 2개의 y축 (왼쪽: 손실, 오른쪽: 정확도)\n",
    "fig, loss_ax = plt.subplots(figsize=(12, 6))\n",
    "\n",
    "# 왼쪽 y축: Loss\n",
    "loss_ax.plot(history.history['loss'], 'y', label='Train Loss')\n",
    "loss_ax.plot(history.history['val_loss'], 'r', label='Val Loss')\n",
    "loss_ax.set_xlabel('Epoch')\n",
    "loss_ax.set_ylabel('Loss')\n",
    "\n",
    "\n",
    "# 오른쪽 y축: Accuracy\n",
    "acc_ax = loss_ax.twinx()\n",
    "acc_ax.plot(history.history['accuracy'], 'g', label='Train Acc')\n",
    "acc_ax.plot(history.history['val_accuracy'], 'b', label='Val Acc')\n",
    "acc_ax.set_ylabel('Accuracy')\n",
    "\n",
    "\n",
    "plt.show()\n"
   ]
  },
  {
   "cell_type": "code",
   "execution_count": 23,
   "id": "b1f1e53d",
   "metadata": {},
   "outputs": [
    {
     "data": {
      "text/plain": [
       "array([1, 1, 0, 1, 1, 0, 0, 0, 0, 0, 0, 0, 0, 0, 1, 0, 1, 1, 1, 0, 0, 0,\n",
       "       0, 0, 0, 1, 1, 0, 1, 1, 0, 0, 1, 1, 0, 0, 0, 0, 1, 1, 1, 1, 0, 0,\n",
       "       1, 0, 1, 1, 1, 0, 1, 0, 0, 0, 1, 0, 0, 0, 1, 1, 1, 1, 1, 0, 0, 0,\n",
       "       1, 0, 1, 1, 0, 1, 0, 1, 0, 0, 1, 0, 1, 1, 0, 1, 1, 0, 0, 1, 1, 0,\n",
       "       1, 0, 0], dtype=int64)"
      ]
     },
     "execution_count": 23,
     "metadata": {},
     "output_type": "execute_result"
    }
   ],
   "source": [
    "# 교차표\n",
    "y_test.reshape(-1)"
   ]
  },
  {
   "cell_type": "code",
   "execution_count": 25,
   "id": "fb975e62",
   "metadata": {},
   "outputs": [
    {
     "name": "stdout",
     "output_type": "stream",
     "text": [
      "3/3 [==============================] - 0s 2ms/step\n"
     ]
    },
    {
     "data": {
      "text/html": [
       "<div>\n",
       "<style scoped>\n",
       "    .dataframe tbody tr th:only-of-type {\n",
       "        vertical-align: middle;\n",
       "    }\n",
       "\n",
       "    .dataframe tbody tr th {\n",
       "        vertical-align: top;\n",
       "    }\n",
       "\n",
       "    .dataframe thead th {\n",
       "        text-align: right;\n",
       "    }\n",
       "</style>\n",
       "<table border=\"1\" class=\"dataframe\">\n",
       "  <thead>\n",
       "    <tr style=\"text-align: right;\">\n",
       "      <th>예측값</th>\n",
       "      <th>0</th>\n",
       "      <th>1</th>\n",
       "    </tr>\n",
       "    <tr>\n",
       "      <th>실제값</th>\n",
       "      <th></th>\n",
       "      <th></th>\n",
       "    </tr>\n",
       "  </thead>\n",
       "  <tbody>\n",
       "    <tr>\n",
       "      <th>0</th>\n",
       "      <td>41</td>\n",
       "      <td>8</td>\n",
       "    </tr>\n",
       "    <tr>\n",
       "      <th>1</th>\n",
       "      <td>7</td>\n",
       "      <td>35</td>\n",
       "    </tr>\n",
       "  </tbody>\n",
       "</table>\n",
       "</div>"
      ],
      "text/plain": [
       "예측값   0   1\n",
       "실제값        \n",
       "0    41   8\n",
       "1     7  35"
      ]
     },
     "execution_count": 25,
     "metadata": {},
     "output_type": "execute_result"
    }
   ],
   "source": [
    "y_hat = (model.predict(X_test)>0.5).astype(int).reshape(-1)\n",
    "pd.crosstab(y_test.reshape(-1), y_hat, \n",
    "           rownames=['실제값'], colnames=['예측값'])"
   ]
  },
  {
   "cell_type": "code",
   "execution_count": 26,
   "id": "7e46f41f",
   "metadata": {},
   "outputs": [],
   "source": [
    "model.save('model/practice2.h5')\n",
    "save_model(model, 'model/practice2.h5')"
   ]
  },
  {
   "cell_type": "code",
   "execution_count": 28,
   "id": "71802fc9",
   "metadata": {},
   "outputs": [
    {
     "data": {
      "text/plain": [
       "<keras.engine.sequential.Sequential at 0x19d38ee6cb0>"
      ]
     },
     "execution_count": 28,
     "metadata": {},
     "output_type": "execute_result"
    }
   ],
   "source": [
    "model2 = load_model('model/practice2.h5')\n",
    "model2\n"
   ]
  },
  {
   "cell_type": "markdown",
   "id": "a519c2b5",
   "metadata": {},
   "source": [
    "## 분류분석\n"
   ]
  },
  {
   "cell_type": "code",
   "execution_count": 30,
   "id": "5c77eddd",
   "metadata": {},
   "outputs": [
    {
     "data": {
      "text/plain": [
       "((212, 2), (91, 2))"
      ]
     },
     "execution_count": 30,
     "metadata": {},
     "output_type": "execute_result"
    }
   ],
   "source": [
    "Y_train = to_categorical(y_train)\n",
    "Y_test  = to_categorical(y_test)\n",
    "Y_train.shape, Y_test.shape"
   ]
  },
  {
   "cell_type": "code",
   "execution_count": 31,
   "id": "3448b6ef",
   "metadata": {},
   "outputs": [
    {
     "name": "stdout",
     "output_type": "stream",
     "text": [
      "Model: \"sequential_2\"\n",
      "_________________________________________________________________\n",
      " Layer (type)                Output Shape              Param #   \n",
      "=================================================================\n",
      " dense_8 (Dense)             (None, 32)                448       \n",
      "                                                                 \n",
      " dropout (Dropout)           (None, 32)                0         \n",
      "                                                                 \n",
      " dense_9 (Dense)             (None, 16)                528       \n",
      "                                                                 \n",
      " dropout_1 (Dropout)         (None, 16)                0         \n",
      "                                                                 \n",
      " dense_10 (Dense)            (None, 8)                 136       \n",
      "                                                                 \n",
      " dropout_2 (Dropout)         (None, 8)                 0         \n",
      "                                                                 \n",
      " dense_11 (Dense)            (None, 2)                 18        \n",
      "                                                                 \n",
      "=================================================================\n",
      "Total params: 1,130\n",
      "Trainable params: 1,130\n",
      "Non-trainable params: 0\n",
      "_________________________________________________________________\n"
     ]
    }
   ],
   "source": [
    "model = Sequential()\n",
    "# model.add(Input(shape=(13,)))\n",
    "model.add(Dense(units=32, \n",
    "                input_dim=13,\n",
    "                activation='tanh'))\n",
    "model.add(Dropout(0.3))\n",
    "model.add(Dense(units=16, activation='relu'))\n",
    "model.add(Dropout(0.3))\n",
    "model.add(Dense(units=8, activation='relu'))\n",
    "model.add(Dropout(0.3))\n",
    "# model.add(Dense(units=1,  activation='sigmoid'))\n",
    "model.add(Dense(units=2,  activation='softmax'))\n",
    "model.summary()"
   ]
  },
  {
   "cell_type": "code",
   "execution_count": 32,
   "id": "8e3d18e3",
   "metadata": {},
   "outputs": [],
   "source": [
    "from tensorflow.keras import metrics\n",
    "from tensorflow.keras.optimizers import Adam\n",
    "model.compile(loss='categorical_crossentropy',\n",
    "             # optimizer=Adam(learning_rate=0.01),\n",
    "             optimizer='adam',\n",
    "             metrics=['accuracy', # 정확도\n",
    "                      metrics.Recall(), # 재현율(실제값 중심)\n",
    "                      metrics.Precision()]) # 정밀도(예측값 중심)"
   ]
  },
  {
   "cell_type": "code",
   "execution_count": 33,
   "id": "d87407c5",
   "metadata": {},
   "outputs": [
    {
     "name": "stdout",
     "output_type": "stream",
     "text": [
      "CPU times: total: 10.7 s\n",
      "Wall time: 8.22 s\n"
     ]
    }
   ],
   "source": [
    "%%time\n",
    "hist = model.fit(X_train, Y_train, # 훈련데이터\n",
    "                epochs=200,\n",
    "                validation_split=0.2, # 검증데이터를 훈련데이터의 20%로 사용\n",
    "                verbose=0)"
   ]
  },
  {
   "cell_type": "code",
   "execution_count": 34,
   "id": "bdd461ee",
   "metadata": {},
   "outputs": [
    {
     "data": {
      "text/plain": [
       "dict_keys(['loss', 'accuracy', 'recall_1', 'precision_1', 'val_loss', 'val_accuracy', 'val_recall_1', 'val_precision_1'])"
      ]
     },
     "execution_count": 34,
     "metadata": {},
     "output_type": "execute_result"
    }
   ],
   "source": [
    "\n",
    "hist.history.keys()"
   ]
  },
  {
   "cell_type": "code",
   "execution_count": 35,
   "id": "e1750854",
   "metadata": {},
   "outputs": [
    {
     "data": {
      "image/png": "[encoded data removed]",
      "text/plain": [
       "<Figure size 1200x600 with 2 Axes>"
      ]
     },
     "metadata": {},
     "output_type": "display_data"
    }
   ],
   "source": [
    "fig, loss_ax = plt.subplots(figsize=(12,6))\n",
    "loss_ax.plot(hist.history['loss'], 'y', label='train loss')\n",
    "loss_ax.plot(hist.history['val_loss'], 'r', label='val loss')\n",
    "acc_ax = loss_ax.twinx()\n",
    "acc_ax.plot(hist.history['accuracy'], 'g', label='train accuracy')\n",
    "acc_ax.plot(hist.history['val_accuracy'], 'b', label='val accuracy')\n",
    "loss_ax.set_xlabel('epochs')\n",
    "loss_ax.set_ylabel('loss')\n",
    "acc_ax.set_ylabel('accuracy')\n",
    "loss_ax.legend(loc='center right')\n",
    "acc_ax.legend()\n",
    "plt.show()"
   ]
  },
  {
   "cell_type": "code",
   "execution_count": null,
   "id": "30cbceb6",
   "metadata": {},
   "outputs": [],
   "source": []
  }
 ],
 "metadata": {
  "kernelspec": {
   "display_name": "ml-dl-nlp",
   "language": "python",
   "name": "ml-dl-nlp"
  },
  "language_info": {
   "codemirror_mode": {
    "name": "ipython",
    "version": 3
   },
   "file_extension": ".py",
   "mimetype": "text/x-python",
   "name": "python",
   "nbconvert_exporter": "python",
   "pygments_lexer": "ipython3",
   "version": "3.10.18"
  },
  "toc": {
   "base_numbering": 1,
   "nav_menu": {},
   "number_sections": false,
   "sideBar": true,
   "skip_h1_title": false,
   "title_cell": "Table of Contents",
   "title_sidebar": "Contents",
   "toc_cell": false,
   "toc_position": {},
   "toc_section_display": true,
   "toc_window_display": false
  }
 },
 "nbformat": 4,
 "nbformat_minor": 5
}
