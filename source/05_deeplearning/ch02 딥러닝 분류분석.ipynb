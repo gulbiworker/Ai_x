{
 "cells": [
  {
   "cell_type": "code",
   "execution_count": 7,
   "id": "02507497",
   "metadata": {},
   "outputs": [
    {
     "data": {
      "text/html": [
       "\n",
       "<style>\n",
       "div.container{width:86% !important;}\n",
       "div.cell.code_cell.rendered{width:100%;}\n",
       "div.CodeMirror {font-family:Consolas; font-size:15pt;}\n",
       "div.output {font-size:15pt; font-weight:bold;}\n",
       "div.input {font-family:Consolas; font-size:15pt;}\n",
       "div.prompt {min-width:70px;}\n",
       "div#toc-wrapper{padding-top:120px;}\n",
       "div.text_cell_render ul li{font-size:12pt;padding:5px;}\n",
       "table.dataframe{font-size:15px;}\n",
       "</style>\n"
      ],
      "text/plain": [
       "<IPython.core.display.HTML object>"
      ]
     },
     "metadata": {},
     "output_type": "display_data"
    }
   ],
   "source": [
    "from IPython.display import display, HTML\n",
    "display(HTML(\"\"\"\n",
    "<style>\n",
    "div.container{width:86% !important;}\n",
    "div.cell.code_cell.rendered{width:100%;}\n",
    "div.CodeMirror {font-family:Consolas; font-size:15pt;}\n",
    "div.output {font-size:15pt; font-weight:bold;}\n",
    "div.input {font-family:Consolas; font-size:15pt;}\n",
    "div.prompt {min-width:70px;}\n",
    "div#toc-wrapper{padding-top:120px;}\n",
    "div.text_cell_render ul li{font-size:12pt;padding:5px;}\n",
    "table.dataframe{font-size:15px;}\n",
    "</style>\n",
    "\"\"\"))"
   ]
  },
  {
   "cell_type": "code",
   "execution_count": 8,
   "id": "73625109",
   "metadata": {},
   "outputs": [],
   "source": [
    "from tensorflow.keras.utils import to_categorical  # 분류분석시 원핫인코딩\n",
    "from tensorflow.keras.models import Sequential # 모델생성\n",
    "from tensorflow.keras.layers import Dense, Input\n",
    "import numpy as np"
   ]
  },
  {
   "cell_type": "markdown",
   "id": "d591a546",
   "metadata": {},
   "source": [
    "# 머신러닝/딥러닝 : 데이터의 법칙성을 추출\n",
    "- 다양한 분야에서 응용 : 글씨인식, 문장분류, 질병진단\n",
    " - ml/dl 의 종류\n",
    " - 지도학습(독립 = 입력변수와 종속 = 타겟 = 출력변수가 모두 주어졌을 경우)\n",
    "     회귀분석(타겟변수가 연속형) vs 분류분석(multi, binary)\n",
    " - 비지도학습(입력변수만)\n",
    "     군집화\n",
    " - 강화학습\n",
    " \n",
    " 1. 데이터셋 확보(input = 입력변수, target=종속변수)\n",
    "     원본 데이터 및 시뮬레이션을 통해 데이터 생성\n",
    " 2. 전처리\n",
    "     스케일 조정\n",
    "     훈련셋(학습셋), 검증셋, 시험셋(테스트셋)\n",
    "     학습 및 평가 가능한 포맷으로 변환(numpy, DataFrame)\n",
    " - 3. 모델구성\n",
    "     sequential 객체 생성뒤 필요한 층을 add()함수로 추가\n",
    " - 4 모델 학습과정 설정\n",
    "     compile()함수 이용. 손실함수, otimizer,  metrics(평가지표)\n",
    " - 5 모델학습시키기(ft. 학습과정 지켜보기)\n",
    "     fit()함수 이용 - 훈련셋 입력=독립변수, 훈련셋타겟변수 = 종속변수, 학습횟수, 검증셋\n",
    "  - 6 모델 평기\n",
    "      시험셋을 인자로 넣은 evalueter()평가, 그래프\n",
    "  - 7 모델 사용\n",
    "      predict() 이용. 입력데이터는 2차원 데이터\n",
    "  - 8 모델 저장\n",
    "      save()함수 이용해서 저장. 저장된 모델은 load_model()함수를 이용해서 불러올 수 있음"
   ]
  },
  {
   "cell_type": "markdown",
   "id": "0adc89e8",
   "metadata": {},
   "source": [
    "\n",
    "# 2. 데이터 전처리"
   ]
  },
  {
   "cell_type": "code",
   "execution_count": 9,
   "id": "bcad7dc9",
   "metadata": {},
   "outputs": [
    {
     "data": {
      "text/plain": [
       "((90,), (9,), (9,), (90,), (9,), (9,))"
      ]
     },
     "execution_count": 9,
     "metadata": {},
     "output_type": "execute_result"
    }
   ],
   "source": [
    "x_train = np.array([1,2,3,4,5,6,7,8,9]*10)\n",
    "y_train = np.array([2,4,6,8,10,12,14,16,18]*10)\n",
    "# 검증데이터\n",
    "x_val = np.array([1,2,3,4,5,6,7,8,9])\n",
    "y_val = np.array([2,4,6,8,10,12,14,16,18])\n",
    "# 테스트셋= 시험데이터\n",
    "x_test = np.array([1,2,3,4,5,6,7,8,9])\n",
    "y_test = np.array([2,4,6,8,10,12,14,16,18])\n",
    "x_train.shape, x_val.shape, x_test.shape, y_train.shape, y_val.shape, y_test.shape"
   ]
  },
  {
   "cell_type": "code",
   "execution_count": 10,
   "id": "d9d37f8a",
   "metadata": {},
   "outputs": [
    {
     "name": "stdout",
     "output_type": "stream",
     "text": [
      "원 데이터: ['a' 'b' 'b' 'd']\n",
      "[0 1 1 2]\n",
      "[[1. 0. 0.]\n",
      " [0. 1. 0.]\n",
      " [0. 1. 0.]\n",
      " [0. 0. 1.]]\n"
     ]
    }
   ],
   "source": [
    "data = np.array(['a','b','b','d'])\n",
    "print('원 데이터:',data)\n",
    "from sklearn.preprocessing import LabelEncoder\n",
    "le = LabelEncoder()\n",
    "labeled_data = le.fit_transform(data)\n",
    "print(labeled_data)\n",
    "one_hot_encoded_data = to_categorical(labeled_data)\n",
    "print(one_hot_encoded_data)"
   ]
  },
  {
   "cell_type": "code",
   "execution_count": 11,
   "id": "56175e2b",
   "metadata": {},
   "outputs": [
    {
     "name": "stdout",
     "output_type": "stream",
     "text": [
      "[1 2 2 4 5]\n",
      "[[0. 1. 0. 0. 0. 0.]\n",
      " [0. 0. 1. 0. 0. 0.]\n",
      " [0. 0. 1. 0. 0. 0.]\n",
      " [0. 0. 0. 0. 1. 0.]\n",
      " [0. 0. 0. 0. 0. 1.]]\n"
     ]
    },
    {
     "data": {
      "text/plain": [
       "'get_dumies를 이용한 원핫인 코딩:'"
      ]
     },
     "metadata": {},
     "output_type": "display_data"
    },
    {
     "data": {
      "text/html": [
       "<div>\n",
       "<style scoped>\n",
       "    .dataframe tbody tr th:only-of-type {\n",
       "        vertical-align: middle;\n",
       "    }\n",
       "\n",
       "    .dataframe tbody tr th {\n",
       "        vertical-align: top;\n",
       "    }\n",
       "\n",
       "    .dataframe thead th {\n",
       "        text-align: right;\n",
       "    }\n",
       "</style>\n",
       "<table border=\"1\" class=\"dataframe\">\n",
       "  <thead>\n",
       "    <tr style=\"text-align: right;\">\n",
       "      <th></th>\n",
       "      <th>1</th>\n",
       "      <th>2</th>\n",
       "      <th>4</th>\n",
       "      <th>5</th>\n",
       "    </tr>\n",
       "  </thead>\n",
       "  <tbody>\n",
       "    <tr>\n",
       "      <th>0</th>\n",
       "      <td>1</td>\n",
       "      <td>0</td>\n",
       "      <td>0</td>\n",
       "      <td>0</td>\n",
       "    </tr>\n",
       "    <tr>\n",
       "      <th>1</th>\n",
       "      <td>0</td>\n",
       "      <td>1</td>\n",
       "      <td>0</td>\n",
       "      <td>0</td>\n",
       "    </tr>\n",
       "    <tr>\n",
       "      <th>2</th>\n",
       "      <td>0</td>\n",
       "      <td>1</td>\n",
       "      <td>0</td>\n",
       "      <td>0</td>\n",
       "    </tr>\n",
       "    <tr>\n",
       "      <th>3</th>\n",
       "      <td>0</td>\n",
       "      <td>0</td>\n",
       "      <td>1</td>\n",
       "      <td>0</td>\n",
       "    </tr>\n",
       "    <tr>\n",
       "      <th>4</th>\n",
       "      <td>0</td>\n",
       "      <td>0</td>\n",
       "      <td>0</td>\n",
       "      <td>1</td>\n",
       "    </tr>\n",
       "  </tbody>\n",
       "</table>\n",
       "</div>"
      ],
      "text/plain": [
       "   1  2  4  5\n",
       "0  1  0  0  0\n",
       "1  0  1  0  0\n",
       "2  0  1  0  0\n",
       "3  0  0  1  0\n",
       "4  0  0  0  1"
      ]
     },
     "metadata": {},
     "output_type": "display_data"
    },
    {
     "name": "stdout",
     "output_type": "stream",
     "text": [
      "<class 'numpy.ndarray'>\n"
     ]
    }
   ],
   "source": [
    "# 분류분석을 위해, target을 원핫인코딩\n",
    "data = np.array([1,2,2,4,5])\n",
    "print(data)\n",
    "categorical_one_hot = to_categorical(data)\n",
    "print(categorical_one_hot)\n",
    "import pandas as pd\n",
    "get_dumies_one_hot = pd.get_dummies(data)\n",
    "display('get_dumies를 이용한 원핫인 코딩:', get_dumies_one_hot)\n",
    "print(type(categorical_one_hot))"
   ]
  },
  {
   "cell_type": "code",
   "execution_count": 12,
   "id": "7595bb6e",
   "metadata": {},
   "outputs": [
    {
     "data": {
      "text/plain": [
       "array([[0., 0., 1., 0., 0., 0., 0., 0., 0., 0., 0., 0., 0., 0., 0., 0.,\n",
       "        0., 0., 0.],\n",
       "       [0., 0., 0., 0., 1., 0., 0., 0., 0., 0., 0., 0., 0., 0., 0., 0.,\n",
       "        0., 0., 0.],\n",
       "       [0., 0., 0., 0., 0., 0., 1., 0., 0., 0., 0., 0., 0., 0., 0., 0.,\n",
       "        0., 0., 0.],\n",
       "       [0., 0., 0., 0., 0., 0., 0., 0., 1., 0., 0., 0., 0., 0., 0., 0.,\n",
       "        0., 0., 0.],\n",
       "       [0., 0., 0., 0., 0., 0., 0., 0., 0., 0., 1., 0., 0., 0., 0., 0.,\n",
       "        0., 0., 0.],\n",
       "       [0., 0., 0., 0., 0., 0., 0., 0., 0., 0., 0., 0., 1., 0., 0., 0.,\n",
       "        0., 0., 0.],\n",
       "       [0., 0., 0., 0., 0., 0., 0., 0., 0., 0., 0., 0., 0., 0., 1., 0.,\n",
       "        0., 0., 0.],\n",
       "       [0., 0., 0., 0., 0., 0., 0., 0., 0., 0., 0., 0., 0., 0., 0., 0.,\n",
       "        1., 0., 0.],\n",
       "       [0., 0., 0., 0., 0., 0., 0., 0., 0., 0., 0., 0., 0., 0., 0., 0.,\n",
       "        0., 0., 1.]], dtype=float32)"
      ]
     },
     "execution_count": 12,
     "metadata": {},
     "output_type": "execute_result"
    }
   ],
   "source": [
    "# 분류분석을 위한 target변수 라벨링 전환\n",
    "Y_train = to_categorical(y_train, 19)\n",
    "Y_val = to_categorical(y_val)\n",
    "Y_test = to_categorical(y_test)\n",
    "Y_test"
   ]
  },
  {
   "cell_type": "code",
   "execution_count": 13,
   "id": "02d53f15",
   "metadata": {},
   "outputs": [
    {
     "data": {
      "text/plain": [
       "((90,), (90, 19))"
      ]
     },
     "execution_count": 13,
     "metadata": {},
     "output_type": "execute_result"
    }
   ],
   "source": [
    "x_train.shape, Y_train.shape   # 독립변수1개, 타겟변수 19"
   ]
  },
  {
   "cell_type": "code",
   "execution_count": 14,
   "id": "3db8ac07",
   "metadata": {},
   "outputs": [
    {
     "name": "stdout",
     "output_type": "stream",
     "text": [
      "훈련셋 구조: (90,) (90, 19)\n",
      "검증셋 구조: (9,) (9, 19)\n",
      "테스트셋 구조: (9,) (9, 19)\n"
     ]
    }
   ],
   "source": [
    "print('훈련셋 구조:', x_train.shape, Y_train.shape)\n",
    "print('검증셋 구조:', x_val.shape, Y_val.shape)\n",
    "print('테스트셋 구조:', x_test.shape, Y_test.shape)"
   ]
  },
  {
   "cell_type": "markdown",
   "id": "b91a893d",
   "metadata": {},
   "source": [
    "## 3. 모델 구성하기"
   ]
  },
  {
   "cell_type": "code",
   "execution_count": 15,
   "id": "12b4e089",
   "metadata": {},
   "outputs": [
    {
     "name": "stdout",
     "output_type": "stream",
     "text": [
      "Model: \"sequential\"\n",
      "_________________________________________________________________\n",
      " Layer (type)                Output Shape              Param #   \n",
      "=================================================================\n",
      " dense (Dense)               (None, 38)                76        \n",
      "                                                                 \n",
      " dense_1 (Dense)             (None, 64)                2496      \n",
      "                                                                 \n",
      " dense_2 (Dense)             (None, 32)                2080      \n",
      "                                                                 \n",
      " dense_3 (Dense)             (None, 19)                627       \n",
      "                                                                 \n",
      "=================================================================\n",
      "Total params: 5,279\n",
      "Trainable params: 5,279\n",
      "Non-trainable params: 0\n",
      "_________________________________________________________________\n"
     ]
    }
   ],
   "source": [
    "model = Sequential()\n",
    "model.add(Input(shape=(1,))) # 입력층\n",
    "model.add(Dense(units=38, activation='sigmoid' ))\n",
    "model.add(Dense(units=64, activation='elu'))\n",
    "model.add(Dense(units=32, activation='elu'))\n",
    "model.add(Dense(units=19, activation='softmax'))   \n",
    "# softmax 모든 출력 결과의 합이 1. 분류분석 마지막 layer(출력층에서) activation으로\n",
    "model.summary()"
   ]
  },
  {
   "cell_type": "markdown",
   "id": "b62f35d7",
   "metadata": {},
   "source": [
    "# 모델 학습과정 설정"
   ]
  },
  {
   "cell_type": "code",
   "execution_count": 16,
   "id": "e66882b1",
   "metadata": {},
   "outputs": [],
   "source": [
    "model.compile(loss='categorical_crossentropy',\n",
    "             optimizer='sgd',\n",
    "             metrics=['accuracy']) # 평가지표 : accuracy"
   ]
  },
  {
   "cell_type": "markdown",
   "id": "d8be7d23",
   "metadata": {},
   "source": [
    "## 5. 모델학습시키기"
   ]
  },
  {
   "cell_type": "code",
   "execution_count": 17,
   "id": "b13827b7",
   "metadata": {},
   "outputs": [
    {
     "name": "stdout",
     "output_type": "stream",
     "text": [
      "Epoch 1/300\n",
      "9/9 - 1s - loss: 3.0716 - accuracy: 0.1111 - val_loss: 2.9587 - val_accuracy: 0.1111 - 692ms/epoch - 77ms/step\n",
      "Epoch 2/300\n",
      "9/9 - 0s - loss: 2.9082 - accuracy: 0.1111 - val_loss: 2.8213 - val_accuracy: 0.1111 - 41ms/epoch - 5ms/step\n",
      "Epoch 3/300\n",
      "9/9 - 0s - loss: 2.7817 - accuracy: 0.0222 - val_loss: 2.7154 - val_accuracy: 0.1111 - 43ms/epoch - 5ms/step\n",
      "Epoch 4/300\n",
      "9/9 - 0s - loss: 2.6844 - accuracy: 0.1000 - val_loss: 2.6295 - val_accuracy: 0.0000e+00 - 43ms/epoch - 5ms/step\n",
      "Epoch 5/300\n",
      "9/9 - 0s - loss: 2.6064 - accuracy: 0.0111 - val_loss: 2.5583 - val_accuracy: 0.1111 - 46ms/epoch - 5ms/step\n",
      "Epoch 6/300\n",
      "9/9 - 0s - loss: 2.5416 - accuracy: 0.0667 - val_loss: 2.4990 - val_accuracy: 0.1111 - 45ms/epoch - 5ms/step\n",
      "Epoch 7/300\n",
      "9/9 - 0s - loss: 2.4870 - accuracy: 0.0889 - val_loss: 2.4477 - val_accuracy: 0.0000e+00 - 44ms/epoch - 5ms/step\n",
      "Epoch 8/300\n",
      "9/9 - 0s - loss: 2.4373 - accuracy: 0.1222 - val_loss: 2.4030 - val_accuracy: 0.1111 - 41ms/epoch - 5ms/step\n",
      "Epoch 9/300\n",
      "9/9 - 0s - loss: 2.3980 - accuracy: 0.1556 - val_loss: 2.3632 - val_accuracy: 0.1111 - 44ms/epoch - 5ms/step\n",
      "Epoch 10/300\n",
      "9/9 - 0s - loss: 2.3590 - accuracy: 0.1111 - val_loss: 2.3275 - val_accuracy: 0.1111 - 46ms/epoch - 5ms/step\n",
      "Epoch 11/300\n",
      "9/9 - 0s - loss: 2.3273 - accuracy: 0.1667 - val_loss: 2.2951 - val_accuracy: 0.1111 - 43ms/epoch - 5ms/step\n",
      "Epoch 12/300\n",
      "9/9 - 0s - loss: 2.2927 - accuracy: 0.1222 - val_loss: 2.2656 - val_accuracy: 0.1111 - 40ms/epoch - 4ms/step\n",
      "Epoch 13/300\n",
      "9/9 - 0s - loss: 2.2680 - accuracy: 0.1556 - val_loss: 2.2385 - val_accuracy: 0.1111 - 42ms/epoch - 5ms/step\n",
      "Epoch 14/300\n",
      "9/9 - 0s - loss: 2.2402 - accuracy: 0.1778 - val_loss: 2.2136 - val_accuracy: 0.1111 - 43ms/epoch - 5ms/step\n",
      "Epoch 15/300\n",
      "9/9 - 0s - loss: 2.2166 - accuracy: 0.1889 - val_loss: 2.1905 - val_accuracy: 0.2222 - 38ms/epoch - 4ms/step\n",
      "Epoch 16/300\n",
      "9/9 - 0s - loss: 2.2053 - accuracy: 0.2111 - val_loss: 2.1690 - val_accuracy: 0.2222 - 42ms/epoch - 5ms/step\n",
      "Epoch 17/300\n",
      "9/9 - 0s - loss: 2.1741 - accuracy: 0.2222 - val_loss: 2.1485 - val_accuracy: 0.2222 - 38ms/epoch - 4ms/step\n",
      "Epoch 18/300\n",
      "9/9 - 0s - loss: 2.1541 - accuracy: 0.2222 - val_loss: 2.1291 - val_accuracy: 0.4444 - 43ms/epoch - 5ms/step\n",
      "Epoch 19/300\n",
      "9/9 - 0s - loss: 2.1352 - accuracy: 0.2444 - val_loss: 2.1106 - val_accuracy: 0.3333 - 46ms/epoch - 5ms/step\n",
      "Epoch 20/300\n",
      "9/9 - 0s - loss: 2.1225 - accuracy: 0.1444 - val_loss: 2.0924 - val_accuracy: 0.3333 - 41ms/epoch - 5ms/step\n",
      "Epoch 21/300\n",
      "9/9 - 0s - loss: 2.0976 - accuracy: 0.2111 - val_loss: 2.0750 - val_accuracy: 0.3333 - 44ms/epoch - 5ms/step\n",
      "Epoch 22/300\n",
      "9/9 - 0s - loss: 2.0830 - accuracy: 0.2333 - val_loss: 2.0580 - val_accuracy: 0.4444 - 41ms/epoch - 5ms/step\n",
      "Epoch 23/300\n",
      "9/9 - 0s - loss: 2.0671 - accuracy: 0.2556 - val_loss: 2.0412 - val_accuracy: 0.3333 - 39ms/epoch - 4ms/step\n",
      "Epoch 24/300\n",
      "9/9 - 0s - loss: 2.0495 - accuracy: 0.2444 - val_loss: 2.0247 - val_accuracy: 0.4444 - 46ms/epoch - 5ms/step\n",
      "Epoch 25/300\n",
      "9/9 - 0s - loss: 2.0303 - accuracy: 0.3222 - val_loss: 2.0084 - val_accuracy: 0.4444 - 42ms/epoch - 5ms/step\n",
      "Epoch 26/300\n",
      "9/9 - 0s - loss: 2.0164 - accuracy: 0.2556 - val_loss: 1.9924 - val_accuracy: 0.4444 - 40ms/epoch - 4ms/step\n",
      "Epoch 27/300\n",
      "9/9 - 0s - loss: 2.0088 - accuracy: 0.2444 - val_loss: 1.9761 - val_accuracy: 0.4444 - 42ms/epoch - 5ms/step\n",
      "Epoch 28/300\n",
      "9/9 - 0s - loss: 1.9880 - accuracy: 0.2778 - val_loss: 1.9602 - val_accuracy: 0.2222 - 39ms/epoch - 4ms/step\n",
      "Epoch 29/300\n",
      "9/9 - 0s - loss: 1.9734 - accuracy: 0.2556 - val_loss: 1.9442 - val_accuracy: 0.2222 - 41ms/epoch - 5ms/step\n",
      "Epoch 30/300\n",
      "9/9 - 0s - loss: 1.9522 - accuracy: 0.2667 - val_loss: 1.9283 - val_accuracy: 0.2222 - 40ms/epoch - 4ms/step\n",
      "Epoch 31/300\n",
      "9/9 - 0s - loss: 1.9430 - accuracy: 0.2222 - val_loss: 1.9127 - val_accuracy: 0.2222 - 42ms/epoch - 5ms/step\n",
      "Epoch 32/300\n",
      "9/9 - 0s - loss: 1.9220 - accuracy: 0.2222 - val_loss: 1.8965 - val_accuracy: 0.4444 - 43ms/epoch - 5ms/step\n",
      "Epoch 33/300\n",
      "9/9 - 0s - loss: 1.9065 - accuracy: 0.2222 - val_loss: 1.8806 - val_accuracy: 0.3333 - 40ms/epoch - 4ms/step\n",
      "Epoch 34/300\n",
      "9/9 - 0s - loss: 1.8931 - accuracy: 0.2667 - val_loss: 1.8649 - val_accuracy: 0.4444 - 44ms/epoch - 5ms/step\n",
      "Epoch 35/300\n",
      "9/9 - 0s - loss: 1.8744 - accuracy: 0.3333 - val_loss: 1.8491 - val_accuracy: 0.3333 - 42ms/epoch - 5ms/step\n",
      "Epoch 36/300\n",
      "9/9 - 0s - loss: 1.8627 - accuracy: 0.2444 - val_loss: 1.8338 - val_accuracy: 0.4444 - 39ms/epoch - 4ms/step\n",
      "Epoch 37/300\n",
      "9/9 - 0s - loss: 1.8423 - accuracy: 0.3333 - val_loss: 1.8183 - val_accuracy: 0.3333 - 43ms/epoch - 5ms/step\n",
      "Epoch 38/300\n",
      "9/9 - 0s - loss: 1.8361 - accuracy: 0.2889 - val_loss: 1.8029 - val_accuracy: 0.2222 - 39ms/epoch - 4ms/step\n",
      "Epoch 39/300\n",
      "9/9 - 0s - loss: 1.8161 - accuracy: 0.2333 - val_loss: 1.7880 - val_accuracy: 0.5556 - 36ms/epoch - 4ms/step\n",
      "Epoch 40/300\n",
      "9/9 - 0s - loss: 1.7936 - accuracy: 0.3889 - val_loss: 1.7724 - val_accuracy: 0.3333 - 37ms/epoch - 4ms/step\n",
      "Epoch 41/300\n",
      "9/9 - 0s - loss: 1.7838 - accuracy: 0.2889 - val_loss: 1.7578 - val_accuracy: 0.3333 - 38ms/epoch - 4ms/step\n",
      "Epoch 42/300\n",
      "9/9 - 0s - loss: 1.7632 - accuracy: 0.3111 - val_loss: 1.7430 - val_accuracy: 0.4444 - 44ms/epoch - 5ms/step\n",
      "Epoch 43/300\n",
      "9/9 - 0s - loss: 1.7558 - accuracy: 0.3111 - val_loss: 1.7289 - val_accuracy: 0.3333 - 36ms/epoch - 4ms/step\n",
      "Epoch 44/300\n",
      "9/9 - 0s - loss: 1.7471 - accuracy: 0.2778 - val_loss: 1.7148 - val_accuracy: 0.4444 - 44ms/epoch - 5ms/step\n",
      "Epoch 45/300\n",
      "9/9 - 0s - loss: 1.7216 - accuracy: 0.4111 - val_loss: 1.7005 - val_accuracy: 0.2222 - 39ms/epoch - 4ms/step\n",
      "Epoch 46/300\n",
      "9/9 - 0s - loss: 1.7174 - accuracy: 0.2667 - val_loss: 1.6871 - val_accuracy: 0.2222 - 38ms/epoch - 4ms/step\n",
      "Epoch 47/300\n",
      "9/9 - 0s - loss: 1.7061 - accuracy: 0.3000 - val_loss: 1.6733 - val_accuracy: 0.3333 - 39ms/epoch - 4ms/step\n",
      "Epoch 48/300\n",
      "9/9 - 0s - loss: 1.6876 - accuracy: 0.2889 - val_loss: 1.6606 - val_accuracy: 0.4444 - 41ms/epoch - 5ms/step\n",
      "Epoch 49/300\n",
      "9/9 - 0s - loss: 1.6831 - accuracy: 0.3111 - val_loss: 1.6476 - val_accuracy: 0.3333 - 36ms/epoch - 4ms/step\n",
      "Epoch 50/300\n",
      "9/9 - 0s - loss: 1.6595 - accuracy: 0.3000 - val_loss: 1.6342 - val_accuracy: 0.4444 - 39ms/epoch - 4ms/step\n",
      "Epoch 51/300\n",
      "9/9 - 0s - loss: 1.6533 - accuracy: 0.2778 - val_loss: 1.6216 - val_accuracy: 0.4444 - 38ms/epoch - 4ms/step\n",
      "Epoch 52/300\n",
      "9/9 - 0s - loss: 1.6404 - accuracy: 0.3333 - val_loss: 1.6089 - val_accuracy: 0.3333 - 39ms/epoch - 4ms/step\n",
      "Epoch 53/300\n",
      "9/9 - 0s - loss: 1.6237 - accuracy: 0.3333 - val_loss: 1.5965 - val_accuracy: 0.5556 - 40ms/epoch - 4ms/step\n",
      "Epoch 54/300\n",
      "9/9 - 0s - loss: 1.6095 - accuracy: 0.3667 - val_loss: 1.5841 - val_accuracy: 0.5556 - 39ms/epoch - 4ms/step\n",
      "Epoch 55/300\n",
      "9/9 - 0s - loss: 1.6025 - accuracy: 0.4111 - val_loss: 1.5730 - val_accuracy: 0.4444 - 38ms/epoch - 4ms/step\n",
      "Epoch 56/300\n",
      "9/9 - 0s - loss: 1.5863 - accuracy: 0.4111 - val_loss: 1.5607 - val_accuracy: 0.4444 - 41ms/epoch - 5ms/step\n",
      "Epoch 57/300\n",
      "9/9 - 0s - loss: 1.5766 - accuracy: 0.4778 - val_loss: 1.5493 - val_accuracy: 0.4444 - 38ms/epoch - 4ms/step\n",
      "Epoch 58/300\n",
      "9/9 - 0s - loss: 1.5628 - accuracy: 0.4000 - val_loss: 1.5376 - val_accuracy: 0.4444 - 39ms/epoch - 4ms/step\n",
      "Epoch 59/300\n",
      "9/9 - 0s - loss: 1.5513 - accuracy: 0.4556 - val_loss: 1.5276 - val_accuracy: 0.3333 - 47ms/epoch - 5ms/step\n",
      "Epoch 60/300\n",
      "9/9 - 0s - loss: 1.5509 - accuracy: 0.3889 - val_loss: 1.5159 - val_accuracy: 0.5556 - 40ms/epoch - 4ms/step\n",
      "Epoch 61/300\n",
      "9/9 - 0s - loss: 1.5262 - accuracy: 0.4000 - val_loss: 1.5049 - val_accuracy: 0.4444 - 44ms/epoch - 5ms/step\n",
      "Epoch 62/300\n",
      "9/9 - 0s - loss: 1.5235 - accuracy: 0.4111 - val_loss: 1.4939 - val_accuracy: 0.5556 - 38ms/epoch - 4ms/step\n",
      "Epoch 63/300\n",
      "9/9 - 0s - loss: 1.5183 - accuracy: 0.4333 - val_loss: 1.4835 - val_accuracy: 0.5556 - 40ms/epoch - 4ms/step\n",
      "Epoch 64/300\n",
      "9/9 - 0s - loss: 1.5017 - accuracy: 0.4444 - val_loss: 1.4730 - val_accuracy: 0.4444 - 38ms/epoch - 4ms/step\n",
      "Epoch 65/300\n",
      "9/9 - 0s - loss: 1.4850 - accuracy: 0.4778 - val_loss: 1.4629 - val_accuracy: 0.5556 - 39ms/epoch - 4ms/step\n",
      "Epoch 66/300\n",
      "9/9 - 0s - loss: 1.4846 - accuracy: 0.3889 - val_loss: 1.4536 - val_accuracy: 0.4444 - 40ms/epoch - 4ms/step\n",
      "Epoch 67/300\n",
      "9/9 - 0s - loss: 1.4715 - accuracy: 0.4778 - val_loss: 1.4425 - val_accuracy: 0.5556 - 39ms/epoch - 4ms/step\n",
      "Epoch 68/300\n",
      "9/9 - 0s - loss: 1.4613 - accuracy: 0.5111 - val_loss: 1.4327 - val_accuracy: 0.6667 - 39ms/epoch - 4ms/step\n"
     ]
    },
    {
     "name": "stdout",
     "output_type": "stream",
     "text": [
      "Epoch 69/300\n",
      "9/9 - 0s - loss: 1.4422 - accuracy: 0.5667 - val_loss: 1.4230 - val_accuracy: 0.6667 - 39ms/epoch - 4ms/step\n",
      "Epoch 70/300\n",
      "9/9 - 0s - loss: 1.4360 - accuracy: 0.5000 - val_loss: 1.4133 - val_accuracy: 0.5556 - 37ms/epoch - 4ms/step\n",
      "Epoch 71/300\n",
      "9/9 - 0s - loss: 1.4355 - accuracy: 0.5222 - val_loss: 1.4041 - val_accuracy: 0.6667 - 36ms/epoch - 4ms/step\n",
      "Epoch 72/300\n",
      "9/9 - 0s - loss: 1.4229 - accuracy: 0.5556 - val_loss: 1.3947 - val_accuracy: 0.7778 - 39ms/epoch - 4ms/step\n",
      "Epoch 73/300\n",
      "9/9 - 0s - loss: 1.4191 - accuracy: 0.4889 - val_loss: 1.3854 - val_accuracy: 0.7778 - 37ms/epoch - 4ms/step\n",
      "Epoch 74/300\n",
      "9/9 - 0s - loss: 1.4128 - accuracy: 0.6000 - val_loss: 1.3767 - val_accuracy: 0.5556 - 39ms/epoch - 4ms/step\n",
      "Epoch 75/300\n",
      "9/9 - 0s - loss: 1.3953 - accuracy: 0.6333 - val_loss: 1.3673 - val_accuracy: 0.5556 - 36ms/epoch - 4ms/step\n",
      "Epoch 76/300\n",
      "9/9 - 0s - loss: 1.3809 - accuracy: 0.5444 - val_loss: 1.3586 - val_accuracy: 0.6667 - 38ms/epoch - 4ms/step\n",
      "Epoch 77/300\n",
      "9/9 - 0s - loss: 1.3758 - accuracy: 0.5778 - val_loss: 1.3493 - val_accuracy: 0.6667 - 38ms/epoch - 4ms/step\n",
      "Epoch 78/300\n",
      "9/9 - 0s - loss: 1.3678 - accuracy: 0.5889 - val_loss: 1.3404 - val_accuracy: 0.5556 - 39ms/epoch - 4ms/step\n",
      "Epoch 79/300\n",
      "9/9 - 0s - loss: 1.3542 - accuracy: 0.5111 - val_loss: 1.3314 - val_accuracy: 0.6667 - 42ms/epoch - 5ms/step\n",
      "Epoch 80/300\n",
      "9/9 - 0s - loss: 1.3549 - accuracy: 0.5889 - val_loss: 1.3226 - val_accuracy: 0.7778 - 45ms/epoch - 5ms/step\n",
      "Epoch 81/300\n",
      "9/9 - 0s - loss: 1.3467 - accuracy: 0.6333 - val_loss: 1.3145 - val_accuracy: 0.8889 - 37ms/epoch - 4ms/step\n",
      "Epoch 82/300\n",
      "9/9 - 0s - loss: 1.3296 - accuracy: 0.5111 - val_loss: 1.3061 - val_accuracy: 0.8889 - 38ms/epoch - 4ms/step\n",
      "Epoch 83/300\n",
      "9/9 - 0s - loss: 1.3210 - accuracy: 0.6556 - val_loss: 1.2972 - val_accuracy: 0.6667 - 38ms/epoch - 4ms/step\n",
      "Epoch 84/300\n",
      "9/9 - 0s - loss: 1.3203 - accuracy: 0.7000 - val_loss: 1.2901 - val_accuracy: 0.6667 - 38ms/epoch - 4ms/step\n",
      "Epoch 85/300\n",
      "9/9 - 0s - loss: 1.3119 - accuracy: 0.6333 - val_loss: 1.2810 - val_accuracy: 0.7778 - 47ms/epoch - 5ms/step\n",
      "Epoch 86/300\n",
      "9/9 - 0s - loss: 1.2972 - accuracy: 0.6556 - val_loss: 1.2733 - val_accuracy: 0.7778 - 36ms/epoch - 4ms/step\n",
      "Epoch 87/300\n",
      "9/9 - 0s - loss: 1.2971 - accuracy: 0.6000 - val_loss: 1.2661 - val_accuracy: 0.6667 - 38ms/epoch - 4ms/step\n",
      "Epoch 88/300\n",
      "9/9 - 0s - loss: 1.2804 - accuracy: 0.6556 - val_loss: 1.2579 - val_accuracy: 0.6667 - 39ms/epoch - 4ms/step\n",
      "Epoch 89/300\n",
      "9/9 - 0s - loss: 1.2768 - accuracy: 0.5667 - val_loss: 1.2499 - val_accuracy: 0.7778 - 39ms/epoch - 4ms/step\n",
      "Epoch 90/300\n",
      "9/9 - 0s - loss: 1.2622 - accuracy: 0.6778 - val_loss: 1.2422 - val_accuracy: 0.7778 - 38ms/epoch - 4ms/step\n",
      "Epoch 91/300\n",
      "9/9 - 0s - loss: 1.2596 - accuracy: 0.6778 - val_loss: 1.2342 - val_accuracy: 0.6667 - 40ms/epoch - 4ms/step\n",
      "Epoch 92/300\n",
      "9/9 - 0s - loss: 1.2579 - accuracy: 0.6778 - val_loss: 1.2282 - val_accuracy: 0.7778 - 37ms/epoch - 4ms/step\n",
      "Epoch 93/300\n",
      "9/9 - 0s - loss: 1.2413 - accuracy: 0.6778 - val_loss: 1.2213 - val_accuracy: 0.8889 - 41ms/epoch - 5ms/step\n",
      "Epoch 94/300\n",
      "9/9 - 0s - loss: 1.2387 - accuracy: 0.7222 - val_loss: 1.2123 - val_accuracy: 0.7778 - 36ms/epoch - 4ms/step\n",
      "Epoch 95/300\n",
      "9/9 - 0s - loss: 1.2262 - accuracy: 0.7111 - val_loss: 1.2048 - val_accuracy: 0.7778 - 37ms/epoch - 4ms/step\n",
      "Epoch 96/300\n",
      "9/9 - 0s - loss: 1.2326 - accuracy: 0.7333 - val_loss: 1.1980 - val_accuracy: 0.8889 - 40ms/epoch - 4ms/step\n",
      "Epoch 97/300\n",
      "9/9 - 0s - loss: 1.2176 - accuracy: 0.8111 - val_loss: 1.1910 - val_accuracy: 0.7778 - 38ms/epoch - 4ms/step\n",
      "Epoch 98/300\n",
      "9/9 - 0s - loss: 1.2124 - accuracy: 0.7556 - val_loss: 1.1853 - val_accuracy: 0.7778 - 39ms/epoch - 4ms/step\n",
      "Epoch 99/300\n",
      "9/9 - 0s - loss: 1.2059 - accuracy: 0.6222 - val_loss: 1.1785 - val_accuracy: 0.7778 - 40ms/epoch - 4ms/step\n",
      "Epoch 100/300\n",
      "9/9 - 0s - loss: 1.1944 - accuracy: 0.7444 - val_loss: 1.1702 - val_accuracy: 0.7778 - 36ms/epoch - 4ms/step\n",
      "Epoch 101/300\n",
      "9/9 - 0s - loss: 1.1945 - accuracy: 0.7000 - val_loss: 1.1645 - val_accuracy: 0.7778 - 37ms/epoch - 4ms/step\n",
      "Epoch 102/300\n",
      "9/9 - 0s - loss: 1.1843 - accuracy: 0.7778 - val_loss: 1.1562 - val_accuracy: 0.7778 - 37ms/epoch - 4ms/step\n",
      "Epoch 103/300\n",
      "9/9 - 0s - loss: 1.1767 - accuracy: 0.7333 - val_loss: 1.1497 - val_accuracy: 0.7778 - 38ms/epoch - 4ms/step\n",
      "Epoch 104/300\n",
      "9/9 - 0s - loss: 1.1647 - accuracy: 0.7889 - val_loss: 1.1443 - val_accuracy: 0.8889 - 39ms/epoch - 4ms/step\n",
      "Epoch 105/300\n",
      "9/9 - 0s - loss: 1.1633 - accuracy: 0.7333 - val_loss: 1.1364 - val_accuracy: 0.8889 - 37ms/epoch - 4ms/step\n",
      "Epoch 106/300\n",
      "9/9 - 0s - loss: 1.1588 - accuracy: 0.7444 - val_loss: 1.1306 - val_accuracy: 0.7778 - 39ms/epoch - 4ms/step\n",
      "Epoch 107/300\n",
      "9/9 - 0s - loss: 1.1442 - accuracy: 0.7222 - val_loss: 1.1237 - val_accuracy: 0.7778 - 39ms/epoch - 4ms/step\n",
      "Epoch 108/300\n",
      "9/9 - 0s - loss: 1.1509 - accuracy: 0.7667 - val_loss: 1.1174 - val_accuracy: 0.8889 - 39ms/epoch - 4ms/step\n",
      "Epoch 109/300\n",
      "9/9 - 0s - loss: 1.1512 - accuracy: 0.7556 - val_loss: 1.1101 - val_accuracy: 0.7778 - 38ms/epoch - 4ms/step\n",
      "Epoch 110/300\n",
      "9/9 - 0s - loss: 1.1283 - accuracy: 0.7000 - val_loss: 1.1044 - val_accuracy: 0.8889 - 37ms/epoch - 4ms/step\n",
      "Epoch 111/300\n",
      "9/9 - 0s - loss: 1.1234 - accuracy: 0.8111 - val_loss: 1.0982 - val_accuracy: 0.8889 - 37ms/epoch - 4ms/step\n",
      "Epoch 112/300\n",
      "9/9 - 0s - loss: 1.1206 - accuracy: 0.7778 - val_loss: 1.0920 - val_accuracy: 0.8889 - 46ms/epoch - 5ms/step\n",
      "Epoch 113/300\n",
      "9/9 - 0s - loss: 1.1185 - accuracy: 0.7667 - val_loss: 1.0862 - val_accuracy: 0.7778 - 37ms/epoch - 4ms/step\n",
      "Epoch 114/300\n",
      "9/9 - 0s - loss: 1.1113 - accuracy: 0.8000 - val_loss: 1.0800 - val_accuracy: 0.8889 - 39ms/epoch - 4ms/step\n",
      "Epoch 115/300\n",
      "9/9 - 0s - loss: 1.1052 - accuracy: 0.7556 - val_loss: 1.0767 - val_accuracy: 0.7778 - 39ms/epoch - 4ms/step\n",
      "Epoch 116/300\n",
      "9/9 - 0s - loss: 1.1061 - accuracy: 0.7667 - val_loss: 1.0694 - val_accuracy: 1.0000 - 34ms/epoch - 4ms/step\n",
      "Epoch 117/300\n",
      "9/9 - 0s - loss: 1.0870 - accuracy: 0.8111 - val_loss: 1.0625 - val_accuracy: 0.8889 - 39ms/epoch - 4ms/step\n",
      "Epoch 118/300\n",
      "9/9 - 0s - loss: 1.0829 - accuracy: 0.8222 - val_loss: 1.0587 - val_accuracy: 0.7778 - 37ms/epoch - 4ms/step\n",
      "Epoch 119/300\n",
      "9/9 - 0s - loss: 1.0816 - accuracy: 0.8222 - val_loss: 1.0528 - val_accuracy: 0.7778 - 38ms/epoch - 4ms/step\n",
      "Epoch 120/300\n",
      "9/9 - 0s - loss: 1.0793 - accuracy: 0.7778 - val_loss: 1.0481 - val_accuracy: 0.8889 - 38ms/epoch - 4ms/step\n",
      "Epoch 121/300\n",
      "9/9 - 0s - loss: 1.0697 - accuracy: 0.7444 - val_loss: 1.0401 - val_accuracy: 0.8889 - 36ms/epoch - 4ms/step\n",
      "Epoch 122/300\n",
      "9/9 - 0s - loss: 1.0654 - accuracy: 0.7556 - val_loss: 1.0350 - val_accuracy: 0.8889 - 38ms/epoch - 4ms/step\n",
      "Epoch 123/300\n",
      "9/9 - 0s - loss: 1.0542 - accuracy: 0.8111 - val_loss: 1.0266 - val_accuracy: 0.8889 - 37ms/epoch - 4ms/step\n",
      "Epoch 124/300\n",
      "9/9 - 0s - loss: 1.0467 - accuracy: 0.7889 - val_loss: 1.0228 - val_accuracy: 0.8889 - 41ms/epoch - 5ms/step\n",
      "Epoch 125/300\n",
      "9/9 - 0s - loss: 1.0382 - accuracy: 0.8000 - val_loss: 1.0166 - val_accuracy: 0.8889 - 39ms/epoch - 4ms/step\n",
      "Epoch 126/300\n",
      "9/9 - 0s - loss: 1.0426 - accuracy: 0.8222 - val_loss: 1.0097 - val_accuracy: 0.8889 - 36ms/epoch - 4ms/step\n",
      "Epoch 127/300\n",
      "9/9 - 0s - loss: 1.0423 - accuracy: 0.7222 - val_loss: 1.0076 - val_accuracy: 0.7778 - 37ms/epoch - 4ms/step\n",
      "Epoch 128/300\n",
      "9/9 - 0s - loss: 1.0280 - accuracy: 0.8000 - val_loss: 0.9996 - val_accuracy: 0.8889 - 39ms/epoch - 4ms/step\n",
      "Epoch 129/300\n",
      "9/9 - 0s - loss: 1.0254 - accuracy: 0.7111 - val_loss: 0.9938 - val_accuracy: 0.8889 - 45ms/epoch - 5ms/step\n",
      "Epoch 130/300\n",
      "9/9 - 0s - loss: 1.0254 - accuracy: 0.7889 - val_loss: 0.9904 - val_accuracy: 1.0000 - 37ms/epoch - 4ms/step\n",
      "Epoch 131/300\n",
      "9/9 - 0s - loss: 1.0097 - accuracy: 0.7889 - val_loss: 0.9843 - val_accuracy: 1.0000 - 40ms/epoch - 4ms/step\n",
      "Epoch 132/300\n",
      "9/9 - 0s - loss: 1.0070 - accuracy: 0.8222 - val_loss: 0.9799 - val_accuracy: 1.0000 - 38ms/epoch - 4ms/step\n",
      "Epoch 133/300\n",
      "9/9 - 0s - loss: 1.0146 - accuracy: 0.8444 - val_loss: 0.9741 - val_accuracy: 0.7778 - 38ms/epoch - 4ms/step\n",
      "Epoch 134/300\n",
      "9/9 - 0s - loss: 0.9934 - accuracy: 0.8333 - val_loss: 0.9666 - val_accuracy: 0.8889 - 38ms/epoch - 4ms/step\n",
      "Epoch 135/300\n",
      "9/9 - 0s - loss: 0.9979 - accuracy: 0.8000 - val_loss: 0.9632 - val_accuracy: 0.8889 - 38ms/epoch - 4ms/step\n"
     ]
    },
    {
     "name": "stdout",
     "output_type": "stream",
     "text": [
      "Epoch 136/300\n",
      "9/9 - 0s - loss: 0.9873 - accuracy: 0.8333 - val_loss: 0.9600 - val_accuracy: 0.8889 - 38ms/epoch - 4ms/step\n",
      "Epoch 137/300\n",
      "9/9 - 0s - loss: 0.9866 - accuracy: 0.8333 - val_loss: 0.9531 - val_accuracy: 1.0000 - 42ms/epoch - 5ms/step\n",
      "Epoch 138/300\n",
      "9/9 - 0s - loss: 0.9794 - accuracy: 0.8556 - val_loss: 0.9487 - val_accuracy: 0.8889 - 37ms/epoch - 4ms/step\n",
      "Epoch 139/300\n",
      "9/9 - 0s - loss: 0.9705 - accuracy: 0.8778 - val_loss: 0.9432 - val_accuracy: 1.0000 - 34ms/epoch - 4ms/step\n",
      "Epoch 140/300\n",
      "9/9 - 0s - loss: 0.9691 - accuracy: 0.8000 - val_loss: 0.9390 - val_accuracy: 0.8889 - 38ms/epoch - 4ms/step\n",
      "Epoch 141/300\n",
      "9/9 - 0s - loss: 0.9770 - accuracy: 0.7778 - val_loss: 0.9330 - val_accuracy: 0.8889 - 37ms/epoch - 4ms/step\n",
      "Epoch 142/300\n",
      "9/9 - 0s - loss: 0.9594 - accuracy: 0.8778 - val_loss: 0.9281 - val_accuracy: 0.8889 - 36ms/epoch - 4ms/step\n",
      "Epoch 143/300\n",
      "9/9 - 0s - loss: 0.9520 - accuracy: 0.8556 - val_loss: 0.9250 - val_accuracy: 0.8889 - 38ms/epoch - 4ms/step\n",
      "Epoch 144/300\n",
      "9/9 - 0s - loss: 0.9524 - accuracy: 0.8778 - val_loss: 0.9186 - val_accuracy: 0.8889 - 37ms/epoch - 4ms/step\n",
      "Epoch 145/300\n",
      "9/9 - 0s - loss: 0.9352 - accuracy: 0.8778 - val_loss: 0.9149 - val_accuracy: 0.8889 - 38ms/epoch - 4ms/step\n",
      "Epoch 146/300\n",
      "9/9 - 0s - loss: 0.9429 - accuracy: 0.8000 - val_loss: 0.9081 - val_accuracy: 1.0000 - 38ms/epoch - 4ms/step\n",
      "Epoch 147/300\n",
      "9/9 - 0s - loss: 0.9365 - accuracy: 0.8778 - val_loss: 0.9030 - val_accuracy: 1.0000 - 38ms/epoch - 4ms/step\n",
      "Epoch 148/300\n",
      "9/9 - 0s - loss: 0.9282 - accuracy: 0.8111 - val_loss: 0.8989 - val_accuracy: 1.0000 - 38ms/epoch - 4ms/step\n",
      "Epoch 149/300\n",
      "9/9 - 0s - loss: 0.9250 - accuracy: 0.8222 - val_loss: 0.8954 - val_accuracy: 0.8889 - 38ms/epoch - 4ms/step\n",
      "Epoch 150/300\n",
      "9/9 - 0s - loss: 0.9166 - accuracy: 0.8111 - val_loss: 0.9013 - val_accuracy: 0.7778 - 39ms/epoch - 4ms/step\n",
      "Epoch 151/300\n",
      "9/9 - 0s - loss: 0.9231 - accuracy: 0.8444 - val_loss: 0.8842 - val_accuracy: 0.8889 - 43ms/epoch - 5ms/step\n",
      "Epoch 152/300\n",
      "9/9 - 0s - loss: 0.9094 - accuracy: 0.8556 - val_loss: 0.8802 - val_accuracy: 0.7778 - 39ms/epoch - 4ms/step\n",
      "Epoch 153/300\n",
      "9/9 - 0s - loss: 0.9126 - accuracy: 0.8333 - val_loss: 0.8739 - val_accuracy: 0.8889 - 38ms/epoch - 4ms/step\n",
      "Epoch 154/300\n",
      "9/9 - 0s - loss: 0.8879 - accuracy: 0.8111 - val_loss: 0.8743 - val_accuracy: 1.0000 - 38ms/epoch - 4ms/step\n",
      "Epoch 155/300\n",
      "9/9 - 0s - loss: 0.9063 - accuracy: 0.9000 - val_loss: 0.8648 - val_accuracy: 0.8889 - 37ms/epoch - 4ms/step\n",
      "Epoch 156/300\n",
      "9/9 - 0s - loss: 0.9065 - accuracy: 0.8111 - val_loss: 0.8655 - val_accuracy: 0.8889 - 36ms/epoch - 4ms/step\n",
      "Epoch 157/300\n",
      "9/9 - 0s - loss: 0.8855 - accuracy: 0.8333 - val_loss: 0.8582 - val_accuracy: 1.0000 - 39ms/epoch - 4ms/step\n",
      "Epoch 158/300\n",
      "9/9 - 0s - loss: 0.8965 - accuracy: 0.8778 - val_loss: 0.8544 - val_accuracy: 0.8889 - 37ms/epoch - 4ms/step\n",
      "Epoch 159/300\n",
      "9/9 - 0s - loss: 0.8810 - accuracy: 0.8222 - val_loss: 0.8489 - val_accuracy: 0.8889 - 37ms/epoch - 4ms/step\n",
      "Epoch 160/300\n",
      "9/9 - 0s - loss: 0.8714 - accuracy: 0.8667 - val_loss: 0.8419 - val_accuracy: 1.0000 - 39ms/epoch - 4ms/step\n",
      "Epoch 161/300\n",
      "9/9 - 0s - loss: 0.8768 - accuracy: 0.9000 - val_loss: 0.8364 - val_accuracy: 1.0000 - 37ms/epoch - 4ms/step\n",
      "Epoch 162/300\n",
      "9/9 - 0s - loss: 0.8683 - accuracy: 0.8667 - val_loss: 0.8330 - val_accuracy: 1.0000 - 39ms/epoch - 4ms/step\n",
      "Epoch 163/300\n",
      "9/9 - 0s - loss: 0.8628 - accuracy: 0.8889 - val_loss: 0.8330 - val_accuracy: 1.0000 - 46ms/epoch - 5ms/step\n",
      "Epoch 164/300\n",
      "9/9 - 0s - loss: 0.8679 - accuracy: 0.9111 - val_loss: 0.8282 - val_accuracy: 0.8889 - 37ms/epoch - 4ms/step\n",
      "Epoch 165/300\n",
      "9/9 - 0s - loss: 0.8523 - accuracy: 0.8556 - val_loss: 0.8242 - val_accuracy: 1.0000 - 38ms/epoch - 4ms/step\n",
      "Epoch 166/300\n",
      "9/9 - 0s - loss: 0.8387 - accuracy: 0.9444 - val_loss: 0.8150 - val_accuracy: 0.8889 - 40ms/epoch - 4ms/step\n",
      "Epoch 167/300\n",
      "9/9 - 0s - loss: 0.8457 - accuracy: 0.9111 - val_loss: 0.8099 - val_accuracy: 0.8889 - 37ms/epoch - 4ms/step\n",
      "Epoch 168/300\n",
      "9/9 - 0s - loss: 0.8388 - accuracy: 0.8000 - val_loss: 0.8064 - val_accuracy: 0.8889 - 38ms/epoch - 4ms/step\n",
      "Epoch 169/300\n",
      "9/9 - 0s - loss: 0.8335 - accuracy: 0.8222 - val_loss: 0.8107 - val_accuracy: 0.8889 - 37ms/epoch - 4ms/step\n",
      "Epoch 170/300\n",
      "9/9 - 0s - loss: 0.8416 - accuracy: 0.9444 - val_loss: 0.8017 - val_accuracy: 0.8889 - 39ms/epoch - 4ms/step\n",
      "Epoch 171/300\n",
      "9/9 - 0s - loss: 0.8168 - accuracy: 0.8778 - val_loss: 0.7959 - val_accuracy: 0.8889 - 40ms/epoch - 4ms/step\n",
      "Epoch 172/300\n",
      "9/9 - 0s - loss: 0.8278 - accuracy: 0.8444 - val_loss: 0.7945 - val_accuracy: 0.8889 - 37ms/epoch - 4ms/step\n",
      "Epoch 173/300\n",
      "9/9 - 0s - loss: 0.8180 - accuracy: 0.8111 - val_loss: 0.7919 - val_accuracy: 0.8889 - 37ms/epoch - 4ms/step\n",
      "Epoch 174/300\n",
      "9/9 - 0s - loss: 0.8343 - accuracy: 0.8556 - val_loss: 0.7831 - val_accuracy: 1.0000 - 38ms/epoch - 4ms/step\n",
      "Epoch 175/300\n",
      "9/9 - 0s - loss: 0.8038 - accuracy: 0.9333 - val_loss: 0.7785 - val_accuracy: 0.8889 - 38ms/epoch - 4ms/step\n",
      "Epoch 176/300\n",
      "9/9 - 0s - loss: 0.8024 - accuracy: 0.8778 - val_loss: 0.7776 - val_accuracy: 1.0000 - 37ms/epoch - 4ms/step\n",
      "Epoch 177/300\n",
      "9/9 - 0s - loss: 0.8068 - accuracy: 0.8778 - val_loss: 0.7758 - val_accuracy: 1.0000 - 40ms/epoch - 4ms/step\n",
      "Epoch 178/300\n",
      "9/9 - 0s - loss: 0.8154 - accuracy: 0.8000 - val_loss: 0.7714 - val_accuracy: 0.8889 - 39ms/epoch - 4ms/step\n",
      "Epoch 179/300\n",
      "9/9 - 0s - loss: 0.7994 - accuracy: 0.8667 - val_loss: 0.7656 - val_accuracy: 0.8889 - 39ms/epoch - 4ms/step\n",
      "Epoch 180/300\n",
      "9/9 - 0s - loss: 0.7901 - accuracy: 0.9000 - val_loss: 0.7603 - val_accuracy: 1.0000 - 40ms/epoch - 4ms/step\n",
      "Epoch 181/300\n",
      "9/9 - 0s - loss: 0.7820 - accuracy: 0.9222 - val_loss: 0.7612 - val_accuracy: 0.7778 - 37ms/epoch - 4ms/step\n",
      "Epoch 182/300\n",
      "9/9 - 0s - loss: 0.7798 - accuracy: 0.8778 - val_loss: 0.7524 - val_accuracy: 0.8889 - 39ms/epoch - 4ms/step\n",
      "Epoch 183/300\n",
      "9/9 - 0s - loss: 0.7657 - accuracy: 0.8667 - val_loss: 0.7589 - val_accuracy: 0.8889 - 36ms/epoch - 4ms/step\n",
      "Epoch 184/300\n",
      "9/9 - 0s - loss: 0.7822 - accuracy: 0.9000 - val_loss: 0.7546 - val_accuracy: 0.8889 - 39ms/epoch - 4ms/step\n",
      "Epoch 185/300\n",
      "9/9 - 0s - loss: 0.7843 - accuracy: 0.8667 - val_loss: 0.7420 - val_accuracy: 1.0000 - 38ms/epoch - 4ms/step\n",
      "Epoch 186/300\n",
      "9/9 - 0s - loss: 0.7641 - accuracy: 0.9333 - val_loss: 0.7367 - val_accuracy: 1.0000 - 47ms/epoch - 5ms/step\n",
      "Epoch 187/300\n",
      "9/9 - 0s - loss: 0.7555 - accuracy: 0.9333 - val_loss: 0.7357 - val_accuracy: 1.0000 - 39ms/epoch - 4ms/step\n",
      "Epoch 188/300\n",
      "9/9 - 0s - loss: 0.7688 - accuracy: 0.8889 - val_loss: 0.7314 - val_accuracy: 0.8889 - 38ms/epoch - 4ms/step\n",
      "Epoch 189/300\n",
      "9/9 - 0s - loss: 0.7574 - accuracy: 0.9000 - val_loss: 0.7260 - val_accuracy: 1.0000 - 47ms/epoch - 5ms/step\n",
      "Epoch 190/300\n",
      "9/9 - 0s - loss: 0.7661 - accuracy: 0.9222 - val_loss: 0.7215 - val_accuracy: 0.8889 - 46ms/epoch - 5ms/step\n",
      "Epoch 191/300\n",
      "9/9 - 0s - loss: 0.7574 - accuracy: 0.8778 - val_loss: 0.7240 - val_accuracy: 0.8889 - 39ms/epoch - 4ms/step\n",
      "Epoch 192/300\n",
      "9/9 - 0s - loss: 0.7466 - accuracy: 0.9222 - val_loss: 0.7147 - val_accuracy: 1.0000 - 39ms/epoch - 4ms/step\n",
      "Epoch 193/300\n",
      "9/9 - 0s - loss: 0.7472 - accuracy: 0.8667 - val_loss: 0.7118 - val_accuracy: 0.8889 - 47ms/epoch - 5ms/step\n",
      "Epoch 194/300\n",
      "9/9 - 0s - loss: 0.7315 - accuracy: 0.9222 - val_loss: 0.7077 - val_accuracy: 0.8889 - 43ms/epoch - 5ms/step\n",
      "Epoch 195/300\n",
      "9/9 - 0s - loss: 0.7376 - accuracy: 0.8556 - val_loss: 0.7100 - val_accuracy: 1.0000 - 42ms/epoch - 5ms/step\n",
      "Epoch 196/300\n",
      "9/9 - 0s - loss: 0.7256 - accuracy: 0.9333 - val_loss: 0.7037 - val_accuracy: 1.0000 - 42ms/epoch - 5ms/step\n",
      "Epoch 197/300\n",
      "9/9 - 0s - loss: 0.7331 - accuracy: 0.9222 - val_loss: 0.7027 - val_accuracy: 0.8889 - 44ms/epoch - 5ms/step\n",
      "Epoch 198/300\n",
      "9/9 - 0s - loss: 0.7286 - accuracy: 0.8889 - val_loss: 0.6911 - val_accuracy: 1.0000 - 42ms/epoch - 5ms/step\n",
      "Epoch 199/300\n",
      "9/9 - 0s - loss: 0.7165 - accuracy: 0.9222 - val_loss: 0.6990 - val_accuracy: 1.0000 - 45ms/epoch - 5ms/step\n",
      "Epoch 200/300\n",
      "9/9 - 0s - loss: 0.7343 - accuracy: 0.9000 - val_loss: 0.6853 - val_accuracy: 1.0000 - 46ms/epoch - 5ms/step\n",
      "Epoch 201/300\n",
      "9/9 - 0s - loss: 0.7079 - accuracy: 0.9222 - val_loss: 0.6932 - val_accuracy: 0.8889 - 47ms/epoch - 5ms/step\n",
      "Epoch 202/300\n",
      "9/9 - 0s - loss: 0.7131 - accuracy: 0.9111 - val_loss: 0.6831 - val_accuracy: 1.0000 - 43ms/epoch - 5ms/step\n"
     ]
    },
    {
     "name": "stdout",
     "output_type": "stream",
     "text": [
      "Epoch 203/300\n",
      "9/9 - 0s - loss: 0.7094 - accuracy: 0.9556 - val_loss: 0.6796 - val_accuracy: 0.8889 - 48ms/epoch - 5ms/step\n",
      "Epoch 204/300\n",
      "9/9 - 0s - loss: 0.7100 - accuracy: 0.9444 - val_loss: 0.6688 - val_accuracy: 0.8889 - 49ms/epoch - 5ms/step\n",
      "Epoch 205/300\n",
      "9/9 - 0s - loss: 0.7028 - accuracy: 0.8667 - val_loss: 0.6861 - val_accuracy: 0.8889 - 47ms/epoch - 5ms/step\n",
      "Epoch 206/300\n",
      "9/9 - 0s - loss: 0.6944 - accuracy: 0.9556 - val_loss: 0.6663 - val_accuracy: 0.8889 - 42ms/epoch - 5ms/step\n",
      "Epoch 207/300\n",
      "9/9 - 0s - loss: 0.6863 - accuracy: 0.9556 - val_loss: 0.6638 - val_accuracy: 0.8889 - 44ms/epoch - 5ms/step\n",
      "Epoch 208/300\n",
      "9/9 - 0s - loss: 0.6902 - accuracy: 0.9333 - val_loss: 0.6628 - val_accuracy: 0.8889 - 43ms/epoch - 5ms/step\n",
      "Epoch 209/300\n",
      "9/9 - 0s - loss: 0.6767 - accuracy: 0.8889 - val_loss: 0.6578 - val_accuracy: 1.0000 - 45ms/epoch - 5ms/step\n",
      "Epoch 210/300\n",
      "9/9 - 0s - loss: 0.6977 - accuracy: 0.9111 - val_loss: 0.6488 - val_accuracy: 1.0000 - 44ms/epoch - 5ms/step\n",
      "Epoch 211/300\n",
      "9/9 - 0s - loss: 0.6819 - accuracy: 0.9333 - val_loss: 0.6480 - val_accuracy: 0.8889 - 45ms/epoch - 5ms/step\n",
      "Epoch 212/300\n",
      "9/9 - 0s - loss: 0.6653 - accuracy: 0.9222 - val_loss: 0.6486 - val_accuracy: 1.0000 - 48ms/epoch - 5ms/step\n",
      "Epoch 213/300\n",
      "9/9 - 0s - loss: 0.6713 - accuracy: 0.9444 - val_loss: 0.6415 - val_accuracy: 0.8889 - 46ms/epoch - 5ms/step\n",
      "Epoch 214/300\n",
      "9/9 - 0s - loss: 0.6718 - accuracy: 0.9111 - val_loss: 0.6421 - val_accuracy: 1.0000 - 43ms/epoch - 5ms/step\n",
      "Epoch 215/300\n",
      "9/9 - 0s - loss: 0.6740 - accuracy: 0.9333 - val_loss: 0.6476 - val_accuracy: 0.8889 - 44ms/epoch - 5ms/step\n",
      "Epoch 216/300\n",
      "9/9 - 0s - loss: 0.6560 - accuracy: 0.9000 - val_loss: 0.6323 - val_accuracy: 1.0000 - 45ms/epoch - 5ms/step\n",
      "Epoch 217/300\n",
      "9/9 - 0s - loss: 0.7036 - accuracy: 0.9222 - val_loss: 0.6341 - val_accuracy: 0.8889 - 43ms/epoch - 5ms/step\n",
      "Epoch 218/300\n",
      "9/9 - 0s - loss: 0.6483 - accuracy: 0.9556 - val_loss: 0.6274 - val_accuracy: 0.8889 - 46ms/epoch - 5ms/step\n",
      "Epoch 219/300\n",
      "9/9 - 0s - loss: 0.6515 - accuracy: 0.8889 - val_loss: 0.6225 - val_accuracy: 1.0000 - 50ms/epoch - 6ms/step\n",
      "Epoch 220/300\n",
      "9/9 - 0s - loss: 0.6443 - accuracy: 0.9889 - val_loss: 0.6236 - val_accuracy: 0.8889 - 43ms/epoch - 5ms/step\n",
      "Epoch 221/300\n",
      "9/9 - 0s - loss: 0.6389 - accuracy: 0.9778 - val_loss: 0.6145 - val_accuracy: 0.8889 - 44ms/epoch - 5ms/step\n",
      "Epoch 222/300\n",
      "9/9 - 0s - loss: 0.6748 - accuracy: 0.8667 - val_loss: 0.6206 - val_accuracy: 0.8889 - 43ms/epoch - 5ms/step\n",
      "Epoch 223/300\n",
      "9/9 - 0s - loss: 0.6518 - accuracy: 0.9000 - val_loss: 0.6245 - val_accuracy: 1.0000 - 42ms/epoch - 5ms/step\n",
      "Epoch 224/300\n",
      "9/9 - 0s - loss: 0.6569 - accuracy: 0.8889 - val_loss: 0.6134 - val_accuracy: 0.8889 - 46ms/epoch - 5ms/step\n",
      "Epoch 225/300\n",
      "9/9 - 0s - loss: 0.6245 - accuracy: 0.9333 - val_loss: 0.6099 - val_accuracy: 0.8889 - 46ms/epoch - 5ms/step\n",
      "Epoch 226/300\n",
      "9/9 - 0s - loss: 0.6207 - accuracy: 0.9000 - val_loss: 0.6087 - val_accuracy: 0.8889 - 44ms/epoch - 5ms/step\n",
      "Epoch 227/300\n",
      "9/9 - 0s - loss: 0.6451 - accuracy: 0.8444 - val_loss: 0.6076 - val_accuracy: 0.8889 - 45ms/epoch - 5ms/step\n",
      "Epoch 228/300\n",
      "9/9 - 0s - loss: 0.6351 - accuracy: 0.8667 - val_loss: 0.6009 - val_accuracy: 0.8889 - 45ms/epoch - 5ms/step\n",
      "Epoch 229/300\n",
      "9/9 - 0s - loss: 0.6267 - accuracy: 0.9111 - val_loss: 0.5902 - val_accuracy: 1.0000 - 44ms/epoch - 5ms/step\n",
      "Epoch 230/300\n",
      "9/9 - 0s - loss: 0.6087 - accuracy: 0.9222 - val_loss: 0.6099 - val_accuracy: 0.7778 - 43ms/epoch - 5ms/step\n",
      "Epoch 231/300\n",
      "9/9 - 0s - loss: 0.6183 - accuracy: 0.9222 - val_loss: 0.5979 - val_accuracy: 0.8889 - 44ms/epoch - 5ms/step\n",
      "Epoch 232/300\n",
      "9/9 - 0s - loss: 0.6206 - accuracy: 0.9444 - val_loss: 0.5812 - val_accuracy: 0.8889 - 43ms/epoch - 5ms/step\n",
      "Epoch 233/300\n",
      "9/9 - 0s - loss: 0.6240 - accuracy: 0.8889 - val_loss: 0.6047 - val_accuracy: 0.8889 - 47ms/epoch - 5ms/step\n",
      "Epoch 234/300\n",
      "9/9 - 0s - loss: 0.6153 - accuracy: 0.9667 - val_loss: 0.5825 - val_accuracy: 1.0000 - 42ms/epoch - 5ms/step\n",
      "Epoch 235/300\n",
      "9/9 - 0s - loss: 0.5990 - accuracy: 0.9556 - val_loss: 0.5798 - val_accuracy: 1.0000 - 45ms/epoch - 5ms/step\n",
      "Epoch 236/300\n",
      "9/9 - 0s - loss: 0.6055 - accuracy: 0.9667 - val_loss: 0.5771 - val_accuracy: 1.0000 - 46ms/epoch - 5ms/step\n",
      "Epoch 237/300\n",
      "9/9 - 0s - loss: 0.6043 - accuracy: 0.8667 - val_loss: 0.5736 - val_accuracy: 1.0000 - 41ms/epoch - 5ms/step\n",
      "Epoch 238/300\n",
      "9/9 - 0s - loss: 0.5878 - accuracy: 0.9333 - val_loss: 0.5653 - val_accuracy: 1.0000 - 46ms/epoch - 5ms/step\n",
      "Epoch 239/300\n",
      "9/9 - 0s - loss: 0.5818 - accuracy: 0.9556 - val_loss: 0.5835 - val_accuracy: 0.8889 - 42ms/epoch - 5ms/step\n",
      "Epoch 240/300\n",
      "9/9 - 0s - loss: 0.6342 - accuracy: 0.8222 - val_loss: 0.5742 - val_accuracy: 1.0000 - 45ms/epoch - 5ms/step\n",
      "Epoch 241/300\n",
      "9/9 - 0s - loss: 0.5938 - accuracy: 0.9000 - val_loss: 0.5623 - val_accuracy: 1.0000 - 43ms/epoch - 5ms/step\n",
      "Epoch 242/300\n",
      "9/9 - 0s - loss: 0.5935 - accuracy: 0.9444 - val_loss: 0.5558 - val_accuracy: 1.0000 - 44ms/epoch - 5ms/step\n",
      "Epoch 243/300\n",
      "9/9 - 0s - loss: 0.5763 - accuracy: 0.9556 - val_loss: 0.5484 - val_accuracy: 1.0000 - 41ms/epoch - 5ms/step\n",
      "Epoch 244/300\n",
      "9/9 - 0s - loss: 0.5862 - accuracy: 0.9222 - val_loss: 0.5449 - val_accuracy: 1.0000 - 45ms/epoch - 5ms/step\n",
      "Epoch 245/300\n",
      "9/9 - 0s - loss: 0.5825 - accuracy: 0.9333 - val_loss: 0.5459 - val_accuracy: 1.0000 - 46ms/epoch - 5ms/step\n",
      "Epoch 246/300\n",
      "9/9 - 0s - loss: 0.5684 - accuracy: 0.9444 - val_loss: 0.5505 - val_accuracy: 1.0000 - 49ms/epoch - 5ms/step\n",
      "Epoch 247/300\n",
      "9/9 - 0s - loss: 0.5640 - accuracy: 0.9333 - val_loss: 0.5403 - val_accuracy: 1.0000 - 45ms/epoch - 5ms/step\n",
      "Epoch 248/300\n",
      "9/9 - 0s - loss: 0.5577 - accuracy: 0.9667 - val_loss: 0.5336 - val_accuracy: 1.0000 - 40ms/epoch - 4ms/step\n",
      "Epoch 249/300\n",
      "9/9 - 0s - loss: 0.5494 - accuracy: 0.9333 - val_loss: 0.5578 - val_accuracy: 0.8889 - 50ms/epoch - 6ms/step\n",
      "Epoch 250/300\n",
      "9/9 - 0s - loss: 0.5658 - accuracy: 0.9222 - val_loss: 0.5273 - val_accuracy: 1.0000 - 42ms/epoch - 5ms/step\n",
      "Epoch 251/300\n",
      "9/9 - 0s - loss: 0.5579 - accuracy: 0.9556 - val_loss: 0.5255 - val_accuracy: 1.0000 - 44ms/epoch - 5ms/step\n",
      "Epoch 252/300\n",
      "9/9 - 0s - loss: 0.5411 - accuracy: 0.9667 - val_loss: 0.5404 - val_accuracy: 1.0000 - 44ms/epoch - 5ms/step\n",
      "Epoch 253/300\n",
      "9/9 - 0s - loss: 0.5498 - accuracy: 0.9778 - val_loss: 0.5318 - val_accuracy: 1.0000 - 40ms/epoch - 4ms/step\n",
      "Epoch 254/300\n",
      "9/9 - 0s - loss: 0.5414 - accuracy: 0.9222 - val_loss: 0.5243 - val_accuracy: 1.0000 - 37ms/epoch - 4ms/step\n",
      "Epoch 255/300\n",
      "9/9 - 0s - loss: 0.5438 - accuracy: 1.0000 - val_loss: 0.5213 - val_accuracy: 0.8889 - 38ms/epoch - 4ms/step\n",
      "Epoch 256/300\n",
      "9/9 - 0s - loss: 0.5414 - accuracy: 0.9556 - val_loss: 0.5175 - val_accuracy: 1.0000 - 36ms/epoch - 4ms/step\n",
      "Epoch 257/300\n",
      "9/9 - 0s - loss: 0.5425 - accuracy: 0.9667 - val_loss: 0.5153 - val_accuracy: 1.0000 - 38ms/epoch - 4ms/step\n",
      "Epoch 258/300\n",
      "9/9 - 0s - loss: 0.5269 - accuracy: 0.9556 - val_loss: 0.5188 - val_accuracy: 1.0000 - 41ms/epoch - 5ms/step\n",
      "Epoch 259/300\n",
      "9/9 - 0s - loss: 0.5278 - accuracy: 0.9667 - val_loss: 0.5047 - val_accuracy: 1.0000 - 41ms/epoch - 5ms/step\n",
      "Epoch 260/300\n",
      "9/9 - 0s - loss: 0.5473 - accuracy: 0.9444 - val_loss: 0.5099 - val_accuracy: 1.0000 - 45ms/epoch - 5ms/step\n",
      "Epoch 261/300\n",
      "9/9 - 0s - loss: 0.5438 - accuracy: 0.9333 - val_loss: 0.5100 - val_accuracy: 1.0000 - 45ms/epoch - 5ms/step\n",
      "Epoch 262/300\n",
      "9/9 - 0s - loss: 0.5647 - accuracy: 0.9111 - val_loss: 0.5222 - val_accuracy: 0.7778 - 46ms/epoch - 5ms/step\n",
      "Epoch 263/300\n",
      "9/9 - 0s - loss: 0.5254 - accuracy: 0.9222 - val_loss: 0.5053 - val_accuracy: 0.8889 - 43ms/epoch - 5ms/step\n",
      "Epoch 264/300\n",
      "9/9 - 0s - loss: 0.5350 - accuracy: 0.8667 - val_loss: 0.5041 - val_accuracy: 0.8889 - 37ms/epoch - 4ms/step\n",
      "Epoch 265/300\n",
      "9/9 - 0s - loss: 0.5566 - accuracy: 0.8667 - val_loss: 0.4880 - val_accuracy: 1.0000 - 36ms/epoch - 4ms/step\n",
      "Epoch 266/300\n",
      "9/9 - 0s - loss: 0.5245 - accuracy: 0.9333 - val_loss: 0.5094 - val_accuracy: 0.8889 - 37ms/epoch - 4ms/step\n",
      "Epoch 267/300\n",
      "9/9 - 0s - loss: 0.5318 - accuracy: 0.9444 - val_loss: 0.5074 - val_accuracy: 0.8889 - 38ms/epoch - 4ms/step\n",
      "Epoch 268/300\n",
      "9/9 - 0s - loss: 0.5083 - accuracy: 0.9444 - val_loss: 0.4833 - val_accuracy: 1.0000 - 39ms/epoch - 4ms/step\n",
      "Epoch 269/300\n",
      "9/9 - 0s - loss: 0.4895 - accuracy: 1.0000 - val_loss: 0.5038 - val_accuracy: 1.0000 - 38ms/epoch - 4ms/step\n"
     ]
    },
    {
     "name": "stdout",
     "output_type": "stream",
     "text": [
      "Epoch 270/300\n",
      "9/9 - 0s - loss: 0.5072 - accuracy: 0.9889 - val_loss: 0.4803 - val_accuracy: 1.0000 - 56ms/epoch - 6ms/step\n",
      "Epoch 271/300\n",
      "9/9 - 0s - loss: 0.5046 - accuracy: 0.9333 - val_loss: 0.4815 - val_accuracy: 1.0000 - 43ms/epoch - 5ms/step\n",
      "Epoch 272/300\n",
      "9/9 - 0s - loss: 0.5144 - accuracy: 0.9444 - val_loss: 0.4754 - val_accuracy: 1.0000 - 45ms/epoch - 5ms/step\n",
      "Epoch 273/300\n",
      "9/9 - 0s - loss: 0.5132 - accuracy: 0.9444 - val_loss: 0.4886 - val_accuracy: 0.8889 - 47ms/epoch - 5ms/step\n",
      "Epoch 274/300\n",
      "9/9 - 0s - loss: 0.5000 - accuracy: 0.9667 - val_loss: 0.4823 - val_accuracy: 1.0000 - 42ms/epoch - 5ms/step\n",
      "Epoch 275/300\n",
      "9/9 - 0s - loss: 0.4852 - accuracy: 0.9889 - val_loss: 0.4682 - val_accuracy: 1.0000 - 40ms/epoch - 4ms/step\n",
      "Epoch 276/300\n",
      "9/9 - 0s - loss: 0.4784 - accuracy: 0.9778 - val_loss: 0.4842 - val_accuracy: 1.0000 - 36ms/epoch - 4ms/step\n",
      "Epoch 277/300\n",
      "9/9 - 0s - loss: 0.4953 - accuracy: 0.9556 - val_loss: 0.4712 - val_accuracy: 0.8889 - 37ms/epoch - 4ms/step\n",
      "Epoch 278/300\n",
      "9/9 - 0s - loss: 0.4768 - accuracy: 0.9556 - val_loss: 0.4786 - val_accuracy: 0.8889 - 37ms/epoch - 4ms/step\n",
      "Epoch 279/300\n",
      "9/9 - 0s - loss: 0.4795 - accuracy: 0.9444 - val_loss: 0.4792 - val_accuracy: 0.8889 - 37ms/epoch - 4ms/step\n",
      "Epoch 280/300\n",
      "9/9 - 0s - loss: 0.4606 - accuracy: 0.9444 - val_loss: 0.4607 - val_accuracy: 1.0000 - 42ms/epoch - 5ms/step\n",
      "Epoch 281/300\n",
      "9/9 - 0s - loss: 0.4681 - accuracy: 0.9778 - val_loss: 0.4724 - val_accuracy: 1.0000 - 44ms/epoch - 5ms/step\n",
      "Epoch 282/300\n",
      "9/9 - 0s - loss: 0.4871 - accuracy: 0.9333 - val_loss: 0.4491 - val_accuracy: 1.0000 - 45ms/epoch - 5ms/step\n",
      "Epoch 283/300\n",
      "9/9 - 0s - loss: 0.4803 - accuracy: 0.9000 - val_loss: 0.4469 - val_accuracy: 1.0000 - 45ms/epoch - 5ms/step\n",
      "Epoch 284/300\n",
      "9/9 - 0s - loss: 0.4828 - accuracy: 0.9556 - val_loss: 0.4375 - val_accuracy: 1.0000 - 43ms/epoch - 5ms/step\n",
      "Epoch 285/300\n",
      "9/9 - 0s - loss: 0.4665 - accuracy: 0.9667 - val_loss: 0.4354 - val_accuracy: 1.0000 - 38ms/epoch - 4ms/step\n",
      "Epoch 286/300\n",
      "9/9 - 0s - loss: 0.4646 - accuracy: 0.9889 - val_loss: 0.4477 - val_accuracy: 1.0000 - 39ms/epoch - 4ms/step\n",
      "Epoch 287/300\n",
      "9/9 - 0s - loss: 0.4754 - accuracy: 0.9444 - val_loss: 0.4387 - val_accuracy: 1.0000 - 42ms/epoch - 5ms/step\n",
      "Epoch 288/300\n",
      "9/9 - 0s - loss: 0.4586 - accuracy: 0.9556 - val_loss: 0.4385 - val_accuracy: 1.0000 - 35ms/epoch - 4ms/step\n",
      "Epoch 289/300\n",
      "9/9 - 0s - loss: 0.4564 - accuracy: 0.9889 - val_loss: 0.4264 - val_accuracy: 1.0000 - 37ms/epoch - 4ms/step\n",
      "Epoch 290/300\n",
      "9/9 - 0s - loss: 0.4806 - accuracy: 0.9556 - val_loss: 0.4281 - val_accuracy: 1.0000 - 43ms/epoch - 5ms/step\n",
      "Epoch 291/300\n",
      "9/9 - 0s - loss: 0.4507 - accuracy: 0.9778 - val_loss: 0.4470 - val_accuracy: 1.0000 - 45ms/epoch - 5ms/step\n",
      "Epoch 292/300\n",
      "9/9 - 0s - loss: 0.4432 - accuracy: 0.9667 - val_loss: 0.4385 - val_accuracy: 1.0000 - 46ms/epoch - 5ms/step\n",
      "Epoch 293/300\n",
      "9/9 - 0s - loss: 0.4434 - accuracy: 0.9667 - val_loss: 0.4221 - val_accuracy: 1.0000 - 46ms/epoch - 5ms/step\n",
      "Epoch 294/300\n",
      "9/9 - 0s - loss: 0.4480 - accuracy: 0.9667 - val_loss: 0.4293 - val_accuracy: 1.0000 - 46ms/epoch - 5ms/step\n",
      "Epoch 295/300\n",
      "9/9 - 0s - loss: 0.4496 - accuracy: 1.0000 - val_loss: 0.4215 - val_accuracy: 1.0000 - 45ms/epoch - 5ms/step\n",
      "Epoch 296/300\n",
      "9/9 - 0s - loss: 0.4719 - accuracy: 0.9222 - val_loss: 0.4271 - val_accuracy: 0.8889 - 44ms/epoch - 5ms/step\n",
      "Epoch 297/300\n",
      "9/9 - 0s - loss: 0.4356 - accuracy: 0.9111 - val_loss: 0.4281 - val_accuracy: 1.0000 - 38ms/epoch - 4ms/step\n",
      "Epoch 298/300\n",
      "9/9 - 0s - loss: 0.4366 - accuracy: 0.9667 - val_loss: 0.4305 - val_accuracy: 1.0000 - 41ms/epoch - 5ms/step\n",
      "Epoch 299/300\n",
      "9/9 - 0s - loss: 0.4245 - accuracy: 0.9778 - val_loss: 0.4138 - val_accuracy: 1.0000 - 38ms/epoch - 4ms/step\n",
      "Epoch 300/300\n",
      "9/9 - 0s - loss: 0.4475 - accuracy: 0.9778 - val_loss: 0.4256 - val_accuracy: 1.0000 - 36ms/epoch - 4ms/step\n"
     ]
    }
   ],
   "source": [
    "hist = model.fit(x_train, Y_train,\n",
    "                epochs=300,\n",
    "                batch_size=10,\n",
    "                verbose=2, #학습결과 출력 옵션 0: 출력없음 1: 기본값, 2:에어포크별로그상세 출력\n",
    "                validation_data=[x_val, Y_val])  "
   ]
  },
  {
   "cell_type": "markdown",
   "id": "33fe1b59",
   "metadata": {},
   "source": [
    "# 6.모델 평가하기(모델학습과정 살펴보고 평가)"
   ]
  },
  {
   "cell_type": "code",
   "execution_count": 18,
   "id": "b7db01f0",
   "metadata": {},
   "outputs": [
    {
     "data": {
      "text/plain": [
       "dict_keys(['loss', 'accuracy', 'val_loss', 'val_accuracy'])"
      ]
     },
     "execution_count": 18,
     "metadata": {},
     "output_type": "execute_result"
    }
   ],
   "source": [
    "hist.history.keys()"
   ]
  },
  {
   "cell_type": "code",
   "execution_count": 19,
   "id": "1750dad5",
   "metadata": {
    "scrolled": true
   },
   "outputs": [
    {
     "data": {
      "image/png": "[encoded data removed]",
      "text/plain": [
       "<Figure size 1000x800 with 2 Axes>"
      ]
     },
     "metadata": {},
     "output_type": "display_data"
    }
   ],
   "source": [
    "# 모델 학습과정 시각화\n",
    "import matplotlib.pyplot as plt\n",
    "fig, loss_ax = plt.subplots(figsize=(10,8))\n",
    "loss_ax.plot(hist.history['loss'], 'y', label='train loss')\n",
    "loss_ax.plot(hist.history['val_loss'], 'r', label='val loss')\n",
    "loss_ax.set_xlabel('epoch')\n",
    "loss_ax.set_ylabel('loss')\n",
    "\n",
    "acc_ax=loss_ax.twinx()\n",
    "acc_ax.plot(hist.history['accuracy'], 'g', label='train accracy')\n",
    "acc_ax.plot(hist.history['val_accuracy'], 'b', label='val accracy')\n",
    "acc_ax.set_ylabel('accuracy')\n",
    "loss_ax.legend(loc='upper left')\n",
    "acc_ax.legend(loc='center right')\n",
    "plt.show()"
   ]
  },
  {
   "cell_type": "code",
   "execution_count": 20,
   "id": "57542b78",
   "metadata": {},
   "outputs": [
    {
     "name": "stdout",
     "output_type": "stream",
     "text": [
      "9/9 [==============================] - 0s 1ms/step - loss: 0.4256 - accuracy: 1.0000\n"
     ]
    }
   ],
   "source": [
    "# 모델 평가\n",
    "score = model.evaluate(x_test, Y_test, batch_size=1)"
   ]
  },
  {
   "cell_type": "code",
   "execution_count": 21,
   "id": "98c0ddd3",
   "metadata": {},
   "outputs": [
    {
     "data": {
      "text/plain": [
       "[0.4256407618522644, 1.0]"
      ]
     },
     "execution_count": 21,
     "metadata": {},
     "output_type": "execute_result"
    }
   ],
   "source": [
    "score"
   ]
  },
  {
   "cell_type": "code",
   "execution_count": 22,
   "id": "5b607f2f",
   "metadata": {},
   "outputs": [
    {
     "name": "stdout",
     "output_type": "stream",
     "text": [
      "평가된 loss: 0.4256407618522644\n",
      "평가된 accuracy: 100.0\n"
     ]
    }
   ],
   "source": [
    "print('평가된 loss:',score[0])\n",
    "print('평가된 accuracy:',score[1]*100)"
   ]
  },
  {
   "cell_type": "markdown",
   "id": "2e6620e5",
   "metadata": {},
   "source": [
    "## 7. 모델 사용하기\n"
   ]
  },
  {
   "cell_type": "code",
   "execution_count": 23,
   "id": "c4ea40d6",
   "metadata": {},
   "outputs": [
    {
     "name": "stdout",
     "output_type": "stream",
     "text": [
      "1/1 [==============================] - 0s 105ms/step\n"
     ]
    },
    {
     "data": {
      "text/plain": [
       "array([[1.5939945e-15, 4.4239002e-15, 6.1051570e-02, 5.9698888e-13,\n",
       "        8.7527138e-01, 6.9221743e-15, 6.3009016e-02, 5.7839301e-17,\n",
       "        6.6727272e-04, 9.0525548e-17, 7.0644683e-07, 2.7100812e-14,\n",
       "        2.2848605e-11, 1.3091837e-13, 1.5613513e-16, 8.6048616e-16,\n",
       "        2.2713374e-23, 3.4846553e-14, 2.7999361e-32]], dtype=float32)"
      ]
     },
     "execution_count": 23,
     "metadata": {},
     "output_type": "execute_result"
    }
   ],
   "source": [
    "H = model.predict(np.array([[2]]))\n",
    "H"
   ]
  },
  {
   "cell_type": "code",
   "execution_count": 24,
   "id": "c698a538",
   "metadata": {},
   "outputs": [
    {
     "name": "stdout",
     "output_type": "stream",
     "text": [
      "1/1 [==============================] - 0s 20ms/step\n"
     ]
    },
    {
     "data": {
      "text/plain": [
       "4"
      ]
     },
     "execution_count": 24,
     "metadata": {},
     "output_type": "execute_result"
    }
   ],
   "source": [
    "# 분류분석의 예측은 predict() 후 argmax()\n",
    "model.predict(np.array([[2]])).argmax()"
   ]
  },
  {
   "cell_type": "code",
   "execution_count": 25,
   "id": "ea09caef",
   "metadata": {},
   "outputs": [
    {
     "data": {
      "text/plain": [
       "87.52713799476624"
      ]
     },
     "execution_count": 25,
     "metadata": {},
     "output_type": "execute_result"
    }
   ],
   "source": [
    "#4를 몇% 확률로 예측했는지\n",
    "H[0, H.argmax()]*100"
   ]
  },
  {
   "cell_type": "markdown",
   "id": "a1da46c6",
   "metadata": {},
   "source": [
    "# 7. 모델 저장하기\n"
   ]
  },
  {
   "cell_type": "code",
   "execution_count": 26,
   "id": "b14cb81e",
   "metadata": {},
   "outputs": [],
   "source": [
    "#model\n",
    "from tensorflow.keras.models import save_model\n",
    "save_model(model, 'model/02_deep.h5')"
   ]
  },
  {
   "cell_type": "markdown",
   "id": "b74ccc2a",
   "metadata": {},
   "source": [
    "## 저장된 모델 사용하기"
   ]
  },
  {
   "cell_type": "code",
   "execution_count": 27,
   "id": "2023722b",
   "metadata": {},
   "outputs": [],
   "source": [
    "from tensorflow.keras.models import load_model\n",
    "model2=load_model('model/02_deep.h5')"
   ]
  },
  {
   "cell_type": "code",
   "execution_count": 28,
   "id": "488f9ded",
   "metadata": {},
   "outputs": [
    {
     "name": "stdout",
     "output_type": "stream",
     "text": [
      "1/1 [==============================] - 0s 70ms/step\n"
     ]
    },
    {
     "data": {
      "text/plain": [
       "8"
      ]
     },
     "execution_count": 28,
     "metadata": {},
     "output_type": "execute_result"
    }
   ],
   "source": [
    "model2.predict(np.array([[4]])).argmax()"
   ]
  },
  {
   "cell_type": "code",
   "execution_count": 29,
   "id": "ae0d18d4",
   "metadata": {},
   "outputs": [
    {
     "name": "stdout",
     "output_type": "stream",
     "text": [
      "Model: \"sequential\"\n",
      "_________________________________________________________________\n",
      " Layer (type)                Output Shape              Param #   \n",
      "=================================================================\n",
      " dense (Dense)               (None, 38)                76        \n",
      "                                                                 \n",
      " dense_1 (Dense)             (None, 64)                2496      \n",
      "                                                                 \n",
      " dense_2 (Dense)             (None, 32)                2080      \n",
      "                                                                 \n",
      " dense_3 (Dense)             (None, 19)                627       \n",
      "                                                                 \n",
      "=================================================================\n",
      "Total params: 5,279\n",
      "Trainable params: 5,279\n",
      "Non-trainable params: 0\n",
      "_________________________________________________________________\n"
     ]
    }
   ],
   "source": [
    "model2.summary()"
   ]
  },
  {
   "cell_type": "code",
   "execution_count": 35,
   "id": "19657d69",
   "metadata": {},
   "outputs": [
    {
     "name": "stdout",
     "output_type": "stream",
     "text": [
      "1/1 [==============================] - 0s 27ms/step\n"
     ]
    },
    {
     "data": {
      "text/plain": [
       "array([4, 6], dtype=int64)"
      ]
     },
     "execution_count": 35,
     "metadata": {},
     "output_type": "execute_result"
    }
   ],
   "source": [
    "data = np.array([[2],[3]])     # 예측 할려면 2차원 구조, numpy 배열로 들어가야 한다\n",
    "predictions = model.predict(data)\n",
    "predictions.argmax(axis=1)"
   ]
  },
  {
   "cell_type": "code",
   "execution_count": 39,
   "id": "9dd397c9",
   "metadata": {},
   "outputs": [],
   "source": [
    "def predict_classes(model, data):\n",
    "    predictions = model.predict(data)\n",
    "    return predictions.argmax(axis=-1)"
   ]
  },
  {
   "cell_type": "code",
   "execution_count": 40,
   "id": "a4edf9c0",
   "metadata": {},
   "outputs": [
    {
     "name": "stdout",
     "output_type": "stream",
     "text": [
      "뭘 예측할까4\n",
      "1/1 [==============================] - 0s 18ms/step\n",
      "예측된 분류는 [8]\n"
     ]
    }
   ],
   "source": [
    "input_data = int(input('뭘 예측할까'))\n",
    "data = np.array([[input_data]])\n",
    "print('예측된 분류는',predict_classes(model2, data))"
   ]
  },
  {
   "cell_type": "markdown",
   "id": "3d7c73a2",
   "metadata": {},
   "source": []
  },
  {
   "cell_type": "code",
   "execution_count": null,
   "id": "72c3a1b5",
   "metadata": {},
   "outputs": [],
   "source": []
  },
  {
   "cell_type": "code",
   "execution_count": null,
   "id": "9765733e",
   "metadata": {},
   "outputs": [],
   "source": []
  },
  {
   "cell_type": "code",
   "execution_count": null,
   "id": "22c57242",
   "metadata": {},
   "outputs": [],
   "source": []
  },
  {
   "cell_type": "code",
   "execution_count": null,
   "id": "f2e4266f",
   "metadata": {},
   "outputs": [],
   "source": []
  }
 ],
 "metadata": {
  "kernelspec": {
   "display_name": "ml-dl-nlp",
   "language": "python",
   "name": "ml-dl-nlp"
  },
  "language_info": {
   "codemirror_mode": {
    "name": "ipython",
    "version": 3
   },
   "file_extension": ".py",
   "mimetype": "text/x-python",
   "name": "python",
   "nbconvert_exporter": "python",
   "pygments_lexer": "ipython3",
   "version": "3.10.18"
  },
  "toc": {
   "base_numbering": 1,
   "nav_menu": {},
   "number_sections": false,
   "sideBar": true,
   "skip_h1_title": false,
   "title_cell": "Table of Contents",
   "title_sidebar": "Contents",
   "toc_cell": false,
   "toc_position": {},
   "toc_section_display": true,
   "toc_window_display": false
  }
 },
 "nbformat": 4,
 "nbformat_minor": 5
}
