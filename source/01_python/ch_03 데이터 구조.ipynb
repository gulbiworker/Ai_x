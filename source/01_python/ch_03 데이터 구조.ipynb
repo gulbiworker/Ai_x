{
 "cells": [
  {
   "cell_type": "code",
   "execution_count": 3,
   "id": "6d3c98bf",
   "metadata": {},
   "outputs": [
    {
     "data": {
      "text/html": [
       "\n",
       "<style>\n",
       "div.container{width:86% !important;}\n",
       "div.cell.code_cell.rendered{width:100%;}\n",
       "div.CodeMirror {font-family:Consolas; font-size:15pt;}\n",
       "div.output {font-size:15pt; font-weight:bold;}\n",
       "div.input {font-family:Consolas; font-size:15pt;}\n",
       "div.prompt {min-width:70px;\n",
       "div#toc-wrapper{padding-top:120px;}\n",
       "div.text_cell_render ul li{font-size:12pt;padding:5px;}\n",
       "table.dataframe{font-size:15px;}\n",
       "</style>\n"
      ],
      "text/plain": [
       "<IPython.core.display.HTML object>"
      ]
     },
     "metadata": {},
     "output_type": "display_data"
    }
   ],
   "source": [
    "from IPython.display import display, HTML\n",
    "display(HTML(\"\"\"\n",
    "<style>\n",
    "div.container{width:86% !important;}\n",
    "div.cell.code_cell.rendered{width:100%;}\n",
    "div.CodeMirror {font-family:Consolas; font-size:15pt;}\n",
    "div.output {font-size:15pt; font-weight:bold;}\n",
    "div.input {font-family:Consolas; font-size:15pt;}\n",
    "div.prompt {min-width:70px;\n",
    "div#toc-wrapper{padding-top:120px;}\n",
    "div.text_cell_render ul li{font-size:12pt;padding:5px;}\n",
    "table.dataframe{font-size:15px;}\n",
    "</style>\n",
    "\"\"\"))"
   ]
  },
  {
   "cell_type": "markdown",
   "id": "441c2499",
   "metadata": {},
   "source": [
    "<font size=\"5\" color=\"red\">ch03 데이터구조</font>\n",
    "- 리스트.[], 튜플(),딕셔너리{}, 셋"
   ]
  },
  {
   "cell_type": "markdown",
   "id": "e3928916",
   "metadata": {},
   "source": [
    "# 1절. 리스트\n",
    "## 1.1 리스트 만들기\n",
    "- []를 이용해서 만들며, 여러개 값()을 저장, 여러개 값(여러타입)을 하나의 변수에 저장/관리할 수 있음\n",
    "- list(리스트로 변환 가능한 자료) 함수 이용도 가능  ex) List(10,20) 은 안된다\n",
    "- 인덱스 : 각 요소의 위치. 0부터 시작. 맨 마지막 인덱스는 -1\n",
    "- 슬라이싱([from:stop:step]) : 부분 데이터셋 추출\n",
    "- 인덱스와 슬라이싱을 이용해서 읽기/쓰기 지원"
   ]
  },
  {
   "cell_type": "code",
   "execution_count": null,
   "id": "8a69ede2",
   "metadata": {},
   "outputs": [],
   "source": [
    "fruits = ['banana', 'apple', 'orange', 'grape']\n",
    "type(fruits)"
   ]
  },
  {
   "cell_type": "code",
   "execution_count": null,
   "id": "4c6e4f32",
   "metadata": {},
   "outputs": [],
   "source": [
    "print(fruits)"
   ]
  },
  {
   "cell_type": "code",
   "execution_count": null,
   "id": "bb33d372",
   "metadata": {},
   "outputs": [],
   "source": [
    "print(fruits)\n",
    "print(fruits[0])"
   ]
  },
  {
   "cell_type": "code",
   "execution_count": null,
   "id": "8bfc300d",
   "metadata": {},
   "outputs": [],
   "source": [
    "fruits[0] = 'mango'\n",
    "print(fruits)"
   ]
  },
  {
   "cell_type": "code",
   "execution_count": null,
   "id": "582597f5",
   "metadata": {},
   "outputs": [],
   "source": [
    "fruits = ['mango', 'apple', 'orange']\n",
    "x, y, z = fruits \n",
    "print(\"x=\",x)\n",
    "print(\"y=\",y)\n",
    "print(\"z=\",z)"
   ]
  },
  {
   "cell_type": "code",
   "execution_count": null,
   "id": "e53dfcab",
   "metadata": {},
   "outputs": [],
   "source": [
    "# range(from, stop, step) : form 부터 stop 앞까지 step 씩 증가하면서 지정된 범위의 정수\n",
    "      # from 생략시 : 0\n",
    "      # by 생략가능시list 1\n",
    "list(range(10))"
   ]
  },
  {
   "cell_type": "code",
   "execution_count": null,
   "id": "689a272d",
   "metadata": {},
   "outputs": [],
   "source": [
    "list(range(101, 111))"
   ]
  },
  {
   "cell_type": "code",
   "execution_count": null,
   "id": "0374dff9",
   "metadata": {},
   "outputs": [],
   "source": [
    "list(range(10,-1,-2))"
   ]
  },
  {
   "cell_type": "code",
   "execution_count": null,
   "id": "954ce579",
   "metadata": {},
   "outputs": [],
   "source": [
    "# 반복문 3회\n",
    "for i in [0,1,2]:\n",
    "    print(i)"
   ]
  },
  {
   "cell_type": "code",
   "execution_count": null,
   "id": "858e875d",
   "metadata": {},
   "outputs": [],
   "source": [
    "for i in range(3):\n",
    "    print(i)"
   ]
  },
  {
   "cell_type": "code",
   "execution_count": null,
   "id": "ed821b35",
   "metadata": {},
   "outputs": [],
   "source": [
    "fruits = ['mango', 'apple', 'orange', 'grape']\n",
    "for i in range(len(fruits)):     #len(fruits) : 리스트 데이터 수\n",
    "    print(\"{}번째 과일은 {}입니다\".format(i, fruits[i]))"
   ]
  },
  {
   "cell_type": "code",
   "execution_count": null,
   "id": "961fbbfb",
   "metadata": {},
   "outputs": [],
   "source": [
    "for value in fruits:\n",
    "    print(value)"
   ]
  },
  {
   "cell_type": "code",
   "execution_count": null,
   "id": "ce871d67",
   "metadata": {},
   "outputs": [],
   "source": [
    "# enumerate(나열가능한 자료) : (i,vlaue)의 값들\n",
    "for i, vlaue in enumerate(fruits):\n",
    "    print(\"{}번째 과일은 {}입니다\".format(i, value))"
   ]
  },
  {
   "cell_type": "code",
   "execution_count": null,
   "id": "9abdecee",
   "metadata": {},
   "outputs": [],
   "source": [
    "list(enumerate(fruits))"
   ]
  },
  {
   "cell_type": "code",
   "execution_count": null,
   "id": "3fb16ad5",
   "metadata": {},
   "outputs": [],
   "source": [
    "# 리스트는 여러 타입의 데이터를 담을 수 있음\n",
    "number = [0,True, '2', 3, [4,5,6]]\n",
    "print(number)\n",
    "print(number[1])\n",
    "print(number[4][1])  #리스트속 리스트의 특정 숫자를 가져오기 위해서는 [][]2번 해 주어야 한다."
   ]
  },
  {
   "cell_type": "code",
   "execution_count": null,
   "id": "c03d31c2",
   "metadata": {},
   "outputs": [],
   "source": [
    "# 2차원 리스트  리스트 안에 리스트가 들어간것\n",
    "numbers_2d = [[90,91,92],[85,86,82,75,77],[71,70,72],[60,1,2,5],]\n",
    "print(numbers_2d)\n",
    "len(numbers_2d), len(numbers_2d[1])"
   ]
  },
  {
   "cell_type": "code",
   "execution_count": null,
   "id": "6640eb4f",
   "metadata": {
    "scrolled": true
   },
   "outputs": [],
   "source": [
    "for i, row in enumerate(numbers_2d):\n",
    "    for j, vlaue in enumerate(row):\n",
    "        print(\"{}행{}열:{}\".format(i,j,vlaue), end='\\t' )\n",
    "    print() # 개행"
   ]
  },
  {
   "cell_type": "code",
   "execution_count": null,
   "id": "6d03bb93",
   "metadata": {},
   "outputs": [],
   "source": [
    "del vlaue"
   ]
  },
  {
   "cell_type": "code",
   "execution_count": null,
   "id": "2ce3a0dd",
   "metadata": {},
   "outputs": [],
   "source": [
    "numbers_2d = [[90,91,92],[85,86,82,75,77],[71,70,72],[60,1,2,5],]\n",
    "for row in numbers_2d:\n",
    "    for item in row:\n",
    "        print(item, end='\\t')\n",
    "    print()"
   ]
  },
  {
   "cell_type": "code",
   "execution_count": null,
   "id": "5cb59682",
   "metadata": {},
   "outputs": [],
   "source": [
    "numbers_2d = [[90,91,92],[85,86,82,75,77],[71,70,72],[60,1,2,5],]\n",
    "for row in numbers_2d:\n",
    "    print(row)"
   ]
  },
  {
   "cell_type": "code",
   "execution_count": null,
   "id": "6544081f",
   "metadata": {},
   "outputs": [],
   "source": [
    "numbers = [1, 12, 3, 5, 4]\n",
    "numbers_2d = [[100,0],[9,100],[50,54]]\n",
    "for row in numbers_2d:\n",
    "    for items in row:\n",
    "        print(items, end='\\t')"
   ]
  },
  {
   "cell_type": "code",
   "execution_count": null,
   "id": "eba184a3",
   "metadata": {},
   "outputs": [],
   "source": [
    "# 요소의 수\n",
    "print(len(numbers), len(numbers_2d))"
   ]
  },
  {
   "cell_type": "code",
   "execution_count": null,
   "id": "dd4ff5b0",
   "metadata": {},
   "outputs": [],
   "source": [
    "# 최솟값, 최대값\n",
    "min(numbers), max(numbers)"
   ]
  },
  {
   "cell_type": "code",
   "execution_count": null,
   "id": "11a00cff",
   "metadata": {},
   "outputs": [],
   "source": [
    "# 2 차원 list min() : 0번 인덱스 요소가 가장 작은 값\n",
    "#            man() : 0번 인덱스 요소가 가장 큰 것\n",
    "min(numbers_2d),    max(numbers_2d)"
   ]
  },
  {
   "cell_type": "code",
   "execution_count": null,
   "id": "10ceb8f1",
   "metadata": {},
   "outputs": [],
   "source": [
    "#문자 list일 경구 ascii 코드값으로 min(), max() 적용\n",
    "fruits = ['mango', 'apple', 'orange', 'APPLE']\n",
    "min(fruits), max(fruits)"
   ]
  },
  {
   "cell_type": "code",
   "execution_count": null,
   "id": "113c6635",
   "metadata": {},
   "outputs": [],
   "source": [
    "numbers = [1, 12, 3, 5, 4]\n",
    "# 정렬(오름차순, 내림차순)\n",
    "print(\"오름차순\", sorted(numbers))\n",
    "print(\"내림차순\", sorted(numbers, reverse=True))\n",
    "print(\"sorted 함수 사용시 리스트 내용이 바뀌지 않음\", numbers)\n",
    "print(\"합\", sum(numbers))"
   ]
  },
  {
   "cell_type": "markdown",
   "id": "5fb2020d",
   "metadata": {},
   "source": [
    "## 1.3 요소추가\n",
    "```\n",
    "(+) : 두 리스트 연결\n",
    "(*) : 리스트를 곱한 수만 반복\n",
    "append() : 맨뒤에 요소 추가\n",
    "extend() : 맨뒤에 리스트를 요소별로 추가\n",
    "insert(idx, 값) : idx 번째 인덱스 위치에 추가(기존데이터는 shift)\n",
    "\n",
    "```\n"
   ]
  },
  {
   "cell_type": "code",
   "execution_count": null,
   "id": "9da04134",
   "metadata": {},
   "outputs": [],
   "source": [
    "numbers = [1,2,3,]   #연결\n",
    "numbers = numbers + numbers\n",
    "numbers"
   ]
  },
  {
   "cell_type": "code",
   "execution_count": null,
   "id": "b5514a02",
   "metadata": {},
   "outputs": [],
   "source": [
    "numbers=[1,2,3]  #반복\n",
    "print(numbers*3)"
   ]
  },
  {
   "cell_type": "code",
   "execution_count": null,
   "id": "890347af",
   "metadata": {},
   "outputs": [],
   "source": [
    "#추가\n",
    "numbers.append(4)\n",
    "numbers\n",
    "numbers.append([5,6,7])   # 맨 뒤에 요소로 추가\n",
    "print(numbers)"
   ]
  },
  {
   "cell_type": "code",
   "execution_count": null,
   "id": "b65e795b",
   "metadata": {},
   "outputs": [],
   "source": [
    "num=[1,2,3]\n",
    "num.append([4,5,6])\n",
    "print(num)"
   ]
  },
  {
   "cell_type": "code",
   "execution_count": null,
   "id": "e832307a",
   "metadata": {},
   "outputs": [],
   "source": [
    "# 요소별로 각기 추가\n",
    "num=[1,2,3]\n",
    "num.extend([4,5,6])\n",
    "print(num)"
   ]
  },
  {
   "cell_type": "code",
   "execution_count": null,
   "id": "4dc169e2",
   "metadata": {},
   "outputs": [],
   "source": [
    "num.insert(2, 'x')\n",
    "print(num)"
   ]
  },
  {
   "cell_type": "markdown",
   "id": "4551f8a2",
   "metadata": {},
   "source": [
    "## 1.4 인덱싱과 요소 갯수\n",
    "- 변수[index] : 인덱스를 이용한 접근\n",
    "- index(찾을데이터) : 해당 찾을 데이터가 있는 요소의 index를 반환\n",
    "                    찾을데이터가 없을 경우 오류\n",
    "- count(찾을데이터) : 리스트에서 찾을 데이터의 갯수 반환"
   ]
  },
  {
   "cell_type": "code",
   "execution_count": null,
   "id": "0973cec3",
   "metadata": {},
   "outputs": [],
   "source": [
    "numbers = [1,2,3,[1,2,3],1,2,3]\n",
    "numbers.count(2), numbers.count(9)"
   ]
  },
  {
   "cell_type": "code",
   "execution_count": null,
   "id": "0fc293f0",
   "metadata": {},
   "outputs": [],
   "source": [
    "numbers.index(2) # 0번째 index 부터 2가 처음 나오는 index를 반환"
   ]
  },
  {
   "cell_type": "code",
   "execution_count": null,
   "id": "59ac9d4f",
   "metadata": {},
   "outputs": [],
   "source": [
    "numbers.index(2, 2) #3번째 index 부터 2가 처음 나오는 index를 반환"
   ]
  },
  {
   "cell_type": "code",
   "execution_count": null,
   "id": "b4d53308",
   "metadata": {},
   "outputs": [],
   "source": [
    "numbers = [1,2,3,[1,2,3],1,2,3]\n",
    "if numbers.count(9):\n",
    "    print(numbers.index(9))\n",
    "else :\n",
    "    print(\"no 9\")"
   ]
  },
  {
   "cell_type": "code",
   "execution_count": null,
   "id": "5c27f085",
   "metadata": {},
   "outputs": [],
   "source": [
    "9 in numbers # 리스트에 9가 존재하는지 여부"
   ]
  },
  {
   "cell_type": "code",
   "execution_count": null,
   "id": "cdc0a696",
   "metadata": {},
   "outputs": [],
   "source": [
    "def safe_index(number, data):\n",
    "    if data in number:  # number 안에 data 있는지 여부\n",
    "        return number.index(data)\n",
    "    else:\n",
    "        return -1"
   ]
  },
  {
   "cell_type": "code",
   "execution_count": null,
   "id": "00c7d7b8",
   "metadata": {},
   "outputs": [],
   "source": [
    "safe_index(number, 9)"
   ]
  },
  {
   "cell_type": "markdown",
   "id": "e9f9df92",
   "metadata": {},
   "source": [
    "## 1.5 원하는 요소 추출\n",
    "1. 리스트 슬라이승 : 리스트에서 원하는 index의 데이터를 추출\n",
    "     - [from:stop:step] from부터 stop앞까지 step씩 중가하는 indez 값ㅇ르 추출\n",
    "     - from 생략시 처음. stop 생략시 끝. step 생략시 1. 모두 생략 가능\n",
    "     - 음수 인덱스 가능\n",
    "\n",
    "2. <font color=\"red\">리스트컴프리헨션</font> : 리스트에서 원하는 데이터를 추출"
   ]
  },
  {
   "cell_type": "code",
   "execution_count": null,
   "id": "c0ddfb42",
   "metadata": {},
   "outputs": [],
   "source": [
    "numbers = [1,3,5,9,10,12,13,20]\n",
    "# 짝수번째 인덱스 값 출력\n",
    "numbers[0:7:2]\n",
    "# 거꾸로 출력\n",
    "numbers[::-1]"
   ]
  },
  {
   "cell_type": "code",
   "execution_count": null,
   "id": "bbf8da0c",
   "metadata": {},
   "outputs": [],
   "source": [
    "#짝수만\n",
    "numbers = [1,3,5,9,10,12,13,20]\n",
    "result=[]\n",
    "for data in numbers:\n",
    "    if data%2==0:\n",
    "        result.append(data)\n",
    "    else:\n",
    "        pass\n",
    "print(result)"
   ]
  },
  {
   "cell_type": "code",
   "execution_count": null,
   "id": "46b15032",
   "metadata": {},
   "outputs": [],
   "source": [
    "#짝수만\n",
    "numbers = [1,3,5,9,10,12,13,20]\n",
    "result=[]\n",
    "for data in numbers:\n",
    "    if data%2==0:\n",
    "        result.append(data)\n",
    "print(result)"
   ]
  },
  {
   "cell_type": "code",
   "execution_count": null,
   "id": "87cb5fd4",
   "metadata": {},
   "outputs": [],
   "source": [
    "numbers = [1,3,5,9,10,12,13,20]\n",
    "result=[]\n",
    "for data in numbers:\n",
    "    result.append(data)\n",
    "print(result)"
   ]
  },
  {
   "cell_type": "markdown",
   "id": "2fbd9e26",
   "metadata": {},
   "source": [
    "** 리스트컴프리헨션"
   ]
  },
  {
   "cell_type": "code",
   "execution_count": null,
   "id": "e597e601",
   "metadata": {},
   "outputs": [],
   "source": [
    "# numbers 의 모든 data 를 리스트컴프리헨션으로 추출\n",
    "[data for data in numbers]"
   ]
  },
  {
   "cell_type": "code",
   "execution_count": null,
   "id": "2afcedc7",
   "metadata": {},
   "outputs": [],
   "source": [
    "# numbers 의 짝수 데이터를 리스트 컴프리헨션으로 추출\n",
    "[data for data in numbers if data%2==0]"
   ]
  },
  {
   "cell_type": "code",
   "execution_count": null,
   "id": "1a0fa1a5",
   "metadata": {},
   "outputs": [],
   "source": [
    "[data for data in numbers if not data%2==0]"
   ]
  },
  {
   "cell_type": "code",
   "execution_count": null,
   "id": "67dc015b",
   "metadata": {},
   "outputs": [],
   "source": [
    "# ex1. numbers 에서 10 이상만 추출\n",
    "numbers = [1,3,5,9,10,12,13,20]\n",
    "[data for data in numbers if data>=10]"
   ]
  },
  {
   "cell_type": "code",
   "execution_count": null,
   "id": "4ee2f61b",
   "metadata": {},
   "outputs": [],
   "source": [
    "# ex2. fruits 에서 5글자가 넘는 과일만 추출\n",
    "fruits = ['orange', 'apple', 'mango', 'kiwi']\n",
    "[data for data in fruits if len(data)>5 ]   "
   ]
  },
  {
   "cell_type": "code",
   "execution_count": null,
   "id": "afd9f078",
   "metadata": {},
   "outputs": [],
   "source": [
    "# ex.3이상의 요소들의 제곱을 추출하시오\n",
    "L=[1,2,3,4,5]\n",
    "[data**2 for data in L if data>=3]     #데이터 처리가 맨앞으로 이동을 함으로 data**2"
   ]
  },
  {
   "cell_type": "markdown",
   "id": "44692dcf",
   "metadata": {},
   "source": [
    "## 1.6요소 수정하기"
   ]
  },
  {
   "cell_type": "code",
   "execution_count": null,
   "id": "b320fd75",
   "metadata": {},
   "outputs": [],
   "source": [
    "numbers = [0,1,2,3,4,5,6,7,8,9]\n",
    "# 인덱스를 이용해서 특정요소를 수정\n",
    "numbers[2]= 222\n",
    "numbers"
   ]
  },
  {
   "cell_type": "code",
   "execution_count": null,
   "id": "8feabf5b",
   "metadata": {},
   "outputs": [],
   "source": [
    "# 슬라이싱을 이용해서 요소 수정(step부분이 미포함 : 부분 리스트가 통째로 수정)\n",
    "numbers[1:4] = ['x','y','z','ㅋ','ㅎ']\n",
    "numbers"
   ]
  },
  {
   "cell_type": "code",
   "execution_count": null,
   "id": "bd2a956e",
   "metadata": {},
   "outputs": [],
   "source": [
    "# 슬라이싱을 이용해서 요소 수정(step부분 포함 : 요소 갯수가 맞아야 함)\n",
    "numbers = [0,1,2,3,4,5,6,7,8,9]\n",
    "numbers[::2]=['x']*5 #짝수번째만 바꿈\n",
    "numbers"
   ]
  },
  {
   "cell_type": "markdown",
   "id": "9ca8de4d",
   "metadata": {},
   "source": [
    "## 1.7 요소 삭제\n",
    "- pop() : 가장 마지막 인덱스 요소가 반환되고 삭제\n",
    "- pop(idx) : idx번째 요소가 반환되고 삭제\n",
    "- remove(지울data) : 리스트안의 data 가 삭제\n",
    "- del 변수[idx] : idx번째 요소가 삭제"
   ]
  },
  {
   "cell_type": "code",
   "execution_count": null,
   "id": "4a78a882",
   "metadata": {},
   "outputs": [],
   "source": [
    "numbers = [1, 2, 3, 4, 5]\n",
    "delete_data = numbers.pop()\n",
    "print(\"delet data:{}, numbers:{}\".format(delete_data, numbers)) # 마지막을 지운다\n",
    "\n",
    "delete_data2 = numbers.pop(0)\n",
    "print(\"delet data:{}, numbers:{}\".format(delete_data, numbers)) # 0번째 수를 지운다\n",
    "\n",
    "del numbers[2]   # 특정한 인덱스 데이터를 지운다\n",
    "print(numbers)\n",
    "\n",
    "numbers = [1, 2, 3, 4, 5]\n",
    "del_num = numbers.remove(3)\n",
    "print(del_num)  # remove 는 반환값이 없고 삭제를 해버린다\n",
    "print(numbers)\n"
   ]
  },
  {
   "cell_type": "code",
   "execution_count": null,
   "id": "d2f66157",
   "metadata": {},
   "outputs": [],
   "source": [
    "numbers.remove(9)"
   ]
  },
  {
   "cell_type": "code",
   "execution_count": null,
   "id": "9910eeaf",
   "metadata": {},
   "outputs": [],
   "source": [
    "if 9 in numbers:\n",
    "    numbers.remove(9)   \n",
    "else:\n",
    "    print('no data')"
   ]
  },
  {
   "cell_type": "code",
   "execution_count": null,
   "id": "d21535d6",
   "metadata": {},
   "outputs": [],
   "source": [
    "def safe_remove(numbers, remove_data):\n",
    "    if remove_data in numbers:\n",
    "        numbers.remove(remove_data)\n",
    "        print(\"remove complete\")\n",
    "    else:\n",
    "        print(\"none data\")"
   ]
  },
  {
   "cell_type": "code",
   "execution_count": null,
   "id": "dae977a2",
   "metadata": {},
   "outputs": [],
   "source": [
    "safe_remove(numbers, 9)\n"
   ]
  },
  {
   "cell_type": "markdown",
   "id": "2e298e4b",
   "metadata": {},
   "source": [
    "## 1.8 정렬하기"
   ]
  },
  {
   "cell_type": "code",
   "execution_count": null,
   "id": "092a1117",
   "metadata": {},
   "outputs": [],
   "source": [
    "numbers = [1,9,5,0,8] # reverse = True : 내림차순\n",
    "print('numbers 는 변경하지 않고 정렬 :',sorted(numbers, reverse=True))\n",
    "print(numbers)"
   ]
  },
  {
   "cell_type": "code",
   "execution_count": null,
   "id": "062a2294",
   "metadata": {},
   "outputs": [],
   "source": [
    "numbers.sort() # numbers 자체가 정렬한 결과로 바뀜(오름차순)\n",
    "numbers"
   ]
  },
  {
   "cell_type": "code",
   "execution_count": null,
   "id": "b5b5a83a",
   "metadata": {},
   "outputs": [],
   "source": [
    "numbers.reverse()# numbers 자체가 역순으로 변경\n",
    "numbers.reverse()\n",
    "numbers"
   ]
  },
  {
   "cell_type": "code",
   "execution_count": null,
   "id": "6b0ff1a4",
   "metadata": {},
   "outputs": [],
   "source": [
    "list = [2,5,9]\n",
    "list =list[::-1]\n",
    "list"
   ]
  },
  {
   "cell_type": "markdown",
   "id": "2ff7cd40",
   "metadata": {},
   "source": [
    "## 1.9 복제하기"
   ]
  },
  {
   "cell_type": "code",
   "execution_count": null,
   "id": "ee42525e",
   "metadata": {},
   "outputs": [],
   "source": [
    "# 스칼라 데이터의 복제\n",
    "i = 10     # 원본\n",
    "copy_i = i # 복제본\n",
    "print(f\"원본={i}, 복사본={copy_i} / 원본주소={id(i)}, 복사본주소={id(copy_i)}\")\n",
    "copy_i = 99\n",
    "print(f\"원본={i}, 복사본={copy_i} / 원본주소={id(i)}, 복사본주소={id(copy_i)}\")"
   ]
  },
  {
   "cell_type": "code",
   "execution_count": null,
   "id": "739ba311",
   "metadata": {},
   "outputs": [],
   "source": [
    "# 리스트의 복제(배열, 데이터프레임, 딕셔너리)의 복제"
   ]
  },
  {
   "cell_type": "code",
   "execution_count": null,
   "id": "6119a027",
   "metadata": {},
   "outputs": [],
   "source": [
    "a=10\n",
    "print(a, id(a))\n",
    "a=8\n",
    "print(a, id(a))"
   ]
  },
  {
   "cell_type": "code",
   "execution_count": null,
   "id": "dc662426",
   "metadata": {},
   "outputs": [],
   "source": [
    "numbers = [5, 6, 1]\n",
    "new_numbers = numbers\n",
    "new_numbers[0] = 9\n",
    "print(numbers)\n",
    "print(new_numbers)"
   ]
  },
  {
   "cell_type": "code",
   "execution_count": null,
   "id": "c2244fa4",
   "metadata": {},
   "outputs": [],
   "source": [
    "# 얕은 복사(할당) / 깊은 복사(복제)\n",
    "numbers = [5, 8, 1] # 원본\n",
    "new_numbers = numbers # 얕은 복사(할당)\n",
    "print(f\"원본={numbers}, 복제본={new_numbers}\")\n",
    "print(f\"원본={id(numbers)}, 복제본={id(new_numbers)}\")\n",
    "new_numbers[0]=-99\n",
    "print(f\"원본={id(numbers)}, 복제본={id(new_numbers)}\")"
   ]
  },
  {
   "cell_type": "code",
   "execution_count": null,
   "id": "ef501e6f",
   "metadata": {},
   "outputs": [],
   "source": [
    "numbers = [5, 8, 1] # 원본\n",
    "new_numbers = numbers.copy() # 깊은 복사(복제)    이러면 원본은 같지만 주소는 다르게 나온다\n",
    "print(f\"원본={numbers}, 복제본={new_numbers}\")\n",
    "print(f\"원본={id(numbers)}, 복제본={id(new_numbers)}\")\n",
    "new_numbers[0]=99\n",
    "new_numbers"
   ]
  },
  {
   "cell_type": "code",
   "execution_count": null,
   "id": "a0b77bce",
   "metadata": {},
   "outputs": [],
   "source": [
    "new_numbers.pop(0)\n",
    "new_numbers"
   ]
  },
  {
   "cell_type": "code",
   "execution_count": null,
   "id": "d892fc5e",
   "metadata": {},
   "outputs": [],
   "source": [
    "numbers.clear()  #리스트의 요소를 모두 삭제\n",
    "numbers"
   ]
  },
  {
   "cell_type": "markdown",
   "id": "7122bbba",
   "metadata": {},
   "source": [
    "# 2절. 튜플\n",
    "- 리스트와 유사하지만, 읽기 전용이다 수정이 필요없는 데이터에서 사용한다. \n",
    "- 수정불가하므로, 튜블에 데이터 수정, 추가, 삭제 불가(제공되는 함수도 많지 않음)\n",
    "- (), tuple() 이용해서 생성"
   ]
  },
  {
   "cell_type": "code",
   "execution_count": null,
   "id": "4ef5ef26",
   "metadata": {},
   "outputs": [],
   "source": [
    "# city = ('서울','부산','인천','목표')\n",
    "# 파이썬은 여러개의 값이 전달될떄, 튜블 타입으로 전달\n",
    "city = '서울', '부산' , '인천', '목표'\n",
    "print(type(city))\n",
    "print(city)"
   ]
  },
  {
   "cell_type": "code",
   "execution_count": null,
   "id": "0cc4ce0b",
   "metadata": {},
   "outputs": [],
   "source": [
    "a, b = (10, 12)\n",
    "print(a, b)"
   ]
  },
  {
   "cell_type": "code",
   "execution_count": null,
   "id": "dbf963ab",
   "metadata": {},
   "outputs": [],
   "source": [
    "# city = ['서울', '부산', '인천', '목표']\n",
    "city = ('서울', '부산', '인천', '목표')\n",
    "'='.join(city)"
   ]
  },
  {
   "cell_type": "code",
   "execution_count": null,
   "id": "88a86b7d",
   "metadata": {},
   "outputs": [],
   "source": [
    "T = ('서울', 3) \n",
    "print(type(T))"
   ]
  },
  {
   "cell_type": "code",
   "execution_count": null,
   "id": "25a9c243",
   "metadata": {},
   "outputs": [],
   "source": [
    "T = ['서울', 3] \n",
    "print(type(T))"
   ]
  },
  {
   "cell_type": "code",
   "execution_count": null,
   "id": "4a991bba",
   "metadata": {},
   "outputs": [],
   "source": [
    "T = ('서울', ) # 요소가 하나, 그래서 컴마를 넣어우어야 튜블이 된다\n",
    "print(type(T))"
   ]
  },
  {
   "cell_type": "code",
   "execution_count": null,
   "id": "77c49518",
   "metadata": {},
   "outputs": [],
   "source": [
    "T = ('서울') # 요소가 하나, 그래서 컴마를 넣어우어야 튜블이 된다\n",
    "print(type(T))"
   ]
  },
  {
   "cell_type": "code",
   "execution_count": null,
   "id": "0c50b35e",
   "metadata": {},
   "outputs": [],
   "source": [
    "#numbers = (1,2,3)        ()\n",
    "#numbers.append(4)\n",
    "#numbers.remove(3)   모두 튜브림으로 수정이 안됨\n",
    "number = [1,2,3]         #[]\n",
    "number.append(4)      # list ㅡ는 가능함\n",
    "sorted(numbers)\n",
    "min(numbers), sorted(numbers, reverse=True)"
   ]
  },
  {
   "cell_type": "code",
   "execution_count": null,
   "id": "b4091205",
   "metadata": {},
   "outputs": [],
   "source": [
    "numbers = (0, 1, 2, (1,2), 0, 1, 2)\n",
    "numbers.count(2), numbers.count(9)"
   ]
  },
  {
   "cell_type": "code",
   "execution_count": null,
   "id": "64777e9e",
   "metadata": {},
   "outputs": [],
   "source": [
    "if 9 in numbers:    \n",
    "    numbers.index(9)\n",
    "else:\n",
    "    print('no')"
   ]
  },
  {
   "cell_type": "code",
   "execution_count": null,
   "id": "f6700a74",
   "metadata": {},
   "outputs": [],
   "source": [
    "def safe_index(list, item):\n",
    "    \"\"\"\n",
    "    list 안에 item 요소가 있으면 item 요소의 index를 반환, 없으면 -1반환\n",
    "    list : 나열가능한 데이터\n",
    "    item : 찾을 데이터\n",
    "    \"\"\"\n",
    "    if item in list:\n",
    "        return list.index(item)     #여기서 return \n",
    "    else :\n",
    "        return -1\n",
    "    #  return list.index(item) if item in list else -1\n"
   ]
  },
  {
   "cell_type": "code",
   "execution_count": null,
   "id": "65b0ef3a",
   "metadata": {},
   "outputs": [],
   "source": [
    "from safe import safe_index\n",
    "numbers = (0, 1, 2, (1,2), 0, 1, 2)\n",
    "safe_index(numbers, 3)"
   ]
  },
  {
   "cell_type": "code",
   "execution_count": null,
   "id": "10d0d523",
   "metadata": {},
   "outputs": [],
   "source": [
    "numbers*3 # 반복"
   ]
  },
  {
   "cell_type": "code",
   "execution_count": null,
   "id": "be310b8f",
   "metadata": {},
   "outputs": [],
   "source": [
    "numbers = (1,2,3,4,5,6)\n",
    "\n",
    "[num**2 for num in numbers if num%2==0]"
   ]
  },
  {
   "cell_type": "markdown",
   "id": "d1ea11cb",
   "metadata": {},
   "source": [
    "# 3절. 딕셔너리\n",
    "- 중괄호를({}) 이용해서, 키(key) - 값(value) 쌍으로 구성된 자료구조\n",
    "- 키는 중복불가(유일한 값). 키에 list는 사용불가\n",
    "- 값은 중복불가\n",
    "- 인덱스를 이용한 참조 지원 안 함."
   ]
  },
  {
   "cell_type": "code",
   "execution_count": 9,
   "id": "60246487",
   "metadata": {},
   "outputs": [
    {
     "name": "stdout",
     "output_type": "stream",
     "text": [
      "<class 'dict'>\n",
      "{'name': '홍길동', 1: 22, (1, 2): [1, 2]}\n",
      "데이터 수 3\n"
     ]
    }
   ],
   "source": [
    "dic = {'name' : '홍길동', 1:22, (1,2):[1,2]}\n",
    "print(type(dic))\n",
    "print(dic)\n",
    "print(\"데이터 수\", len(dic))"
   ]
  },
  {
   "cell_type": "code",
   "execution_count": 10,
   "id": "5fa69dcf",
   "metadata": {},
   "outputs": [
    {
     "data": {
      "text/plain": [
       "{'fruit': 'apple', 'number': 12, 'sport': 'golf'}"
      ]
     },
     "execution_count": 10,
     "metadata": {},
     "output_type": "execute_result"
    }
   ],
   "source": [
    "my_favorite = {'fruit' : 'apple', 'number':12, 'sport':'golf'}\n",
    "my_favorite"
   ]
  },
  {
   "cell_type": "code",
   "execution_count": 11,
   "id": "7498c86f",
   "metadata": {},
   "outputs": [
    {
     "name": "stdout",
     "output_type": "stream",
     "text": [
      "apple\n"
     ]
    }
   ],
   "source": [
    "print(my_favorite['fruit'])"
   ]
  },
  {
   "cell_type": "code",
   "execution_count": null,
   "id": "ddfa2085",
   "metadata": {},
   "outputs": [],
   "source": [
    "#print(my_favorite['people']) # 없는 key 값을 인덱스 방식으로 참조시 에러\n",
    "print(my_favorite.get('people')) # 없는 키르 get 함수로 참조지 none 이 나온다\n",
    "print(my_favorite.get('people', '-')) # 없는 키를 get 함수로 참조시 '-'"
   ]
  },
  {
   "cell_type": "code",
   "execution_count": 57,
   "id": "74f76cb5",
   "metadata": {},
   "outputs": [
    {
     "name": "stdout",
     "output_type": "stream",
     "text": [
      "fruit 수정 후 : {'fruit': 'mango', 'number': 12, 'sport': 'golf'}\n",
      "{'fruit': 'mango', 'number': 12, 'sport': 'golf', 'people': '홍길동'}\n",
      "{'number': 12, 'sport': 'golf', 'people': '홍길동'}\n",
      "remove_data {'sport': 'golf', 'people': '홍길동'}\n"
     ]
    }
   ],
   "source": [
    "# dic 데이터 수정하기\n",
    "my_favorite = {'fruit' : 'apple', 'number':12, 'sport':'golf'}\n",
    "my_favorite['fruit'] = 'mango'\n",
    "print('fruit 수정 후 :', my_favorite)\n",
    "my_favorite['people']='홍길동' # 데이터 추가\n",
    "print(my_favorite)\n",
    "del my_favorite['fruit']\n",
    "print(my_favorite)\n",
    "remove_date = my_favorite.pop('number')   # 특정 키의 값을 반환하고 제거\n",
    "print('remove_data',my_favorite)"
   ]
  },
  {
   "cell_type": "code",
   "execution_count": 55,
   "id": "8066bdd4",
   "metadata": {},
   "outputs": [],
   "source": [
    "# for문을 이용한 튜플(리스트) 출력\n",
    "my_tup = ('홍길동', 30, '010-9999-9999')\n"
   ]
  },
  {
   "cell_type": "code",
   "execution_count": 56,
   "id": "097e8c12",
   "metadata": {},
   "outputs": [
    {
     "name": "stdout",
     "output_type": "stream",
     "text": [
      "홍길동\t30\t010-9999-9999\t\n",
      "0번째 홍길동\t1번째 30\t2번째 010-9999-9999\t\n",
      "0번째 홍길동\t1번째 30\t2번째 010-9999-9999\t"
     ]
    }
   ],
   "source": [
    "for data in my_tup:\n",
    "    print(data, end=\"\\t\")\n",
    "print()\n",
    "for idx in range(len(my_tup)):   # 여기서 len 의 값은 3이다 for idx in range(3)값을 통해서 범위 설정\n",
    "    print(f\"{idx}번째 {my_tup[idx]}\", end=\"\\t\")\n",
    "print()\n",
    "for idx, value in enumerate(my_tup):  # 나열가능한 함수 enumerate idx 와 value 값\n",
    "    print(f\"{idx}번째 {value}\", end=\"\\t\")"
   ]
  },
  {
   "cell_type": "code",
   "execution_count": 58,
   "id": "45133420",
   "metadata": {},
   "outputs": [],
   "source": [
    "my_dic = {'name' : '홍길동', 'age' : 30, 'tel':'010-9999-9999' }"
   ]
  },
  {
   "cell_type": "code",
   "execution_count": 61,
   "id": "cdd841db",
   "metadata": {},
   "outputs": [
    {
     "name": "stdout",
     "output_type": "stream",
     "text": [
      "name\tage\ttel\t"
     ]
    }
   ],
   "source": [
    "# 이 방법은 key 값만 추출을 하게 된다\n",
    "for data in my_dic:\n",
    "    print(data, end='\\t')"
   ]
  },
  {
   "cell_type": "code",
   "execution_count": 60,
   "id": "43cd6d24",
   "metadata": {},
   "outputs": [
    {
     "name": "stdout",
     "output_type": "stream",
     "text": [
      "홍길동\t30\t010-9999-9999\t"
     ]
    }
   ],
   "source": [
    "for key in my_dic:  #비추\n",
    "    print(my_dic[key], end='\\t')"
   ]
  },
  {
   "cell_type": "code",
   "execution_count": null,
   "id": "18d62fec",
   "metadata": {},
   "outputs": [],
   "source": [
    "for data in my_dic.values():\n",
    "    print(data, end='\\t')"
   ]
  },
  {
   "cell_type": "code",
   "execution_count": 62,
   "id": "a4e77b95",
   "metadata": {},
   "outputs": [
    {
     "data": {
      "text/plain": [
       "dict_values(['홍길동', 30, '010-9999-9999'])"
      ]
     },
     "execution_count": 62,
     "metadata": {},
     "output_type": "execute_result"
    }
   ],
   "source": [
    "my_dic.values() # 값만 추출"
   ]
  },
  {
   "cell_type": "code",
   "execution_count": 63,
   "id": "1efb79cd",
   "metadata": {},
   "outputs": [
    {
     "data": {
      "text/plain": [
       "dict_keys(['name', 'age', 'tel'])"
      ]
     },
     "execution_count": 63,
     "metadata": {},
     "output_type": "execute_result"
    }
   ],
   "source": [
    "my_dic.keys() # 키만 추출"
   ]
  },
  {
   "cell_type": "code",
   "execution_count": 64,
   "id": "34b024a1",
   "metadata": {},
   "outputs": [
    {
     "data": {
      "text/plain": [
       "dict_items([('name', '홍길동'), ('age', 30), ('tel', '010-9999-9999')])"
      ]
     },
     "execution_count": 64,
     "metadata": {},
     "output_type": "execute_result"
    }
   ],
   "source": [
    "my_dic.items() #키-값 쌍을 추출"
   ]
  },
  {
   "cell_type": "code",
   "execution_count": 65,
   "id": "8ecf16f4",
   "metadata": {},
   "outputs": [
    {
     "name": "stdout",
     "output_type": "stream",
     "text": [
      "name:홍길동\tage:30\ttel:010-9999-9999\t"
     ]
    }
   ],
   "source": [
    "for key, value in my_dic.items():\n",
    "    print(f\"{key}:{value}\", end='\\t')"
   ]
  },
  {
   "cell_type": "code",
   "execution_count": 66,
   "id": "55daf933",
   "metadata": {},
   "outputs": [
    {
     "data": {
      "text/plain": [
       "[(0, ('name', '홍길동')), (1, ('age', 30)), (2, ('tel', '010-9999-9999'))]"
      ]
     },
     "execution_count": 66,
     "metadata": {},
     "output_type": "execute_result"
    }
   ],
   "source": [
    "list(enumerate(my_dic.items()))"
   ]
  },
  {
   "cell_type": "code",
   "execution_count": null,
   "id": "d414a5ab",
   "metadata": {},
   "outputs": [],
   "source": [
    "for idx, (key, value) in enumerate(my_dic.items()):\n",
    "    print(\"{}.{} :{}\".format(idx+1, key, value))"
   ]
  },
  {
   "cell_type": "code",
   "execution_count": null,
   "id": "366ead17",
   "metadata": {},
   "outputs": [],
   "source": [
    "\"홍길동\" in my_dic"
   ]
  },
  {
   "cell_type": "code",
   "execution_count": null,
   "id": "e3d1c8c6",
   "metadata": {},
   "outputs": [],
   "source": [
    "\"홍길동\" in my_dic.values()"
   ]
  },
  {
   "cell_type": "code",
   "execution_count": null,
   "id": "e9c5a533",
   "metadata": {},
   "outputs": [],
   "source": [
    "# 얕은 복사\n",
    "my_favorite = {'fruit':'apple', 'number':12,} # 원본\n",
    "new_favorite = my_favorite # 복제본\n",
    "new_favorite['people'] = '홍길동'\n",
    "print(my_favorite)\n",
    "print(new_favorite)"
   ]
  },
  {
   "cell_type": "code",
   "execution_count": null,
   "id": "e9ce1718",
   "metadata": {},
   "outputs": [],
   "source": [
    "my_favortite = {'fruit':'apple', 'number':12} # 원본\n",
    "new_favorite = my_favorite.copy() # 복제본\n",
    "new_favorite['people'] = '홍길동'\n",
    "print(my_favorite)\n",
    "print(new_favorite)       # 한번더 보기"
   ]
  },
  {
   "cell_type": "code",
   "execution_count": null,
   "id": "6007d054",
   "metadata": {},
   "outputs": [],
   "source": [
    "# 깊은 복사\n",
    "my_favorite = {'fruit':'apple', 'number':12} # 원본\n",
    "new_favorite = my_favorite.copy() # 복제본(깊은 복사)\n",
    "new_favorite['people'] = '홍길동'\n",
    "print(my_favorite)\n",
    "print(new_favorite)"
   ]
  },
  {
   "cell_type": "markdown",
   "id": "87630eea",
   "metadata": {},
   "source": [
    "# 4절. 셋\n",
    "- 중복을 허용하지 않는 집합(순서없음 == 인덱스없음)\n",
    "- 중괄호({})나 set()함수를 이용해서 셋 생성\n",
    "- 추가 : add(), update()\n",
    "- 집합연산자 : &, |, -\n",
    "- 삭제 : remove()\n"
   ]
  },
  {
   "cell_type": "code",
   "execution_count": null,
   "id": "afe7a08b",
   "metadata": {},
   "outputs": [],
   "source": [
    "fruit = {'바나나', '오렌지', '바나나', '바나나', '사과'}\n",
    "fruit"
   ]
  },
  {
   "cell_type": "code",
   "execution_count": null,
   "id": "737ed906",
   "metadata": {},
   "outputs": [],
   "source": [
    "s1=set([1,20,1,21,1,22])\n",
    "s1"
   ]
  },
  {
   "cell_type": "code",
   "execution_count": null,
   "id": "d0c47c15",
   "metadata": {},
   "outputs": [],
   "source": [
    "# set함수를 이용해서 딕셔너리를 셋으로 전환할때는 key 적용\n",
    "my_favorite = {'fruit' : 'apple', 'number' :12}\n",
    "set(my_favorite)"
   ]
  },
  {
   "cell_type": "code",
   "execution_count": null,
   "id": "ac93b600",
   "metadata": {},
   "outputs": [],
   "source": [
    "추가하기\n",
    "- add() : 기본자료형, 튜플데이터를 하나의 요소로 추가할 경우\n",
    "- update() : 리스트, 튜플, 딕셔너리, 셋 요소 하나하나씩 추가할 경우. dict사용시 key 만 추가"
   ]
  },
  {
   "cell_type": "code",
   "execution_count": null,
   "id": "930eb1b2",
   "metadata": {},
   "outputs": [],
   "source": [
    "s2 = {1, 1, 2, 3}\n",
    "s2.add(4)\n",
    "s2.update([5,6,7])\n",
    "s2"
   ]
  },
  {
   "cell_type": "code",
   "execution_count": null,
   "id": "bb5a8a94",
   "metadata": {},
   "outputs": [],
   "source": [
    "s = {1,2,3}\n",
    "s.add(False)\n",
    "s.add(True)  # True 는 숫자 1을 나타낸 것이여서 있다고 생각해서 안들어 간다\n",
    "s.add(0)\n",
    "s            # False 가 0으로 인식되어서 안들어 가게 된다다\n"
   ]
  },
  {
   "cell_type": "code",
   "execution_count": null,
   "id": "4e6d160d",
   "metadata": {},
   "outputs": [],
   "source": [
    "s.remove(True)\n",
    "s\n"
   ]
  },
  {
   "cell_type": "markdown",
   "id": "264f8689",
   "metadata": {},
   "source": [
    "## 연산:&(교집합) |(합집합)-(차집합)\n",
    "&, | : 집합연산자, 논리연산자, 비트연산자"
   ]
  },
  {
   "cell_type": "code",
   "execution_count": null,
   "id": "bb895ca7",
   "metadata": {},
   "outputs": [],
   "source": [
    "s1={1,2,3,4,5}\n",
    "s2={3,4,5,6,7}\n",
    "print(s1|s2)\n",
    "print(s1&s2)\n",
    "print(s1-s2)"
   ]
  },
  {
   "cell_type": "markdown",
   "id": "df94cdb2",
   "metadata": {},
   "source": [
    "# 5.절 enumerate\n",
    "- 반복자 또는 순서 객체로 반복문을 처리할때 사용함수\n",
    "- 리스트, 튜플, 셋, 딕셔너리를 for문에 사용시"
   ]
  },
  {
   "cell_type": "code",
   "execution_count": 80,
   "id": "9301b6e7",
   "metadata": {},
   "outputs": [
    {
     "name": "stdout",
     "output_type": "stream",
     "text": [
      "길동\t영자\t길자\t"
     ]
    }
   ],
   "source": [
    "names = {'길자', '길동', '영자'}\n",
    "for name in names:\n",
    "    print(name, end='\\t')"
   ]
  },
  {
   "cell_type": "code",
   "execution_count": 81,
   "id": "22ae8b6b",
   "metadata": {},
   "outputs": [
    {
     "name": "stdout",
     "output_type": "stream",
     "text": [
      "0.길동\n",
      "1.영자\n",
      "2.길자\n"
     ]
    }
   ],
   "source": [
    "for i, name in enumerate(names):\n",
    "    print(f\"{i}.{name}\")"
   ]
  },
  {
   "cell_type": "code",
   "execution_count": null,
   "id": "836cd175",
   "metadata": {},
   "outputs": [],
   "source": [
    "names = ['순자', '길동', '길자']\n",
    "tels = ['010-9999-9999', '010-8888-8888', '010-7777-7777']\n",
    "adds = ['서울','인천','판교']\n",
    "for idx in range(len(names)):\n",
    "    print('{}.{}의 연락처는 {}고 {}에 살아요'.format(idx+1, names[idx], tels[idx], adds[idx]))"
   ]
  },
  {
   "cell_type": "code",
   "execution_count": null,
   "id": "723add68",
   "metadata": {},
   "outputs": [],
   "source": [
    "zip(names, tels, adds)"
   ]
  },
  {
   "cell_type": "code",
   "execution_count": null,
   "id": "bce39de6",
   "metadata": {},
   "outputs": [],
   "source": [
    "list(zip(names, tels, adds))"
   ]
  },
  {
   "cell_type": "code",
   "execution_count": null,
   "id": "8e169afb",
   "metadata": {},
   "outputs": [],
   "source": [
    "for name, tel, adds in zip(names, tels, adds):\n",
    "    print(f\"{names} : {tels} - {adds}\")"
   ]
  },
  {
   "cell_type": "code",
   "execution_count": null,
   "id": "9a2e3578",
   "metadata": {},
   "outputs": [],
   "source": [
    "for idx, (name, tel, add) in enumerate(zip(names, tels, adds)):\n",
    "    print(\"{}.{} :{}- {}\".format(idx+1, name, tel, add))"
   ]
  },
  {
   "cell_type": "code",
   "execution_count": null,
   "id": "49c7aff3",
   "metadata": {},
   "outputs": [],
   "source": [
    "# 연습문제 1\n",
    "numbers = [1,2,3,4,5,6,7,8,9,10]\n",
    "numbers.append(100)\n",
    "numbers"
   ]
  },
  {
   "cell_type": "code",
   "execution_count": null,
   "id": "e8f41b73",
   "metadata": {},
   "outputs": [],
   "source": [
    "# 연습문제 2"
   ]
  },
  {
   "cell_type": "code",
   "execution_count": 70,
   "id": "2637506b",
   "metadata": {},
   "outputs": [
    {
     "data": {
      "text/plain": [
       "[1, 2, 3, 4, 5, 6, 7, 8, 9, 10, 200, 300, 400, 500]"
      ]
     },
     "execution_count": 70,
     "metadata": {},
     "output_type": "execute_result"
    }
   ],
   "source": [
    "numbers = [1,2,3,4,5,6,7,8,9,10]\n",
    "numbers.extend([200,300,400,500])\n",
    "numbers"
   ]
  },
  {
   "cell_type": "code",
   "execution_count": 71,
   "id": "6c1c4cc6",
   "metadata": {},
   "outputs": [
    {
     "data": {
      "text/plain": [
       "[1, 2, 3, 4, 5]"
      ]
     },
     "execution_count": 71,
     "metadata": {},
     "output_type": "execute_result"
    }
   ],
   "source": [
    "# 연습문제 3번\n",
    "numbers[0:5:1]"
   ]
  },
  {
   "cell_type": "code",
   "execution_count": 73,
   "id": "1b9f17f4",
   "metadata": {},
   "outputs": [
    {
     "name": "stdout",
     "output_type": "stream",
     "text": [
      "[1, 3, 5, 7, 9]\n"
     ]
    }
   ],
   "source": [
    "# 연습문제 4번\n",
    "numbers = [1,2,3,4,5,6,7,8,9,10]\n",
    "[items for items in numbers if items%2==0]\n",
    "print(numbers[::2])"
   ]
  },
  {
   "cell_type": "code",
   "execution_count": 79,
   "id": "076aaec4",
   "metadata": {},
   "outputs": [
    {
     "data": {
      "text/plain": [
       "[0, 2, 0, 4, 0, 6, 0, 8, 0, 10]"
      ]
     },
     "execution_count": 79,
     "metadata": {},
     "output_type": "execute_result"
    }
   ],
   "source": [
    "# 연습문제 5번\n",
    "#numbers = [1,2,3,4,5,6,7,8,9,10]\n",
    "#numbers[::2]=['0']*5   # 이렇게 슬라이싱 할려면 갯수가 정확하게 해야 한다 *5와 같이\n",
    "#print(numbers)\n",
    "[numbers[idx] if idx%2!=0 else 0 for idx in range(len(numbers))]"
   ]
  },
  {
   "cell_type": "code",
   "execution_count": 53,
   "id": "1206634a",
   "metadata": {},
   "outputs": [
    {
     "data": {
      "text/plain": [
       "[10, 9, 8, 7, 6, 5, 4, 3, 2, 1]"
      ]
     },
     "execution_count": 53,
     "metadata": {},
     "output_type": "execute_result"
    }
   ],
   "source": [
    "# 연습문제 6번\n",
    "numbers = [1,2,3,4,5,6,7,8,9,10]\n",
    "numbers[::-1]\n",
    "#numbers.reverse()\n",
    "#numbers"
   ]
  },
  {
   "cell_type": "code",
   "execution_count": 13,
   "id": "4c520f9e",
   "metadata": {},
   "outputs": [],
   "source": [
    "# 연습문제 7번\n",
    "my_dic={\"name\": \"홍길동\", \"age\": 20, \"address\" : \"서울시 마포구\", \"score\": \"90\"}"
   ]
  },
  {
   "cell_type": "code",
   "execution_count": 14,
   "id": "93d901b6",
   "metadata": {},
   "outputs": [
    {
     "name": "stdout",
     "output_type": "stream",
     "text": [
      "{'name': '홍길동', 'age': 20, 'address': '서울시 마포구', 'score': '90'}\n"
     ]
    }
   ],
   "source": [
    "# 연습문제 7번\n",
    "print(my_dic)"
   ]
  },
  {
   "cell_type": "code",
   "execution_count": 16,
   "id": "2a79fb1f",
   "metadata": {},
   "outputs": [
    {
     "name": "stdout",
     "output_type": "stream",
     "text": [
      "서울시 마포구\n"
     ]
    }
   ],
   "source": [
    "# 연습문제 7번\n",
    "print(my_dic['address'])\n",
    "#print(my_dic.get('address'))     이 get 을 사용한 방법을 추천함"
   ]
  },
  {
   "cell_type": "code",
   "execution_count": 17,
   "id": "fa01a1fb",
   "metadata": {},
   "outputs": [
    {
     "name": "stdout",
     "output_type": "stream",
     "text": [
      "90\n"
     ]
    }
   ],
   "source": [
    "# 연습문제 8번\n",
    "print(my_dic['score'])"
   ]
  },
  {
   "cell_type": "code",
   "execution_count": 19,
   "id": "928852bc",
   "metadata": {},
   "outputs": [
    {
     "name": "stdout",
     "output_type": "stream",
     "text": [
      "{'name': '홍길동', 'age': 20, 'address': '서울시 마포구'}\n"
     ]
    }
   ],
   "source": [
    "#연습문제 8번\n",
    "remove_data = my_dic.pop('score')\n",
    "print(my_dic)"
   ]
  },
  {
   "cell_type": "code",
   "execution_count": 21,
   "id": "97157489",
   "metadata": {},
   "outputs": [
    {
     "data": {
      "text/plain": [
       "{'name': '홍길동', 'age': 20, 'address': '서울시 서대문구'}"
      ]
     },
     "execution_count": 21,
     "metadata": {},
     "output_type": "execute_result"
    }
   ],
   "source": [
    "#연습문제 9번\n",
    "my_dic['address']='서울시 서대문구'\n",
    "my_dic"
   ]
  },
  {
   "cell_type": "code",
   "execution_count": 27,
   "id": "298174cf",
   "metadata": {},
   "outputs": [
    {
     "data": {
      "text/plain": [
       "[('name', '홍길동'), ('age', 20), ('address', '서울시 서대문구')]"
      ]
     },
     "execution_count": 27,
     "metadata": {},
     "output_type": "execute_result"
    }
   ],
   "source": [
    "#연습문제 10번\n",
    "list(my_dic.items())"
   ]
  },
  {
   "cell_type": "code",
   "execution_count": 30,
   "id": "1c779f4e",
   "metadata": {},
   "outputs": [
    {
     "ename": "SyntaxError",
     "evalue": "invalid syntax (2044890217.py, line 3)",
     "output_type": "error",
     "traceback": [
      "\u001b[1;36m  Cell \u001b[1;32mIn[30], line 3\u001b[1;36m\u001b[0m\n\u001b[1;33m    2. 3\u001b[0m\n\u001b[1;37m       ^\u001b[0m\n\u001b[1;31mSyntaxError\u001b[0m\u001b[1;31m:\u001b[0m invalid syntax\n"
     ]
    }
   ],
   "source": [
    "# 연습문제 서술형\n",
    "1. [orange], [banana]\n",
    "2. 1\n",
    "3. 3\n",
    "4. extend\n",
    "8. 1(dic 여서 인덱스로 접근을 못함)\n",
    "9. apple, banana, orange\n",
    "10. 3\n",
    "11. def"
   ]
  },
  {
   "cell_type": "code",
   "execution_count": 39,
   "id": "85a019aa",
   "metadata": {},
   "outputs": [
    {
     "name": "stdout",
     "output_type": "stream",
     "text": [
      "[0, 1, 0, 3, 0, 5, 0, 7, 0, 9]\n"
     ]
    }
   ],
   "source": [
    "numbers = list(range(10))\n",
    "numbers[::2] = [0]*len(numbers[::2])\n",
    "print(numbers)  # 잘 모르겠습니다"
   ]
  },
  {
   "cell_type": "code",
   "execution_count": 44,
   "id": "32fb2be0",
   "metadata": {},
   "outputs": [
    {
     "name": "stdout",
     "output_type": "stream",
     "text": [
      "[5, 1, 6, 3, 7, 5, 8, 7, 9, 9]\n"
     ]
    }
   ],
   "source": [
    "numbers = [0,1,2,3,4,5,6,7,8,9]  \n",
    "numbers[::2] = numbers[5:]\n",
    "print(numbers)   # 잘 모르겠습니다"
   ]
  },
  {
   "cell_type": "code",
   "execution_count": 45,
   "id": "58d2fe03",
   "metadata": {},
   "outputs": [
    {
     "name": "stdout",
     "output_type": "stream",
     "text": [
      "[0, 1, 1, 3, 2, 5, 3, 7, 4, 9]\n"
     ]
    }
   ],
   "source": [
    "numbers = [0,1,2,3,4,5,6,7,8,9]\n",
    "numbers[::2] = numbers[:5](01234)\n",
    "print(numbers)  # 잘 모르겠습니다"
   ]
  },
  {
   "cell_type": "code",
   "execution_count": 46,
   "id": "b732cf96",
   "metadata": {},
   "outputs": [
    {
     "name": "stdout",
     "output_type": "stream",
     "text": [
      "3\n"
     ]
    }
   ],
   "source": []
  },
  {
   "cell_type": "code",
   "execution_count": null,
   "id": "644eb364",
   "metadata": {},
   "outputs": [],
   "source": []
  }
 ],
 "metadata": {
  "kernelspec": {
   "display_name": "Python 3 (ipykernel)",
   "language": "python",
   "name": "python3"
  },
  "language_info": {
   "codemirror_mode": {
    "name": "ipython",
    "version": 3
   },
   "file_extension": ".py",
   "mimetype": "text/x-python",
   "name": "python",
   "nbconvert_exporter": "python",
   "pygments_lexer": "ipython3",
   "version": "3.10.9"
  },
  "toc": {
   "base_numbering": 1,
   "nav_menu": {},
   "number_sections": false,
   "sideBar": true,
   "skip_h1_title": false,
   "title_cell": "Table of Contents",
   "title_sidebar": "Contents",
   "toc_cell": false,
   "toc_position": {
    "height": "calc(100% - 180px)",
    "left": "10px",
    "top": "150px",
    "width": "178.95px"
   },
   "toc_section_display": true,
   "toc_window_display": true
  }
 },
 "nbformat": 4,
 "nbformat_minor": 5
}
