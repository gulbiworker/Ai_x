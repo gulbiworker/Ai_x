{
 "cells": [
  {
   "cell_type": "code",
   "execution_count": 1,
   "id": "06db15cc",
   "metadata": {},
   "outputs": [
    {
     "data": {
      "text/html": [
       "\n",
       "<style>\n",
       "div.container{width:86% !important;}\n",
       "div.cell.code_cell.rendered{width:100%;}\n",
       "div.CodeMirror {font-family:Consolas; font-size:15pt;}\n",
       "div.output {font-size:15pt; font-weight:bold;}\n",
       "div.input {font-family:Consolas; font-size:15pt;}\n",
       "div.prompt {min-width:70px;\n",
       "div#toc-wrapper{padding-top:120px;}\n",
       "div.text_cell_render ul li{font-size:12pt;padding:5px;}\n",
       "table.dataframe{font-size:15px;}\n",
       "</style>\n"
      ],
      "text/plain": [
       "<IPython.core.display.HTML object>"
      ]
     },
     "metadata": {},
     "output_type": "display_data"
    }
   ],
   "source": [
    "from IPython.display import display, HTML\n",
    "display(HTML(\"\"\"\n",
    "<style>\n",
    "div.container{width:86% !important;}\n",
    "div.cell.code_cell.rendered{width:100%;}\n",
    "div.CodeMirror {font-family:Consolas; font-size:15pt;}\n",
    "div.output {font-size:15pt; font-weight:bold;}\n",
    "div.input {font-family:Consolas; font-size:15pt;}\n",
    "div.prompt {min-width:70px;\n",
    "div#toc-wrapper{padding-top:120px;}\n",
    "div.text_cell_render ul li{font-size:12pt;padding:5px;}\n",
    "table.dataframe{font-size:15px;}\n",
    "</style>\n",
    "\"\"\"))"
   ]
  },
  {
   "cell_type": "markdown",
   "id": "2ca72e0b",
   "metadata": {},
   "source": [
    "<font size=\"5\" color=\"red\">ch06 모듈과 패키지</font>\n",
    "- 모듈 : 함수, 변수, 클래스 등을 담고 있는 파이썬 코드 파일 (*py)\n",
    "- 패키지는 : 모듈들이 포함된 폴더\n",
    "# 1.절 파이썬 모듈 사용\n",
    "- 아나콘다는 1500개 이상의 패키지 install(정확한 갯수는 버전에 따라 상이)\n",
    "- miniconda : python.org버전보다 조금 많이 install(최소한의 것만)\n",
    "- pythn.org : 파이썬 인터프리터와 함께 파이썬 표줄 모듈 200여개 install(re, datetime)"
   ]
  },
  {
   "cell_type": "code",
   "execution_count": 3,
   "id": "18783aab",
   "metadata": {},
   "outputs": [
    {
     "data": {
      "text/plain": [
       "'Fri Apr 18 10:43:52 2025'"
      ]
     },
     "execution_count": 3,
     "metadata": {},
     "output_type": "execute_result"
    }
   ],
   "source": [
    "#1. import 모듈(패키지명) : 모듈안의 함수, 클래스, 변수를 모둘명.함수명().. 사용가능\n",
    "import time # time 모듈안의 모든 함수, 클래스, 변수를 메모리에  로드\n",
    "time.ctime()\n",
    "\n"
   ]
  },
  {
   "cell_type": "code",
   "execution_count": 6,
   "id": "a25db1ef",
   "metadata": {},
   "outputs": [
    {
     "data": {
      "text/plain": [
       "1744940727.3189342"
      ]
     },
     "execution_count": 6,
     "metadata": {},
     "output_type": "execute_result"
    }
   ],
   "source": [
    "time.time() "
   ]
  },
  {
   "cell_type": "code",
   "execution_count": 8,
   "id": "53d89951",
   "metadata": {},
   "outputs": [
    {
     "ename": "NameError",
     "evalue": "name 'time' is not defined",
     "output_type": "error",
     "traceback": [
      "\u001b[1;31m---------------------------------------------------------------------------\u001b[0m",
      "\u001b[1;31mNameError\u001b[0m                                 Traceback (most recent call last)",
      "Cell \u001b[1;32mIn[8], line 1\u001b[0m\n\u001b[1;32m----> 1\u001b[0m \u001b[38;5;28;01mdel\u001b[39;00m time\n",
      "\u001b[1;31mNameError\u001b[0m: name 'time' is not defined"
     ]
    }
   ],
   "source": [
    "del time #time 모듈에서 unload"
   ]
  },
  {
   "cell_type": "code",
   "execution_count": 9,
   "id": "cd59aac7",
   "metadata": {},
   "outputs": [],
   "source": [
    "# 2. from 모듈(a) import 함수|클래스|변수(B) : A모듈안의 B 만 load\n",
    "# from 패키지(A) import 모듈(B) : A 패키지안의 B 모듈을 load\n",
    "# from 패키지(A). 모듈명(B) import 함수|클래스|변수(c) : A 패키지밑의 B 모듈의 c 만 load"
   ]
  },
  {
   "cell_type": "code",
   "execution_count": 10,
   "id": "8bd81c2e",
   "metadata": {},
   "outputs": [],
   "source": [
    "from time import ctime, time"
   ]
  },
  {
   "cell_type": "code",
   "execution_count": 11,
   "id": "1b27e8b4",
   "metadata": {},
   "outputs": [
    {
     "data": {
      "text/plain": [
       "'Fri Apr 18 10:51:50 2025'"
      ]
     },
     "execution_count": 11,
     "metadata": {},
     "output_type": "execute_result"
    }
   ],
   "source": [
    "ctime()"
   ]
  },
  {
   "cell_type": "code",
   "execution_count": 12,
   "id": "b274565b",
   "metadata": {},
   "outputs": [
    {
     "data": {
      "text/plain": [
       "1744941113.3327885"
      ]
     },
     "execution_count": 12,
     "metadata": {},
     "output_type": "execute_result"
    }
   ],
   "source": [
    "time()"
   ]
  },
  {
   "cell_type": "code",
   "execution_count": 13,
   "id": "ab4a5e60",
   "metadata": {},
   "outputs": [],
   "source": [
    "del ctime, time"
   ]
  },
  {
   "cell_type": "code",
   "execution_count": 14,
   "id": "2bba5dbf",
   "metadata": {},
   "outputs": [],
   "source": [
    "# 3. import 모듈명 as 별칭 : 모듈을 메모리에서 load하고 별칭으로 사용\n",
    "import time as t"
   ]
  },
  {
   "cell_type": "code",
   "execution_count": 15,
   "id": "9526c392",
   "metadata": {},
   "outputs": [
    {
     "data": {
      "text/plain": [
       "'Fri Apr 18 10:56:18 2025'"
      ]
     },
     "execution_count": 15,
     "metadata": {},
     "output_type": "execute_result"
    }
   ],
   "source": [
    "t.ctime()"
   ]
  },
  {
   "cell_type": "code",
   "execution_count": 17,
   "id": "a28471b1",
   "metadata": {},
   "outputs": [
    {
     "data": {
      "text/plain": [
       "1744941434.4830053"
      ]
     },
     "execution_count": 17,
     "metadata": {},
     "output_type": "execute_result"
    }
   ],
   "source": [
    "t.time()"
   ]
  },
  {
   "cell_type": "code",
   "execution_count": 18,
   "id": "ab54c56c",
   "metadata": {},
   "outputs": [],
   "source": [
    "del t"
   ]
  },
  {
   "cell_type": "code",
   "execution_count": 19,
   "id": "55d0bfab",
   "metadata": {},
   "outputs": [],
   "source": [
    "# 4. from 모듈명 import 함수\n",
    "#    from 패키지명 import 모듈명\n",
    "#    from 패키지명.모듈명 import 함수 as 별칭"
   ]
  },
  {
   "cell_type": "code",
   "execution_count": 21,
   "id": "abe8cc45",
   "metadata": {},
   "outputs": [],
   "source": [
    "from time import ctime as ct, time as t\n",
    "from time import time as t"
   ]
  },
  {
   "cell_type": "code",
   "execution_count": 22,
   "id": "db3cbd71",
   "metadata": {},
   "outputs": [
    {
     "data": {
      "text/plain": [
       "('Fri Apr 18 11:00:06 2025', 1744941606.4805257)"
      ]
     },
     "execution_count": 22,
     "metadata": {},
     "output_type": "execute_result"
    }
   ],
   "source": [
    "ct(), t()"
   ]
  },
  {
   "cell_type": "markdown",
   "id": "0d91da1d",
   "metadata": {},
   "source": [
    "# 2절. 사용자 정의 모듈\n",
    "- 모듈 가져오는 순서 (1) 파이썬 표준 모듈 (2) sys.path변수에 저장된 경로"
   ]
  },
  {
   "cell_type": "code",
   "execution_count": 2,
   "id": "8be8862f",
   "metadata": {},
   "outputs": [
    {
     "data": {
      "text/plain": [
       "['C:\\\\Ai_x\\\\source\\\\01_python',\n",
       " 'C:\\\\Users\\\\Admin\\\\anaconda3\\\\python310.zip',\n",
       " 'C:\\\\Users\\\\Admin\\\\anaconda3\\\\DLLs',\n",
       " 'C:\\\\Users\\\\Admin\\\\anaconda3\\\\lib',\n",
       " 'C:\\\\Users\\\\Admin\\\\anaconda3',\n",
       " '',\n",
       " 'C:\\\\Users\\\\Admin\\\\anaconda3\\\\lib\\\\site-packages',\n",
       " 'C:\\\\Users\\\\Admin\\\\anaconda3\\\\lib\\\\site-packages\\\\win32',\n",
       " 'C:\\\\Users\\\\Admin\\\\anaconda3\\\\lib\\\\site-packages\\\\win32\\\\lib',\n",
       " 'C:\\\\Users\\\\Admin\\\\anaconda3\\\\lib\\\\site-packages\\\\Pythonwin']"
      ]
     },
     "execution_count": 2,
     "metadata": {},
     "output_type": "execute_result"
    }
   ],
   "source": [
    "import sys\n",
    "sys.path"
   ]
  },
  {
   "cell_type": "code",
   "execution_count": 3,
   "id": "34e8f77a",
   "metadata": {},
   "outputs": [
    {
     "data": {
      "text/plain": [
       "['C:\\\\Ai_x\\\\source\\\\01_python',\n",
       " 'C:\\\\Users\\\\Admin\\\\anaconda3\\\\python310.zip',\n",
       " 'C:\\\\Users\\\\Admin\\\\anaconda3\\\\DLLs',\n",
       " 'C:\\\\Users\\\\Admin\\\\anaconda3\\\\lib',\n",
       " 'C:\\\\Users\\\\Admin\\\\anaconda3',\n",
       " '',\n",
       " 'C:\\\\Users\\\\Admin\\\\anaconda3\\\\lib\\\\site-packages',\n",
       " 'C:\\\\Users\\\\Admin\\\\anaconda3\\\\lib\\\\site-packages\\\\win32',\n",
       " 'C:\\\\Users\\\\Admin\\\\anaconda3\\\\lib\\\\site-packages\\\\win32\\\\lib',\n",
       " 'C:\\\\Users\\\\Admin\\\\anaconda3\\\\lib\\\\site-packages\\\\Pythonwin',\n",
       " 'C:\\\\Ai_x\\\\source\\\\pylib']"
      ]
     },
     "execution_count": 3,
     "metadata": {},
     "output_type": "execute_result"
    }
   ],
   "source": [
    "sys.path.append(r'C:\\Ai_x\\source\\pylib')\n",
    "sys.path"
   ]
  },
  {
   "cell_type": "code",
   "execution_count": 4,
   "id": "47c0d17b",
   "metadata": {},
   "outputs": [
    {
     "data": {
      "text/plain": [
       "['C:\\\\Ai_x\\\\source\\\\01_python',\n",
       " 'C:\\\\Users\\\\Admin\\\\anaconda3\\\\python310.zip',\n",
       " 'C:\\\\Users\\\\Admin\\\\anaconda3\\\\DLLs',\n",
       " 'C:\\\\Users\\\\Admin\\\\anaconda3\\\\lib',\n",
       " 'C:\\\\Users\\\\Admin\\\\anaconda3',\n",
       " '',\n",
       " 'C:\\\\Users\\\\Admin\\\\anaconda3\\\\lib\\\\site-packages',\n",
       " 'C:\\\\Users\\\\Admin\\\\anaconda3\\\\lib\\\\site-packages\\\\win32',\n",
       " 'C:\\\\Users\\\\Admin\\\\anaconda3\\\\lib\\\\site-packages\\\\win32\\\\lib',\n",
       " 'C:\\\\Users\\\\Admin\\\\anaconda3\\\\lib\\\\site-packages\\\\Pythonwin',\n",
       " 'C:\\\\Ai_x\\\\source\\\\pylib']"
      ]
     },
     "execution_count": 4,
     "metadata": {},
     "output_type": "execute_result"
    }
   ],
   "source": [
    "sys.path"
   ]
  },
  {
   "cell_type": "markdown",
   "id": "4ac2f386",
   "metadata": {},
   "source": [
    "## 사용자 정의 모듈"
   ]
  },
  {
   "cell_type": "code",
   "execution_count": 32,
   "id": "896b9c06",
   "metadata": {},
   "outputs": [
    {
     "name": "stdout",
     "output_type": "stream",
     "text": [
      "0 1 1 2 3 5 8 13 21 34 55 89 144 \n",
      "[0, 1, 1, 2, 3, 5, 8, 13, 21, 34, 55, 89]\n"
     ]
    }
   ],
   "source": [
    "# 1\n",
    "import fibo\n",
    "fibo.fibonacci_print(200)\n",
    "print(fibo.fibonacci_return(100))"
   ]
  },
  {
   "cell_type": "code",
   "execution_count": 33,
   "id": "e1ba988c",
   "metadata": {},
   "outputs": [
    {
     "name": "stdout",
     "output_type": "stream",
     "text": [
      "0 1 1 2 3 5 8 13 21 34 55 89 \n",
      "None\n"
     ]
    }
   ],
   "source": [
    "print(fibo.fibonacci_print(100))"
   ]
  },
  {
   "cell_type": "code",
   "execution_count": 34,
   "id": "3bc0c143",
   "metadata": {},
   "outputs": [
    {
     "data": {
      "text/plain": [
       "[0, 1, 1, 2, 3, 5, 8, 13, 21, 34, 55, 89]"
      ]
     },
     "execution_count": 34,
     "metadata": {},
     "output_type": "execute_result"
    }
   ],
   "source": [
    "fibo.fibonacci_return(100)"
   ]
  },
  {
   "cell_type": "code",
   "execution_count": 35,
   "id": "761c2c9c",
   "metadata": {},
   "outputs": [],
   "source": [
    "del fibo\n"
   ]
  },
  {
   "cell_type": "code",
   "execution_count": 36,
   "id": "b9189f0b",
   "metadata": {},
   "outputs": [
    {
     "name": "stdout",
     "output_type": "stream",
     "text": [
      "0 1 1 2 3 5 8 13 21 34 55 89 \n"
     ]
    }
   ],
   "source": [
    "#2 \n",
    "from fibo import fibonacci_print\n",
    "fibonacci_print(100)"
   ]
  },
  {
   "cell_type": "code",
   "execution_count": 38,
   "id": "c3690042",
   "metadata": {},
   "outputs": [
    {
     "data": {
      "text/plain": [
       "[0, 1, 1, 2, 3, 5, 8, 13, 21, 34, 55, 89]"
      ]
     },
     "execution_count": 38,
     "metadata": {},
     "output_type": "execute_result"
    }
   ],
   "source": [
    "from fibo import fibonacci_return\n",
    "fibonacci_return(100)"
   ]
  },
  {
   "cell_type": "code",
   "execution_count": 40,
   "id": "2b2574ac",
   "metadata": {},
   "outputs": [
    {
     "name": "stdout",
     "output_type": "stream",
     "text": [
      "0 1 1 2 3 5 8 13 21 34 55 89 144 \n",
      "0 1 1 2 3 5 8 13 21 34 55 89 144 \n",
      "None\n"
     ]
    }
   ],
   "source": [
    "# 3\n",
    "import fibo as f\n",
    "f.fibonacci_print(200)\n",
    "print(f.fibonacci_print(200))"
   ]
  },
  {
   "cell_type": "code",
   "execution_count": 41,
   "id": "bb4fbea1",
   "metadata": {},
   "outputs": [
    {
     "data": {
      "text/plain": [
       "[0, 1, 1, 2, 3, 5, 8, 13, 21, 34, 55, 89, 144]"
      ]
     },
     "execution_count": 41,
     "metadata": {},
     "output_type": "execute_result"
    }
   ],
   "source": [
    "#4\n",
    "from fibo import fibonacci_return as fibo_r\n",
    "fibo_r(200)"
   ]
  },
  {
   "cell_type": "markdown",
   "id": "77b5bc50",
   "metadata": {},
   "source": [
    "# 사용자 정의 패키지와 모듈"
   ]
  },
  {
   "cell_type": "markdown",
   "id": "7210e7ff",
   "metadata": {},
   "source": [
    "# 3절 패키지"
   ]
  },
  {
   "cell_type": "code",
   "execution_count": 3,
   "id": "e87021b8",
   "metadata": {},
   "outputs": [],
   "source": [
    "import sys\n",
    "sys.path.append(f'C:\\Ai_x\\source\\pylib')"
   ]
  },
  {
   "cell_type": "code",
   "execution_count": 4,
   "id": "849d4ea3",
   "metadata": {},
   "outputs": [
    {
     "name": "stdout",
     "output_type": "stream",
     "text": [
      "smaple_pac 패키지르 로드 했습니다.\n"
     ]
    }
   ],
   "source": [
    "import sample_pac"
   ]
  },
  {
   "cell_type": "code",
   "execution_count": 5,
   "id": "1f900e53",
   "metadata": {},
   "outputs": [
    {
     "name": "stdout",
     "output_type": "stream",
     "text": [
      "sample_pac패키지 안의 ab 패키지 로드됩니다\n"
     ]
    }
   ],
   "source": [
    "from sample_pac.ab import *"
   ]
  },
  {
   "cell_type": "code",
   "execution_count": 15,
   "id": "c3367c57",
   "metadata": {},
   "outputs": [
    {
     "name": "stdout",
     "output_type": "stream",
     "text": [
      "sample_pac/ab/a모듈의 hello\n"
     ]
    }
   ],
   "source": [
    "a.hello()"
   ]
  },
  {
   "cell_type": "code",
   "execution_count": 13,
   "id": "069f352f",
   "metadata": {
    "scrolled": true
   },
   "outputs": [
    {
     "ename": "NameError",
     "evalue": "name 'b' is not defined",
     "output_type": "error",
     "traceback": [
      "\u001b[1;31m---------------------------------------------------------------------------\u001b[0m",
      "\u001b[1;31mNameError\u001b[0m                                 Traceback (most recent call last)",
      "Cell \u001b[1;32mIn[13], line 1\u001b[0m\n\u001b[1;32m----> 1\u001b[0m \u001b[43mb\u001b[49m\u001b[38;5;241m.\u001b[39mworld()\n",
      "\u001b[1;31mNameError\u001b[0m: name 'b' is not defined"
     ]
    }
   ],
   "source": [
    "b.world()"
   ]
  },
  {
   "cell_type": "code",
   "execution_count": 9,
   "id": "fa56fdda",
   "metadata": {},
   "outputs": [
    {
     "name": "stdout",
     "output_type": "stream",
     "text": [
      "sample_pac/ab/b모듈안의 world\n"
     ]
    }
   ],
   "source": [
    "from sample_pac.ab.b import world\n",
    "world()"
   ]
  },
  {
   "cell_type": "code",
   "execution_count": 16,
   "id": "665e5e71",
   "metadata": {
    "scrolled": true
   },
   "outputs": [
    {
     "name": "stdout",
     "output_type": "stream",
     "text": [
      "sample_pac/cd/c 모듈안의 nice\n",
      "sample_pac/ab/a모듈의 hello\n"
     ]
    }
   ],
   "source": [
    "import sample_pac.cd.c as c\n",
    "c.nice()"
   ]
  },
  {
   "cell_type": "code",
   "execution_count": 17,
   "id": "92da747c",
   "metadata": {},
   "outputs": [
    {
     "name": "stdout",
     "output_type": "stream",
     "text": [
      "sample_pac/ab/a모듈의 hello\n"
     ]
    }
   ],
   "source": [
    "c.a.hello()"
   ]
  },
  {
   "cell_type": "markdown",
   "id": "d0df7c7f",
   "metadata": {},
   "source": [
    "# 4절. 패키지 설치 및 삭제\n",
    "\n",
    "* 아나콘다 프롬프트에서 실행\n",
    "- 패키지 설치 방법 : pip install 패키지명[==버전] / conda install 패키지명[==버전]\n",
    "-                  \n",
    "- 패키지 확인 : pip show 패키지명                / conda list 패키지명\n",
    "- 패키지 삭제 : pip unistall 패키지명            / conda remove 패키지명"
   ]
  },
  {
   "cell_type": "code",
   "execution_count": 20,
   "id": "b509e504",
   "metadata": {},
   "outputs": [],
   "source": [
    "import objgraph   # 메모리 사용량 출력하는 함수"
   ]
  },
  {
   "cell_type": "code",
   "execution_count": 22,
   "id": "26a14648",
   "metadata": {},
   "outputs": [
    {
     "name": "stdout",
     "output_type": "stream",
     "text": [
      "dict          34132\n",
      "list          26241\n",
      "function      18544\n",
      "Token         16819\n",
      "tuple         13357\n",
      "Operator      8519\n",
      "Name          7992\n",
      "ReferenceType 5520\n",
      "DFAPlan       5418\n",
      "PythonNode    4827\n"
     ]
    }
   ],
   "source": [
    "objgraph.show_most_common_types()"
   ]
  },
  {
   "cell_type": "markdown",
   "id": "6c591be9",
   "metadata": {},
   "source": [
    "# 5절. 연습문제"
   ]
  },
  {
   "cell_type": "code",
   "execution_count": null,
   "id": "e5337620",
   "metadata": {},
   "outputs": [],
   "source": [
    "#1 (3)\n",
    "#2 (4)\n",
    "#3 __init__.py\n",
    "#4 __all__\n",
    "#5 (1) python -m pip install   --upgrade pip(최신버전으로 upgrade)"
   ]
  },
  {
   "cell_type": "code",
   "execution_count": null,
   "id": "b82fd8bc",
   "metadata": {},
   "outputs": [],
   "source": []
  },
  {
   "cell_type": "code",
   "execution_count": null,
   "id": "7820f5b7",
   "metadata": {},
   "outputs": [],
   "source": []
  },
  {
   "cell_type": "code",
   "execution_count": null,
   "id": "1b604e98",
   "metadata": {},
   "outputs": [],
   "source": []
  },
  {
   "cell_type": "code",
   "execution_count": null,
   "id": "fe916227",
   "metadata": {},
   "outputs": [],
   "source": []
  },
  {
   "cell_type": "code",
   "execution_count": null,
   "id": "164f44f2",
   "metadata": {},
   "outputs": [],
   "source": []
  }
 ],
 "metadata": {
  "kernelspec": {
   "display_name": "Python 3 (ipykernel)",
   "language": "python",
   "name": "python3"
  },
  "language_info": {
   "codemirror_mode": {
    "name": "ipython",
    "version": 3
   },
   "file_extension": ".py",
   "mimetype": "text/x-python",
   "name": "python",
   "nbconvert_exporter": "python",
   "pygments_lexer": "ipython3",
   "version": "3.10.9"
  },
  "toc": {
   "base_numbering": 1,
   "nav_menu": {},
   "number_sections": false,
   "sideBar": true,
   "skip_h1_title": false,
   "title_cell": "Table of Contents",
   "title_sidebar": "Contents",
   "toc_cell": false,
   "toc_position": {},
   "toc_section_display": true,
   "toc_window_display": false
  }
 },
 "nbformat": 4,
 "nbformat_minor": 5
}
