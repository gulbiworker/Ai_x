{
 "cells": [
  {
   "cell_type": "code",
   "execution_count": 1,
   "id": "8810d048",
   "metadata": {},
   "outputs": [
    {
     "data": {
      "text/html": [
       "\n",
       "<style>\n",
       "div.container{width:86% !important;}\n",
       "div.cell.code_cell.rendered{width:100%;}\n",
       "div.CodeMirror {font-family:Consolas; font-size:15pt;}\n",
       "div.output {font-size:15pt; font-weight:bold;}\n",
       "div.input {font-family:Consolas; font-size:15pt;}\n",
       "div.prompt {min-width:70px;\n",
       "div#toc-wrapper{padding-top:120px;}\n",
       "div.text_cell_render ul li{font-size:12pt;padding:5px;}\n",
       "table.dataframe{font-size:15px;}\n",
       "</style>\n"
      ],
      "text/plain": [
       "<IPython.core.display.HTML object>"
      ]
     },
     "metadata": {},
     "output_type": "display_data"
    }
   ],
   "source": [
    "from IPython.display import display, HTML\n",
    "display(HTML(\"\"\"\n",
    "<style>\n",
    "div.container{width:86% !important;}\n",
    "div.cell.code_cell.rendered{width:100%;}\n",
    "div.CodeMirror {font-family:Consolas; font-size:15pt;}\n",
    "div.output {font-size:15pt; font-weight:bold;}\n",
    "div.input {font-family:Consolas; font-size:15pt;}\n",
    "div.prompt {min-width:70px;\n",
    "div#toc-wrapper{padding-top:120px;}\n",
    "div.text_cell_render ul li{font-size:12pt;padding:5px;}\n",
    "table.dataframe{font-size:15px;}\n",
    "</style>\n",
    "\"\"\"))"
   ]
  },
  {
   "cell_type": "markdown",
   "id": "3059939d",
   "metadata": {},
   "source": [
    "<font size=\"5\" color=\"red\">ch07 객체 지향 프로그래밍</font>"
   ]
  },
  {
   "cell_type": "code",
   "execution_count": 2,
   "id": "f4e95b0c",
   "metadata": {},
   "outputs": [
    {
     "name": "stdout",
     "output_type": "stream",
     "text": [
      "홍길동 남자 MBC\n",
      "홍낄쑥 None MBC\n",
      "{'name': '홍낄쑥', 'sender': '여자', 'accademy': 'MBC'}\n"
     ]
    }
   ],
   "source": [
    "person1 = {'name':'홍길동', 'gender':'남자', 'accademy':'MBC'}\n",
    "person2 = {'name': '홍길숙','sender':'여자', 'accademy':'MBC'}\n",
    "print(person1['name'], person1['gender'], person1['accademy'])\n",
    "person2['name'] = '홍낄쑥'\n",
    "print(person2['name'], person2.get('gender'), person2['accademy'])\n",
    "print(person2)"
   ]
  },
  {
   "cell_type": "code",
   "execution_count": 3,
   "id": "8a4f702d",
   "metadata": {},
   "outputs": [],
   "source": [
    "class Person:             # class 변수는 대문자로 시작한다 \n",
    "    accademy = \"MBC\" # 클래스 변수\n",
    "    def __init__(self, name, gender): # 생성자 함수(self, 매개, 매개)\n",
    "        self.name = name # 객체안의 변수(인스턴스 변수)\n",
    "        self.gender = gender\n",
    "    def print_info(self):\n",
    "        print(\"{}는{}입니다 {}를 다닙니다\".format(self.name,\n",
    "                                               self.gender,\n",
    "                                               self.accademy))\n",
    "    def __str__(self):\n",
    "        return \"{}는 {}입니다 {}를 다닙니다\".format(self.name,\n",
    "                                                 self.gender,\n",
    "                                                 self.accademy)"
   ]
  },
  {
   "cell_type": "code",
   "execution_count": 4,
   "id": "6cbe2b6f",
   "metadata": {},
   "outputs": [
    {
     "name": "stdout",
     "output_type": "stream",
     "text": [
      "홍길동는남자입니다 MBC를 다닙니다\n",
      "홍길숙는여자입니다 MBC를 다닙니다\n",
      "마길동는남자입니다 cbc를 다닙니다\n",
      "홍길숙는여자입니다 MBC를 다닙니다\n",
      "마길동는 남자입니다 cbc를 다닙니다\n",
      "홍길숙는 여자입니다 MBC를 다닙니다\n",
      "마길동는 남자입니다 cbc를 다닙니다\n",
      "홍길숙는 여자입니다 MBC를 다닙니다\n"
     ]
    }
   ],
   "source": [
    "p1 = Person(\"홍길동\",\"남자\")\n",
    "p2 = Person(\"홍길숙\",\"여자\")\n",
    "p1.print_info()\n",
    "p2.print_info()\n",
    "p1.name = '마길동'\n",
    "p1.accademy = 'cbc'\n",
    "p1.print_info()\n",
    "p2.print_info()\n",
    "print(p1.__str__())\n",
    "print(p2.__str__())\n",
    "print(p1)                 # str 함수를 넣어서 print(p1) 해도 출력된다\n",
    "print(p2)"
   ]
  },
  {
   "cell_type": "markdown",
   "id": "f63e2926",
   "metadata": {},
   "source": [
    "# 1.절 객체와 클래스\n",
    "class 클래스명(상속받을 클래스명):\n",
    "    변수나 함수들 선언"
   ]
  },
  {
   "cell_type": "code",
   "execution_count": 5,
   "id": "c6406204",
   "metadata": {},
   "outputs": [
    {
     "name": "stdout",
     "output_type": "stream",
     "text": [
      "<__main__.Person object at 0x000001BE97CB3DF0>\n",
      "<class '__main__.Person'>\n"
     ]
    }
   ],
   "source": [
    "class Person:\n",
    "    '''\n",
    "    Person 클래스는 어쩌구 저쩌구 설명하는 독스트링\n",
    "    생성자 함수가 없을 경우, 디폴트 생성자 함수가 자동 생성\n",
    "    '''\n",
    "    pass\n",
    "p1 = Person()\n",
    "print(p1.__str__())\n",
    "print(type(p1))"
   ]
  },
  {
   "cell_type": "code",
   "execution_count": 6,
   "id": "cb5a9db4",
   "metadata": {},
   "outputs": [
    {
     "data": {
      "text/plain": [
       "True"
      ]
     },
     "execution_count": 6,
     "metadata": {},
     "output_type": "execute_result"
    }
   ],
   "source": [
    "isinstance(p1, Person)"
   ]
  },
  {
   "cell_type": "code",
   "execution_count": 7,
   "id": "6c958f69",
   "metadata": {},
   "outputs": [
    {
     "data": {
      "text/plain": [
       "'\\n    Person 클래스는 어쩌구 저쩌구 설명하는 독스트링\\n    생성자 함수가 없을 경우, 디폴트 생성자 함수가 자동 생성\\n    '"
      ]
     },
     "execution_count": 7,
     "metadata": {},
     "output_type": "execute_result"
    }
   ],
   "source": [
    "p1.__doc__"
   ]
  },
  {
   "cell_type": "markdown",
   "id": "a4374e6d",
   "metadata": {},
   "source": [
    "# 2절. 생성자와 소멸자\n",
    "- 생성자는 __inti__(self, 매개변수,...) - 객체가 생성될 때 자동 실행 : 쓰는 이유는 객체 생성시 필요한 인스턴스 변수 초기화 포함\n",
    "- 소멸자는 __del__(self) - 객체가 소멸될때 자동 실행 : 인스턴스 객체의 레퍼런스 카운트가 0이 될 때 실행\n",
    "           "
   ]
  },
  {
   "cell_type": "code",
   "execution_count": 8,
   "id": "7ce2706a",
   "metadata": {},
   "outputs": [],
   "source": [
    "class Person:\n",
    "  #  def __init__(self,name,gender):\n",
    "  #      self.name = name                #self 를 넣어야한다   인스턴스 변수\n",
    "  #      self.gender = gender\n",
    "  #      print('Person 객체를 생성합니다', name)\n",
    "    def __init__(self, name, gender='남자'):   # 파이썬은 함수 오버로딩(함수 중복 정의) 지원 안됨\n",
    "        self.name = name\n",
    "        self.gender = gender    # 인스턴스 변수\n",
    "        print('person 객체 생성시킵니다', name)\n",
    "    def __del__(self):\n",
    "        print(\"person 객체 소멸시킵니다\", self.name)\n",
    "    def print_info(self):\n",
    "        print(\"{}는{}입니다\".format(self.name, self.gender))\n",
    "    def __str__(self): # 오버라이딩(함수를 다시 재정비 하는것)\n",
    "        return f\"{self.name}는 {self.gender}입니다\""
   ]
  },
  {
   "cell_type": "code",
   "execution_count": 9,
   "id": "6dcdc610",
   "metadata": {},
   "outputs": [
    {
     "name": "stdout",
     "output_type": "stream",
     "text": [
      "person 객체 생성시킵니다 신사임당, 여자\n"
     ]
    }
   ],
   "source": [
    "p1 = Person(\"신사임당, 여자\")\n"
   ]
  },
  {
   "cell_type": "code",
   "execution_count": 10,
   "id": "57257749",
   "metadata": {},
   "outputs": [
    {
     "name": "stdout",
     "output_type": "stream",
     "text": [
      "person 객체 생성시킵니다 홍길동\n",
      "홍길동는 남자입니다\n"
     ]
    }
   ],
   "source": [
    "p2=Person(\"홍길동\")\n",
    "print(p2)"
   ]
  },
  {
   "cell_type": "code",
   "execution_count": 11,
   "id": "a2ba1e57",
   "metadata": {},
   "outputs": [],
   "source": [
    "p3=p2"
   ]
  },
  {
   "cell_type": "code",
   "execution_count": 12,
   "id": "46b3c292",
   "metadata": {},
   "outputs": [
    {
     "name": "stdout",
     "output_type": "stream",
     "text": [
      "person 객체 소멸시킵니다 신사임당, 여자\n"
     ]
    }
   ],
   "source": [
    "del p1"
   ]
  },
  {
   "cell_type": "code",
   "execution_count": 13,
   "id": "969ded87",
   "metadata": {},
   "outputs": [],
   "source": [
    "del p2"
   ]
  },
  {
   "cell_type": "code",
   "execution_count": 14,
   "id": "f3010954",
   "metadata": {},
   "outputs": [
    {
     "name": "stdout",
     "output_type": "stream",
     "text": [
      "person 객체 소멸시킵니다 홍길동\n"
     ]
    }
   ],
   "source": [
    "del p3"
   ]
  },
  {
   "cell_type": "markdown",
   "id": "08c282e4",
   "metadata": {},
   "source": [
    "# 3절. 변수와 메소드(함수)\n",
    "- 인스턴스 변수 VS 클래스 변수 \n",
    "- 인스턴스 메소드(self) vs 클래스메소드(clz) vs stastic 메소드()"
   ]
  },
  {
   "cell_type": "code",
   "execution_count": 15,
   "id": "ac3db56d",
   "metadata": {},
   "outputs": [
    {
     "name": "stdout",
     "output_type": "stream",
     "text": [
      "홍길동 남자\n"
     ]
    }
   ],
   "source": [
    "class Person:\n",
    "    name = '홍길동' # 클래스 변수\n",
    "    gender = '남자'\n",
    "print(Person.name, Person.gender)"
   ]
  },
  {
   "cell_type": "code",
   "execution_count": 16,
   "id": "638d900c",
   "metadata": {},
   "outputs": [
    {
     "name": "stdout",
     "output_type": "stream",
     "text": [
      "홍길동 남자\n",
      "홍길동 남자\n",
      "홍길동 남자\n"
     ]
    }
   ],
   "source": [
    "p1 = Person()\n",
    "p2 = Person()\n",
    "print(Person.name, Person.gender)\n",
    "print(p1.name, p2.gender)\n",
    "print(p2.name, p2.gender)"
   ]
  },
  {
   "cell_type": "code",
   "execution_count": 17,
   "id": "2bbe6430",
   "metadata": {},
   "outputs": [
    {
     "name": "stdout",
     "output_type": "stream",
     "text": [
      "홍길동 남자\n",
      "홍길동 남자\n",
      "이순신 남자\n"
     ]
    }
   ],
   "source": [
    "p2.name = \"이순신\"\n",
    "print(Person.name, Person.gender)\n",
    "print(p1.name, p2.gender)\n",
    "print(p2.name, p2.gender)"
   ]
  },
  {
   "cell_type": "code",
   "execution_count": 18,
   "id": "0a64b4ea",
   "metadata": {},
   "outputs": [],
   "source": [
    "Person.name = '리사'\n",
    "Person.gender = '여자'"
   ]
  },
  {
   "cell_type": "code",
   "execution_count": 19,
   "id": "ea66a61e",
   "metadata": {},
   "outputs": [
    {
     "name": "stdout",
     "output_type": "stream",
     "text": [
      "리사 여자\n",
      "리사 여자\n",
      "이순신 여자\n"
     ]
    }
   ],
   "source": [
    "print(Person.name, Person.gender)\n",
    "print(p1.name, p2.gender)\n",
    "print(p2.name, p2.gender)"
   ]
  },
  {
   "cell_type": "markdown",
   "id": "3c0f58a6",
   "metadata": {},
   "source": [
    "   인스턴스 메소드(self) vs 클래스메소드(clz) vs stastic 메소드()\n",
    "- 인스턴스 메소드 : 첫번째 인자에 self를 꼭 명시. 객체를 통해서만 호출할 수 있는 메소드\n",
    "- 클래스 메소드 : 메소드위에 @classmethod를 선언한 메소드. 첫번째 인자에 cls(clz) 꼭 명시\n",
    "- static 메소드 : 메소드위에 @staticmethod를 선안한 메소드. 인자를 넣지 않음 "
   ]
  },
  {
   "cell_type": "code",
   "execution_count": 20,
   "id": "62052e3e",
   "metadata": {},
   "outputs": [],
   "source": [
    "class Person:\n",
    "    name = '홍길동'\n",
    "    gender = '남자'\n",
    "    def print_info(self): # 객체변수명.print_info()로 호출\n",
    "        print(f\"인스턴스메소드 - {self.name}는 {self.gender}입니다\")\n",
    "    def change_info(self, name, gender=\"남자\"): # 객체변수.change_info(\"김\",\"여자\")\n",
    "        self.name = name\n",
    "        self.gender = gender\n",
    "        print(f\"인스턴스(일반)메소드 - {self.name}/{self,gender}로 변경 완료\")\n",
    "    @classmethod\n",
    "    def do_(clz) : #clz==person 클래스 변수를 이용한 로직 Person.do_()호출\n",
    "        clz.name = \"신사임당\"\n",
    "        clz.gender = \"여자\"\n",
    "        print(f\"클래스 메소드 -{clz.name}/{clz.gender} 변경완료\")\n",
    "    @staticmethod\n",
    "    def that_():  # 매개변수가 안들어가는것이 일반적, 클래스 변수를 이용하는것보다 로직이 우선일때 사용됨. Person.that_()\n",
    "        Person.name=\"신길동\"\n",
    "        Person.gender=\"남자\"\n",
    "        print(f\"static 메소드 -{Person.name}/{Person.gender} 변경완료\")"
   ]
  },
  {
   "cell_type": "code",
   "execution_count": 21,
   "id": "90788b5e",
   "metadata": {},
   "outputs": [
    {
     "name": "stdout",
     "output_type": "stream",
     "text": [
      "인스턴스메소드 - 홍길동는 남자입니다\n"
     ]
    }
   ],
   "source": [
    "p1 = Person()\n",
    "p1.print_info()"
   ]
  },
  {
   "cell_type": "code",
   "execution_count": 22,
   "id": "b9d83157",
   "metadata": {},
   "outputs": [
    {
     "name": "stdout",
     "output_type": "stream",
     "text": [
      "클래스 메소드 -신사임당/여자 변경완료\n"
     ]
    }
   ],
   "source": [
    "Person.do_()"
   ]
  },
  {
   "cell_type": "code",
   "execution_count": 23,
   "id": "69047d47",
   "metadata": {},
   "outputs": [
    {
     "name": "stdout",
     "output_type": "stream",
     "text": [
      "static 메소드 -신길동/남자 변경완료\n"
     ]
    }
   ],
   "source": [
    "Person.that_()"
   ]
  },
  {
   "cell_type": "code",
   "execution_count": 24,
   "id": "f43ef2dd",
   "metadata": {},
   "outputs": [
    {
     "name": "stdout",
     "output_type": "stream",
     "text": [
      "인스턴스메소드 - 신길동는 남자입니다\n"
     ]
    }
   ],
   "source": [
    "p1.print_info()"
   ]
  },
  {
   "cell_type": "markdown",
   "id": "667f056c",
   "metadata": {},
   "source": [
    "## 요약\n",
    "** 객체를 이용하면 객체에 정보를 저장하고, 그 정보를 이용해서 어떤 기능을 수행할 수 있다.**\n",
    "* 객체 = 데이터(변수: 객체마다 고유의 값) + 기능(메소드, 함수)**\n",
    "\n",
    "** 그 객체를 만들이 위한 틀 => 클래스 **\n",
    "```\n",
    "class 클래스 명 : \n",
    "       `독스트링`\n",
    "       클래스변수명 = 값\n",
    "       def __init__(self, [갹체멤버를 초기화 할 변수 = 값, ...]):\n",
    "            self.인스턴스(일반)변수 = 값\n",
    "            객체를 생성할 때 객체 멤버변수의 초기화\n",
    "       def method(self):\n",
    "            인스턴스 메소드(일반함수의) 매개변수는 self를 반드시 포함\n",
    "         @ classmethod\n",
    "           def  classmethod(cls): \n",
    "             코드 \n",
    "         @ staticmethod\n",
    "            def staticmethod():\n",
    "                 코드\n",
    "                 \n",
    "            객체변수 = 클래스명()\n",
    "            객체변수.method()\n",
    "            클래스명.classmethod()\n",
    "            클래스명.staricmethod()\n",
    "       ```"
   ]
  },
  {
   "cell_type": "code",
   "execution_count": 25,
   "id": "e503ddae",
   "metadata": {},
   "outputs": [],
   "source": [
    "class Person:\n",
    "    def __init__(self,name):\n",
    "        self.name = name\n",
    "    def __str__(self):\n",
    "        return f'{self.name} 입니다'\n",
    "    def print_info(self):\n",
    "        print(f'{self.name}입니다')\n"
   ]
  },
  {
   "cell_type": "code",
   "execution_count": 26,
   "id": "307e2822",
   "metadata": {},
   "outputs": [
    {
     "ename": "SyntaxError",
     "evalue": "invalid syntax (449070008.py, line 1)",
     "output_type": "error",
     "traceback": [
      "\u001b[1;36m  Cell \u001b[1;32mIn[26], line 1\u001b[1;36m\u001b[0m\n\u001b[1;33m    p=Person()   이건 name 부분이 빠져 있어서 에러가 뜨게 된다.\u001b[0m\n\u001b[1;37m                 ^\u001b[0m\n\u001b[1;31mSyntaxError\u001b[0m\u001b[1;31m:\u001b[0m invalid syntax\n"
     ]
    }
   ],
   "source": [
    "p=Person()   이건 name 부분이 빠져 있어서 에러가 뜨게 된다."
   ]
  },
  {
   "cell_type": "code",
   "execution_count": null,
   "id": "dd846fc5",
   "metadata": {},
   "outputs": [],
   "source": [
    "p=Person(\"홍길동\")\n",
    "p.print_info()\n",
    "print(p)"
   ]
  },
  {
   "cell_type": "code",
   "execution_count": null,
   "id": "c7eb0c78",
   "metadata": {},
   "outputs": [],
   "source": [
    "p.nickname = \"홍별명\"  # 이렇게 하면 닉네임이 자동적으로 잡히게 된다\n",
    "p1 = Person(\"홍길숙\")\n",
    "isinstance(p, Person), isinstance(p1, Person)  # 즉 파이썬은 동적으로 인스턴스 멤머 추가 가능하다"
   ]
  },
  {
   "cell_type": "markdown",
   "id": "b241bbc6",
   "metadata": {},
   "source": [
    "# 4절. 상속과 재정의\n",
    "- 클래스를 재사용\n",
    "- 상속을 이용하면 부모 클래스의 모든 속성을 자식 클래스로 물려줄 수 있음\n",
    "- 문법 : class 자식클래스명(부모클래스명):\n",
    "    "
   ]
  },
  {
   "cell_type": "code",
   "execution_count": null,
   "id": "be4032ee",
   "metadata": {},
   "outputs": [],
   "source": [
    "class Cal:\n",
    "    def __init__(self, num1, num2):\n",
    "        print('두 수 초기화')\n",
    "        self.num1 = num1\n",
    "        self.num2 = num2\n",
    "    def add(self):\n",
    "        return self.num1+self.num2\n",
    "    def sub(self):\n",
    "        return self.num1-self.num2\n",
    "    def div(self):\n",
    "        return self.num1/self.num2 if self.num2!=0 else '0으로 나눌수 없음'\n",
    "    def __str__(self):\n",
    "        return 'num1={}, num2={}'.format(self.num1, self.num2)\n",
    "    \n",
    "class Cal_inherit(Cal):\n",
    "    def mul(self):\n",
    "        return self.num1*self.num2\n",
    "    \n",
    "obj1=Cal_inherit(2,2)\n",
    "print(obj1.add())\n",
    "print(obj1.mul())\n",
    "obj2=Cal(2,3)\n",
    "print(obj2.add())\n",
    "print(obj2.mul()) # 이건 상속이 아니여서 그런거 같다"
   ]
  },
  {
   "cell_type": "code",
   "execution_count": null,
   "id": "0a842bf4",
   "metadata": {},
   "outputs": [],
   "source": [
    "type(Cal), type(Cal_inherit), type(obj1), isinstance(obj1, Cal_inherit), isinstance(obj1, Cal)\n",
    "# Cal_inherit is a Cal(상속은 is a  관계)"
   ]
  },
  {
   "cell_type": "code",
   "execution_count": null,
   "id": "fbec83cc",
   "metadata": {},
   "outputs": [],
   "source": [
    "class Person:\n",
    "    'Person은 이름과 성별을 멤버변수 갖고, 출력 기능'\n",
    "    def __init__(self, name, gender):\n",
    "        print('이름과 성별 초기화')\n",
    "        self.name=name\n",
    "        self.gender=gender\n",
    "    def __str__(self):\n",
    "        return \"{}님은 {}\".format(self.name, self.gender)\n",
    "    def print_info(self):\n",
    "        print(self)\n",
    "        \n",
    "p=Person(\"홍길동\", \"남자\")\n",
    "p.print_info()\n"
   ]
  },
  {
   "cell_type": "code",
   "execution_count": null,
   "id": "602b2fee",
   "metadata": {},
   "outputs": [],
   "source": [
    "# 오버라이드 : 함수의 재정의(부모클래스의 함수를 자식 클래스에서 다시 정의)\n",
    "# 부모 클래스으 함수명과 매개변수 개수가 동일\n",
    "# 오버로딩 : 함수의 중복정의(같은 이름의 함수를 매개변수 갯수를 달리 해서 정의) - 파이썬에서 불가 \n",
    "class Student(Person):\n",
    "    def __init__(self, name, gender, major):\n",
    "        #self.name = name\n",
    "        #self.gender = gender\n",
    "        super().__init__(name,gender)   # super() : 부모클래스를 의미\n",
    "        # Person.__init__(self, name, gender)\n",
    "        self.major = major\n",
    "    def __str__(self): # 오버라이드\n",
    "        return super(). __str__() + \"이고, 전공은{}\".format(self.major)"
   ]
  },
  {
   "cell_type": "code",
   "execution_count": null,
   "id": "5ffb96c2",
   "metadata": {},
   "outputs": [],
   "source": [
    "s = Student(\"홍길쑥\", \"여자\",  \"ai\")\n",
    "print(s)\n",
    "s.print_info()"
   ]
  },
  {
   "cell_type": "code",
   "execution_count": null,
   "id": "661c00dc",
   "metadata": {},
   "outputs": [],
   "source": [
    "isinstance(s, Student), isinstance(s, Person)"
   ]
  },
  {
   "cell_type": "markdown",
   "id": "d0e3c39f",
   "metadata": {},
   "source": [
    "# # 정적변수(static 변수) :여러 객체들 사이엥서 데이터를 공유하고 싶을때 사용\n",
    "- static 변수 앞에 under score 2개 (__)를 붙이면 클래스명._클래스명__static 변수명으로 참조\n",
    "- 클래스변수는 외부에서 바로 접근 가능\n",
    "- static 변수는 외부에서 바로 접근하는 것을 방지\n",
    "- static 변수는 클래스 내부에서만 접근 하도록 하려는 의도"
   ]
  },
  {
   "cell_type": "code",
   "execution_count": null,
   "id": "92f11e9a",
   "metadata": {
    "scrolled": true
   },
   "outputs": [],
   "source": [
    "class Person:\n",
    "    def __init__(self, name, gender):\n",
    "        self.name = name\n",
    "        self.gender = gender\n",
    "    def print_info(self): # 추상 메소드 (상속받는것을 사용하기 위해서)\n",
    "        raise Exception(\"이 메소드는 호출하면 예외가 납니다\") # 강제로 예외 발생\n",
    "    def __str__(self):\n",
    "        return f'{self.name}은 {self.gender}'\n",
    "p = Person(\"홍길동\", \"남자\")\n",
    "p.print_info()  # 예외처리로 인해서 함수가 있어도 불가능"
   ]
  },
  {
   "cell_type": "code",
   "execution_count": 8,
   "id": "ad636558",
   "metadata": {},
   "outputs": [],
   "source": [
    "class Person:\n",
    "    def __init__(self, name, gender):\n",
    "        self.name = name\n",
    "        self.gender = gender\n",
    "    def print_info(self): # 추상 메소드 (상속받는것을 사용하기 위해서)\n",
    "        raise Exception(\"이 메소드는 호출하면 예외가 납니다\") # 강제로 예외 발생\n",
    "    def __str__(self):\n",
    "        return f'{self.name}은 {self.gender}'\n",
    "\n",
    "class Student(Person):   # 상속 \n",
    "    __count = 0 # static 변수(객체의 갯수) __를 넣으면서 클래스 변수가 안될 수 있다\n",
    "    # 클래스명._클래스명__count로 사용\n",
    "    def __init__(self, name, gender, major):\n",
    "        super().__init__(name, gender)\n",
    "        self.major = major\n",
    "        Student._Student__count += 1 # 객체가 생성될때마다 __count 1 증가\n",
    "    def __del__(self):\n",
    "        print(\"소멸\")\n",
    "        Student._Student__count -= 1 # 객체가 소멸될때마다 __count 1 감소\n",
    "    def print_info(self):\n",
    "        print(\"{}는 {}이고, 전공은{}({}번째 객체)\".format(self.name,\n",
    "                                           self.gender,\n",
    "                                           self.major,\n",
    "                                            Student._Student__count))\n",
    "        \n",
    "    def __str__(self):\n",
    "        return super().__str__() + \"이고, 전공은 {}\".format(self.major)\n",
    "    \n",
    "    @ classmethod\n",
    "    def get_count(cls):\n",
    "        #return cls.__count\n",
    "        return Student._Student__count"
   ]
  },
  {
   "cell_type": "code",
   "execution_count": 9,
   "id": "8bdc9acf",
   "metadata": {},
   "outputs": [
    {
     "name": "stdout",
     "output_type": "stream",
     "text": [
      "소멸\n",
      "홍길동는 남자이고, 전공은AI(1번째 객체)\n"
     ]
    }
   ],
   "source": [
    "p = Person(\"홍\", \"남자\")\n",
    "#p.print_info()\n",
    "s1 = Student(\"홍길동\", \"남자\", \"AI\")\n",
    "s1.print_info()\n"
   ]
  },
  {
   "cell_type": "code",
   "execution_count": 10,
   "id": "8e2a6c96",
   "metadata": {},
   "outputs": [
    {
     "name": "stdout",
     "output_type": "stream",
     "text": [
      "김길숙는 여자이고, 전공은데이터(2번째 객체)\n"
     ]
    }
   ],
   "source": [
    "s2 = Student(\"김길숙\", \"여자\", \"데이터\")\n",
    "s2.print_info()"
   ]
  },
  {
   "cell_type": "code",
   "execution_count": 11,
   "id": "0e5c4079",
   "metadata": {},
   "outputs": [
    {
     "name": "stdout",
     "output_type": "stream",
     "text": [
      "신길동는 남자이고, 전공은신소재(3번째 객체)\n"
     ]
    }
   ],
   "source": [
    "s3 = Student(\"신길동\", \"남자\",\"신소재\")\n",
    "s3.print_info()"
   ]
  },
  {
   "cell_type": "code",
   "execution_count": 12,
   "id": "17204ee4",
   "metadata": {},
   "outputs": [
    {
     "data": {
      "text/plain": [
       "3"
      ]
     },
     "execution_count": 12,
     "metadata": {},
     "output_type": "execute_result"
    }
   ],
   "source": [
    "Student.get_count()"
   ]
  },
  {
   "cell_type": "code",
   "execution_count": 13,
   "id": "378dcd6e",
   "metadata": {},
   "outputs": [
    {
     "name": "stdout",
     "output_type": "stream",
     "text": [
      "소멸\n",
      "소멸\n"
     ]
    }
   ],
   "source": [
    "del s3, s2"
   ]
  },
  {
   "cell_type": "code",
   "execution_count": 14,
   "id": "45218418",
   "metadata": {},
   "outputs": [
    {
     "data": {
      "text/plain": [
       "1"
      ]
     },
     "execution_count": 14,
     "metadata": {},
     "output_type": "execute_result"
    }
   ],
   "source": [
    "Student.get_count()"
   ]
  },
  {
   "cell_type": "markdown",
   "id": "3b0ed472",
   "metadata": {},
   "source": [
    "# 5절. 연습문제"
   ]
  },
  {
   "cell_type": "code",
   "execution_count": 65,
   "id": "ff072879",
   "metadata": {},
   "outputs": [],
   "source": [
    "# 1번\n",
    "class Shape:\n",
    "    def __init__(self, x=0, y=0):\n",
    "        self.x = x\n",
    "        self.y = y\n",
    "    def move(self, x, y):\n",
    "        self.x += x\n",
    "        self.y += y\n",
    "    def calc_area(self):\n",
    "        result = self.x*self.y\n",
    "        return result\n",
    "    def __str__(self):\n",
    "        return \"도형의 넓이는 {} 입니다\".format(self.calc_area())\n",
    "    "
   ]
  },
  {
   "cell_type": "code",
   "execution_count": 66,
   "id": "50201cc4",
   "metadata": {},
   "outputs": [
    {
     "name": "stdout",
     "output_type": "stream",
     "text": [
      "도형의 넓이는 30 입니다\n"
     ]
    }
   ],
   "source": [
    "s = Shape(5, 6)\n",
    "print(s)\n"
   ]
  },
  {
   "cell_type": "code",
   "execution_count": 67,
   "id": "7f11f504",
   "metadata": {},
   "outputs": [],
   "source": [
    "class Triangle(Shape):\n",
    "    __count =0\n",
    "    def __init__(self, x=0, y=0):\n",
    "        super().__init__(x,y)\n",
    "        Triangle._Triangle__count +=1\n",
    "    def move(self, x, y):\n",
    "        super().move(x,y)\n",
    "    def __def__(self):\n",
    "        Triangle._Triangle__count -=1\n",
    "    def calc_area(self):\n",
    "        result = (self.x*self.y)/2\n",
    "        return result\n",
    "    def __str__(self):\n",
    "        return \"도형의 넓이는 {} 입니다\".format(self.calc_area())\n",
    "    def print_info(self):\n",
    "        print(\"{}번째 객체\".format(Triangle._Triangle__count))\n",
    "        \n",
    "    "
   ]
  },
  {
   "cell_type": "code",
   "execution_count": 68,
   "id": "ca318823",
   "metadata": {},
   "outputs": [
    {
     "name": "stdout",
     "output_type": "stream",
     "text": [
      "도형의 넓이는 30 입니다\n",
      "도형의 넓이는 20.0 입니다\n",
      "1번째 객체\n",
      "도형의 넓이는 17.5 입니다\n",
      "2번째 객체\n"
     ]
    }
   ],
   "source": [
    "s = Shape(5, 6)\n",
    "print(s)\n",
    "\n",
    "t=Triangle(4,10)\n",
    "print(t)\n",
    "t.print_info()\n",
    "\n",
    "t=Triangle(5,7)\n",
    "print(t)\n",
    "t.print_info()\n"
   ]
  },
  {
   "cell_type": "code",
   "execution_count": 69,
   "id": "23cf5ff5",
   "metadata": {},
   "outputs": [],
   "source": [
    "# 서술형\n",
    "# 1번 : 2\n",
    "# 2번 : 2\n",
    "# 3번 : 4\n",
    "# 4번 : 4\n",
    "# 5번 : 1\n",
    "# 6번 : 3번\n",
    "# 7번 : 3\n",
    "# 8번 : 2\n",
    "# 9번 : 2"
   ]
  },
  {
   "cell_type": "code",
   "execution_count": null,
   "id": "9942bdd8",
   "metadata": {},
   "outputs": [],
   "source": []
  },
  {
   "cell_type": "code",
   "execution_count": null,
   "id": "d0ce3622",
   "metadata": {},
   "outputs": [],
   "source": []
  },
  {
   "cell_type": "code",
   "execution_count": null,
   "id": "ca75955e",
   "metadata": {},
   "outputs": [],
   "source": []
  }
 ],
 "metadata": {
  "kernelspec": {
   "display_name": "Python 3 (ipykernel)",
   "language": "python",
   "name": "python3"
  },
  "language_info": {
   "codemirror_mode": {
    "name": "ipython",
    "version": 3
   },
   "file_extension": ".py",
   "mimetype": "text/x-python",
   "name": "python",
   "nbconvert_exporter": "python",
   "pygments_lexer": "ipython3",
   "version": "3.10.9"
  },
  "toc": {
   "base_numbering": 1,
   "nav_menu": {},
   "number_sections": false,
   "sideBar": true,
   "skip_h1_title": false,
   "title_cell": "Table of Contents",
   "title_sidebar": "Contents",
   "toc_cell": false,
   "toc_position": {},
   "toc_section_display": true,
   "toc_window_display": false
  }
 },
 "nbformat": 4,
 "nbformat_minor": 5
}
