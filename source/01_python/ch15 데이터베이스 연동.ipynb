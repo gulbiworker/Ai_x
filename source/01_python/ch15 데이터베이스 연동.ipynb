{
 "cells": [
  {
   "cell_type": "code",
   "execution_count": 8,
   "id": "46128c57",
   "metadata": {},
   "outputs": [
    {
     "data": {
      "text/html": [
       "\n",
       "<style>\n",
       "div.container{width:86% !important;}\n",
       "div.cell.code_cell.rendered{width:100%;}\n",
       "div.CodeMirror {font-family:Consolas; font-size:15pt;}\n",
       "div.output {font-size:15pt; font-weight:bold;}\n",
       "div.input {font-family:Consolas; font-size:15pt;}\n",
       "div.prompt {min-width:70px;\n",
       "div#toc-wrapper{padding-top:120px;}\n",
       "div.text_cell_render ul li{font-size:12pt;padding:5px;}\n",
       "table.dataframe{font-size:15px;}\n",
       "</style>\n"
      ],
      "text/plain": [
       "<IPython.core.display.HTML object>"
      ]
     },
     "metadata": {},
     "output_type": "display_data"
    }
   ],
   "source": [
    "from IPython.display import display, HTML\n",
    "display(HTML(\"\"\"\n",
    "<style>\n",
    "div.container{width:86% !important;}\n",
    "div.cell.code_cell.rendered{width:100%;}\n",
    "div.CodeMirror {font-family:Consolas; font-size:15pt;}\n",
    "div.output {font-size:15pt; font-weight:bold;}\n",
    "div.input {font-family:Consolas; font-size:15pt;}\n",
    "div.prompt {min-width:70px;\n",
    "div#toc-wrapper{padding-top:120px;}\n",
    "div.text_cell_render ul li{font-size:12pt;padding:5px;}\n",
    "table.dataframe{font-size:15px;}\n",
    "</style>\n",
    "\"\"\"))"
   ]
  },
  {
   "cell_type": "markdown",
   "id": "803da877",
   "metadata": {},
   "source": [
    "<font size=\"5\" color=\"red\">ch15 데이터베이스 연동</font>\n",
    "# 1절. sqlite 데이터 베이스 연동\n",
    "- SQlite 데이터베이스는 별도의 dbms 없이 sql 을 이요하여 db 엑세스 가능한 디스크 기반 db\n",
    "- SQLite는 프로토 타입 용도\n",
    "- 프로젝트 단계 : 분석 - 설계 - 구현 - 테스트 - 고객에게 배포 - 유지보수\n",
    "## 1.1 sqlite 패키지 load"
   ]
  },
  {
   "cell_type": "code",
   "execution_count": 5,
   "id": "bba3a9f8",
   "metadata": {},
   "outputs": [
    {
     "data": {
      "text/plain": [
       "'3.40.1'"
      ]
     },
     "execution_count": 5,
     "metadata": {},
     "output_type": "execute_result"
    }
   ],
   "source": [
    "import sqlite3\n",
    "sqlite3.sqlite_version"
   ]
  },
  {
   "cell_type": "code",
   "execution_count": 7,
   "id": "54ace437",
   "metadata": {},
   "outputs": [
    {
     "data": {
      "text/plain": [
       "'1.5.3'"
      ]
     },
     "execution_count": 7,
     "metadata": {},
     "output_type": "execute_result"
    }
   ],
   "source": [
    "import pandas as pd\n",
    "pd.__version__"
   ]
  },
  {
   "cell_type": "markdown",
   "id": "e40d4b9c",
   "metadata": {},
   "source": [
    "# DB 연결"
   ]
  },
  {
   "cell_type": "code",
   "execution_count": 6,
   "id": "5f501b44",
   "metadata": {},
   "outputs": [
    {
     "data": {
      "text/plain": [
       "<sqlite3.Connection at 0x1bd8adb8540>"
      ]
     },
     "execution_count": 6,
     "metadata": {},
     "output_type": "execute_result"
    }
   ],
   "source": [
    "conn = sqlite3.connect('data/ch15_example.db')\n",
    "conn"
   ]
  },
  {
   "cell_type": "code",
   "execution_count": 10,
   "id": "f8fb548b",
   "metadata": {},
   "outputs": [
    {
     "data": {
      "text/plain": [
       "<sqlite3.Cursor at 0x1bd8c110940>"
      ]
     },
     "execution_count": 10,
     "metadata": {},
     "output_type": "execute_result"
    }
   ],
   "source": [
    "# 커서객체(sql문 실행) 생성\n",
    "cursor = conn.cursor()\n",
    "cursor"
   ]
  },
  {
   "cell_type": "code",
   "execution_count": 11,
   "id": "a807d291",
   "metadata": {},
   "outputs": [
    {
     "data": {
      "text/plain": [
       "<sqlite3.Cursor at 0x1bd8c110940>"
      ]
     },
     "execution_count": 11,
     "metadata": {},
     "output_type": "execute_result"
    }
   ],
   "source": [
    "cursor.execute('''\n",
    "    CREATE TABLE MEMBER(\n",
    "        NAME TEXT,\n",
    "        AGE INT,\n",
    "        EMAIL TEXT\n",
    "    )\n",
    "''')"
   ]
  },
  {
   "cell_type": "markdown",
   "id": "1c0623f8",
   "metadata": {},
   "source": [
    "# insert, update, delet전송"
   ]
  },
  {
   "cell_type": "code",
   "execution_count": 13,
   "id": "11a48664",
   "metadata": {},
   "outputs": [
    {
     "name": "stdout",
     "output_type": "stream",
     "text": [
      "수행 결과 행수: 1\n"
     ]
    }
   ],
   "source": [
    "cursor.execute('''\n",
    "    INSERT INTO MEMBER VALUES('홍길동', 20, 'h@h.com')\n",
    "''')\n",
    "print('수행 결과 행수:', cursor.rowcount)"
   ]
  },
  {
   "cell_type": "code",
   "execution_count": 21,
   "id": "6ff96c9d",
   "metadata": {},
   "outputs": [
    {
     "name": "stdout",
     "output_type": "stream",
     "text": [
      "INSERT INTO MEMBER VALUES ('박길동', 20, 'H@H.COM')\n",
      "수행결과 행수: 1\n"
     ]
    }
   ],
   "source": [
    "sql = \"INSERT INTO MEMBER VALUES ('박길동', 20, 'H@H.COM')\"\n",
    "print(sql)\n",
    "cursor.execute(sql)\n",
    "print('수행결과 행수:', cursor.rowcount)"
   ]
  },
  {
   "cell_type": "code",
   "execution_count": 22,
   "id": "bcec07e9",
   "metadata": {},
   "outputs": [],
   "source": [
    "conn.commit()"
   ]
  },
  {
   "cell_type": "markdown",
   "id": "ddb118be",
   "metadata": {},
   "source": [
    "### select 전송"
   ]
  },
  {
   "cell_type": "code",
   "execution_count": 18,
   "id": "c6f7fdd6",
   "metadata": {},
   "outputs": [
    {
     "data": {
      "text/plain": [
       "<sqlite3.Cursor at 0x1bd8c110940>"
      ]
     },
     "execution_count": 18,
     "metadata": {},
     "output_type": "execute_result"
    }
   ],
   "source": [
    "cursor.execute('''\n",
    "    SELECT NAME, AGE+1 NEXTAGE, EMAIL FROM MEMBER\n",
    "''')"
   ]
  },
  {
   "cell_type": "code",
   "execution_count": 24,
   "id": "e1bb61d7",
   "metadata": {},
   "outputs": [
    {
     "name": "stdout",
     "output_type": "stream",
     "text": [
      "[]\n"
     ]
    }
   ],
   "source": [
    "# SELCET 전송\n",
    "#   select 문 실행결과를 받는 함수\n",
    "#    fetchone() : 결과를 한행씩 받을 때(투플 홍길동, 21, h@)\n",
    "#    cursor.fetchall() : 결과를 모두 받을 때 (튜플list)\n",
    "#    cursor.getchmany(n) : 결과를 n행 받을 때(튜플 list)\n",
    "\n",
    "\n",
    "# INSERT, UPDATE, DELETE 전송 : cursor.rowcount\n",
    "print(cursor.fetchall())"
   ]
  },
  {
   "cell_type": "code",
   "execution_count": 25,
   "id": "5be94692",
   "metadata": {},
   "outputs": [
    {
     "data": {
      "text/plain": [
       "[('홍길동', 21, 'h@h.com'), ('홍길동', 21, 'h@h.com'), ('홍길동', 21, 'H@H.COM')]"
      ]
     },
     "execution_count": 25,
     "metadata": {},
     "output_type": "execute_result"
    }
   ],
   "source": [
    "cursor.execute('''\n",
    "    SELECT NAME, AGE+1 NEXTAGE, EMAIL FROM MEMBER order by nextage\n",
    "''')\n",
    "members = cursor.fetchmany(3)\n",
    "members"
   ]
  },
  {
   "cell_type": "code",
   "execution_count": 26,
   "id": "4daec623",
   "metadata": {},
   "outputs": [
    {
     "data": {
      "text/plain": [
       "('홍길동', 21, 'h@h.com')"
      ]
     },
     "execution_count": 26,
     "metadata": {},
     "output_type": "execute_result"
    }
   ],
   "source": [
    "cursor.execute('''\n",
    "    SELECT NAME, AGE+1 NEXTAGE, EMAIL FROM MEMBER order by nextage\n",
    "''')\n",
    "members = cursor.fetchone()\n",
    "members"
   ]
  },
  {
   "cell_type": "code",
   "execution_count": 27,
   "id": "d91f3d4b",
   "metadata": {},
   "outputs": [
    {
     "data": {
      "text/plain": [
       "[('홍길동', 21, 'h@h.com'),\n",
       " ('홍길동', 21, 'H@H.COM'),\n",
       " ('박길동', 21, 'H@H.COM'),\n",
       " ('박길동', 21, 'H@H.COM')]"
      ]
     },
     "execution_count": 27,
     "metadata": {},
     "output_type": "execute_result"
    }
   ],
   "source": [
    "cursor.fetchall()"
   ]
  },
  {
   "cell_type": "code",
   "execution_count": 31,
   "id": "df3b6c25",
   "metadata": {},
   "outputs": [
    {
     "name": "stdout",
     "output_type": "stream",
     "text": [
      "('홍길동', 21, 'h@h.com')\n",
      "('홍길동', 21, 'h@h.com')\n",
      "('홍길동', 21, 'H@H.COM')\n",
      "('박길동', 21, 'H@H.COM')\n",
      "('박길동', 21, 'H@H.COM')\n"
     ]
    },
    {
     "data": {
      "text/html": [
       "<div>\n",
       "<style scoped>\n",
       "    .dataframe tbody tr th:only-of-type {\n",
       "        vertical-align: middle;\n",
       "    }\n",
       "\n",
       "    .dataframe tbody tr th {\n",
       "        vertical-align: top;\n",
       "    }\n",
       "\n",
       "    .dataframe thead th {\n",
       "        text-align: right;\n",
       "    }\n",
       "</style>\n",
       "<table border=\"1\" class=\"dataframe\">\n",
       "  <thead>\n",
       "    <tr style=\"text-align: right;\">\n",
       "      <th></th>\n",
       "      <th>name</th>\n",
       "      <th>age</th>\n",
       "      <th>email</th>\n",
       "    </tr>\n",
       "  </thead>\n",
       "  <tbody>\n",
       "    <tr>\n",
       "      <th>0</th>\n",
       "      <td>홍길동</td>\n",
       "      <td>21</td>\n",
       "      <td>h@h.com</td>\n",
       "    </tr>\n",
       "    <tr>\n",
       "      <th>1</th>\n",
       "      <td>홍길동</td>\n",
       "      <td>21</td>\n",
       "      <td>h@h.com</td>\n",
       "    </tr>\n",
       "    <tr>\n",
       "      <th>2</th>\n",
       "      <td>홍길동</td>\n",
       "      <td>21</td>\n",
       "      <td>H@H.COM</td>\n",
       "    </tr>\n",
       "    <tr>\n",
       "      <th>3</th>\n",
       "      <td>박길동</td>\n",
       "      <td>21</td>\n",
       "      <td>H@H.COM</td>\n",
       "    </tr>\n",
       "    <tr>\n",
       "      <th>4</th>\n",
       "      <td>박길동</td>\n",
       "      <td>21</td>\n",
       "      <td>H@H.COM</td>\n",
       "    </tr>\n",
       "  </tbody>\n",
       "</table>\n",
       "</div>"
      ],
      "text/plain": [
       "  name  age    email\n",
       "0  홍길동   21  h@h.com\n",
       "1  홍길동   21  h@h.com\n",
       "2  홍길동   21  H@H.COM\n",
       "3  박길동   21  H@H.COM\n",
       "4  박길동   21  H@H.COM"
      ]
     },
     "execution_count": 31,
     "metadata": {},
     "output_type": "execute_result"
    }
   ],
   "source": [
    "# 데이터 한줄씩 가져오기\n",
    "cursor.execute('''\n",
    "    SELECT NAME, AGE+1 NEXTAGE, EMAIL FROM MEMBER order by nextage\n",
    "''')\n",
    "members = []\n",
    "while True:\n",
    "    member = cursor.fetchone()\n",
    "    if member is None:\n",
    "        break\n",
    "    print(member)\n",
    "    members.append({'name':member[0], 'age':member[1], 'email':member[2]})\n",
    "import pandas as pd\n",
    "pd.DataFrame(members)"
   ]
  },
  {
   "cell_type": "code",
   "execution_count": 32,
   "id": "99169ea1",
   "metadata": {},
   "outputs": [
    {
     "data": {
      "text/html": [
       "<div>\n",
       "<style scoped>\n",
       "    .dataframe tbody tr th:only-of-type {\n",
       "        vertical-align: middle;\n",
       "    }\n",
       "\n",
       "    .dataframe tbody tr th {\n",
       "        vertical-align: top;\n",
       "    }\n",
       "\n",
       "    .dataframe thead th {\n",
       "        text-align: right;\n",
       "    }\n",
       "</style>\n",
       "<table border=\"1\" class=\"dataframe\">\n",
       "  <thead>\n",
       "    <tr style=\"text-align: right;\">\n",
       "      <th></th>\n",
       "      <th>0</th>\n",
       "      <th>1</th>\n",
       "      <th>2</th>\n",
       "    </tr>\n",
       "  </thead>\n",
       "  <tbody>\n",
       "    <tr>\n",
       "      <th>0</th>\n",
       "      <td>홍길동</td>\n",
       "      <td>21</td>\n",
       "      <td>h@h.com</td>\n",
       "    </tr>\n",
       "    <tr>\n",
       "      <th>1</th>\n",
       "      <td>홍길동</td>\n",
       "      <td>21</td>\n",
       "      <td>h@h.com</td>\n",
       "    </tr>\n",
       "    <tr>\n",
       "      <th>2</th>\n",
       "      <td>홍길동</td>\n",
       "      <td>21</td>\n",
       "      <td>H@H.COM</td>\n",
       "    </tr>\n",
       "    <tr>\n",
       "      <th>3</th>\n",
       "      <td>박길동</td>\n",
       "      <td>21</td>\n",
       "      <td>H@H.COM</td>\n",
       "    </tr>\n",
       "    <tr>\n",
       "      <th>4</th>\n",
       "      <td>박길동</td>\n",
       "      <td>21</td>\n",
       "      <td>H@H.COM</td>\n",
       "    </tr>\n",
       "  </tbody>\n",
       "</table>\n",
       "</div>"
      ],
      "text/plain": [
       "     0   1        2\n",
       "0  홍길동  21  h@h.com\n",
       "1  홍길동  21  h@h.com\n",
       "2  홍길동  21  H@H.COM\n",
       "3  박길동  21  H@H.COM\n",
       "4  박길동  21  H@H.COM"
      ]
     },
     "execution_count": 32,
     "metadata": {},
     "output_type": "execute_result"
    }
   ],
   "source": [
    "cursor.execute('''\n",
    "    SELECT NAME, AGE+1 NEXTAGE, EMAIL FROM MEMBER order by nextage\n",
    "''')\n",
    "members = cursor.fetchall()\n",
    "df = pd.DataFrame(members)\n",
    "df"
   ]
  },
  {
   "cell_type": "code",
   "execution_count": 33,
   "id": "9c8522e6",
   "metadata": {},
   "outputs": [
    {
     "data": {
      "text/plain": [
       "(('NAME', None, None, None, None, None, None),\n",
       " ('NEXTAGE', None, None, None, None, None, None),\n",
       " ('EMAIL', None, None, None, None, None, None))"
      ]
     },
     "execution_count": 33,
     "metadata": {},
     "output_type": "execute_result"
    }
   ],
   "source": [
    "# select문을 수행한 필드 정보\n",
    "cursor.description"
   ]
  },
  {
   "cell_type": "code",
   "execution_count": 34,
   "id": "0820fbe9",
   "metadata": {},
   "outputs": [
    {
     "data": {
      "text/plain": [
       "['NAME', 'NEXTAGE', 'EMAIL']"
      ]
     },
     "execution_count": 34,
     "metadata": {},
     "output_type": "execute_result"
    }
   ],
   "source": [
    "[description[0] for description in cursor.description]"
   ]
  },
  {
   "cell_type": "markdown",
   "id": "6aa9fe57",
   "metadata": {},
   "source": [
    "## 1.3sql 구문에서 파라미터 사용하기\n",
    "- qmark(db에 따라 불가한 경우 있음)\n",
    "- named(추천)"
   ]
  },
  {
   "cell_type": "code",
   "execution_count": 37,
   "id": "633662b2",
   "metadata": {},
   "outputs": [
    {
     "data": {
      "text/plain": [
       "[('홍길동', 20, 'h@h.com'), ('홍길동', 20, 'h@h.com'), ('홍길동', 20, 'H@H.COM')]"
      ]
     },
     "execution_count": 37,
     "metadata": {},
     "output_type": "execute_result"
    }
   ],
   "source": [
    "conn = sqlite3.connect('data/ch15_example.db')\n",
    "cursor = conn.cursor()\n",
    "cursor.execute(\"SELECT * FROM MEMBER WHERE NAME IN ('홍길동','김길동')\")\n",
    "cursor.fetchall()"
   ]
  },
  {
   "cell_type": "code",
   "execution_count": 38,
   "id": "eb193bd4",
   "metadata": {},
   "outputs": [
    {
     "name": "stdout",
     "output_type": "stream",
     "text": [
      "검색할 이름은?홍길동\n",
      "검색할 다른이름은?박길동\n"
     ]
    },
    {
     "data": {
      "text/plain": [
       "[('홍길동', 20, 'h@h.com'),\n",
       " ('홍길동', 20, 'h@h.com'),\n",
       " ('홍길동', 20, 'H@H.COM'),\n",
       " ('박길동', 20, 'H@H.COM'),\n",
       " ('박길동', 20, 'H@H.COM')]"
      ]
     },
     "execution_count": 38,
     "metadata": {},
     "output_type": "execute_result"
    }
   ],
   "source": [
    "conn = sqlite3.connect('data/ch15_example.db')\n",
    "cursor = conn.cursor()\n",
    "sql = \"SELECT * FROM MEMBER WHERE NAME IN (?,?)\"\n",
    "name1 = input('검색할 이름은?')\n",
    "name2 = input('검색할 다른이름은?')\n",
    "cursor.execute(sql,(name1, name2))\n",
    "cursor.fetchall()"
   ]
  },
  {
   "cell_type": "code",
   "execution_count": 39,
   "id": "e4b6ef6e",
   "metadata": {},
   "outputs": [
    {
     "name": "stdout",
     "output_type": "stream",
     "text": [
      "검색할 이름은?홍길동\n",
      "검색할 다른이름은?김길동\n"
     ]
    },
    {
     "data": {
      "text/plain": [
       "[('홍길동', 20, 'h@h.com'), ('홍길동', 20, 'h@h.com'), ('홍길동', 20, 'H@H.COM')]"
      ]
     },
     "execution_count": 39,
     "metadata": {},
     "output_type": "execute_result"
    }
   ],
   "source": [
    "# 파라미터 사용하기 : named 방법 이용\n",
    "\n",
    "sql = \"SELECT * FROM MEMBER WHERE NAME IN (:name1,:name2)\"\n",
    "name1 = input('검색할 이름은?')\n",
    "name2 = input('검색할 다른이름은?')\n",
    "cursor.execute(sql,{'name1':name1, 'name2':name2})\n",
    "cursor.fetchall()"
   ]
  },
  {
   "cell_type": "code",
   "execution_count": 43,
   "id": "dbc2160f",
   "metadata": {},
   "outputs": [
    {
     "name": "stdout",
     "output_type": "stream",
     "text": [
      "입력할 메일은?sdf44\n"
     ]
    },
    {
     "ename": "KeyboardInterrupt",
     "evalue": "Interrupted by user",
     "output_type": "error",
     "traceback": [
      "\u001b[1;31m---------------------------------------------------------------------------\u001b[0m",
      "\u001b[1;31mKeyboardInterrupt\u001b[0m                         Traceback (most recent call last)",
      "Cell \u001b[1;32mIn[43], line 3\u001b[0m\n\u001b[0;32m      1\u001b[0m \u001b[38;5;66;03m# named 방법으로 데이터 입력하기\u001b[39;00m\n\u001b[0;32m      2\u001b[0m \u001b[38;5;28;01mtry\u001b[39;00m:\n\u001b[1;32m----> 3\u001b[0m     name \u001b[38;5;241m=\u001b[39m \u001b[38;5;28;43minput\u001b[39;49m\u001b[43m(\u001b[49m\u001b[38;5;124;43m'\u001b[39;49m\u001b[38;5;124;43m입력할 이름은?\u001b[39;49m\u001b[38;5;124;43m'\u001b[39;49m\u001b[43m)\u001b[49m\n\u001b[0;32m      4\u001b[0m     age \u001b[38;5;241m=\u001b[39m \u001b[38;5;28mint\u001b[39m(\u001b[38;5;28minput\u001b[39m(\u001b[38;5;124m'\u001b[39m\u001b[38;5;124m입력할 나이는?\u001b[39m\u001b[38;5;124m'\u001b[39m))\n\u001b[0;32m      5\u001b[0m \u001b[38;5;28;01mexcept\u001b[39;00m \u001b[38;5;167;01mValueError\u001b[39;00m:\n",
      "File \u001b[1;32m~\\anaconda3\\lib\\site-packages\\ipykernel\\kernelbase.py:1175\u001b[0m, in \u001b[0;36mKernel.raw_input\u001b[1;34m(self, prompt)\u001b[0m\n\u001b[0;32m   1171\u001b[0m \u001b[38;5;28;01mif\u001b[39;00m \u001b[38;5;129;01mnot\u001b[39;00m \u001b[38;5;28mself\u001b[39m\u001b[38;5;241m.\u001b[39m_allow_stdin:\n\u001b[0;32m   1172\u001b[0m     \u001b[38;5;28;01mraise\u001b[39;00m StdinNotImplementedError(\n\u001b[0;32m   1173\u001b[0m         \u001b[38;5;124m\"\u001b[39m\u001b[38;5;124mraw_input was called, but this frontend does not support input requests.\u001b[39m\u001b[38;5;124m\"\u001b[39m\n\u001b[0;32m   1174\u001b[0m     )\n\u001b[1;32m-> 1175\u001b[0m \u001b[38;5;28;01mreturn\u001b[39;00m \u001b[38;5;28;43mself\u001b[39;49m\u001b[38;5;241;43m.\u001b[39;49m\u001b[43m_input_request\u001b[49m\u001b[43m(\u001b[49m\n\u001b[0;32m   1176\u001b[0m \u001b[43m    \u001b[49m\u001b[38;5;28;43mstr\u001b[39;49m\u001b[43m(\u001b[49m\u001b[43mprompt\u001b[49m\u001b[43m)\u001b[49m\u001b[43m,\u001b[49m\n\u001b[0;32m   1177\u001b[0m \u001b[43m    \u001b[49m\u001b[38;5;28;43mself\u001b[39;49m\u001b[38;5;241;43m.\u001b[39;49m\u001b[43m_parent_ident\u001b[49m\u001b[43m[\u001b[49m\u001b[38;5;124;43m\"\u001b[39;49m\u001b[38;5;124;43mshell\u001b[39;49m\u001b[38;5;124;43m\"\u001b[39;49m\u001b[43m]\u001b[49m\u001b[43m,\u001b[49m\n\u001b[0;32m   1178\u001b[0m \u001b[43m    \u001b[49m\u001b[38;5;28;43mself\u001b[39;49m\u001b[38;5;241;43m.\u001b[39;49m\u001b[43mget_parent\u001b[49m\u001b[43m(\u001b[49m\u001b[38;5;124;43m\"\u001b[39;49m\u001b[38;5;124;43mshell\u001b[39;49m\u001b[38;5;124;43m\"\u001b[39;49m\u001b[43m)\u001b[49m\u001b[43m,\u001b[49m\n\u001b[0;32m   1179\u001b[0m \u001b[43m    \u001b[49m\u001b[43mpassword\u001b[49m\u001b[38;5;241;43m=\u001b[39;49m\u001b[38;5;28;43;01mFalse\u001b[39;49;00m\u001b[43m,\u001b[49m\n\u001b[0;32m   1180\u001b[0m \u001b[43m\u001b[49m\u001b[43m)\u001b[49m\n",
      "File \u001b[1;32m~\\anaconda3\\lib\\site-packages\\ipykernel\\kernelbase.py:1217\u001b[0m, in \u001b[0;36mKernel._input_request\u001b[1;34m(self, prompt, ident, parent, password)\u001b[0m\n\u001b[0;32m   1214\u001b[0m             \u001b[38;5;28;01mbreak\u001b[39;00m\n\u001b[0;32m   1215\u001b[0m \u001b[38;5;28;01mexcept\u001b[39;00m \u001b[38;5;167;01mKeyboardInterrupt\u001b[39;00m:\n\u001b[0;32m   1216\u001b[0m     \u001b[38;5;66;03m# re-raise KeyboardInterrupt, to truncate traceback\u001b[39;00m\n\u001b[1;32m-> 1217\u001b[0m     \u001b[38;5;28;01mraise\u001b[39;00m \u001b[38;5;167;01mKeyboardInterrupt\u001b[39;00m(\u001b[38;5;124m\"\u001b[39m\u001b[38;5;124mInterrupted by user\u001b[39m\u001b[38;5;124m\"\u001b[39m) \u001b[38;5;28;01mfrom\u001b[39;00m \u001b[38;5;28mNone\u001b[39m\n\u001b[0;32m   1218\u001b[0m \u001b[38;5;28;01mexcept\u001b[39;00m \u001b[38;5;167;01mException\u001b[39;00m:\n\u001b[0;32m   1219\u001b[0m     \u001b[38;5;28mself\u001b[39m\u001b[38;5;241m.\u001b[39mlog\u001b[38;5;241m.\u001b[39mwarning(\u001b[38;5;124m\"\u001b[39m\u001b[38;5;124mInvalid Message:\u001b[39m\u001b[38;5;124m\"\u001b[39m, exc_info\u001b[38;5;241m=\u001b[39m\u001b[38;5;28;01mTrue\u001b[39;00m)\n",
      "\u001b[1;31mKeyboardInterrupt\u001b[0m: Interrupted by user"
     ]
    }
   ],
   "source": [
    "# named 방법으로 데이터 입력하기\n",
    "try:\n",
    "    name = input('입력할 이름은?')\n",
    "    age = int(input('입력할 나이는?'))\n",
    "except ValueError:\n",
    "    print('유요하지 않는 나이를 입력하시면 18세로 초기화')\n",
    "    age = 18\n",
    "finally:\n",
    "    email = input('입력할 메일은?')\n",
    "cursor.execute('INSERT INTO MEMVER VALUES (:name, :age, : email)',\n",
    "              {'name':name, 'age':age, 'email':email})\n",
    "conn.commit()\n",
    "if cursor.rowcount == 1:\n",
    "    print('입력성공')\n",
    "else:\n",
    "    print('입력실패')"
   ]
  },
  {
   "cell_type": "code",
   "execution_count": 44,
   "id": "00e966aa",
   "metadata": {},
   "outputs": [],
   "source": [
    "cursor.close()"
   ]
  },
  {
   "cell_type": "code",
   "execution_count": 46,
   "id": "c41f2038",
   "metadata": {},
   "outputs": [],
   "source": [
    "conn.close()"
   ]
  },
  {
   "cell_type": "code",
   "execution_count": 47,
   "id": "1f96262f",
   "metadata": {},
   "outputs": [
    {
     "data": {
      "text/plain": [
       "<cx_Oracle.Connection to scott@localhost:1521/xe>"
      ]
     },
     "execution_count": 47,
     "metadata": {},
     "output_type": "execute_result"
    }
   ],
   "source": [
    "import cx_Oracle\n",
    "# conn 얻어오는 방법1\n",
    "conn = cx_Oracle.connect('scott','tiger','localhost:1521/xe')\n",
    "conn"
   ]
  },
  {
   "cell_type": "code",
   "execution_count": 49,
   "id": "85490087",
   "metadata": {},
   "outputs": [
    {
     "name": "stdout",
     "output_type": "stream",
     "text": [
      "(7369, 'SMITH', 'CLERK', 7902, 800.0, None)\n",
      "(7499, 'ALLEN', 'SALESMAN', 7698, 1600.0, 300.0)\n",
      "(7521, 'WARD', 'SALESMAN', 7698, 1250.0, 500.0)\n",
      "(7566, 'JONES', 'MANAGER', 7839, 2975.0, None)\n",
      "(7654, 'MARTIN', 'SALESMAN', 7698, 1250.0, 1400.0)\n",
      "(7698, 'BLAKE', 'MANAGER', 7839, 2850.0, None)\n",
      "(7782, 'CLARK', 'MANAGER', 7839, 2450.0, None)\n",
      "(7788, 'SCOTT', 'ANALYST', 7566, 3000.0, None)\n",
      "(7839, 'KING', 'PRESIDENT', None, 5000.0, None)\n",
      "(7844, 'TURNER', 'SALESMAN', 7698, 1500.0, 0.0)\n",
      "(7876, 'ADAMS', 'CLERK', 7788, 1100.0, None)\n",
      "(7900, 'JAMES', 'CLERK', 7698, 950.0, None)\n",
      "(7902, 'FORD', 'ANALYST', 7566, 3000.0, None)\n",
      "(7934, 'MILLER', 'CLERK', 7782, 1300.0, None)\n",
      "(9999, 'HONG', None, None, None, None)\n"
     ]
    }
   ],
   "source": [
    "cursor = conn.cursor()\n",
    "cursor.execute('SELECT EMPNO NO, ENAME, JOB, MGR, SAL, COMM FROM EMP')\n",
    "emps = cursor.fetchall()\n",
    "for emp in emps:\n",
    "        print(emp)"
   ]
  },
  {
   "cell_type": "code",
   "execution_count": 50,
   "id": "65b36176",
   "metadata": {},
   "outputs": [
    {
     "ename": "TypeError",
     "evalue": "DataFrame.__init__() got an unexpected keyword argument 'colums'",
     "output_type": "error",
     "traceback": [
      "\u001b[1;31m---------------------------------------------------------------------------\u001b[0m",
      "\u001b[1;31mTypeError\u001b[0m                                 Traceback (most recent call last)",
      "Cell \u001b[1;32mIn[50], line 1\u001b[0m\n\u001b[1;32m----> 1\u001b[0m \u001b[43mpd\u001b[49m\u001b[38;5;241;43m.\u001b[39;49m\u001b[43mDataFrame\u001b[49m\u001b[43m(\u001b[49m\u001b[43memps\u001b[49m\u001b[43m,\u001b[49m\n\u001b[0;32m      2\u001b[0m \u001b[43m            \u001b[49m\u001b[43mcolums\u001b[49m\u001b[38;5;241;43m=\u001b[39;49m\u001b[43m[\u001b[49m\u001b[43mdes\u001b[49m\u001b[43m[\u001b[49m\u001b[38;5;241;43m0\u001b[39;49m\u001b[43m]\u001b[49m\u001b[43m \u001b[49m\u001b[38;5;28;43;01mfor\u001b[39;49;00m\u001b[43m \u001b[49m\u001b[43mdes\u001b[49m\u001b[43m \u001b[49m\u001b[38;5;129;43;01min\u001b[39;49;00m\u001b[43m \u001b[49m\u001b[43mcursor\u001b[49m\u001b[38;5;241;43m.\u001b[39;49m\u001b[43mdescription\u001b[49m\u001b[43m]\u001b[49m\u001b[43m)\u001b[49m\n",
      "\u001b[1;31mTypeError\u001b[0m: DataFrame.__init__() got an unexpected keyword argument 'colums'"
     ]
    }
   ],
   "source": [
    "pd.DataFrame(emps,\n",
    "            colums=[des[0] for des in cursor.description])"
   ]
  },
  {
   "cell_type": "code",
   "execution_count": null,
   "id": "dc5a5700",
   "metadata": {},
   "outputs": [],
   "source": []
  },
  {
   "cell_type": "code",
   "execution_count": null,
   "id": "4dce5518",
   "metadata": {},
   "outputs": [],
   "source": []
  },
  {
   "cell_type": "code",
   "execution_count": null,
   "id": "0715f536",
   "metadata": {},
   "outputs": [],
   "source": []
  },
  {
   "cell_type": "code",
   "execution_count": null,
   "id": "24c7beab",
   "metadata": {},
   "outputs": [],
   "source": []
  },
  {
   "cell_type": "code",
   "execution_count": null,
   "id": "7b1d524f",
   "metadata": {},
   "outputs": [],
   "source": []
  },
  {
   "cell_type": "code",
   "execution_count": null,
   "id": "10855edb",
   "metadata": {},
   "outputs": [],
   "source": []
  },
  {
   "cell_type": "code",
   "execution_count": null,
   "id": "a0272b89",
   "metadata": {},
   "outputs": [],
   "source": []
  }
 ],
 "metadata": {
  "kernelspec": {
   "display_name": "Python 3 (ipykernel)",
   "language": "python",
   "name": "python3"
  },
  "language_info": {
   "codemirror_mode": {
    "name": "ipython",
    "version": 3
   },
   "file_extension": ".py",
   "mimetype": "text/x-python",
   "name": "python",
   "nbconvert_exporter": "python",
   "pygments_lexer": "ipython3",
   "version": "3.10.9"
  },
  "toc": {
   "base_numbering": 1,
   "nav_menu": {},
   "number_sections": false,
   "sideBar": true,
   "skip_h1_title": false,
   "title_cell": "Table of Contents",
   "title_sidebar": "Contents",
   "toc_cell": false,
   "toc_position": {},
   "toc_section_display": true,
   "toc_window_display": false
  }
 },
 "nbformat": 4,
 "nbformat_minor": 5
}
