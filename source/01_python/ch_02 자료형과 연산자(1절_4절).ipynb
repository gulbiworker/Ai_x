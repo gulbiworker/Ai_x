{
 "cells": [
  {
   "cell_type": "code",
   "execution_count": 1,
   "id": "feccd64f",
   "metadata": {},
   "outputs": [
    {
     "data": {
      "text/html": [
       "\n",
       "<style>\n",
       "div.container{width:86% !important;}\n",
       "div.cell.code_cell.rendered{width:100%;}\n",
       "div.CodeMirror {font-family:Consolas; font-size:15pt;}\n",
       "div.output {font-size:15pt; font-weight:bold;}\n",
       "div.input {font-family:Consolas; font-size:15pt;}\n",
       "div.prompt {min-width:70px;}\n",
       "div#toc-wrapper{padding-top:120px;}\n",
       "div.text_cell_render ul li{font-size:12pt;padding:5px;}\n",
       "table.dataframe{font-size:15px;}\n",
       "</style>\n"
      ],
      "text/plain": [
       "<IPython.core.display.HTML object>"
      ]
     },
     "metadata": {},
     "output_type": "display_data"
    }
   ],
   "source": [
    "from IPython.display import display, HTML\n",
    "display(HTML(\"\"\"\n",
    "<style>\n",
    "div.container{width:86% !important;}\n",
    "div.cell.code_cell.rendered{width:100%;}\n",
    "div.CodeMirror {font-family:Consolas; font-size:15pt;}\n",
    "div.output {font-size:15pt; font-weight:bold;}\n",
    "div.input {font-family:Consolas; font-size:15pt;}\n",
    "div.prompt {min-width:70px;}\n",
    "div#toc-wrapper{padding-top:120px;}\n",
    "div.text_cell_render ul li{font-size:12pt;padding:5px;}\n",
    "table.dataframe{font-size:15px;}\n",
    "</style>\n",
    "\"\"\"))"
   ]
  },
  {
   "cell_type": "markdown",
   "id": "783c298b",
   "metadata": {},
   "source": [
    "<font size=\"5\" color=\"red\">ch02 자료형과 연산자</font>\n",
    "# 1절 변수\n",
    "- python은 변수선언이 필요 없음. 할다과 동시에 타입이 지정되고 값이 할당됨\n",
    "## 1.1 변수할당\n",
    "- 할당연산자(=)를 이용해서 값을 할당하면 타입이 셋팅\n",
    "- 파이썬에서의 모든 변수는 객체로 저장\n"
   ]
  },
  {
   "cell_type": "code",
   "execution_count": 2,
   "id": "ae6d63bb",
   "metadata": {},
   "outputs": [],
   "source": [
    "r = 5"
   ]
  },
  {
   "cell_type": "code",
   "execution_count": 3,
   "id": "4f10846a",
   "metadata": {},
   "outputs": [
    {
     "name": "stdout",
     "output_type": "stream",
     "text": [
      "r>5\n"
     ]
    }
   ],
   "source": [
    "number = input(\"r>\")"
   ]
  },
  {
   "cell_type": "code",
   "execution_count": 4,
   "id": "940de678",
   "metadata": {},
   "outputs": [
    {
     "name": "stdout",
     "output_type": "stream",
     "text": [
      "width of circle 78.5\n"
     ]
    }
   ],
   "source": [
    "print(\"width of circle\", 3.14*r*r)"
   ]
  },
  {
   "cell_type": "code",
   "execution_count": 5,
   "id": "f3eeda22",
   "metadata": {},
   "outputs": [
    {
     "name": "stdout",
     "output_type": "stream",
     "text": [
      "5\n"
     ]
    }
   ],
   "source": [
    "print(r)"
   ]
  },
  {
   "cell_type": "code",
   "execution_count": 7,
   "id": "df9e3825",
   "metadata": {},
   "outputs": [
    {
     "name": "stdout",
     "output_type": "stream",
     "text": [
      "calculated area 78.5\n"
     ]
    }
   ],
   "source": [
    "r=5\n",
    "area=3.14*r*r\n",
    "print(\"calculated area\", area)"
   ]
  },
  {
   "cell_type": "code",
   "execution_count": 8,
   "id": "a75df526",
   "metadata": {},
   "outputs": [],
   "source": [
    "import math\n"
   ]
  },
  {
   "cell_type": "code",
   "execution_count": 9,
   "id": "a734b931",
   "metadata": {},
   "outputs": [
    {
     "ename": "NameError",
     "evalue": "name 'PI' is not defined",
     "output_type": "error",
     "traceback": [
      "\u001b[1;31m---------------------------------------------------------------------------\u001b[0m",
      "\u001b[1;31mNameError\u001b[0m                                 Traceback (most recent call last)",
      "Cell \u001b[1;32mIn[9], line 1\u001b[0m\n\u001b[1;32m----> 1\u001b[0m \u001b[43mPI\u001b[49m\n",
      "\u001b[1;31mNameError\u001b[0m: name 'PI' is not defined"
     ]
    }
   ],
   "source": [
    "PI"
   ]
  },
  {
   "cell_type": "code",
   "execution_count": 11,
   "id": "88f9b377",
   "metadata": {},
   "outputs": [
    {
     "name": "stdout",
     "output_type": "stream",
     "text": [
      "area= 78.53981633974483\n"
     ]
    }
   ],
   "source": [
    "import numpy as np\n",
    "area = np.pi*r*r\n",
    "print(\"area=\", area)"
   ]
  },
  {
   "cell_type": "code",
   "execution_count": 12,
   "id": "f0802bc9",
   "metadata": {},
   "outputs": [
    {
     "data": {
      "text/plain": [
       "False"
      ]
     },
     "execution_count": 12,
     "metadata": {},
     "output_type": "execute_result"
    }
   ],
   "source": [
    "area.is_integer()  # area 가 자연수 인지 여부"
   ]
  },
  {
   "cell_type": "code",
   "execution_count": 13,
   "id": "ecc43cdc",
   "metadata": {},
   "outputs": [
    {
     "ename": "AttributeError",
     "evalue": "'float' object has no attribute 'is_float'",
     "output_type": "error",
     "traceback": [
      "\u001b[1;31m---------------------------------------------------------------------------\u001b[0m",
      "\u001b[1;31mAttributeError\u001b[0m                            Traceback (most recent call last)",
      "Cell \u001b[1;32mIn[13], line 1\u001b[0m\n\u001b[1;32m----> 1\u001b[0m \u001b[43marea\u001b[49m\u001b[38;5;241;43m.\u001b[39;49m\u001b[43mis_float\u001b[49m()\n",
      "\u001b[1;31mAttributeError\u001b[0m: 'float' object has no attribute 'is_float'"
     ]
    }
   ],
   "source": [
    "area.is_float()"
   ]
  },
  {
   "cell_type": "code",
   "execution_count": 14,
   "id": "a6df3abd",
   "metadata": {},
   "outputs": [
    {
     "name": "stdout",
     "output_type": "stream",
     "text": [
      "address of area 1764391461008\n",
      "<class 'float'>\n"
     ]
    }
   ],
   "source": [
    "print(\"address of area\",id(area)) #id(area) : area 변수의 주소값\n",
    "print(type(area)) "
   ]
  },
  {
   "cell_type": "code",
   "execution_count": 15,
   "id": "3cc1249b",
   "metadata": {},
   "outputs": [
    {
     "ename": "AttributeError",
     "evalue": "'float' object has no attribute 'is_float'",
     "output_type": "error",
     "traceback": [
      "\u001b[1;31m---------------------------------------------------------------------------\u001b[0m",
      "\u001b[1;31mAttributeError\u001b[0m                            Traceback (most recent call last)",
      "Cell \u001b[1;32mIn[15], line 1\u001b[0m\n\u001b[1;32m----> 1\u001b[0m \u001b[43marea\u001b[49m\u001b[38;5;241;43m.\u001b[39;49m\u001b[43mis_float\u001b[49m\n",
      "\u001b[1;31mAttributeError\u001b[0m: 'float' object has no attribute 'is_float'"
     ]
    }
   ],
   "source": [
    "area.is_float"
   ]
  },
  {
   "cell_type": "code",
   "execution_count": 16,
   "id": "5544842a",
   "metadata": {},
   "outputs": [],
   "source": [
    "area = 5.5"
   ]
  },
  {
   "cell_type": "code",
   "execution_count": 17,
   "id": "70e82ae6",
   "metadata": {},
   "outputs": [
    {
     "name": "stdout",
     "output_type": "stream",
     "text": [
      "address of area 1764392347536\n",
      "<class 'float'>\n"
     ]
    }
   ],
   "source": [
    "print(\"address of area\",id(area)) #id(area) : area 변수의 주소값\n",
    "print(type(area)) "
   ]
  },
  {
   "cell_type": "code",
   "execution_count": 18,
   "id": "25f9b245",
   "metadata": {},
   "outputs": [],
   "source": [
    "area = 10"
   ]
  },
  {
   "cell_type": "code",
   "execution_count": 19,
   "id": "455660c0",
   "metadata": {},
   "outputs": [
    {
     "name": "stdout",
     "output_type": "stream",
     "text": [
      "address of area 1764310188560\n",
      "<class 'int'>\n"
     ]
    }
   ],
   "source": [
    "print(\"address of area\",id(area)) #id(area) : area 변수의 주소값\n",
    "print(type(area)) "
   ]
  },
  {
   "cell_type": "code",
   "execution_count": 20,
   "id": "d7f5bc13",
   "metadata": {},
   "outputs": [
    {
     "ename": "AttributeError",
     "evalue": "'int' object has no attribute 'is_integer'",
     "output_type": "error",
     "traceback": [
      "\u001b[1;31m---------------------------------------------------------------------------\u001b[0m",
      "\u001b[1;31mAttributeError\u001b[0m                            Traceback (most recent call last)",
      "Cell \u001b[1;32mIn[20], line 1\u001b[0m\n\u001b[1;32m----> 1\u001b[0m \u001b[43marea\u001b[49m\u001b[38;5;241;43m.\u001b[39;49m\u001b[43mis_integer\u001b[49m()\n",
      "\u001b[1;31mAttributeError\u001b[0m: 'int' object has no attribute 'is_integer'"
     ]
    }
   ],
   "source": [
    "area.is_integer()"
   ]
  },
  {
   "cell_type": "code",
   "execution_count": 21,
   "id": "91aff408",
   "metadata": {},
   "outputs": [
    {
     "name": "stdout",
     "output_type": "stream",
     "text": [
      "address of area 1764353612528\n",
      "<class 'str'>\n"
     ]
    }
   ],
   "source": [
    "area=\"python\"\n",
    "print(\"address of area\",id(area)) #id(area) : area 변수의 주소값\n",
    "print(type(area)) "
   ]
  },
  {
   "cell_type": "markdown",
   "id": "2436aae4",
   "metadata": {},
   "source": [
    "## 1.2 변수이름 규칙\n",
    "-문자로 시작(숫자시작불가)\n",
    "-문자, 숫자, _로 변수명 작성\n",
    "-함수명은 변수이름으로 가능하나 피한다. 써야한다면 int_ 식으로 underbar 를 활용한다\n",
    "-파이썬 예약어(for, ..)는 변수이름 사용 불가\n",
    "-한글변수는 꼭 필요시에만 이용"
   ]
  },
  {
   "cell_type": "code",
   "execution_count": 22,
   "id": "6bca86fa",
   "metadata": {},
   "outputs": [
    {
     "name": "stdout",
     "output_type": "stream",
     "text": [
      "이름\n"
     ]
    }
   ],
   "source": [
    "이름=\"홍길동\"\n",
    "print(\"이름\")"
   ]
  },
  {
   "cell_type": "code",
   "execution_count": 23,
   "id": "d39d1446",
   "metadata": {},
   "outputs": [
    {
     "name": "stdout",
     "output_type": "stream",
     "text": [
      "홍길동\n"
     ]
    }
   ],
   "source": [
    "print(이름) # 변수를 한글로 하는건 피하는 것이 좋다, 또한 대문자로 시작한 변수도 피하는것이 좋다"
   ]
  },
  {
   "cell_type": "code",
   "execution_count": 24,
   "id": "f526ed04",
   "metadata": {},
   "outputs": [],
   "source": [
    "member_name = \"홍길동\"\n",
    "memberName = \"홍길동\""
   ]
  },
  {
   "cell_type": "code",
   "execution_count": 26,
   "id": "f09c8c96",
   "metadata": {},
   "outputs": [
    {
     "data": {
      "text/plain": [
       "complex"
      ]
     },
     "execution_count": 26,
     "metadata": {},
     "output_type": "execute_result"
    }
   ],
   "source": [
    "# 파이썬에서의 숫자 : 정수, 실수, 복소수\n",
    "i = 3 + 3j\n",
    "type(i)"
   ]
  },
  {
   "cell_type": "code",
   "execution_count": 30,
   "id": "3eff1fc7",
   "metadata": {},
   "outputs": [
    {
     "data": {
      "text/plain": [
       "True"
      ]
     },
     "execution_count": 30,
     "metadata": {},
     "output_type": "execute_result"
    }
   ],
   "source": [
    "isinstance(i,complex)# i 변수가 complex 인지 여부"
   ]
  },
  {
   "cell_type": "markdown",
   "id": "274d3a3d",
   "metadata": {},
   "source": [
    "## 1.3 도움말"
   ]
  },
  {
   "cell_type": "code",
   "execution_count": 31,
   "id": "140da1b4",
   "metadata": {},
   "outputs": [
    {
     "name": "stdout",
     "output_type": "stream",
     "text": [
      "Help on built-in function print in module builtins:\n",
      "\n",
      "print(...)\n",
      "    print(value, ..., sep=' ', end='\\n', file=sys.stdout, flush=False)\n",
      "    \n",
      "    Prints the values to a stream, or to sys.stdout by default.\n",
      "    Optional keyword arguments:\n",
      "    file:  a file-like object (stream); defaults to the current sys.stdout.\n",
      "    sep:   string inserted between values, default a space.\n",
      "    end:   string appended after the last value, default a newline.\n",
      "    flush: whether to forcibly flush the stream.\n",
      "\n"
     ]
    }
   ],
   "source": [
    "help(print) # 빠져나올려면 q / esc 를 눌러서 결과 접기/펴기"
   ]
  },
  {
   "cell_type": "code",
   "execution_count": 33,
   "id": "d1a5ed70",
   "metadata": {},
   "outputs": [],
   "source": [
    "# 도움말 기능 : shift + tab 키"
   ]
  },
  {
   "cell_type": "code",
   "execution_count": 36,
   "id": "903f8c77",
   "metadata": {},
   "outputs": [],
   "source": [
    "def add(x, y):\n",
    "    '''\n",
    "    매개변수 2개를 받아 두자리 숫자로 만들어요\n",
    "    x=10의 자리수가 됨\n",
    "    y=1의 자리수가 됨\n",
    "    사용법 : add(2,3)\n",
    "    '''\n",
    "    return x*10 + y"
   ]
  },
  {
   "cell_type": "code",
   "execution_count": 37,
   "id": "eea07c96",
   "metadata": {},
   "outputs": [
    {
     "data": {
      "text/plain": [
       "23"
      ]
     },
     "execution_count": 37,
     "metadata": {},
     "output_type": "execute_result"
    }
   ],
   "source": [
    "add(2,3)"
   ]
  },
  {
   "cell_type": "code",
   "execution_count": 38,
   "id": "5894feee",
   "metadata": {},
   "outputs": [],
   "source": [
    "def add(x, y=0):\n",
    "    return x*10+y"
   ]
  },
  {
   "cell_type": "code",
   "execution_count": 39,
   "id": "7a77da87",
   "metadata": {},
   "outputs": [
    {
     "data": {
      "text/plain": [
       "20"
      ]
     },
     "execution_count": 39,
     "metadata": {},
     "output_type": "execute_result"
    }
   ],
   "source": [
    "add(2)"
   ]
  },
  {
   "cell_type": "code",
   "execution_count": 40,
   "id": "18e3f1a8",
   "metadata": {},
   "outputs": [
    {
     "data": {
      "text/plain": [
       "23"
      ]
     },
     "execution_count": 40,
     "metadata": {},
     "output_type": "execute_result"
    }
   ],
   "source": [
    "a=add\n",
    "a(2,3)"
   ]
  },
  {
   "cell_type": "markdown",
   "id": "935d3de1",
   "metadata": {},
   "source": [
    "## 1.4 다중 변수 할당"
   ]
  },
  {
   "cell_type": "code",
   "execution_count": 41,
   "id": "e7dcea43",
   "metadata": {},
   "outputs": [],
   "source": [
    "a= 10\n",
    "b=20"
   ]
  },
  {
   "cell_type": "code",
   "execution_count": 42,
   "id": "4911c667",
   "metadata": {},
   "outputs": [
    {
     "name": "stdout",
     "output_type": "stream",
     "text": [
      "10 20\n"
     ]
    }
   ],
   "source": [
    "a,b = 10, 20\n",
    "print(a, b)"
   ]
  },
  {
   "cell_type": "code",
   "execution_count": 43,
   "id": "6d3622b7",
   "metadata": {},
   "outputs": [
    {
     "name": "stdout",
     "output_type": "stream",
     "text": [
      "20 30\n"
     ]
    }
   ],
   "source": [
    "a, b= b, a+b\n",
    "print(a, b)\n",
    "# 다중변수 할당시 순차적 할당이 아니고, 일괄 동시 할당"
   ]
  },
  {
   "cell_type": "markdown",
   "id": "2e2e4112",
   "metadata": {},
   "source": [
    "# 2절. 화면입출력(i/o)"
   ]
  },
  {
   "cell_type": "code",
   "execution_count": 45,
   "id": "3541aa59",
   "metadata": {},
   "outputs": [
    {
     "name": "stdout",
     "output_type": "stream",
     "text": [
      "first number5\n"
     ]
    },
    {
     "data": {
      "text/plain": [
       "'5'"
      ]
     },
     "execution_count": 45,
     "metadata": {},
     "output_type": "execute_result"
    }
   ],
   "source": [
    "# input() : 사용자로부터 값을 입력받기 위한 함수, 문자열로 입력\n",
    "first=input(\"first number\")\n",
    "first"
   ]
  },
  {
   "cell_type": "code",
   "execution_count": 46,
   "id": "cd154780",
   "metadata": {},
   "outputs": [
    {
     "name": "stdout",
     "output_type": "stream",
     "text": [
      "second number2\n",
      "2\n"
     ]
    }
   ],
   "source": [
    "second=input(\"second number\")\n",
    "print(second)"
   ]
  },
  {
   "cell_type": "code",
   "execution_count": 47,
   "id": "6a38cb3d",
   "metadata": {},
   "outputs": [],
   "source": [
    "sum= first + second"
   ]
  },
  {
   "cell_type": "code",
   "execution_count": 48,
   "id": "92e51670",
   "metadata": {},
   "outputs": [
    {
     "name": "stdout",
     "output_type": "stream",
     "text": [
      "52\n"
     ]
    }
   ],
   "source": [
    "print(sum)"
   ]
  },
  {
   "cell_type": "code",
   "execution_count": 49,
   "id": "bd09b0a1",
   "metadata": {},
   "outputs": [
    {
     "name": "stdout",
     "output_type": "stream",
     "text": [
      "7\n"
     ]
    }
   ],
   "source": [
    "sum = int(first)+int(second)\n",
    "print(sum) # input 함수는 문자열로만 받는다"
   ]
  },
  {
   "cell_type": "code",
   "execution_count": 50,
   "id": "a1cb4758",
   "metadata": {},
   "outputs": [
    {
     "name": "stdout",
     "output_type": "stream",
     "text": [
      "first number8\n"
     ]
    }
   ],
   "source": [
    "first = int(input(\"first number\")) # 처움부터 수로 바꾸는 방법"
   ]
  },
  {
   "cell_type": "code",
   "execution_count": 51,
   "id": "5942cefc",
   "metadata": {},
   "outputs": [
    {
     "name": "stdout",
     "output_type": "stream",
     "text": [
      "second number2\n"
     ]
    }
   ],
   "source": [
    "second = int(input(\"second number\"))"
   ]
  },
  {
   "cell_type": "code",
   "execution_count": 52,
   "id": "61d71e7e",
   "metadata": {},
   "outputs": [
    {
     "name": "stdout",
     "output_type": "stream",
     "text": [
      "10\n"
     ]
    }
   ],
   "source": [
    "sum= first + second\n",
    "print(sum)"
   ]
  },
  {
   "cell_type": "code",
   "execution_count": 56,
   "id": "36121af8",
   "metadata": {},
   "outputs": [
    {
     "name": "stdout",
     "output_type": "stream",
     "text": [
      "합=10합~10합is10"
     ]
    }
   ],
   "source": [
    "print('합',sum, sep='=', end='')\n",
    "print('합',sum, sep='~', end='')\n",
    "print('합',sum, sep='is', end='')"
   ]
  },
  {
   "cell_type": "code",
   "execution_count": 61,
   "id": "d7f95da6",
   "metadata": {},
   "outputs": [
    {
     "name": "stdout",
     "output_type": "stream",
     "text": [
      "hiworld\n"
     ]
    }
   ],
   "source": [
    "print(\"hi\" \"world\")\n"
   ]
  },
  {
   "cell_type": "code",
   "execution_count": 59,
   "id": "980e3529",
   "metadata": {},
   "outputs": [
    {
     "name": "stdout",
     "output_type": "stream",
     "text": [
      "hi,world\n"
     ]
    }
   ],
   "source": [
    "print(\"hi\",\"world\",sep=\",\")"
   ]
  },
  {
   "cell_type": "code",
   "execution_count": 63,
   "id": "b3543ab5",
   "metadata": {},
   "outputs": [
    {
     "name": "stdout",
     "output_type": "stream",
     "text": [
      "hi,world\n"
     ]
    }
   ],
   "source": [
    "import sys\n",
    "print(\"hi\",\"world\",sep=\",\",file=sys.stdout)"
   ]
  },
  {
   "cell_type": "markdown",
   "id": "c410a8ab",
   "metadata": {},
   "source": [
    "# 3절. 기본자료형\n",
    "- 자료형에 따라 값의 크기와 저장방식이 달라진\n",
    "- 숫자 : int, float\n",
    "- 문자 : str\n",
    "- 논리 : bool(True/False) # 이 True 와 False 는 대문자로 시작해야 한다\n",
    "## 3.1 숫자형\n"
   ]
  },
  {
   "cell_type": "markdown",
   "id": "fa3c9f2d",
   "metadata": {},
   "source": []
  },
  {
   "cell_type": "code",
   "execution_count": 64,
   "id": "17bc0ca4",
   "metadata": {},
   "outputs": [
    {
     "data": {
      "text/plain": [
       "9223372036854775807"
      ]
     },
     "execution_count": 64,
     "metadata": {},
     "output_type": "execute_result"
    }
   ],
   "source": [
    "import sys\n",
    "sys.maxsize # 정수의 최대값 2의 63승-1"
   ]
  },
  {
   "cell_type": "code",
   "execution_count": 65,
   "id": "706b91bd",
   "metadata": {},
   "outputs": [],
   "source": [
    "i = sys.maxsize + 1000"
   ]
  },
  {
   "cell_type": "code",
   "execution_count": 68,
   "id": "70564ddd",
   "metadata": {},
   "outputs": [
    {
     "name": "stdout",
     "output_type": "stream",
     "text": [
      "9223372036854776807\n",
      "<class 'int'>\n"
     ]
    }
   ],
   "source": [
    "print(i)\n",
    "print(type(i))\n"
   ]
  },
  {
   "cell_type": "code",
   "execution_count": 70,
   "id": "e54d12b4",
   "metadata": {},
   "outputs": [
    {
     "data": {
      "text/plain": [
       "2.0"
      ]
     },
     "execution_count": 70,
     "metadata": {},
     "output_type": "execute_result"
    }
   ],
   "source": [
    "f= 4/2 # 정수/정수는 무조건 실수\n",
    "f"
   ]
  },
  {
   "cell_type": "code",
   "execution_count": 72,
   "id": "878a6773",
   "metadata": {},
   "outputs": [
    {
     "data": {
      "text/plain": [
       "1"
      ]
     },
     "execution_count": 72,
     "metadata": {},
     "output_type": "execute_result"
    }
   ],
   "source": [
    "# 자바처럼 정수/정수의 결과를 정수로\n",
    "f=3//2 # 몫 연산자\n",
    "f"
   ]
  },
  {
   "cell_type": "code",
   "execution_count": 73,
   "id": "e46b446a",
   "metadata": {},
   "outputs": [
    {
     "name": "stdout",
     "output_type": "stream",
     "text": [
      "(-1+0j)\n"
     ]
    }
   ],
   "source": [
    "c = 1j # 0 + i\n",
    "print(c**2)"
   ]
  },
  {
   "cell_type": "code",
   "execution_count": 75,
   "id": "11bb2db5",
   "metadata": {},
   "outputs": [
    {
     "data": {
      "text/plain": [
       "1120000000000.0"
      ]
     },
     "execution_count": 75,
     "metadata": {},
     "output_type": "execute_result"
    }
   ],
   "source": [
    "f = 1.12e12 # 1.12의 10의 12승\n",
    "f"
   ]
  },
  {
   "cell_type": "code",
   "execution_count": 76,
   "id": "281443f5",
   "metadata": {},
   "outputs": [
    {
     "data": {
      "text/plain": [
       "1.12e-12"
      ]
     },
     "execution_count": 76,
     "metadata": {},
     "output_type": "execute_result"
    }
   ],
   "source": [
    "f=1.12e-12\n",
    "f"
   ]
  },
  {
   "cell_type": "markdown",
   "id": "f53c6d0f",
   "metadata": {},
   "source": [
    "## 3.2문자형\n",
    "쌍따옴표(\"-\")나 홑따옴표('-')이용"
   ]
  },
  {
   "cell_type": "code",
   "execution_count": 79,
   "id": "1ae106d9",
   "metadata": {},
   "outputs": [
    {
     "ename": "SyntaxError",
     "evalue": "invalid syntax (3918022450.py, line 1)",
     "output_type": "error",
     "traceback": [
      "\u001b[1;36m  Cell \u001b[1;32mIn[79], line 1\u001b[1;36m\u001b[0m\n\u001b[1;33m    name = \"홍길동\"짱\"\"\u001b[0m\n\u001b[1;37m                ^\u001b[0m\n\u001b[1;31mSyntaxError\u001b[0m\u001b[1;31m:\u001b[0m invalid syntax\n"
     ]
    }
   ],
   "source": [
    "name = \"홍길동\"짱\"\" \n",
    "name = '홍길동\"짱\"'\n",
    "address = # 서울시 관악구 '신길동'\n",
    "address =\"서울시 관악구 '신길동'\"\n",
    "print(address)"
   ]
  },
  {
   "cell_type": "code",
   "execution_count": 80,
   "id": "b9f4343f",
   "metadata": {},
   "outputs": [
    {
     "name": "stdout",
     "output_type": "stream",
     "text": [
      "서울시 관악구 '신길동'\n"
     ]
    }
   ],
   "source": [
    "address =\"서울시 관악구 '신길동'\"\n",
    "print(address)"
   ]
  },
  {
   "cell_type": "code",
   "execution_count": 81,
   "id": "5f28d06c",
   "metadata": {},
   "outputs": [
    {
     "name": "stdout",
     "output_type": "stream",
     "text": [
      "홍길동'짱'\n"
     ]
    }
   ],
   "source": [
    "name = \"홍길동'짱'\"\n",
    "print(name)"
   ]
  },
  {
   "cell_type": "code",
   "execution_count": 82,
   "id": "bf7a093e",
   "metadata": {},
   "outputs": [
    {
     "data": {
      "text/plain": [
       "'홍길동\"짱\"'"
      ]
     },
     "execution_count": 82,
     "metadata": {},
     "output_type": "execute_result"
    }
   ],
   "source": [
    "name = '홍길동\"짱\"'\n",
    "name"
   ]
  },
  {
   "cell_type": "code",
   "execution_count": 83,
   "id": "0d8a359f",
   "metadata": {},
   "outputs": [
    {
     "name": "stdout",
     "output_type": "stream",
     "text": [
      "여러줄 짜리 내용\n",
      "줄바꿈문자를 쓰지 않고 따옴표 3개로 처리\n",
      "이처럼 쓰는 경우가 많음\n"
     ]
    }
   ],
   "source": [
    "# 문자형 변수 여러줄\n",
    "text = '''여러줄 짜리 내용\n",
    "줄바꿈문자를 쓰지 않고 따옴표 3개로 처리\n",
    "이처럼 쓰는 경우가 많음'''\n",
    "print(text)"
   ]
  },
  {
   "cell_type": "markdown",
   "id": "a9dc2bd9",
   "metadata": {},
   "source": [
    "### ※ 문자열 연산 "
   ]
  },
  {
   "cell_type": "markdown",
   "id": "49574895",
   "metadata": {},
   "source": [
    "\n"
   ]
  },
  {
   "cell_type": "code",
   "execution_count": 84,
   "id": "abc10d5e",
   "metadata": {},
   "outputs": [
    {
     "name": "stdout",
     "output_type": "stream",
     "text": [
      "홍길동동해 번쩍 서해 번쩍\n"
     ]
    }
   ],
   "source": [
    "'''\n",
    "   여러 줄 주석 용도\n",
    "   2025.04.08 문자열 연산 소스 by 아무개\n",
    "'''\n",
    "name1=\"홍길동\"\n",
    "name2=\"동해 번쩍 서해 번쩍\"\n",
    "print(name1+name2)\n"
   ]
  },
  {
   "cell_type": "code",
   "execution_count": 85,
   "id": "45ffbe3f",
   "metadata": {},
   "outputs": [
    {
     "name": "stdout",
     "output_type": "stream",
     "text": [
      "홍길동홍길동홍길동\n"
     ]
    }
   ],
   "source": [
    "print(name1*3) # 문자열을 곱하면 반복"
   ]
  },
  {
   "cell_type": "markdown",
   "id": "29d70ea6",
   "metadata": {},
   "source": [
    "### ※ RAW 데이터 \n",
    "-용도 : 정규표현식 이용, 디렉터리 경로 표현시 이용"
   ]
  },
  {
   "cell_type": "code",
   "execution_count": 2,
   "id": "365da425",
   "metadata": {},
   "outputs": [
    {
     "name": "stdout",
     "output_type": "stream",
     "text": [
      "hi\n",
      "world\n"
     ]
    }
   ],
   "source": [
    "print('hi\\nworld')"
   ]
  },
  {
   "cell_type": "code",
   "execution_count": 1,
   "id": "10bfdc4b",
   "metadata": {},
   "outputs": [
    {
     "name": "stdout",
     "output_type": "stream",
     "text": [
      "hi\\nworld\n"
     ]
    }
   ],
   "source": [
    "print(r'hi\\nworld') # 줄 바꾸는거 해석 x r (raw)를 넣어서 그대로 "
   ]
  },
  {
   "cell_type": "code",
   "execution_count": 92,
   "id": "c03dd885",
   "metadata": {},
   "outputs": [
    {
     "name": "stdout",
     "output_type": "stream",
     "text": [
      "hi\\nworld\n"
     ]
    }
   ],
   "source": [
    "print('hi\\\\nworld')"
   ]
  },
  {
   "cell_type": "markdown",
   "id": "14e85956",
   "metadata": {},
   "source": [
    "정규표현식\n",
    "```\n",
    "1. 참조 : 위키백과\n",
    "2. 간략한 문법 :\n",
    "      \\d (숫자와 매치,[0-9]와 동일\n",
    "      \\D (숫자가 아닌것)\n",
    "      \\w (영문자나 숫자, [a-zA-Z0_9]\n",
    "      \\W (영문자나 숫자가 아닌 문자)\n",
    "      . (문자)\n",
    "      \\. (.의미)\n",
    "      \\- (-의미)\n",
    "      {2, 4} (2~4번 반복)\n",
    "      {4}    (4번 반복)\n",
    "      {2,}   (2번 이상 반복)\n",
    "      +      (1번 이상 반복)\n",
    "      *      (0번 이상 반복)\n",
    "      ?   (0번이나 1번 반복)\n",
    "3. 정규표현식 연습장(https://regexr.com/)\n",
    "   ex)1. 전화번호 : 010-9999-9999-9999       02-7777-8888       01078789898      02)456-1234        010 4567 7894\n",
    "                    010.6547.4569\n",
    "       \n",
    "      정규표현식 :  [\\d]{2,}[-) .][\\d]{2,4}[- .][\\d]{4}\n",
    "   \n",
    "   ex)2. 이메일 : abc12@naver.com   /   abc456@0to7.co.kr\n",
    "       정규표현식\n",
    "```"
   ]
  },
  {
   "cell_type": "code",
   "execution_count": null,
   "id": "7523aba2",
   "metadata": {},
   "outputs": [],
   "source": [
    "fff"
   ]
  }
 ],
 "metadata": {
  "kernelspec": {
   "display_name": "Python 3 (ipykernel)",
   "language": "python",
   "name": "python3"
  },
  "language_info": {
   "codemirror_mode": {
    "name": "ipython",
    "version": 3
   },
   "file_extension": ".py",
   "mimetype": "text/x-python",
   "name": "python",
   "nbconvert_exporter": "python",
   "pygments_lexer": "ipython3",
   "version": "3.10.9"
  },
  "toc": {
   "base_numbering": 1,
   "nav_menu": {},
   "number_sections": false,
   "sideBar": true,
   "skip_h1_title": false,
   "title_cell": "Table of Contents",
   "title_sidebar": "Contents",
   "toc_cell": false,
   "toc_position": {
    "height": "calc(100% - 180px)",
    "left": "10px",
    "top": "150px",
    "width": "165px"
   },
   "toc_section_display": true,
   "toc_window_display": true
  }
 },
 "nbformat": 4,
 "nbformat_minor": 5
}
