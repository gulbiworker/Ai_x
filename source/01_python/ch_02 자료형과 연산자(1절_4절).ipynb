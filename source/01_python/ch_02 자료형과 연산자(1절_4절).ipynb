{
 "cells": [
  {
   "cell_type": "code",
   "execution_count": 1,
   "id": "feccd64f",
   "metadata": {},
   "outputs": [
    {
     "data": {
      "text/html": [
       "\n",
       "<style>\n",
       "div.container{width:86% !important;}\n",
       "div.cell.code_cell.rendered{width:100%;}\n",
       "div.CodeMirror {font-family:Consolas; font-size:15pt;}\n",
       "div.output {font-size:15pt; font-weight:bold;}\n",
       "div.input {font-family:Consolas; font-size:15pt;}\n",
       "div.prompt {min-width:70px;\n",
       "div#toc-wrapper{padding-top:120px;}\n",
       "div.text_cell_render ul li{font-size:12pt;padding:5px;}\n",
       "table.dataframe{font-size:15px;}\n",
       "</style>\n"
      ],
      "text/plain": [
       "<IPython.core.display.HTML object>"
      ]
     },
     "metadata": {},
     "output_type": "display_data"
    }
   ],
   "source": [
    "from IPython.display import display, HTML\n",
    "display(HTML(\"\"\"\n",
    "<style>\n",
    "div.container{width:86% !important;}\n",
    "div.cell.code_cell.rendered{width:100%;}\n",
    "div.CodeMirror {font-family:Consolas; font-size:15pt;}\n",
    "div.output {font-size:15pt; font-weight:bold;}\n",
    "div.input {font-family:Consolas; font-size:15pt;}\n",
    "div.prompt {min-width:70px;\n",
    "div#toc-wrapper{padding-top:120px;}\n",
    "div.text_cell_render ul li{font-size:12pt;padding:5px;}\n",
    "table.dataframe{font-size:15px;}\n",
    "</style>\n",
    "\"\"\"))"
   ]
  },
  {
   "cell_type": "markdown",
   "id": "783c298b",
   "metadata": {},
   "source": [
    "<font size=\"5\" color=\"red\">ch02 자료형과 연산자</font>\n",
    "# 1절 변수\n",
    "- python은 변수선언이 필요 없음. 할다과 동시에 타입이 지정되고 값이 할당됨\n",
    "## 1.1 변수할당\n",
    "- 할당연산자(=)를 이용해서 값을 할당하면 타입이 셋팅\n",
    "- 파이썬에서의 모든 변수는 객체로 저장\n"
   ]
  },
  {
   "cell_type": "code",
   "execution_count": 2,
   "id": "ae6d63bb",
   "metadata": {},
   "outputs": [],
   "source": [
    "r = 5"
   ]
  },
  {
   "cell_type": "code",
   "execution_count": 3,
   "id": "4f10846a",
   "metadata": {},
   "outputs": [
    {
     "name": "stdout",
     "output_type": "stream",
     "text": [
      "r>5\n"
     ]
    }
   ],
   "source": [
    "number = input(\"r>\")"
   ]
  },
  {
   "cell_type": "code",
   "execution_count": 4,
   "id": "940de678",
   "metadata": {},
   "outputs": [
    {
     "name": "stdout",
     "output_type": "stream",
     "text": [
      "width of circle 78.5\n"
     ]
    }
   ],
   "source": [
    "print(\"width of circle\", 3.14*r*r)"
   ]
  },
  {
   "cell_type": "code",
   "execution_count": 5,
   "id": "f3eeda22",
   "metadata": {},
   "outputs": [
    {
     "name": "stdout",
     "output_type": "stream",
     "text": [
      "5\n"
     ]
    }
   ],
   "source": [
    "print(r)"
   ]
  },
  {
   "cell_type": "code",
   "execution_count": 7,
   "id": "df9e3825",
   "metadata": {},
   "outputs": [
    {
     "name": "stdout",
     "output_type": "stream",
     "text": [
      "calculated area 78.5\n"
     ]
    }
   ],
   "source": [
    "r=5\n",
    "area=3.14*r*r\n",
    "print(\"calculated area\", area)"
   ]
  },
  {
   "cell_type": "code",
   "execution_count": 8,
   "id": "a75df526",
   "metadata": {},
   "outputs": [],
   "source": [
    "import math\n"
   ]
  },
  {
   "cell_type": "code",
   "execution_count": 9,
   "id": "a734b931",
   "metadata": {},
   "outputs": [
    {
     "ename": "NameError",
     "evalue": "name 'PI' is not defined",
     "output_type": "error",
     "traceback": [
      "\u001b[1;31m---------------------------------------------------------------------------\u001b[0m",
      "\u001b[1;31mNameError\u001b[0m                                 Traceback (most recent call last)",
      "Cell \u001b[1;32mIn[9], line 1\u001b[0m\n\u001b[1;32m----> 1\u001b[0m \u001b[43mPI\u001b[49m\n",
      "\u001b[1;31mNameError\u001b[0m: name 'PI' is not defined"
     ]
    }
   ],
   "source": [
    "PI"
   ]
  },
  {
   "cell_type": "code",
   "execution_count": 11,
   "id": "88f9b377",
   "metadata": {},
   "outputs": [
    {
     "name": "stdout",
     "output_type": "stream",
     "text": [
      "area= 78.53981633974483\n"
     ]
    }
   ],
   "source": [
    "import numpy as np\n",
    "area = np.pi*r*r\n",
    "print(\"area=\", area)"
   ]
  },
  {
   "cell_type": "code",
   "execution_count": 12,
   "id": "f0802bc9",
   "metadata": {},
   "outputs": [
    {
     "data": {
      "text/plain": [
       "False"
      ]
     },
     "execution_count": 12,
     "metadata": {},
     "output_type": "execute_result"
    }
   ],
   "source": [
    "area.is_integer()  # area 가 자연수 인지 여부"
   ]
  },
  {
   "cell_type": "code",
   "execution_count": 13,
   "id": "ecc43cdc",
   "metadata": {},
   "outputs": [
    {
     "ename": "AttributeError",
     "evalue": "'float' object has no attribute 'is_float'",
     "output_type": "error",
     "traceback": [
      "\u001b[1;31m---------------------------------------------------------------------------\u001b[0m",
      "\u001b[1;31mAttributeError\u001b[0m                            Traceback (most recent call last)",
      "Cell \u001b[1;32mIn[13], line 1\u001b[0m\n\u001b[1;32m----> 1\u001b[0m \u001b[43marea\u001b[49m\u001b[38;5;241;43m.\u001b[39;49m\u001b[43mis_float\u001b[49m()\n",
      "\u001b[1;31mAttributeError\u001b[0m: 'float' object has no attribute 'is_float'"
     ]
    }
   ],
   "source": [
    "area.is_float()"
   ]
  },
  {
   "cell_type": "code",
   "execution_count": 14,
   "id": "a6df3abd",
   "metadata": {},
   "outputs": [
    {
     "name": "stdout",
     "output_type": "stream",
     "text": [
      "address of area 1764391461008\n",
      "<class 'float'>\n"
     ]
    }
   ],
   "source": [
    "print(\"address of area\",id(area)) #id(area) : area 변수의 주소값\n",
    "print(type(area)) "
   ]
  },
  {
   "cell_type": "code",
   "execution_count": 15,
   "id": "3cc1249b",
   "metadata": {},
   "outputs": [
    {
     "ename": "AttributeError",
     "evalue": "'float' object has no attribute 'is_float'",
     "output_type": "error",
     "traceback": [
      "\u001b[1;31m---------------------------------------------------------------------------\u001b[0m",
      "\u001b[1;31mAttributeError\u001b[0m                            Traceback (most recent call last)",
      "Cell \u001b[1;32mIn[15], line 1\u001b[0m\n\u001b[1;32m----> 1\u001b[0m \u001b[43marea\u001b[49m\u001b[38;5;241;43m.\u001b[39;49m\u001b[43mis_float\u001b[49m\n",
      "\u001b[1;31mAttributeError\u001b[0m: 'float' object has no attribute 'is_float'"
     ]
    }
   ],
   "source": [
    "area.is_float"
   ]
  },
  {
   "cell_type": "code",
   "execution_count": 16,
   "id": "5544842a",
   "metadata": {},
   "outputs": [],
   "source": [
    "area = 5.5"
   ]
  },
  {
   "cell_type": "code",
   "execution_count": 17,
   "id": "70e82ae6",
   "metadata": {},
   "outputs": [
    {
     "name": "stdout",
     "output_type": "stream",
     "text": [
      "address of area 1764392347536\n",
      "<class 'float'>\n"
     ]
    }
   ],
   "source": [
    "print(\"address of area\",id(area)) #id(area) : area 변수의 주소값\n",
    "print(type(area)) "
   ]
  },
  {
   "cell_type": "code",
   "execution_count": 18,
   "id": "25f9b245",
   "metadata": {},
   "outputs": [],
   "source": [
    "area = 10"
   ]
  },
  {
   "cell_type": "code",
   "execution_count": 19,
   "id": "455660c0",
   "metadata": {},
   "outputs": [
    {
     "name": "stdout",
     "output_type": "stream",
     "text": [
      "address of area 1764310188560\n",
      "<class 'int'>\n"
     ]
    }
   ],
   "source": [
    "print(\"address of area\",id(area)) #id(area) : area 변수의 주소값\n",
    "print(type(area)) "
   ]
  },
  {
   "cell_type": "code",
   "execution_count": 20,
   "id": "d7f5bc13",
   "metadata": {},
   "outputs": [
    {
     "ename": "AttributeError",
     "evalue": "'int' object has no attribute 'is_integer'",
     "output_type": "error",
     "traceback": [
      "\u001b[1;31m---------------------------------------------------------------------------\u001b[0m",
      "\u001b[1;31mAttributeError\u001b[0m                            Traceback (most recent call last)",
      "Cell \u001b[1;32mIn[20], line 1\u001b[0m\n\u001b[1;32m----> 1\u001b[0m \u001b[43marea\u001b[49m\u001b[38;5;241;43m.\u001b[39;49m\u001b[43mis_integer\u001b[49m()\n",
      "\u001b[1;31mAttributeError\u001b[0m: 'int' object has no attribute 'is_integer'"
     ]
    }
   ],
   "source": [
    "area.is_integer()"
   ]
  },
  {
   "cell_type": "code",
   "execution_count": 21,
   "id": "91aff408",
   "metadata": {},
   "outputs": [
    {
     "name": "stdout",
     "output_type": "stream",
     "text": [
      "address of area 1764353612528\n",
      "<class 'str'>\n"
     ]
    }
   ],
   "source": [
    "area=\"python\"\n",
    "print(\"address of area\",id(area)) #id(area) : area 변수의 주소값\n",
    "print(type(area)) "
   ]
  },
  {
   "cell_type": "markdown",
   "id": "2436aae4",
   "metadata": {},
   "source": [
    "## 1.2 변수이름 규칙\n",
    "-문자로 시작(숫자시작불가)\n",
    "-문자, 숫자, _로 변수명 작성\n",
    "-함수명은 변수이름으로 가능하나 피한다. 써야한다면 int_ 식으로 underbar 를 활용한다\n",
    "-파이썬 예약어(for, ..)는 변수이름 사용 불가\n",
    "-한글변수는 꼭 필요시에만 이용"
   ]
  },
  {
   "cell_type": "code",
   "execution_count": 22,
   "id": "6bca86fa",
   "metadata": {},
   "outputs": [
    {
     "name": "stdout",
     "output_type": "stream",
     "text": [
      "이름\n"
     ]
    }
   ],
   "source": [
    "이름=\"홍길동\"\n",
    "print(\"이름\")"
   ]
  },
  {
   "cell_type": "code",
   "execution_count": 23,
   "id": "d39d1446",
   "metadata": {},
   "outputs": [
    {
     "name": "stdout",
     "output_type": "stream",
     "text": [
      "홍길동\n"
     ]
    }
   ],
   "source": [
    "print(이름) # 변수를 한글로 하는건 피하는 것이 좋다, 또한 대문자로 시작한 변수도 피하는것이 좋다"
   ]
  },
  {
   "cell_type": "code",
   "execution_count": 24,
   "id": "f526ed04",
   "metadata": {},
   "outputs": [],
   "source": [
    "member_name = \"홍길동\"\n",
    "memberName = \"홍길동\""
   ]
  },
  {
   "cell_type": "code",
   "execution_count": 26,
   "id": "f09c8c96",
   "metadata": {},
   "outputs": [
    {
     "data": {
      "text/plain": [
       "complex"
      ]
     },
     "execution_count": 26,
     "metadata": {},
     "output_type": "execute_result"
    }
   ],
   "source": [
    "# 파이썬에서의 숫자 : 정수, 실수, 복소수\n",
    "i = 3 + 3j\n",
    "type(i)"
   ]
  },
  {
   "cell_type": "code",
   "execution_count": 30,
   "id": "3eff1fc7",
   "metadata": {},
   "outputs": [
    {
     "data": {
      "text/plain": [
       "True"
      ]
     },
     "execution_count": 30,
     "metadata": {},
     "output_type": "execute_result"
    }
   ],
   "source": [
    "isinstance(i,complex)# i 변수가 complex 인지 여부"
   ]
  },
  {
   "cell_type": "markdown",
   "id": "274d3a3d",
   "metadata": {},
   "source": [
    "## 1.3 도움말"
   ]
  },
  {
   "cell_type": "code",
   "execution_count": 31,
   "id": "140da1b4",
   "metadata": {},
   "outputs": [
    {
     "name": "stdout",
     "output_type": "stream",
     "text": [
      "Help on built-in function print in module builtins:\n",
      "\n",
      "print(...)\n",
      "    print(value, ..., sep=' ', end='\\n', file=sys.stdout, flush=False)\n",
      "    \n",
      "    Prints the values to a stream, or to sys.stdout by default.\n",
      "    Optional keyword arguments:\n",
      "    file:  a file-like object (stream); defaults to the current sys.stdout.\n",
      "    sep:   string inserted between values, default a space.\n",
      "    end:   string appended after the last value, default a newline.\n",
      "    flush: whether to forcibly flush the stream.\n",
      "\n"
     ]
    }
   ],
   "source": [
    "help(print) # 빠져나올려면 q / esc 를 눌러서 결과 접기/펴기"
   ]
  },
  {
   "cell_type": "code",
   "execution_count": 33,
   "id": "d1a5ed70",
   "metadata": {},
   "outputs": [],
   "source": [
    "# 도움말 기능 : shift + tab 키"
   ]
  },
  {
   "cell_type": "code",
   "execution_count": 36,
   "id": "903f8c77",
   "metadata": {},
   "outputs": [],
   "source": [
    "def add(x, y):\n",
    "    '''\n",
    "    매개변수 2개를 받아 두자리 숫자로 만들어요\n",
    "    x=10의 자리수가 됨\n",
    "    y=1의 자리수가 됨\n",
    "    사용법 : add(2,3)\n",
    "    '''\n",
    "    return x*10 + y"
   ]
  },
  {
   "cell_type": "code",
   "execution_count": 37,
   "id": "eea07c96",
   "metadata": {},
   "outputs": [
    {
     "data": {
      "text/plain": [
       "23"
      ]
     },
     "execution_count": 37,
     "metadata": {},
     "output_type": "execute_result"
    }
   ],
   "source": [
    "add(2,3)"
   ]
  },
  {
   "cell_type": "code",
   "execution_count": 38,
   "id": "5894feee",
   "metadata": {},
   "outputs": [],
   "source": [
    "def add(x, y=0):\n",
    "    return x*10+y"
   ]
  },
  {
   "cell_type": "code",
   "execution_count": 39,
   "id": "7a77da87",
   "metadata": {},
   "outputs": [
    {
     "data": {
      "text/plain": [
       "20"
      ]
     },
     "execution_count": 39,
     "metadata": {},
     "output_type": "execute_result"
    }
   ],
   "source": [
    "add(2)"
   ]
  },
  {
   "cell_type": "code",
   "execution_count": 40,
   "id": "18e3f1a8",
   "metadata": {},
   "outputs": [
    {
     "data": {
      "text/plain": [
       "23"
      ]
     },
     "execution_count": 40,
     "metadata": {},
     "output_type": "execute_result"
    }
   ],
   "source": [
    "a=add\n",
    "a(2,3)"
   ]
  },
  {
   "cell_type": "markdown",
   "id": "935d3de1",
   "metadata": {},
   "source": [
    "## 1.4 다중 변수 할당"
   ]
  },
  {
   "cell_type": "code",
   "execution_count": 41,
   "id": "e7dcea43",
   "metadata": {},
   "outputs": [],
   "source": [
    "a= 10\n",
    "b=20"
   ]
  },
  {
   "cell_type": "code",
   "execution_count": 42,
   "id": "4911c667",
   "metadata": {},
   "outputs": [
    {
     "name": "stdout",
     "output_type": "stream",
     "text": [
      "10 20\n"
     ]
    }
   ],
   "source": [
    "a,b = 10, 20\n",
    "print(a, b)"
   ]
  },
  {
   "cell_type": "code",
   "execution_count": 43,
   "id": "6d3622b7",
   "metadata": {},
   "outputs": [
    {
     "name": "stdout",
     "output_type": "stream",
     "text": [
      "20 30\n"
     ]
    }
   ],
   "source": [
    "a, b= b, a+b\n",
    "print(a, b)\n",
    "# 다중변수 할당시 순차적 할당이 아니고, 일괄 동시 할당"
   ]
  },
  {
   "cell_type": "markdown",
   "id": "2e2e4112",
   "metadata": {},
   "source": [
    "# 2절. 화면입출력(i/o)"
   ]
  },
  {
   "cell_type": "code",
   "execution_count": 45,
   "id": "3541aa59",
   "metadata": {},
   "outputs": [
    {
     "name": "stdout",
     "output_type": "stream",
     "text": [
      "first number5\n"
     ]
    },
    {
     "data": {
      "text/plain": [
       "'5'"
      ]
     },
     "execution_count": 45,
     "metadata": {},
     "output_type": "execute_result"
    }
   ],
   "source": [
    "# input() : 사용자로부터 값을 입력받기 위한 함수, 문자열로 입력\n",
    "first=input(\"first number\")\n",
    "first"
   ]
  },
  {
   "cell_type": "code",
   "execution_count": 46,
   "id": "cd154780",
   "metadata": {},
   "outputs": [
    {
     "name": "stdout",
     "output_type": "stream",
     "text": [
      "second number2\n",
      "2\n"
     ]
    }
   ],
   "source": [
    "second=input(\"second number\")\n",
    "print(second)"
   ]
  },
  {
   "cell_type": "code",
   "execution_count": 47,
   "id": "6a38cb3d",
   "metadata": {},
   "outputs": [],
   "source": [
    "sum= first + second"
   ]
  },
  {
   "cell_type": "code",
   "execution_count": 48,
   "id": "92e51670",
   "metadata": {},
   "outputs": [
    {
     "name": "stdout",
     "output_type": "stream",
     "text": [
      "52\n"
     ]
    }
   ],
   "source": [
    "print(sum)"
   ]
  },
  {
   "cell_type": "code",
   "execution_count": 49,
   "id": "bd09b0a1",
   "metadata": {},
   "outputs": [
    {
     "name": "stdout",
     "output_type": "stream",
     "text": [
      "7\n"
     ]
    }
   ],
   "source": [
    "sum = int(first)+int(second)\n",
    "print(sum) # input 함수는 문자열로만 받는다"
   ]
  },
  {
   "cell_type": "code",
   "execution_count": 50,
   "id": "a1cb4758",
   "metadata": {},
   "outputs": [
    {
     "name": "stdout",
     "output_type": "stream",
     "text": [
      "first number8\n"
     ]
    }
   ],
   "source": [
    "first = int(input(\"first number\")) # 처움부터 수로 바꾸는 방법"
   ]
  },
  {
   "cell_type": "code",
   "execution_count": 51,
   "id": "5942cefc",
   "metadata": {},
   "outputs": [
    {
     "name": "stdout",
     "output_type": "stream",
     "text": [
      "second number2\n"
     ]
    }
   ],
   "source": [
    "second = int(input(\"second number\"))"
   ]
  },
  {
   "cell_type": "code",
   "execution_count": 52,
   "id": "61d71e7e",
   "metadata": {},
   "outputs": [
    {
     "name": "stdout",
     "output_type": "stream",
     "text": [
      "10\n"
     ]
    }
   ],
   "source": [
    "sum= first + second\n",
    "print(sum)"
   ]
  },
  {
   "cell_type": "code",
   "execution_count": 56,
   "id": "36121af8",
   "metadata": {},
   "outputs": [
    {
     "name": "stdout",
     "output_type": "stream",
     "text": [
      "합=10합~10합is10"
     ]
    }
   ],
   "source": [
    "print('합',sum, sep='=', end='')\n",
    "print('합',sum, sep='~', end='')\n",
    "print('합',sum, sep='is', end='')"
   ]
  },
  {
   "cell_type": "code",
   "execution_count": 61,
   "id": "d7f95da6",
   "metadata": {},
   "outputs": [
    {
     "name": "stdout",
     "output_type": "stream",
     "text": [
      "hiworld\n"
     ]
    }
   ],
   "source": [
    "print(\"hi\" \"world\")\n"
   ]
  },
  {
   "cell_type": "code",
   "execution_count": 59,
   "id": "980e3529",
   "metadata": {},
   "outputs": [
    {
     "name": "stdout",
     "output_type": "stream",
     "text": [
      "hi,world\n"
     ]
    }
   ],
   "source": [
    "print(\"hi\",\"world\",sep=\",\")"
   ]
  },
  {
   "cell_type": "code",
   "execution_count": 63,
   "id": "b3543ab5",
   "metadata": {},
   "outputs": [
    {
     "name": "stdout",
     "output_type": "stream",
     "text": [
      "hi,world\n"
     ]
    }
   ],
   "source": [
    "import sys\n",
    "print(\"hi\",\"world\",sep=\",\",file=sys.stdout)"
   ]
  },
  {
   "cell_type": "markdown",
   "id": "c410a8ab",
   "metadata": {},
   "source": [
    "# 3절. 기본자료형\n",
    "- 자료형에 따라 값의 크기와 저장방식이 달라진\n",
    "- 숫자 : int, float\n",
    "- 문자 : str\n",
    "- 논리 : bool(True/False) # 이 True 와 False 는 대문자로 시작해야 한다\n",
    "## 3.1 숫자형\n"
   ]
  },
  {
   "cell_type": "markdown",
   "id": "fa3c9f2d",
   "metadata": {},
   "source": []
  },
  {
   "cell_type": "code",
   "execution_count": 64,
   "id": "17bc0ca4",
   "metadata": {},
   "outputs": [
    {
     "data": {
      "text/plain": [
       "9223372036854775807"
      ]
     },
     "execution_count": 64,
     "metadata": {},
     "output_type": "execute_result"
    }
   ],
   "source": [
    "import sys\n",
    "sys.maxsize # 정수의 최대값 2의 63승-1"
   ]
  },
  {
   "cell_type": "code",
   "execution_count": 65,
   "id": "706b91bd",
   "metadata": {},
   "outputs": [],
   "source": [
    "i = sys.maxsize + 1000"
   ]
  },
  {
   "cell_type": "code",
   "execution_count": 68,
   "id": "70564ddd",
   "metadata": {},
   "outputs": [
    {
     "name": "stdout",
     "output_type": "stream",
     "text": [
      "9223372036854776807\n",
      "<class 'int'>\n"
     ]
    }
   ],
   "source": [
    "print(i)\n",
    "print(type(i))\n"
   ]
  },
  {
   "cell_type": "code",
   "execution_count": 70,
   "id": "e54d12b4",
   "metadata": {},
   "outputs": [
    {
     "data": {
      "text/plain": [
       "2.0"
      ]
     },
     "execution_count": 70,
     "metadata": {},
     "output_type": "execute_result"
    }
   ],
   "source": [
    "f= 4/2 # 정수/정수는 무조건 실수\n",
    "f"
   ]
  },
  {
   "cell_type": "code",
   "execution_count": 72,
   "id": "878a6773",
   "metadata": {},
   "outputs": [
    {
     "data": {
      "text/plain": [
       "1"
      ]
     },
     "execution_count": 72,
     "metadata": {},
     "output_type": "execute_result"
    }
   ],
   "source": [
    "# 자바처럼 정수/정수의 결과를 정수로\n",
    "f=3//2 # 몫 연산자\n",
    "f"
   ]
  },
  {
   "cell_type": "code",
   "execution_count": 73,
   "id": "e46b446a",
   "metadata": {},
   "outputs": [
    {
     "name": "stdout",
     "output_type": "stream",
     "text": [
      "(-1+0j)\n"
     ]
    }
   ],
   "source": [
    "c = 1j # 0 + i\n",
    "print(c**2)"
   ]
  },
  {
   "cell_type": "code",
   "execution_count": 75,
   "id": "11bb2db5",
   "metadata": {},
   "outputs": [
    {
     "data": {
      "text/plain": [
       "1120000000000.0"
      ]
     },
     "execution_count": 75,
     "metadata": {},
     "output_type": "execute_result"
    }
   ],
   "source": [
    "f = 1.12e12 # 1.12의 10의 12승\n",
    "f"
   ]
  },
  {
   "cell_type": "code",
   "execution_count": 76,
   "id": "281443f5",
   "metadata": {},
   "outputs": [
    {
     "data": {
      "text/plain": [
       "1.12e-12"
      ]
     },
     "execution_count": 76,
     "metadata": {},
     "output_type": "execute_result"
    }
   ],
   "source": [
    "f=1.12e-12\n",
    "f"
   ]
  },
  {
   "cell_type": "markdown",
   "id": "f53c6d0f",
   "metadata": {},
   "source": [
    "## 3.2문자형\n",
    "쌍따옴표(\"-\")나 홑따옴표('-')이용"
   ]
  },
  {
   "cell_type": "code",
   "execution_count": 79,
   "id": "1ae106d9",
   "metadata": {},
   "outputs": [
    {
     "ename": "SyntaxError",
     "evalue": "invalid syntax (3918022450.py, line 1)",
     "output_type": "error",
     "traceback": [
      "\u001b[1;36m  Cell \u001b[1;32mIn[79], line 1\u001b[1;36m\u001b[0m\n\u001b[1;33m    name = \"홍길동\"짱\"\"\u001b[0m\n\u001b[1;37m                ^\u001b[0m\n\u001b[1;31mSyntaxError\u001b[0m\u001b[1;31m:\u001b[0m invalid syntax\n"
     ]
    }
   ],
   "source": [
    "name = \"홍길동\"짱\"\" \n",
    "name = '홍길동\"짱\"'\n",
    "address = # 서울시 관악구 '신길동'\n",
    "address =\"서울시 관악구 '신길동'\"\n",
    "print(address)"
   ]
  },
  {
   "cell_type": "code",
   "execution_count": 80,
   "id": "b9f4343f",
   "metadata": {},
   "outputs": [
    {
     "name": "stdout",
     "output_type": "stream",
     "text": [
      "서울시 관악구 '신길동'\n"
     ]
    }
   ],
   "source": [
    "address =\"서울시 관악구 '신길동'\"\n",
    "print(address)"
   ]
  },
  {
   "cell_type": "code",
   "execution_count": 81,
   "id": "5f28d06c",
   "metadata": {},
   "outputs": [
    {
     "name": "stdout",
     "output_type": "stream",
     "text": [
      "홍길동'짱'\n"
     ]
    }
   ],
   "source": [
    "name = \"홍길동'짱'\"\n",
    "print(name)"
   ]
  },
  {
   "cell_type": "code",
   "execution_count": 82,
   "id": "bf7a093e",
   "metadata": {},
   "outputs": [
    {
     "data": {
      "text/plain": [
       "'홍길동\"짱\"'"
      ]
     },
     "execution_count": 82,
     "metadata": {},
     "output_type": "execute_result"
    }
   ],
   "source": [
    "name = '홍길동\"짱\"'\n",
    "name"
   ]
  },
  {
   "cell_type": "code",
   "execution_count": 83,
   "id": "0d8a359f",
   "metadata": {},
   "outputs": [
    {
     "name": "stdout",
     "output_type": "stream",
     "text": [
      "여러줄 짜리 내용\n",
      "줄바꿈문자를 쓰지 않고 따옴표 3개로 처리\n",
      "이처럼 쓰는 경우가 많음\n"
     ]
    }
   ],
   "source": [
    "# 문자형 변수 여러줄\n",
    "text = '''여러줄 짜리 내용\n",
    "줄바꿈문자를 쓰지 않고 따옴표 3개로 처리\n",
    "이처럼 쓰는 경우가 많음'''\n",
    "print(text)"
   ]
  },
  {
   "cell_type": "markdown",
   "id": "a9dc2bd9",
   "metadata": {},
   "source": [
    "### ※ 문자열 연산 "
   ]
  },
  {
   "cell_type": "markdown",
   "id": "49574895",
   "metadata": {},
   "source": [
    "\n"
   ]
  },
  {
   "cell_type": "code",
   "execution_count": 84,
   "id": "abc10d5e",
   "metadata": {},
   "outputs": [
    {
     "name": "stdout",
     "output_type": "stream",
     "text": [
      "홍길동동해 번쩍 서해 번쩍\n"
     ]
    }
   ],
   "source": [
    "'''\n",
    "   여러 줄 주석 용도\n",
    "   2025.04.08 문자열 연산 소스 by 아무개\n",
    "'''\n",
    "name1=\"홍길동\"\n",
    "name2=\"동해 번쩍 서해 번쩍\"\n",
    "print(name1+name2)\n"
   ]
  },
  {
   "cell_type": "code",
   "execution_count": 85,
   "id": "45ffbe3f",
   "metadata": {},
   "outputs": [
    {
     "name": "stdout",
     "output_type": "stream",
     "text": [
      "홍길동홍길동홍길동\n"
     ]
    }
   ],
   "source": [
    "print(name1*3) # 문자열을 곱하면 반복"
   ]
  },
  {
   "cell_type": "markdown",
   "id": "29d70ea6",
   "metadata": {},
   "source": [
    "### ※ RAW 데이터 \n",
    "-용도 : 정규표현식 이용, 디렉터리 경로 표현시 이용"
   ]
  },
  {
   "cell_type": "code",
   "execution_count": 2,
   "id": "365da425",
   "metadata": {},
   "outputs": [
    {
     "name": "stdout",
     "output_type": "stream",
     "text": [
      "hi\n",
      "world\n"
     ]
    }
   ],
   "source": [
    "print('hi\\nworld')"
   ]
  },
  {
   "cell_type": "code",
   "execution_count": 1,
   "id": "10bfdc4b",
   "metadata": {},
   "outputs": [
    {
     "name": "stdout",
     "output_type": "stream",
     "text": [
      "hi\\nworld\n"
     ]
    }
   ],
   "source": [
    "print(r'hi\\nworld') # 줄 바꾸는거 해석 x r (raw)를 넣어서 그대로 "
   ]
  },
  {
   "cell_type": "code",
   "execution_count": 92,
   "id": "c03dd885",
   "metadata": {},
   "outputs": [
    {
     "name": "stdout",
     "output_type": "stream",
     "text": [
      "hi\\nworld\n"
     ]
    }
   ],
   "source": [
    "print('hi\\\\nworld')"
   ]
  },
  {
   "cell_type": "markdown",
   "id": "14e85956",
   "metadata": {},
   "source": [
    "정규표현식\n",
    "```\n",
    "1. 참조 : 위키백과\n",
    "2. 간략한 문법 :\n",
    "      \\d (숫자와 매치,[0-9]와 동일\n",
    "      \\D (숫자가 아닌것)\n",
    "      \\w (영문자나 숫자, [a-zA-Z0_9]\n",
    "      \\W (영문자나 숫자가 아닌 문자)\n",
    "      . (문자)\n",
    "      \\. (.의미)\n",
    "      \\- (-의미)\n",
    "      {2, 4} (2~4번 반복)\n",
    "      {4}    (4번 반복)\n",
    "      {2,}   (2번 이상 반복)\n",
    "      +      (1번 이상 반복)\n",
    "      *      (0번 이상 반복)\n",
    "      ?   (0번이나 1번 반복)\n",
    "3. 정규표현식 연습장(https://regexr.com/)\n",
    "   ex)1. 전화번호 : 010-9999-9999-9999       02-7777-8888       01078789898      02)456-1234        010 4567 7894\n",
    "                    010.6547.4569\n",
    "       \n",
    "      정규표현식 :  [0-9]{2,3}[\\-) .]?[0-9]{3,4}[\\- .]?[0-9]{4}\n",
    "   \n",
    "   ex)2. 이메일 : abc12@naver.com   /   abc456@0to7.co.kr\n",
    "       정규표현식 : \\w{3,}@[a-zA-Z0-9가-힣]+(\\.[a-zA-Z]+){1,2}\n",
    "```"
   ]
  },
  {
   "cell_type": "code",
   "execution_count": 2,
   "id": "7523aba2",
   "metadata": {},
   "outputs": [
    {
     "name": "stdout",
     "output_type": "stream",
     "text": [
      "홍길동인데 전번이 041-888-8888, 010 9999 9999 동해번쩍 서해번쩍 ㅋㅋ ㅠㅠ 오늘 날씨는 엄청 좋아요\n"
     ]
    }
   ],
   "source": [
    "import re\n",
    "data = \"홍길동인데 전번이 041-888-8888, \\\n",
    "010 9999 9999 동해번쩍 서해번쩍 ㅋㅋ ㅠㅠ \\\n",
    "오늘 날씨는 엄청 좋아요\"\n",
    "print(data)"
   ]
  },
  {
   "cell_type": "code",
   "execution_count": 3,
   "id": "c1ddc1ca",
   "metadata": {},
   "outputs": [],
   "source": [
    "tel_pattern = r\"[0-9]{2,3}[\\-) .]?[0-9]{3,4}[\\- .]?[0-9]{4}\""
   ]
  },
  {
   "cell_type": "code",
   "execution_count": 4,
   "id": "23edeb4c",
   "metadata": {},
   "outputs": [
    {
     "data": {
      "text/plain": [
       "['041-888-8888', '010 9999 9999']"
      ]
     },
     "execution_count": 4,
     "metadata": {},
     "output_type": "execute_result"
    }
   ],
   "source": [
    "# 해당 패턴을 다 찾아줌. 없으면 []반환\n",
    "tels = re.findall(tel_pattern, data) \n",
    "tels"
   ]
  },
  {
   "cell_type": "code",
   "execution_count": 22,
   "id": "199b81af",
   "metadata": {},
   "outputs": [
    {
     "data": {
      "text/plain": [
       "<re.Match object; span=(10, 22), match='041-888-8888'>"
      ]
     },
     "execution_count": 22,
     "metadata": {},
     "output_type": "execute_result"
    }
   ],
   "source": [
    "# search() : 정규표현식 패턴과 일치하는 처음단어만 찾음\n",
    "pattern = \"([\\d]{2,3})-([\\d]{3,4})-([\\d]{4})\"\n",
    "firstTel = re.search(pattern, data)\n",
    "firstTel"
   ]
  },
  {
   "cell_type": "code",
   "execution_count": 23,
   "id": "523b8de8",
   "metadata": {},
   "outputs": [
    {
     "data": {
      "text/plain": [
       "'041-888-8888'"
      ]
     },
     "execution_count": 23,
     "metadata": {},
     "output_type": "execute_result"
    }
   ],
   "source": [
    "data[10:22] # 문자 슬라이싱"
   ]
  },
  {
   "cell_type": "code",
   "execution_count": 24,
   "id": "2f544afd",
   "metadata": {},
   "outputs": [
    {
     "name": "stdout",
     "output_type": "stream",
     "text": [
      "전화번호 전체 : 041-888-8888\n",
      "국번: 041\n",
      "중간번호 : 888\n",
      "끝번호 : 8888\n"
     ]
    }
   ],
   "source": [
    "print('전화번호 전체 :', firstTel.group(0))\n",
    "print('국번:' ,firstTel.group(1))\n",
    "print('중간번호 :', firstTel.group(2))\n",
    "print('끝번호 :', firstTel.group(3))"
   ]
  },
  {
   "cell_type": "code",
   "execution_count": 25,
   "id": "f2783198",
   "metadata": {},
   "outputs": [
    {
     "data": {
      "text/plain": [
       "'홍길동인데 전번이 0418888888 010 9999 9999 동해번쩍 서해번쩍   오늘 날씨는 엄청 좋아요'"
      ]
     },
     "execution_count": 25,
     "metadata": {},
     "output_type": "execute_result"
    }
   ],
   "source": [
    "re.sub(r'[^가-힣0-9\\s]','', data) # 특수문자, 자음, 모음 없애기 # 여기서\\s 는 스페이스를 뜻한다"
   ]
  },
  {
   "cell_type": "code",
   "execution_count": 26,
   "id": "ab597320",
   "metadata": {},
   "outputs": [],
   "source": [
    "#파일 경로에서는 반드시 r 을 사용하거나 \\\\\n",
    "file_path = r\"C:\\Ai_x\\source\\01_python\\test.txt\"\n",
    "file_path = \"C:\\\\Ai_x\\source\\01_python\\\\test.txt\"\n",
    "file_path = \"C:/Ai_x/source/01_python/test.txt\""
   ]
  },
  {
   "cell_type": "code",
   "execution_count": 27,
   "id": "181fb691",
   "metadata": {},
   "outputs": [
    {
     "name": "stdout",
     "output_type": "stream",
     "text": [
      "hello~world\n"
     ]
    }
   ],
   "source": [
    "file_stream = open(file_path, 'w')\n",
    "print(\"hello\", \"world\", sep=\"~\") # 콘솔 출력\n",
    "print(\"hello\", \"world\", sep=\"~\", file=file_stream) # 파일 출력\n",
    "file_stream.close() # close를 하지 않으면 파일저장 안됨"
   ]
  },
  {
   "cell_type": "markdown",
   "id": "4195b014",
   "metadata": {},
   "source": [
    "### ※ 문자열 슬라이싱"
   ]
  },
  {
   "cell_type": "code",
   "execution_count": 28,
   "id": "bed1e625",
   "metadata": {},
   "outputs": [
    {
     "data": {
      "text/plain": [
       "'0123456789'"
      ]
     },
     "execution_count": 28,
     "metadata": {},
     "output_type": "execute_result"
    }
   ],
   "source": [
    "str_ = '0123456789'\n",
    "str_"
   ]
  },
  {
   "cell_type": "code",
   "execution_count": 29,
   "id": "33a2b65b",
   "metadata": {},
   "outputs": [
    {
     "data": {
      "text/plain": [
       "('0', '2', '9', '7')"
      ]
     },
     "execution_count": 29,
     "metadata": {},
     "output_type": "execute_result"
    }
   ],
   "source": [
    "# 문자 인덱싱\n",
    "str_[0], str_[2], str_[-1], str_[-3]\n",
    "# 없는 인덱싱은 에러를 발생시킨다"
   ]
  },
  {
   "cell_type": "code",
   "execution_count": 30,
   "id": "a563610f",
   "metadata": {},
   "outputs": [
    {
     "name": "stdout",
     "output_type": "stream",
     "text": [
      "0123456789 3\n"
     ]
    }
   ],
   "source": [
    "print(str_, str_[3])\n"
   ]
  },
  {
   "cell_type": "code",
   "execution_count": 31,
   "id": "b847155b",
   "metadata": {},
   "outputs": [
    {
     "data": {
      "text/plain": [
       "'\\n문자변수[from:stop]\\n'"
      ]
     },
     "execution_count": 31,
     "metadata": {},
     "output_type": "execute_result"
    }
   ],
   "source": [
    "'''\n",
    "문자변수[from:stop] : from 부터 stop 앞까지 추출함\n",
    "문자변수[from:stop:step] : from 부터 stop 앞 까지 step 씩 추출함\n",
    "    step 생략시 1\n",
    "    from 생략시 처음부터\n",
    "    stop 생략시 끝까지\n",
    "'''"
   ]
  },
  {
   "cell_type": "code",
   "execution_count": 32,
   "id": "8710d135",
   "metadata": {},
   "outputs": [
    {
     "data": {
      "text/plain": [
       "'01234'"
      ]
     },
     "execution_count": 32,
     "metadata": {},
     "output_type": "execute_result"
    }
   ],
   "source": [
    "str_[0:5]"
   ]
  },
  {
   "cell_type": "code",
   "execution_count": 33,
   "id": "08b1cee5",
   "metadata": {},
   "outputs": [
    {
     "data": {
      "text/plain": [
       "'0246'"
      ]
     },
     "execution_count": 33,
     "metadata": {},
     "output_type": "execute_result"
    }
   ],
   "source": [
    "str_[0:8:2] # 0부터 7 까지 2번씩 띄어서 가지고 옴"
   ]
  },
  {
   "cell_type": "code",
   "execution_count": 34,
   "id": "193ca4af",
   "metadata": {},
   "outputs": [
    {
     "data": {
      "text/plain": [
       "'5678'"
      ]
     },
     "execution_count": 34,
     "metadata": {},
     "output_type": "execute_result"
    }
   ],
   "source": [
    "str_[-5:-1] # -5번째부터 -1번째 앞까지"
   ]
  },
  {
   "cell_type": "code",
   "execution_count": 35,
   "id": "113169f0",
   "metadata": {},
   "outputs": [
    {
     "data": {
      "text/plain": [
       "'6789'"
      ]
     },
     "execution_count": 35,
     "metadata": {},
     "output_type": "execute_result"
    }
   ],
   "source": [
    "str_[-4:] # -4째 부터 끝까지"
   ]
  },
  {
   "cell_type": "code",
   "execution_count": 36,
   "id": "0bbf2dcd",
   "metadata": {},
   "outputs": [
    {
     "data": {
      "text/plain": [
       "'6789'"
      ]
     },
     "execution_count": 36,
     "metadata": {},
     "output_type": "execute_result"
    }
   ],
   "source": [
    "str_[-4:20] # 슬라이싱시 인덱스 범위를 벗어나면 끝까지를 의미"
   ]
  },
  {
   "cell_type": "code",
   "execution_count": 38,
   "id": "862255ee",
   "metadata": {},
   "outputs": [
    {
     "data": {
      "text/plain": [
       "'987654321'"
      ]
     },
     "execution_count": 38,
     "metadata": {},
     "output_type": "execute_result"
    }
   ],
   "source": [
    "str_[9:0:-1]        "
   ]
  },
  {
   "cell_type": "code",
   "execution_count": 52,
   "id": "09670b39",
   "metadata": {},
   "outputs": [
    {
     "name": "stdout",
     "output_type": "stream",
     "text": [
      "0123456\n",
      "56789\n",
      "9876543210\n",
      "9876543210\n"
     ]
    }
   ],
   "source": [
    "# 첫문자 ~6번째 인덱스 까지 추출\n",
    "print(str_[0:7])\n",
    "# 5번째 인덱스 부터 끝까지 추출\n",
    "print(str_[5:11])\n",
    "# str_를 거꾸로 출력\n",
    "print(str_[::-1])\n",
    "print(str_[-1::-1])"
   ]
  },
  {
   "cell_type": "markdown",
   "id": "5424c90b",
   "metadata": {},
   "source": [
    "## 3.3 논리형(True/False)"
   ]
  },
  {
   "cell_type": "code",
   "execution_count": 53,
   "id": "a2906a45",
   "metadata": {},
   "outputs": [
    {
     "name": "stdout",
     "output_type": "stream",
     "text": [
      "True\n",
      "<class 'bool'>\n"
     ]
    }
   ],
   "source": [
    "a = True\n",
    "print(a) # a : 매개변수 = 인자\n",
    "print(type(a)) # a 변수의 타입"
   ]
  },
  {
   "cell_type": "code",
   "execution_count": 54,
   "id": "e72f1285",
   "metadata": {},
   "outputs": [
    {
     "name": "stdout",
     "output_type": "stream",
     "text": [
      "True\n"
     ]
    }
   ],
   "source": [
    "print(isinstance(a, bool)) # isinstance(변수, 타입) : 변수가 해당 타입인지 여부"
   ]
  },
  {
   "cell_type": "code",
   "execution_count": 56,
   "id": "2eb49120",
   "metadata": {},
   "outputs": [
    {
     "data": {
      "text/plain": [
       "(1, 0)"
      ]
     },
     "execution_count": 56,
     "metadata": {},
     "output_type": "execute_result"
    }
   ],
   "source": [
    "int(True), int(False)"
   ]
  },
  {
   "cell_type": "code",
   "execution_count": 58,
   "id": "e20b8498",
   "metadata": {},
   "outputs": [],
   "source": [
    "# False로 간주되는것 : 0, \"\"(빈스트링), none, [], (), {}\n",
    "# Flase외의 값은 다 True \" \""
   ]
  },
  {
   "cell_type": "code",
   "execution_count": 66,
   "id": "93d1c802",
   "metadata": {},
   "outputs": [
    {
     "ename": "TypeError",
     "evalue": "'>' not supported between instances of 'list' and 'int'",
     "output_type": "error",
     "traceback": [
      "\u001b[1;31m---------------------------------------------------------------------------\u001b[0m",
      "\u001b[1;31mTypeError\u001b[0m                                 Traceback (most recent call last)",
      "Cell \u001b[1;32mIn[66], line 2\u001b[0m\n\u001b[0;32m      1\u001b[0m i \u001b[38;5;241m=\u001b[39m []\n\u001b[1;32m----> 2\u001b[0m \u001b[38;5;28;01mif\u001b[39;00m \u001b[43mi\u001b[49m\u001b[43m \u001b[49m\u001b[38;5;241;43m>\u001b[39;49m\u001b[43m \u001b[49m\u001b[38;5;241;43m5\u001b[39;49m:\n\u001b[0;32m      3\u001b[0m     \u001b[38;5;28mprint\u001b[39m(\u001b[38;5;124m\"\u001b[39m\u001b[38;5;124mTure\u001b[39m\u001b[38;5;124m\"\u001b[39m)\n\u001b[0;32m      4\u001b[0m \u001b[38;5;28;01melse\u001b[39;00m :\n",
      "\u001b[1;31mTypeError\u001b[0m: '>' not supported between instances of 'list' and 'int'"
     ]
    }
   ],
   "source": [
    "i = 10\n",
    "if i > 5:\n",
    "    print(\"Ture\")\n",
    "else :\n",
    "    print(\"Flase\")"
   ]
  },
  {
   "cell_type": "code",
   "execution_count": 67,
   "id": "d77fa360",
   "metadata": {},
   "outputs": [
    {
     "name": "stdout",
     "output_type": "stream",
     "text": [
      "False\n"
     ]
    }
   ],
   "source": [
    "if []:\n",
    "    print(\"True\")\n",
    "else :\n",
    "    print(\"False\")"
   ]
  },
  {
   "cell_type": "markdown",
   "id": "bafd1fd5",
   "metadata": {},
   "source": [
    "## 3.4 자료형 확인 및 형변환 함수\n",
    "-type(변수)\n",
    "-isinstance(변수, 타입)\n",
    "-int() :정수형으로 변환\n",
    "-float() : 실수형으로 변환\n",
    "-str() : 문자형으로 변환\n",
    "-bool() : 논리형으로 변환"
   ]
  },
  {
   "cell_type": "code",
   "execution_count": 91,
   "id": "00572be2",
   "metadata": {},
   "outputs": [
    {
     "data": {
      "text/plain": [
       "(123, 123, 1, 10)"
      ]
     },
     "execution_count": 91,
     "metadata": {},
     "output_type": "execute_result"
    }
   ],
   "source": [
    "int(\"123\"), int(123.9), int(True), int(\"10  \")"
   ]
  },
  {
   "cell_type": "code",
   "execution_count": 92,
   "id": "7559106b",
   "metadata": {},
   "outputs": [
    {
     "data": {
      "text/plain": [
       "(123.0, 123.5, 1.0, 123.5)"
      ]
     },
     "execution_count": 92,
     "metadata": {},
     "output_type": "execute_result"
    }
   ],
   "source": [
    "float(\"123\"), float(123.5), float(True), float(\"  123.5  \")"
   ]
  },
  {
   "cell_type": "code",
   "execution_count": 93,
   "id": "812cbd0d",
   "metadata": {},
   "outputs": [],
   "source": [
    "#에러가 발생하는 것들\n",
    "#int(\"123.5\"), \n",
    "#int(' ')\n",
    "#int('')\n",
    "#int(\"1,000\")"
   ]
  },
  {
   "cell_type": "code",
   "execution_count": 90,
   "id": "db270f31",
   "metadata": {},
   "outputs": [
    {
     "data": {
      "text/plain": [
       "123.5"
      ]
     },
     "execution_count": 90,
     "metadata": {},
     "output_type": "execute_result"
    }
   ],
   "source": [
    "#float() 에러나는 것들\n",
    "#float(\"1,000.0\")\n",
    "#float(\"\")\n",
    "#float(\" \")\n"
   ]
  },
  {
   "cell_type": "code",
   "execution_count": 95,
   "id": "332691c9",
   "metadata": {},
   "outputs": [
    {
     "data": {
      "text/plain": [
       "('10', '10.5', 'True', '1120000000000.0')"
      ]
     },
     "execution_count": 95,
     "metadata": {},
     "output_type": "execute_result"
    }
   ],
   "source": [
    "str(10), str(10.5), str(True), str(1.12e12)"
   ]
  },
  {
   "cell_type": "code",
   "execution_count": 98,
   "id": "c20a7202",
   "metadata": {},
   "outputs": [
    {
     "ename": "SyntaxError",
     "evalue": "invalid syntax (2293483808.py, line 1)",
     "output_type": "error",
     "traceback": [
      "\u001b[1;36m  Cell \u001b[1;32mIn[98], line 1\u001b[1;36m\u001b[0m\n\u001b[1;33m    bool(\"\"), bool(0), bool(0.0), bool(()) bool({}), bool(None)\u001b[0m\n\u001b[1;37m                                           ^\u001b[0m\n\u001b[1;31mSyntaxError\u001b[0m\u001b[1;31m:\u001b[0m invalid syntax\n"
     ]
    }
   ],
   "source": [
    "bool(\"\"), bool(0), bool(0.0), bool(()) bool({}), bool(None)"
   ]
  },
  {
   "cell_type": "code",
   "execution_count": 99,
   "id": "0dc2ad80",
   "metadata": {},
   "outputs": [
    {
     "data": {
      "text/plain": [
       "True"
      ]
     },
     "execution_count": 99,
     "metadata": {},
     "output_type": "execute_result"
    }
   ],
   "source": [
    "bool(\" \")"
   ]
  },
  {
   "cell_type": "markdown",
   "id": "99e05955",
   "metadata": {},
   "source": [
    "파이썬 기본 자료형(정리)\n",
    "1. 숫자 - int, float, complex\n",
    "2. 문자 - str, 문자슬라싱, raw데이터(정규표현식, 파일경로)\n",
    "3. 논리 - False로 판별되는 경우"
   ]
  },
  {
   "cell_type": "markdown",
   "id": "83c0ba1e",
   "metadata": {},
   "source": [
    "# 4절. 포멧팅\n",
    "-포멧팅이란, 출력할 문자, 숫자, 날짜 데이터의 형식을 지성하는 것\n",
    "-변수와 텍스트르 결합해서 보기 좋은 형식의 새로운 텍스트를 만들 수 있음\n",
    "\n",
    "## 4.1 문자열에 형식 지정"
   ]
  },
  {
   "cell_type": "code",
   "execution_count": 101,
   "id": "3df5e728",
   "metadata": {},
   "outputs": [
    {
     "name": "stdout",
     "output_type": "stream",
     "text": [
      "홍길동님의 나이는30살입니다\n",
      "홍길동님의 나이는 30살입니다\n"
     ]
    }
   ],
   "source": [
    "name= \"홍길동\"\n",
    "age = 30\n",
    "print(name, '님의 나이는', age, '살입니다', sep='')\n",
    "print(f\"{name}님의 나이는 {age}살입니다\")"
   ]
  },
  {
   "cell_type": "code",
   "execution_count": 105,
   "id": "e5ce525a",
   "metadata": {},
   "outputs": [
    {
     "name": "stdout",
     "output_type": "stream",
     "text": [
      "홍길동님의 나이는  30살입니다\n"
     ]
    }
   ],
   "source": [
    "print(\"{}님의 나이는 {:3d}살입니다\".format(name, age))"
   ]
  },
  {
   "cell_type": "markdown",
   "id": "36ac191b",
   "metadata": {},
   "source": [
    "# 4.2 format() 문법"
   ]
  },
  {
   "cell_type": "markdown",
   "id": "b0c3cf9a",
   "metadata": {},
   "source": [
    "\"{[인덱스]:[공백대체문자][자릿수][타입]}\".format(변수)\n",
    "    # 인덱스 : format함수 안의 매개변수의 순서\n",
    "    # 정렬방식 : <(왼쪽정렬), >(오른쪽정렬), ^(중앙정렬)\n",
    "    # 정수자릿수 :  출력될 자릿수. 변수 내용보다 자근 자릿수가 지정되면 자릿수 무시\n",
    "    # 실수자리수 : 출력될자릿수.소수점이하출력자릿수f\n",
    "    # 문자자릿수 : 전체확보될자릿수[.변수중 출력할자릿수]s\n",
    "    # 타입 : d(10진수 정수), b(2진수), x(16진수), f (실수), s(문자)\n",
    "    # 공백대체문자를 쓸 경우 정렬방식을 반드시 기입해야 함"
   ]
  },
  {
   "cell_type": "code",
   "execution_count": 110,
   "id": "5d252a13",
   "metadata": {},
   "outputs": [
    {
     "name": "stdout",
     "output_type": "stream",
     "text": [
      "name?>sunwoo\n",
      "age>100\n",
      "100살 sunwoo님 반갑습니다\n",
      "100*살 ____sunwoo님 반갑습니다\n"
     ]
    }
   ],
   "source": [
    "name=input(\"name?>\")\n",
    "age =int(input(\"age>\"))\n",
    "print(\"{}살 {}님 반갑습니다\".format(age, name))\n",
    "print(\"{1:*^4d}살 {0:_>10}님 반갑습니다\".format(name,age))"
   ]
  },
  {
   "cell_type": "code",
   "execution_count": 117,
   "id": "723c851f",
   "metadata": {},
   "outputs": [
    {
     "name": "stdout",
     "output_type": "stream",
     "text": [
      "[12345], [     12345], [12345]\n",
      "[Hello], [Hello     ], [Hello]\n"
     ]
    }
   ],
   "source": [
    "# 숫자의 경우 : 오른쪽정렬(기본값)\n",
    "# 문자의 경우 : 왼쪽정렬(기본값)\n",
    "# 변수보다 작은 자리수를 지정하면 자릿수가 무시되고 다 출력(정수 자리수)\n",
    "i = 12345\n",
    "s = \"Hello\"\n",
    "print(\"[{1}], [{1:10}], [{1:3}]\". format(i,i,i))\n",
    "print(\"[{0}], [{0:10}], [{0:3}]\". format(s))"
   ]
  },
  {
   "cell_type": "code",
   "execution_count": 131,
   "id": "b8dfbddb",
   "metadata": {},
   "outputs": [
    {
     "name": "stdout",
     "output_type": "stream",
     "text": [
      "f=[ 2.76]\n",
      "s=[Hel  ]\n"
     ]
    }
   ],
   "source": [
    "# 전체자리수.표현될자리수\n",
    "# 실수 : 전체자리수.소수점이하 표현될 자리수\n",
    "f = 2.758\n",
    "s = \"Hello\"\n",
    "print(\"f=[{:5.2f}]\".format(f))  # 실수는 f 를 적어주어야 한다\n",
    "print(\"s=[{:5.3}]\".format(s))   # 문자는 s 를 빼도 가능하다"
   ]
  },
  {
   "cell_type": "code",
   "execution_count": 132,
   "id": "79ad640f",
   "metadata": {},
   "outputs": [
    {
     "name": "stdout",
     "output_type": "stream",
     "text": [
      "f=[$2.76]\n",
      "s=[Hel__]\n"
     ]
    }
   ],
   "source": [
    "f = 2.758\n",
    "s = \"Hello\"\n",
    "print(\"f=[{:$>5.2f}]\".format(f))  # 공백대처 문자를 사용하기 위해서는 공백문자를 넣고 정렬을 해야 한다 \n",
    "print(\"s=[{:_<5.3}]\".format(s))   "
   ]
  },
  {
   "cell_type": "code",
   "execution_count": 148,
   "id": "f53e3c41",
   "metadata": {},
   "outputs": [
    {
     "name": "stdout",
     "output_type": "stream",
     "text": [
      "[  123], [ -123]\n",
      "[ +123], [ -123]\n",
      "[+ 123], [- 123]\n"
     ]
    }
   ],
   "source": [
    "# + : 부호를 출력해라\n",
    "a, b = 123, -123\n",
    "print(\"[{:5}], [{:5}]\". format(a, b))\n",
    "print(\"[{:+5}], [{:+5}]\". format(a, b))\n",
    "print(\"[{:=+5}], [{:=+5}]\". format(a, b)) # =를 넣으면 부호가 맨 앞으로 이동한다"
   ]
  },
  {
   "cell_type": "code",
   "execution_count": 159,
   "id": "3059cf63",
   "metadata": {},
   "outputs": [
    {
     "name": "stdout",
     "output_type": "stream",
     "text": [
      "[     2.785]\n",
      "[      +2.8]\n",
      "[     +2.79]\n",
      "[#####+2.79]\n"
     ]
    }
   ],
   "source": [
    "#\n",
    "f=2.785\n",
    "print(\"[{:10}]\".format(f))\n",
    "print(\"[{:+10.2}]\".format(f))\n",
    "print(\"[{:+10.2f}]\".format(f))\n",
    "print(\"[{:#>+10.2f}]\".format(f))"
   ]
  },
  {
   "cell_type": "code",
   "execution_count": 164,
   "id": "421d38f5",
   "metadata": {},
   "outputs": [
    {
     "name": "stdout",
     "output_type": "stream",
     "text": [
      "[ +2.785000]\n"
     ]
    }
   ],
   "source": [
    "sign = '+'\n",
    "width = 10\n",
    "precision = 3\n",
    "print(\"[{:{}{}f}]\".format(f,\n",
    "                          sign,\n",
    "                          width,\n",
    "                          precision))"
   ]
  },
  {
   "cell_type": "code",
   "execution_count": 169,
   "id": "dfad2279",
   "metadata": {},
   "outputs": [
    {
     "name": "stdout",
     "output_type": "stream",
     "text": [
      "10진수 a=[   15]\n",
      "16진수 a=[    f]\n",
      "2진수 a=[ 1111]\n"
     ]
    }
   ],
   "source": [
    "a = 15\n",
    "print(\"10진수 a=[{:5d}]\".format(a))\n",
    "print(\"16진수 a=[{:5x}]\".format(a))\n",
    "print(\"2진수 a=[{:5b}]\".format(a))"
   ]
  },
  {
   "cell_type": "markdown",
   "id": "c938ee4e",
   "metadata": {},
   "source": [
    "## 4.3 날짜출력"
   ]
  },
  {
   "cell_type": "code",
   "execution_count": 178,
   "id": "74532405",
   "metadata": {},
   "outputs": [
    {
     "data": {
      "text/plain": [
       "datetime.datetime(2025, 4, 9, 17, 45, 22, 905638)"
      ]
     },
     "execution_count": 178,
     "metadata": {},
     "output_type": "execute_result"
    }
   ],
   "source": [
    "import re\n",
    "from datetime import datetime\n",
    "now = datetime.now()\n",
    "now"
   ]
  },
  {
   "cell_type": "code",
   "execution_count": 184,
   "id": "1b420956",
   "metadata": {},
   "outputs": [
    {
     "name": "stdout",
     "output_type": "stream",
     "text": [
      "2025-04-09 17:45:22.905638\n"
     ]
    }
   ],
   "source": [
    "print(\"{}\".format(now))"
   ]
  },
  {
   "cell_type": "code",
   "execution_count": 186,
   "id": "2d5926f6",
   "metadata": {},
   "outputs": [
    {
     "name": "stdout",
     "output_type": "stream",
     "text": [
      "2025년04월09일 17시 45분 22초\n"
     ]
    }
   ],
   "source": [
    "print(now.strftime(\"%Y년%m월%d일 %H시 %M분 %S초\"))"
   ]
  },
  {
   "cell_type": "code",
   "execution_count": null,
   "id": "7b1f220a",
   "metadata": {},
   "outputs": [],
   "source": []
  }
 ],
 "metadata": {
  "kernelspec": {
   "display_name": "Python 3 (ipykernel)",
   "language": "python",
   "name": "python3"
  },
  "language_info": {
   "codemirror_mode": {
    "name": "ipython",
    "version": 3
   },
   "file_extension": ".py",
   "mimetype": "text/x-python",
   "name": "python",
   "nbconvert_exporter": "python",
   "pygments_lexer": "ipython3",
   "version": "3.10.9"
  },
  "toc": {
   "base_numbering": 1,
   "nav_menu": {},
   "number_sections": false,
   "sideBar": true,
   "skip_h1_title": false,
   "title_cell": "Table of Contents",
   "title_sidebar": "Contents",
   "toc_cell": false,
   "toc_position": {
    "height": "calc(100% - 180px)",
    "left": "10px",
    "top": "150px",
    "width": "165px"
   },
   "toc_section_display": true,
   "toc_window_display": true
  }
 },
 "nbformat": 4,
 "nbformat_minor": 5
}
