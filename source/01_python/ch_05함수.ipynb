{
 "cells": [
  {
   "cell_type": "code",
   "execution_count": 1,
   "id": "25c0261f",
   "metadata": {},
   "outputs": [
    {
     "data": {
      "text/html": [
       "\n",
       "<style>\n",
       "div.container{width:86% !important;}\n",
       "div.cell.code_cell.rendered{width:100%;}\n",
       "div.CodeMirror {font-family:Consolas; font-size:15pt;}\n",
       "div.output {font-size:15pt; font-weight:bold;}\n",
       "div.input {font-family:Consolas; font-size:15pt;}\n",
       "div.prompt {min-width:70px;\n",
       "div#toc-wrapper{padding-top:120px;}\n",
       "div.text_cell_render ul li{font-size:12pt;padding:5px;}\n",
       "table.dataframe{font-size:15px;}\n",
       "</style>\n"
      ],
      "text/plain": [
       "<IPython.core.display.HTML object>"
      ]
     },
     "metadata": {},
     "output_type": "display_data"
    }
   ],
   "source": [
    "from IPython.display import display, HTML\n",
    "display(HTML(\"\"\"\n",
    "<style>\n",
    "div.container{width:86% !important;}\n",
    "div.cell.code_cell.rendered{width:100%;}\n",
    "div.CodeMirror {font-family:Consolas; font-size:15pt;}\n",
    "div.output {font-size:15pt; font-weight:bold;}\n",
    "div.input {font-family:Consolas; font-size:15pt;}\n",
    "div.prompt {min-width:70px;\n",
    "div#toc-wrapper{padding-top:120px;}\n",
    "div.text_cell_render ul li{font-size:12pt;padding:5px;}\n",
    "table.dataframe{font-size:15px;}\n",
    "</style>\n",
    "\"\"\"))"
   ]
  },
  {
   "cell_type": "markdown",
   "id": "d921b9ac",
   "metadata": {},
   "source": [
    "<font size=\"5\" color=\"red\">ch05 함수</font>\n",
    "- 사용할 코드를 묶어 놓고 그것의 이름을 붙인 것\n",
    "- 오버로딩(함수 이름이 같고, 매개변수의 타입이나 갯수로 다른 함수를 허용하는 것) 불가\n",
    "- 함수 정의\n",
    "```\n",
    "def 함수명([매개변수1, 매개변수n]):\n",
    "    명령어1\n",
    "    명령어2\n",
    "    명령어n\n",
    "```\n",
    "# 1절. 함수의 정의 및 사용\n",
    "## 1.1 함수 정의"
   ]
  },
  {
   "cell_type": "code",
   "execution_count": 4,
   "id": "4c98160d",
   "metadata": {},
   "outputs": [],
   "source": [
    "# 함수 정의\n",
    "def my_message(x, msg):  # msg를 x 번 출력하는 함수\n",
    "    for i in range(x):\n",
    "        print('msg')"
   ]
  },
  {
   "cell_type": "code",
   "execution_count": 5,
   "id": "8c593d18",
   "metadata": {},
   "outputs": [
    {
     "name": "stdout",
     "output_type": "stream",
     "text": [
      "msg\n",
      "msg\n",
      "msg\n",
      "msg\n",
      "msg\n"
     ]
    }
   ],
   "source": [
    "# 함수 사용   위에서 매게변수 없이 설정을 하였기에 ()안에 넣으면 오류가 나오게 된다\n",
    "my_message(5, \"Hello\")"
   ]
  },
  {
   "cell_type": "code",
   "execution_count": 6,
   "id": "d9aee5f2",
   "metadata": {},
   "outputs": [
    {
     "name": "stdout",
     "output_type": "stream",
     "text": [
      "msg\n",
      "msg\n",
      "msg\n"
     ]
    }
   ],
   "source": [
    "my_msg = my_message\n",
    "my_msg(3, 'hello')"
   ]
  },
  {
   "cell_type": "code",
   "execution_count": 7,
   "id": "ce15f193",
   "metadata": {},
   "outputs": [
    {
     "data": {
      "text/plain": [
       "(function, function)"
      ]
     },
     "execution_count": 7,
     "metadata": {},
     "output_type": "execute_result"
    }
   ],
   "source": [
    "type(my_msg), type(my_message)"
   ]
  },
  {
   "cell_type": "code",
   "execution_count": 8,
   "id": "12c69e6f",
   "metadata": {},
   "outputs": [
    {
     "name": "stdout",
     "output_type": "stream",
     "text": [
      "msg\n",
      "msg\n",
      "msg\n",
      "msg\n",
      "msg\n"
     ]
    }
   ],
   "source": [
    "my_message(5, \"Hello\")"
   ]
  },
  {
   "cell_type": "code",
   "execution_count": 9,
   "id": "3d9a899f",
   "metadata": {},
   "outputs": [
    {
     "name": "stdout",
     "output_type": "stream",
     "text": [
      "hello\n",
      "hello\n"
     ]
    }
   ],
   "source": [
    "print('hello') #파이썬 내장함수(import 하지 않고 사용할 수 있는 함수)\n",
    "print = 5\n",
    "del print\n",
    "print('hello')"
   ]
  },
  {
   "cell_type": "code",
   "execution_count": 10,
   "id": "ee11f142",
   "metadata": {},
   "outputs": [
    {
     "name": "stdout",
     "output_type": "stream",
     "text": [
      "msg\n",
      "msg\n"
     ]
    },
    {
     "data": {
      "text/plain": [
       "<function __main__.my_message(x, msg)>"
      ]
     },
     "execution_count": 10,
     "metadata": {},
     "output_type": "execute_result"
    }
   ],
   "source": [
    "my_message(2, 'hello')\n",
    "my_message"
   ]
  },
  {
   "cell_type": "code",
   "execution_count": 11,
   "id": "54bcf27b",
   "metadata": {},
   "outputs": [],
   "source": [
    "my_message = 5"
   ]
  },
  {
   "cell_type": "code",
   "execution_count": 12,
   "id": "272428ad",
   "metadata": {},
   "outputs": [],
   "source": [
    "def my_message(a, b):\n",
    "    pass"
   ]
  },
  {
   "cell_type": "code",
   "execution_count": 13,
   "id": "7b43141c",
   "metadata": {},
   "outputs": [],
   "source": [
    "my_message(2, 'hello')"
   ]
  },
  {
   "cell_type": "code",
   "execution_count": 14,
   "id": "21782f96",
   "metadata": {},
   "outputs": [],
   "source": [
    "del my_message"
   ]
  },
  {
   "cell_type": "code",
   "execution_count": 19,
   "id": "b937a389",
   "metadata": {},
   "outputs": [],
   "source": [
    "def my_hello():\n",
    "    print('hello, python')\n",
    "    print('hello,world')\n",
    "def my_hello(cnt):\n",
    "    for i in range(cnt):\n",
    "        print('hello, python')\n",
    "        print('hello,world')"
   ]
  },
  {
   "cell_type": "code",
   "execution_count": 20,
   "id": "fe32c8de",
   "metadata": {},
   "outputs": [
    {
     "name": "stdout",
     "output_type": "stream",
     "text": [
      "hello, python\n",
      "hello,world\n",
      "hello, python\n",
      "hello,world\n"
     ]
    }
   ],
   "source": [
    "# 함수사용 = 함수호출\n",
    "my_hello(2)"
   ]
  },
  {
   "cell_type": "code",
   "execution_count": 21,
   "id": "8b17bebe",
   "metadata": {},
   "outputs": [
    {
     "data": {
      "text/plain": [
       "<function __main__.my_hello(cnt)>"
      ]
     },
     "execution_count": 21,
     "metadata": {},
     "output_type": "execute_result"
    }
   ],
   "source": [
    "my_hello"
   ]
  },
  {
   "cell_type": "code",
   "execution_count": 22,
   "id": "d3b5fb40",
   "metadata": {},
   "outputs": [
    {
     "data": {
      "text/plain": [
       "'__main__'"
      ]
     },
     "execution_count": 22,
     "metadata": {},
     "output_type": "execute_result"
    }
   ],
   "source": [
    "__name__"
   ]
  },
  {
   "cell_type": "code",
   "execution_count": 25,
   "id": "6374f26b",
   "metadata": {},
   "outputs": [
    {
     "name": "stdout",
     "output_type": "stream",
     "text": [
      "hello, python\n",
      "hello,world\n",
      "hello, python\n",
      "hello,world\n"
     ]
    }
   ],
   "source": [
    "if __name__ == '__main__':\n",
    "    my_hello(2)"
   ]
  },
  {
   "cell_type": "code",
   "execution_count": 1,
   "id": "adb12200",
   "metadata": {},
   "outputs": [],
   "source": [
    "import ch05\n",
    "# ch05모듈을 load"
   ]
  },
  {
   "cell_type": "code",
   "execution_count": 2,
   "id": "f733dbe9",
   "metadata": {},
   "outputs": [
    {
     "name": "stdout",
     "output_type": "stream",
     "text": [
      "hello, python\n",
      "hello,world\n",
      "hello, python\n",
      "hello,world\n"
     ]
    }
   ],
   "source": [
    "ch05.my_hello(2)"
   ]
  },
  {
   "cell_type": "code",
   "execution_count": 5,
   "id": "afbc7cc0",
   "metadata": {},
   "outputs": [],
   "source": [
    "from ch05 import my_hello #ch05 모듈안의 my_hello load"
   ]
  },
  {
   "cell_type": "code",
   "execution_count": 7,
   "id": "636f39c6",
   "metadata": {},
   "outputs": [
    {
     "name": "stdout",
     "output_type": "stream",
     "text": [
      "hello, python\n",
      "hello,world\n",
      "hello, python\n",
      "hello,world\n"
     ]
    }
   ],
   "source": [
    "my_hello(2)"
   ]
  },
  {
   "cell_type": "markdown",
   "id": "7975636e",
   "metadata": {},
   "source": [
    "## 1.2 docstring"
   ]
  },
  {
   "cell_type": "code",
   "execution_count": 13,
   "id": "5ab429d6",
   "metadata": {},
   "outputs": [],
   "source": [
    "def my_function():\n",
    "    '''\n",
    "    함수의 첫라인에 독스트링을 포함할 수 있습니다\n",
    "    독스트링은 함수의 설명서를 달아주는 역할\n",
    "    줙보다 많은 기능(shift + tab으로 독스트링을 볼 수 있음)\n",
    "    '''\n",
    "    pass"
   ]
  },
  {
   "cell_type": "code",
   "execution_count": 14,
   "id": "56501e20",
   "metadata": {},
   "outputs": [
    {
     "name": "stdout",
     "output_type": "stream",
     "text": [
      "\n",
      "    함수의 첫라인에 독스트링을 포함할 수 있습니다\n",
      "    독스트링은 함수의 설명서를 달아주는 역할\n",
      "    줙보다 많은 기능(shift + tab으로 독스트링을 볼 수 있음)\n",
      "    \n"
     ]
    }
   ],
   "source": [
    "print(my_function.__doc__)"
   ]
  },
  {
   "cell_type": "code",
   "execution_count": 15,
   "id": "65f1bebc",
   "metadata": {},
   "outputs": [],
   "source": [
    "def fibonacci(n):\n",
    "    a, b = 0, 1\n",
    "    while a < n:\n",
    "        print(a, end=' ')\n",
    "        a, b =b, a+b\n",
    "    print() #개행"
   ]
  },
  {
   "cell_type": "code",
   "execution_count": 16,
   "id": "6eb69a92",
   "metadata": {},
   "outputs": [
    {
     "name": "stdout",
     "output_type": "stream",
     "text": [
      "0 1 1 2 3 5 8 \n"
     ]
    }
   ],
   "source": [
    "fibonacci(10)"
   ]
  },
  {
   "cell_type": "code",
   "execution_count": 18,
   "id": "6ad203b3",
   "metadata": {},
   "outputs": [],
   "source": [
    "if True:\n",
    "    x=10"
   ]
  },
  {
   "cell_type": "code",
   "execution_count": 19,
   "id": "edf06303",
   "metadata": {},
   "outputs": [
    {
     "data": {
      "text/plain": [
       "10"
      ]
     },
     "execution_count": 19,
     "metadata": {},
     "output_type": "execute_result"
    }
   ],
   "source": [
    "x"
   ]
  },
  {
   "cell_type": "markdown",
   "id": "ed648b31",
   "metadata": {},
   "source": [
    "## 1.3 지역변수(local var) 와 전역변수(global var)"
   ]
  },
  {
   "cell_type": "code",
   "execution_count": 20,
   "id": "e3bb1036",
   "metadata": {},
   "outputs": [
    {
     "name": "stdout",
     "output_type": "stream",
     "text": [
      "100\n",
      "100\n"
     ]
    }
   ],
   "source": [
    "global_var = 100 # 전역변수\n",
    "def func1():\n",
    "    print(global_var)\n",
    "func1()\n",
    "print(global_var)"
   ]
  },
  {
   "cell_type": "code",
   "execution_count": 24,
   "id": "54bce8c9",
   "metadata": {},
   "outputs": [
    {
     "name": "stdout",
     "output_type": "stream",
     "text": [
      "200\n"
     ]
    },
    {
     "ename": "NameError",
     "evalue": "name 'local_var' is not defined",
     "output_type": "error",
     "traceback": [
      "\u001b[1;31m---------------------------------------------------------------------------\u001b[0m",
      "\u001b[1;31mNameError\u001b[0m                                 Traceback (most recent call last)",
      "Cell \u001b[1;32mIn[24], line 5\u001b[0m\n\u001b[0;32m      3\u001b[0m     \u001b[38;5;28mprint\u001b[39m(local_var)\n\u001b[0;32m      4\u001b[0m func2()\n\u001b[1;32m----> 5\u001b[0m \u001b[38;5;28mprint\u001b[39m(\u001b[43mlocal_var\u001b[49m)\n",
      "\u001b[1;31mNameError\u001b[0m: name 'local_var' is not defined"
     ]
    }
   ],
   "source": [
    "def func2():\n",
    "    local_var = 200 # 지역변수\n",
    "    print(local_var)\n",
    "func2()\n",
    "print(local_var)"
   ]
  },
  {
   "cell_type": "code",
   "execution_count": 27,
   "id": "540295ee",
   "metadata": {},
   "outputs": [
    {
     "name": "stdout",
     "output_type": "stream",
     "text": [
      "200\n",
      "100\n"
     ]
    }
   ],
   "source": [
    "g_var = 100 # 전역변수\n",
    "def func3():\n",
    "    g_var = 200\n",
    "    print(g_var)\n",
    "func3()\n",
    "print(g_var)"
   ]
  },
  {
   "cell_type": "code",
   "execution_count": 33,
   "id": "8af3ea68",
   "metadata": {},
   "outputs": [
    {
     "ename": "UnboundLocalError",
     "evalue": "local variable 'g_var' referenced before assignment",
     "output_type": "error",
     "traceback": [
      "\u001b[1;31m---------------------------------------------------------------------------\u001b[0m",
      "\u001b[1;31mUnboundLocalError\u001b[0m                         Traceback (most recent call last)",
      "Cell \u001b[1;32mIn[33], line 5\u001b[0m\n\u001b[0;32m      3\u001b[0m     \u001b[38;5;28mprint\u001b[39m(g_var)\n\u001b[0;32m      4\u001b[0m     g_var \u001b[38;5;241m=\u001b[39m \u001b[38;5;241m200\u001b[39m    \u001b[38;5;66;03m# 이와 같은 상황은 바뀐 함수안의 변수를 인식한다\u001b[39;00m\n\u001b[1;32m----> 5\u001b[0m \u001b[43mfunc4\u001b[49m\u001b[43m(\u001b[49m\u001b[43m)\u001b[49m\n",
      "Cell \u001b[1;32mIn[33], line 3\u001b[0m, in \u001b[0;36mfunc4\u001b[1;34m()\u001b[0m\n\u001b[0;32m      2\u001b[0m \u001b[38;5;28;01mdef\u001b[39;00m \u001b[38;5;21mfunc4\u001b[39m():\n\u001b[1;32m----> 3\u001b[0m     \u001b[38;5;28mprint\u001b[39m(\u001b[43mg_var\u001b[49m)\n\u001b[0;32m      4\u001b[0m     g_var \u001b[38;5;241m=\u001b[39m \u001b[38;5;241m200\u001b[39m\n",
      "\u001b[1;31mUnboundLocalError\u001b[0m: local variable 'g_var' referenced before assignment"
     ]
    }
   ],
   "source": [
    "#렉시컬 특성\n",
    "g_var = 100 # 전역변수\n",
    "def func4():\n",
    "    print(g_var)\n",
    "    g_var = 200    # 이와 같은 상황은 바뀐 함수안의 변수를 인식한다  \n",
    "func4()    "
   ]
  },
  {
   "cell_type": "code",
   "execution_count": 34,
   "id": "1b46d2d9",
   "metadata": {},
   "outputs": [
    {
     "name": "stdout",
     "output_type": "stream",
     "text": [
      "100\n",
      "200\n"
     ]
    }
   ],
   "source": [
    "#렉시컬 특성\n",
    "g_var = 100 # 전역변수\n",
    "def func4():\n",
    "    global g_var # func4 함수내의 g_var 는 전역변수를 쓴다\n",
    "    print(g_var)\n",
    "    g_var = 200    # 전역변수  \n",
    "func4()\n",
    "print(g_var)"
   ]
  },
  {
   "cell_type": "markdown",
   "id": "a3bdb9a8",
   "metadata": {},
   "source": [
    "## 1.4 값에의한 호출\n",
    "- 함수의 매개변수(인수)로 전달되는 변수가 스칼라 변수(문자, 숫자, 논리형)일때"
   ]
  },
  {
   "cell_type": "code",
   "execution_count": 35,
   "id": "52415963",
   "metadata": {},
   "outputs": [
    {
     "data": {
      "text/plain": [
       "1889457039152"
      ]
     },
     "execution_count": 35,
     "metadata": {},
     "output_type": "execute_result"
    }
   ],
   "source": [
    "foo = 'a'\n",
    "id(foo)"
   ]
  },
  {
   "cell_type": "code",
   "execution_count": 51,
   "id": "15b200bb",
   "metadata": {},
   "outputs": [
    {
     "name": "stdout",
     "output_type": "stream",
     "text": [
      "a 1889457039152\n",
      "aaa 1889571205488\n"
     ]
    }
   ],
   "source": [
    "def func1(f): # 매개변수는 지역변수\n",
    "    print(f, id(f))\n",
    "    f = f*3\n",
    "    print(f, id(f))\n",
    "func1(foo)"
   ]
  },
  {
   "cell_type": "code",
   "execution_count": 55,
   "id": "d269891c",
   "metadata": {},
   "outputs": [
    {
     "name": "stdout",
     "output_type": "stream",
     "text": [
      "a 1889457039152\n"
     ]
    }
   ],
   "source": [
    "print(foo, id(foo))"
   ]
  },
  {
   "cell_type": "markdown",
   "id": "036cb886",
   "metadata": {},
   "source": [
    "## 1.5참조에 의한 호출\n",
    "- 함수의 매개변수(인자)로 전달되는 변수가 리스트, 튜플, 셋, 딕셔너리, 등의 객체일 경우"
   ]
  },
  {
   "cell_type": "code",
   "execution_count": 57,
   "id": "505b8bec",
   "metadata": {},
   "outputs": [
    {
     "data": {
      "text/plain": [
       "1889578934144"
      ]
     },
     "execution_count": 57,
     "metadata": {},
     "output_type": "execute_result"
    }
   ],
   "source": [
    "L = [1, 2, 3]\n",
    "id(L)"
   ]
  },
  {
   "cell_type": "code",
   "execution_count": 58,
   "id": "c28a8be4",
   "metadata": {},
   "outputs": [
    {
     "name": "stdout",
     "output_type": "stream",
     "text": [
      "[1, 2, 3] 1889578934144\n",
      "[1, 2, 3, 4] 1889578934144\n"
     ]
    }
   ],
   "source": [
    "def func2(f): # 매개변수는 지역변수\n",
    "    print(f, id(f))\n",
    "    f.append(4)\n",
    "    print(f, id(f))\n",
    "func2(L)"
   ]
  },
  {
   "cell_type": "code",
   "execution_count": 60,
   "id": "09a4f7d3",
   "metadata": {},
   "outputs": [
    {
     "name": "stdout",
     "output_type": "stream",
     "text": [
      "[1, 2, 3, 4] 1889578934144\n"
     ]
    }
   ],
   "source": [
    "print(L, id(L))"
   ]
  },
  {
   "cell_type": "markdown",
   "id": "dc14595b",
   "metadata": {},
   "source": [
    "# 2절. 함수의 실행결과를 반환하는 return"
   ]
  },
  {
   "cell_type": "code",
   "execution_count": 68,
   "id": "f8dc568e",
   "metadata": {},
   "outputs": [],
   "source": [
    "def add(a):\n",
    "    pass   "
   ]
  },
  {
   "cell_type": "code",
   "execution_count": 71,
   "id": "a941b05d",
   "metadata": {},
   "outputs": [
    {
     "name": "stdout",
     "output_type": "stream",
     "text": [
      "None\n"
     ]
    }
   ],
   "source": [
    "print(add(10))   # 위에 def 를 통해서 함수를 만들어 주면 이후 return 을 통해서 실행시킨다."
   ]
  },
  {
   "cell_type": "code",
   "execution_count": 76,
   "id": "11b2bb29",
   "metadata": {},
   "outputs": [],
   "source": [
    "def fibonacci_print(n):\n",
    "    '''\n",
    "    매개변수로 들어온 n값 미만의 피보나치 수열을 출력\n",
    "    ex. n=10 이면 0 1 1 2 3 5 8\n",
    "    '''\n",
    "    a, b = 0, 1\n",
    "    while a < n:\n",
    "        print(a, end=' ')\n",
    "        a, b =b, a+b\n",
    "    print() #개행\n",
    "def fibonacci_return(n):\n",
    "    '''\n",
    "    매개변수로 들어온 n값 미만의 피보나치 수열을 리스트로 return\n",
    "    ex. n=10 이면 [0 1 1 2 3 5 8]을 return\n",
    "    '''\n",
    "    result=[]   # return 을 할때는 결과값을 넣어주어야 한다\n",
    "    a, b = 0, 1\n",
    "    while a<n:\n",
    "        result.append(a)\n",
    "        a, b = b, a+b\n",
    "    return result\n",
    "   "
   ]
  },
  {
   "cell_type": "code",
   "execution_count": 77,
   "id": "9aab64aa",
   "metadata": {},
   "outputs": [
    {
     "name": "stdout",
     "output_type": "stream",
     "text": [
      "0 1 1 2 3 5 8 13 21 34 55 89 \n",
      "None\n"
     ]
    }
   ],
   "source": [
    "x = fibonacci_print(100)\n",
    "print(x)"
   ]
  },
  {
   "cell_type": "code",
   "execution_count": 78,
   "id": "214e540c",
   "metadata": {},
   "outputs": [
    {
     "name": "stdout",
     "output_type": "stream",
     "text": [
      "[0, 1, 1, 2, 3, 5, 8, 13, 21, 34, 55, 89]\n",
      "<class 'list'>\n"
     ]
    }
   ],
   "source": [
    "x = fibonacci_return(100)\n",
    "print(x)\n",
    "print(type(x))"
   ]
  },
  {
   "cell_type": "markdown",
   "id": "5de102f7",
   "metadata": {},
   "source": [
    "## 여러개 값 return"
   ]
  },
  {
   "cell_type": "code",
   "execution_count": 82,
   "id": "7fb73fe4",
   "metadata": {},
   "outputs": [],
   "source": [
    "def swap(a, b):\n",
    "    '매개변수 순서를 바꿔서 return'\n",
    "    return b, a"
   ]
  },
  {
   "cell_type": "code",
   "execution_count": 83,
   "id": "fb1b2b2d",
   "metadata": {},
   "outputs": [
    {
     "name": "stdout",
     "output_type": "stream",
     "text": [
      "5 10\n",
      "실행 후 10 5\n"
     ]
    }
   ],
   "source": [
    "x, y = 5, 10\n",
    "print(x, y)\n",
    "x, y = swap(x, y)\n",
    "print(\"실행 후\", x, y)"
   ]
  },
  {
   "cell_type": "markdown",
   "id": "b4ad3772",
   "metadata": {},
   "source": [
    "# 3절. 함수의 매개변수 \n",
    "## 3.1 기본값을 갖는 매개변수"
   ]
  },
  {
   "cell_type": "code",
   "execution_count": 89,
   "id": "bab361a0",
   "metadata": {},
   "outputs": [],
   "source": [
    "def make_url(ip, port=80):   # 순서가 중요해서 순서인수 > 기본값을갖는 매개변수\n",
    "    return 'http://{}:{}.'.format(ip, port)"
   ]
  },
  {
   "cell_type": "code",
   "execution_count": 91,
   "id": "8e27aed1",
   "metadata": {},
   "outputs": [
    {
     "name": "stdout",
     "output_type": "stream",
     "text": [
      "http://www.naver.com:80.\n",
      "http://localhost:8091.\n",
      "http://localhost:8090.\n"
     ]
    }
   ],
   "source": [
    "print(make_url('www.naver.com'))\n",
    "print(make_url('localhost', 8091))\n",
    "print(make_url(port = 8090, ip = 'localhost'))"
   ]
  },
  {
   "cell_type": "markdown",
   "id": "21a0e856",
   "metadata": {},
   "source": [
    "## 3.2 기본변수를 갖는 매개변수\n",
    "- 기본변수가 스칼라 변수일 떄\n",
    "- 기본변수가 리스트, 셋, 딕셔너리 등의 객체일 떄"
   ]
  },
  {
   "cell_type": "code",
   "execution_count": 112,
   "id": "f5209a02",
   "metadata": {},
   "outputs": [],
   "source": [
    "i = 5\n",
    "# 기본값을 갖는 변수가 스칼라 변수일 때 : arg의 기본값은 함수가 정의되는 시점의 값\n",
    "def func2(arg=i):\n",
    "    print('arg = ',arg)\n"
   ]
  },
  {
   "cell_type": "code",
   "execution_count": 113,
   "id": "7d29de7c",
   "metadata": {},
   "outputs": [
    {
     "name": "stdout",
     "output_type": "stream",
     "text": [
      "arg =  5\n"
     ]
    }
   ],
   "source": [
    "i=50\n",
    "func2()"
   ]
  },
  {
   "cell_type": "code",
   "execution_count": 123,
   "id": "a1498c29",
   "metadata": {},
   "outputs": [],
   "source": [
    "list_=[]\n",
    "# 기본값을 갖는 변수가 객체일때(데이터 구조) 일때 : \n",
    "def func3(data, L=list_):\n",
    "    'data를 L에 append'\n",
    "    L.append(data)\n",
    "    return L\n",
    "\n",
    "    "
   ]
  },
  {
   "cell_type": "code",
   "execution_count": 124,
   "id": "af6756de",
   "metadata": {},
   "outputs": [
    {
     "name": "stdout",
     "output_type": "stream",
     "text": [
      "[10]\n"
     ]
    }
   ],
   "source": [
    "print(func3(10)) # list_ 가 수정 : [10]"
   ]
  },
  {
   "cell_type": "code",
   "execution_count": 125,
   "id": "ba953859",
   "metadata": {},
   "outputs": [
    {
     "name": "stdout",
     "output_type": "stream",
     "text": [
      "[10, 20]\n"
     ]
    }
   ],
   "source": [
    "print(func3(20))"
   ]
  },
  {
   "cell_type": "code",
   "execution_count": 126,
   "id": "aa198180",
   "metadata": {},
   "outputs": [],
   "source": [
    "def func4(data, L=None):\n",
    "    if L==None:\n",
    "        L=[]\n",
    "        L.append(data)\n",
    "        return L"
   ]
  },
  {
   "cell_type": "code",
   "execution_count": 127,
   "id": "1380325d",
   "metadata": {},
   "outputs": [
    {
     "name": "stdout",
     "output_type": "stream",
     "text": [
      "[10]\n",
      "None\n"
     ]
    }
   ],
   "source": [
    "print(func4(10))\n",
    "print(func4(10, list_))"
   ]
  },
  {
   "cell_type": "markdown",
   "id": "b0600ff9",
   "metadata": {},
   "source": [
    "## 3.3 튜플 매개변수를 이용한 가변인수 설정"
   ]
  },
  {
   "cell_type": "code",
   "execution_count": null,
   "id": "4f3277a0",
   "metadata": {},
   "outputs": [],
   "source": [
    "# 파이썬은 오버로딩(함수의 중복을)지원하지 않음"
   ]
  },
  {
   "cell_type": "code",
   "execution_count": 128,
   "id": "e2925568",
   "metadata": {},
   "outputs": [],
   "source": [
    "def add(a, b):\n",
    "    return a+b\n",
    "def add(a, b):\n",
    "    return a+b+c"
   ]
  },
  {
   "cell_type": "code",
   "execution_count": 134,
   "id": "3c30bf80",
   "metadata": {},
   "outputs": [],
   "source": [
    "# *args: 매개변수들을 하나의 듀플 변수 args로 전달받음\n",
    "def add(*args):\n",
    "     # print(args)\n",
    "    result_tot = 0 #누적변수\n",
    "    for data in args:\n",
    "        result_tot += data\n",
    "    return result_tot"
   ]
  },
  {
   "cell_type": "code",
   "execution_count": 136,
   "id": "4a096b5c",
   "metadata": {},
   "outputs": [
    {
     "name": "stdout",
     "output_type": "stream",
     "text": [
      "1\n",
      "33\n"
     ]
    }
   ],
   "source": [
    "print(add(1))\n",
    "print(add(1,2,30))"
   ]
  },
  {
   "cell_type": "code",
   "execution_count": 144,
   "id": "ffebe2fe",
   "metadata": {},
   "outputs": [
    {
     "data": {
      "text/plain": [
       "'python/oracle/Dl'"
      ]
     },
     "execution_count": 144,
     "metadata": {},
     "output_type": "execute_result"
    }
   ],
   "source": [
    "subject = ('python', 'oracle', 'Dl')\n",
    "'/'.join(subject)"
   ]
  },
  {
   "cell_type": "code",
   "execution_count": 145,
   "id": "15a0054f",
   "metadata": {},
   "outputs": [],
   "source": [
    "def concat(*subject,sep):\n",
    "    return sep.join(subject)"
   ]
  },
  {
   "cell_type": "code",
   "execution_count": 146,
   "id": "01500ce2",
   "metadata": {},
   "outputs": [
    {
     "ename": "SyntaxError",
     "evalue": "invalid syntax (1193595371.py, line 1)",
     "output_type": "error",
     "traceback": [
      "\u001b[1;36m  Cell \u001b[1;32mIn[146], line 1\u001b[1;36m\u001b[0m\n\u001b[1;33m    concat('python','oracle','webstandard','java'.'/')\u001b[0m\n\u001b[1;37m                                                  ^\u001b[0m\n\u001b[1;31mSyntaxError\u001b[0m\u001b[1;31m:\u001b[0m invalid syntax\n"
     ]
    }
   ],
   "source": [
    "concat('python','oracle','webstandard','java','/')"
   ]
  },
  {
   "cell_type": "code",
   "execution_count": 148,
   "id": "729933cb",
   "metadata": {},
   "outputs": [
    {
     "data": {
      "text/plain": [
       "'python/oracle/webstandard/java'"
      ]
     },
     "execution_count": 148,
     "metadata": {},
     "output_type": "execute_result"
    }
   ],
   "source": [
    "# 해결책1 : 매개변수 이름을 지정해서 호출\n",
    "concat('python','oracle','webstandard','java',sep='/')"
   ]
  },
  {
   "cell_type": "code",
   "execution_count": 164,
   "id": "72742439",
   "metadata": {},
   "outputs": [],
   "source": [
    "# 해결책2 : 기본값을 갖는 키워드인수 (sep=)사용\n",
    "def concat(*subject, sep='~'):\n",
    "    return sep.join(subject)\n",
    "    "
   ]
  },
  {
   "cell_type": "code",
   "execution_count": 165,
   "id": "35f23698",
   "metadata": {},
   "outputs": [
    {
     "data": {
      "text/plain": [
       "'python/oracle/webstandard/java'"
      ]
     },
     "execution_count": 165,
     "metadata": {},
     "output_type": "execute_result"
    }
   ],
   "source": [
    "concat('python','oracle','webstandard','java',sep='/')"
   ]
  },
  {
   "cell_type": "code",
   "execution_count": 157,
   "id": "9ae3bb8a",
   "metadata": {},
   "outputs": [],
   "source": [
    "# 해결책 3 : sep을 순서인수로 앞에 선언\n",
    "def concat(sep, *subject):\n",
    "    return sep.join(subject)"
   ]
  },
  {
   "cell_type": "code",
   "execution_count": 162,
   "id": "44dea397",
   "metadata": {},
   "outputs": [
    {
     "data": {
      "text/plain": [
       "'python/oracle/DL'"
      ]
     },
     "execution_count": 162,
     "metadata": {},
     "output_type": "execute_result"
    }
   ],
   "source": [
    "concat('/','python','oracle', 'DL')"
   ]
  },
  {
   "cell_type": "markdown",
   "id": "42774aab",
   "metadata": {},
   "source": [
    "## 3.4 딕셔너리 매개변수\n",
    "- 여러 개의 키워드인수를 딕셔너리 형태로 받아서 가변키워드 인수 처리"
   ]
  },
  {
   "cell_type": "code",
   "execution_count": 170,
   "id": "647df92a",
   "metadata": {},
   "outputs": [],
   "source": [
    "def func5(**kwargs): \n",
    "    print(kwargs)\n",
    "    print(type(kwargs))\n",
    "    print('이름 :', kwargs.get('name', '대마왕'))\n",
    "    print('나이 :', kwargs.get('age', 30))\n",
    "    print('주소 :', kwargs.get('address', '서울'))"
   ]
  },
  {
   "cell_type": "code",
   "execution_count": 171,
   "id": "5b306d6d",
   "metadata": {},
   "outputs": [
    {
     "name": "stdout",
     "output_type": "stream",
     "text": [
      "{'name': '홍길동', 'age': 30, 'address': '신림동'}\n",
      "<class 'dict'>\n",
      "이름 : 홍길동\n",
      "나이 : 30\n",
      "주소 : 신림동\n"
     ]
    }
   ],
   "source": [
    "func5(name='홍길동', age=30, address='신림동')"
   ]
  },
  {
   "cell_type": "code",
   "execution_count": 173,
   "id": "6078b93e",
   "metadata": {},
   "outputs": [
    {
     "name": "stdout",
     "output_type": "stream",
     "text": [
      "{'name': '김길동'}\n",
      "<class 'dict'>\n",
      "이름 : 김길동\n",
      "나이 : 30\n",
      "주소 : 서울\n"
     ]
    }
   ],
   "source": [
    "func5(name='김길동')"
   ]
  },
  {
   "cell_type": "markdown",
   "id": "fe823481",
   "metadata": {},
   "source": [
    "## 함수정의시 매개변수 순서\n",
    "- 순서인수 > 튜플매개변수(*) > 키워드 인수(매개변수이름반드시명시)> 딕셔너리매개변수(**)"
   ]
  },
  {
   "cell_type": "code",
   "execution_count": 176,
   "id": "7044afa3",
   "metadata": {},
   "outputs": [],
   "source": [
    "def func6(a, b, *c, **d):\n",
    "    print('순서인수 a:', a)\n",
    "    print('순서인수 b:', b)\n",
    "    print('듀플인수 c:', c)\n",
    "    print('딕셔너리 인수 d:', d)"
   ]
  },
  {
   "cell_type": "code",
   "execution_count": 177,
   "id": "833c4968",
   "metadata": {},
   "outputs": [
    {
     "name": "stdout",
     "output_type": "stream",
     "text": [
      "순서인수 a: 10\n",
      "순서인수 b: 20\n",
      "듀플인수 c: (1, 2, 3, 4, 5, 6, 7, 8, 9)\n",
      "딕셔너리 인수 d: {'name': '홍길동', 'age': 30, 'address': '서울'}\n"
     ]
    }
   ],
   "source": [
    "func6(10, 20, 1, 2, 3, 4, 5, 6, 7, 8, 9, name='홍길동', age=30, address='서울')"
   ]
  },
  {
   "cell_type": "code",
   "execution_count": 178,
   "id": "b458c5b8",
   "metadata": {},
   "outputs": [],
   "source": [
    "def func7(a, b, *c, d='기본값', **e):\n",
    "    print('순서인수 a:', a)\n",
    "    print('순서인수 b:', b)\n",
    "    print('듀플인수 c:', c)\n",
    "    print('키워드인수(기본값을 갖는 인수, 호출시 매개변수명 반드시 명시) d:', d)\n",
    "    print('딕셔너리인수 e:', e)"
   ]
  },
  {
   "cell_type": "code",
   "execution_count": 179,
   "id": "8285f697",
   "metadata": {},
   "outputs": [
    {
     "name": "stdout",
     "output_type": "stream",
     "text": [
      "순서인수 a: 10\n",
      "순서인수 b: 20\n",
      "듀플인수 c: (1, 2, 3)\n",
      "키워드인수(기본값을 갖는 인수, 호출시 매개변수명 반드시 명시) d: 딴거\n",
      "딕셔너리인수 e: {'name': '홍길동', 'fontsize': 12, 'fontfamily': 'consola'}\n"
     ]
    }
   ],
   "source": [
    "func7(10, 20, 1, 2, 3, d='딴거', name='홍길동', fontsize=12, fontfamily='consola')"
   ]
  },
  {
   "cell_type": "code",
   "execution_count": 180,
   "id": "2265dcd0",
   "metadata": {},
   "outputs": [
    {
     "name": "stdout",
     "output_type": "stream",
     "text": [
      "순서인수 a: 10\n",
      "순서인수 b: 20\n",
      "듀플인수 c: (1, 2, 3, '딴거')\n",
      "키워드인수(기본값을 갖는 인수, 호출시 매개변수명 반드시 명시) d: 기본값\n",
      "딕셔너리인수 e: {'name': '홍길동', 'fontsize': 12, 'fontfamily': 'consola'}\n"
     ]
    }
   ],
   "source": [
    "func7(10, 20, 1, 2, 3, '딴거', name='홍길동', fontsize=12, fontfamily='consola')"
   ]
  },
  {
   "cell_type": "markdown",
   "id": "d9999d96",
   "metadata": {},
   "source": [
    "## 3.6 인수의 언패킹\n",
    "### 튜플인수 언패킹\n",
    "- 언패킹 : 함수 호출시 매개면수 앞에 *붙임\n",
    "- 패킹 : 함수 정의시 매개변수 앞에 *붙임(튜플매개변수)"
   ]
  },
  {
   "cell_type": "code",
   "execution_count": 184,
   "id": "2db07989",
   "metadata": {},
   "outputs": [],
   "source": [
    "def add(*args):\n",
    "    print(args)\n",
    "    tot=0\n",
    "    for num in args:\n",
    "        tot += num\n",
    "    return tot"
   ]
  },
  {
   "cell_type": "code",
   "execution_count": 185,
   "id": "8f2d8665",
   "metadata": {},
   "outputs": [
    {
     "name": "stdout",
     "output_type": "stream",
     "text": [
      "(1, 2, 3, 4)\n"
     ]
    },
    {
     "data": {
      "text/plain": [
       "10"
      ]
     },
     "execution_count": 185,
     "metadata": {},
     "output_type": "execute_result"
    }
   ],
   "source": [
    "add(1,2,3,4)"
   ]
  },
  {
   "cell_type": "code",
   "execution_count": 187,
   "id": "850d96ba",
   "metadata": {},
   "outputs": [
    {
     "name": "stdout",
     "output_type": "stream",
     "text": [
      "(1, 2, 3, 4)\n"
     ]
    },
    {
     "data": {
      "text/plain": [
       "10"
      ]
     },
     "execution_count": 187,
     "metadata": {},
     "output_type": "execute_result"
    }
   ],
   "source": [
    "numbers = [1,2,3,4]\n",
    "add(*numbers)   # *을 넣음으로서 언패킹이 된다"
   ]
  },
  {
   "cell_type": "code",
   "execution_count": 188,
   "id": "e88a6b70",
   "metadata": {},
   "outputs": [
    {
     "name": "stdout",
     "output_type": "stream",
     "text": [
      "(1, 2, 3, 4)\n"
     ]
    },
    {
     "data": {
      "text/plain": [
       "10"
      ]
     },
     "execution_count": 188,
     "metadata": {},
     "output_type": "execute_result"
    }
   ],
   "source": [
    "numbers = (1,2,3,4)\n",
    "add(*numbers)  # 언패킹"
   ]
  },
  {
   "cell_type": "markdown",
   "id": "91d5a4bb",
   "metadata": {},
   "source": [
    "### 딕셔너리인수 언패킹\n",
    "- 딕셔너리 언패킹 : 함수 호출시 매개변수 앞에 ** 붙임\n",
    "- 딕셔너리 패킹 : 함수 정의시 매개변수 앞에 ** 붙임"
   ]
  },
  {
   "cell_type": "code",
   "execution_count": 201,
   "id": "67c42c3f",
   "metadata": {},
   "outputs": [],
   "source": [
    "def func5(**data):\n",
    "    print(type(data))\n",
    "    for key, item in data.items():\n",
    "        print(f\"{key}:{item}\")"
   ]
  },
  {
   "cell_type": "code",
   "execution_count": 202,
   "id": "720627e0",
   "metadata": {},
   "outputs": [
    {
     "name": "stdout",
     "output_type": "stream",
     "text": [
      "<class 'dict'>\n",
      "name:홍길동\n",
      "age:0\n",
      "address:신림\n"
     ]
    }
   ],
   "source": [
    "func5(name = '홍길동', age = 0, address = '신림')"
   ]
  },
  {
   "cell_type": "code",
   "execution_count": 203,
   "id": "929b3cba",
   "metadata": {},
   "outputs": [
    {
     "name": "stdout",
     "output_type": "stream",
     "text": [
      "<class 'dict'>\n",
      "name:홍길동\n",
      "age:30\n",
      "address:서울시 강남구\n",
      "score:900\n"
     ]
    }
   ],
   "source": [
    "customInfo = {'name':'홍길동', 'age':30, 'address':'서울시 강남구', 'score':900}\n",
    "func5(**customInfo)"
   ]
  },
  {
   "cell_type": "markdown",
   "id": "11f48fd3",
   "metadata": {},
   "source": [
    "# 4절. 람다식\n",
    "- return 한줄짜리 작은 익명함수\n",
    "## 4.1 람다식 연습"
   ]
  },
  {
   "cell_type": "code",
   "execution_count": 204,
   "id": "5f22d791",
   "metadata": {},
   "outputs": [
    {
     "data": {
      "text/plain": [
       "7"
      ]
     },
     "execution_count": 204,
     "metadata": {},
     "output_type": "execute_result"
    }
   ],
   "source": [
    "def add(a, b):\n",
    "    return a+b\n",
    "add(3,4)"
   ]
  },
  {
   "cell_type": "code",
   "execution_count": 210,
   "id": "ed7992b9",
   "metadata": {},
   "outputs": [
    {
     "data": {
      "text/plain": [
       "7"
      ]
     },
     "execution_count": 210,
     "metadata": {},
     "output_type": "execute_result"
    }
   ],
   "source": [
    "add2 = lambda a, b : a+b   # 람다식 문법 \n",
    "add2(3, 4)"
   ]
  },
  {
   "cell_type": "code",
   "execution_count": 212,
   "id": "2750f3ed",
   "metadata": {},
   "outputs": [
    {
     "data": {
      "text/plain": [
       "(function, function)"
      ]
     },
     "execution_count": 212,
     "metadata": {},
     "output_type": "execute_result"
    }
   ],
   "source": [
    "type(add2), type(add)"
   ]
  },
  {
   "cell_type": "code",
   "execution_count": 213,
   "id": "b447b2b3",
   "metadata": {},
   "outputs": [
    {
     "data": {
      "text/plain": [
       "7"
      ]
     },
     "execution_count": 213,
     "metadata": {},
     "output_type": "execute_result"
    }
   ],
   "source": [
    "(lambda a, b : a+b)(3, 4)   # 람다식 문법"
   ]
  },
  {
   "cell_type": "code",
   "execution_count": 219,
   "id": "2ff28bb1",
   "metadata": {},
   "outputs": [],
   "source": [
    "# ex1. 매개변수로 들어온 값이 짝수인지 홀수인지 return\n",
    "def ex1(num):\n",
    "    if num%2==1:\n",
    "        result = '홀수'\n",
    "    else:\n",
    "        result = '짝수'\n",
    "    return result"
   ]
  },
  {
   "cell_type": "code",
   "execution_count": 220,
   "id": "39be30e2",
   "metadata": {},
   "outputs": [
    {
     "data": {
      "text/plain": [
       "'홀수'"
      ]
     },
     "execution_count": 220,
     "metadata": {},
     "output_type": "execute_result"
    }
   ],
   "source": [
    "# ex1. 람다 형식\n",
    "def ex1(num):\n",
    "    return = \"홀수\" if num%2==0 else \"짝수\"  # 이런식으로 바꿀수 있어서 람다를 사용 할 수 있다"
   ]
  },
  {
   "cell_type": "code",
   "execution_count": 221,
   "id": "2463a549",
   "metadata": {},
   "outputs": [],
   "source": [
    "#ex1.\n",
    "ex1 = lambda num : \"홀수\" if num%2 else \"짝수\""
   ]
  },
  {
   "cell_type": "code",
   "execution_count": 223,
   "id": "5de410dd",
   "metadata": {},
   "outputs": [
    {
     "data": {
      "text/plain": [
       "'홀수'"
      ]
     },
     "execution_count": 223,
     "metadata": {},
     "output_type": "execute_result"
    }
   ],
   "source": [
    "ex1(5)"
   ]
  },
  {
   "cell_type": "code",
   "execution_count": 237,
   "id": "f9d377a0",
   "metadata": {},
   "outputs": [],
   "source": [
    "# ex2. 두 매개변수의 차이를 return\n",
    "def ex2(a,b):\n",
    "    if (a>=b) and (a,b>=0):\n",
    "        result = a-b\n",
    "    else:\n",
    "        result = \"다시입력하시오\"\n",
    "    return result"
   ]
  },
  {
   "cell_type": "code",
   "execution_count": 239,
   "id": "08cca093",
   "metadata": {},
   "outputs": [
    {
     "data": {
      "text/plain": [
       "2"
      ]
     },
     "execution_count": 239,
     "metadata": {},
     "output_type": "execute_result"
    }
   ],
   "source": [
    "ex2(7,5)"
   ]
  },
  {
   "cell_type": "code",
   "execution_count": 240,
   "id": "738a6c85",
   "metadata": {},
   "outputs": [],
   "source": [
    "ex2 = lambda a,b :  a-b if (a>=b) and (a,b>=0) else '다시입력하시오'"
   ]
  },
  {
   "cell_type": "code",
   "execution_count": 243,
   "id": "1adde10f",
   "metadata": {},
   "outputs": [
    {
     "data": {
      "text/plain": [
       "'다시입력하시오'"
      ]
     },
     "execution_count": 243,
     "metadata": {},
     "output_type": "execute_result"
    }
   ],
   "source": [
    "ex2(4,7)"
   ]
  },
  {
   "cell_type": "code",
   "execution_count": 244,
   "id": "473a023a",
   "metadata": {},
   "outputs": [],
   "source": [
    "# ex3. 매개변수로 잔액을 받아 양수면 잔액을 return, 음수면 'negative'\n",
    "def ex3(num):\n",
    "    if num>=0:\n",
    "        result = \"return\"\n",
    "    else:\n",
    "        result = \"negative\"\n",
    "    return result"
   ]
  },
  {
   "cell_type": "code",
   "execution_count": 247,
   "id": "0dd9bdd5",
   "metadata": {},
   "outputs": [],
   "source": [
    "ex3 = lambda num : 'return' if num>=0 else 'negative'"
   ]
  },
  {
   "cell_type": "code",
   "execution_count": 248,
   "id": "4dc2cb86",
   "metadata": {},
   "outputs": [
    {
     "data": {
      "text/plain": [
       "'return'"
      ]
     },
     "execution_count": 248,
     "metadata": {},
     "output_type": "execute_result"
    }
   ],
   "source": [
    "ex3(7)"
   ]
  },
  {
   "cell_type": "code",
   "execution_count": 261,
   "id": "9374ce9b",
   "metadata": {},
   "outputs": [
    {
     "data": {
      "text/plain": [
       "('유요하지 않음', 'B')"
      ]
     },
     "execution_count": 261,
     "metadata": {},
     "output_type": "execute_result"
    }
   ],
   "source": [
    "# ex4. 점수를 입력받아 점수가 80점 이상이면 A 팀, 60점 이상은 B, 60점 미만은 재시험 그외는 유요하지 않음을 출력\n",
    "# ex4 = lambda num : \"A\" if num 80>= elif num 80>=num>=60 \"B\" else \"c\"   # 나의 오답\n",
    "ex4 = lambda num : \"A\" if 80<=num<=100 else \\\n",
    "                    \"B\" if 60<=num<80 else \\\n",
    "                   \"재시험\" if 0<=num<60 else\\\n",
    "                   \"유요하지 않음\"\n",
    "ex4(120), ex4(70)"
   ]
  },
  {
   "cell_type": "code",
   "execution_count": null,
   "id": "c4df583a",
   "metadata": {},
   "outputs": [],
   "source": []
  },
  {
   "cell_type": "code",
   "execution_count": 256,
   "id": "3cfa9ca7",
   "metadata": {},
   "outputs": [],
   "source": [
    "# ex5 safe_index를 란다식으로\n",
    "def safe_index(lst, data):\n",
    "    if data in lst:\n",
    "        return lst.index(data)\n",
    "    else:\n",
    "        return -1"
   ]
  },
  {
   "cell_type": "code",
   "execution_count": 263,
   "id": "fa86b460",
   "metadata": {},
   "outputs": [],
   "source": [
    "# ex5 = lambda num : -1 if num not in lst else lst.index()\n",
    "ex5 = lambda lst, data : lst.index(data) if data in list else -1"
   ]
  },
  {
   "cell_type": "markdown",
   "id": "58c90a39",
   "metadata": {},
   "source": [
    "## 4.2 함수의 매개변수에 람다식 이용\n",
    "\n",
    "## (1)map"
   ]
  },
  {
   "cell_type": "code",
   "execution_count": 317,
   "id": "ee7b007d",
   "metadata": {},
   "outputs": [],
   "source": [
    "def map_template(func, L=[]):\n",
    "    '''L의 모든 요쇼를 func() 함수를 적용시켜 return\n",
    "    [func(l) for l in L]\n",
    "    '''\n",
    "    restlt : []\n",
    "    for l in L:\n",
    "        result.append(func(l))\n",
    "                    #  result = [func(l) for l in L]\n",
    "#    return [func(l) for l in L]\n"
   ]
  },
  {
   "cell_type": "code",
   "execution_count": 318,
   "id": "a1280e5c",
   "metadata": {},
   "outputs": [
    {
     "ename": "NameError",
     "evalue": "name 'result' is not defined",
     "output_type": "error",
     "traceback": [
      "\u001b[1;31m---------------------------------------------------------------------------\u001b[0m",
      "\u001b[1;31mNameError\u001b[0m                                 Traceback (most recent call last)",
      "Cell \u001b[1;32mIn[318], line 3\u001b[0m\n\u001b[0;32m      1\u001b[0m \u001b[38;5;66;03m# 리스트 데이터를 가공하는 방법 1. map\u001b[39;00m\n\u001b[0;32m      2\u001b[0m list_data \u001b[38;5;241m=\u001b[39m [\u001b[38;5;241m1\u001b[39m,\u001b[38;5;241m2\u001b[39m,\u001b[38;5;241m3\u001b[39m,\u001b[38;5;241m4\u001b[39m,\u001b[38;5;241m5\u001b[39m,\u001b[38;5;241m6\u001b[39m,\u001b[38;5;241m7\u001b[39m,\u001b[38;5;241m8\u001b[39m,\u001b[38;5;241m9\u001b[39m,\u001b[38;5;241m10\u001b[39m]\n\u001b[1;32m----> 3\u001b[0m \u001b[43mmap_template\u001b[49m\u001b[43m(\u001b[49m\u001b[38;5;28;43;01mlambda\u001b[39;49;00m\u001b[43m \u001b[49m\u001b[43mx\u001b[49m\u001b[43m \u001b[49m\u001b[43m:\u001b[49m\u001b[43m \u001b[49m\u001b[43mx\u001b[49m\u001b[38;5;241;43m*\u001b[39;49m\u001b[38;5;241;43m2\u001b[39;49m\u001b[43m,\u001b[49m\u001b[43m \u001b[49m\u001b[43mlist_data\u001b[49m\u001b[43m)\u001b[49m\n",
      "Cell \u001b[1;32mIn[317], line 7\u001b[0m, in \u001b[0;36mmap_template\u001b[1;34m(func, L)\u001b[0m\n\u001b[0;32m      5\u001b[0m restlt : []\n\u001b[0;32m      6\u001b[0m \u001b[38;5;28;01mfor\u001b[39;00m l \u001b[38;5;129;01min\u001b[39;00m L:\n\u001b[1;32m----> 7\u001b[0m     \u001b[43mresult\u001b[49m\u001b[38;5;241m.\u001b[39mappend(func(l))\n",
      "\u001b[1;31mNameError\u001b[0m: name 'result' is not defined"
     ]
    }
   ],
   "source": [
    "# 리스트 데이터를 가공하는 방법 1. map\n",
    "list_data = [1,2,3,4,5,6,7,8,9,10]\n",
    "map_template(lambda x : x*2, list_data)\n",
    "# def x_2(x):\n",
    "#     return x*2\n",
    "# map_template(x_2, list_data)"
   ]
  },
  {
   "cell_type": "code",
   "execution_count": null,
   "id": "de72bbae",
   "metadata": {},
   "outputs": [],
   "source": [
    "# 리스트 데이터를 가공 방법 2. 리스트 컴프리헨션\n",
    "[l*2 for l in list_data]"
   ]
  },
  {
   "cell_type": "code",
   "execution_count": 6,
   "id": "c42dcae0",
   "metadata": {},
   "outputs": [
    {
     "data": {
      "text/plain": [
       "[2, 4, 6, 8, 10, 12, 14, 16, 18, 20]"
      ]
     },
     "execution_count": 6,
     "metadata": {},
     "output_type": "execute_result"
    }
   ],
   "source": [
    "# 리스트를 데이터를 가공 방법 3. map(): 파이썬 내장함수\n",
    "list(map(lambda x : x*2, list_data))"
   ]
  },
  {
   "cell_type": "code",
   "execution_count": 7,
   "id": "e5154dbd",
   "metadata": {},
   "outputs": [
    {
     "name": "stdout",
     "output_type": "stream",
     "text": [
      "2468101214161820"
     ]
    }
   ],
   "source": [
    "for item in map(lambda x : x*2, list_data):\n",
    "    print(item, end='')"
   ]
  },
  {
   "cell_type": "code",
   "execution_count": 9,
   "id": "8b0a973f",
   "metadata": {},
   "outputs": [],
   "source": [
    "'''\n",
    "예1. prices = [5000,800,1000,6000]로 바꾸시오\n",
    "'''\n",
    "prices = ['5,000', '800', '1000', '6,000']"
   ]
  },
  {
   "cell_type": "code",
   "execution_count": 12,
   "id": "b7415d4b",
   "metadata": {},
   "outputs": [
    {
     "data": {
      "text/plain": [
       "5000"
      ]
     },
     "execution_count": 12,
     "metadata": {},
     "output_type": "execute_result"
    }
   ],
   "source": [
    "def func(x):\n",
    "    return int(x.replace(',',''))  #, 를 바꾸어줌\n",
    "func(\"5,000\")"
   ]
  },
  {
   "cell_type": "code",
   "execution_count": 14,
   "id": "4cfafd5f",
   "metadata": {},
   "outputs": [
    {
     "data": {
      "text/plain": [
       "[5000, 800, 1000, 6000]"
      ]
     },
     "execution_count": 14,
     "metadata": {},
     "output_type": "execute_result"
    }
   ],
   "source": [
    "list(map(lambda x : int(x.replace(',','')), prices))"
   ]
  },
  {
   "cell_type": "code",
   "execution_count": 21,
   "id": "fc2240e4",
   "metadata": {},
   "outputs": [
    {
     "data": {
      "text/plain": [
       "\"\\n예2. member1=[{'name':'홍길동', 'birth':'2000-01-01'},\\n              {'name':'신길동', 'birth':'1998-12-31'},]를\\n     member2=[{'name':'홍길동', 'year':'2000, 'month':1, 'day':1},\\n              {'name':'신길동', 'year':'1998, 'month':12, 'day':31},]를 바꿉니다\\n\""
      ]
     },
     "execution_count": 21,
     "metadata": {},
     "output_type": "execute_result"
    }
   ],
   "source": [
    "'''\n",
    "예2. member1=[{'name':'홍길동', 'birth':'2000-01-01'},\n",
    "              {'name':'신길동', 'birth':'1998-12-31'},]를\n",
    "     member2=[{'name':'홍길동', 'year':'2000, 'month':1, 'day':1},\n",
    "              {'name':'신길동', 'year':'1998, 'month':12, 'day':31},]를 바꿉니다\n",
    "'''"
   ]
  },
  {
   "cell_type": "code",
   "execution_count": 22,
   "id": "7d835564",
   "metadata": {},
   "outputs": [],
   "source": [
    "member1=[{'name':'홍길동', 'birth':'2000-01-01'},\n",
    "        {'name':'신길동', 'birth':'1998-12-31'},]"
   ]
  },
  {
   "cell_type": "code",
   "execution_count": 27,
   "id": "29bb8792",
   "metadata": {},
   "outputs": [],
   "source": [
    "#'2000-01-01' => {'year':'2000, 'month':1, 'day':1}\n",
    "def split_data(date):\n",
    "    split_data = date.split('-')\n",
    "    print(split_data[0], split_data[1], split_data[2])\n",
    "    return {'year': int(split_data[0]),\n",
    "            'month': int(split_data[1]),\n",
    "            'day': int(split_data[2])\n",
    "           }"
   ]
  },
  {
   "cell_type": "code",
   "execution_count": 28,
   "id": "7630a4fc",
   "metadata": {},
   "outputs": [
    {
     "name": "stdout",
     "output_type": "stream",
     "text": [
      "2000 01 01\n"
     ]
    },
    {
     "data": {
      "text/plain": [
       "{'year': 2000, 'month': 1, 'day': 1}"
      ]
     },
     "execution_count": 28,
     "metadata": {},
     "output_type": "execute_result"
    }
   ],
   "source": [
    "split_data(\"2000-01-01\")"
   ]
  },
  {
   "cell_type": "code",
   "execution_count": 32,
   "id": "9a583a49",
   "metadata": {},
   "outputs": [
    {
     "data": {
      "text/plain": [
       "{'name': '홍길동', 'year': 2000, 'month': 1, 'day': 1}"
      ]
     },
     "execution_count": 32,
     "metadata": {},
     "output_type": "execute_result"
    }
   ],
   "source": [
    "def member_func(member):  #  {'name':'신길동', 'birth':'1998-12-31'}을\n",
    "    \"{'name':'신길동', 'year':'1998, 'month':12, 'day':31}식으로 리턴\" \n",
    "    return{\n",
    "        'name' : member.get('name'),\n",
    "        'year' : int(member['birth'].split('-')[0]),\n",
    "        'month' : int(member['birth'].split('-')[1]),\n",
    "        'day' : int(member['birth'].split('-')[2]),\n",
    "    }\n",
    "member_func(member1[0])"
   ]
  },
  {
   "cell_type": "code",
   "execution_count": 144,
   "id": "f64dc0ba",
   "metadata": {},
   "outputs": [],
   "source": [
    "member2 = list(map(lambda member : {\n",
    "                'name' : member.get('name'),\n",
    "                'year' : int(member['birth'].split('-')[0]),\n",
    "                'month' : int(member['birth'].split('-')[1]),\n",
    "                'day' : int(member['birth'].split('-')[2]),\n",
    "                },\n",
    "       member1  \n",
    "       )\n",
    "    )\n"
   ]
  },
  {
   "cell_type": "code",
   "execution_count": null,
   "id": "6f134fc0",
   "metadata": {},
   "outputs": [],
   "source": [
    "\n"
   ]
  },
  {
   "cell_type": "code",
   "execution_count": null,
   "id": "8d5ee549",
   "metadata": {},
   "outputs": [],
   "source": [
    "'예3. members를 member1로 바꿉니다'"
   ]
  },
  {
   "cell_type": "code",
   "execution_count": 63,
   "id": "f6d5aec3",
   "metadata": {},
   "outputs": [],
   "source": [
    "# {'year': 2000, 'month': 1, 'day': 1} 를 '2000-01-01' 를 return 하는 함수"
   ]
  },
  {
   "cell_type": "code",
   "execution_count": 74,
   "id": "c26be619",
   "metadata": {},
   "outputs": [],
   "source": [
    "def join_date(data):\n",
    "    print([data.get('year'), data.get('month'), data.get('day')])  # 숫자 리스트\n",
    "    year = str(data.get('year'))\n",
    "    month = data.get('month')\n",
    "    if month < 10:\n",
    "        month = '0'+ str(month)\n",
    "    else:\n",
    "        month = str(month)\n",
    "    day = data.get('day')\n",
    "    if day < 10:\n",
    "        day = '0'+ str(day)\n",
    "    else:\n",
    "        day = str(day)\n",
    "    return '-'.join([year, month, day])"
   ]
  },
  {
   "cell_type": "code",
   "execution_count": 150,
   "id": "8fa8cda0",
   "metadata": {},
   "outputs": [],
   "source": [
    "def join_date(data):\n",
    "    print(\"{}-{:02}-{:02}\".format(data.get('year'), \n",
    "                                data.get('month'), \n",
    "                                  data.get('day')))"
   ]
  },
  {
   "cell_type": "code",
   "execution_count": 82,
   "id": "95b93d02",
   "metadata": {},
   "outputs": [
    {
     "name": "stdout",
     "output_type": "stream",
     "text": [
      "2000-01-01\n"
     ]
    }
   ],
   "source": [
    "join_date({'year': 2000, 'month': 1, 'day': 1})\n"
   ]
  },
  {
   "cell_type": "code",
   "execution_count": 84,
   "id": "b6274824",
   "metadata": {},
   "outputs": [],
   "source": [
    "def join_date(data):\n",
    "    print(\"{year}-{month:02}-{day:02}\".format(\n",
    "                                year=data.get('year'), \n",
    "                                month=data.get('month'), \n",
    "                                day=data.get('day')))"
   ]
  },
  {
   "cell_type": "code",
   "execution_count": 90,
   "id": "34da5ae5",
   "metadata": {},
   "outputs": [],
   "source": [
    "def join_date(data):   # 가장 쉽게 풀어쓰는 것\n",
    "    return\"{year}-{month:02}-{day:02}\".format(**data)"
   ]
  },
  {
   "cell_type": "code",
   "execution_count": 93,
   "id": "ca886923",
   "metadata": {},
   "outputs": [
    {
     "data": {
      "text/plain": [
       "'2000-01-01'"
      ]
     },
     "execution_count": 93,
     "metadata": {},
     "output_type": "execute_result"
    }
   ],
   "source": [
    "join_date({'year': 2000, 'month': 1, 'day': 1})"
   ]
  },
  {
   "cell_type": "code",
   "execution_count": 100,
   "id": "e77ac2c4",
   "metadata": {},
   "outputs": [
    {
     "data": {
      "text/plain": [
       "[{'name': '홍길동', 'year': 2000, 'month': 1, 'day': 1},\n",
       " {'name': '신길동', 'year': 1998, 'month': 12, 'day': 31}]"
      ]
     },
     "execution_count": 100,
     "metadata": {},
     "output_type": "execute_result"
    }
   ],
   "source": [
    "member2"
   ]
  },
  {
   "cell_type": "code",
   "execution_count": 101,
   "id": "c2ef7931",
   "metadata": {},
   "outputs": [
    {
     "data": {
      "text/plain": [
       "[{'name': '홍길동', 'birth': '2000-01-01'},\n",
       " {'name': '신길동', 'birth': '1998-12-31'}]"
      ]
     },
     "execution_count": 101,
     "metadata": {},
     "output_type": "execute_result"
    }
   ],
   "source": [
    "# {'name':'홍길동', 'year':'2000, 'month':1, 'day':1}를\n",
    "# {'name':'홍길동', 'birth':'2000-01-01'} 로 가공\n",
    "\n",
    "list(map(lambda member : {\n",
    "                            'name' : member.get('name'),\n",
    "                            'birth' : \"{year}-{month:02}-{day:02}\".format(**member)\n",
    "                            },\n",
    "          member2\n",
    "))"
   ]
  },
  {
   "cell_type": "markdown",
   "id": "08e5111d",
   "metadata": {},
   "source": [
    "### (2) filter\n",
    "- map 처리 : [1,2,3,4,5] 를 [2,4,6,8,10] 모든 데이터를 가공\n",
    "- filter : [1,2,3,4,5] 를 [2,4] 또는 [1,3,5] 와 같이 원하는 정보만을 추출\n",
    "* cf. 리스트 컴프리헨션"
   ]
  },
  {
   "cell_type": "code",
   "execution_count": 124,
   "id": "433f6f6a",
   "metadata": {},
   "outputs": [],
   "source": [
    "def filter_template(func, L=[]):\n",
    "    result = []\n",
    "    for l in L:\n",
    "        if func(l):\n",
    "            result.append(l)\n",
    "    return result"
   ]
  },
  {
   "cell_type": "code",
   "execution_count": 125,
   "id": "86b144d8",
   "metadata": {},
   "outputs": [
    {
     "data": {
      "text/plain": [
       "(True, False)"
      ]
     },
     "execution_count": 125,
     "metadata": {},
     "output_type": "execute_result"
    }
   ],
   "source": [
    "def evenchk(value):\n",
    "    return value%2==0\n",
    "evenchk(10), evenchk(9)"
   ]
  },
  {
   "cell_type": "code",
   "execution_count": 126,
   "id": "6942bf1a",
   "metadata": {},
   "outputs": [
    {
     "data": {
      "text/plain": [
       "[2, 4]"
      ]
     },
     "execution_count": 126,
     "metadata": {},
     "output_type": "execute_result"
    }
   ],
   "source": [
    "list_data=[1,2,3,4,5]\n",
    "filter_template(lambda value : value%2==0, list_data)"
   ]
  },
  {
   "cell_type": "code",
   "execution_count": 121,
   "id": "6c409dee",
   "metadata": {},
   "outputs": [
    {
     "data": {
      "text/plain": [
       "True"
      ]
     },
     "execution_count": 121,
     "metadata": {},
     "output_type": "execute_result"
    }
   ],
   "source": [
    "(lambda value : value%2==0)(2)"
   ]
  },
  {
   "cell_type": "code",
   "execution_count": 112,
   "id": "feac077e",
   "metadata": {},
   "outputs": [
    {
     "data": {
      "text/plain": [
       "[2, 4]"
      ]
     },
     "execution_count": 112,
     "metadata": {},
     "output_type": "execute_result"
    }
   ],
   "source": [
    "[data for data in list_data if data%2==0]"
   ]
  },
  {
   "cell_type": "markdown",
   "id": "b2d63155",
   "metadata": {},
   "source": [
    "## (3) sort"
   ]
  },
  {
   "cell_type": "code",
   "execution_count": 127,
   "id": "3fa8aa96",
   "metadata": {},
   "outputs": [
    {
     "data": {
      "text/plain": [
       "[9, 7, 2]"
      ]
     },
     "execution_count": 127,
     "metadata": {},
     "output_type": "execute_result"
    }
   ],
   "source": [
    "p = [9,2,7]\n",
    "p.sort(reverse=True)\n",
    "p"
   ]
  },
  {
   "cell_type": "code",
   "execution_count": 129,
   "id": "6baee30d",
   "metadata": {},
   "outputs": [
    {
     "data": {
      "text/plain": [
       "[[10, 1], [9, 9], [1, 100]]"
      ]
     },
     "execution_count": 129,
     "metadata": {},
     "output_type": "execute_result"
    }
   ],
   "source": [
    "# 무조건 0번 item 기준으로 정렬\n",
    "number2d = [[9,9], \n",
    "            [1,100],\n",
    "            [10,1]]\n",
    "number2d.sort(reverse=True)   #reverse=False : 오름차순 정리\n",
    "number2d"
   ]
  },
  {
   "cell_type": "code",
   "execution_count": 130,
   "id": "05fa76a0",
   "metadata": {},
   "outputs": [
    {
     "data": {
      "text/plain": [
       "[(1, 'one'), (2, 'two'), (3, 'three'), (4, 'four')]"
      ]
     },
     "execution_count": 130,
     "metadata": {},
     "output_type": "execute_result"
    }
   ],
   "source": [
    "pairs=[(2, 'two'),(1, 'one'), (4, 'four'), (3,'three')]\n",
    "pairs.sort()\n",
    "pairs"
   ]
  },
  {
   "cell_type": "code",
   "execution_count": 131,
   "id": "461b623d",
   "metadata": {},
   "outputs": [
    {
     "data": {
      "text/plain": [
       "[(4, 'four'), (1, 'one'), (3, 'three'), (2, 'two')]"
      ]
     },
     "execution_count": 131,
     "metadata": {},
     "output_type": "execute_result"
    }
   ],
   "source": [
    "# 1번째 item 기준으로 정렬(abc순)\n",
    "pairs.sort(key=lambda pair : pair[1])\n",
    "pairs"
   ]
  },
  {
   "cell_type": "code",
   "execution_count": 132,
   "id": "b1a1c0d3",
   "metadata": {},
   "outputs": [
    {
     "data": {
      "text/plain": [
       "[[10, 1], [9, 9, 9, 9, 9, 9], [1, 100]]"
      ]
     },
     "execution_count": 132,
     "metadata": {},
     "output_type": "execute_result"
    }
   ],
   "source": [
    "number2d = [[9,9,9,9,9,9,], \n",
    "            [1,100],\n",
    "            [10,1]]\n",
    "number2d.sort(reverse=True)   #reverse=False : 오름차순 정리\n",
    "number2d"
   ]
  },
  {
   "cell_type": "code",
   "execution_count": 138,
   "id": "a2a1cf4c",
   "metadata": {},
   "outputs": [
    {
     "data": {
      "text/plain": [
       "6"
      ]
     },
     "execution_count": 138,
     "metadata": {},
     "output_type": "execute_result"
    }
   ],
   "source": [
    "#리스트를 매개변수로 받아 합을 return\n",
    "(lambda item : sum(item))([1,2,3])"
   ]
  },
  {
   "cell_type": "code",
   "execution_count": 139,
   "id": "69c90bdf",
   "metadata": {},
   "outputs": [
    {
     "data": {
      "text/plain": [
       "[[1, 100], [9, 9, 9, 9, 9, 9], [10, 1]]"
      ]
     },
     "execution_count": 139,
     "metadata": {},
     "output_type": "execute_result"
    }
   ],
   "source": [
    "# 합이 큰순으로 정렬\n",
    "number2d.sort(key = lambda item : sum(item), reverse=True)\n",
    "number2d"
   ]
  },
  {
   "cell_type": "code",
   "execution_count": 169,
   "id": "dc0320cb",
   "metadata": {},
   "outputs": [],
   "source": [
    "students = [\n",
    "         {'name':'홍길동', 'score':90},\n",
    "         {'name':'김길동', 'score':50},\n",
    "         {'name':'윤길동', 'score':99},\n",
    "         {'score' : 100}\n",
    "]"
   ]
  },
  {
   "cell_type": "code",
   "execution_count": 172,
   "id": "a89689c7",
   "metadata": {},
   "outputs": [
    {
     "data": {
      "text/plain": [
       "[{'score': 100},\n",
       " {'name': '김길동', 'score': 50},\n",
       " {'name': '윤길동', 'score': 99},\n",
       " {'name': '홍길동', 'score': 90}]"
      ]
     },
     "execution_count": 172,
     "metadata": {},
     "output_type": "execute_result"
    }
   ],
   "source": [
    "# 이름순으로 정렬\n",
    "students.sort(key=lambda data : data.get('name','가'))  # 제일 낮을때는 힣\n",
    "students\n"
   ]
  },
  {
   "cell_type": "code",
   "execution_count": 174,
   "id": "226921de",
   "metadata": {},
   "outputs": [
    {
     "data": {
      "text/plain": [
       "[{'score': 100},\n",
       " {'name': '윤길동', 'score': 99},\n",
       " {'name': '홍길동', 'score': 90},\n",
       " {'name': '김길동', 'score': 50}]"
      ]
     },
     "execution_count": 174,
     "metadata": {},
     "output_type": "execute_result"
    }
   ],
   "source": [
    "#점수 내림차수\n",
    "students.sort(key=lambda item: item.get('score',0), reverse=True)\n",
    "students\n"
   ]
  },
  {
   "cell_type": "code",
   "execution_count": 177,
   "id": "b7db3414",
   "metadata": {},
   "outputs": [],
   "source": [
    "# 책제목순 정렬(ㄱㄴㄷ 순), 저자순 정렬(ㄱㄴㄷ), 가격순 정렬(오름차순)\n",
    "book=[\n",
    "    {'no': 1, 'title' : '강남아파트 인사이트', 'writer' : '오스틀', 'price':'25,200'},\n",
    "    {'no': 2, 'title' : '단한번의 삶', 'writer' : '김영하', 'price':'18,200'},\n",
    "    {'no': 3, 'title' : '흔한남매', 'writer' : '백난도', 'price':'19200'},\n",
    "    {'no': 4, 'title' : '가격이 잘못', 'writer' : '홍길동', 'price':'-'},\n",
    "    {'no': 5, 'title' : '가격이 숫자', 'writer' : '신길동', 'price':'900'},\n",
    "    {'no': 6, 'title' : '가격이 없음', 'writer' : '김길동'},\n",
    "]"
   ]
  },
  {
   "cell_type": "code",
   "execution_count": 179,
   "id": "d817906c",
   "metadata": {},
   "outputs": [
    {
     "data": {
      "text/plain": [
       "[{'no': 6, 'title': '가격이 없음', 'writer': '김길동'},\n",
       " {'no': 2, 'title': '단한번의 삶', 'writer': '김영하', 'price': '18,200'},\n",
       " {'no': 3, 'title': '흔한남매', 'writer': '백난도', 'price': '19,200'},\n",
       " {'no': 5, 'title': '가격이 숫자', 'writer': '신길동', 'price': '900'},\n",
       " {'no': 1, 'title': '강남아파트 인사이트', 'writer': '오스틀', 'price': '25,200'},\n",
       " {'no': 4, 'title': '가격이 잘못', 'writer': '홍길동', 'price': '-'}]"
      ]
     },
     "execution_count": 179,
     "metadata": {},
     "output_type": "execute_result"
    }
   ],
   "source": [
    "book.sort(key=lambda item: item.get('writer'))\n",
    "book"
   ]
  },
  {
   "cell_type": "code",
   "execution_count": 180,
   "id": "aa468a1c",
   "metadata": {},
   "outputs": [
    {
     "data": {
      "text/plain": [
       "[{'no': 5, 'title': '가격이 숫자', 'writer': '신길동', 'price': '900'},\n",
       " {'no': 6, 'title': '가격이 없음', 'writer': '김길동'},\n",
       " {'no': 4, 'title': '가격이 잘못', 'writer': '홍길동', 'price': '-'},\n",
       " {'no': 1, 'title': '강남아파트 인사이트', 'writer': '오스틀', 'price': '25,200'},\n",
       " {'no': 2, 'title': '단한번의 삶', 'writer': '김영하', 'price': '18,200'},\n",
       " {'no': 3, 'title': '흔한남매', 'writer': '백난도', 'price': '19,200'}]"
      ]
     },
     "execution_count": 180,
     "metadata": {},
     "output_type": "execute_result"
    }
   ],
   "source": [
    "book.sort(key=lambda item: item.get('title'))\n",
    "book"
   ]
  },
  {
   "cell_type": "code",
   "execution_count": 197,
   "id": "f2f5dffd",
   "metadata": {},
   "outputs": [],
   "source": [
    "#book.sort(key=lambda item: item.get('price'))   이렇게 하면 문자랑 숫자랑 비교하는 것 에러\n",
    "#book"
   ]
  },
  {
   "cell_type": "code",
   "execution_count": 217,
   "id": "4eed3244",
   "metadata": {},
   "outputs": [],
   "source": [
    "# 14,000 -> 14000 / \"2000\" -> 2000 / 800 -> 800 / '-' -> 0 이렇게 변환해야 한다\n",
    "\n",
    "def parse_int(price):\n",
    "    # print(type(price))\n",
    "    if isinstance(price, str) and price.replace(',', '').isdigit():   \n",
    "        return int(price.replace(',', ''))          # , 가 들어간 것을 그냥 지운다     \n",
    "    elif isinstance(price, int):                    # 이제 들여쓰기 OK\n",
    "        return price\n",
    "    else:\n",
    "        return 0\n"
   ]
  },
  {
   "cell_type": "code",
   "execution_count": 218,
   "id": "a2936b64",
   "metadata": {},
   "outputs": [
    {
     "data": {
      "text/plain": [
       "8000"
      ]
     },
     "execution_count": 218,
     "metadata": {},
     "output_type": "execute_result"
    }
   ],
   "source": [
    "parse_int(\"8,000\")"
   ]
  },
  {
   "cell_type": "code",
   "execution_count": 233,
   "id": "f0104332",
   "metadata": {},
   "outputs": [
    {
     "data": {
      "text/plain": [
       "19200"
      ]
     },
     "execution_count": 233,
     "metadata": {},
     "output_type": "execute_result"
    }
   ],
   "source": [
    "# {'no': 6, 'title': '가격이 없음', 'writer': '김길동'} => 0return\n",
    "# {'no': 3, 'title' : '흔한남매', 'writer' : '백난도', 'price':'19200'} =>19200\n",
    "# {'no': 5, 'title' : '가격이 숫자', 'writer' : '신길동', 'price':'900'} =>900\n",
    "def parse_int(book):\n",
    "    if isinstance(book.get('price'), str) and book.get('price').replace(',','').isdigit():\n",
    "        return int(book.get('price').replace(',',''))\n",
    "    elif isinstance(book.get('price'), int):\n",
    "        return book.get('price')\n",
    "    else:\n",
    "        return 0\n",
    "    # 이 식은 dic 에서 가져온거라 .get() 을 사용함\n",
    "parse_int(book[5])"
   ]
  },
  {
   "cell_type": "code",
   "execution_count": 237,
   "id": "74ec8a5e",
   "metadata": {},
   "outputs": [],
   "source": [
    "book=[\n",
    "    {'no': 1, 'title' : '강남아파트 인사이트', 'writer' : '오스틀', 'price':'25,200'},\n",
    "    {'no': 2, 'title' : '단한번의 삶', 'writer' : '김영하', 'price':'18,200'},\n",
    "    {'no': 3, 'title' : '흔한남매', 'writer' : '백난도', 'price':'19200'},\n",
    "    {'no': 4, 'title' : '가격이 잘못', 'writer' : '홍길동', 'price':'-'},\n",
    "    {'no': 5, 'title' : '가격이 숫자', 'writer' : '신길동', 'price':'900'},\n",
    "    {'no': 6, 'title' : '가격이 없음', 'writer' : '김길동'},\n",
    "]\n",
    "copy_book = book.copy()\n"
   ]
  },
  {
   "cell_type": "code",
   "execution_count": 236,
   "id": "fe771e6c",
   "metadata": {},
   "outputs": [],
   "source": [
    "copy_book.sort(key=lambda book : \n",
    "               int(book.get('price').replace(',',''))\\\n",
    "                if isinstance(book.get('price'), str) and\\\n",
    "                  book.get ('price').replace(',','').isdigit() else\\\n",
    "               book.get('price') if isinstance(book.get('price'), int) else\\\n",
    "               0, \n",
    "              )"
   ]
  },
  {
   "cell_type": "code",
   "execution_count": 239,
   "id": "6a7ae976",
   "metadata": {},
   "outputs": [
    {
     "data": {
      "text/plain": [
       "[{'no': 1, 'title': '강남아파트 인사이트', 'writer': '오스틀', 'price': '25,200'},\n",
       " {'no': 2, 'title': '단한번의 삶', 'writer': '김영하', 'price': '18,200'},\n",
       " {'no': 3, 'title': '흔한남매', 'writer': '백난도', 'price': '19200'},\n",
       " {'no': 4, 'title': '가격이 잘못', 'writer': '홍길동', 'price': '-'},\n",
       " {'no': 5, 'title': '가격이 숫자', 'writer': '신길동', 'price': '900'},\n",
       " {'no': 6, 'title': '가격이 없음', 'writer': '김길동'}]"
      ]
     },
     "execution_count": 239,
     "metadata": {},
     "output_type": "execute_result"
    }
   ],
   "source": [
    "copy_book"
   ]
  },
  {
   "cell_type": "markdown",
   "id": "5bcfaa4e",
   "metadata": {},
   "source": [
    "## 4.3 return문에 람다식 이용"
   ]
  },
  {
   "cell_type": "code",
   "execution_count": 248,
   "id": "e751b645",
   "metadata": {},
   "outputs": [],
   "source": [
    "# 함수를 return\n",
    "def make_box(shape): #shape : [l] => len가 l인 list를 생성하는 함수 return, \n",
    "                    #        [r,c] => r행 c열인 2차원 list를 생성하는 함수 return\n",
    "                    #        [d,r,c] => d면 r행 c열 3차원 list를 생성하는 함수 return\n",
    "            def box(init_value):\n",
    "                if len(shape)==1:\n",
    "                    return[init_value]*shape[0]\n",
    "                elif len(shape)==2:\n",
    "                    return[[init_value]*shape[1]]*shape[0]\n",
    "            return box"
   ]
  },
  {
   "cell_type": "code",
   "execution_count": 249,
   "id": "295ba105",
   "metadata": {},
   "outputs": [
    {
     "data": {
      "text/plain": [
       "[[3, 3, 3], [3, 3, 3]]"
      ]
     },
     "execution_count": 249,
     "metadata": {},
     "output_type": "execute_result"
    }
   ],
   "source": [
    "line_func = make_box([2,3])\n",
    "line_func(3)"
   ]
  },
  {
   "cell_type": "code",
   "execution_count": 250,
   "id": "35b93230",
   "metadata": {},
   "outputs": [
    {
     "data": {
      "text/plain": [
       "[3, 3, 3, 3, 3, 3, 3, 3, 3, 3]"
      ]
     },
     "execution_count": 250,
     "metadata": {},
     "output_type": "execute_result"
    }
   ],
   "source": [
    "line_func1 = make_box([10])\n",
    "line_func1(3)"
   ]
  },
  {
   "cell_type": "code",
   "execution_count": 252,
   "id": "c6c2b0ec",
   "metadata": {},
   "outputs": [],
   "source": [
    "def make_box(shape):\n",
    "    if len(shape)==1:\n",
    "        return lambda init_vlaue : [init_value]*shape[0]\n",
    "    elif len(shape)==2:\n",
    "        return lambda init_vlaue : [[init_vlaue]*shape[1]]*shape[0]"
   ]
  },
  {
   "cell_type": "markdown",
   "id": "aafbbb5c",
   "metadata": {},
   "source": [
    "# 5절. 파이썬 내장함수\n",
    "- import하지 않고 바로 사용 가능한 함수\n",
    "- 키워드처럼 간주되므로, 식별자(변수명, 함수명, 클래스명)로 사용하는것을 피한다."
   ]
  },
  {
   "cell_type": "code",
   "execution_count": 255,
   "id": "0bb6fadc",
   "metadata": {
    "collapsed": true
   },
   "outputs": [
    {
     "data": {
      "text/plain": [
       "{'__name__': '__main__',\n",
       " '__doc__': '\\n예1. prices = [5000,800,1000,6000]로 바꾸시오\\n',\n",
       " '__package__': None,\n",
       " '__loader__': None,\n",
       " '__spec__': None,\n",
       " '__builtin__': <module 'builtins' (built-in)>,\n",
       " '__builtins__': <module 'builtins' (built-in)>,\n",
       " '_ih': ['',\n",
       "  'from IPython.display import display, HTML\\ndisplay(HTML(\"\"\"\\n<style>\\ndiv.container{width:86% !important;}\\ndiv.cell.code_cell.rendered{width:100%;}\\ndiv.CodeMirror {font-family:Consolas; font-size:15pt;}\\ndiv.output {font-size:15pt; font-weight:bold;}\\ndiv.input {font-family:Consolas; font-size:15pt;}\\ndiv.prompt {min-width:70px;\\ndiv#toc-wrapper{padding-top:120px;}\\ndiv.text_cell_render ul li{font-size:12pt;padding:5px;}\\ntable.dataframe{font-size:15px;}\\n</style>\\n\"\"\"))',\n",
       "  \"def map_template(func, L=[]):\\n    '''L의 모든 요쇼를 func() 함수를 적용시켜 return\\n    [func(l) for l in L]\\n    '''\\n    restlt : []\\n    for l in L:\\n        result.append(func(1))\\n    return restult\",\n",
       "  \"def map_template(func, L=[]):\\n    '''L의 모든 요쇼를 func() 함수를 적용시켜 return\\n    [func(l) for l in L]\\n    '''\\n    restlt : []\\n    for l in L:\\n        result.append(func(l))\\n                    #  result = [func(l) for l in L]\\n#    return [func(l) for l in L]\",\n",
       "  'list_data = [1,2,3,4,5,6,7,8,9,10]\\ndef x_2(x):\\n    return x*2\\nmap_template(x_2, list_data)',\n",
       "  'list_data = [1,2,3,4,5,6,7,8,9,10]\\nmap_template(lambda x : x*2, list_data)\\n# def x_2(x):\\n#     return x*2\\n# map_template(x_2, list_data)',\n",
       "  '# 리스트를 데이터를 가공 방법 3. map(): 파이썬 내장함수\\nlist(map(lambda x : x*2, list_data))',\n",
       "  \"for item in map(lambda x : x*2, list_data):\\n    print(item, end='')\",\n",
       "  \"def func(x):\\n    return int(x.replace(',',''))\",\n",
       "  \"'''\\n예1. prices = [5000,800,1000,6000]로 바꾸시오\\n'''\\nprices = ['5,000', '800', '1000', '6,000']\",\n",
       "  \"def func(x):\\n    return int(x.replace(',',''))\",\n",
       "  \"def func(x):\\n    return int(x.replace(',',''))  #, 를 바꾸어줌\\nfunc(5,000)\",\n",
       "  'def func(x):\\n    return int(x.replace(\\',\\',\\'\\'))  #, 를 바꾸어줌\\nfunc(\"5,000\")',\n",
       "  \"map(lambda x : int(x.replace(',','')), prices)\",\n",
       "  \"list(map(lambda x : int(x.replace(',','')), prices))\",\n",
       "  \"#'2000-01-01' => {'year':'2000, 'month':1, 'day':1}\\ndef split_data(date):\\n    split_data = date.split('-')\\n    print(split_data[0], split_data[1], split_data[2])\\n    return {'year': int(split_data[0])\\n            'month': int(split_data[1])\\n            'day': int(split_data[2])\\n           }\",\n",
       "  \"#'2000-01-01' => {'year':'2000, 'month':1, 'day':1}\\ndef split_data(date):\\n    split_data = date.split('-')\\n    print(split_data[0], split_data[1], split_data[2])\\n    return {'year': int(split_data[0]),\\n            'month': int(split_data[1]),\\n            'day': int(split_data[2])\\n           }\",\n",
       "  'split_data(\"2000-01-01\")',\n",
       "  'def member_func(member):    {\\'name\\':\\'신길동\\', \\'birth\\':\\'1998-12-31\\'}을\\n    \"{\\'name\\':\\'신길동\\', \\'year\\':\\'1998, \\'month\\':12, \\'day\\':31}식으로 리턴\" \\n    return{\\n        \\'name\\' : member.get(\\'name\\'),\\n        \\'year\\' : int(memeber[\\'birth\\'].split(\\'-\\')[0]),\\n        \\'month\\' : int(member[\\'birth\\'].split(\\'-\\')[1]),\\n        \\'day\\' : int(member[\\'birth\\'].split(\\'-\\')[2]),\\n    }\\n     ',\n",
       "  'def member_func(member):  #  {\\'name\\':\\'신길동\\', \\'birth\\':\\'1998-12-31\\'}을\\n    \"{\\'name\\':\\'신길동\\', \\'year\\':\\'1998, \\'month\\':12, \\'day\\':31}식으로 리턴\" \\n    return{\\n        \\'name\\' : member.get(\\'name\\'),\\n        \\'year\\' : int(memeber[\\'birth\\'].split(\\'-\\')[0]),\\n        \\'month\\' : int(member[\\'birth\\'].split(\\'-\\')[1]),\\n        \\'day\\' : int(member[\\'birth\\'].split(\\'-\\')[2]),\\n    }\\n     ',\n",
       "  'def member_func(member):  #  {\\'name\\':\\'신길동\\', \\'birth\\':\\'1998-12-31\\'}을\\n    \"{\\'name\\':\\'신길동\\', \\'year\\':\\'1998, \\'month\\':12, \\'day\\':31}식으로 리턴\" \\n    return{\\n        \\'name\\' : member.get(\\'name\\'),\\n        \\'year\\' : int(memeber[\\'birth\\'].split(\\'-\\')[0]),\\n        \\'month\\' : int(member[\\'birth\\'].split(\\'-\\')[1]),\\n        \\'day\\' : int(member[\\'birth\\'].split(\\'-\\')[2]),\\n    }\\nmember_func(member1[0])',\n",
       "  \"'''\\n예2. member1=[{'name':'홍길동', 'birth':'2000-01-01'},\\n              {'name':'신길동', 'birth':'1998-12-31'},]를\\n     member2=[{'name':'홍길동', 'year':'2000, 'month':1, 'day':1},\\n              {'name':'신길동', 'year':'1998, 'month':12, 'day':31},]를 바꿉니다\\n'''\",\n",
       "  \"member1=[{'name':'홍길동', 'birth':'2000-01-01'},\\n        {'name':'신길동', 'birth':'1998-12-31'},]\",\n",
       "  \"#'2000-01-01' => {'year':'2000, 'month':1, 'day':1}\\ndef split_data(date):\\n    split_data = date.split('-')\\n    print(split_data[0], split_data[1], split_data[2])\\n    return {'year': int(split_data[0]),\\n            'month': int(split_data[1]),\\n            'day': int(split_data[2])\\n           }\",\n",
       "  'split_data(\"2000-01-01\")',\n",
       "  'def member_func(member):  #  {\\'name\\':\\'신길동\\', \\'birth\\':\\'1998-12-31\\'}을\\n    \"{\\'name\\':\\'신길동\\', \\'year\\':\\'1998, \\'month\\':12, \\'day\\':31}식으로 리턴\" \\n    return{\\n        \\'name\\' : member.get(\\'name\\'),\\n        \\'year\\' : int(memeber[\\'birth\\'].split(\\'-\\')[0]),\\n        \\'month\\' : int(member[\\'birth\\'].split(\\'-\\')[1]),\\n        \\'day\\' : int(member[\\'birth\\'].split(\\'-\\')[2]),\\n    }\\nmember_func(member1[0])',\n",
       "  'def member_func(member):  #  {\\'name\\':\\'신길동\\', \\'birth\\':\\'1998-12-31\\'}을\\n    \"{\\'name\\':\\'신길동\\', \\'year\\':\\'1998, \\'month\\':12, \\'day\\':31}식으로 리턴\" \\n    return{\\n        \\'name\\' : member.get(\\'name\\'),\\n        \\'year\\' : int(memeber[\\'birth\\'].split(\\'-\\')[0]),\\n        \\'month\\' : int(member[\\'birth\\'].split(\\'-\\')[1]),\\n        \\'day\\' : int(member[\\'birth\\'].split(\\'-\\')[2]),\\n    }\\nmember_func(member2[0])',\n",
       "  \"#'2000-01-01' => {'year':'2000, 'month':1, 'day':1}\\ndef split_data(date):\\n    split_data = date.split('-')\\n    print(split_data[0], split_data[1], split_data[2])\\n    return {'year': int(split_data[0]),\\n            'month': int(split_data[1]),\\n            'day': int(split_data[2])\\n           }\",\n",
       "  'split_data(\"2000-01-01\")',\n",
       "  'def member_func(member):  #  {\\'name\\':\\'신길동\\', \\'birth\\':\\'1998-12-31\\'}을\\n    \"{\\'name\\':\\'신길동\\', \\'year\\':\\'1998, \\'month\\':12, \\'day\\':31}식으로 리턴\" \\n    return{\\n        \\'name\\' : member.get(\\'name\\'),\\n        \\'year\\' : int(memeber[\\'birth\\'].split(\\'-\\')[0]),\\n        \\'month\\' : int(member[\\'birth\\'].split(\\'-\\')[1]),\\n        \\'day\\' : int(member[\\'birth\\'].split(\\'-\\')[2]),\\n    }\\nmember_func(member1[0])',\n",
       "  'def member_func(member):  #  {\\'name\\':\\'신길동\\', \\'birth\\':\\'1998-12-31\\'}을\\n    \"{\\'name\\':\\'신길동\\', \\'year\\':\\'1998, \\'month\\':12, \\'day\\':31}식으로 리턴\" \\n    return{\\n        \\'name\\' : member.get(\\'name\\'),\\n        \\'year\\' : int(memeber[\\'birth\\'].split(\\'-\\')[0]),\\n        \\'month\\' : int(member[\\'birth\\'].split(\\'-\\')[1]),\\n        \\'day\\' : int(member[\\'birth\\'].split(\\'-\\')[2]),\\n    }\\nmember_func(member1[0])',\n",
       "  \"list(map(lambda member : {\\n        'name' : member.get('name'),\\n        'year' : int(memeber['birth'].split('-')[0]),\\n        'month' : int(member['birth'].split('-')[1]),\\n        'day' : int(member['birth'].split('-')[2]),\\n          },\\n       member1  \\n       )\\n    )    \",\n",
       "  'def member_func(member):  #  {\\'name\\':\\'신길동\\', \\'birth\\':\\'1998-12-31\\'}을\\n    \"{\\'name\\':\\'신길동\\', \\'year\\':\\'1998, \\'month\\':12, \\'day\\':31}식으로 리턴\" \\n    return{\\n        \\'name\\' : member.get(\\'name\\'),\\n        \\'year\\' : int(member[\\'birth\\'].split(\\'-\\')[0]),\\n        \\'month\\' : int(member[\\'birth\\'].split(\\'-\\')[1]),\\n        \\'day\\' : int(member[\\'birth\\'].split(\\'-\\')[2]),\\n    }\\nmember_func(member1[0])',\n",
       "  \"list(map(lambda member : {\\n                'name' : member.get('name'),\\n                'year' : int(member['birth'].split('-')[0]),\\n                'month' : int(member['birth'].split('-')[1]),\\n                'day' : int(member['birth'].split('-')[2]),\\n          },\\n       member1  \\n       )\\n    )    \",\n",
       "  \"list(map(lambda member : {\\n                'name' : member.get('name'),\\n                'year' : int(member['birth'].split('-')[0]),\\n                'month' : int(member['birth'].split('-')[1]),\\n                'day' : int(member['birth'].split('-')[2]),\\n          },\\n       member1  \\n       )\\n    )\\nmember2\",\n",
       "  \"list(map(lambda member : {\\n                'name' : member.get('name'),\\n                'year' : int(member['birth'].split('-')[0]),\\n                'month' : int(member['birth'].split('-')[1]),\\n                'day' : int(member['birth'].split('-')[2]),\\n                },\\n       member1  \\n       )\\n    )\",\n",
       "  'def join_date(data):\\n    print(data)',\n",
       "  \"join_data({'year': 2000, 'month': 1, 'day': 1})\",\n",
       "  \"join_date({'year': 2000, 'month': 1, 'day': 1})\",\n",
       "  \"join_date({'year': 2000, 'month': 1, 'day': 1})\\njoin_data[0]\",\n",
       "  \"join_date({'year': 2000, 'month': 1, 'day': 1})\\nlist(join_data[0])\",\n",
       "  \"join_date({'year': 2000, 'month': 1, 'day': 1})\\nlist(join_date[0])\",\n",
       "  \"join_date({'year': 2000, 'month': 1, 'day': 1})\\njoin_date[0]\",\n",
       "  \"join_date({'year': 2000, 'month': 1, 'day': 1})\\nvalue=join_date.vlaue()\",\n",
       "  'def join_date(data):\\n    print(data)',\n",
       "  \"join_date({'year': 2000, 'month': 1, 'day': 1})\\nvalue=join_date.vlaue()\",\n",
       "  \"join_date({'year': 2000, 'month': 1, 'day': 1})\\nvalue=join_date.value()\",\n",
       "  \"join_date({'year': 2000, 'month': 1, 'day': 1})\\nvalue=join_date.value()\\nprint(value)\",\n",
       "  \"join_date({'year': 2000, 'month': 1, 'day': 1})\\nprint(join_data)\",\n",
       "  \"def join_date(data):\\n    print(data.get('year'), data.get('month'), data.get('day'))\",\n",
       "  \"join_date({'year': 2000, 'month': 1, 'day': 1})\",\n",
       "  \"def join_date(data):\\n    print([data.get('year'), data.get('month'), data.get('day')])  # 숫자 리스트\\n    return '-'.join([data.get('year'), data.get('month'), data.get('day')])\",\n",
       "  \"join_date({'year': 2000, 'month': 1, 'day': 1})\",\n",
       "  \"join_date({'year': 2000, 'month': 1, 'day': 1})\",\n",
       "  \"join_date({'year': 2000, 'month': 1, 'day': 1})\\nprint(data.get(year))\",\n",
       "  \"join_date({'year': 2000, 'month': 1, 'day': 1})\\nprint(data.get(year))\",\n",
       "  \"join_date({'year': 2000, 'month': 1, 'day': 1})\\nprint(join_date.get(year))\",\n",
       "  \"join_date({'year': 2000, 'month': 1, 'day': 1})\\nprint(join_date.get('year'))\",\n",
       "  \"def join_date(data):\\n    print([data.get('year'), data.get('month'), data.get('day')])  # 숫자 리스트\\n    year = str(data.get('year'))\\n    month = data.get('month')\\n    if month < 10:\\n        month = '0'+ str(month)\\n    else:\\n        month = str(month)\\n    day = data.get('day')\\n    if day < 10:\\n        month = '0'+ str(day)\\n    else:\\n        month = str(day)\\n    return '-'.join([data.get('year'), data.get('month'), data.get('day')])\",\n",
       "  \"join_date({'year': 2000, 'month': 1, 'day': 1})\\nprint(join_date.get('year'))\",\n",
       "  \"join_date({'year': 2000, 'month': 1, 'day': 1})\",\n",
       "  \"def join_date(data):\\n    print([data.get('year'), data.get('month'), data.get('day')])  # 숫자 리스트\\n    year = str(data.get('year'))\\n    month = data.get('month')\\n    if month < 10:\\n        month = '0'+ str(month)\\n    else:\\n        month = str(month)\\n    day = data.get('day')\\n    if day < 10:\\n        month = '0'+ str(day)\\n    else:\\n        month = str(day)\\n    return '-'.join([data.get('year'), data.get('month'), data.get('day')])\",\n",
       "  \"join_date({'year': 2000, 'month': 1, 'day': 1})\",\n",
       "  \"# {'year': 2000, 'month': 1, 'day': 1} 를 '2000-01-01' 를 return 하는 함수\",\n",
       "  \"def join_date(data):\\n    print([data.get('year'), data.get('month'), data.get('day')])  # 숫자 리스트\\n    year = str(data.get('year'))\\n    month = data.get('month')\\n    if month < 10:\\n        month = '0'+ str(month)\\n    else:\\n        month = str(month)\\n    day = data.get('day')\\n    if day < 10:\\n        month = '0'+ str(day)\\n    else:\\n        month = str(day)\\n    return '-'.join([data.get('year'), data.get('month'), data.get('day')])\",\n",
       "  \"join_date({'year': 2000, 'month': 1, 'day': 1})\",\n",
       "  \"def join_date(data):\\n    print([data.get('year'), data.get('month'), data.get('day')])  # 숫자 리스트\\n    year = str(data.get('year'))\\n    month = data.get('month')\\n    if month < 10:\\n        month = '0'+ str(month)\\n    else:\\n        month = str(month)\\n    day = data.get('day')\\n    if day < 10:\\n        month = '0'+ str(day)\\n    else:\\n        month = str(day)\\n    return '-'.join([year, month, day])\",\n",
       "  \"join_date({'year': 2000, 'month': 1, 'day': 1})\",\n",
       "  \"def join_date(data):\\n    print([data.get('year'), data.get('month'), data.get('day')])  # 숫자 리스트\\n    year = str(data.get('year'))\\n    month = data.get('month')\\n    if month < 10:\\n        month = '0'+ str(month)\\n    else:\\n        month = str(month)\\n    day = data.get('day')\\n    if day < 10:\\n        day = '0'+ str(day)\\n    else:\\n        day = str(day)\\n    return '-'.join([year, month, day])\",\n",
       "  \"join_date({'year': 2000, 'month': 1, 'day': 1})\",\n",
       "  'def join_date(data):\\n    print(\"{}-{:02}-{:02}\".format(data.get(\\'year\\'), \\n                                data.get(\\'month\\'), \\n                                  data.get(\\'day\\')))',\n",
       "  \"join_date({'year': 2000, 'month': 1, 'day': 1})\",\n",
       "  'def join_date(data):\\n    return(\"{}-{:02}-{:02}\".format(data.get(\\'year\\'), \\n                                data.get(\\'month\\'), \\n                                  data.get(\\'day\\')))',\n",
       "  \"join_date({'year': 2000, 'month': 1, 'day': 1})\",\n",
       "  \"def join_date(data):\\n    print([data.get('year'), data.get('month'), data.get('day')])  # 숫자 리스트\\n    year = str(data.get('year'))\\n    month = data.get('month')\\n    if month < 10:\\n        month = '0'+ str(month)\\n    else:\\n        month = str(month)\\n    day = data.get('day')\\n    if day < 10:\\n        day = '0'+ str(day)\\n    else:\\n        day = str(day)\\n    return '-'.join([year, month, day])\",\n",
       "  'def join_date(data):\\n    return(\"{}-{:02}-{:02}\".format(data.get(\\'year\\'), \\n                                data.get(\\'month\\'), \\n                                  data.get(\\'day\\')))',\n",
       "  \"join_date({'year': 2000, 'month': 1, 'day': 1})\",\n",
       "  'def join_date(data):\\n    print(\"{}-{:02}-{:02}\".format(data.get(\\'year\\'), \\n                                data.get(\\'month\\'), \\n                                  data.get(\\'day\\')))',\n",
       "  \"join_date({'year': 2000, 'month': 1, 'day': 1})\",\n",
       "  'def join_date(data):\\n    return(\"{}-{:02}-{:02}\".format(data.get(\\'year\\'), \\n                                data.get(\\'month\\'), \\n                                  data.get(\\'day\\')))',\n",
       "  \"join_date({'year': 2000, 'month': 1, 'day': 1})\",\n",
       "  'def join_date(data):\\n    print(\"{}-{:02}-{:02}\".format(data.get(\\'year\\'), \\n                                data.get(\\'month\\'), \\n                                  data.get(\\'day\\')))',\n",
       "  \"join_date({'year': 2000, 'month': 1, 'day': 1})\",\n",
       "  'def join_date(data):\\n    print(\"{year}-{month:02}-{day:02}\".format(\\n                                year=data.get(\\'year\\'), \\n                                month=data.get(\\'month\\'), \\n                                day=data.get(\\'day\\')))',\n",
       "  'def join_date(data):\\n    print(\"{year}-{month:02}-{day:02}\".format(\\n                                year=data.get(\\'year\\'), \\n                                month=data.get(\\'month\\'), \\n                                day=data.get(\\'day\\')))',\n",
       "  \"join_date({'year': 2000, 'month': 1, 'day': 1})\",\n",
       "  'def join_date(data):\\n    print(\"{year}-{month:02}-{day:02}\".format(**data))',\n",
       "  \"join_date({'year': 2000, 'month': 1, 'day': 1})\",\n",
       "  'def join_date(data):   # 가장 쉽게 풀어쓰는 것\\n    return(\"{year}-{month:02}-{day:02}\".format(**data))',\n",
       "  \"join_date({'year': 2000, 'month': 1, 'day': 1})\",\n",
       "  'def join_date(data):   # 가장 쉽게 풀어쓰는 것\\n    return\"{year}-{month:02}-{day:02}\".format(**data)',\n",
       "  \"join_date({'year': 2000, 'month': 1, 'day': 1})\",\n",
       "  '# {\\'name\\':\\'홍길동\\', \\'year\\':\\'2000, \\'month\\':1, \\'day\\':1}를\\n# {\\'name\\':\\'홍길동\\', \\'birth\\':\\'2000-01-01\\'} 로 가공\\n\\nlist(map(lambda member : {\\n                            \\'name\\' : member.get(\\'name\\'),\\n                            \\'birth\\' : \"{year}-{month:02}-{day:02}\".format(**member)\"\\n                            },\\n          memeber2\\n))',\n",
       "  \"join_date({'year': 2000, 'month': 1, 'day': 1})\",\n",
       "  '# {\\'name\\':\\'홍길동\\', \\'year\\':\\'2000, \\'month\\':1, \\'day\\':1}를\\n# {\\'name\\':\\'홍길동\\', \\'birth\\':\\'2000-01-01\\'} 로 가공\\n\\nlist(map(lambda member : {\\n                            \\'name\\' : member.get(\\'name\\'),\\n                            \\'birth\\' : \"{year}-{month:02}-{day:02}\".format(**member)\"\\n                            },\\n          memeber2\\n))',\n",
       "  '# {\\'name\\':\\'홍길동\\', \\'year\\':\\'2000, \\'month\\':1, \\'day\\':1}를\\n# {\\'name\\':\\'홍길동\\', \\'birth\\':\\'2000-01-01\\'} 로 가공\\n\\nlist(map(lambda member : {\\n                            \\'name\\' : member.get(\\'name\\'),\\n                            \\'birth\\' : \"{year}-{month:02}-{day:02}\".format(**member)\"\\n                            },\\n          member2\\n))',\n",
       "  '# {\\'name\\':\\'홍길동\\', \\'year\\':\\'2000, \\'month\\':1, \\'day\\':1}를\\n# {\\'name\\':\\'홍길동\\', \\'birth\\':\\'2000-01-01\\'} 로 가공\\n\\nlist(map(lambda member : {\\n                            \\'name\\' : member.get(\\'name\\'),\\n                            \\'birth\\' : \"{year}-{month:02}-{day:02}\".format(**member)\\n                            },\\n          member2\\n))',\n",
       "  '# {\\'name\\':\\'홍길동\\', \\'year\\':\\'2000, \\'month\\':1, \\'day\\':1}를\\n# {\\'name\\':\\'홍길동\\', \\'birth\\':\\'2000-01-01\\'} 로 가공\\n\\nlist(map(lambda member : {\\n                            \\'name\\' : member.get(\\'name\\'),\\n                            \\'birth\\' : \"{year}-{month:02}-{day:02}\".format(**member)\\n                            },\\n          member2\\n))',\n",
       "  '# {\\'name\\':\\'홍길동\\', \\'year\\':\\'2000, \\'month\\':1, \\'day\\':1}를\\n# {\\'name\\':\\'홍길동\\', \\'birth\\':\\'2000-01-01\\'} 로 가공\\n\\nlist(map(lambda member : {\\n                            \\'name\\' : member.get(\\'name\\'),\\n                            \\'birth\\' : \"{year}-{month:02}-{day:02}\".format(**member)\\n                            },\\n          member2\\n))',\n",
       "  \"member2 = list(map(lambda member : {\\n                'name' : member.get('name'),\\n                'year' : int(member['birth'].split('-')[0]),\\n                'month' : int(member['birth'].split('-')[1]),\\n                'day' : int(member['birth'].split('-')[2]),\\n                },\\n       member1  \\n       )\\n    )\",\n",
       "  'member2',\n",
       "  '# {\\'name\\':\\'홍길동\\', \\'year\\':\\'2000, \\'month\\':1, \\'day\\':1}를\\n# {\\'name\\':\\'홍길동\\', \\'birth\\':\\'2000-01-01\\'} 로 가공\\n\\nlist(map(lambda member : {\\n                            \\'name\\' : member.get(\\'name\\'),\\n                            \\'birth\\' : \"{year}-{month:02}-{day:02}\".format(**member)\\n                            },\\n          member2\\n))',\n",
       "  'def evenchk(value):\\n    return value%2==0\\nevenchk(10)',\n",
       "  'def evenchk(value):\\n    return value%2==0\\nevenchk(10) evenchk(9)',\n",
       "  'def evenchk(value):\\n    return value%2==0\\nevenchk(10), evenchk(9)',\n",
       "  'list_data=[1,2,3,4,5]\\nfilter_template(lambda vlaue : value%2==0, list_data)',\n",
       "  'def filter_template(func, L=[]):\\n    result = []\\n    for l in L:\\n        if func(l):\\n            result.append(1)\\n        return result',\n",
       "  'def evenchk(value):\\n    return value%2==0\\nevenchk(10), evenchk(9)',\n",
       "  'list_data=[1,2,3,4,5]\\nfilter_template(lambda vlaue : value%2==0, list_data)',\n",
       "  'def filter_template(func, L=[]):\\n    result = []\\n    for l in L:\\n        if func(l):\\n            result.append(1)\\n        return result',\n",
       "  'def evenchk(value):\\n    return value%2==0\\nevenchk(10), evenchk(9)',\n",
       "  'list_data=[1,2,3,4,5]\\nfilter_template(lambda vlaue : value%2==0, list_data)',\n",
       "  '[data for data in list_data if data%2==0]',\n",
       "  'list_data=[1,2,3,4,5]\\nfilter_template(lambda value : value%2==0, list_data)',\n",
       "  'def filter_template(func, L=[]):\\n    result = []\\n    for l in L:\\n        if func(l):\\n            result.append(1)\\n        return result',\n",
       "  'def evenchk(value):\\n    return value%2==0\\nevenchk(10), evenchk(9)',\n",
       "  'list_data=[1,2,3,4,5]\\nfilter_template(lambda value : value%2==0, list_data)',\n",
       "  'def evenchk(value):\\n    return value%2==0\\nevenchk(10), evenchk(9)',\n",
       "  'list_data=[1,2,3,4,5]\\nfilter_template(lambda value : value%2==0, list_data)',\n",
       "  'list_data=[1,2,3,4,5]\\nfilter_template(lambda value : value%2==0, list_data)',\n",
       "  'list_data',\n",
       "  '(lambda value : value%2==0)(2)',\n",
       "  'def filter_template(func, L=[]):\\n    result = []\\n    for l in L:\\n        if func(l):\\n            result.append(1)\\n    return result',\n",
       "  'list_data=[1,2,3,4,5]\\nfilter_template(lambda value : value%2==0, list_data)',\n",
       "  'def filter_template(func, L=[]):\\n    result = []\\n    for l in L:\\n        if func(l):\\n            result.append(l)\\n    return result',\n",
       "  'def evenchk(value):\\n    return value%2==0\\nevenchk(10), evenchk(9)',\n",
       "  'list_data=[1,2,3,4,5]\\nfilter_template(lambda value : value%2==0, list_data)',\n",
       "  'p = [9,2,7]\\np.sort(reverse=True)\\np',\n",
       "  'number2d = [[9,9], \\n            [1,100],\\n            [10,1]]\\nnumber2d.sort()\\nnumber2d',\n",
       "  'number2d = [[9,9], \\n            [1,100],\\n            [10,1]]\\nnumber2d.sort(reverse=True)\\nnumber2d',\n",
       "  \"pairs=[(2, 'two'),(1, 'one'), (4, 'four'), (3,'three')]\\npairs.sort()\\npairs\",\n",
       "  '# 1번째 item 기준으로 정렬(abc순)\\npairs.sort(key=lambda pair : pair[1])\\npairs',\n",
       "  'number2d = [[9,9,9,9,9,9,], \\n            [1,100],\\n            [10,1]]\\nnumber2d.sort(reverse=True)   #reverse=False : 오름차순 정리\\nnumber2d',\n",
       "  '# 합이 큰순으로 정렬\\nnumbrt2f.sort()',\n",
       "  '# 합이 큰순으로 정렬\\nnumber2f.sort()',\n",
       "  '# 합이 큰순으로 정렬\\nnumber2d.sort()',\n",
       "  '# 합이 큰순으로 정렬\\nnumber2d.sort()',\n",
       "  '# 합이 큰순으로 정렬\\nnumber2d.sort(key = lambda item : sum(item))\\nnumber2d',\n",
       "  '#리스트를 매개변수로 받아 합을 return\\n(lambda item : sum(item))([1,2,3])',\n",
       "  '# 합이 큰순으로 정렬\\nnumber2d.sort(key = lambda item : sum(item), reverse=True)\\nnumber2d',\n",
       "  \"students = [\\n         {'name'='홍길동', 'score':90},\\n         {'name'='김길동', 'score':50},\\n         {'name'='윤길동', 'score':99},\\n]\",\n",
       "  \"students = [\\n         {'name'='홍길동', 'score':90},\\n         {'name'='김길동', 'score':50},\\n         {'name'='윤길동', 'score':99},\\n]\",\n",
       "  \"students = [\\n         {'name':'홍길동', 'score':90},\\n         {'name':'김길동', 'score':50},\\n         {'name':'윤길동', 'score':99},\\n]\",\n",
       "  '# 이름순으로 정렬\\nstudents.sort()\\nstudents',\n",
       "  \"member2 = list(map(lambda member : {\\n                'name' : member.get('name'),\\n                'year' : int(member['birth'].split('-')[0]),\\n                'month' : int(member['birth'].split('-')[1]),\\n                'day' : int(member['birth'].split('-')[2]),\\n                },\\n       member1  \\n       )\\n    )\",\n",
       "  \"students = list(map(lambda students : {\\n                'name' : member.get('name'),\\n                'score' : int(member['score'].split('-')[0]),\\n                },\\n       students  \\n       )\\n    )\",\n",
       "  \"students = list(map(lambda students : {\\n                'name' : students.get('name'),\\n                'score' : int(member['score'].split('-')[0]),\\n                },\\n       students  \\n       )\\n    )\",\n",
       "  \"students = list(map(lambda students : {\\n                'name' : students.get('name'),\\n                'score' : int(students['score'].split('-')[0]),\\n                },\\n       students  \\n       )\\n    )\",\n",
       "  \"students = list(map(lambda students : {\\n                'name' : students.get('name'),\\n                'score' : int(students('score'),\\n                },\\n       students  \\n       )\\n    )\",\n",
       "  \"students = list(map(lambda students : {\\n                'name' : students.get('name'),\\n                'score' : int(students('score'),\\n                }\\n       students  \\n       )\\n    )\",\n",
       "  'def join_date(data):\\n    print(\"{}-{:02}-{:02}\".format(data.get(\\'year\\'), \\n                                data.get(\\'month\\'), \\n                                  data.get(\\'day\\')))',\n",
       "  \"# 이름순으로 정렬\\nstudents.sort(key=lambda student: student('name'))\\nstudents\",\n",
       "  \"# 이름순으로 정렬\\nstudents.sort(key=lambda student: student('name'))\",\n",
       "  \"# 이름순으로 정렬\\nstudents.sort(key=lambda student: student['name'])\",\n",
       "  \"students = [\\n         {'name':'홍길동', 'score':90},\\n         {'name':'김길동', 'score':50},\\n         {'name':'윤길동', 'score':99},\\n]\",\n",
       "  \"# 이름순으로 정렬\\nstudents.sort(key=lambda student: student['name'])\",\n",
       "  \"# 이름순으로 정렬\\nstudents.sort(key=lambda students: student['name'])\",\n",
       "  \"# 이름순으로 정렬\\nstudents.sort(key=lambda students: students['name'])\",\n",
       "  \"# 이름순으로 정렬\\nstudents.sort(key=lambda item : item.get('name'))\\nstudents\",\n",
       "  \"# 이름순으로 정렬\\nstudents.sort(key=lambda data : data.get('name'))\\nstudents\",\n",
       "  \"# 이름순으로 정렬\\nstudents.sort(key=lambda name : name.get('name'))\\nstudents\",\n",
       "  \"# 이름순으로 정렬\\nstudents.sort(key=lambda students : students.get('name'))\\nstudents\",\n",
       "  \"students = [\\n         {'name':'홍길동', 'score':90},\\n         {'name':'김길동', 'score':50},\\n         {'name':'윤길동', 'score':99},\\n         {'score' : 100}\\n]\",\n",
       "  \"# 이름순으로 정렬\\nstudents.sort(key=lambda students : students.get('name'))\\nstudents\",\n",
       "  \"# 이름순으로 정렬\\nstudents.sort(key=lambda students : students.get('name'))\\nstudents\",\n",
       "  \"# 이름순으로 정렬\\nstudents.sort(key=lambda item : item.get('name','가'))\\nstudents\",\n",
       "  \"students = [\\n         {'name':'홍길동', 'score':90},\\n         {'name':'김길동', 'score':50},\\n         {'name':'윤길동', 'score':99},\\n         {'score' : 100}\\n]\",\n",
       "  \"# 이름순으로 정렬\\nstudents.sort(key=lambda item : item.get('name','가'))  # 제일 낮을때는 힣\\nstudents\",\n",
       "  \"# 이름순으로 정렬\\nstudents.sort(key=lambda data : data.get('name','가'))  # 제일 낮을때는 힣\\nstudents\",\n",
       "  \"students = [\\n         {'name':'홍길동', 'score':90},\\n         {'name':'김길동', 'score':50},\\n         {'name':'윤길동', 'score':99},\\n         {'score' : 100}\\n]\",\n",
       "  \"# 이름순으로 정렬\\nstudents.sort(key=lambda data : data.get('name','가'))  # 제일 낮을때는 힣\\nstudents\",\n",
       "  \"#점수 내림차수\\nstudents.sort(key=lambda item: item.get('score',0), reverse=True)\",\n",
       "  \"# 이름순으로 정렬\\nstudents.sort(key=lambda data : data.get('name','가'))  # 제일 낮을때는 힣\\nstudents\",\n",
       "  \"#점수 내림차수\\nstudents.sort(key=lambda item: item.get('score',0), reverse=True)\",\n",
       "  \"#점수 내림차수\\nstudents.sort(key=lambda item: item.get('score',0), reverse=True)\\nstudents\",\n",
       "  \"book.sort(key=lambda item: itme.get('writer'))\",\n",
       "  \"book.sort(key=lambda item: itme.get('writer'))\\nbook\",\n",
       "  \"# 책제목순 정렬(ㄱㄴㄷ 순), 저자순 정렬(ㄱㄴㄷ), 가격순 정렬(오름차순)\\nbook=[\\n    {'no': 1, 'title' : '강남아파트 인사이트', 'writer' : '오스틀', 'price':'25,200'},\\n    {'no': 2, 'title' : '단한번의 삶', 'writer' : '김영하', 'price':'18,200'},\\n    {'no': 3, 'title' : '흔한남매', 'writer' : '백난도', 'price':'19,200'},\\n    {'no': 4, 'title' : '가격이 잘못', 'writer' : '홍길동', 'price':'-'},\\n    {'no': 5, 'title' : '가격이 숫자', 'writer' : '신길동', 'price':'900'},\\n    {'no': 6, 'title' : '가격이 없음', 'writer' : '김길동'},\\n]\",\n",
       "  \"book.sort(key=lambda item: itme.get('writer'))\\nbook\",\n",
       "  \"book.sort(key=lambda item: item.get('writer'))\\nbook\",\n",
       "  \"book.sort(key=lambda item: item.get('title'))\\nbook\",\n",
       "  \"book.sort(key=lambda item: item.get('price'))\\nbook\",\n",
       "  \"#book.sort(key=lambda item: item.get('price'))   이렇게 하면 문자랑 숫자랑 비교하는 것 에러\\n#book\",\n",
       "  \"# 14,000 -> 14000 / 800 -> 800 / '-' -> 0 이렇게 변환해야 한다\",\n",
       "  \"# 14,000 -> 14000 / 800 -> 800 / '-' -> 0 이렇게 변환해야 한다\\ndef parse_int(price):\\n    print(type(price))\",\n",
       "  \"# 14,000 -> 14000 / 800 -> 800 / '-' -> 0 이렇게 변환해야 한다\\ndef parse_int(price):\\n    print(type(price))\",\n",
       "  'parse_int(800)',\n",
       "  'parse_int(\"800\")',\n",
       "  'parse_int(800)',\n",
       "  \"# 14,000 -> 14000 / 800 -> 800 / '-' -> 0 이렇게 변환해야 한다\\ndef parse_int(price):\\n   # print(type(price))\\n   if isinstance(price, int): # price 가 int 인가?\\n        return price\\n    \",\n",
       "  'parse_int(800)',\n",
       "  'parse_int(8000)',\n",
       "  'parse_int(\"8,000\")',\n",
       "  'parse_int(\"8,000\")',\n",
       "  '# 14,000 -> 14000 / \"2000\" -> 2000 / 800 -> 800 / \\'-\\' -> 0 이렇게 변환해야 한다\\ndef parse_int(price):\\n   # print(type(price))\\n   if isinstance(price, str) and price.replace(\\',\\',\\'\\').isdigit():   \\n         return int(price.replace(\\',\\',\\'\\')) # , 가 들어간 것을 그냥 지운다     \\n    elif isinstance(price, int): # price 가 int 인가?\\n         return price',\n",
       "  'parse_int(\"8,000\")',\n",
       "  \"#book.sort(key=lambda item: item.get('price'))   이렇게 하면 문자랑 숫자랑 비교하는 것 에러\\n#book\",\n",
       "  '# 14,000 -> 14000 / \"2000\" -> 2000 / 800 -> 800 / \\'-\\' -> 0 이렇게 변환해야 한다\\ndef parse_int(price):\\n   # print(type(price))\\n   if isinstance(price, str) and price.replace(\\',\\',\\'\\').isdigit():   \\n         return int(price.replace(\\',\\',\\'\\')) # , 가 들어간 것을 그냥 지운다     \\n    elif isinstance(price, int):          # price 가 int 인가?\\n         return price',\n",
       "  'parse_int(\"8,000\")',\n",
       "  '# 14,000 -> 14000 / \"2000\" -> 2000 / 800 -> 800 / \\'-\\' -> 0 이렇게 변환해야 한다\\ndef parse_int(price):\\n   # print(type(price))\\n   if isinstance(price, str) and price.replace(\\',\\',\\'\\').isdigit():   \\n         return int(price.replace(\\',\\',\\'\\')) # , 가 들어간 것을 그냥 지운다     \\n    elif isinstance(price, int):          # price 가 int 인가?\\n         return price',\n",
       "  '# 14,000 -> 14000 / \"2000\" -> 2000 / 800 -> 800 / \\'-\\' -> 0 이렇게 변환해야 한다\\ndef parse_int(price):\\n   # print(type(price))\\n   if isinstance(price, str) and price.replace(\\',\\',\\'\\').isdigit():   \\n         return int(price.replace(\\',\\',\\'\\')) # , 가 들어간 것을 그냥 지운다     \\n    elif isinstance(price, int):          # price 가 int 인가?\\n         return price',\n",
       "  '# 14,000 -> 14000 / \"2000\" -> 2000 / 800 -> 800 / \\'-\\' -> 0 이렇게 변환해야 한다\\ndef parse_int(price):\\n   # print(type(price))\\n   if isinstance(price, str) and price.replace(\\',\\',\\'\\').isdigit():   \\n         return int(price.replace(\\',\\',\\'\\')) # , 가 들어간 것을 그냥 지운다     \\n    elif isinstance(price, int):          # price 가 int 인가?\\n         return price\\n    else:\\n        return 0',\n",
       "  'parse_int(\"8,000\")',\n",
       "  '# 14,000 -> 14000 / \"2000\" -> 2000 / 800 -> 800 / \\'-\\' -> 0 이렇게 변환해야 한다\\ndef parse_int(price):\\n   # print(type(price))\\n   if isinstance(price, str) and price.replace(\\',\\',\\'\\').isdigit():   \\n         return int(price.replace(\\',\\',\\'\\'))          # , 가 들어간 것을 그냥 지운다     \\n    elif isinstance(price, int):                    # price 가 int 인가?\\n         return price\\n    else:\\n        return 0',\n",
       "  'parse_int(\"8,000\")',\n",
       "  '# 14,000 -> 14000 / \"2000\" -> 2000 / 800 -> 800 / \\'-\\' -> 0 이렇게 변환해야 한다\\ndef parse_int(price):\\n   # print(type(price))\\n   if isinstance(price, str) and price.replace(\\',\\',\\'\\').isdigit():   \\n         return int(price.replace(\\',\\',\\'\\'))          # , 가 들어간 것을 그냥 지운다     \\nelif isinstance(price, int):                    # price 가 int 인가?\\n         return price\\nelse:\\n        return 0',\n",
       "  'parse_int(\"8,000\")',\n",
       "  '# 14,000 -> 14000 / \"2000\" -> 2000 / 800 -> 800 / \\'-\\' -> 0 이렇게 변환해야 한다\\ndef parse_int(price):\\n   # print(type(price))\\n   if isinstance(price, str) and price.replace(\\',\\',\\'\\').isdigit():   \\n         return int(price.replace(\\',\\',\\'\\'))          # , 가 들어간 것을 그냥 지운다     \\n    elif isinstance(price, int):                    # price 가 int 인가?\\n         return price\\nelse:\\n        return 0',\n",
       "  '# 14,000 -> 14000 / \"2000\" -> 2000 / 800 -> 800 / \\'-\\' -> 0 이렇게 변환해야 한다\\ndef parse_int(price):\\n   # print(type(price))\\n   if isinstance(price, str) and price.replace(\\',\\',\\'\\').isdigit():   \\n         return int(price.replace(\\',\\',\\'\\'))          # , 가 들어간 것을 그냥 지운다     \\n    elif isinstance(price, int):                    # price 가 int 인가?\\n         return price\\n    else:\\n        return 0',\n",
       "  '# 14,000 -> 14000 / \"2000\" -> 2000 / 800 -> 800 / \\'-\\' -> 0 이렇게 변환해야 한다\\n\\ndef parse_int(price):\\n    # print(type(price))\\n    if isinstance(price, str) and price.replace(\\',\\', \\'\\').isdigit():   \\n        return int(price.replace(\\',\\', \\'\\'))          # , 가 들어간 것을 그냥 지운다     \\n    elif isinstance(price, int):                    # 이제 들여쓰기 OK\\n        return price\\n    else:\\n        return 0',\n",
       "  'parse_int(\"8,000\")',\n",
       "  \"# {'no': 6, 'title': '가격이 없음', 'writer': '김길동'} => 0return\\n# {'no': 3, 'title' : '흔한남매', 'writer' : '백난도', 'price':'19200'} =>19200\\n# {'no': 5, 'title' : '가격이 숫자', 'writer' : '신길동', 'price':'900'} =>900\\ndef parse_int(book):\",\n",
       "  \"# {'no': 6, 'title': '가격이 없음', 'writer': '김길동'} => 0return\\n# {'no': 3, 'title' : '흔한남매', 'writer' : '백난도', 'price':'19200'} =>19200\\n# {'no': 5, 'title' : '가격이 숫자', 'writer' : '신길동', 'price':'900'} =>900\\ndef parse_int(book):\\n    if isinstance(book.get('price'), str) and \\n        book.get('price').replace(',','').isdigit():\\n    return int(book.get('price').replace(',',''))\\n    elif isinstance(book.get('price'), int):\\n        return book.get('price')\\n    else:\\n        return 0\",\n",
       "  \"# {'no': 6, 'title': '가격이 없음', 'writer': '김길동'} => 0return\\n# {'no': 3, 'title' : '흔한남매', 'writer' : '백난도', 'price':'19200'} =>19200\\n# {'no': 5, 'title' : '가격이 숫자', 'writer' : '신길동', 'price':'900'} =>900\\ndef parse_int(book):\\n    if isinstance(book.get('price'), str) and \\n         book.get('price').replace(',','').isdigit():\\n    return int(book.get('price').replace(',',''))\\n    elif isinstance(book.get('price'), int):\\n        return book.get('price')\\n    else:\\n        return 0\",\n",
       "  \"# {'no': 6, 'title': '가격이 없음', 'writer': '김길동'} => 0return\\n# {'no': 3, 'title' : '흔한남매', 'writer' : '백난도', 'price':'19200'} =>19200\\n# {'no': 5, 'title' : '가격이 숫자', 'writer' : '신길동', 'price':'900'} =>900\\ndef parse_int(book):\\n    if isinstance(book.get('price'), str) and\\n         book.get('price').replace(',','').isdigit():\\n    return int(book.get('price').replace(',',''))\\n    elif isinstance(book.get('price'), int):\\n        return book.get('price')\\n    else:\\n        return 0\",\n",
       "  \"# {'no': 6, 'title': '가격이 없음', 'writer': '김길동'} => 0return\\n# {'no': 3, 'title' : '흔한남매', 'writer' : '백난도', 'price':'19200'} =>19200\\n# {'no': 5, 'title' : '가격이 숫자', 'writer' : '신길동', 'price':'900'} =>900\\ndef parse_int(book):\\n    if isinstance(book.get('price'), str) and book.get('price').replace(',','').isdigit():\\n    return int(book.get('price').replace(',',''))\\n    elif isinstance(book.get('price'), int):\\n        return book.get('price')\\n    else:\\n        return 0\",\n",
       "  \"# {'no': 6, 'title': '가격이 없음', 'writer': '김길동'} => 0return\\n# {'no': 3, 'title' : '흔한남매', 'writer' : '백난도', 'price':'19200'} =>19200\\n# {'no': 5, 'title' : '가격이 숫자', 'writer' : '신길동', 'price':'900'} =>900\\ndef parse_int(book):\\n    if isinstance(book.get('price'), str) and book.get('price').replace(',','').isdigit():\\n    return int(book.get('price').replace(',',''))\\n    elif isinstance(book.get('price'), int):\\n        return book.get('price')\\n    else:\\n        return 0\",\n",
       "  \"# {'no': 6, 'title': '가격이 없음', 'writer': '김길동'} => 0return\\n# {'no': 3, 'title' : '흔한남매', 'writer' : '백난도', 'price':'19200'} =>19200\\n# {'no': 5, 'title' : '가격이 숫자', 'writer' : '신길동', 'price':'900'} =>900\\ndef parse_int(book):\\n    if isinstance(book.get('price'), str) and book.get('price').replace(',','').isdigit():\\n        return int(book.get('price').replace(',',''))\\n    elif isinstance(book.get('price'), int):\\n        return book.get('price')\\n    else:\\n        return 0\",\n",
       "  \"# {'no': 6, 'title': '가격이 없음', 'writer': '김길동'} => 0return\\n# {'no': 3, 'title' : '흔한남매', 'writer' : '백난도', 'price':'19200'} =>19200\\n# {'no': 5, 'title' : '가격이 숫자', 'writer' : '신길동', 'price':'900'} =>900\\ndef parse_int(book):\\n    if isinstance(book.get('price'), str) and book.get('price').replace(',','').isdigit():\\n        return int(book.get('price').replace(',',''))\\n    elif isinstance(book.get('price'), int):\\n        return book.get('price')\\n    else:\\n        return 0\\n    # 이 식은 dic 에서 가져온거라 .get() 을 사용함\\nparse_int(books[-])\",\n",
       "  \"# {'no': 6, 'title': '가격이 없음', 'writer': '김길동'} => 0return\\n# {'no': 3, 'title' : '흔한남매', 'writer' : '백난도', 'price':'19200'} =>19200\\n# {'no': 5, 'title' : '가격이 숫자', 'writer' : '신길동', 'price':'900'} =>900\\ndef parse_int(book):\\n    if isinstance(book.get('price'), str) and book.get('price').replace(',','').isdigit():\\n        return int(book.get('price').replace(',',''))\\n    elif isinstance(book.get('price'), int):\\n        return book.get('price')\\n    else:\\n        return 0\\n    # 이 식은 dic 에서 가져온거라 .get() 을 사용함\\nparse_int(book[-])\",\n",
       "  \"# {'no': 6, 'title': '가격이 없음', 'writer': '김길동'} => 0return\\n# {'no': 3, 'title' : '흔한남매', 'writer' : '백난도', 'price':'19200'} =>19200\\n# {'no': 5, 'title' : '가격이 숫자', 'writer' : '신길동', 'price':'900'} =>900\\ndef parse_int(book):\\n    if isinstance(book.get('price'), str) and book.get('price').replace(',','').isdigit():\\n        return int(book.get('price').replace(',',''))\\n    elif isinstance(book.get('price'), int):\\n        return book.get('price')\\n    else:\\n        return 0\\n    # 이 식은 dic 에서 가져온거라 .get() 을 사용함\\nparse_int(book[5])\",\n",
       "  \"# {'no': 6, 'title': '가격이 없음', 'writer': '김길동'} => 0return\\n# {'no': 3, 'title' : '흔한남매', 'writer' : '백난도', 'price':'19200'} =>19200\\n# {'no': 5, 'title' : '가격이 숫자', 'writer' : '신길동', 'price':'900'} =>900\\ndef parse_int(book):\\n    if isinstance(book.get('price'), str) and book.get('price').replace(',','').isdigit():\\n        return int(book.get('price').replace(',',''))\\n    elif isinstance(book.get('price'), int):\\n        return book.get('price')\\n    else:\\n        return 0\\n    # 이 식은 dic 에서 가져온거라 .get() 을 사용함\\nparse_int(book[3])\",\n",
       "  \"# {'no': 6, 'title': '가격이 없음', 'writer': '김길동'} => 0return\\n# {'no': 3, 'title' : '흔한남매', 'writer' : '백난도', 'price':'19200'} =>19200\\n# {'no': 5, 'title' : '가격이 숫자', 'writer' : '신길동', 'price':'900'} =>900\\ndef parse_int(book):\\n    if isinstance(book.get('price'), str) and book.get('price').replace(',','').isdigit():\\n        return int(book.get('price').replace(',',''))\\n    elif isinstance(book.get('price'), int):\\n        return book.get('price')\\n    else:\\n        return 0\\n    # 이 식은 dic 에서 가져온거라 .get() 을 사용함\\nparse_int(book[4])\",\n",
       "  \"# {'no': 6, 'title': '가격이 없음', 'writer': '김길동'} => 0return\\n# {'no': 3, 'title' : '흔한남매', 'writer' : '백난도', 'price':'19200'} =>19200\\n# {'no': 5, 'title' : '가격이 숫자', 'writer' : '신길동', 'price':'900'} =>900\\ndef parse_int(book):\\n    if isinstance(book.get('price'), str) and book.get('price').replace(',','').isdigit():\\n        return int(book.get('price').replace(',',''))\\n    elif isinstance(book.get('price'), int):\\n        return book.get('price')\\n    else:\\n        return 0\\n    # 이 식은 dic 에서 가져온거라 .get() 을 사용함\\nparse_int(book[5])\",\n",
       "  \"# {'no': 6, 'title': '가격이 없음', 'writer': '김길동'} => 0return\\n# {'no': 3, 'title' : '흔한남매', 'writer' : '백난도', 'price':'19200'} =>19200\\n# {'no': 5, 'title' : '가격이 숫자', 'writer' : '신길동', 'price':'900'} =>900\\ndef parse_int(book):\\n    if isinstance(book.get('price'), str) and book.get('price').replace(',','').isdigit():\\n        return int(book.get('price').replace(',',''))\\n    elif isinstance(book.get('price'), int):\\n        return book.get('price')\\n    else:\\n        return 0\\n    # 이 식은 dic 에서 가져온거라 .get() 을 사용함\\nparse_int(book[6])\",\n",
       "  \"# {'no': 6, 'title': '가격이 없음', 'writer': '김길동'} => 0return\\n# {'no': 3, 'title' : '흔한남매', 'writer' : '백난도', 'price':'19200'} =>19200\\n# {'no': 5, 'title' : '가격이 숫자', 'writer' : '신길동', 'price':'900'} =>900\\ndef parse_int(book):\\n    if isinstance(book.get('price'), str) and book.get('price').replace(',','').isdigit():\\n        return int(book.get('price').replace(',',''))\\n    elif isinstance(book.get('price'), int):\\n        return book.get('price')\\n    else:\\n        return 0\\n    # 이 식은 dic 에서 가져온거라 .get() 을 사용함\\nparse_int(book[5])\",\n",
       "  \"book=[\\n    {'no': 1, 'title' : '강남아파트 인사이트', 'writer' : '오스틀', 'price':'25,200'},\\n    {'no': 2, 'title' : '단한번의 삶', 'writer' : '김영하', 'price':'18,200'},\\n    {'no': 3, 'title' : '흔한남매', 'writer' : '백난도', 'price':'19200'},\\n    {'no': 4, 'title' : '가격이 잘못', 'writer' : '홍길동', 'price':'-'},\\n    {'no': 5, 'title' : '가격이 숫자', 'writer' : '신길동', 'price':'900'},\\n    {'no': 6, 'title' : '가격이 없음', 'writer' : '김길동'},\\n]\\ncopy_book = book.copy()\\ncopy_book.sort()\",\n",
       "  \"book=[\\n    {'no': 1, 'title' : '강남아파트 인사이트', 'writer' : '오스틀', 'price':'25,200'},\\n    {'no': 2, 'title' : '단한번의 삶', 'writer' : '김영하', 'price':'18,200'},\\n    {'no': 3, 'title' : '흔한남매', 'writer' : '백난도', 'price':'19200'},\\n    {'no': 4, 'title' : '가격이 잘못', 'writer' : '홍길동', 'price':'-'},\\n    {'no': 5, 'title' : '가격이 숫자', 'writer' : '신길동', 'price':'900'},\\n    {'no': 6, 'title' : '가격이 없음', 'writer' : '김길동'},\\n]\\ncopy_book = book.copy()\",\n",
       "  \"copy_book.sort(key=lambda book : \\n               int(book.get('price').replace(',',''))\\\\\\n                if isinstance(book.get('price'), str) and\\\\\\n                  book.get ('price').replace(',','').isdigit() else\\\\\\n               book.get('price') if isinstance(book.get('price'), int) else\\\\\\n               0, \\n              )\",\n",
       "  \"book=[\\n    {'no': 1, 'title' : '강남아파트 인사이트', 'writer' : '오스틀', 'price':'25,200'},\\n    {'no': 2, 'title' : '단한번의 삶', 'writer' : '김영하', 'price':'18,200'},\\n    {'no': 3, 'title' : '흔한남매', 'writer' : '백난도', 'price':'19200'},\\n    {'no': 4, 'title' : '가격이 잘못', 'writer' : '홍길동', 'price':'-'},\\n    {'no': 5, 'title' : '가격이 숫자', 'writer' : '신길동', 'price':'900'},\\n    {'no': 6, 'title' : '가격이 없음', 'writer' : '김길동'},\\n]\\ncopy_book = book.copy()\",\n",
       "  'copy_books',\n",
       "  'copy_book',\n",
       "  '# 함수를 return\\ndef make_box(shape): #shape : [l] => len가 l인 list를 생성하는 함수 return, \\n                    #        [r,c] => r행 c열인 2차원 list를 생성하는 함수 return\\n                    #        [d,r,c] => d면 r행 c열 3차원 list를 생성하는 함수 return\\n            def box(init_value):\\n                if len(shape)==1:\\n                    return[init_value]*shape[0]\\n                elif len(shape)==2:\\n                    return[[init_value]*shape[1]]*shape[0]\\n                return box',\n",
       "  'line_func = make_box([2,3])',\n",
       "  'line_func = make_box([2,3])\\nline_func(3)',\n",
       "  '# 함수를 return\\ndef make_box(shape): #shape : [l] => len가 l인 list를 생성하는 함수 return, \\n                    #        [r,c] => r행 c열인 2차원 list를 생성하는 함수 return\\n                    #        [d,r,c] => d면 r행 c열 3차원 list를 생성하는 함수 return\\n            def box(init_value):\\n                if len(shape)==1:\\n                    return[init_value]*shape[0]\\n                elif len(shape)==2:\\n                    return[[init_value]*shape[1]]*shape[0]\\n                return box',\n",
       "  'line_func = make_box([2,3])\\nline_func(3)',\n",
       "  '# 함수를 return\\ndef make_box(shape): #shape : [l] => len가 l인 list를 생성하는 함수 return, \\n                    #        [r,c] => r행 c열인 2차원 list를 생성하는 함수 return\\n                    #        [d,r,c] => d면 r행 c열 3차원 list를 생성하는 함수 return\\n            def box(init_value):\\n                if len(shape)==1:\\n                    return[init_value]*shape[0]\\n                elif len(shape)==2:\\n                    return[[init_value]*shape[1]]*shape[0]\\n                return box',\n",
       "  'line_func = make_box([2,3])\\nline_func(3)',\n",
       "  'line_func1 = make_box([10])\\nline_func1(3)',\n",
       "  '# 함수를 return\\ndef make_box(shape): #shape : [l] => len가 l인 list를 생성하는 함수 return, \\n                    #        [r,c] => r행 c열인 2차원 list를 생성하는 함수 return\\n                    #        [d,r,c] => d면 r행 c열 3차원 list를 생성하는 함수 return\\n            def box(init_value):\\n                if len(shape)==1:\\n                    return[init_value]*shape[0]\\n                elif len(shape)==2:\\n                    return[[init_value]*shape[1]]*shape[0]\\n            return box',\n",
       "  'line_func = make_box([2,3])\\nline_func(3)',\n",
       "  'line_func1 = make_box([10])\\nline_func1(3)',\n",
       "  'def make_box(shape):\\n    if len(shape)==1:\\n        return lambda init_vlaue : [init_value]*shape[0]\\n    else len(shape)==2:\\n        return lambda init_vlaue : [[init_vlaue]*shape[1]]*shape[0]',\n",
       "  'def make_box(shape):\\n    if len(shape)==1:\\n        return lambda init_vlaue : [init_value]*shape[0]\\n    elif len(shape)==2:\\n        return lambda init_vlaue : [[init_vlaue]*shape[1]]*shape[0]',\n",
       "  'globals',\n",
       "  'globals()',\n",
       "  'globals() #전역변수 리스트'],\n",
       " '_oh': {6: [2, 4, 6, 8, 10, 12, 14, 16, 18, 20],\n",
       "  12: 5000,\n",
       "  13: <map at 0x2019ad056f0>,\n",
       "  14: [5000, 800, 1000, 6000],\n",
       "  17: {'year': 2000, 'month': 1, 'day': 1},\n",
       "  21: \"\\n예2. member1=[{'name':'홍길동', 'birth':'2000-01-01'},\\n              {'name':'신길동', 'birth':'1998-12-31'},]를\\n     member2=[{'name':'홍길동', 'year':'2000, 'month':1, 'day':1},\\n              {'name':'신길동', 'year':'1998, 'month':12, 'day':31},]를 바꿉니다\\n\",\n",
       "  24: {'year': 2000, 'month': 1, 'day': 1},\n",
       "  28: {'year': 2000, 'month': 1, 'day': 1},\n",
       "  32: {'name': '홍길동', 'year': 2000, 'month': 1, 'day': 1},\n",
       "  33: [{'name': '홍길동', 'year': 2000, 'month': 1, 'day': 1},\n",
       "   {'name': '신길동', 'year': 1998, 'month': 12, 'day': 31}],\n",
       "  35: [{'name': '홍길동', 'year': 2000, 'month': 1, 'day': 1},\n",
       "   {'name': '신길동', 'year': 1998, 'month': 12, 'day': 31}],\n",
       "  69: '2000-01-01',\n",
       "  73: '2000-01-01',\n",
       "  76: '2000-01-01',\n",
       "  80: '2000-01-01',\n",
       "  89: '2000-01-01',\n",
       "  91: '2000-01-01',\n",
       "  93: '2000-01-01',\n",
       "  100: [{'name': '홍길동', 'year': 2000, 'month': 1, 'day': 1},\n",
       "   {'name': '신길동', 'year': 1998, 'month': 12, 'day': 31}],\n",
       "  101: [{'name': '홍길동', 'birth': '2000-01-01'},\n",
       "   {'name': '신길동', 'birth': '1998-12-31'}],\n",
       "  102: True,\n",
       "  104: (True, False),\n",
       "  107: (True, False),\n",
       "  110: (True, False),\n",
       "  112: [2, 4],\n",
       "  113: [],\n",
       "  115: (True, False),\n",
       "  116: [],\n",
       "  117: (True, False),\n",
       "  118: [],\n",
       "  119: [],\n",
       "  120: [1, 2, 3, 4, 5],\n",
       "  121: True,\n",
       "  123: [1, 1],\n",
       "  125: (True, False),\n",
       "  126: [2, 4],\n",
       "  127: [9, 7, 2],\n",
       "  128: [[1, 100], [9, 9], [10, 1]],\n",
       "  129: [[10, 1], [9, 9], [1, 100]],\n",
       "  130: [(4, 'four'), (1, 'one'), (3, 'three'), (2, 'two')],\n",
       "  131: [(4, 'four'), (1, 'one'), (3, 'three'), (2, 'two')],\n",
       "  132: [[1, 100], [9, 9, 9, 9, 9, 9], [10, 1]],\n",
       "  137: [[1, 100], [9, 9, 9, 9, 9, 9], [10, 1]],\n",
       "  138: 6,\n",
       "  139: [[1, 100], [9, 9, 9, 9, 9, 9], [10, 1]],\n",
       "  158: [{'name': '김길동', 'score': 50},\n",
       "   {'name': '윤길동', 'score': 99},\n",
       "   {'name': '홍길동', 'score': 90}],\n",
       "  159: [{'name': '김길동', 'score': 50},\n",
       "   {'name': '윤길동', 'score': 99},\n",
       "   {'name': '홍길동', 'score': 90}],\n",
       "  160: [{'name': '김길동', 'score': 50},\n",
       "   {'name': '윤길동', 'score': 99},\n",
       "   {'name': '홍길동', 'score': 90}],\n",
       "  161: [{'name': '김길동', 'score': 50},\n",
       "   {'name': '윤길동', 'score': 99},\n",
       "   {'name': '홍길동', 'score': 90}],\n",
       "  165: [{'score': 100},\n",
       "   {'name': '김길동', 'score': 50},\n",
       "   {'name': '윤길동', 'score': 99},\n",
       "   {'name': '홍길동', 'score': 90}],\n",
       "  167: [{'score': 100},\n",
       "   {'name': '김길동', 'score': 50},\n",
       "   {'name': '윤길동', 'score': 99},\n",
       "   {'name': '홍길동', 'score': 90}],\n",
       "  168: [{'score': 100},\n",
       "   {'name': '김길동', 'score': 50},\n",
       "   {'name': '윤길동', 'score': 99},\n",
       "   {'name': '홍길동', 'score': 90}],\n",
       "  170: [{'score': 100},\n",
       "   {'name': '윤길동', 'score': 99},\n",
       "   {'name': '홍길동', 'score': 90},\n",
       "   {'name': '김길동', 'score': 50}],\n",
       "  172: [{'score': 100},\n",
       "   {'name': '윤길동', 'score': 99},\n",
       "   {'name': '홍길동', 'score': 90},\n",
       "   {'name': '김길동', 'score': 50}],\n",
       "  174: [{'score': 100},\n",
       "   {'name': '윤길동', 'score': 99},\n",
       "   {'name': '홍길동', 'score': 90},\n",
       "   {'name': '김길동', 'score': 50}],\n",
       "  179: [{'no': 5, 'title': '가격이 숫자', 'writer': '신길동', 'price': '900'},\n",
       "   {'no': 6, 'title': '가격이 없음', 'writer': '김길동'},\n",
       "   {'no': 4, 'title': '가격이 잘못', 'writer': '홍길동', 'price': '-'},\n",
       "   {'no': 1, 'title': '강남아파트 인사이트', 'writer': '오스틀', 'price': '25,200'},\n",
       "   {'no': 2, 'title': '단한번의 삶', 'writer': '김영하', 'price': '18,200'},\n",
       "   {'no': 3, 'title': '흔한남매', 'writer': '백난도', 'price': '19,200'}],\n",
       "  180: [{'no': 5, 'title': '가격이 숫자', 'writer': '신길동', 'price': '900'},\n",
       "   {'no': 6, 'title': '가격이 없음', 'writer': '김길동'},\n",
       "   {'no': 4, 'title': '가격이 잘못', 'writer': '홍길동', 'price': '-'},\n",
       "   {'no': 1, 'title': '강남아파트 인사이트', 'writer': '오스틀', 'price': '25,200'},\n",
       "   {'no': 2, 'title': '단한번의 삶', 'writer': '김영하', 'price': '18,200'},\n",
       "   {'no': 3, 'title': '흔한남매', 'writer': '백난도', 'price': '19,200'}],\n",
       "  190: 800,\n",
       "  191: 8000,\n",
       "  218: 8000,\n",
       "  228: 19200,\n",
       "  229: 25200,\n",
       "  230: 18200,\n",
       "  231: 19200,\n",
       "  233: 19200,\n",
       "  239: [{'no': 1, 'title': '강남아파트 인사이트', 'writer': '오스틀', 'price': '25,200'},\n",
       "   {'no': 2, 'title': '단한번의 삶', 'writer': '김영하', 'price': '18,200'},\n",
       "   {'no': 3, 'title': '흔한남매', 'writer': '백난도', 'price': '19200'},\n",
       "   {'no': 4, 'title': '가격이 잘못', 'writer': '홍길동', 'price': '-'},\n",
       "   {'no': 5, 'title': '가격이 숫자', 'writer': '신길동', 'price': '900'},\n",
       "   {'no': 6, 'title': '가격이 없음', 'writer': '김길동'}],\n",
       "  249: [[3, 3, 3], [3, 3, 3]],\n",
       "  250: [3, 3, 3, 3, 3, 3, 3, 3, 3, 3],\n",
       "  253: <function globals()>,\n",
       "  254: {...}},\n",
       " '_dh': [WindowsPath('C:/Ai_x/source/01_python')],\n",
       " 'In': ['',\n",
       "  'from IPython.display import display, HTML\\ndisplay(HTML(\"\"\"\\n<style>\\ndiv.container{width:86% !important;}\\ndiv.cell.code_cell.rendered{width:100%;}\\ndiv.CodeMirror {font-family:Consolas; font-size:15pt;}\\ndiv.output {font-size:15pt; font-weight:bold;}\\ndiv.input {font-family:Consolas; font-size:15pt;}\\ndiv.prompt {min-width:70px;\\ndiv#toc-wrapper{padding-top:120px;}\\ndiv.text_cell_render ul li{font-size:12pt;padding:5px;}\\ntable.dataframe{font-size:15px;}\\n</style>\\n\"\"\"))',\n",
       "  \"def map_template(func, L=[]):\\n    '''L의 모든 요쇼를 func() 함수를 적용시켜 return\\n    [func(l) for l in L]\\n    '''\\n    restlt : []\\n    for l in L:\\n        result.append(func(1))\\n    return restult\",\n",
       "  \"def map_template(func, L=[]):\\n    '''L의 모든 요쇼를 func() 함수를 적용시켜 return\\n    [func(l) for l in L]\\n    '''\\n    restlt : []\\n    for l in L:\\n        result.append(func(l))\\n                    #  result = [func(l) for l in L]\\n#    return [func(l) for l in L]\",\n",
       "  'list_data = [1,2,3,4,5,6,7,8,9,10]\\ndef x_2(x):\\n    return x*2\\nmap_template(x_2, list_data)',\n",
       "  'list_data = [1,2,3,4,5,6,7,8,9,10]\\nmap_template(lambda x : x*2, list_data)\\n# def x_2(x):\\n#     return x*2\\n# map_template(x_2, list_data)',\n",
       "  '# 리스트를 데이터를 가공 방법 3. map(): 파이썬 내장함수\\nlist(map(lambda x : x*2, list_data))',\n",
       "  \"for item in map(lambda x : x*2, list_data):\\n    print(item, end='')\",\n",
       "  \"def func(x):\\n    return int(x.replace(',',''))\",\n",
       "  \"'''\\n예1. prices = [5000,800,1000,6000]로 바꾸시오\\n'''\\nprices = ['5,000', '800', '1000', '6,000']\",\n",
       "  \"def func(x):\\n    return int(x.replace(',',''))\",\n",
       "  \"def func(x):\\n    return int(x.replace(',',''))  #, 를 바꾸어줌\\nfunc(5,000)\",\n",
       "  'def func(x):\\n    return int(x.replace(\\',\\',\\'\\'))  #, 를 바꾸어줌\\nfunc(\"5,000\")',\n",
       "  \"map(lambda x : int(x.replace(',','')), prices)\",\n",
       "  \"list(map(lambda x : int(x.replace(',','')), prices))\",\n",
       "  \"#'2000-01-01' => {'year':'2000, 'month':1, 'day':1}\\ndef split_data(date):\\n    split_data = date.split('-')\\n    print(split_data[0], split_data[1], split_data[2])\\n    return {'year': int(split_data[0])\\n            'month': int(split_data[1])\\n            'day': int(split_data[2])\\n           }\",\n",
       "  \"#'2000-01-01' => {'year':'2000, 'month':1, 'day':1}\\ndef split_data(date):\\n    split_data = date.split('-')\\n    print(split_data[0], split_data[1], split_data[2])\\n    return {'year': int(split_data[0]),\\n            'month': int(split_data[1]),\\n            'day': int(split_data[2])\\n           }\",\n",
       "  'split_data(\"2000-01-01\")',\n",
       "  'def member_func(member):    {\\'name\\':\\'신길동\\', \\'birth\\':\\'1998-12-31\\'}을\\n    \"{\\'name\\':\\'신길동\\', \\'year\\':\\'1998, \\'month\\':12, \\'day\\':31}식으로 리턴\" \\n    return{\\n        \\'name\\' : member.get(\\'name\\'),\\n        \\'year\\' : int(memeber[\\'birth\\'].split(\\'-\\')[0]),\\n        \\'month\\' : int(member[\\'birth\\'].split(\\'-\\')[1]),\\n        \\'day\\' : int(member[\\'birth\\'].split(\\'-\\')[2]),\\n    }\\n     ',\n",
       "  'def member_func(member):  #  {\\'name\\':\\'신길동\\', \\'birth\\':\\'1998-12-31\\'}을\\n    \"{\\'name\\':\\'신길동\\', \\'year\\':\\'1998, \\'month\\':12, \\'day\\':31}식으로 리턴\" \\n    return{\\n        \\'name\\' : member.get(\\'name\\'),\\n        \\'year\\' : int(memeber[\\'birth\\'].split(\\'-\\')[0]),\\n        \\'month\\' : int(member[\\'birth\\'].split(\\'-\\')[1]),\\n        \\'day\\' : int(member[\\'birth\\'].split(\\'-\\')[2]),\\n    }\\n     ',\n",
       "  'def member_func(member):  #  {\\'name\\':\\'신길동\\', \\'birth\\':\\'1998-12-31\\'}을\\n    \"{\\'name\\':\\'신길동\\', \\'year\\':\\'1998, \\'month\\':12, \\'day\\':31}식으로 리턴\" \\n    return{\\n        \\'name\\' : member.get(\\'name\\'),\\n        \\'year\\' : int(memeber[\\'birth\\'].split(\\'-\\')[0]),\\n        \\'month\\' : int(member[\\'birth\\'].split(\\'-\\')[1]),\\n        \\'day\\' : int(member[\\'birth\\'].split(\\'-\\')[2]),\\n    }\\nmember_func(member1[0])',\n",
       "  \"'''\\n예2. member1=[{'name':'홍길동', 'birth':'2000-01-01'},\\n              {'name':'신길동', 'birth':'1998-12-31'},]를\\n     member2=[{'name':'홍길동', 'year':'2000, 'month':1, 'day':1},\\n              {'name':'신길동', 'year':'1998, 'month':12, 'day':31},]를 바꿉니다\\n'''\",\n",
       "  \"member1=[{'name':'홍길동', 'birth':'2000-01-01'},\\n        {'name':'신길동', 'birth':'1998-12-31'},]\",\n",
       "  \"#'2000-01-01' => {'year':'2000, 'month':1, 'day':1}\\ndef split_data(date):\\n    split_data = date.split('-')\\n    print(split_data[0], split_data[1], split_data[2])\\n    return {'year': int(split_data[0]),\\n            'month': int(split_data[1]),\\n            'day': int(split_data[2])\\n           }\",\n",
       "  'split_data(\"2000-01-01\")',\n",
       "  'def member_func(member):  #  {\\'name\\':\\'신길동\\', \\'birth\\':\\'1998-12-31\\'}을\\n    \"{\\'name\\':\\'신길동\\', \\'year\\':\\'1998, \\'month\\':12, \\'day\\':31}식으로 리턴\" \\n    return{\\n        \\'name\\' : member.get(\\'name\\'),\\n        \\'year\\' : int(memeber[\\'birth\\'].split(\\'-\\')[0]),\\n        \\'month\\' : int(member[\\'birth\\'].split(\\'-\\')[1]),\\n        \\'day\\' : int(member[\\'birth\\'].split(\\'-\\')[2]),\\n    }\\nmember_func(member1[0])',\n",
       "  'def member_func(member):  #  {\\'name\\':\\'신길동\\', \\'birth\\':\\'1998-12-31\\'}을\\n    \"{\\'name\\':\\'신길동\\', \\'year\\':\\'1998, \\'month\\':12, \\'day\\':31}식으로 리턴\" \\n    return{\\n        \\'name\\' : member.get(\\'name\\'),\\n        \\'year\\' : int(memeber[\\'birth\\'].split(\\'-\\')[0]),\\n        \\'month\\' : int(member[\\'birth\\'].split(\\'-\\')[1]),\\n        \\'day\\' : int(member[\\'birth\\'].split(\\'-\\')[2]),\\n    }\\nmember_func(member2[0])',\n",
       "  \"#'2000-01-01' => {'year':'2000, 'month':1, 'day':1}\\ndef split_data(date):\\n    split_data = date.split('-')\\n    print(split_data[0], split_data[1], split_data[2])\\n    return {'year': int(split_data[0]),\\n            'month': int(split_data[1]),\\n            'day': int(split_data[2])\\n           }\",\n",
       "  'split_data(\"2000-01-01\")',\n",
       "  'def member_func(member):  #  {\\'name\\':\\'신길동\\', \\'birth\\':\\'1998-12-31\\'}을\\n    \"{\\'name\\':\\'신길동\\', \\'year\\':\\'1998, \\'month\\':12, \\'day\\':31}식으로 리턴\" \\n    return{\\n        \\'name\\' : member.get(\\'name\\'),\\n        \\'year\\' : int(memeber[\\'birth\\'].split(\\'-\\')[0]),\\n        \\'month\\' : int(member[\\'birth\\'].split(\\'-\\')[1]),\\n        \\'day\\' : int(member[\\'birth\\'].split(\\'-\\')[2]),\\n    }\\nmember_func(member1[0])',\n",
       "  'def member_func(member):  #  {\\'name\\':\\'신길동\\', \\'birth\\':\\'1998-12-31\\'}을\\n    \"{\\'name\\':\\'신길동\\', \\'year\\':\\'1998, \\'month\\':12, \\'day\\':31}식으로 리턴\" \\n    return{\\n        \\'name\\' : member.get(\\'name\\'),\\n        \\'year\\' : int(memeber[\\'birth\\'].split(\\'-\\')[0]),\\n        \\'month\\' : int(member[\\'birth\\'].split(\\'-\\')[1]),\\n        \\'day\\' : int(member[\\'birth\\'].split(\\'-\\')[2]),\\n    }\\nmember_func(member1[0])',\n",
       "  \"list(map(lambda member : {\\n        'name' : member.get('name'),\\n        'year' : int(memeber['birth'].split('-')[0]),\\n        'month' : int(member['birth'].split('-')[1]),\\n        'day' : int(member['birth'].split('-')[2]),\\n          },\\n       member1  \\n       )\\n    )    \",\n",
       "  'def member_func(member):  #  {\\'name\\':\\'신길동\\', \\'birth\\':\\'1998-12-31\\'}을\\n    \"{\\'name\\':\\'신길동\\', \\'year\\':\\'1998, \\'month\\':12, \\'day\\':31}식으로 리턴\" \\n    return{\\n        \\'name\\' : member.get(\\'name\\'),\\n        \\'year\\' : int(member[\\'birth\\'].split(\\'-\\')[0]),\\n        \\'month\\' : int(member[\\'birth\\'].split(\\'-\\')[1]),\\n        \\'day\\' : int(member[\\'birth\\'].split(\\'-\\')[2]),\\n    }\\nmember_func(member1[0])',\n",
       "  \"list(map(lambda member : {\\n                'name' : member.get('name'),\\n                'year' : int(member['birth'].split('-')[0]),\\n                'month' : int(member['birth'].split('-')[1]),\\n                'day' : int(member['birth'].split('-')[2]),\\n          },\\n       member1  \\n       )\\n    )    \",\n",
       "  \"list(map(lambda member : {\\n                'name' : member.get('name'),\\n                'year' : int(member['birth'].split('-')[0]),\\n                'month' : int(member['birth'].split('-')[1]),\\n                'day' : int(member['birth'].split('-')[2]),\\n          },\\n       member1  \\n       )\\n    )\\nmember2\",\n",
       "  \"list(map(lambda member : {\\n                'name' : member.get('name'),\\n                'year' : int(member['birth'].split('-')[0]),\\n                'month' : int(member['birth'].split('-')[1]),\\n                'day' : int(member['birth'].split('-')[2]),\\n                },\\n       member1  \\n       )\\n    )\",\n",
       "  'def join_date(data):\\n    print(data)',\n",
       "  \"join_data({'year': 2000, 'month': 1, 'day': 1})\",\n",
       "  \"join_date({'year': 2000, 'month': 1, 'day': 1})\",\n",
       "  \"join_date({'year': 2000, 'month': 1, 'day': 1})\\njoin_data[0]\",\n",
       "  \"join_date({'year': 2000, 'month': 1, 'day': 1})\\nlist(join_data[0])\",\n",
       "  \"join_date({'year': 2000, 'month': 1, 'day': 1})\\nlist(join_date[0])\",\n",
       "  \"join_date({'year': 2000, 'month': 1, 'day': 1})\\njoin_date[0]\",\n",
       "  \"join_date({'year': 2000, 'month': 1, 'day': 1})\\nvalue=join_date.vlaue()\",\n",
       "  'def join_date(data):\\n    print(data)',\n",
       "  \"join_date({'year': 2000, 'month': 1, 'day': 1})\\nvalue=join_date.vlaue()\",\n",
       "  \"join_date({'year': 2000, 'month': 1, 'day': 1})\\nvalue=join_date.value()\",\n",
       "  \"join_date({'year': 2000, 'month': 1, 'day': 1})\\nvalue=join_date.value()\\nprint(value)\",\n",
       "  \"join_date({'year': 2000, 'month': 1, 'day': 1})\\nprint(join_data)\",\n",
       "  \"def join_date(data):\\n    print(data.get('year'), data.get('month'), data.get('day'))\",\n",
       "  \"join_date({'year': 2000, 'month': 1, 'day': 1})\",\n",
       "  \"def join_date(data):\\n    print([data.get('year'), data.get('month'), data.get('day')])  # 숫자 리스트\\n    return '-'.join([data.get('year'), data.get('month'), data.get('day')])\",\n",
       "  \"join_date({'year': 2000, 'month': 1, 'day': 1})\",\n",
       "  \"join_date({'year': 2000, 'month': 1, 'day': 1})\",\n",
       "  \"join_date({'year': 2000, 'month': 1, 'day': 1})\\nprint(data.get(year))\",\n",
       "  \"join_date({'year': 2000, 'month': 1, 'day': 1})\\nprint(data.get(year))\",\n",
       "  \"join_date({'year': 2000, 'month': 1, 'day': 1})\\nprint(join_date.get(year))\",\n",
       "  \"join_date({'year': 2000, 'month': 1, 'day': 1})\\nprint(join_date.get('year'))\",\n",
       "  \"def join_date(data):\\n    print([data.get('year'), data.get('month'), data.get('day')])  # 숫자 리스트\\n    year = str(data.get('year'))\\n    month = data.get('month')\\n    if month < 10:\\n        month = '0'+ str(month)\\n    else:\\n        month = str(month)\\n    day = data.get('day')\\n    if day < 10:\\n        month = '0'+ str(day)\\n    else:\\n        month = str(day)\\n    return '-'.join([data.get('year'), data.get('month'), data.get('day')])\",\n",
       "  \"join_date({'year': 2000, 'month': 1, 'day': 1})\\nprint(join_date.get('year'))\",\n",
       "  \"join_date({'year': 2000, 'month': 1, 'day': 1})\",\n",
       "  \"def join_date(data):\\n    print([data.get('year'), data.get('month'), data.get('day')])  # 숫자 리스트\\n    year = str(data.get('year'))\\n    month = data.get('month')\\n    if month < 10:\\n        month = '0'+ str(month)\\n    else:\\n        month = str(month)\\n    day = data.get('day')\\n    if day < 10:\\n        month = '0'+ str(day)\\n    else:\\n        month = str(day)\\n    return '-'.join([data.get('year'), data.get('month'), data.get('day')])\",\n",
       "  \"join_date({'year': 2000, 'month': 1, 'day': 1})\",\n",
       "  \"# {'year': 2000, 'month': 1, 'day': 1} 를 '2000-01-01' 를 return 하는 함수\",\n",
       "  \"def join_date(data):\\n    print([data.get('year'), data.get('month'), data.get('day')])  # 숫자 리스트\\n    year = str(data.get('year'))\\n    month = data.get('month')\\n    if month < 10:\\n        month = '0'+ str(month)\\n    else:\\n        month = str(month)\\n    day = data.get('day')\\n    if day < 10:\\n        month = '0'+ str(day)\\n    else:\\n        month = str(day)\\n    return '-'.join([data.get('year'), data.get('month'), data.get('day')])\",\n",
       "  \"join_date({'year': 2000, 'month': 1, 'day': 1})\",\n",
       "  \"def join_date(data):\\n    print([data.get('year'), data.get('month'), data.get('day')])  # 숫자 리스트\\n    year = str(data.get('year'))\\n    month = data.get('month')\\n    if month < 10:\\n        month = '0'+ str(month)\\n    else:\\n        month = str(month)\\n    day = data.get('day')\\n    if day < 10:\\n        month = '0'+ str(day)\\n    else:\\n        month = str(day)\\n    return '-'.join([year, month, day])\",\n",
       "  \"join_date({'year': 2000, 'month': 1, 'day': 1})\",\n",
       "  \"def join_date(data):\\n    print([data.get('year'), data.get('month'), data.get('day')])  # 숫자 리스트\\n    year = str(data.get('year'))\\n    month = data.get('month')\\n    if month < 10:\\n        month = '0'+ str(month)\\n    else:\\n        month = str(month)\\n    day = data.get('day')\\n    if day < 10:\\n        day = '0'+ str(day)\\n    else:\\n        day = str(day)\\n    return '-'.join([year, month, day])\",\n",
       "  \"join_date({'year': 2000, 'month': 1, 'day': 1})\",\n",
       "  'def join_date(data):\\n    print(\"{}-{:02}-{:02}\".format(data.get(\\'year\\'), \\n                                data.get(\\'month\\'), \\n                                  data.get(\\'day\\')))',\n",
       "  \"join_date({'year': 2000, 'month': 1, 'day': 1})\",\n",
       "  'def join_date(data):\\n    return(\"{}-{:02}-{:02}\".format(data.get(\\'year\\'), \\n                                data.get(\\'month\\'), \\n                                  data.get(\\'day\\')))',\n",
       "  \"join_date({'year': 2000, 'month': 1, 'day': 1})\",\n",
       "  \"def join_date(data):\\n    print([data.get('year'), data.get('month'), data.get('day')])  # 숫자 리스트\\n    year = str(data.get('year'))\\n    month = data.get('month')\\n    if month < 10:\\n        month = '0'+ str(month)\\n    else:\\n        month = str(month)\\n    day = data.get('day')\\n    if day < 10:\\n        day = '0'+ str(day)\\n    else:\\n        day = str(day)\\n    return '-'.join([year, month, day])\",\n",
       "  'def join_date(data):\\n    return(\"{}-{:02}-{:02}\".format(data.get(\\'year\\'), \\n                                data.get(\\'month\\'), \\n                                  data.get(\\'day\\')))',\n",
       "  \"join_date({'year': 2000, 'month': 1, 'day': 1})\",\n",
       "  'def join_date(data):\\n    print(\"{}-{:02}-{:02}\".format(data.get(\\'year\\'), \\n                                data.get(\\'month\\'), \\n                                  data.get(\\'day\\')))',\n",
       "  \"join_date({'year': 2000, 'month': 1, 'day': 1})\",\n",
       "  'def join_date(data):\\n    return(\"{}-{:02}-{:02}\".format(data.get(\\'year\\'), \\n                                data.get(\\'month\\'), \\n                                  data.get(\\'day\\')))',\n",
       "  \"join_date({'year': 2000, 'month': 1, 'day': 1})\",\n",
       "  'def join_date(data):\\n    print(\"{}-{:02}-{:02}\".format(data.get(\\'year\\'), \\n                                data.get(\\'month\\'), \\n                                  data.get(\\'day\\')))',\n",
       "  \"join_date({'year': 2000, 'month': 1, 'day': 1})\",\n",
       "  'def join_date(data):\\n    print(\"{year}-{month:02}-{day:02}\".format(\\n                                year=data.get(\\'year\\'), \\n                                month=data.get(\\'month\\'), \\n                                day=data.get(\\'day\\')))',\n",
       "  'def join_date(data):\\n    print(\"{year}-{month:02}-{day:02}\".format(\\n                                year=data.get(\\'year\\'), \\n                                month=data.get(\\'month\\'), \\n                                day=data.get(\\'day\\')))',\n",
       "  \"join_date({'year': 2000, 'month': 1, 'day': 1})\",\n",
       "  'def join_date(data):\\n    print(\"{year}-{month:02}-{day:02}\".format(**data))',\n",
       "  \"join_date({'year': 2000, 'month': 1, 'day': 1})\",\n",
       "  'def join_date(data):   # 가장 쉽게 풀어쓰는 것\\n    return(\"{year}-{month:02}-{day:02}\".format(**data))',\n",
       "  \"join_date({'year': 2000, 'month': 1, 'day': 1})\",\n",
       "  'def join_date(data):   # 가장 쉽게 풀어쓰는 것\\n    return\"{year}-{month:02}-{day:02}\".format(**data)',\n",
       "  \"join_date({'year': 2000, 'month': 1, 'day': 1})\",\n",
       "  '# {\\'name\\':\\'홍길동\\', \\'year\\':\\'2000, \\'month\\':1, \\'day\\':1}를\\n# {\\'name\\':\\'홍길동\\', \\'birth\\':\\'2000-01-01\\'} 로 가공\\n\\nlist(map(lambda member : {\\n                            \\'name\\' : member.get(\\'name\\'),\\n                            \\'birth\\' : \"{year}-{month:02}-{day:02}\".format(**member)\"\\n                            },\\n          memeber2\\n))',\n",
       "  \"join_date({'year': 2000, 'month': 1, 'day': 1})\",\n",
       "  '# {\\'name\\':\\'홍길동\\', \\'year\\':\\'2000, \\'month\\':1, \\'day\\':1}를\\n# {\\'name\\':\\'홍길동\\', \\'birth\\':\\'2000-01-01\\'} 로 가공\\n\\nlist(map(lambda member : {\\n                            \\'name\\' : member.get(\\'name\\'),\\n                            \\'birth\\' : \"{year}-{month:02}-{day:02}\".format(**member)\"\\n                            },\\n          memeber2\\n))',\n",
       "  '# {\\'name\\':\\'홍길동\\', \\'year\\':\\'2000, \\'month\\':1, \\'day\\':1}를\\n# {\\'name\\':\\'홍길동\\', \\'birth\\':\\'2000-01-01\\'} 로 가공\\n\\nlist(map(lambda member : {\\n                            \\'name\\' : member.get(\\'name\\'),\\n                            \\'birth\\' : \"{year}-{month:02}-{day:02}\".format(**member)\"\\n                            },\\n          member2\\n))',\n",
       "  '# {\\'name\\':\\'홍길동\\', \\'year\\':\\'2000, \\'month\\':1, \\'day\\':1}를\\n# {\\'name\\':\\'홍길동\\', \\'birth\\':\\'2000-01-01\\'} 로 가공\\n\\nlist(map(lambda member : {\\n                            \\'name\\' : member.get(\\'name\\'),\\n                            \\'birth\\' : \"{year}-{month:02}-{day:02}\".format(**member)\\n                            },\\n          member2\\n))',\n",
       "  '# {\\'name\\':\\'홍길동\\', \\'year\\':\\'2000, \\'month\\':1, \\'day\\':1}를\\n# {\\'name\\':\\'홍길동\\', \\'birth\\':\\'2000-01-01\\'} 로 가공\\n\\nlist(map(lambda member : {\\n                            \\'name\\' : member.get(\\'name\\'),\\n                            \\'birth\\' : \"{year}-{month:02}-{day:02}\".format(**member)\\n                            },\\n          member2\\n))',\n",
       "  '# {\\'name\\':\\'홍길동\\', \\'year\\':\\'2000, \\'month\\':1, \\'day\\':1}를\\n# {\\'name\\':\\'홍길동\\', \\'birth\\':\\'2000-01-01\\'} 로 가공\\n\\nlist(map(lambda member : {\\n                            \\'name\\' : member.get(\\'name\\'),\\n                            \\'birth\\' : \"{year}-{month:02}-{day:02}\".format(**member)\\n                            },\\n          member2\\n))',\n",
       "  \"member2 = list(map(lambda member : {\\n                'name' : member.get('name'),\\n                'year' : int(member['birth'].split('-')[0]),\\n                'month' : int(member['birth'].split('-')[1]),\\n                'day' : int(member['birth'].split('-')[2]),\\n                },\\n       member1  \\n       )\\n    )\",\n",
       "  'member2',\n",
       "  '# {\\'name\\':\\'홍길동\\', \\'year\\':\\'2000, \\'month\\':1, \\'day\\':1}를\\n# {\\'name\\':\\'홍길동\\', \\'birth\\':\\'2000-01-01\\'} 로 가공\\n\\nlist(map(lambda member : {\\n                            \\'name\\' : member.get(\\'name\\'),\\n                            \\'birth\\' : \"{year}-{month:02}-{day:02}\".format(**member)\\n                            },\\n          member2\\n))',\n",
       "  'def evenchk(value):\\n    return value%2==0\\nevenchk(10)',\n",
       "  'def evenchk(value):\\n    return value%2==0\\nevenchk(10) evenchk(9)',\n",
       "  'def evenchk(value):\\n    return value%2==0\\nevenchk(10), evenchk(9)',\n",
       "  'list_data=[1,2,3,4,5]\\nfilter_template(lambda vlaue : value%2==0, list_data)',\n",
       "  'def filter_template(func, L=[]):\\n    result = []\\n    for l in L:\\n        if func(l):\\n            result.append(1)\\n        return result',\n",
       "  'def evenchk(value):\\n    return value%2==0\\nevenchk(10), evenchk(9)',\n",
       "  'list_data=[1,2,3,4,5]\\nfilter_template(lambda vlaue : value%2==0, list_data)',\n",
       "  'def filter_template(func, L=[]):\\n    result = []\\n    for l in L:\\n        if func(l):\\n            result.append(1)\\n        return result',\n",
       "  'def evenchk(value):\\n    return value%2==0\\nevenchk(10), evenchk(9)',\n",
       "  'list_data=[1,2,3,4,5]\\nfilter_template(lambda vlaue : value%2==0, list_data)',\n",
       "  '[data for data in list_data if data%2==0]',\n",
       "  'list_data=[1,2,3,4,5]\\nfilter_template(lambda value : value%2==0, list_data)',\n",
       "  'def filter_template(func, L=[]):\\n    result = []\\n    for l in L:\\n        if func(l):\\n            result.append(1)\\n        return result',\n",
       "  'def evenchk(value):\\n    return value%2==0\\nevenchk(10), evenchk(9)',\n",
       "  'list_data=[1,2,3,4,5]\\nfilter_template(lambda value : value%2==0, list_data)',\n",
       "  'def evenchk(value):\\n    return value%2==0\\nevenchk(10), evenchk(9)',\n",
       "  'list_data=[1,2,3,4,5]\\nfilter_template(lambda value : value%2==0, list_data)',\n",
       "  'list_data=[1,2,3,4,5]\\nfilter_template(lambda value : value%2==0, list_data)',\n",
       "  'list_data',\n",
       "  '(lambda value : value%2==0)(2)',\n",
       "  'def filter_template(func, L=[]):\\n    result = []\\n    for l in L:\\n        if func(l):\\n            result.append(1)\\n    return result',\n",
       "  'list_data=[1,2,3,4,5]\\nfilter_template(lambda value : value%2==0, list_data)',\n",
       "  'def filter_template(func, L=[]):\\n    result = []\\n    for l in L:\\n        if func(l):\\n            result.append(l)\\n    return result',\n",
       "  'def evenchk(value):\\n    return value%2==0\\nevenchk(10), evenchk(9)',\n",
       "  'list_data=[1,2,3,4,5]\\nfilter_template(lambda value : value%2==0, list_data)',\n",
       "  'p = [9,2,7]\\np.sort(reverse=True)\\np',\n",
       "  'number2d = [[9,9], \\n            [1,100],\\n            [10,1]]\\nnumber2d.sort()\\nnumber2d',\n",
       "  'number2d = [[9,9], \\n            [1,100],\\n            [10,1]]\\nnumber2d.sort(reverse=True)\\nnumber2d',\n",
       "  \"pairs=[(2, 'two'),(1, 'one'), (4, 'four'), (3,'three')]\\npairs.sort()\\npairs\",\n",
       "  '# 1번째 item 기준으로 정렬(abc순)\\npairs.sort(key=lambda pair : pair[1])\\npairs',\n",
       "  'number2d = [[9,9,9,9,9,9,], \\n            [1,100],\\n            [10,1]]\\nnumber2d.sort(reverse=True)   #reverse=False : 오름차순 정리\\nnumber2d',\n",
       "  '# 합이 큰순으로 정렬\\nnumbrt2f.sort()',\n",
       "  '# 합이 큰순으로 정렬\\nnumber2f.sort()',\n",
       "  '# 합이 큰순으로 정렬\\nnumber2d.sort()',\n",
       "  '# 합이 큰순으로 정렬\\nnumber2d.sort()',\n",
       "  '# 합이 큰순으로 정렬\\nnumber2d.sort(key = lambda item : sum(item))\\nnumber2d',\n",
       "  '#리스트를 매개변수로 받아 합을 return\\n(lambda item : sum(item))([1,2,3])',\n",
       "  '# 합이 큰순으로 정렬\\nnumber2d.sort(key = lambda item : sum(item), reverse=True)\\nnumber2d',\n",
       "  \"students = [\\n         {'name'='홍길동', 'score':90},\\n         {'name'='김길동', 'score':50},\\n         {'name'='윤길동', 'score':99},\\n]\",\n",
       "  \"students = [\\n         {'name'='홍길동', 'score':90},\\n         {'name'='김길동', 'score':50},\\n         {'name'='윤길동', 'score':99},\\n]\",\n",
       "  \"students = [\\n         {'name':'홍길동', 'score':90},\\n         {'name':'김길동', 'score':50},\\n         {'name':'윤길동', 'score':99},\\n]\",\n",
       "  '# 이름순으로 정렬\\nstudents.sort()\\nstudents',\n",
       "  \"member2 = list(map(lambda member : {\\n                'name' : member.get('name'),\\n                'year' : int(member['birth'].split('-')[0]),\\n                'month' : int(member['birth'].split('-')[1]),\\n                'day' : int(member['birth'].split('-')[2]),\\n                },\\n       member1  \\n       )\\n    )\",\n",
       "  \"students = list(map(lambda students : {\\n                'name' : member.get('name'),\\n                'score' : int(member['score'].split('-')[0]),\\n                },\\n       students  \\n       )\\n    )\",\n",
       "  \"students = list(map(lambda students : {\\n                'name' : students.get('name'),\\n                'score' : int(member['score'].split('-')[0]),\\n                },\\n       students  \\n       )\\n    )\",\n",
       "  \"students = list(map(lambda students : {\\n                'name' : students.get('name'),\\n                'score' : int(students['score'].split('-')[0]),\\n                },\\n       students  \\n       )\\n    )\",\n",
       "  \"students = list(map(lambda students : {\\n                'name' : students.get('name'),\\n                'score' : int(students('score'),\\n                },\\n       students  \\n       )\\n    )\",\n",
       "  \"students = list(map(lambda students : {\\n                'name' : students.get('name'),\\n                'score' : int(students('score'),\\n                }\\n       students  \\n       )\\n    )\",\n",
       "  'def join_date(data):\\n    print(\"{}-{:02}-{:02}\".format(data.get(\\'year\\'), \\n                                data.get(\\'month\\'), \\n                                  data.get(\\'day\\')))',\n",
       "  \"# 이름순으로 정렬\\nstudents.sort(key=lambda student: student('name'))\\nstudents\",\n",
       "  \"# 이름순으로 정렬\\nstudents.sort(key=lambda student: student('name'))\",\n",
       "  \"# 이름순으로 정렬\\nstudents.sort(key=lambda student: student['name'])\",\n",
       "  \"students = [\\n         {'name':'홍길동', 'score':90},\\n         {'name':'김길동', 'score':50},\\n         {'name':'윤길동', 'score':99},\\n]\",\n",
       "  \"# 이름순으로 정렬\\nstudents.sort(key=lambda student: student['name'])\",\n",
       "  \"# 이름순으로 정렬\\nstudents.sort(key=lambda students: student['name'])\",\n",
       "  \"# 이름순으로 정렬\\nstudents.sort(key=lambda students: students['name'])\",\n",
       "  \"# 이름순으로 정렬\\nstudents.sort(key=lambda item : item.get('name'))\\nstudents\",\n",
       "  \"# 이름순으로 정렬\\nstudents.sort(key=lambda data : data.get('name'))\\nstudents\",\n",
       "  \"# 이름순으로 정렬\\nstudents.sort(key=lambda name : name.get('name'))\\nstudents\",\n",
       "  \"# 이름순으로 정렬\\nstudents.sort(key=lambda students : students.get('name'))\\nstudents\",\n",
       "  \"students = [\\n         {'name':'홍길동', 'score':90},\\n         {'name':'김길동', 'score':50},\\n         {'name':'윤길동', 'score':99},\\n         {'score' : 100}\\n]\",\n",
       "  \"# 이름순으로 정렬\\nstudents.sort(key=lambda students : students.get('name'))\\nstudents\",\n",
       "  \"# 이름순으로 정렬\\nstudents.sort(key=lambda students : students.get('name'))\\nstudents\",\n",
       "  \"# 이름순으로 정렬\\nstudents.sort(key=lambda item : item.get('name','가'))\\nstudents\",\n",
       "  \"students = [\\n         {'name':'홍길동', 'score':90},\\n         {'name':'김길동', 'score':50},\\n         {'name':'윤길동', 'score':99},\\n         {'score' : 100}\\n]\",\n",
       "  \"# 이름순으로 정렬\\nstudents.sort(key=lambda item : item.get('name','가'))  # 제일 낮을때는 힣\\nstudents\",\n",
       "  \"# 이름순으로 정렬\\nstudents.sort(key=lambda data : data.get('name','가'))  # 제일 낮을때는 힣\\nstudents\",\n",
       "  \"students = [\\n         {'name':'홍길동', 'score':90},\\n         {'name':'김길동', 'score':50},\\n         {'name':'윤길동', 'score':99},\\n         {'score' : 100}\\n]\",\n",
       "  \"# 이름순으로 정렬\\nstudents.sort(key=lambda data : data.get('name','가'))  # 제일 낮을때는 힣\\nstudents\",\n",
       "  \"#점수 내림차수\\nstudents.sort(key=lambda item: item.get('score',0), reverse=True)\",\n",
       "  \"# 이름순으로 정렬\\nstudents.sort(key=lambda data : data.get('name','가'))  # 제일 낮을때는 힣\\nstudents\",\n",
       "  \"#점수 내림차수\\nstudents.sort(key=lambda item: item.get('score',0), reverse=True)\",\n",
       "  \"#점수 내림차수\\nstudents.sort(key=lambda item: item.get('score',0), reverse=True)\\nstudents\",\n",
       "  \"book.sort(key=lambda item: itme.get('writer'))\",\n",
       "  \"book.sort(key=lambda item: itme.get('writer'))\\nbook\",\n",
       "  \"# 책제목순 정렬(ㄱㄴㄷ 순), 저자순 정렬(ㄱㄴㄷ), 가격순 정렬(오름차순)\\nbook=[\\n    {'no': 1, 'title' : '강남아파트 인사이트', 'writer' : '오스틀', 'price':'25,200'},\\n    {'no': 2, 'title' : '단한번의 삶', 'writer' : '김영하', 'price':'18,200'},\\n    {'no': 3, 'title' : '흔한남매', 'writer' : '백난도', 'price':'19,200'},\\n    {'no': 4, 'title' : '가격이 잘못', 'writer' : '홍길동', 'price':'-'},\\n    {'no': 5, 'title' : '가격이 숫자', 'writer' : '신길동', 'price':'900'},\\n    {'no': 6, 'title' : '가격이 없음', 'writer' : '김길동'},\\n]\",\n",
       "  \"book.sort(key=lambda item: itme.get('writer'))\\nbook\",\n",
       "  \"book.sort(key=lambda item: item.get('writer'))\\nbook\",\n",
       "  \"book.sort(key=lambda item: item.get('title'))\\nbook\",\n",
       "  \"book.sort(key=lambda item: item.get('price'))\\nbook\",\n",
       "  \"#book.sort(key=lambda item: item.get('price'))   이렇게 하면 문자랑 숫자랑 비교하는 것 에러\\n#book\",\n",
       "  \"# 14,000 -> 14000 / 800 -> 800 / '-' -> 0 이렇게 변환해야 한다\",\n",
       "  \"# 14,000 -> 14000 / 800 -> 800 / '-' -> 0 이렇게 변환해야 한다\\ndef parse_int(price):\\n    print(type(price))\",\n",
       "  \"# 14,000 -> 14000 / 800 -> 800 / '-' -> 0 이렇게 변환해야 한다\\ndef parse_int(price):\\n    print(type(price))\",\n",
       "  'parse_int(800)',\n",
       "  'parse_int(\"800\")',\n",
       "  'parse_int(800)',\n",
       "  \"# 14,000 -> 14000 / 800 -> 800 / '-' -> 0 이렇게 변환해야 한다\\ndef parse_int(price):\\n   # print(type(price))\\n   if isinstance(price, int): # price 가 int 인가?\\n        return price\\n    \",\n",
       "  'parse_int(800)',\n",
       "  'parse_int(8000)',\n",
       "  'parse_int(\"8,000\")',\n",
       "  'parse_int(\"8,000\")',\n",
       "  '# 14,000 -> 14000 / \"2000\" -> 2000 / 800 -> 800 / \\'-\\' -> 0 이렇게 변환해야 한다\\ndef parse_int(price):\\n   # print(type(price))\\n   if isinstance(price, str) and price.replace(\\',\\',\\'\\').isdigit():   \\n         return int(price.replace(\\',\\',\\'\\')) # , 가 들어간 것을 그냥 지운다     \\n    elif isinstance(price, int): # price 가 int 인가?\\n         return price',\n",
       "  'parse_int(\"8,000\")',\n",
       "  \"#book.sort(key=lambda item: item.get('price'))   이렇게 하면 문자랑 숫자랑 비교하는 것 에러\\n#book\",\n",
       "  '# 14,000 -> 14000 / \"2000\" -> 2000 / 800 -> 800 / \\'-\\' -> 0 이렇게 변환해야 한다\\ndef parse_int(price):\\n   # print(type(price))\\n   if isinstance(price, str) and price.replace(\\',\\',\\'\\').isdigit():   \\n         return int(price.replace(\\',\\',\\'\\')) # , 가 들어간 것을 그냥 지운다     \\n    elif isinstance(price, int):          # price 가 int 인가?\\n         return price',\n",
       "  'parse_int(\"8,000\")',\n",
       "  '# 14,000 -> 14000 / \"2000\" -> 2000 / 800 -> 800 / \\'-\\' -> 0 이렇게 변환해야 한다\\ndef parse_int(price):\\n   # print(type(price))\\n   if isinstance(price, str) and price.replace(\\',\\',\\'\\').isdigit():   \\n         return int(price.replace(\\',\\',\\'\\')) # , 가 들어간 것을 그냥 지운다     \\n    elif isinstance(price, int):          # price 가 int 인가?\\n         return price',\n",
       "  '# 14,000 -> 14000 / \"2000\" -> 2000 / 800 -> 800 / \\'-\\' -> 0 이렇게 변환해야 한다\\ndef parse_int(price):\\n   # print(type(price))\\n   if isinstance(price, str) and price.replace(\\',\\',\\'\\').isdigit():   \\n         return int(price.replace(\\',\\',\\'\\')) # , 가 들어간 것을 그냥 지운다     \\n    elif isinstance(price, int):          # price 가 int 인가?\\n         return price',\n",
       "  '# 14,000 -> 14000 / \"2000\" -> 2000 / 800 -> 800 / \\'-\\' -> 0 이렇게 변환해야 한다\\ndef parse_int(price):\\n   # print(type(price))\\n   if isinstance(price, str) and price.replace(\\',\\',\\'\\').isdigit():   \\n         return int(price.replace(\\',\\',\\'\\')) # , 가 들어간 것을 그냥 지운다     \\n    elif isinstance(price, int):          # price 가 int 인가?\\n         return price\\n    else:\\n        return 0',\n",
       "  'parse_int(\"8,000\")',\n",
       "  '# 14,000 -> 14000 / \"2000\" -> 2000 / 800 -> 800 / \\'-\\' -> 0 이렇게 변환해야 한다\\ndef parse_int(price):\\n   # print(type(price))\\n   if isinstance(price, str) and price.replace(\\',\\',\\'\\').isdigit():   \\n         return int(price.replace(\\',\\',\\'\\'))          # , 가 들어간 것을 그냥 지운다     \\n    elif isinstance(price, int):                    # price 가 int 인가?\\n         return price\\n    else:\\n        return 0',\n",
       "  'parse_int(\"8,000\")',\n",
       "  '# 14,000 -> 14000 / \"2000\" -> 2000 / 800 -> 800 / \\'-\\' -> 0 이렇게 변환해야 한다\\ndef parse_int(price):\\n   # print(type(price))\\n   if isinstance(price, str) and price.replace(\\',\\',\\'\\').isdigit():   \\n         return int(price.replace(\\',\\',\\'\\'))          # , 가 들어간 것을 그냥 지운다     \\nelif isinstance(price, int):                    # price 가 int 인가?\\n         return price\\nelse:\\n        return 0',\n",
       "  'parse_int(\"8,000\")',\n",
       "  '# 14,000 -> 14000 / \"2000\" -> 2000 / 800 -> 800 / \\'-\\' -> 0 이렇게 변환해야 한다\\ndef parse_int(price):\\n   # print(type(price))\\n   if isinstance(price, str) and price.replace(\\',\\',\\'\\').isdigit():   \\n         return int(price.replace(\\',\\',\\'\\'))          # , 가 들어간 것을 그냥 지운다     \\n    elif isinstance(price, int):                    # price 가 int 인가?\\n         return price\\nelse:\\n        return 0',\n",
       "  '# 14,000 -> 14000 / \"2000\" -> 2000 / 800 -> 800 / \\'-\\' -> 0 이렇게 변환해야 한다\\ndef parse_int(price):\\n   # print(type(price))\\n   if isinstance(price, str) and price.replace(\\',\\',\\'\\').isdigit():   \\n         return int(price.replace(\\',\\',\\'\\'))          # , 가 들어간 것을 그냥 지운다     \\n    elif isinstance(price, int):                    # price 가 int 인가?\\n         return price\\n    else:\\n        return 0',\n",
       "  '# 14,000 -> 14000 / \"2000\" -> 2000 / 800 -> 800 / \\'-\\' -> 0 이렇게 변환해야 한다\\n\\ndef parse_int(price):\\n    # print(type(price))\\n    if isinstance(price, str) and price.replace(\\',\\', \\'\\').isdigit():   \\n        return int(price.replace(\\',\\', \\'\\'))          # , 가 들어간 것을 그냥 지운다     \\n    elif isinstance(price, int):                    # 이제 들여쓰기 OK\\n        return price\\n    else:\\n        return 0',\n",
       "  'parse_int(\"8,000\")',\n",
       "  \"# {'no': 6, 'title': '가격이 없음', 'writer': '김길동'} => 0return\\n# {'no': 3, 'title' : '흔한남매', 'writer' : '백난도', 'price':'19200'} =>19200\\n# {'no': 5, 'title' : '가격이 숫자', 'writer' : '신길동', 'price':'900'} =>900\\ndef parse_int(book):\",\n",
       "  \"# {'no': 6, 'title': '가격이 없음', 'writer': '김길동'} => 0return\\n# {'no': 3, 'title' : '흔한남매', 'writer' : '백난도', 'price':'19200'} =>19200\\n# {'no': 5, 'title' : '가격이 숫자', 'writer' : '신길동', 'price':'900'} =>900\\ndef parse_int(book):\\n    if isinstance(book.get('price'), str) and \\n        book.get('price').replace(',','').isdigit():\\n    return int(book.get('price').replace(',',''))\\n    elif isinstance(book.get('price'), int):\\n        return book.get('price')\\n    else:\\n        return 0\",\n",
       "  \"# {'no': 6, 'title': '가격이 없음', 'writer': '김길동'} => 0return\\n# {'no': 3, 'title' : '흔한남매', 'writer' : '백난도', 'price':'19200'} =>19200\\n# {'no': 5, 'title' : '가격이 숫자', 'writer' : '신길동', 'price':'900'} =>900\\ndef parse_int(book):\\n    if isinstance(book.get('price'), str) and \\n         book.get('price').replace(',','').isdigit():\\n    return int(book.get('price').replace(',',''))\\n    elif isinstance(book.get('price'), int):\\n        return book.get('price')\\n    else:\\n        return 0\",\n",
       "  \"# {'no': 6, 'title': '가격이 없음', 'writer': '김길동'} => 0return\\n# {'no': 3, 'title' : '흔한남매', 'writer' : '백난도', 'price':'19200'} =>19200\\n# {'no': 5, 'title' : '가격이 숫자', 'writer' : '신길동', 'price':'900'} =>900\\ndef parse_int(book):\\n    if isinstance(book.get('price'), str) and\\n         book.get('price').replace(',','').isdigit():\\n    return int(book.get('price').replace(',',''))\\n    elif isinstance(book.get('price'), int):\\n        return book.get('price')\\n    else:\\n        return 0\",\n",
       "  \"# {'no': 6, 'title': '가격이 없음', 'writer': '김길동'} => 0return\\n# {'no': 3, 'title' : '흔한남매', 'writer' : '백난도', 'price':'19200'} =>19200\\n# {'no': 5, 'title' : '가격이 숫자', 'writer' : '신길동', 'price':'900'} =>900\\ndef parse_int(book):\\n    if isinstance(book.get('price'), str) and book.get('price').replace(',','').isdigit():\\n    return int(book.get('price').replace(',',''))\\n    elif isinstance(book.get('price'), int):\\n        return book.get('price')\\n    else:\\n        return 0\",\n",
       "  \"# {'no': 6, 'title': '가격이 없음', 'writer': '김길동'} => 0return\\n# {'no': 3, 'title' : '흔한남매', 'writer' : '백난도', 'price':'19200'} =>19200\\n# {'no': 5, 'title' : '가격이 숫자', 'writer' : '신길동', 'price':'900'} =>900\\ndef parse_int(book):\\n    if isinstance(book.get('price'), str) and book.get('price').replace(',','').isdigit():\\n    return int(book.get('price').replace(',',''))\\n    elif isinstance(book.get('price'), int):\\n        return book.get('price')\\n    else:\\n        return 0\",\n",
       "  \"# {'no': 6, 'title': '가격이 없음', 'writer': '김길동'} => 0return\\n# {'no': 3, 'title' : '흔한남매', 'writer' : '백난도', 'price':'19200'} =>19200\\n# {'no': 5, 'title' : '가격이 숫자', 'writer' : '신길동', 'price':'900'} =>900\\ndef parse_int(book):\\n    if isinstance(book.get('price'), str) and book.get('price').replace(',','').isdigit():\\n        return int(book.get('price').replace(',',''))\\n    elif isinstance(book.get('price'), int):\\n        return book.get('price')\\n    else:\\n        return 0\",\n",
       "  \"# {'no': 6, 'title': '가격이 없음', 'writer': '김길동'} => 0return\\n# {'no': 3, 'title' : '흔한남매', 'writer' : '백난도', 'price':'19200'} =>19200\\n# {'no': 5, 'title' : '가격이 숫자', 'writer' : '신길동', 'price':'900'} =>900\\ndef parse_int(book):\\n    if isinstance(book.get('price'), str) and book.get('price').replace(',','').isdigit():\\n        return int(book.get('price').replace(',',''))\\n    elif isinstance(book.get('price'), int):\\n        return book.get('price')\\n    else:\\n        return 0\\n    # 이 식은 dic 에서 가져온거라 .get() 을 사용함\\nparse_int(books[-])\",\n",
       "  \"# {'no': 6, 'title': '가격이 없음', 'writer': '김길동'} => 0return\\n# {'no': 3, 'title' : '흔한남매', 'writer' : '백난도', 'price':'19200'} =>19200\\n# {'no': 5, 'title' : '가격이 숫자', 'writer' : '신길동', 'price':'900'} =>900\\ndef parse_int(book):\\n    if isinstance(book.get('price'), str) and book.get('price').replace(',','').isdigit():\\n        return int(book.get('price').replace(',',''))\\n    elif isinstance(book.get('price'), int):\\n        return book.get('price')\\n    else:\\n        return 0\\n    # 이 식은 dic 에서 가져온거라 .get() 을 사용함\\nparse_int(book[-])\",\n",
       "  \"# {'no': 6, 'title': '가격이 없음', 'writer': '김길동'} => 0return\\n# {'no': 3, 'title' : '흔한남매', 'writer' : '백난도', 'price':'19200'} =>19200\\n# {'no': 5, 'title' : '가격이 숫자', 'writer' : '신길동', 'price':'900'} =>900\\ndef parse_int(book):\\n    if isinstance(book.get('price'), str) and book.get('price').replace(',','').isdigit():\\n        return int(book.get('price').replace(',',''))\\n    elif isinstance(book.get('price'), int):\\n        return book.get('price')\\n    else:\\n        return 0\\n    # 이 식은 dic 에서 가져온거라 .get() 을 사용함\\nparse_int(book[5])\",\n",
       "  \"# {'no': 6, 'title': '가격이 없음', 'writer': '김길동'} => 0return\\n# {'no': 3, 'title' : '흔한남매', 'writer' : '백난도', 'price':'19200'} =>19200\\n# {'no': 5, 'title' : '가격이 숫자', 'writer' : '신길동', 'price':'900'} =>900\\ndef parse_int(book):\\n    if isinstance(book.get('price'), str) and book.get('price').replace(',','').isdigit():\\n        return int(book.get('price').replace(',',''))\\n    elif isinstance(book.get('price'), int):\\n        return book.get('price')\\n    else:\\n        return 0\\n    # 이 식은 dic 에서 가져온거라 .get() 을 사용함\\nparse_int(book[3])\",\n",
       "  \"# {'no': 6, 'title': '가격이 없음', 'writer': '김길동'} => 0return\\n# {'no': 3, 'title' : '흔한남매', 'writer' : '백난도', 'price':'19200'} =>19200\\n# {'no': 5, 'title' : '가격이 숫자', 'writer' : '신길동', 'price':'900'} =>900\\ndef parse_int(book):\\n    if isinstance(book.get('price'), str) and book.get('price').replace(',','').isdigit():\\n        return int(book.get('price').replace(',',''))\\n    elif isinstance(book.get('price'), int):\\n        return book.get('price')\\n    else:\\n        return 0\\n    # 이 식은 dic 에서 가져온거라 .get() 을 사용함\\nparse_int(book[4])\",\n",
       "  \"# {'no': 6, 'title': '가격이 없음', 'writer': '김길동'} => 0return\\n# {'no': 3, 'title' : '흔한남매', 'writer' : '백난도', 'price':'19200'} =>19200\\n# {'no': 5, 'title' : '가격이 숫자', 'writer' : '신길동', 'price':'900'} =>900\\ndef parse_int(book):\\n    if isinstance(book.get('price'), str) and book.get('price').replace(',','').isdigit():\\n        return int(book.get('price').replace(',',''))\\n    elif isinstance(book.get('price'), int):\\n        return book.get('price')\\n    else:\\n        return 0\\n    # 이 식은 dic 에서 가져온거라 .get() 을 사용함\\nparse_int(book[5])\",\n",
       "  \"# {'no': 6, 'title': '가격이 없음', 'writer': '김길동'} => 0return\\n# {'no': 3, 'title' : '흔한남매', 'writer' : '백난도', 'price':'19200'} =>19200\\n# {'no': 5, 'title' : '가격이 숫자', 'writer' : '신길동', 'price':'900'} =>900\\ndef parse_int(book):\\n    if isinstance(book.get('price'), str) and book.get('price').replace(',','').isdigit():\\n        return int(book.get('price').replace(',',''))\\n    elif isinstance(book.get('price'), int):\\n        return book.get('price')\\n    else:\\n        return 0\\n    # 이 식은 dic 에서 가져온거라 .get() 을 사용함\\nparse_int(book[6])\",\n",
       "  \"# {'no': 6, 'title': '가격이 없음', 'writer': '김길동'} => 0return\\n# {'no': 3, 'title' : '흔한남매', 'writer' : '백난도', 'price':'19200'} =>19200\\n# {'no': 5, 'title' : '가격이 숫자', 'writer' : '신길동', 'price':'900'} =>900\\ndef parse_int(book):\\n    if isinstance(book.get('price'), str) and book.get('price').replace(',','').isdigit():\\n        return int(book.get('price').replace(',',''))\\n    elif isinstance(book.get('price'), int):\\n        return book.get('price')\\n    else:\\n        return 0\\n    # 이 식은 dic 에서 가져온거라 .get() 을 사용함\\nparse_int(book[5])\",\n",
       "  \"book=[\\n    {'no': 1, 'title' : '강남아파트 인사이트', 'writer' : '오스틀', 'price':'25,200'},\\n    {'no': 2, 'title' : '단한번의 삶', 'writer' : '김영하', 'price':'18,200'},\\n    {'no': 3, 'title' : '흔한남매', 'writer' : '백난도', 'price':'19200'},\\n    {'no': 4, 'title' : '가격이 잘못', 'writer' : '홍길동', 'price':'-'},\\n    {'no': 5, 'title' : '가격이 숫자', 'writer' : '신길동', 'price':'900'},\\n    {'no': 6, 'title' : '가격이 없음', 'writer' : '김길동'},\\n]\\ncopy_book = book.copy()\\ncopy_book.sort()\",\n",
       "  \"book=[\\n    {'no': 1, 'title' : '강남아파트 인사이트', 'writer' : '오스틀', 'price':'25,200'},\\n    {'no': 2, 'title' : '단한번의 삶', 'writer' : '김영하', 'price':'18,200'},\\n    {'no': 3, 'title' : '흔한남매', 'writer' : '백난도', 'price':'19200'},\\n    {'no': 4, 'title' : '가격이 잘못', 'writer' : '홍길동', 'price':'-'},\\n    {'no': 5, 'title' : '가격이 숫자', 'writer' : '신길동', 'price':'900'},\\n    {'no': 6, 'title' : '가격이 없음', 'writer' : '김길동'},\\n]\\ncopy_book = book.copy()\",\n",
       "  \"copy_book.sort(key=lambda book : \\n               int(book.get('price').replace(',',''))\\\\\\n                if isinstance(book.get('price'), str) and\\\\\\n                  book.get ('price').replace(',','').isdigit() else\\\\\\n               book.get('price') if isinstance(book.get('price'), int) else\\\\\\n               0, \\n              )\",\n",
       "  \"book=[\\n    {'no': 1, 'title' : '강남아파트 인사이트', 'writer' : '오스틀', 'price':'25,200'},\\n    {'no': 2, 'title' : '단한번의 삶', 'writer' : '김영하', 'price':'18,200'},\\n    {'no': 3, 'title' : '흔한남매', 'writer' : '백난도', 'price':'19200'},\\n    {'no': 4, 'title' : '가격이 잘못', 'writer' : '홍길동', 'price':'-'},\\n    {'no': 5, 'title' : '가격이 숫자', 'writer' : '신길동', 'price':'900'},\\n    {'no': 6, 'title' : '가격이 없음', 'writer' : '김길동'},\\n]\\ncopy_book = book.copy()\",\n",
       "  'copy_books',\n",
       "  'copy_book',\n",
       "  '# 함수를 return\\ndef make_box(shape): #shape : [l] => len가 l인 list를 생성하는 함수 return, \\n                    #        [r,c] => r행 c열인 2차원 list를 생성하는 함수 return\\n                    #        [d,r,c] => d면 r행 c열 3차원 list를 생성하는 함수 return\\n            def box(init_value):\\n                if len(shape)==1:\\n                    return[init_value]*shape[0]\\n                elif len(shape)==2:\\n                    return[[init_value]*shape[1]]*shape[0]\\n                return box',\n",
       "  'line_func = make_box([2,3])',\n",
       "  'line_func = make_box([2,3])\\nline_func(3)',\n",
       "  '# 함수를 return\\ndef make_box(shape): #shape : [l] => len가 l인 list를 생성하는 함수 return, \\n                    #        [r,c] => r행 c열인 2차원 list를 생성하는 함수 return\\n                    #        [d,r,c] => d면 r행 c열 3차원 list를 생성하는 함수 return\\n            def box(init_value):\\n                if len(shape)==1:\\n                    return[init_value]*shape[0]\\n                elif len(shape)==2:\\n                    return[[init_value]*shape[1]]*shape[0]\\n                return box',\n",
       "  'line_func = make_box([2,3])\\nline_func(3)',\n",
       "  '# 함수를 return\\ndef make_box(shape): #shape : [l] => len가 l인 list를 생성하는 함수 return, \\n                    #        [r,c] => r행 c열인 2차원 list를 생성하는 함수 return\\n                    #        [d,r,c] => d면 r행 c열 3차원 list를 생성하는 함수 return\\n            def box(init_value):\\n                if len(shape)==1:\\n                    return[init_value]*shape[0]\\n                elif len(shape)==2:\\n                    return[[init_value]*shape[1]]*shape[0]\\n                return box',\n",
       "  'line_func = make_box([2,3])\\nline_func(3)',\n",
       "  'line_func1 = make_box([10])\\nline_func1(3)',\n",
       "  '# 함수를 return\\ndef make_box(shape): #shape : [l] => len가 l인 list를 생성하는 함수 return, \\n                    #        [r,c] => r행 c열인 2차원 list를 생성하는 함수 return\\n                    #        [d,r,c] => d면 r행 c열 3차원 list를 생성하는 함수 return\\n            def box(init_value):\\n                if len(shape)==1:\\n                    return[init_value]*shape[0]\\n                elif len(shape)==2:\\n                    return[[init_value]*shape[1]]*shape[0]\\n            return box',\n",
       "  'line_func = make_box([2,3])\\nline_func(3)',\n",
       "  'line_func1 = make_box([10])\\nline_func1(3)',\n",
       "  'def make_box(shape):\\n    if len(shape)==1:\\n        return lambda init_vlaue : [init_value]*shape[0]\\n    else len(shape)==2:\\n        return lambda init_vlaue : [[init_vlaue]*shape[1]]*shape[0]',\n",
       "  'def make_box(shape):\\n    if len(shape)==1:\\n        return lambda init_vlaue : [init_value]*shape[0]\\n    elif len(shape)==2:\\n        return lambda init_vlaue : [[init_vlaue]*shape[1]]*shape[0]',\n",
       "  'globals',\n",
       "  'globals()',\n",
       "  'globals() #전역변수 리스트'],\n",
       " 'Out': {6: [2, 4, 6, 8, 10, 12, 14, 16, 18, 20],\n",
       "  12: 5000,\n",
       "  13: <map at 0x2019ad056f0>,\n",
       "  14: [5000, 800, 1000, 6000],\n",
       "  17: {'year': 2000, 'month': 1, 'day': 1},\n",
       "  21: \"\\n예2. member1=[{'name':'홍길동', 'birth':'2000-01-01'},\\n              {'name':'신길동', 'birth':'1998-12-31'},]를\\n     member2=[{'name':'홍길동', 'year':'2000, 'month':1, 'day':1},\\n              {'name':'신길동', 'year':'1998, 'month':12, 'day':31},]를 바꿉니다\\n\",\n",
       "  24: {'year': 2000, 'month': 1, 'day': 1},\n",
       "  28: {'year': 2000, 'month': 1, 'day': 1},\n",
       "  32: {'name': '홍길동', 'year': 2000, 'month': 1, 'day': 1},\n",
       "  33: [{'name': '홍길동', 'year': 2000, 'month': 1, 'day': 1},\n",
       "   {'name': '신길동', 'year': 1998, 'month': 12, 'day': 31}],\n",
       "  35: [{'name': '홍길동', 'year': 2000, 'month': 1, 'day': 1},\n",
       "   {'name': '신길동', 'year': 1998, 'month': 12, 'day': 31}],\n",
       "  69: '2000-01-01',\n",
       "  73: '2000-01-01',\n",
       "  76: '2000-01-01',\n",
       "  80: '2000-01-01',\n",
       "  89: '2000-01-01',\n",
       "  91: '2000-01-01',\n",
       "  93: '2000-01-01',\n",
       "  100: [{'name': '홍길동', 'year': 2000, 'month': 1, 'day': 1},\n",
       "   {'name': '신길동', 'year': 1998, 'month': 12, 'day': 31}],\n",
       "  101: [{'name': '홍길동', 'birth': '2000-01-01'},\n",
       "   {'name': '신길동', 'birth': '1998-12-31'}],\n",
       "  102: True,\n",
       "  104: (True, False),\n",
       "  107: (True, False),\n",
       "  110: (True, False),\n",
       "  112: [2, 4],\n",
       "  113: [],\n",
       "  115: (True, False),\n",
       "  116: [],\n",
       "  117: (True, False),\n",
       "  118: [],\n",
       "  119: [],\n",
       "  120: [1, 2, 3, 4, 5],\n",
       "  121: True,\n",
       "  123: [1, 1],\n",
       "  125: (True, False),\n",
       "  126: [2, 4],\n",
       "  127: [9, 7, 2],\n",
       "  128: [[1, 100], [9, 9], [10, 1]],\n",
       "  129: [[10, 1], [9, 9], [1, 100]],\n",
       "  130: [(4, 'four'), (1, 'one'), (3, 'three'), (2, 'two')],\n",
       "  131: [(4, 'four'), (1, 'one'), (3, 'three'), (2, 'two')],\n",
       "  132: [[1, 100], [9, 9, 9, 9, 9, 9], [10, 1]],\n",
       "  137: [[1, 100], [9, 9, 9, 9, 9, 9], [10, 1]],\n",
       "  138: 6,\n",
       "  139: [[1, 100], [9, 9, 9, 9, 9, 9], [10, 1]],\n",
       "  158: [{'name': '김길동', 'score': 50},\n",
       "   {'name': '윤길동', 'score': 99},\n",
       "   {'name': '홍길동', 'score': 90}],\n",
       "  159: [{'name': '김길동', 'score': 50},\n",
       "   {'name': '윤길동', 'score': 99},\n",
       "   {'name': '홍길동', 'score': 90}],\n",
       "  160: [{'name': '김길동', 'score': 50},\n",
       "   {'name': '윤길동', 'score': 99},\n",
       "   {'name': '홍길동', 'score': 90}],\n",
       "  161: [{'name': '김길동', 'score': 50},\n",
       "   {'name': '윤길동', 'score': 99},\n",
       "   {'name': '홍길동', 'score': 90}],\n",
       "  165: [{'score': 100},\n",
       "   {'name': '김길동', 'score': 50},\n",
       "   {'name': '윤길동', 'score': 99},\n",
       "   {'name': '홍길동', 'score': 90}],\n",
       "  167: [{'score': 100},\n",
       "   {'name': '김길동', 'score': 50},\n",
       "   {'name': '윤길동', 'score': 99},\n",
       "   {'name': '홍길동', 'score': 90}],\n",
       "  168: [{'score': 100},\n",
       "   {'name': '김길동', 'score': 50},\n",
       "   {'name': '윤길동', 'score': 99},\n",
       "   {'name': '홍길동', 'score': 90}],\n",
       "  170: [{'score': 100},\n",
       "   {'name': '윤길동', 'score': 99},\n",
       "   {'name': '홍길동', 'score': 90},\n",
       "   {'name': '김길동', 'score': 50}],\n",
       "  172: [{'score': 100},\n",
       "   {'name': '윤길동', 'score': 99},\n",
       "   {'name': '홍길동', 'score': 90},\n",
       "   {'name': '김길동', 'score': 50}],\n",
       "  174: [{'score': 100},\n",
       "   {'name': '윤길동', 'score': 99},\n",
       "   {'name': '홍길동', 'score': 90},\n",
       "   {'name': '김길동', 'score': 50}],\n",
       "  179: [{'no': 5, 'title': '가격이 숫자', 'writer': '신길동', 'price': '900'},\n",
       "   {'no': 6, 'title': '가격이 없음', 'writer': '김길동'},\n",
       "   {'no': 4, 'title': '가격이 잘못', 'writer': '홍길동', 'price': '-'},\n",
       "   {'no': 1, 'title': '강남아파트 인사이트', 'writer': '오스틀', 'price': '25,200'},\n",
       "   {'no': 2, 'title': '단한번의 삶', 'writer': '김영하', 'price': '18,200'},\n",
       "   {'no': 3, 'title': '흔한남매', 'writer': '백난도', 'price': '19,200'}],\n",
       "  180: [{'no': 5, 'title': '가격이 숫자', 'writer': '신길동', 'price': '900'},\n",
       "   {'no': 6, 'title': '가격이 없음', 'writer': '김길동'},\n",
       "   {'no': 4, 'title': '가격이 잘못', 'writer': '홍길동', 'price': '-'},\n",
       "   {'no': 1, 'title': '강남아파트 인사이트', 'writer': '오스틀', 'price': '25,200'},\n",
       "   {'no': 2, 'title': '단한번의 삶', 'writer': '김영하', 'price': '18,200'},\n",
       "   {'no': 3, 'title': '흔한남매', 'writer': '백난도', 'price': '19,200'}],\n",
       "  190: 800,\n",
       "  191: 8000,\n",
       "  218: 8000,\n",
       "  228: 19200,\n",
       "  229: 25200,\n",
       "  230: 18200,\n",
       "  231: 19200,\n",
       "  233: 19200,\n",
       "  239: [{'no': 1, 'title': '강남아파트 인사이트', 'writer': '오스틀', 'price': '25,200'},\n",
       "   {'no': 2, 'title': '단한번의 삶', 'writer': '김영하', 'price': '18,200'},\n",
       "   {'no': 3, 'title': '흔한남매', 'writer': '백난도', 'price': '19200'},\n",
       "   {'no': 4, 'title': '가격이 잘못', 'writer': '홍길동', 'price': '-'},\n",
       "   {'no': 5, 'title': '가격이 숫자', 'writer': '신길동', 'price': '900'},\n",
       "   {'no': 6, 'title': '가격이 없음', 'writer': '김길동'}],\n",
       "  249: [[3, 3, 3], [3, 3, 3]],\n",
       "  250: [3, 3, 3, 3, 3, 3, 3, 3, 3, 3],\n",
       "  253: <function globals()>,\n",
       "  254: {...}},\n",
       " 'get_ipython': <bound method InteractiveShell.get_ipython of <ipykernel.zmqshell.ZMQInteractiveShell object at 0x0000020199343460>>,\n",
       " 'exit': <IPython.core.autocall.ZMQExitAutocall at 0x2019934f5b0>,\n",
       " 'quit': <IPython.core.autocall.ZMQExitAutocall at 0x2019934f5b0>,\n",
       " 'open': <function io.open(file, mode='r', buffering=-1, encoding=None, errors=None, newline=None, closefd=True, opener=None)>,\n",
       " '_': {...},\n",
       " '__': <function globals()>,\n",
       " '___': [3, 3, 3, 3, 3, 3, 3, 3, 3, 3],\n",
       " '_i': 'globals()',\n",
       " '_ii': 'globals',\n",
       " '_iii': 'def make_box(shape):\\n    if len(shape)==1:\\n        return lambda init_vlaue : [init_value]*shape[0]\\n    elif len(shape)==2:\\n        return lambda init_vlaue : [[init_vlaue]*shape[1]]*shape[0]',\n",
       " '_i1': 'from IPython.display import display, HTML\\ndisplay(HTML(\"\"\"\\n<style>\\ndiv.container{width:86% !important;}\\ndiv.cell.code_cell.rendered{width:100%;}\\ndiv.CodeMirror {font-family:Consolas; font-size:15pt;}\\ndiv.output {font-size:15pt; font-weight:bold;}\\ndiv.input {font-family:Consolas; font-size:15pt;}\\ndiv.prompt {min-width:70px;\\ndiv#toc-wrapper{padding-top:120px;}\\ndiv.text_cell_render ul li{font-size:12pt;padding:5px;}\\ntable.dataframe{font-size:15px;}\\n</style>\\n\"\"\"))',\n",
       " 'display': <function IPython.core.display_functions.display(*objs, include=None, exclude=None, metadata=None, transient=None, display_id=None, raw=False, clear=False, **kwargs)>,\n",
       " 'HTML': IPython.core.display.HTML,\n",
       " '_i2': \"def map_template(func, L=[]):\\n    '''L의 모든 요쇼를 func() 함수를 적용시켜 return\\n    [func(l) for l in L]\\n    '''\\n    restlt : []\\n    for l in L:\\n        result.append(func(1))\\n    return restult\",\n",
       " 'map_template': <function __main__.map_template(func, L=[])>,\n",
       " '_i3': \"def map_template(func, L=[]):\\n    '''L의 모든 요쇼를 func() 함수를 적용시켜 return\\n    [func(l) for l in L]\\n    '''\\n    restlt : []\\n    for l in L:\\n        result.append(func(l))\\n                    #  result = [func(l) for l in L]\\n#    return [func(l) for l in L]\",\n",
       " '_i4': 'list_data = [1,2,3,4,5,6,7,8,9,10]\\ndef x_2(x):\\n    return x*2\\nmap_template(x_2, list_data)',\n",
       " 'list_data': [1, 2, 3, 4, 5],\n",
       " 'x_2': <function __main__.x_2(x)>,\n",
       " '_i5': 'list_data = [1,2,3,4,5,6,7,8,9,10]\\nmap_template(lambda x : x*2, list_data)\\n# def x_2(x):\\n#     return x*2\\n# map_template(x_2, list_data)',\n",
       " '_i6': '# 리스트를 데이터를 가공 방법 3. map(): 파이썬 내장함수\\nlist(map(lambda x : x*2, list_data))',\n",
       " '_6': [2, 4, 6, 8, 10, 12, 14, 16, 18, 20],\n",
       " '_i7': \"for item in map(lambda x : x*2, list_data):\\n    print(item, end='')\",\n",
       " 'item': 20,\n",
       " '_i8': \"def func(x):\\n    return int(x.replace(',',''))\",\n",
       " 'func': <function __main__.func(x)>,\n",
       " '_i9': \"'''\\n예1. prices = [5000,800,1000,6000]로 바꾸시오\\n'''\\nprices = ['5,000', '800', '1000', '6,000']\",\n",
       " 'prices': ['5,000', '800', '1000', '6,000'],\n",
       " '_i10': \"def func(x):\\n    return int(x.replace(',',''))\",\n",
       " '_i11': \"def func(x):\\n    return int(x.replace(',',''))  #, 를 바꾸어줌\\nfunc(5,000)\",\n",
       " '_i12': 'def func(x):\\n    return int(x.replace(\\',\\',\\'\\'))  #, 를 바꾸어줌\\nfunc(\"5,000\")',\n",
       " '_12': 5000,\n",
       " '_i13': \"map(lambda x : int(x.replace(',','')), prices)\",\n",
       " '_13': <map at 0x2019ad056f0>,\n",
       " '_i14': \"list(map(lambda x : int(x.replace(',','')), prices))\",\n",
       " '_14': [5000, 800, 1000, 6000],\n",
       " '_i15': \"#'2000-01-01' => {'year':'2000, 'month':1, 'day':1}\\ndef split_data(date):\\n    split_data = date.split('-')\\n    print(split_data[0], split_data[1], split_data[2])\\n    return {'year': int(split_data[0])\\n            'month': int(split_data[1])\\n            'day': int(split_data[2])\\n           }\",\n",
       " '_i16': \"#'2000-01-01' => {'year':'2000, 'month':1, 'day':1}\\ndef split_data(date):\\n    split_data = date.split('-')\\n    print(split_data[0], split_data[1], split_data[2])\\n    return {'year': int(split_data[0]),\\n            'month': int(split_data[1]),\\n            'day': int(split_data[2])\\n           }\",\n",
       " 'split_data': <function __main__.split_data(date)>,\n",
       " '_i17': 'split_data(\"2000-01-01\")',\n",
       " '_17': {'year': 2000, 'month': 1, 'day': 1},\n",
       " '_i18': 'def member_func(member):    {\\'name\\':\\'신길동\\', \\'birth\\':\\'1998-12-31\\'}을\\n    \"{\\'name\\':\\'신길동\\', \\'year\\':\\'1998, \\'month\\':12, \\'day\\':31}식으로 리턴\" \\n    return{\\n        \\'name\\' : member.get(\\'name\\'),\\n        \\'year\\' : int(memeber[\\'birth\\'].split(\\'-\\')[0]),\\n        \\'month\\' : int(member[\\'birth\\'].split(\\'-\\')[1]),\\n        \\'day\\' : int(member[\\'birth\\'].split(\\'-\\')[2]),\\n    }\\n     ',\n",
       " '_i19': 'def member_func(member):  #  {\\'name\\':\\'신길동\\', \\'birth\\':\\'1998-12-31\\'}을\\n    \"{\\'name\\':\\'신길동\\', \\'year\\':\\'1998, \\'month\\':12, \\'day\\':31}식으로 리턴\" \\n    return{\\n        \\'name\\' : member.get(\\'name\\'),\\n        \\'year\\' : int(memeber[\\'birth\\'].split(\\'-\\')[0]),\\n        \\'month\\' : int(member[\\'birth\\'].split(\\'-\\')[1]),\\n        \\'day\\' : int(member[\\'birth\\'].split(\\'-\\')[2]),\\n    }\\n     ',\n",
       " 'member_func': <function __main__.member_func(member)>,\n",
       " '_i20': 'def member_func(member):  #  {\\'name\\':\\'신길동\\', \\'birth\\':\\'1998-12-31\\'}을\\n    \"{\\'name\\':\\'신길동\\', \\'year\\':\\'1998, \\'month\\':12, \\'day\\':31}식으로 리턴\" \\n    return{\\n        \\'name\\' : member.get(\\'name\\'),\\n        \\'year\\' : int(memeber[\\'birth\\'].split(\\'-\\')[0]),\\n        \\'month\\' : int(member[\\'birth\\'].split(\\'-\\')[1]),\\n        \\'day\\' : int(member[\\'birth\\'].split(\\'-\\')[2]),\\n    }\\nmember_func(member1[0])',\n",
       " '_i21': \"'''\\n예2. member1=[{'name':'홍길동', 'birth':'2000-01-01'},\\n              {'name':'신길동', 'birth':'1998-12-31'},]를\\n     member2=[{'name':'홍길동', 'year':'2000, 'month':1, 'day':1},\\n              {'name':'신길동', 'year':'1998, 'month':12, 'day':31},]를 바꿉니다\\n'''\",\n",
       " '_21': \"\\n예2. member1=[{'name':'홍길동', 'birth':'2000-01-01'},\\n              {'name':'신길동', 'birth':'1998-12-31'},]를\\n     member2=[{'name':'홍길동', 'year':'2000, 'month':1, 'day':1},\\n              {'name':'신길동', 'year':'1998, 'month':12, 'day':31},]를 바꿉니다\\n\",\n",
       " '_i22': \"member1=[{'name':'홍길동', 'birth':'2000-01-01'},\\n        {'name':'신길동', 'birth':'1998-12-31'},]\",\n",
       " 'member1': [{'name': '홍길동', 'birth': '2000-01-01'},\n",
       "  {'name': '신길동', 'birth': '1998-12-31'}],\n",
       " '_i23': \"#'2000-01-01' => {'year':'2000, 'month':1, 'day':1}\\ndef split_data(date):\\n    split_data = date.split('-')\\n    print(split_data[0], split_data[1], split_data[2])\\n    return {'year': int(split_data[0]),\\n            'month': int(split_data[1]),\\n            'day': int(split_data[2])\\n           }\",\n",
       " '_i24': 'split_data(\"2000-01-01\")',\n",
       " '_24': {'year': 2000, 'month': 1, 'day': 1},\n",
       " '_i25': 'def member_func(member):  #  {\\'name\\':\\'신길동\\', \\'birth\\':\\'1998-12-31\\'}을\\n    \"{\\'name\\':\\'신길동\\', \\'year\\':\\'1998, \\'month\\':12, \\'day\\':31}식으로 리턴\" \\n    return{\\n        \\'name\\' : member.get(\\'name\\'),\\n        \\'year\\' : int(memeber[\\'birth\\'].split(\\'-\\')[0]),\\n        \\'month\\' : int(member[\\'birth\\'].split(\\'-\\')[1]),\\n        \\'day\\' : int(member[\\'birth\\'].split(\\'-\\')[2]),\\n    }\\nmember_func(member1[0])',\n",
       " '_i26': 'def member_func(member):  #  {\\'name\\':\\'신길동\\', \\'birth\\':\\'1998-12-31\\'}을\\n    \"{\\'name\\':\\'신길동\\', \\'year\\':\\'1998, \\'month\\':12, \\'day\\':31}식으로 리턴\" \\n    return{\\n        \\'name\\' : member.get(\\'name\\'),\\n        \\'year\\' : int(memeber[\\'birth\\'].split(\\'-\\')[0]),\\n        \\'month\\' : int(member[\\'birth\\'].split(\\'-\\')[1]),\\n        \\'day\\' : int(member[\\'birth\\'].split(\\'-\\')[2]),\\n    }\\nmember_func(member2[0])',\n",
       " '_i27': \"#'2000-01-01' => {'year':'2000, 'month':1, 'day':1}\\ndef split_data(date):\\n    split_data = date.split('-')\\n    print(split_data[0], split_data[1], split_data[2])\\n    return {'year': int(split_data[0]),\\n            'month': int(split_data[1]),\\n            'day': int(split_data[2])\\n           }\",\n",
       " '_i28': 'split_data(\"2000-01-01\")',\n",
       " '_28': {'year': 2000, 'month': 1, 'day': 1},\n",
       " '_i29': 'def member_func(member):  #  {\\'name\\':\\'신길동\\', \\'birth\\':\\'1998-12-31\\'}을\\n    \"{\\'name\\':\\'신길동\\', \\'year\\':\\'1998, \\'month\\':12, \\'day\\':31}식으로 리턴\" \\n    return{\\n        \\'name\\' : member.get(\\'name\\'),\\n        \\'year\\' : int(memeber[\\'birth\\'].split(\\'-\\')[0]),\\n        \\'month\\' : int(member[\\'birth\\'].split(\\'-\\')[1]),\\n        \\'day\\' : int(member[\\'birth\\'].split(\\'-\\')[2]),\\n    }\\nmember_func(member1[0])',\n",
       " '_i30': 'def member_func(member):  #  {\\'name\\':\\'신길동\\', \\'birth\\':\\'1998-12-31\\'}을\\n    \"{\\'name\\':\\'신길동\\', \\'year\\':\\'1998, \\'month\\':12, \\'day\\':31}식으로 리턴\" \\n    return{\\n        \\'name\\' : member.get(\\'name\\'),\\n        \\'year\\' : int(memeber[\\'birth\\'].split(\\'-\\')[0]),\\n        \\'month\\' : int(member[\\'birth\\'].split(\\'-\\')[1]),\\n        \\'day\\' : int(member[\\'birth\\'].split(\\'-\\')[2]),\\n    }\\nmember_func(member1[0])',\n",
       " '_i31': \"list(map(lambda member : {\\n        'name' : member.get('name'),\\n        'year' : int(memeber['birth'].split('-')[0]),\\n        'month' : int(member['birth'].split('-')[1]),\\n        'day' : int(member['birth'].split('-')[2]),\\n          },\\n       member1  \\n       )\\n    )    \",\n",
       " '_i32': 'def member_func(member):  #  {\\'name\\':\\'신길동\\', \\'birth\\':\\'1998-12-31\\'}을\\n    \"{\\'name\\':\\'신길동\\', \\'year\\':\\'1998, \\'month\\':12, \\'day\\':31}식으로 리턴\" \\n    return{\\n        \\'name\\' : member.get(\\'name\\'),\\n        \\'year\\' : int(member[\\'birth\\'].split(\\'-\\')[0]),\\n        \\'month\\' : int(member[\\'birth\\'].split(\\'-\\')[1]),\\n        \\'day\\' : int(member[\\'birth\\'].split(\\'-\\')[2]),\\n    }\\nmember_func(member1[0])',\n",
       " '_32': {'name': '홍길동', 'year': 2000, 'month': 1, 'day': 1},\n",
       " '_i33': \"list(map(lambda member : {\\n                'name' : member.get('name'),\\n                'year' : int(member['birth'].split('-')[0]),\\n                'month' : int(member['birth'].split('-')[1]),\\n                'day' : int(member['birth'].split('-')[2]),\\n          },\\n       member1  \\n       )\\n    )    \",\n",
       " '_33': [{'name': '홍길동', 'year': 2000, 'month': 1, 'day': 1},\n",
       "  {'name': '신길동', 'year': 1998, 'month': 12, 'day': 31}],\n",
       " '_i34': \"list(map(lambda member : {\\n                'name' : member.get('name'),\\n                'year' : int(member['birth'].split('-')[0]),\\n                'month' : int(member['birth'].split('-')[1]),\\n                'day' : int(member['birth'].split('-')[2]),\\n          },\\n       member1  \\n       )\\n    )\\nmember2\",\n",
       " '_i35': \"list(map(lambda member : {\\n                'name' : member.get('name'),\\n                'year' : int(member['birth'].split('-')[0]),\\n                'month' : int(member['birth'].split('-')[1]),\\n                'day' : int(member['birth'].split('-')[2]),\\n                },\\n       member1  \\n       )\\n    )\",\n",
       " '_35': [{'name': '홍길동', 'year': 2000, 'month': 1, 'day': 1},\n",
       "  {'name': '신길동', 'year': 1998, 'month': 12, 'day': 31}],\n",
       " '_i36': 'def join_date(data):\\n    print(data)',\n",
       " 'join_date': <function __main__.join_date(data)>,\n",
       " '_i37': \"join_data({'year': 2000, 'month': 1, 'day': 1})\",\n",
       " '_i38': \"join_date({'year': 2000, 'month': 1, 'day': 1})\",\n",
       " '_i39': \"join_date({'year': 2000, 'month': 1, 'day': 1})\\njoin_data[0]\",\n",
       " '_i40': \"join_date({'year': 2000, 'month': 1, 'day': 1})\\nlist(join_data[0])\",\n",
       " '_i41': \"join_date({'year': 2000, 'month': 1, 'day': 1})\\nlist(join_date[0])\",\n",
       " '_i42': \"join_date({'year': 2000, 'month': 1, 'day': 1})\\njoin_date[0]\",\n",
       " '_i43': \"join_date({'year': 2000, 'month': 1, 'day': 1})\\nvalue=join_date.vlaue()\",\n",
       " '_i44': 'def join_date(data):\\n    print(data)',\n",
       " '_i45': \"join_date({'year': 2000, 'month': 1, 'day': 1})\\nvalue=join_date.vlaue()\",\n",
       " '_i46': \"join_date({'year': 2000, 'month': 1, 'day': 1})\\nvalue=join_date.value()\",\n",
       " '_i47': \"join_date({'year': 2000, 'month': 1, 'day': 1})\\nvalue=join_date.value()\\nprint(value)\",\n",
       " '_i48': \"join_date({'year': 2000, 'month': 1, 'day': 1})\\nprint(join_data)\",\n",
       " '_i49': \"def join_date(data):\\n    print(data.get('year'), data.get('month'), data.get('day'))\",\n",
       " '_i50': \"join_date({'year': 2000, 'month': 1, 'day': 1})\",\n",
       " '_i51': \"def join_date(data):\\n    print([data.get('year'), data.get('month'), data.get('day')])  # 숫자 리스트\\n    return '-'.join([data.get('year'), data.get('month'), data.get('day')])\",\n",
       " '_i52': \"join_date({'year': 2000, 'month': 1, 'day': 1})\",\n",
       " '_i53': \"join_date({'year': 2000, 'month': 1, 'day': 1})\",\n",
       " '_i54': \"join_date({'year': 2000, 'month': 1, 'day': 1})\\nprint(data.get(year))\",\n",
       " '_i55': \"join_date({'year': 2000, 'month': 1, 'day': 1})\\nprint(data.get(year))\",\n",
       " '_i56': \"join_date({'year': 2000, 'month': 1, 'day': 1})\\nprint(join_date.get(year))\",\n",
       " '_i57': \"join_date({'year': 2000, 'month': 1, 'day': 1})\\nprint(join_date.get('year'))\",\n",
       " '_i58': \"def join_date(data):\\n    print([data.get('year'), data.get('month'), data.get('day')])  # 숫자 리스트\\n    year = str(data.get('year'))\\n    month = data.get('month')\\n    if month < 10:\\n        month = '0'+ str(month)\\n    else:\\n        month = str(month)\\n    day = data.get('day')\\n    if day < 10:\\n        month = '0'+ str(day)\\n    else:\\n        month = str(day)\\n    return '-'.join([data.get('year'), data.get('month'), data.get('day')])\",\n",
       " '_i59': \"join_date({'year': 2000, 'month': 1, 'day': 1})\\nprint(join_date.get('year'))\",\n",
       " '_i60': \"join_date({'year': 2000, 'month': 1, 'day': 1})\",\n",
       " '_i61': \"def join_date(data):\\n    print([data.get('year'), data.get('month'), data.get('day')])  # 숫자 리스트\\n    year = str(data.get('year'))\\n    month = data.get('month')\\n    if month < 10:\\n        month = '0'+ str(month)\\n    else:\\n        month = str(month)\\n    day = data.get('day')\\n    if day < 10:\\n        month = '0'+ str(day)\\n    else:\\n        month = str(day)\\n    return '-'.join([data.get('year'), data.get('month'), data.get('day')])\",\n",
       " '_i62': \"join_date({'year': 2000, 'month': 1, 'day': 1})\",\n",
       " '_i63': \"# {'year': 2000, 'month': 1, 'day': 1} 를 '2000-01-01' 를 return 하는 함수\",\n",
       " '_i64': \"def join_date(data):\\n    print([data.get('year'), data.get('month'), data.get('day')])  # 숫자 리스트\\n    year = str(data.get('year'))\\n    month = data.get('month')\\n    if month < 10:\\n        month = '0'+ str(month)\\n    else:\\n        month = str(month)\\n    day = data.get('day')\\n    if day < 10:\\n        month = '0'+ str(day)\\n    else:\\n        month = str(day)\\n    return '-'.join([data.get('year'), data.get('month'), data.get('day')])\",\n",
       " '_i65': \"join_date({'year': 2000, 'month': 1, 'day': 1})\",\n",
       " '_i66': \"def join_date(data):\\n    print([data.get('year'), data.get('month'), data.get('day')])  # 숫자 리스트\\n    year = str(data.get('year'))\\n    month = data.get('month')\\n    if month < 10:\\n        month = '0'+ str(month)\\n    else:\\n        month = str(month)\\n    day = data.get('day')\\n    if day < 10:\\n        month = '0'+ str(day)\\n    else:\\n        month = str(day)\\n    return '-'.join([year, month, day])\",\n",
       " '_i67': \"join_date({'year': 2000, 'month': 1, 'day': 1})\",\n",
       " '_i68': \"def join_date(data):\\n    print([data.get('year'), data.get('month'), data.get('day')])  # 숫자 리스트\\n    year = str(data.get('year'))\\n    month = data.get('month')\\n    if month < 10:\\n        month = '0'+ str(month)\\n    else:\\n        month = str(month)\\n    day = data.get('day')\\n    if day < 10:\\n        day = '0'+ str(day)\\n    else:\\n        day = str(day)\\n    return '-'.join([year, month, day])\",\n",
       " '_i69': \"join_date({'year': 2000, 'month': 1, 'day': 1})\",\n",
       " '_69': '2000-01-01',\n",
       " '_i70': 'def join_date(data):\\n    print(\"{}-{:02}-{:02}\".format(data.get(\\'year\\'), \\n                                data.get(\\'month\\'), \\n                                  data.get(\\'day\\')))',\n",
       " '_i71': \"join_date({'year': 2000, 'month': 1, 'day': 1})\",\n",
       " '_i72': 'def join_date(data):\\n    return(\"{}-{:02}-{:02}\".format(data.get(\\'year\\'), \\n                                data.get(\\'month\\'), \\n                                  data.get(\\'day\\')))',\n",
       " '_i73': \"join_date({'year': 2000, 'month': 1, 'day': 1})\",\n",
       " '_73': '2000-01-01',\n",
       " '_i74': \"def join_date(data):\\n    print([data.get('year'), data.get('month'), data.get('day')])  # 숫자 리스트\\n    year = str(data.get('year'))\\n    month = data.get('month')\\n    if month < 10:\\n        month = '0'+ str(month)\\n    else:\\n        month = str(month)\\n    day = data.get('day')\\n    if day < 10:\\n        day = '0'+ str(day)\\n    else:\\n        day = str(day)\\n    return '-'.join([year, month, day])\",\n",
       " '_i75': 'def join_date(data):\\n    return(\"{}-{:02}-{:02}\".format(data.get(\\'year\\'), \\n                                data.get(\\'month\\'), \\n                                  data.get(\\'day\\')))',\n",
       " '_i76': \"join_date({'year': 2000, 'month': 1, 'day': 1})\",\n",
       " '_76': '2000-01-01',\n",
       " '_i77': 'def join_date(data):\\n    print(\"{}-{:02}-{:02}\".format(data.get(\\'year\\'), \\n                                data.get(\\'month\\'), \\n                                  data.get(\\'day\\')))',\n",
       " '_i78': \"join_date({'year': 2000, 'month': 1, 'day': 1})\",\n",
       " '_i79': 'def join_date(data):\\n    return(\"{}-{:02}-{:02}\".format(data.get(\\'year\\'), \\n                                data.get(\\'month\\'), \\n                                  data.get(\\'day\\')))',\n",
       " '_i80': \"join_date({'year': 2000, 'month': 1, 'day': 1})\",\n",
       " '_80': '2000-01-01',\n",
       " '_i81': 'def join_date(data):\\n    print(\"{}-{:02}-{:02}\".format(data.get(\\'year\\'), \\n                                data.get(\\'month\\'), \\n                                  data.get(\\'day\\')))',\n",
       " '_i82': \"join_date({'year': 2000, 'month': 1, 'day': 1})\",\n",
       " '_i83': 'def join_date(data):\\n    print(\"{year}-{month:02}-{day:02}\".format(\\n                                year=data.get(\\'year\\'), \\n                                month=data.get(\\'month\\'), \\n                                day=data.get(\\'day\\')))',\n",
       " '_i84': 'def join_date(data):\\n    print(\"{year}-{month:02}-{day:02}\".format(\\n                                year=data.get(\\'year\\'), \\n                                month=data.get(\\'month\\'), \\n                                day=data.get(\\'day\\')))',\n",
       " '_i85': \"join_date({'year': 2000, 'month': 1, 'day': 1})\",\n",
       " '_i86': 'def join_date(data):\\n    print(\"{year}-{month:02}-{day:02}\".format(**data))',\n",
       " '_i87': \"join_date({'year': 2000, 'month': 1, 'day': 1})\",\n",
       " '_i88': 'def join_date(data):   # 가장 쉽게 풀어쓰는 것\\n    return(\"{year}-{month:02}-{day:02}\".format(**data))',\n",
       " '_i89': \"join_date({'year': 2000, 'month': 1, 'day': 1})\",\n",
       " '_89': '2000-01-01',\n",
       " '_i90': 'def join_date(data):   # 가장 쉽게 풀어쓰는 것\\n    return\"{year}-{month:02}-{day:02}\".format(**data)',\n",
       " '_i91': \"join_date({'year': 2000, 'month': 1, 'day': 1})\",\n",
       " '_91': '2000-01-01',\n",
       " '_i92': '# {\\'name\\':\\'홍길동\\', \\'year\\':\\'2000, \\'month\\':1, \\'day\\':1}를\\n# {\\'name\\':\\'홍길동\\', \\'birth\\':\\'2000-01-01\\'} 로 가공\\n\\nlist(map(lambda member : {\\n                            \\'name\\' : member.get(\\'name\\'),\\n                            \\'birth\\' : \"{year}-{month:02}-{day:02}\".format(**member)\"\\n                            },\\n          memeber2\\n))',\n",
       " '_i93': \"join_date({'year': 2000, 'month': 1, 'day': 1})\",\n",
       " '_93': '2000-01-01',\n",
       " '_i94': '# {\\'name\\':\\'홍길동\\', \\'year\\':\\'2000, \\'month\\':1, \\'day\\':1}를\\n# {\\'name\\':\\'홍길동\\', \\'birth\\':\\'2000-01-01\\'} 로 가공\\n\\nlist(map(lambda member : {\\n                            \\'name\\' : member.get(\\'name\\'),\\n                            \\'birth\\' : \"{year}-{month:02}-{day:02}\".format(**member)\"\\n                            },\\n          memeber2\\n))',\n",
       " '_i95': '# {\\'name\\':\\'홍길동\\', \\'year\\':\\'2000, \\'month\\':1, \\'day\\':1}를\\n# {\\'name\\':\\'홍길동\\', \\'birth\\':\\'2000-01-01\\'} 로 가공\\n\\nlist(map(lambda member : {\\n                            \\'name\\' : member.get(\\'name\\'),\\n                            \\'birth\\' : \"{year}-{month:02}-{day:02}\".format(**member)\"\\n                            },\\n          member2\\n))',\n",
       " '_i96': '# {\\'name\\':\\'홍길동\\', \\'year\\':\\'2000, \\'month\\':1, \\'day\\':1}를\\n# {\\'name\\':\\'홍길동\\', \\'birth\\':\\'2000-01-01\\'} 로 가공\\n\\nlist(map(lambda member : {\\n                            \\'name\\' : member.get(\\'name\\'),\\n                            \\'birth\\' : \"{year}-{month:02}-{day:02}\".format(**member)\\n                            },\\n          member2\\n))',\n",
       " '_i97': '# {\\'name\\':\\'홍길동\\', \\'year\\':\\'2000, \\'month\\':1, \\'day\\':1}를\\n# {\\'name\\':\\'홍길동\\', \\'birth\\':\\'2000-01-01\\'} 로 가공\\n\\nlist(map(lambda member : {\\n                            \\'name\\' : member.get(\\'name\\'),\\n                            \\'birth\\' : \"{year}-{month:02}-{day:02}\".format(**member)\\n                            },\\n          member2\\n))',\n",
       " '_i98': '# {\\'name\\':\\'홍길동\\', \\'year\\':\\'2000, \\'month\\':1, \\'day\\':1}를\\n# {\\'name\\':\\'홍길동\\', \\'birth\\':\\'2000-01-01\\'} 로 가공\\n\\nlist(map(lambda member : {\\n                            \\'name\\' : member.get(\\'name\\'),\\n                            \\'birth\\' : \"{year}-{month:02}-{day:02}\".format(**member)\\n                            },\\n          member2\\n))',\n",
       " '_i99': \"member2 = list(map(lambda member : {\\n                'name' : member.get('name'),\\n                'year' : int(member['birth'].split('-')[0]),\\n                'month' : int(member['birth'].split('-')[1]),\\n                'day' : int(member['birth'].split('-')[2]),\\n                },\\n       member1  \\n       )\\n    )\",\n",
       " 'member2': [{'name': '홍길동', 'year': 2000, 'month': 1, 'day': 1},\n",
       "  {'name': '신길동', 'year': 1998, 'month': 12, 'day': 31}],\n",
       " '_i100': 'member2',\n",
       " '_100': [{'name': '홍길동', 'year': 2000, 'month': 1, 'day': 1},\n",
       "  {'name': '신길동', 'year': 1998, 'month': 12, 'day': 31}],\n",
       " '_i101': '# {\\'name\\':\\'홍길동\\', \\'year\\':\\'2000, \\'month\\':1, \\'day\\':1}를\\n# {\\'name\\':\\'홍길동\\', \\'birth\\':\\'2000-01-01\\'} 로 가공\\n\\nlist(map(lambda member : {\\n                            \\'name\\' : member.get(\\'name\\'),\\n                            \\'birth\\' : \"{year}-{month:02}-{day:02}\".format(**member)\\n                            },\\n          member2\\n))',\n",
       " '_101': [{'name': '홍길동', 'birth': '2000-01-01'},\n",
       "  {'name': '신길동', 'birth': '1998-12-31'}],\n",
       " '_i102': 'def evenchk(value):\\n    return value%2==0\\nevenchk(10)',\n",
       " 'evenchk': <function __main__.evenchk(value)>,\n",
       " '_102': True,\n",
       " '_i103': 'def evenchk(value):\\n    return value%2==0\\nevenchk(10) evenchk(9)',\n",
       " '_i104': 'def evenchk(value):\\n    return value%2==0\\nevenchk(10), evenchk(9)',\n",
       " '_104': (True, False),\n",
       " '_i105': 'list_data=[1,2,3,4,5]\\nfilter_template(lambda vlaue : value%2==0, list_data)',\n",
       " '_i106': 'def filter_template(func, L=[]):\\n    result = []\\n    for l in L:\\n        if func(l):\\n            result.append(1)\\n        return result',\n",
       " 'filter_template': <function __main__.filter_template(func, L=[])>,\n",
       " '_i107': 'def evenchk(value):\\n    return value%2==0\\nevenchk(10), evenchk(9)',\n",
       " '_107': (True, False),\n",
       " '_i108': 'list_data=[1,2,3,4,5]\\nfilter_template(lambda vlaue : value%2==0, list_data)',\n",
       " '_i109': 'def filter_template(func, L=[]):\\n    result = []\\n    for l in L:\\n        if func(l):\\n            result.append(1)\\n        return result',\n",
       " '_i110': 'def evenchk(value):\\n    return value%2==0\\nevenchk(10), evenchk(9)',\n",
       " '_110': (True, False),\n",
       " '_i111': 'list_data=[1,2,3,4,5]\\nfilter_template(lambda vlaue : value%2==0, list_data)',\n",
       " '_i112': '[data for data in list_data if data%2==0]',\n",
       " '_112': [2, 4],\n",
       " '_i113': 'list_data=[1,2,3,4,5]\\nfilter_template(lambda value : value%2==0, list_data)',\n",
       " '_113': [],\n",
       " '_i114': 'def filter_template(func, L=[]):\\n    result = []\\n    for l in L:\\n        if func(l):\\n            result.append(1)\\n        return result',\n",
       " '_i115': 'def evenchk(value):\\n    return value%2==0\\nevenchk(10), evenchk(9)',\n",
       " '_115': (True, False),\n",
       " '_i116': 'list_data=[1,2,3,4,5]\\nfilter_template(lambda value : value%2==0, list_data)',\n",
       " '_116': [],\n",
       " '_i117': 'def evenchk(value):\\n    return value%2==0\\nevenchk(10), evenchk(9)',\n",
       " '_117': (True, False),\n",
       " '_i118': 'list_data=[1,2,3,4,5]\\nfilter_template(lambda value : value%2==0, list_data)',\n",
       " '_118': [],\n",
       " '_i119': 'list_data=[1,2,3,4,5]\\nfilter_template(lambda value : value%2==0, list_data)',\n",
       " '_119': [],\n",
       " '_i120': 'list_data',\n",
       " '_120': [1, 2, 3, 4, 5],\n",
       " '_i121': '(lambda value : value%2==0)(2)',\n",
       " '_121': True,\n",
       " '_i122': 'def filter_template(func, L=[]):\\n    result = []\\n    for l in L:\\n        if func(l):\\n            result.append(1)\\n    return result',\n",
       " '_i123': 'list_data=[1,2,3,4,5]\\nfilter_template(lambda value : value%2==0, list_data)',\n",
       " '_123': [1, 1],\n",
       " '_i124': 'def filter_template(func, L=[]):\\n    result = []\\n    for l in L:\\n        if func(l):\\n            result.append(l)\\n    return result',\n",
       " '_i125': 'def evenchk(value):\\n    return value%2==0\\nevenchk(10), evenchk(9)',\n",
       " '_125': (True, False),\n",
       " '_i126': 'list_data=[1,2,3,4,5]\\nfilter_template(lambda value : value%2==0, list_data)',\n",
       " '_126': [2, 4],\n",
       " '_i127': 'p = [9,2,7]\\np.sort(reverse=True)\\np',\n",
       " 'p': [9, 7, 2],\n",
       " '_127': [9, 7, 2],\n",
       " '_i128': 'number2d = [[9,9], \\n            [1,100],\\n            [10,1]]\\nnumber2d.sort()\\nnumber2d',\n",
       " 'number2d': [[1, 100], [9, 9, 9, 9, 9, 9], [10, 1]],\n",
       " '_128': [[1, 100], [9, 9], [10, 1]],\n",
       " '_i129': 'number2d = [[9,9], \\n            [1,100],\\n            [10,1]]\\nnumber2d.sort(reverse=True)\\nnumber2d',\n",
       " '_129': [[10, 1], [9, 9], [1, 100]],\n",
       " '_i130': \"pairs=[(2, 'two'),(1, 'one'), (4, 'four'), (3,'three')]\\npairs.sort()\\npairs\",\n",
       " 'pairs': [(4, 'four'), (1, 'one'), (3, 'three'), (2, 'two')],\n",
       " '_130': [(4, 'four'), (1, 'one'), (3, 'three'), (2, 'two')],\n",
       " '_i131': '# 1번째 item 기준으로 정렬(abc순)\\npairs.sort(key=lambda pair : pair[1])\\npairs',\n",
       " '_131': [(4, 'four'), (1, 'one'), (3, 'three'), (2, 'two')],\n",
       " '_i132': 'number2d = [[9,9,9,9,9,9,], \\n            [1,100],\\n            [10,1]]\\nnumber2d.sort(reverse=True)   #reverse=False : 오름차순 정리\\nnumber2d',\n",
       " '_132': [[1, 100], [9, 9, 9, 9, 9, 9], [10, 1]],\n",
       " '_i133': '# 합이 큰순으로 정렬\\nnumbrt2f.sort()',\n",
       " '_i134': '# 합이 큰순으로 정렬\\nnumber2f.sort()',\n",
       " '_i135': '# 합이 큰순으로 정렬\\nnumber2d.sort()',\n",
       " '_i136': '# 합이 큰순으로 정렬\\nnumber2d.sort()',\n",
       " '_i137': '# 합이 큰순으로 정렬\\nnumber2d.sort(key = lambda item : sum(item))\\nnumber2d',\n",
       " '_137': [[1, 100], [9, 9, 9, 9, 9, 9], [10, 1]],\n",
       " '_i138': '#리스트를 매개변수로 받아 합을 return\\n(lambda item : sum(item))([1,2,3])',\n",
       " '_138': 6,\n",
       " '_i139': '# 합이 큰순으로 정렬\\nnumber2d.sort(key = lambda item : sum(item), reverse=True)\\nnumber2d',\n",
       " '_139': [[1, 100], [9, 9, 9, 9, 9, 9], [10, 1]],\n",
       " '_i140': \"students = [\\n         {'name'='홍길동', 'score':90},\\n         {'name'='김길동', 'score':50},\\n         {'name'='윤길동', 'score':99},\\n]\",\n",
       " '_i141': \"students = [\\n         {'name'='홍길동', 'score':90},\\n         {'name'='김길동', 'score':50},\\n         {'name'='윤길동', 'score':99},\\n]\",\n",
       " '_i142': \"students = [\\n         {'name':'홍길동', 'score':90},\\n         {'name':'김길동', 'score':50},\\n         {'name':'윤길동', 'score':99},\\n]\",\n",
       " 'students': [{'score': 100},\n",
       "  {'name': '윤길동', 'score': 99},\n",
       "  {'name': '홍길동', 'score': 90},\n",
       "  {'name': '김길동', 'score': 50}],\n",
       " '_i143': '# 이름순으로 정렬\\nstudents.sort()\\nstudents',\n",
       " '_i144': \"member2 = list(map(lambda member : {\\n                'name' : member.get('name'),\\n                'year' : int(member['birth'].split('-')[0]),\\n                'month' : int(member['birth'].split('-')[1]),\\n                'day' : int(member['birth'].split('-')[2]),\\n                },\\n       member1  \\n       )\\n    )\",\n",
       " '_i145': \"students = list(map(lambda students : {\\n                'name' : member.get('name'),\\n                'score' : int(member['score'].split('-')[0]),\\n                },\\n       students  \\n       )\\n    )\",\n",
       " '_i146': \"students = list(map(lambda students : {\\n                'name' : students.get('name'),\\n                'score' : int(member['score'].split('-')[0]),\\n                },\\n       students  \\n       )\\n    )\",\n",
       " '_i147': \"students = list(map(lambda students : {\\n                'name' : students.get('name'),\\n                'score' : int(students['score'].split('-')[0]),\\n                },\\n       students  \\n       )\\n    )\",\n",
       " '_i148': \"students = list(map(lambda students : {\\n                'name' : students.get('name'),\\n                'score' : int(students('score'),\\n                },\\n       students  \\n       )\\n    )\",\n",
       " '_i149': \"students = list(map(lambda students : {\\n                'name' : students.get('name'),\\n                'score' : int(students('score'),\\n                }\\n       students  \\n       )\\n    )\",\n",
       " '_i150': 'def join_date(data):\\n    print(\"{}-{:02}-{:02}\".format(data.get(\\'year\\'), \\n                                data.get(\\'month\\'), \\n                                  data.get(\\'day\\')))',\n",
       " '_i151': \"# 이름순으로 정렬\\nstudents.sort(key=lambda student: student('name'))\\nstudents\",\n",
       " '_i152': \"# 이름순으로 정렬\\nstudents.sort(key=lambda student: student('name'))\",\n",
       " '_i153': \"# 이름순으로 정렬\\nstudents.sort(key=lambda student: student['name'])\",\n",
       " '_i154': \"students = [\\n         {'name':'홍길동', 'score':90},\\n         {'name':'김길동', 'score':50},\\n         {'name':'윤길동', 'score':99},\\n]\",\n",
       " '_i155': \"# 이름순으로 정렬\\nstudents.sort(key=lambda student: student['name'])\",\n",
       " '_i156': \"# 이름순으로 정렬\\nstudents.sort(key=lambda students: student['name'])\",\n",
       " '_i157': \"# 이름순으로 정렬\\nstudents.sort(key=lambda students: students['name'])\",\n",
       " '_i158': \"# 이름순으로 정렬\\nstudents.sort(key=lambda item : item.get('name'))\\nstudents\",\n",
       " '_158': [{'name': '김길동', 'score': 50},\n",
       "  {'name': '윤길동', 'score': 99},\n",
       "  {'name': '홍길동', 'score': 90}],\n",
       " '_i159': \"# 이름순으로 정렬\\nstudents.sort(key=lambda data : data.get('name'))\\nstudents\",\n",
       " '_159': [{'name': '김길동', 'score': 50},\n",
       "  {'name': '윤길동', 'score': 99},\n",
       "  {'name': '홍길동', 'score': 90}],\n",
       " '_i160': \"# 이름순으로 정렬\\nstudents.sort(key=lambda name : name.get('name'))\\nstudents\",\n",
       " '_160': [{'name': '김길동', 'score': 50},\n",
       "  {'name': '윤길동', 'score': 99},\n",
       "  {'name': '홍길동', 'score': 90}],\n",
       " '_i161': \"# 이름순으로 정렬\\nstudents.sort(key=lambda students : students.get('name'))\\nstudents\",\n",
       " '_161': [{'name': '김길동', 'score': 50},\n",
       "  {'name': '윤길동', 'score': 99},\n",
       "  {'name': '홍길동', 'score': 90}],\n",
       " '_i162': \"students = [\\n         {'name':'홍길동', 'score':90},\\n         {'name':'김길동', 'score':50},\\n         {'name':'윤길동', 'score':99},\\n         {'score' : 100}\\n]\",\n",
       " '_i163': \"# 이름순으로 정렬\\nstudents.sort(key=lambda students : students.get('name'))\\nstudents\",\n",
       " '_i164': \"# 이름순으로 정렬\\nstudents.sort(key=lambda students : students.get('name'))\\nstudents\",\n",
       " '_i165': \"# 이름순으로 정렬\\nstudents.sort(key=lambda item : item.get('name','가'))\\nstudents\",\n",
       " '_165': [{'score': 100},\n",
       "  {'name': '김길동', 'score': 50},\n",
       "  {'name': '윤길동', 'score': 99},\n",
       "  {'name': '홍길동', 'score': 90}],\n",
       " '_i166': \"students = [\\n         {'name':'홍길동', 'score':90},\\n         {'name':'김길동', 'score':50},\\n         {'name':'윤길동', 'score':99},\\n         {'score' : 100}\\n]\",\n",
       " '_i167': \"# 이름순으로 정렬\\nstudents.sort(key=lambda item : item.get('name','가'))  # 제일 낮을때는 힣\\nstudents\",\n",
       " '_167': [{'score': 100},\n",
       "  {'name': '김길동', 'score': 50},\n",
       "  {'name': '윤길동', 'score': 99},\n",
       "  {'name': '홍길동', 'score': 90}],\n",
       " '_i168': \"# 이름순으로 정렬\\nstudents.sort(key=lambda data : data.get('name','가'))  # 제일 낮을때는 힣\\nstudents\",\n",
       " '_168': [{'score': 100},\n",
       "  {'name': '김길동', 'score': 50},\n",
       "  {'name': '윤길동', 'score': 99},\n",
       "  {'name': '홍길동', 'score': 90}],\n",
       " '_i169': \"students = [\\n         {'name':'홍길동', 'score':90},\\n         {'name':'김길동', 'score':50},\\n         {'name':'윤길동', 'score':99},\\n         {'score' : 100}\\n]\",\n",
       " '_i170': \"# 이름순으로 정렬\\nstudents.sort(key=lambda data : data.get('name','가'))  # 제일 낮을때는 힣\\nstudents\",\n",
       " '_170': [{'score': 100},\n",
       "  {'name': '윤길동', 'score': 99},\n",
       "  {'name': '홍길동', 'score': 90},\n",
       "  {'name': '김길동', 'score': 50}],\n",
       " '_i171': \"#점수 내림차수\\nstudents.sort(key=lambda item: item.get('score',0), reverse=True)\",\n",
       " '_i172': \"# 이름순으로 정렬\\nstudents.sort(key=lambda data : data.get('name','가'))  # 제일 낮을때는 힣\\nstudents\",\n",
       " '_172': [{'score': 100},\n",
       "  {'name': '윤길동', 'score': 99},\n",
       "  {'name': '홍길동', 'score': 90},\n",
       "  {'name': '김길동', 'score': 50}],\n",
       " '_i173': \"#점수 내림차수\\nstudents.sort(key=lambda item: item.get('score',0), reverse=True)\",\n",
       " '_i174': \"#점수 내림차수\\nstudents.sort(key=lambda item: item.get('score',0), reverse=True)\\nstudents\",\n",
       " '_174': [{'score': 100},\n",
       "  {'name': '윤길동', 'score': 99},\n",
       "  {'name': '홍길동', 'score': 90},\n",
       "  {'name': '김길동', 'score': 50}],\n",
       " '_i175': \"book.sort(key=lambda item: itme.get('writer'))\",\n",
       " '_i176': \"book.sort(key=lambda item: itme.get('writer'))\\nbook\",\n",
       " '_i177': \"# 책제목순 정렬(ㄱㄴㄷ 순), 저자순 정렬(ㄱㄴㄷ), 가격순 정렬(오름차순)\\nbook=[\\n    {'no': 1, 'title' : '강남아파트 인사이트', 'writer' : '오스틀', 'price':'25,200'},\\n    {'no': 2, 'title' : '단한번의 삶', 'writer' : '김영하', 'price':'18,200'},\\n    {'no': 3, 'title' : '흔한남매', 'writer' : '백난도', 'price':'19,200'},\\n    {'no': 4, 'title' : '가격이 잘못', 'writer' : '홍길동', 'price':'-'},\\n    {'no': 5, 'title' : '가격이 숫자', 'writer' : '신길동', 'price':'900'},\\n    {'no': 6, 'title' : '가격이 없음', 'writer' : '김길동'},\\n]\",\n",
       " 'book': [{'no': 1, 'title': '강남아파트 인사이트', 'writer': '오스틀', 'price': '25,200'},\n",
       "  {'no': 2, 'title': '단한번의 삶', 'writer': '김영하', 'price': '18,200'},\n",
       "  {'no': 3, 'title': '흔한남매', 'writer': '백난도', 'price': '19200'},\n",
       "  {'no': 4, 'title': '가격이 잘못', 'writer': '홍길동', 'price': '-'},\n",
       "  {'no': 5, 'title': '가격이 숫자', 'writer': '신길동', 'price': '900'},\n",
       "  {'no': 6, 'title': '가격이 없음', 'writer': '김길동'}],\n",
       " '_i178': \"book.sort(key=lambda item: itme.get('writer'))\\nbook\",\n",
       " '_i179': \"book.sort(key=lambda item: item.get('writer'))\\nbook\",\n",
       " '_179': [{'no': 5, 'title': '가격이 숫자', 'writer': '신길동', 'price': '900'},\n",
       "  {'no': 6, 'title': '가격이 없음', 'writer': '김길동'},\n",
       "  {'no': 4, 'title': '가격이 잘못', 'writer': '홍길동', 'price': '-'},\n",
       "  {'no': 1, 'title': '강남아파트 인사이트', 'writer': '오스틀', 'price': '25,200'},\n",
       "  {'no': 2, 'title': '단한번의 삶', 'writer': '김영하', 'price': '18,200'},\n",
       "  {'no': 3, 'title': '흔한남매', 'writer': '백난도', 'price': '19,200'}],\n",
       " '_i180': \"book.sort(key=lambda item: item.get('title'))\\nbook\",\n",
       " '_180': [{'no': 5, 'title': '가격이 숫자', 'writer': '신길동', 'price': '900'},\n",
       "  {'no': 6, 'title': '가격이 없음', 'writer': '김길동'},\n",
       "  {'no': 4, 'title': '가격이 잘못', 'writer': '홍길동', 'price': '-'},\n",
       "  {'no': 1, 'title': '강남아파트 인사이트', 'writer': '오스틀', 'price': '25,200'},\n",
       "  {'no': 2, 'title': '단한번의 삶', 'writer': '김영하', 'price': '18,200'},\n",
       "  {'no': 3, 'title': '흔한남매', 'writer': '백난도', 'price': '19,200'}],\n",
       " '_i181': \"book.sort(key=lambda item: item.get('price'))\\nbook\",\n",
       " '_i182': \"#book.sort(key=lambda item: item.get('price'))   이렇게 하면 문자랑 숫자랑 비교하는 것 에러\\n#book\",\n",
       " '_i183': \"# 14,000 -> 14000 / 800 -> 800 / '-' -> 0 이렇게 변환해야 한다\",\n",
       " '_i184': \"# 14,000 -> 14000 / 800 -> 800 / '-' -> 0 이렇게 변환해야 한다\\ndef parse_int(price):\\n    print(type(price))\",\n",
       " 'parse_int': <function __main__.parse_int(book)>,\n",
       " '_i185': \"# 14,000 -> 14000 / 800 -> 800 / '-' -> 0 이렇게 변환해야 한다\\ndef parse_int(price):\\n    print(type(price))\",\n",
       " '_i186': 'parse_int(800)',\n",
       " '_i187': 'parse_int(\"800\")',\n",
       " '_i188': 'parse_int(800)',\n",
       " '_i189': \"# 14,000 -> 14000 / 800 -> 800 / '-' -> 0 이렇게 변환해야 한다\\ndef parse_int(price):\\n   # print(type(price))\\n   if isinstance(price, int): # price 가 int 인가?\\n        return price\\n    \",\n",
       " '_i190': 'parse_int(800)',\n",
       " '_190': 800,\n",
       " '_i191': 'parse_int(8000)',\n",
       " '_191': 8000,\n",
       " '_i192': 'parse_int(\"8,000\")',\n",
       " '_i193': 'parse_int(\"8,000\")',\n",
       " '_i194': '# 14,000 -> 14000 / \"2000\" -> 2000 / 800 -> 800 / \\'-\\' -> 0 이렇게 변환해야 한다\\ndef parse_int(price):\\n   # print(type(price))\\n   if isinstance(price, str) and price.replace(\\',\\',\\'\\').isdigit():   \\n         return int(price.replace(\\',\\',\\'\\')) # , 가 들어간 것을 그냥 지운다     \\n    elif isinstance(price, int): # price 가 int 인가?\\n         return price',\n",
       " '_i196': 'parse_int(\"8,000\")',\n",
       " '_i197': \"#book.sort(key=lambda item: item.get('price'))   이렇게 하면 문자랑 숫자랑 비교하는 것 에러\\n#book\",\n",
       " '_i198': '# 14,000 -> 14000 / \"2000\" -> 2000 / 800 -> 800 / \\'-\\' -> 0 이렇게 변환해야 한다\\ndef parse_int(price):\\n   # print(type(price))\\n   if isinstance(price, str) and price.replace(\\',\\',\\'\\').isdigit():   \\n         return int(price.replace(\\',\\',\\'\\')) # , 가 들어간 것을 그냥 지운다     \\n    elif isinstance(price, int):          # price 가 int 인가?\\n         return price',\n",
       " '_i200': 'parse_int(\"8,000\")',\n",
       " '_i201': '# 14,000 -> 14000 / \"2000\" -> 2000 / 800 -> 800 / \\'-\\' -> 0 이렇게 변환해야 한다\\ndef parse_int(price):\\n   # print(type(price))\\n   if isinstance(price, str) and price.replace(\\',\\',\\'\\').isdigit():   \\n         return int(price.replace(\\',\\',\\'\\')) # , 가 들어간 것을 그냥 지운다     \\n    elif isinstance(price, int):          # price 가 int 인가?\\n         return price',\n",
       " '_i203': '# 14,000 -> 14000 / \"2000\" -> 2000 / 800 -> 800 / \\'-\\' -> 0 이렇게 변환해야 한다\\ndef parse_int(price):\\n   # print(type(price))\\n   if isinstance(price, str) and price.replace(\\',\\',\\'\\').isdigit():   \\n         return int(price.replace(\\',\\',\\'\\')) # , 가 들어간 것을 그냥 지운다     \\n    elif isinstance(price, int):          # price 가 int 인가?\\n         return price',\n",
       " '_i205': '# 14,000 -> 14000 / \"2000\" -> 2000 / 800 -> 800 / \\'-\\' -> 0 이렇게 변환해야 한다\\ndef parse_int(price):\\n   # print(type(price))\\n   if isinstance(price, str) and price.replace(\\',\\',\\'\\').isdigit():   \\n         return int(price.replace(\\',\\',\\'\\')) # , 가 들어간 것을 그냥 지운다     \\n    elif isinstance(price, int):          # price 가 int 인가?\\n         return price\\n    else:\\n        return 0',\n",
       " '_i207': 'parse_int(\"8,000\")',\n",
       " '_i208': '# 14,000 -> 14000 / \"2000\" -> 2000 / 800 -> 800 / \\'-\\' -> 0 이렇게 변환해야 한다\\ndef parse_int(price):\\n   # print(type(price))\\n   if isinstance(price, str) and price.replace(\\',\\',\\'\\').isdigit():   \\n         return int(price.replace(\\',\\',\\'\\'))          # , 가 들어간 것을 그냥 지운다     \\n    elif isinstance(price, int):                    # price 가 int 인가?\\n         return price\\n    else:\\n        return 0',\n",
       " '_i210': 'parse_int(\"8,000\")',\n",
       " '_i211': '# 14,000 -> 14000 / \"2000\" -> 2000 / 800 -> 800 / \\'-\\' -> 0 이렇게 변환해야 한다\\ndef parse_int(price):\\n   # print(type(price))\\n   if isinstance(price, str) and price.replace(\\',\\',\\'\\').isdigit():   \\n         return int(price.replace(\\',\\',\\'\\'))          # , 가 들어간 것을 그냥 지운다     \\nelif isinstance(price, int):                    # price 가 int 인가?\\n         return price\\nelse:\\n        return 0',\n",
       " '_i212': 'parse_int(\"8,000\")',\n",
       " '_i213': '# 14,000 -> 14000 / \"2000\" -> 2000 / 800 -> 800 / \\'-\\' -> 0 이렇게 변환해야 한다\\ndef parse_int(price):\\n   # print(type(price))\\n   if isinstance(price, str) and price.replace(\\',\\',\\'\\').isdigit():   \\n         return int(price.replace(\\',\\',\\'\\'))          # , 가 들어간 것을 그냥 지운다     \\n    elif isinstance(price, int):                    # price 가 int 인가?\\n         return price\\nelse:\\n        return 0',\n",
       " '_i215': '# 14,000 -> 14000 / \"2000\" -> 2000 / 800 -> 800 / \\'-\\' -> 0 이렇게 변환해야 한다\\ndef parse_int(price):\\n   # print(type(price))\\n   if isinstance(price, str) and price.replace(\\',\\',\\'\\').isdigit():   \\n         return int(price.replace(\\',\\',\\'\\'))          # , 가 들어간 것을 그냥 지운다     \\n    elif isinstance(price, int):                    # price 가 int 인가?\\n         return price\\n    else:\\n        return 0',\n",
       " '_i217': '# 14,000 -> 14000 / \"2000\" -> 2000 / 800 -> 800 / \\'-\\' -> 0 이렇게 변환해야 한다\\n\\ndef parse_int(price):\\n    # print(type(price))\\n    if isinstance(price, str) and price.replace(\\',\\', \\'\\').isdigit():   \\n        return int(price.replace(\\',\\', \\'\\'))          # , 가 들어간 것을 그냥 지운다     \\n    elif isinstance(price, int):                    # 이제 들여쓰기 OK\\n        return price\\n    else:\\n        return 0',\n",
       " '_i218': 'parse_int(\"8,000\")',\n",
       " '_218': 8000,\n",
       " '_i219': \"# {'no': 6, 'title': '가격이 없음', 'writer': '김길동'} => 0return\\n# {'no': 3, 'title' : '흔한남매', 'writer' : '백난도', 'price':'19200'} =>19200\\n# {'no': 5, 'title' : '가격이 숫자', 'writer' : '신길동', 'price':'900'} =>900\\ndef parse_int(book):\",\n",
       " '_i220': \"# {'no': 6, 'title': '가격이 없음', 'writer': '김길동'} => 0return\\n# {'no': 3, 'title' : '흔한남매', 'writer' : '백난도', 'price':'19200'} =>19200\\n# {'no': 5, 'title' : '가격이 숫자', 'writer' : '신길동', 'price':'900'} =>900\\ndef parse_int(book):\\n    if isinstance(book.get('price'), str) and \\n        book.get('price').replace(',','').isdigit():\\n    return int(book.get('price').replace(',',''))\\n    elif isinstance(book.get('price'), int):\\n        return book.get('price')\\n    else:\\n        return 0\",\n",
       " '_i221': \"# {'no': 6, 'title': '가격이 없음', 'writer': '김길동'} => 0return\\n# {'no': 3, 'title' : '흔한남매', 'writer' : '백난도', 'price':'19200'} =>19200\\n# {'no': 5, 'title' : '가격이 숫자', 'writer' : '신길동', 'price':'900'} =>900\\ndef parse_int(book):\\n    if isinstance(book.get('price'), str) and \\n         book.get('price').replace(',','').isdigit():\\n    return int(book.get('price').replace(',',''))\\n    elif isinstance(book.get('price'), int):\\n        return book.get('price')\\n    else:\\n        return 0\",\n",
       " '_i222': \"# {'no': 6, 'title': '가격이 없음', 'writer': '김길동'} => 0return\\n# {'no': 3, 'title' : '흔한남매', 'writer' : '백난도', 'price':'19200'} =>19200\\n# {'no': 5, 'title' : '가격이 숫자', 'writer' : '신길동', 'price':'900'} =>900\\ndef parse_int(book):\\n    if isinstance(book.get('price'), str) and\\n         book.get('price').replace(',','').isdigit():\\n    return int(book.get('price').replace(',',''))\\n    elif isinstance(book.get('price'), int):\\n        return book.get('price')\\n    else:\\n        return 0\",\n",
       " '_i223': \"# {'no': 6, 'title': '가격이 없음', 'writer': '김길동'} => 0return\\n# {'no': 3, 'title' : '흔한남매', 'writer' : '백난도', 'price':'19200'} =>19200\\n# {'no': 5, 'title' : '가격이 숫자', 'writer' : '신길동', 'price':'900'} =>900\\ndef parse_int(book):\\n    if isinstance(book.get('price'), str) and book.get('price').replace(',','').isdigit():\\n    return int(book.get('price').replace(',',''))\\n    elif isinstance(book.get('price'), int):\\n        return book.get('price')\\n    else:\\n        return 0\",\n",
       " '_i224': \"# {'no': 6, 'title': '가격이 없음', 'writer': '김길동'} => 0return\\n# {'no': 3, 'title' : '흔한남매', 'writer' : '백난도', 'price':'19200'} =>19200\\n# {'no': 5, 'title' : '가격이 숫자', 'writer' : '신길동', 'price':'900'} =>900\\ndef parse_int(book):\\n    if isinstance(book.get('price'), str) and book.get('price').replace(',','').isdigit():\\n    return int(book.get('price').replace(',',''))\\n    elif isinstance(book.get('price'), int):\\n        return book.get('price')\\n    else:\\n        return 0\",\n",
       " '_i225': \"# {'no': 6, 'title': '가격이 없음', 'writer': '김길동'} => 0return\\n# {'no': 3, 'title' : '흔한남매', 'writer' : '백난도', 'price':'19200'} =>19200\\n# {'no': 5, 'title' : '가격이 숫자', 'writer' : '신길동', 'price':'900'} =>900\\ndef parse_int(book):\\n    if isinstance(book.get('price'), str) and book.get('price').replace(',','').isdigit():\\n        return int(book.get('price').replace(',',''))\\n    elif isinstance(book.get('price'), int):\\n        return book.get('price')\\n    else:\\n        return 0\",\n",
       " '_i226': \"# {'no': 6, 'title': '가격이 없음', 'writer': '김길동'} => 0return\\n# {'no': 3, 'title' : '흔한남매', 'writer' : '백난도', 'price':'19200'} =>19200\\n# {'no': 5, 'title' : '가격이 숫자', 'writer' : '신길동', 'price':'900'} =>900\\ndef parse_int(book):\\n    if isinstance(book.get('price'), str) and book.get('price').replace(',','').isdigit():\\n        return int(book.get('price').replace(',',''))\\n    elif isinstance(book.get('price'), int):\\n        return book.get('price')\\n    else:\\n        return 0\\n    # 이 식은 dic 에서 가져온거라 .get() 을 사용함\\nparse_int(books[-])\",\n",
       " '_i227': \"# {'no': 6, 'title': '가격이 없음', 'writer': '김길동'} => 0return\\n# {'no': 3, 'title' : '흔한남매', 'writer' : '백난도', 'price':'19200'} =>19200\\n# {'no': 5, 'title' : '가격이 숫자', 'writer' : '신길동', 'price':'900'} =>900\\ndef parse_int(book):\\n    if isinstance(book.get('price'), str) and book.get('price').replace(',','').isdigit():\\n        return int(book.get('price').replace(',',''))\\n    elif isinstance(book.get('price'), int):\\n        return book.get('price')\\n    else:\\n        return 0\\n    # 이 식은 dic 에서 가져온거라 .get() 을 사용함\\nparse_int(book[-])\",\n",
       " '_i228': \"# {'no': 6, 'title': '가격이 없음', 'writer': '김길동'} => 0return\\n# {'no': 3, 'title' : '흔한남매', 'writer' : '백난도', 'price':'19200'} =>19200\\n# {'no': 5, 'title' : '가격이 숫자', 'writer' : '신길동', 'price':'900'} =>900\\ndef parse_int(book):\\n    if isinstance(book.get('price'), str) and book.get('price').replace(',','').isdigit():\\n        return int(book.get('price').replace(',',''))\\n    elif isinstance(book.get('price'), int):\\n        return book.get('price')\\n    else:\\n        return 0\\n    # 이 식은 dic 에서 가져온거라 .get() 을 사용함\\nparse_int(book[5])\",\n",
       " '_228': 19200,\n",
       " '_i229': \"# {'no': 6, 'title': '가격이 없음', 'writer': '김길동'} => 0return\\n# {'no': 3, 'title' : '흔한남매', 'writer' : '백난도', 'price':'19200'} =>19200\\n# {'no': 5, 'title' : '가격이 숫자', 'writer' : '신길동', 'price':'900'} =>900\\ndef parse_int(book):\\n    if isinstance(book.get('price'), str) and book.get('price').replace(',','').isdigit():\\n        return int(book.get('price').replace(',',''))\\n    elif isinstance(book.get('price'), int):\\n        return book.get('price')\\n    else:\\n        return 0\\n    # 이 식은 dic 에서 가져온거라 .get() 을 사용함\\nparse_int(book[3])\",\n",
       " '_229': 25200,\n",
       " '_i230': \"# {'no': 6, 'title': '가격이 없음', 'writer': '김길동'} => 0return\\n# {'no': 3, 'title' : '흔한남매', 'writer' : '백난도', 'price':'19200'} =>19200\\n# {'no': 5, 'title' : '가격이 숫자', 'writer' : '신길동', 'price':'900'} =>900\\ndef parse_int(book):\\n    if isinstance(book.get('price'), str) and book.get('price').replace(',','').isdigit():\\n        return int(book.get('price').replace(',',''))\\n    elif isinstance(book.get('price'), int):\\n        return book.get('price')\\n    else:\\n        return 0\\n    # 이 식은 dic 에서 가져온거라 .get() 을 사용함\\nparse_int(book[4])\",\n",
       " '_230': 18200,\n",
       " '_i231': \"# {'no': 6, 'title': '가격이 없음', 'writer': '김길동'} => 0return\\n# {'no': 3, 'title' : '흔한남매', 'writer' : '백난도', 'price':'19200'} =>19200\\n# {'no': 5, 'title' : '가격이 숫자', 'writer' : '신길동', 'price':'900'} =>900\\ndef parse_int(book):\\n    if isinstance(book.get('price'), str) and book.get('price').replace(',','').isdigit():\\n        return int(book.get('price').replace(',',''))\\n    elif isinstance(book.get('price'), int):\\n        return book.get('price')\\n    else:\\n        return 0\\n    # 이 식은 dic 에서 가져온거라 .get() 을 사용함\\nparse_int(book[5])\",\n",
       " '_231': 19200,\n",
       " '_i232': \"# {'no': 6, 'title': '가격이 없음', 'writer': '김길동'} => 0return\\n# {'no': 3, 'title' : '흔한남매', 'writer' : '백난도', 'price':'19200'} =>19200\\n# {'no': 5, 'title' : '가격이 숫자', 'writer' : '신길동', 'price':'900'} =>900\\ndef parse_int(book):\\n    if isinstance(book.get('price'), str) and book.get('price').replace(',','').isdigit():\\n        return int(book.get('price').replace(',',''))\\n    elif isinstance(book.get('price'), int):\\n        return book.get('price')\\n    else:\\n        return 0\\n    # 이 식은 dic 에서 가져온거라 .get() 을 사용함\\nparse_int(book[6])\",\n",
       " '_i233': \"# {'no': 6, 'title': '가격이 없음', 'writer': '김길동'} => 0return\\n# {'no': 3, 'title' : '흔한남매', 'writer' : '백난도', 'price':'19200'} =>19200\\n# {'no': 5, 'title' : '가격이 숫자', 'writer' : '신길동', 'price':'900'} =>900\\ndef parse_int(book):\\n    if isinstance(book.get('price'), str) and book.get('price').replace(',','').isdigit():\\n        return int(book.get('price').replace(',',''))\\n    elif isinstance(book.get('price'), int):\\n        return book.get('price')\\n    else:\\n        return 0\\n    # 이 식은 dic 에서 가져온거라 .get() 을 사용함\\nparse_int(book[5])\",\n",
       " '_233': 19200,\n",
       " '_i234': \"book=[\\n    {'no': 1, 'title' : '강남아파트 인사이트', 'writer' : '오스틀', 'price':'25,200'},\\n    {'no': 2, 'title' : '단한번의 삶', 'writer' : '김영하', 'price':'18,200'},\\n    {'no': 3, 'title' : '흔한남매', 'writer' : '백난도', 'price':'19200'},\\n    {'no': 4, 'title' : '가격이 잘못', 'writer' : '홍길동', 'price':'-'},\\n    {'no': 5, 'title' : '가격이 숫자', 'writer' : '신길동', 'price':'900'},\\n    {'no': 6, 'title' : '가격이 없음', 'writer' : '김길동'},\\n]\\ncopy_book = book.copy()\\ncopy_book.sort()\",\n",
       " 'copy_book': [{'no': 1,\n",
       "   'title': '강남아파트 인사이트',\n",
       "   'writer': '오스틀',\n",
       "   'price': '25,200'},\n",
       "  {'no': 2, 'title': '단한번의 삶', 'writer': '김영하', 'price': '18,200'},\n",
       "  {'no': 3, 'title': '흔한남매', 'writer': '백난도', 'price': '19200'},\n",
       "  {'no': 4, 'title': '가격이 잘못', 'writer': '홍길동', 'price': '-'},\n",
       "  {'no': 5, 'title': '가격이 숫자', 'writer': '신길동', 'price': '900'},\n",
       "  {'no': 6, 'title': '가격이 없음', 'writer': '김길동'}],\n",
       " '_i235': \"book=[\\n    {'no': 1, 'title' : '강남아파트 인사이트', 'writer' : '오스틀', 'price':'25,200'},\\n    {'no': 2, 'title' : '단한번의 삶', 'writer' : '김영하', 'price':'18,200'},\\n    {'no': 3, 'title' : '흔한남매', 'writer' : '백난도', 'price':'19200'},\\n    {'no': 4, 'title' : '가격이 잘못', 'writer' : '홍길동', 'price':'-'},\\n    {'no': 5, 'title' : '가격이 숫자', 'writer' : '신길동', 'price':'900'},\\n    {'no': 6, 'title' : '가격이 없음', 'writer' : '김길동'},\\n]\\ncopy_book = book.copy()\",\n",
       " '_i236': \"copy_book.sort(key=lambda book : \\n               int(book.get('price').replace(',',''))\\\\\\n                if isinstance(book.get('price'), str) and\\\\\\n                  book.get ('price').replace(',','').isdigit() else\\\\\\n               book.get('price') if isinstance(book.get('price'), int) else\\\\\\n               0, \\n              )\",\n",
       " '_i237': \"book=[\\n    {'no': 1, 'title' : '강남아파트 인사이트', 'writer' : '오스틀', 'price':'25,200'},\\n    {'no': 2, 'title' : '단한번의 삶', 'writer' : '김영하', 'price':'18,200'},\\n    {'no': 3, 'title' : '흔한남매', 'writer' : '백난도', 'price':'19200'},\\n    {'no': 4, 'title' : '가격이 잘못', 'writer' : '홍길동', 'price':'-'},\\n    {'no': 5, 'title' : '가격이 숫자', 'writer' : '신길동', 'price':'900'},\\n    {'no': 6, 'title' : '가격이 없음', 'writer' : '김길동'},\\n]\\ncopy_book = book.copy()\",\n",
       " '_i238': 'copy_books',\n",
       " '_i239': 'copy_book',\n",
       " '_239': [{'no': 1, 'title': '강남아파트 인사이트', 'writer': '오스틀', 'price': '25,200'},\n",
       "  {'no': 2, 'title': '단한번의 삶', 'writer': '김영하', 'price': '18,200'},\n",
       "  {'no': 3, 'title': '흔한남매', 'writer': '백난도', 'price': '19200'},\n",
       "  {'no': 4, 'title': '가격이 잘못', 'writer': '홍길동', 'price': '-'},\n",
       "  {'no': 5, 'title': '가격이 숫자', 'writer': '신길동', 'price': '900'},\n",
       "  {'no': 6, 'title': '가격이 없음', 'writer': '김길동'}],\n",
       " '_i240': '# 함수를 return\\ndef make_box(shape): #shape : [l] => len가 l인 list를 생성하는 함수 return, \\n                    #        [r,c] => r행 c열인 2차원 list를 생성하는 함수 return\\n                    #        [d,r,c] => d면 r행 c열 3차원 list를 생성하는 함수 return\\n            def box(init_value):\\n                if len(shape)==1:\\n                    return[init_value]*shape[0]\\n                elif len(shape)==2:\\n                    return[[init_value]*shape[1]]*shape[0]\\n                return box',\n",
       " 'make_box': <function __main__.make_box(shape)>,\n",
       " '_i241': 'line_func = make_box([2,3])',\n",
       " 'line_func': <function __main__.make_box.<locals>.box(init_value)>,\n",
       " '_i242': 'line_func = make_box([2,3])\\nline_func(3)',\n",
       " '_i243': '# 함수를 return\\ndef make_box(shape): #shape : [l] => len가 l인 list를 생성하는 함수 return, \\n                    #        [r,c] => r행 c열인 2차원 list를 생성하는 함수 return\\n                    #        [d,r,c] => d면 r행 c열 3차원 list를 생성하는 함수 return\\n            def box(init_value):\\n                if len(shape)==1:\\n                    return[init_value]*shape[0]\\n                elif len(shape)==2:\\n                    return[[init_value]*shape[1]]*shape[0]\\n                return box',\n",
       " '_i244': 'line_func = make_box([2,3])\\nline_func(3)',\n",
       " '_i245': '# 함수를 return\\ndef make_box(shape): #shape : [l] => len가 l인 list를 생성하는 함수 return, \\n                    #        [r,c] => r행 c열인 2차원 list를 생성하는 함수 return\\n                    #        [d,r,c] => d면 r행 c열 3차원 list를 생성하는 함수 return\\n            def box(init_value):\\n                if len(shape)==1:\\n                    return[init_value]*shape[0]\\n                elif len(shape)==2:\\n                    return[[init_value]*shape[1]]*shape[0]\\n                return box',\n",
       " '_i246': 'line_func = make_box([2,3])\\nline_func(3)',\n",
       " '_i247': 'line_func1 = make_box([10])\\nline_func1(3)',\n",
       " 'line_func1': <function __main__.make_box.<locals>.box(init_value)>,\n",
       " '_i248': '# 함수를 return\\ndef make_box(shape): #shape : [l] => len가 l인 list를 생성하는 함수 return, \\n                    #        [r,c] => r행 c열인 2차원 list를 생성하는 함수 return\\n                    #        [d,r,c] => d면 r행 c열 3차원 list를 생성하는 함수 return\\n            def box(init_value):\\n                if len(shape)==1:\\n                    return[init_value]*shape[0]\\n                elif len(shape)==2:\\n                    return[[init_value]*shape[1]]*shape[0]\\n            return box',\n",
       " '_i249': 'line_func = make_box([2,3])\\nline_func(3)',\n",
       " '_249': [[3, 3, 3], [3, 3, 3]],\n",
       " '_i250': 'line_func1 = make_box([10])\\nline_func1(3)',\n",
       " '_250': [3, 3, 3, 3, 3, 3, 3, 3, 3, 3],\n",
       " '_i251': 'def make_box(shape):\\n    if len(shape)==1:\\n        return lambda init_vlaue : [init_value]*shape[0]\\n    else len(shape)==2:\\n        return lambda init_vlaue : [[init_vlaue]*shape[1]]*shape[0]',\n",
       " '_i252': 'def make_box(shape):\\n    if len(shape)==1:\\n        return lambda init_vlaue : [init_value]*shape[0]\\n    elif len(shape)==2:\\n        return lambda init_vlaue : [[init_vlaue]*shape[1]]*shape[0]',\n",
       " '_i253': 'globals',\n",
       " '_253': <function globals()>,\n",
       " '_i254': 'globals()',\n",
       " '_254': {...},\n",
       " '_i255': ' globals() #전역변수 리스트'}"
      ]
     },
     "execution_count": 255,
     "metadata": {},
     "output_type": "execute_result"
    }
   ],
   "source": [
    " globals() #전역변수 리스트"
   ]
  },
  {
   "cell_type": "code",
   "execution_count": 257,
   "id": "01f35332",
   "metadata": {},
   "outputs": [
    {
     "data": {
      "text/plain": [
       "False"
      ]
     },
     "execution_count": 257,
     "metadata": {},
     "output_type": "execute_result"
    }
   ],
   "source": [
    "all([True,True, True, False]) # 전부 Ture 인지 여부"
   ]
  },
  {
   "cell_type": "code",
   "execution_count": 258,
   "id": "d2d68713",
   "metadata": {},
   "outputs": [
    {
     "data": {
      "text/plain": [
       "4"
      ]
     },
     "execution_count": 258,
     "metadata": {},
     "output_type": "execute_result"
    }
   ],
   "source": [
    "round(3.5) # 반올림"
   ]
  },
  {
   "cell_type": "code",
   "execution_count": 262,
   "id": "64cf76cb",
   "metadata": {},
   "outputs": [
    {
     "data": {
      "text/plain": [
       "(4.0, 4.0, 3.0)"
      ]
     },
     "execution_count": 262,
     "metadata": {},
     "output_type": "execute_result"
    }
   ],
   "source": [
    "import numpy as np # numpy 모듈을 np라는 이름으로 load\n",
    "np.round(3.5), np.ceil(3.5), np.floor(3.2) # 반올림, 올림, 내림"
   ]
  },
  {
   "cell_type": "code",
   "execution_count": 267,
   "id": "051ccdfb",
   "metadata": {},
   "outputs": [],
   "source": [
    "# 연습문제 1\n",
    "def get_max_min(data_list):\n",
    "    return max(data_list), min(data_list)\n",
    "get_max_min([1,2,3,4,56])\n",
    "\n",
    "get_max_min = lambda data_list : (max(data_list), min(data_list))"
   ]
  },
  {
   "cell_type": "code",
   "execution_count": 343,
   "id": "a1bbfac5",
   "metadata": {},
   "outputs": [
    {
     "name": "stdout",
     "output_type": "stream",
     "text": [
      "체중을 입력하시오>70\n",
      "키를 입력하시오>170\n"
     ]
    },
    {
     "data": {
      "text/plain": [
       "'표준'"
      ]
     },
     "execution_count": 343,
     "metadata": {},
     "output_type": "execute_result"
    }
   ],
   "source": [
    "# 연습문제2\n",
    "kg=int(input(\"체중을 입력하시오>\"))\n",
    "m=float(input(\"키를 입력하시오>\"))\n",
    "BMI = kg/(m)*(m)\n",
    "BMI_value = lambda BMI : \"고도비만\" if 30<= BMI else\\\n",
    "                         \"비만\" if 25<= BMI <30 else\\\n",
    "                         \"표준\" if 18.5<= BMI <25 else\\\n",
    "                         \"마른체형\" if BMI < 18.5 else\\\n",
    "                         \"유요하지 않음\"\n",
    "\n",
    "# 질문하기 return 이 없어서 란다는 힘들다\n",
    "       \n",
    "BMI_value(21)\n"
   ]
  },
  {
   "cell_type": "code",
   "execution_count": 339,
   "id": "7e5cb03e",
   "metadata": {},
   "outputs": [
    {
     "data": {
      "text/plain": [
       "(12.0, 6.0)"
      ]
     },
     "execution_count": 339,
     "metadata": {},
     "output_type": "execute_result"
    }
   ],
   "source": [
    "#문제 3번\n",
    "import math\n",
    "def get_triangle(width, height):\n",
    "    perimeter = (width+height+math.sqrt(width**2+height**2)) \n",
    "    \n",
    "    area = ((width*height)/2)\n",
    "    return perimeter, area\n",
    "\n",
    "get_triangle(3,4)\n"
   ]
  },
  {
   "cell_type": "code",
   "execution_count": 340,
   "id": "c39250e9",
   "metadata": {},
   "outputs": [
    {
     "data": {
      "text/plain": [
       "33"
      ]
     },
     "execution_count": 340,
     "metadata": {},
     "output_type": "execute_result"
    }
   ],
   "source": [
    "# 문제 4번\n",
    "def mysum(From, end):\n",
    "    resutl = sum(range (From, end+1))\n",
    "    return resutl\n",
    "\n",
    "mysum(10,12)"
   ]
  },
  {
   "cell_type": "code",
   "execution_count": 308,
   "id": "50f06686",
   "metadata": {},
   "outputs": [
    {
     "ename": "SyntaxError",
     "evalue": "unterminated string literal (detected at line 12) (2426567579.py, line 12)",
     "output_type": "error",
     "traceback": [
      "\u001b[1;36m  Cell \u001b[1;32mIn[308], line 12\u001b[1;36m\u001b[0m\n\u001b[1;33m    get_abbrs(['Seoul’, ‘Daegu’, ‘Kwangju’, ‘Jeju’])\u001b[0m\n\u001b[1;37m               ^\u001b[0m\n\u001b[1;31mSyntaxError\u001b[0m\u001b[1;31m:\u001b[0m unterminated string literal (detected at line 12)\n"
     ]
    }
   ],
   "source": [
    "# 연습문제 5\n",
    "\n",
    "def get_abbrs(lst):\n",
    "    result=[]\n",
    "    for data in list:\n",
    "        if len(data)>=4:\n",
    "            pass\n",
    "        else:\n",
    "            result.append(data)\n",
    "    return result\n",
    "\n",
    "get_abbrs(['Seoul’, ‘Daegu’, ‘Kwangju’, ‘Jeju’])"
   ]
  },
  {
   "cell_type": "code",
   "execution_count": 309,
   "id": "10de59d8",
   "metadata": {},
   "outputs": [
    {
     "data": {
      "text/plain": [
       "16"
      ]
     },
     "execution_count": 309,
     "metadata": {},
     "output_type": "execute_result"
    }
   ],
   "source": [
    "# 연습문제 6\n",
    "add2 = lambda x,y : x**y\n",
    "add2(2,4)"
   ]
  },
  {
   "cell_type": "code",
   "execution_count": null,
   "id": "122005e5",
   "metadata": {},
   "outputs": [],
   "source": [
    "# 연습문제 6\n",
    "def add2(x, y):       # x와 y를 입력받는 함수 정의\n",
    "    result = x ** y    # x의 y승을 계산해서 result에 저장\n",
    "    return result      # result를 반환\n"
   ]
  },
  {
   "cell_type": "code",
   "execution_count": 329,
   "id": "45c9b563",
   "metadata": {},
   "outputs": [
    {
     "data": {
      "text/plain": [
       "[1, 4, 9, 16, 25]"
      ]
     },
     "execution_count": 329,
     "metadata": {},
     "output_type": "execute_result"
    }
   ],
   "source": [
    "# 연습문제 7\n",
    "# 리스트 컴프리핸션\n",
    "list_data1 = [1,2,3,4,5]\n",
    "[data**2 for data in list_data1]"
   ]
  },
  {
   "cell_type": "code",
   "execution_count": 335,
   "id": "56cc10f4",
   "metadata": {},
   "outputs": [
    {
     "name": "stdout",
     "output_type": "stream",
     "text": [
      "[1, 4, 9, 16, 25]\n"
     ]
    }
   ],
   "source": [
    "# 연습문제 7\n",
    "# map 과 람다\n",
    "list_data = [1,2,3,4,5]\n",
    "result = map(lambda x : x**2, list_data)\n",
    "print(list(result))"
   ]
  },
  {
   "cell_type": "code",
   "execution_count": 336,
   "id": "8f7fc1f8",
   "metadata": {},
   "outputs": [],
   "source": [
    "# 연습문제 8\n",
    "# 리스트 앞에* 있어서 리스트를 풀고 a 는 그냥 리스트를 출력한다"
   ]
  },
  {
   "cell_type": "code",
   "execution_count": 6,
   "id": "89188d34",
   "metadata": {},
   "outputs": [
    {
     "data": {
      "text/plain": [
       "'2024-09-06'"
      ]
     },
     "execution_count": 6,
     "metadata": {},
     "output_type": "execute_result"
    }
   ],
   "source": [
    "# 연습문제 9\n",
    "date_info={'year':2024, 'month':9, 'day' : 6}\n",
    "result = '{year}-{month}-{day}'.format(**date_info)   # dic 에서 언패킹한다 \n",
    "result\n",
    "# 그런데 실질적으로 2024-09-06 의 결과를 얻기 위해서는    \n",
    "date_info={'year':2024, 'month':9, 'day' : 6}    #숫자이기 때문에 왼쪽 정렬을 한다\n",
    "result = '{year}-{month:02}-{day:02}'.format(**date_info)\n",
    "result"
   ]
  },
  {
   "cell_type": "code",
   "execution_count": 8,
   "id": "a72f1839",
   "metadata": {},
   "outputs": [
    {
     "data": {
      "text/plain": [
       "'2024-09-06'"
      ]
     },
     "execution_count": 8,
     "metadata": {},
     "output_type": "execute_result"
    }
   ],
   "source": [
    "date_info={'year': '2024', 'month':'9', 'day' : '6'}   # 이건 문자열이기 때문에 왼쪽정렬한다\n",
    "result = '{year}-{month:>02}-{day:>02}'.format(**date_info)   # dic 에서 언패킹한다 \n",
    "result"
   ]
  },
  {
   "cell_type": "code",
   "execution_count": 10,
   "id": "e3b948d4",
   "metadata": {},
   "outputs": [
    {
     "data": {
      "text/plain": [
       "True"
      ]
     },
     "execution_count": 10,
     "metadata": {},
     "output_type": "execute_result"
    }
   ],
   "source": [
    "# 연습문제 10\n",
    " \n",
    "# 입력받은 n개의 벡터(리스트나 튜플이나 셋)의 크기들이 모두 같은지 여부 return : all이용\n",
    "def vector_size_check(*vector_var):\n",
    "    result = []\n",
    "    for vector in vector_var:\n",
    "        result.append(len(vector))\n",
    "    return all(result)\n",
    "def vector_size_check(*vector_var):\n",
    "    return all([len(vector) for vector in vector_var])\n",
    "vector_size_check([10, 20], (100,200), {'name':'홍', 'age':20}, {1, 2})"
   ]
  },
  {
   "cell_type": "code",
   "execution_count": 15,
   "id": "17c8ee2c",
   "metadata": {},
   "outputs": [
    {
     "data": {
      "text/plain": [
       "True"
      ]
     },
     "execution_count": 15,
     "metadata": {},
     "output_type": "execute_result"
    }
   ],
   "source": [
    "def vector_size(*vector_var):\n",
    "    return[len(vector) for vector in vector_var]\n",
    "\n",
    "vector_size_check([10, 20], (100,200), {'name':'홍', 'age':20}, {1, 2})"
   ]
  },
  {
   "cell_type": "code",
   "execution_count": 27,
   "id": "5cc2855d",
   "metadata": {},
   "outputs": [
    {
     "ename": "SyntaxError",
     "evalue": "invalid syntax (3139971111.py, line 2)",
     "output_type": "error",
     "traceback": [
      "\u001b[1;36m  Cell \u001b[1;32mIn[27], line 2\u001b[1;36m\u001b[0m\n\u001b[1;33m    return len(set([len(vector) for vector in vector_var]))=1\u001b[0m\n\u001b[1;37m                                                           ^\u001b[0m\n\u001b[1;31mSyntaxError\u001b[0m\u001b[1;31m:\u001b[0m invalid syntax\n"
     ]
    }
   ],
   "source": [
    "def vector_size(*vector_var):    # set 이용\n",
    "    return len(set([len(vector) for vector in vector_var]))=1\n",
    "           \n",
    "vector_size_check([10, 20], (100,200), {'name':'홍', 'age':20}, {1, 2})   "
   ]
  },
  {
   "cell_type": "code",
   "execution_count": 24,
   "id": "c20a4056",
   "metadata": {},
   "outputs": [],
   "source": [
    "# all 이용\n",
    "def vector_size(*vector_var):\n",
    "    return all([len(vector) for vector in vector_var])\n",
    "\n",
    "      "
   ]
  },
  {
   "cell_type": "code",
   "execution_count": 26,
   "id": "9e5cf79b",
   "metadata": {},
   "outputs": [
    {
     "data": {
      "text/plain": [
       "True"
      ]
     },
     "execution_count": 26,
     "metadata": {},
     "output_type": "execute_result"
    }
   ],
   "source": [
    "vector_size_check([10, 20], (100,200), {'name':'홍', 'age':20}, {1, 2})   "
   ]
  },
  {
   "cell_type": "code",
   "execution_count": 14,
   "id": "587f681d",
   "metadata": {},
   "outputs": [],
   "source": [
    "# 서술형 1\n",
    "# 2번"
   ]
  },
  {
   "cell_type": "code",
   "execution_count": 3,
   "id": "63ce5b8e",
   "metadata": {},
   "outputs": [],
   "source": [
    "# 서술형 2\n",
    "a = 10 # 전역변수\n",
    "def sub():\n",
    "    global a # 문제해결을 위한 코드  이걸 설정 해야함\n",
    "    a += 1\n",
    "    print(a, end='(sub에서 a는 전역변수) ')\n",
    "def func():\n",
    "    for i in range(2):\n",
    "        a = 5 # 지역변수\n",
    "        a += 1\n",
    "        print(a, end='(func에서 a는 지역변수) ')\n",
    "        sub()\n",
    "func()\n",
    "answer ='''\n",
    "오류가 발생하는 라인 : 원래 3번째줄(a += 1부분)\n",
    "a = a+1 : a에 값을 할당하면 지역변수가 됨\n",
    "          지역변수 a+1를 계산할 수 없음\n",
    "문제해결을 위해 : 에러나는 줄 앞에 global a 선언\n",
    "'''"
   ]
  },
  {
   "cell_type": "code",
   "execution_count": 28,
   "id": "2bd3189d",
   "metadata": {},
   "outputs": [
    {
     "name": "stdout",
     "output_type": "stream",
     "text": [
      "100\n"
     ]
    }
   ],
   "source": [
    "# 서술형 3. 실행결과\n",
    "var = 100\n",
    "def func(var): # 매개변수로 들어온 변수는 지역변수\n",
    "    var = 200  # 그러므로 var는 전역변수가 아니고 지역변수\n",
    "func(var)\n",
    "print(var)"
   ]
  },
  {
   "cell_type": "code",
   "execution_count": 29,
   "id": "8601326f",
   "metadata": {},
   "outputs": [
    {
     "data": {
      "text/plain": [
       "5"
      ]
     },
     "execution_count": 29,
     "metadata": {},
     "output_type": "execute_result"
    }
   ],
   "source": [
    "# 서술형 4. 실행결과\n",
    "def my_func(func, *args):\n",
    "    return func(*args)\n",
    "import numpy as np\n",
    "my_func(np.add, 2, 3)"
   ]
  },
  {
   "cell_type": "code",
   "execution_count": 36,
   "id": "4e278cdc",
   "metadata": {},
   "outputs": [
    {
     "data": {
      "text/plain": [
       "9"
      ]
     },
     "execution_count": 36,
     "metadata": {},
     "output_type": "execute_result"
    }
   ],
   "source": [
    "# 서술형 5 실행결과\n",
    "def my_func(func, *args):\n",
    "    return func(*args)\n",
    "my_func(lambda a, b : a**b, 3, 2)  "
   ]
  },
  {
   "cell_type": "code",
   "execution_count": 31,
   "id": "59e281df",
   "metadata": {},
   "outputs": [],
   "source": [
    "# 6번 답 1"
   ]
  },
  {
   "cell_type": "code",
   "execution_count": 32,
   "id": "33b64015",
   "metadata": {},
   "outputs": [],
   "source": [
    "# 7번  답4"
   ]
  },
  {
   "cell_type": "code",
   "execution_count": null,
   "id": "1a1cc4ed",
   "metadata": {},
   "outputs": [],
   "source": [
    "# 서술형 8. lambda"
   ]
  },
  {
   "cell_type": "code",
   "execution_count": null,
   "id": "3c983b5f",
   "metadata": {},
   "outputs": [],
   "source": []
  },
  {
   "cell_type": "code",
   "execution_count": null,
   "id": "10164089",
   "metadata": {},
   "outputs": [],
   "source": []
  },
  {
   "cell_type": "code",
   "execution_count": null,
   "id": "ebf599ce",
   "metadata": {},
   "outputs": [],
   "source": []
  },
  {
   "cell_type": "code",
   "execution_count": null,
   "id": "512020a1",
   "metadata": {},
   "outputs": [],
   "source": []
  },
  {
   "cell_type": "code",
   "execution_count": null,
   "id": "93b6cd36",
   "metadata": {},
   "outputs": [],
   "source": []
  }
 ],
 "metadata": {
  "kernelspec": {
   "display_name": "Python 3 (ipykernel)",
   "language": "python",
   "name": "python3"
  },
  "language_info": {
   "codemirror_mode": {
    "name": "ipython",
    "version": 3
   },
   "file_extension": ".py",
   "mimetype": "text/x-python",
   "name": "python",
   "nbconvert_exporter": "python",
   "pygments_lexer": "ipython3",
   "version": "3.10.9"
  },
  "toc": {
   "base_numbering": 1,
   "nav_menu": {},
   "number_sections": false,
   "sideBar": true,
   "skip_h1_title": false,
   "title_cell": "Table of Contents",
   "title_sidebar": "Contents",
   "toc_cell": false,
   "toc_position": {
    "height": "calc(100% - 180px)",
    "left": "10px",
    "top": "150px",
    "width": "165px"
   },
   "toc_section_display": true,
   "toc_window_display": true
  }
 },
 "nbformat": 4,
 "nbformat_minor": 5
}
