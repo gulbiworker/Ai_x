{
 "cells": [
  {
   "cell_type": "code",
   "execution_count": 290,
   "id": "98aaa269",
   "metadata": {},
   "outputs": [
    {
     "data": {
      "text/html": [
       "\n",
       "<style>\n",
       "div.container{width:86% !important;}\n",
       "div.cell.code_cell.rendered{width:100%;}\n",
       "div.CodeMirror {font-family:Consolas; font-size:15pt;}\n",
       "div.output {font-size:15pt; font-weight:bold;}\n",
       "div.input {font-family:Consolas; font-size:15pt;}\n",
       "div.prompt {min-width:70px;\n",
       "div#toc-wrapper{padding-top:120px;}\n",
       "div.text_cell_render ul li{font-size:12pt;padding:5px;}\n",
       "table.dataframe{font-size:15px;}\n",
       "</style>\n"
      ],
      "text/plain": [
       "<IPython.core.display.HTML object>"
      ]
     },
     "metadata": {},
     "output_type": "display_data"
    }
   ],
   "source": [
    "from IPython.display import display, HTML\n",
    "display(HTML(\"\"\"\n",
    "<style>\n",
    "div.container{width:86% !important;}\n",
    "div.cell.code_cell.rendered{width:100%;}\n",
    "div.CodeMirror {font-family:Consolas; font-size:15pt;}\n",
    "div.output {font-size:15pt; font-weight:bold;}\n",
    "div.input {font-family:Consolas; font-size:15pt;}\n",
    "div.prompt {min-width:70px;\n",
    "div#toc-wrapper{padding-top:120px;}\n",
    "div.text_cell_render ul li{font-size:12pt;padding:5px;}\n",
    "table.dataframe{font-size:15px;}\n",
    "</style>\n",
    "\"\"\"))"
   ]
  },
  {
   "cell_type": "markdown",
   "id": "105158a1",
   "metadata": {},
   "source": [
    "<font size=\"5\" color=\"red\">ch02 자료형과 연산자</font>\n",
    "\n",
    "# 5절 연산자\n",
    "## 5.1 산술 연산자 : +-/*//(몫연산자)%(나머지)**(제곱)"
   ]
  },
  {
   "cell_type": "code",
   "execution_count": 4,
   "id": "76165f53",
   "metadata": {},
   "outputs": [
    {
     "name": "stdout",
     "output_type": "stream",
     "text": [
      "100000\n",
      "2.0\n",
      "2\n",
      "0\n"
     ]
    }
   ],
   "source": [
    "print(10**5) #10의 5승\n",
    "print(4/2)  #결과 실수\n",
    "print(4//2)  # 몫\n",
    "print(4%2)   # 나머지"
   ]
  },
  {
   "cell_type": "code",
   "execution_count": 8,
   "id": "a1c58a0c",
   "metadata": {},
   "outputs": [
    {
     "name": "stdout",
     "output_type": "stream",
     "text": [
      "number>4\n"
     ]
    }
   ],
   "source": [
    "# 정수를 입력받아 짝수인지 올수인지 여부를 출력\n",
    "number=int(input(\"number>\"))"
   ]
  },
  {
   "cell_type": "code",
   "execution_count": 14,
   "id": "617f7310",
   "metadata": {},
   "outputs": [
    {
     "name": "stdout",
     "output_type": "stream",
     "text": [
      "입력한수는짝수입니다\n"
     ]
    }
   ],
   "source": [
    "if number%2:   #1은 True 이기 때문에 이대로 작성\n",
    "    print(\"입력한수는{}입니다, 2로 나눈 나머지는{}, 그래서 짝수 입니다\".format(number, result))\n",
    "else:\n",
    "    print(\"입력한수는{}입니다\".format(\"짝수\"))\n",
    "    \n",
    "    "
   ]
  },
  {
   "cell_type": "code",
   "execution_count": 124,
   "id": "1f419c9a",
   "metadata": {},
   "outputs": [
    {
     "name": "stdout",
     "output_type": "stream",
     "text": [
      "number>59\n",
      "입력한 수59는 5의 배수가 아닙니다\n"
     ]
    }
   ],
   "source": [
    "# 정수를 입력받아 5의 배수인지 여부를 출력\n",
    "number=int(input(\"number>\"))\n",
    "if number%5==0:\n",
    "    print(\"입력한 수{}는 5의 배수입니다\".format(number))\n",
    "else:\n",
    "    print(\"입력한 수{}는 5의 배수가 아닙니다\".format(number))"
   ]
  },
  {
   "cell_type": "code",
   "execution_count": 34,
   "id": "2992976e",
   "metadata": {},
   "outputs": [
    {
     "name": "stdout",
     "output_type": "stream",
     "text": [
      "국어점수>99\n"
     ]
    }
   ],
   "source": [
    "a=int(input(\"국어점수>\"))"
   ]
  },
  {
   "cell_type": "code",
   "execution_count": 61,
   "id": "d9a349bd",
   "metadata": {},
   "outputs": [
    {
     "name": "stdout",
     "output_type": "stream",
     "text": [
      "영어점수>100\n"
     ]
    }
   ],
   "source": [
    "b=int(input(\"영어점수>\"))"
   ]
  },
  {
   "cell_type": "code",
   "execution_count": 62,
   "id": "49440a53",
   "metadata": {},
   "outputs": [
    {
     "name": "stdout",
     "output_type": "stream",
     "text": [
      "수학점수>99\n"
     ]
    }
   ],
   "source": [
    "c=int(input(\"수학점수>\"))"
   ]
  },
  {
   "cell_type": "code",
   "execution_count": 63,
   "id": "6d2d603b",
   "metadata": {},
   "outputs": [
    {
     "name": "stdout",
     "output_type": "stream",
     "text": [
      "298\n"
     ]
    }
   ],
   "source": [
    "sum=int(a+b+c)\n",
    "print(sum)"
   ]
  },
  {
   "cell_type": "code",
   "execution_count": 64,
   "id": "02effdc7",
   "metadata": {},
   "outputs": [
    {
     "data": {
      "text/plain": [
       "298"
      ]
     },
     "execution_count": 64,
     "metadata": {},
     "output_type": "execute_result"
    }
   ],
   "source": [
    "sum"
   ]
  },
  {
   "cell_type": "code",
   "execution_count": 66,
   "id": "b717afe6",
   "metadata": {},
   "outputs": [
    {
     "data": {
      "text/plain": [
       "99.0"
      ]
     },
     "execution_count": 66,
     "metadata": {},
     "output_type": "execute_result"
    }
   ],
   "source": [
    "average=float(sum//3)\n",
    "average"
   ]
  },
  {
   "cell_type": "code",
   "execution_count": 68,
   "id": "d9a39560",
   "metadata": {},
   "outputs": [
    {
     "name": "stdout",
     "output_type": "stream",
     "text": [
      "국어99    영어100    수학99     총점298    평균99.0\n"
     ]
    }
   ],
   "source": [
    "print(\"국어{}    영어{}    수학{}     총점{}    평균{}\".format(a,b,c,sum,average))"
   ]
  },
  {
   "cell_type": "code",
   "execution_count": 84,
   "id": "c8eafa35",
   "metadata": {},
   "outputs": [
    {
     "name": "stdout",
     "output_type": "stream",
     "text": [
      "국어점수>99\n",
      "영어점수>100\n",
      "수학점수>99\n",
      "국어: 99\t영어:100\t수학: 99\n",
      "총점:298\t평균: 99.3\n"
     ]
    }
   ],
   "source": [
    "kor=int(input(\"국어점수>\"))\n",
    "eng=int(input(\"영어점수>\"))\n",
    "mat=int(input(\"수학점수>\"))\n",
    "sum=kor+eng+mat\n",
    "average=sum/3\n",
    "print(\"국어:{:>3d}\\t영어:{}\\t수학:{:>3d}\\n총점:{}\\t평균:{:5.1f}\".format(kor,eng,mat,sum,average))\n",
    "#format 에서는 띄어쓰기를 주의해야 할것, 평균값을 구할때 소숫점 자리 설정하는법 알아두기"
   ]
  },
  {
   "cell_type": "code",
   "execution_count": 75,
   "id": "4293ba05",
   "metadata": {},
   "outputs": [
    {
     "name": "stdout",
     "output_type": "stream",
     "text": [
      "정수를 입력하세요 :9\n",
      "입력하신 수는 9, 5의 배수가 아님를 입력하셨군요\n"
     ]
    }
   ],
   "source": [
    "# quiz 2(강사님 답안)\n",
    "\n",
    "num = int(input('정수를 입력하세요 :'))\n",
    "result = num%5\n",
    "if result:  #0 나와서 거짓\n",
    "    temp = \"5의 배수가 아님\"\n",
    "else:\n",
    "    temp = \"5의 배수\"\n",
    "print(f\"입력하신 수는 {num}, {temp}를 입력하셨군요\")"
   ]
  },
  {
   "cell_type": "markdown",
   "id": "c91b5ddd",
   "metadata": {},
   "source": [
    "## 5.2할당 연산자 : =, +=, -=, *=, /=, //=, %="
   ]
  },
  {
   "cell_type": "code",
   "execution_count": 85,
   "id": "4dcac9b0",
   "metadata": {},
   "outputs": [
    {
     "name": "stdout",
     "output_type": "stream",
     "text": [
      "15\n"
     ]
    }
   ],
   "source": [
    "a= 10\n",
    "a += 5 # a=a+5\n",
    "print(a)"
   ]
  },
  {
   "cell_type": "code",
   "execution_count": 88,
   "id": "5a938a51",
   "metadata": {},
   "outputs": [
    {
     "name": "stdout",
     "output_type": "stream",
     "text": [
      "15\n",
      "10\n",
      "50\n"
     ]
    }
   ],
   "source": [
    "a= 10\n",
    "a += 5 # a=a+5\n",
    "print(a)\n",
    "a -= 5 # a = a-5\n",
    "print(a)\n",
    "a= a*5\n",
    "print(a)"
   ]
  },
  {
   "cell_type": "markdown",
   "id": "8449557d",
   "metadata": {},
   "source": [
    "## 5.3 논리연산자 : &, |, and, or, not|"
   ]
  },
  {
   "cell_type": "code",
   "execution_count": 93,
   "id": "dce85c06",
   "metadata": {},
   "outputs": [
    {
     "name": "stdout",
     "output_type": "stream",
     "text": [
      "True\n",
      "0\n",
      "False\n"
     ]
    }
   ],
   "source": [
    "# & 논리연산, 비트연산\n",
    "print((10>3) and (10>5)) # 논리 연산\n",
    "print(12 & 1)   # 비트연산   12 : 0000 1100\n",
    "                  #            1 : 0000 0001\n",
    "                  #   12 & 1     : 0000 0000\n",
    "print(bool(12 & 1))"
   ]
  },
  {
   "cell_type": "code",
   "execution_count": 99,
   "id": "3e2fe385",
   "metadata": {},
   "outputs": [
    {
     "name": "stdout",
     "output_type": "stream",
     "text": [
      "False\n",
      "3\n",
      "0\n",
      "abc\n",
      "[]\n"
     ]
    }
   ],
   "source": [
    "# and : Flase 로 판별되는 첫번째 항의 결과를 반환 논리연산\n",
    "#       모든 항이 참이면 마지막 항을 반환\n",
    "print(False and True and True) \n",
    "print(True and 1 and 3)\n",
    "print(0 and True)\n",
    "print(True and \"abc\")\n",
    "print(True and [] and True and True)"
   ]
  },
  {
   "cell_type": "code",
   "execution_count": 103,
   "id": "11e165ad",
   "metadata": {},
   "outputs": [
    {
     "name": "stdout",
     "output_type": "stream",
     "text": [
      "논리연산(연잔자 앞뒤에 논리형일때) : True\n",
      "비트연산(연산자 앞이나 뒤에 숫자일때) : 3\n"
     ]
    }
   ],
   "source": [
    "# / : 논리연산, 비트연산\n",
    "result = False | True  \n",
    "print('논리연산(연잔자 앞뒤에 논리형일때) :',result)\n",
    "result = False | 3    # 0000 0000 (False)\n",
    "                      # 0000 0011 (3)\n",
    "print('비트연산(연산자 앞이나 뒤에 숫자일때) :', result)    "
   ]
  },
  {
   "cell_type": "code",
   "execution_count": 106,
   "id": "aaab3416",
   "metadata": {},
   "outputs": [
    {
     "name": "stdout",
     "output_type": "stream",
     "text": [
      "None\n",
      "hong\n"
     ]
    }
   ],
   "source": [
    "# or : 논리연산자, 참으로 판별되는 첫번째 항을 반환\n",
    "#      모든 항이 거짓이면, 마지막항을 반환\n",
    "print(False or False or None)\n",
    "print('hong' or '' or False)"
   ]
  },
  {
   "cell_type": "markdown",
   "id": "50f0b486",
   "metadata": {},
   "source": [
    "## 5.4 비교연산자 : > , >=, <, <=, ==(같다), !(다르다)"
   ]
  },
  {
   "cell_type": "code",
   "execution_count": 110,
   "id": "f0b7bcc3",
   "metadata": {},
   "outputs": [
    {
     "name": "stdout",
     "output_type": "stream",
     "text": [
      "True\n"
     ]
    }
   ],
   "source": [
    "# 비교연산자는 이항, 삼항, 사항.... 다항연산자\n",
    "x=5\n",
    "print(4 < x < 10)"
   ]
  },
  {
   "cell_type": "code",
   "execution_count": 113,
   "id": "72cf6e0c",
   "metadata": {},
   "outputs": [
    {
     "name": "stdout",
     "output_type": "stream",
     "text": [
      "True\n",
      "False\n",
      "True\n"
     ]
    }
   ],
   "source": [
    "# 비교연산자(<)의 우선순위가 논리연산(&)의 우선순위보다 낮다\n",
    "print((10>5) & (10>7))\n",
    "print(10>5 & 10>7)  # 0101     = (10 > 0 > 7) \n",
    "                    # 1010\n",
    "print(10>5 and 10>7)   # and 를 사용하면 달라진다"
   ]
  },
  {
   "cell_type": "code",
   "execution_count": 116,
   "id": "648a3d54",
   "metadata": {},
   "outputs": [
    {
     "name": "stdout",
     "output_type": "stream",
     "text": [
      "False\n",
      "False\n",
      "False\n"
     ]
    }
   ],
   "source": [
    "address = '서울'\n",
    "age = 29\n",
    "print(address =='서울' and age>=30) #  같냐고 물어볼려면 == 를 사용해야 한다\n",
    "print((address =='서울') & (age>=30)) \n",
    "print((address!='서울') & (age>=30)) "
   ]
  },
  {
   "cell_type": "code",
   "execution_count": 117,
   "id": "8bf86d3d",
   "metadata": {},
   "outputs": [
    {
     "data": {
      "text/plain": [
       "True"
      ]
     },
     "execution_count": 117,
     "metadata": {},
     "output_type": "execute_result"
    }
   ],
   "source": [
    "# 문자 비교 : ASCII 코드 순으로 비교 가능 : 특수문자 < 숫자 < 대문자 < 소문자\n",
    "'scott' < 'tiger'"
   ]
  },
  {
   "cell_type": "code",
   "execution_count": 118,
   "id": "e0ecb988",
   "metadata": {},
   "outputs": [
    {
     "data": {
      "text/plain": [
       "True"
      ]
     },
     "execution_count": 118,
     "metadata": {},
     "output_type": "execute_result"
    }
   ],
   "source": [
    "'9' > '10'    # 수 비교를 위해서라면 int()를 사용해야 한다"
   ]
  },
  {
   "cell_type": "code",
   "execution_count": 119,
   "id": "a9354318",
   "metadata": {},
   "outputs": [
    {
     "data": {
      "text/plain": [
       "True"
      ]
     },
     "execution_count": 119,
     "metadata": {},
     "output_type": "execute_result"
    }
   ],
   "source": [
    "'김길동' < '홍길동'"
   ]
  },
  {
   "cell_type": "markdown",
   "id": "8b1350f4",
   "metadata": {},
   "source": [
    "## 5.5 비트연산자 : &, |, ^(XOR), ~ "
   ]
  },
  {
   "cell_type": "code",
   "execution_count": 121,
   "id": "1a2183de",
   "metadata": {},
   "outputs": [
    {
     "name": "stdout",
     "output_type": "stream",
     "text": [
      "a = 15 : 1111\n",
      "b =  2 : 0010\n",
      "a^b = 13 : 1101\n"
     ]
    }
   ],
   "source": [
    "a = 15 # 1111\n",
    "b = 2 #  0010\n",
    "print(\"a = {0:2} : {0:04b}\".format(a))\n",
    "print(\"b = {0:2} : {0:04b}\".format(b))\n",
    "print(\"a^b = {0:2} : {0:04b}\".format(a^b))"
   ]
  },
  {
   "cell_type": "markdown",
   "id": "19a99e36",
   "metadata": {},
   "source": [
    "# 연산자\n",
    "   # - 산술연산: + - * / // % **\n",
    "   # - 할당연산: = += -= *= /= //= %= \n",
    "   # - 논리연산: > >= , <= == !=\n",
    "   # - 비트연산: & | ^\n",
    "   # - & 와 | 0는 비교 연산보다 우선순위가 높다"
   ]
  },
  {
   "cell_type": "markdown",
   "id": "7606de65",
   "metadata": {},
   "source": [
    "# 6절. 문자열 다루기\n",
    "- 문자열 슬라이싱 변수에[from:stop:step]\n",
    "- len(문자열변수) : 문자갯수\n",
    "- upper() : 대문자로\n",
    "- lower() : 소문자로\n",
    "- title() : 각 어절에 첫 글자만 대문자로 \n",
    "- capitalize() : 첫문자만 대문자로\n",
    "- count('찾을문자') : '찾을문자'열이 몇개 들어있는개 갯수 반환\n",
    "- find('찾을문자') : 찾을 문자열이 왼쪽부터 시작하여 몇번째 인덱스에 있는지 인덱스를 반환\n",
    "- rfind('찾을문자열') : 찾을문자열이 오른쪽부터 시작하여 몇번째 인덱스에 있는지 인덱스를 반환\n",
    "                     **찾을문자열이 없으면 -1을 반환**\n",
    "        cf) index('찾을문자열') : 찾을문자열의 index를 반환. 찾을문자열이 없으면 오류\n",
    "- startwith('특정문자열') : 특정문자열로 시작하는지 여부\n",
    "- endwith('특정문자열') : 특정문자열로 끝나는지 여부\n",
    "- strip() : 좌우 공백 제거\n",
    "- rstrip() : 오른쪽 공백 제거\n",
    "- lstrip() : 왼쪽 공백 제거\n",
    "- isdigit() : 문자열이 숫자문자열인지 여부\"10\"\n",
    "- islower() : 소문자문자열인지 여부\n",
    "- isupper(): 대문자문자열인지 여부\n",
    "- replace(oldstr, newstr) : oldstr을 newstr로 변경 "
   ]
  },
  {
   "cell_type": "code",
   "execution_count": 145,
   "id": "0e22f036",
   "metadata": {},
   "outputs": [
    {
     "data": {
      "text/plain": [
       "'Python Is Easy. Python Is Smart. Python'"
      ]
     },
     "execution_count": 145,
     "metadata": {},
     "output_type": "execute_result"
    }
   ],
   "source": [
    "temp = \"python is easy. pYThon is smart. python\"\n",
    "temp, len(temp) \n",
    "temp.upper()\n",
    "temp.title()"
   ]
  },
  {
   "cell_type": "code",
   "execution_count": 133,
   "id": "0685f722",
   "metadata": {},
   "outputs": [
    {
     "name": "stdout",
     "output_type": "stream",
     "text": [
      "39\n"
     ]
    }
   ],
   "source": [
    "temp = \"python is easy. pYThon is smart. pyhton\"\n",
    "print(len(temp)) #글자수"
   ]
  },
  {
   "cell_type": "code",
   "execution_count": 134,
   "id": "54061cb8",
   "metadata": {},
   "outputs": [],
   "source": [
    "temp = \"python is easy. pYThon is smart. python\""
   ]
  },
  {
   "cell_type": "code",
   "execution_count": 135,
   "id": "c929f047",
   "metadata": {},
   "outputs": [
    {
     "data": {
      "text/plain": [
       "'PYTHON IS EASY. PYTHON IS SMART. PYHTON'"
      ]
     },
     "execution_count": 135,
     "metadata": {},
     "output_type": "execute_result"
    }
   ],
   "source": [
    "temp.upper() # 대문자"
   ]
  },
  {
   "cell_type": "code",
   "execution_count": 137,
   "id": "16e5861d",
   "metadata": {},
   "outputs": [
    {
     "data": {
      "text/plain": [
       "'python is easy. python is smart. pyhton'"
      ]
     },
     "execution_count": 137,
     "metadata": {},
     "output_type": "execute_result"
    }
   ],
   "source": [
    "temp.lower() # 소문자"
   ]
  },
  {
   "cell_type": "code",
   "execution_count": 139,
   "id": "204d9576",
   "metadata": {},
   "outputs": [
    {
     "data": {
      "text/plain": [
       "'Python Is Easy. Python Is Smart. Pyhton'"
      ]
     },
     "execution_count": 139,
     "metadata": {},
     "output_type": "execute_result"
    }
   ],
   "source": [
    "temp.title() #어절마다 (척글자) 대문자"
   ]
  },
  {
   "cell_type": "code",
   "execution_count": 141,
   "id": "811ef4a1",
   "metadata": {},
   "outputs": [
    {
     "data": {
      "text/plain": [
       "'Python is easy. python is smart. pyhton'"
      ]
     },
     "execution_count": 141,
     "metadata": {},
     "output_type": "execute_result"
    }
   ],
   "source": [
    "temp.capitalize() # 첫글자만 대문자로  # 이걸로 temp 로 바꾸고 싶다면 temp=temp.captilize()"
   ]
  },
  {
   "cell_type": "code",
   "execution_count": 147,
   "id": "28d9e85c",
   "metadata": {},
   "outputs": [
    {
     "data": {
      "text/plain": [
       "2"
      ]
     },
     "execution_count": 147,
     "metadata": {},
     "output_type": "execute_result"
    }
   ],
   "source": [
    "temp.count('python') #python 단어만 검색"
   ]
  },
  {
   "cell_type": "code",
   "execution_count": 156,
   "id": "de3c34a4",
   "metadata": {},
   "outputs": [
    {
     "data": {
      "text/plain": [
       "3"
      ]
     },
     "execution_count": 156,
     "metadata": {},
     "output_type": "execute_result"
    }
   ],
   "source": [
    "temp.lower().count('python')\n",
    "temp.upper().count(\"PYTHON\")\n",
    "temp.lower().count('python')"
   ]
  },
  {
   "cell_type": "code",
   "execution_count": 158,
   "id": "49a1da71",
   "metadata": {},
   "outputs": [
    {
     "data": {
      "text/plain": [
       "0"
      ]
     },
     "execution_count": 158,
     "metadata": {},
     "output_type": "execute_result"
    }
   ],
   "source": [
    "temp.find('python') # python 이 나오는 인덱스"
   ]
  },
  {
   "cell_type": "code",
   "execution_count": 160,
   "id": "ddb33eb5",
   "metadata": {},
   "outputs": [
    {
     "data": {
      "text/plain": [
       "-1"
      ]
     },
     "execution_count": 160,
     "metadata": {},
     "output_type": "execute_result"
    }
   ],
   "source": [
    "temp.rfind('python') \n",
    "temp.rfind(\"java\")  # 없으면 -1이 나온다."
   ]
  },
  {
   "cell_type": "code",
   "execution_count": 163,
   "id": "53371af9",
   "metadata": {},
   "outputs": [
    {
     "data": {
      "text/plain": [
       "True"
      ]
     },
     "execution_count": 163,
     "metadata": {},
     "output_type": "execute_result"
    }
   ],
   "source": [
    "temp.startswith('python') # python 으로 시작하나 단 대문자와 소문자 구별할것"
   ]
  },
  {
   "cell_type": "code",
   "execution_count": 164,
   "id": "da800391",
   "metadata": {},
   "outputs": [
    {
     "data": {
      "text/plain": [
       "True"
      ]
     },
     "execution_count": 164,
     "metadata": {},
     "output_type": "execute_result"
    }
   ],
   "source": [
    "temp.endswith('python') # python 으로 끝나나 단 대문자와 소문자 구별할것"
   ]
  },
  {
   "cell_type": "code",
   "execution_count": 178,
   "id": "74ef6ed8",
   "metadata": {},
   "outputs": [
    {
     "name": "stdout",
     "output_type": "stream",
     "text": [
      "python is easy.\n"
     ]
    },
    {
     "data": {
      "text/plain": [
       "'1000'"
      ]
     },
     "execution_count": 178,
     "metadata": {},
     "output_type": "execute_result"
    }
   ],
   "source": [
    "temp='    python is easy.     '\n",
    "notdisit='1,000'\n",
    "num_str ='1000'\n",
    "print(\"{}\".format(temp.strip()))  #좌우공백제거\n",
    "temp.lstrip()  #좌측공백 제거\n",
    "temp.rstrip()  #우측공백 제거\n",
    "notdisit.isdigit() #숫자문자열인지\n",
    "temp.islower() #소문자열인지\n",
    "temp.isupper() #대문자열인지\n",
    "notdisit.replace(',','') #제거\n",
    "num_str.replace(',','') #제거"
   ]
  },
  {
   "cell_type": "code",
   "execution_count": 181,
   "id": "44df866f",
   "metadata": {},
   "outputs": [
    {
     "name": "stdout",
     "output_type": "stream",
     "text": [
      "space단위로 temp 분리 ['홍길동', '김길동', '신길똥', '유길동']\n"
     ]
    }
   ],
   "source": [
    "temp = \"홍길동 김길동 신길똥 유길동\"\n",
    "print('space단위로 temp 분리' ,temp.split())  # 기본이 space 단위로 분리"
   ]
  },
  {
   "cell_type": "code",
   "execution_count": 186,
   "id": "edba3afa",
   "metadata": {},
   "outputs": [
    {
     "name": "stdout",
     "output_type": "stream",
     "text": [
      "-단위로 data를 분리(결과 :list)\n",
      "['2025', '04', '10']\n",
      "년 : 2025\n",
      "월 : 04\n",
      "일 : 10\n"
     ]
    }
   ],
   "source": [
    "data = \"2025-04-10\"\n",
    "print('-단위로 data를 분리(결과 :list)')\n",
    "data_list = data.split('-')\n",
    "print(data_list)\n",
    "print(\"년 :\", data_list[0])\n",
    "print(\"월 :\", data_list[1])\n",
    "print(\"일 :\", data_list[2])"
   ]
  },
  {
   "cell_type": "code",
   "execution_count": 187,
   "id": "48b5273d",
   "metadata": {},
   "outputs": [
    {
     "name": "stdout",
     "output_type": "stream",
     "text": [
      "python \n"
     ]
    }
   ],
   "source": [
    "#\n",
    "temp=\"python - HTML/CSS - JavaScript\"\n",
    "temp_list=temp.split('-')\n",
    "print(temp_list[0])"
   ]
  },
  {
   "cell_type": "code",
   "execution_count": 189,
   "id": "278bc2a5",
   "metadata": {},
   "outputs": [
    {
     "data": {
      "text/plain": [
       "'python / HTML/CSS / JavaScript / DBMS / 딥러닝'"
      ]
     },
     "execution_count": 189,
     "metadata": {},
     "output_type": "execute_result"
    }
   ],
   "source": [
    "temp=\"python - HTML/CSS - JavaScript - DBMS - 딥러닝\"\n",
    "# - 단위자르고 /로 합할 것이다 -를 /로 바꿀거다\n",
    "temp.replace('-','/')"
   ]
  },
  {
   "cell_type": "code",
   "execution_count": 192,
   "id": "eb42dc80",
   "metadata": {},
   "outputs": [
    {
     "name": "stdout",
     "output_type": "stream",
     "text": [
      "['python ', ' HTML/CSS ', ' JavaScript ', ' DBMS ', ' 딥러닝']\n",
      "python / HTML/CSS / JavaScript / DBMS / 딥러닝\n"
     ]
    }
   ],
   "source": [
    "temp=\"python - HTML/CSS - JavaScript - DBMS - 딥러닝\"\n",
    "splited_temp=temp.split('-')    # 나눌떄 변수.split(무엇)\n",
    "print(splited_temp)\n",
    "joined_temp = '/'.join(splited_temp)   # 합할때  무엇.join(변수)\n",
    "print(joined_temp)"
   ]
  },
  {
   "cell_type": "code",
   "execution_count": 193,
   "id": "9ed6cf7c",
   "metadata": {},
   "outputs": [],
   "source": [
    "str_ = 'ABC'"
   ]
  },
  {
   "cell_type": "code",
   "execution_count": 196,
   "id": "5050e6c6",
   "metadata": {
    "collapsed": true
   },
   "outputs": [
    {
     "data": {
      "text/plain": [
       "['__abs__',\n",
       " '__add__',\n",
       " '__and__',\n",
       " '__bool__',\n",
       " '__ceil__',\n",
       " '__class__',\n",
       " '__delattr__',\n",
       " '__dir__',\n",
       " '__divmod__',\n",
       " '__doc__',\n",
       " '__eq__',\n",
       " '__float__',\n",
       " '__floor__',\n",
       " '__floordiv__',\n",
       " '__format__',\n",
       " '__ge__',\n",
       " '__getattribute__',\n",
       " '__getnewargs__',\n",
       " '__gt__',\n",
       " '__hash__',\n",
       " '__index__',\n",
       " '__init__',\n",
       " '__init_subclass__',\n",
       " '__int__',\n",
       " '__invert__',\n",
       " '__le__',\n",
       " '__lshift__',\n",
       " '__lt__',\n",
       " '__mod__',\n",
       " '__mul__',\n",
       " '__ne__',\n",
       " '__neg__',\n",
       " '__new__',\n",
       " '__or__',\n",
       " '__pos__',\n",
       " '__pow__',\n",
       " '__radd__',\n",
       " '__rand__',\n",
       " '__rdivmod__',\n",
       " '__reduce__',\n",
       " '__reduce_ex__',\n",
       " '__repr__',\n",
       " '__rfloordiv__',\n",
       " '__rlshift__',\n",
       " '__rmod__',\n",
       " '__rmul__',\n",
       " '__ror__',\n",
       " '__round__',\n",
       " '__rpow__',\n",
       " '__rrshift__',\n",
       " '__rshift__',\n",
       " '__rsub__',\n",
       " '__rtruediv__',\n",
       " '__rxor__',\n",
       " '__setattr__',\n",
       " '__sizeof__',\n",
       " '__str__',\n",
       " '__sub__',\n",
       " '__subclasshook__',\n",
       " '__truediv__',\n",
       " '__trunc__',\n",
       " '__xor__',\n",
       " 'as_integer_ratio',\n",
       " 'bit_count',\n",
       " 'bit_length',\n",
       " 'conjugate',\n",
       " 'denominator',\n",
       " 'from_bytes',\n",
       " 'imag',\n",
       " 'numerator',\n",
       " 'real',\n",
       " 'to_bytes']"
      ]
     },
     "execution_count": 196,
     "metadata": {},
     "output_type": "execute_result"
    }
   ],
   "source": [
    "#물자열이 다룰 수 있는 함수들 목록\n",
    "dir(str)\n",
    "dir(int)"
   ]
  },
  {
   "cell_type": "markdown",
   "id": "83653cf8",
   "metadata": {},
   "source": [
    "# 7절 시간,날짜,날짜시간 다루기"
   ]
  },
  {
   "cell_type": "code",
   "execution_count": null,
   "id": "47001c49",
   "metadata": {},
   "outputs": [],
   "source": []
  },
  {
   "cell_type": "markdown",
   "id": "cd66a4d3",
   "metadata": {},
   "source": [
    "# 8절. 연습문제"
   ]
  },
  {
   "cell_type": "code",
   "execution_count": 199,
   "id": "118e8c46",
   "metadata": {},
   "outputs": [
    {
     "name": "stdout",
     "output_type": "stream",
     "text": [
      "[홍길동님의 나이는 23 살입니다]\n"
     ]
    }
   ],
   "source": [
    "#1. 이름과 나이 변수를 다음 형식으로 출력하도록 format() 함수를 이용해 형식화하세요\n",
    "#[출력형식 : 홍길동님의 나이는 23 살입니다]\n",
    "name = \"홍길동\"\n",
    "age = \"23\"\n",
    "print(\"[{}님의 나이는 {} 살입니다]\".format(name, age))\n"
   ]
  },
  {
   "cell_type": "code",
   "execution_count": 203,
   "id": "8a9f8554",
   "metadata": {},
   "outputs": [
    {
     "name": "stdout",
     "output_type": "stream",
     "text": [
      "덧셈: 13\n",
      "뺄셈: -3\n",
      "곱셈: 40\n",
      "나눗셈: 0.625\n",
      "나머지: 5\n"
     ]
    }
   ],
   "source": [
    "#2. 두 정수를 입력받아 두 수의 덧셈 , 뺄셈 , 곱셈 , 나눗셈 , 몫 , 나머지를 출력하세요\n",
    "a=5\n",
    "b=8\n",
    "print(\"덧셈:\",a+b)\n",
    "print(\"뺄셈:\",a-b)\n",
    "print(\"곱셈:\",a*b)\n",
    "print(\"나눗셈:\",a/b)\n",
    "print(\"나머지:\",a%b)"
   ]
  },
  {
   "cell_type": "code",
   "execution_count": 213,
   "id": "0535a500",
   "metadata": {},
   "outputs": [
    {
     "name": "stdout",
     "output_type": "stream",
     "text": [
      "'World Hello'\n"
     ]
    }
   ],
   "source": [
    "#3. 문자열의 분리하기와 합치기 기능을 이용하여 ‘Hello World'  가 할당된 변수를 이용하여 'World Hello'로 출력하세요\n",
    "temp='Hello World'\n",
    "temp_list=temp.split()\n",
    "temp_list[0]\n",
    "temp_list[1]\n",
    "print(\"'{} {}'\".format(temp_list[1],temp_list[0]))"
   ]
  },
  {
   "cell_type": "code",
   "execution_count": 241,
   "id": "4eca1af8",
   "metadata": {},
   "outputs": [
    {
     "name": "stdout",
     "output_type": "stream",
     "text": [
      "bcdef\n",
      "a\n",
      "답은:bcdefa\n"
     ]
    }
   ],
   "source": [
    "#4. x = 'abcdef＇를 이용하여 'bcdefa' 로 출력하세요 문자 슬라이싱이용\n",
    "str=\"abcdef\"\n",
    "print(str[1:6])\n",
    "print(str[0])\n",
    "print(\"답은:{}{}\".format(str[1:6],str[0]))"
   ]
  },
  {
   "cell_type": "code",
   "execution_count": 288,
   "id": "f2cd70ee",
   "metadata": {},
   "outputs": [
    {
     "name": "stdout",
     "output_type": "stream",
     "text": [
      "bcdefa\n"
     ]
    }
   ],
   "source": [
    "#5. x = ‘ abcdef 를 이용하여 fedcba 로 출력하세요\n",
    "str_=\"abcdef\"\n",
    "print(str_[1:]+str_[0])"
   ]
  },
  {
   "cell_type": "code",
   "execution_count": 265,
   "id": "1ab1912d",
   "metadata": {},
   "outputs": [
    {
     "name": "stdout",
     "output_type": "stream",
     "text": [
      "오늘섭씨온도>18\n",
      "오늘의 화씨온도는64F입니다\n"
     ]
    }
   ],
   "source": [
    "#6. 오늘의 온도를 섭씨온도로 입력받아 화씨 온도로 변환하는 프로그램을 작성하세요 . 화\n",
    "#씨 온도는 소수점이 있을 경우만 두번째 자리까지 출력되고 , 소수점이하 값이 없는 경우 \n",
    "#소수점을 출력하지 않도록 합니다 다음은 섭씨와 화씨의 변환 공식입니다 . C 는 섭씨 ,F 는 화씨\n",
    "# C = (F-32) / 1.8, F = (C*1.8) + 32\n",
    "오늘온도=int(input(\"오늘섭씨온도>\"))\n",
    "화씨온도=int((오늘온도*1.8)+32)\n",
    "print(\"오늘의 화씨온도는{}F입니다\".format(int((오늘온도*1.8)+32)))"
   ]
  },
  {
   "cell_type": "code",
   "execution_count": 266,
   "id": "a3a37fb7",
   "metadata": {},
   "outputs": [
    {
     "data": {
      "text/plain": [
       "5"
      ]
     },
     "execution_count": 266,
     "metadata": {},
     "output_type": "execute_result"
    }
   ],
   "source": [
    "#7 다음 중 변수 선언으로 잘못된 것을 모두 고르시오\n",
    "  # 답 : 1,3,4"
   ]
  },
  {
   "cell_type": "code",
   "execution_count": 267,
   "id": "4e72a8d3",
   "metadata": {},
   "outputs": [],
   "source": [
    "#8 코드의 실행결과\n",
    "  # 답 : 잘 모르겠습니다.."
   ]
  },
  {
   "cell_type": "code",
   "execution_count": 273,
   "id": "ba686dfd",
   "metadata": {},
   "outputs": [],
   "source": [
    "#9 답 : 1"
   ]
  },
  {
   "cell_type": "code",
   "execution_count": 276,
   "id": "04995adf",
   "metadata": {},
   "outputs": [],
   "source": [
    "# 10 : 오류로 나올 것이다"
   ]
  },
  {
   "cell_type": "code",
   "execution_count": 285,
   "id": "0fd5a3e2",
   "metadata": {},
   "outputs": [
    {
     "name": "stdout",
     "output_type": "stream",
     "text": [
      "\"나라\"\n"
     ]
    }
   ],
   "source": [
    "#11 \n",
    "str_=\"우리 나라 대한 민국\"\n",
    "str_list=str_.split( )\n",
    "str_list[1]\n",
    "print('\"{}\"'.format(str_list[1]))"
   ]
  },
  {
   "cell_type": "code",
   "execution_count": 289,
   "id": "064911bd",
   "metadata": {},
   "outputs": [],
   "source": [
    "del str"
   ]
  },
  {
   "cell_type": "code",
   "execution_count": null,
   "id": "fc38d4ba",
   "metadata": {},
   "outputs": [],
   "source": []
  }
 ],
 "metadata": {
  "kernelspec": {
   "display_name": "Python 3 (ipykernel)",
   "language": "python",
   "name": "python3"
  },
  "language_info": {
   "codemirror_mode": {
    "name": "ipython",
    "version": 3
   },
   "file_extension": ".py",
   "mimetype": "text/x-python",
   "name": "python",
   "nbconvert_exporter": "python",
   "pygments_lexer": "ipython3",
   "version": "3.10.9"
  },
  "toc": {
   "base_numbering": 1,
   "nav_menu": {},
   "number_sections": false,
   "sideBar": true,
   "skip_h1_title": false,
   "title_cell": "Table of Contents",
   "title_sidebar": "Contents",
   "toc_cell": false,
   "toc_position": {
    "height": "calc(100% - 180px)",
    "left": "10px",
    "top": "150px",
    "width": "165px"
   },
   "toc_section_display": true,
   "toc_window_display": true
  }
 },
 "nbformat": 4,
 "nbformat_minor": 5
}
