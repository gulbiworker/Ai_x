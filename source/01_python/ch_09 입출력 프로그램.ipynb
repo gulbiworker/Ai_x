{
 "cells": [
  {
   "cell_type": "code",
   "execution_count": 1,
   "id": "2ce7c24d",
   "metadata": {},
   "outputs": [
    {
     "data": {
      "text/html": [
       "\n",
       "<style>\n",
       "div.container{width:86% !important;}\n",
       "div.cell.code_cell.rendered{width:100%;}\n",
       "div.CodeMirror {font-family:Consolas; font-size:15pt;}\n",
       "div.output {font-size:15pt; font-weight:bold;}\n",
       "div.input {font-family:Consolas; font-size:15pt;}\n",
       "div.prompt {min-width:70px;\n",
       "div#toc-wrapper{padding-top:120px;}\n",
       "div.text_cell_render ul li{font-size:12pt;padding:5px;}\n",
       "table.dataframe{font-size:15px;}\n",
       "</style>\n"
      ],
      "text/plain": [
       "<IPython.core.display.HTML object>"
      ]
     },
     "metadata": {},
     "output_type": "display_data"
    }
   ],
   "source": [
    "from IPython.display import display, HTML\n",
    "display(HTML(\"\"\"\n",
    "<style>\n",
    "div.container{width:86% !important;}\n",
    "div.cell.code_cell.rendered{width:100%;}\n",
    "div.CodeMirror {font-family:Consolas; font-size:15pt;}\n",
    "div.output {font-size:15pt; font-weight:bold;}\n",
    "div.input {font-family:Consolas; font-size:15pt;}\n",
    "div.prompt {min-width:70px;\n",
    "div#toc-wrapper{padding-top:120px;}\n",
    "div.text_cell_render ul li{font-size:12pt;padding:5px;}\n",
    "table.dataframe{font-size:15px;}\n",
    "</style>\n",
    "\"\"\"))"
   ]
  },
  {
   "cell_type": "markdown",
   "id": "da5d2a1f",
   "metadata": {},
   "source": [
    "<font size=\"5\" color=\"red\">ch09 입출력 프로그램</font>\n",
    "파일 : txt, pickle, csv, json, hdf5(h5)\n",
    "\n",
    "# 1절. txt파일에 데이터 저장하고 불러오기"
   ]
  },
  {
   "cell_type": "code",
   "execution_count": 2,
   "id": "922b0559",
   "metadata": {},
   "outputs": [],
   "source": [
    "#try: \n",
    "#    f = open('data/ch09.txt', 'w') # 데이터 출력\n",
    "#except FileNotFoundError as e:\n",
    "#    print(e)   # 파일 이름이 잘못치면 try, except 하고 예외 처리를 해주어야 한다\n",
    "#finally:\n",
    "#    f.close()"
   ]
  },
  {
   "cell_type": "code",
   "execution_count": 3,
   "id": "a6c99b9d",
   "metadata": {},
   "outputs": [
    {
     "name": "stdout",
     "output_type": "stream",
     "text": [
      "쓰기 가능한지 여부 : True\n"
     ]
    }
   ],
   "source": [
    "f = open('data/ch09.txt', 'w')\n",
    "print('쓰기 가능한지 여부 :', f.writable())"
   ]
  },
  {
   "cell_type": "code",
   "execution_count": 4,
   "id": "582b4689",
   "metadata": {},
   "outputs": [],
   "source": [
    "f.write(\"H\")\n",
    "f.close()    #close()로 마무리 지어야 함   저장은 x"
   ]
  },
  {
   "cell_type": "code",
   "execution_count": 20,
   "id": "b4ce95c2",
   "metadata": {},
   "outputs": [
    {
     "name": "stdout",
     "output_type": "stream",
     "text": [
      "쓰기 가능한지 여부 : True\n"
     ]
    }
   ],
   "source": [
    "# mode : 'r' 또는 'rt' : text읽기 모드\n",
    "      #  'rb' : 바이너리읽기 모드\n",
    "      #  'w' 또는 'wt' : text쓰기 모드 (파일이 있으면 덮어씀, 파일이 없으면 파일 생성)\n",
    "      #  'wb' : 바이너리쓰기 모드\n",
    "      #  'a' 또는 'at' : text 추가 모드(파일이 있으면 append, 파일이 없으면 파일 생성)\n",
    "      # 읽기모드에서는 파일이 없으면 예외/쓰기모드에서는 폴더가 없으면 예외\n",
    "# encoding \n",
    "     # euc-kr (한글완성형) 믜x\n",
    "     # cp949 (확장된 한글완성형) : open()함수 기본 encoding방식(win)\n",
    "     # utf-8 (한글조합형): open()함수 기본 encoding방식(mac, linux), 주피터노트북 기본\n",
    "with open('data/ch09.txt', 'w') as f:\n",
    "    print('쓰기 가능한지 여부 :', f.writable())\n",
    "    f.write('Hello\\nPython')"
   ]
  },
  {
   "cell_type": "code",
   "execution_count": 21,
   "id": "c5a838be",
   "metadata": {},
   "outputs": [],
   "source": [
    "with open('data/ch09.txt', 'w') as f:\n",
    "    # 1방법\n",
    "    f.write('홍길동, 33, 아무동9\\n')\n",
    "    f.write('김길동, 33, 아무동9\\n')\n",
    "    # 2방법\n",
    "    textlist = ['홍길동, 33, 아무동9\\n', '김길동, 33, 아무동9\\n']\n",
    "    for line in textlist:\n",
    "        f.write(line)\n",
    "    # 3방법\n",
    "    f.writelines(textlist)"
   ]
  },
  {
   "cell_type": "code",
   "execution_count": 22,
   "id": "f9347277",
   "metadata": {},
   "outputs": [
    {
     "name": "stdout",
     "output_type": "stream",
     "text": [
      "홍길동, 33, 아무동9\n",
      "김길동, 33, 아무동9\n",
      "홍길동, 33, 아무동9\n",
      "김길동, 33, 아무동9\n",
      "홍길동, 33, 아무동9\n",
      "김길동, 33, 아무동9\n"
     ]
    }
   ],
   "source": [
    "# 한줄씩 읽기\n",
    "with open('data/ch09.txt', 'r') as f:\n",
    "    line = f.readline()\n",
    "    while line!='':\n",
    "        print(line, end='')\n",
    "        line = f.readline()"
   ]
  },
  {
   "cell_type": "code",
   "execution_count": 23,
   "id": "f2afb1a7",
   "metadata": {},
   "outputs": [
    {
     "name": "stdout",
     "output_type": "stream",
     "text": [
      "['홍길동, 33, 아무동9\\n', '김길동, 33, 아무동9\\n', '홍길동, 33, 아무동9\\n', '김길동, 33, 아무동9\\n', '홍길동, 33, 아무동9\\n', '김길동, 33, 아무동9\\n']\n"
     ]
    }
   ],
   "source": [
    "# 모든 줄을 읽기\n",
    "with open('data/ch09.txt', 'r') as f:\n",
    "    lines = f.readlines()\n",
    "    print(lines)"
   ]
  },
  {
   "cell_type": "code",
   "execution_count": 24,
   "id": "00378370",
   "metadata": {},
   "outputs": [
    {
     "name": "stdout",
     "output_type": "stream",
     "text": [
      "홍길동, 33, 아무동9\n",
      "김길동, 33, 아무동9\n",
      "홍길동, 33, 아무동9\n",
      "김길동, 33, 아무동9\n",
      "홍길동, 33, 아무동9\n",
      "김길동, 33, 아무동9\n",
      "\n"
     ]
    }
   ],
   "source": [
    "# 모두 읽기\n",
    "with open('data/ch09.txt', 'r') as f:\n",
    "    lines = f.read()\n",
    "    print(lines)"
   ]
  },
  {
   "cell_type": "markdown",
   "id": "4b074494",
   "metadata": {},
   "source": [
    "## 2절. 피클을 이용한 객체 저장 및 불러오기\n",
    "# 2.1 형식이 있는 txt 데이터 불러오기"
   ]
  },
  {
   "cell_type": "code",
   "execution_count": 25,
   "id": "af755357",
   "metadata": {},
   "outputs": [],
   "source": [
    "class Member:\n",
    "    def __init__(self, name, age, email, address):\n",
    "        self.name=name\n",
    "        self.age=age\n",
    "        self.email=email\n",
    "        self.address=address\n",
    "    def __str__(self):\n",
    "        return \"{}, {}, {}, {}\" .format(self.name, \"성년\" if self.age>18 else \"미성년\", self.email,\n",
    "                                         self.address)\n",
    "    def as_dict(self): # 객체를 dic 로 반환해줌\n",
    "        return{\n",
    "            'name':self.name,\n",
    "            'age':self.age,\n",
    "            'email':self.email,\n",
    "            'address':self.address\n",
    "        }\n",
    "    def __eq__(self, other):\n",
    "        return self.name == other.name and\\\n",
    "        self.age == other.age and self.email == other.email and\\\n",
    "        self.address == other.address\n",
    "    "
   ]
  },
  {
   "cell_type": "code",
   "execution_count": 26,
   "id": "41ae0dfb",
   "metadata": {},
   "outputs": [
    {
     "name": "stdout",
     "output_type": "stream",
     "text": [
      "True\n",
      "True\n"
     ]
    }
   ],
   "source": [
    "user1 = Member('홍',20,'a@a.com','신림동')\n",
    "user2 = Member('홍',20,'a@a.com','신림동')\n",
    "print(user1==user2)\n",
    "print(user1.__eq__(user2)) # 같은 내용이면 True"
   ]
  },
  {
   "cell_type": "code",
   "execution_count": 27,
   "id": "353d13c8",
   "metadata": {},
   "outputs": [],
   "source": [
    "# 형식이 있는 txt 파일 내용을 member list(피클 저장), 딕셔너리 list(데이터프레임)로 저장\n",
    "user_list = [] # member list\n",
    "user_dict = [] # 딕셔너리 list\n",
    "with open('data/ch09_member.txt', 'r', encoding='utf-8') as f:\n",
    "    lines = f.readlines()\n",
    "#print(lines)\n",
    "for line in lines:\n",
    "    data = line.split(',')\n",
    "    #print(data)\n",
    "    name=data[\n",
    "    age=int(data[1].strip())   # strip() 는 좌우 공백제거\n",
    "    email = data[2].strip()\n",
    "    address = data[3].strip()\n",
    "    user = Member(name, age, email, address)\n",
    "    user_list.append(user)\n",
    "    user_dict.append(user.as_dict())"
   ]
  },
  {
   "cell_type": "code",
   "execution_count": 28,
   "id": "9e8b4a79",
   "metadata": {},
   "outputs": [
    {
     "data": {
      "text/plain": [
       "[{'name': '홍길동', 'age': 20, 'email': 'kildong@hong.com', 'address': '서울시 관악구'},\n",
       " {'name': '홍길숙',\n",
       "  'age': 25,\n",
       "  'email': 'kilsuk1@hong.com',\n",
       "  'address': '서울시 영등포구'},\n",
       " {'name': '신길동', 'age': 30, 'email': 'shinkil@hong.com', 'address': '서울시 동작구'}]"
      ]
     },
     "execution_count": 28,
     "metadata": {},
     "output_type": "execute_result"
    }
   ],
   "source": [
    "user_dict"
   ]
  },
  {
   "cell_type": "code",
   "execution_count": 29,
   "id": "7e8363ff",
   "metadata": {},
   "outputs": [
    {
     "name": "stdout",
     "output_type": "stream",
     "text": [
      "홍길동, 성년, kildong@hong.com, 서울시 관악구\n",
      "홍길숙, 성년, kilsuk1@hong.com, 서울시 영등포구\n",
      "신길동, 성년, shinkil@hong.com, 서울시 동작구\n"
     ]
    }
   ],
   "source": [
    "for user in user_list:\n",
    "    print(user)"
   ]
  },
  {
   "cell_type": "markdown",
   "id": "6fa4c981",
   "metadata": {},
   "source": [
    "## 2.2 피클링\n",
    "- 객체 리스트(user_list) -> 피클파일로 쓰기\n",
    "- 피클 파일을 읽기 -> 객체 리스트(load_user_list)"
   ]
  },
  {
   "cell_type": "code",
   "execution_count": 30,
   "id": "5444a105",
   "metadata": {},
   "outputs": [],
   "source": [
    "# 피클링을 이용한 객체를 저장하기\n",
    "import pickle\n",
    "with open('data/ch09_member.data', 'wb') as f:\n",
    "    pickle.dump(user_list, f)"
   ]
  },
  {
   "cell_type": "code",
   "execution_count": 31,
   "id": "ade45da0",
   "metadata": {},
   "outputs": [],
   "source": [
    "# 피클링을 이용한 파일에서 객체 데이터로 읽기\n",
    "with open('data/ch09_member.data', 'rb') as f:\n",
    "    load_user_list = pickle.load(f)"
   ]
  },
  {
   "cell_type": "code",
   "execution_count": 32,
   "id": "0ac1bc7e",
   "metadata": {},
   "outputs": [
    {
     "data": {
      "text/plain": [
       "True"
      ]
     },
     "execution_count": 32,
     "metadata": {},
     "output_type": "execute_result"
    }
   ],
   "source": [
    "user_list == load_user_list"
   ]
  },
  {
   "cell_type": "code",
   "execution_count": 33,
   "id": "eba6711b",
   "metadata": {},
   "outputs": [
    {
     "ename": "TypeError",
     "evalue": "'Member' object is not subscriptable",
     "output_type": "error",
     "traceback": [
      "\u001b[1;31m---------------------------------------------------------------------------\u001b[0m",
      "\u001b[1;31mTypeError\u001b[0m                                 Traceback (most recent call last)",
      "Cell \u001b[1;32mIn[33], line 2\u001b[0m\n\u001b[0;32m      1\u001b[0m \u001b[38;5;28;01mfor\u001b[39;00m idx \u001b[38;5;129;01min\u001b[39;00m \u001b[38;5;28mrange\u001b[39m(\u001b[38;5;28mlen\u001b[39m(user_list)):\n\u001b[1;32m----> 2\u001b[0m     \u001b[38;5;28mprint\u001b[39m(idx, \u001b[43muser\u001b[49m\u001b[43m[\u001b[49m\u001b[43midx\u001b[49m\u001b[43m]\u001b[49m)\n\u001b[0;32m      3\u001b[0m     \u001b[38;5;28mprint\u001b[39m(idx, load_user_list[idx])\n",
      "\u001b[1;31mTypeError\u001b[0m: 'Member' object is not subscriptable"
     ]
    }
   ],
   "source": [
    "for idx in range(len(user_list)):\n",
    "    print(idx, user[idx])\n",
    "    print(idx, load_user_list[idx])"
   ]
  },
  {
   "cell_type": "code",
   "execution_count": 34,
   "id": "da93ed0e",
   "metadata": {},
   "outputs": [
    {
     "name": "stdout",
     "output_type": "stream",
     "text": [
      "홍길동, 성년, kildong@hong.com, 서울시 관악구\n",
      "홍길동, 성년, kildong@hong.com, 서울시 관악구\n",
      "True\n",
      "홍길숙, 성년, kilsuk1@hong.com, 서울시 영등포구\n",
      "홍길숙, 성년, kilsuk1@hong.com, 서울시 영등포구\n",
      "True\n",
      "신길동, 성년, shinkil@hong.com, 서울시 동작구\n",
      "신길동, 성년, shinkil@hong.com, 서울시 동작구\n",
      "True\n"
     ]
    }
   ],
   "source": [
    "for idx, (user, load_user) in enumerate(zip(user_list, load_user_list)):  # zip 은 같은 인덱스를 짝지어줌\n",
    "    print(user)\n",
    "    print(load_user)\n",
    "    print(user == load_user)"
   ]
  },
  {
   "cell_type": "code",
   "execution_count": 35,
   "id": "e79ae4fd",
   "metadata": {},
   "outputs": [
    {
     "data": {
      "text/plain": [
       "True"
      ]
     },
     "execution_count": 35,
     "metadata": {},
     "output_type": "execute_result"
    }
   ],
   "source": [
    "result = []\n",
    "for user, load_user in zip(user_list, load_user_list):\n",
    "    result.append(user==load_user)\n",
    "all(result)"
   ]
  },
  {
   "cell_type": "markdown",
   "id": "b78a921a",
   "metadata": {},
   "source": [
    "# 3절. csv 형식 파일 읽기/쓰기\n",
    "- csv <-> 리스트데이터로 읽기 3.1/3.2\n",
    "- csv <-> 딕셔너리데이터 3.3/3.4"
   ]
  },
  {
   "cell_type": "markdown",
   "id": "f7613952",
   "metadata": {},
   "source": [
    "## 3.1 reader"
   ]
  },
  {
   "cell_type": "code",
   "execution_count": 36,
   "id": "173d46c1",
   "metadata": {},
   "outputs": [
    {
     "name": "stdout",
     "output_type": "stream",
     "text": [
      "[['홍길동', '20', 'kildong@hong.com', '서울시 관악구'], ['김길동', '40', 'kimdong@hong.com', '서울시 영등포구'], ['신길동', '30', 'sindong@hong.com', '서울시 동작구']]\n"
     ]
    }
   ],
   "source": [
    "import csv    \n",
    "with open('data/ch09_member1.csv', 'r', encoding='utf-8') as f:\n",
    "    reader = csv.reader(f)\n",
    "    result = list(reader)\n",
    "print(result)   # print(list(reader)) : 사용할 경우 띄어쓰기 주의해야 할것"
   ]
  },
  {
   "cell_type": "code",
   "execution_count": 37,
   "id": "c58b44e5",
   "metadata": {},
   "outputs": [
    {
     "name": "stdout",
     "output_type": "stream",
     "text": [
      "[['홍길동', 20.0, 'kildong@hong.com', '서울시 관악구'], ['김길동', 40.0, 'kimdong@hong.com', '서울시 영등포구'], ['신길동', 30.0, 'sindong@hong.com', '서울시 동작구']]\n"
     ]
    }
   ],
   "source": [
    "# \"\"(따옴표)가 없는 데이터는 numeric으로 \n",
    "import csv\n",
    "with open('data/ch09_member1.csv', 'r', encoding='utf-8') as f:\n",
    "    reader = csv.reader(f, \n",
    "                       quoting=csv.QUOTE_NONNUMERIC)\n",
    "    result = list(reader)\n",
    "print(result)"
   ]
  },
  {
   "cell_type": "code",
   "execution_count": 38,
   "id": "d4515209",
   "metadata": {},
   "outputs": [
    {
     "name": "stdout",
     "output_type": "stream",
     "text": [
      "[{'name': '홍길동', 'age': 20, 'email': 'kildong@hong.com', 'address': '서울시 관악구'}, {'name': '김길동', 'age': 40, 'email': 'kimdong@hong.com', 'address': '서울시 영등포구'}, {'name': '신길동', 'age': 30, 'email': 'sindong@hong.com', 'address': '서울시 동작구'}]\n"
     ]
    }
   ],
   "source": [
    "import csv\n",
    "with open('data/ch09_member1.csv', 'r', encoding='utf-8') as f:\n",
    "    reader = csv.reader(f, \n",
    "                       quoting=csv.QUOTE_NONNUMERIC)\n",
    "    result = list(reader)\n",
    "dict_list = []\n",
    "for data in result:\n",
    "    dict_list.append({\n",
    "        'name':data[0],\n",
    "        'age':int(data[1]),\n",
    "        'email':data[2],\n",
    "        'address':data[3]\n",
    "    })\n",
    "print(dict_list)"
   ]
  },
  {
   "cell_type": "markdown",
   "id": "59d061b6",
   "metadata": {},
   "source": [
    "## 3.2 writer"
   ]
  },
  {
   "cell_type": "code",
   "execution_count": 39,
   "id": "53b52aaf",
   "metadata": {},
   "outputs": [],
   "source": [
    "user_list=[['홍길동', 20, 'kildong@hong.com', '서울시 관악구'], \n",
    "           ['김길동', 40, 'kimdong@hong.com', '서울시 영등포구']]"
   ]
  },
  {
   "cell_type": "code",
   "execution_count": 40,
   "id": "7fc60a9e",
   "metadata": {},
   "outputs": [],
   "source": [
    "with open('data/ch09_member_write.csv', 'a', newline='', encoding='utf-8') as f:\n",
    "    writer = csv.writer(f)\n",
    "    writer.writerows(user_list)"
   ]
  },
  {
   "cell_type": "code",
   "execution_count": 41,
   "id": "56213314",
   "metadata": {},
   "outputs": [],
   "source": [
    "import csv\n",
    "with open('data/ch09_member_write.csv', 'w', newline='', encoding='utf-8') as f:\n",
    "    writer = csv.writer(f, quoting=csv.QUOTE_NONNUMERIC)\n",
    "    writer.writerows(user_list)"
   ]
  },
  {
   "cell_type": "markdown",
   "id": "da26a7e7",
   "metadata": {},
   "source": [
    "## 3.3 DictReader "
   ]
  },
  {
   "cell_type": "code",
   "execution_count": 42,
   "id": "40e7533c",
   "metadata": {},
   "outputs": [
    {
     "name": "stdout",
     "output_type": "stream",
     "text": [
      "<csv.DictReader object at 0x0000016AF53143D0>\n",
      "홍길동 20 h@h.com 서울시 관악구\n",
      "신길동 40 s@h.com 서울시 영등포구 팀장\n",
      "김길동 30 k@h.com 서울시 동작구\n"
     ]
    }
   ],
   "source": [
    "import csv\n",
    "#헤더가 있으면 지정 안해도 되고 없으면 해야 한다\n",
    "with open('data/ch09_member3.csv', 'r', encoding='utf-8') as f:\n",
    "    dict_reader = csv.DictReader(f)\n",
    "    print(dict_reader)\n",
    "    for row in dict_reader:\n",
    "        if row['job'] is None:  # == None 이라는 표현 보다 is None 사용하기\n",
    "            print(row['name'], row['age'], row['email'], row['address'])\n",
    "        else:\n",
    "            print(row['name'], row['age'], row['email'], row['address'], row['job'])"
   ]
  },
  {
   "cell_type": "code",
   "execution_count": 43,
   "id": "63109706",
   "metadata": {},
   "outputs": [
    {
     "name": "stdout",
     "output_type": "stream",
     "text": [
      "{'Name': '홍길동', 'Age': '20', 'Email': 'kildong@hong.com', 'Address': '서울시 관악구', 'job': ['']}\n",
      "{'Name': '김길동', 'Age': '40', 'Email': 'kimdong@hong.com', 'Address': '서울시 영등포구', 'job': ['팀장']}\n",
      "{'Name': '신길동', 'Age': '30', 'Email': 'sindong@hong.com', 'Address': '서울시 동작구', 'job': ['']}\n"
     ]
    }
   ],
   "source": [
    "# 헤더가 없는 csv파일(ch09_member1-cp.csv)을 dict로 읽기\n",
    "with open('data/ch09_member1-cp.csv', encoding='cp949') as f:\n",
    "    dict_reader = csv.DictReader(f,\n",
    "                fieldnames=['Name', 'Age','Email','Address',],\n",
    "                                restkey='job') #헤더가 없어서 이렇게 해 주어야 함\n",
    "    restult = list(dict_reader)\n",
    "for row in restult:\n",
    "    print(row)"
   ]
  },
  {
   "cell_type": "markdown",
   "id": "798566f7",
   "metadata": {},
   "source": [
    "## 3.4 DictWriter\n",
    "- 딕셔너리 리스트 -> csv파일"
   ]
  },
  {
   "cell_type": "code",
   "execution_count": 44,
   "id": "789e89ae",
   "metadata": {},
   "outputs": [],
   "source": [
    "user1 = {'name' : '홍길동', 'age':22, 'email':'a@a.com', 'address':'신림동'}\n",
    "user2 = {'name' : '신길동', 'age':32, 'email':'a@a.com', 'address':'신림동'}\n",
    "user3 = {'name' : '김길동', 'age':42, 'email':'a@a.com', 'address':'신림동'}\n",
    "user_list = [user1, user2, user3]\n",
    "fieldnames=list(user1.keys())"
   ]
  },
  {
   "cell_type": "code",
   "execution_count": 45,
   "id": "9221111c",
   "metadata": {},
   "outputs": [
    {
     "data": {
      "text/plain": [
       "dict_values(['홍길동', 22, 'a@a.com', '신림동'])"
      ]
     },
     "execution_count": 45,
     "metadata": {},
     "output_type": "execute_result"
    }
   ],
   "source": [
    "user1.values()"
   ]
  },
  {
   "cell_type": "code",
   "execution_count": 46,
   "id": "54c7efce",
   "metadata": {},
   "outputs": [
    {
     "data": {
      "text/plain": [
       "dict_keys(['name', 'age', 'email', 'address'])"
      ]
     },
     "execution_count": 46,
     "metadata": {},
     "output_type": "execute_result"
    }
   ],
   "source": [
    "user1.keys()"
   ]
  },
  {
   "cell_type": "code",
   "execution_count": 47,
   "id": "da6576a2",
   "metadata": {},
   "outputs": [
    {
     "data": {
      "text/plain": [
       "dict_items([('name', '홍길동'), ('age', 22), ('email', 'a@a.com'), ('address', '신림동')])"
      ]
     },
     "execution_count": 47,
     "metadata": {},
     "output_type": "execute_result"
    }
   ],
   "source": [
    "user1.items()"
   ]
  },
  {
   "cell_type": "code",
   "execution_count": 48,
   "id": "ae2fc1b9",
   "metadata": {},
   "outputs": [
    {
     "name": "stdout",
     "output_type": "stream",
     "text": [
      "['name', 'age', 'email', 'address']\n"
     ]
    }
   ],
   "source": [
    "print(fieldnames)"
   ]
  },
  {
   "cell_type": "code",
   "execution_count": 49,
   "id": "df196d4e",
   "metadata": {},
   "outputs": [],
   "source": [
    "with open('data/ch09_member4.csv', 'w', encoding='utf-8', newline='') as f:\n",
    "    dict_writer = csv.DictWriter(f,\n",
    "                                fieldnames=fieldnames)  # fieldname 에 fieldname 을 넣는것?\n",
    "    dict_writer.writeheader() # header 쓰기\n",
    "    dict_writer.writerows(user_list)"
   ]
  },
  {
   "cell_type": "markdown",
   "id": "ca92723e",
   "metadata": {},
   "source": [
    "## csv <-> 데이터 프레임"
   ]
  },
  {
   "cell_type": "code",
   "execution_count": 50,
   "id": "4be4ebed",
   "metadata": {},
   "outputs": [
    {
     "data": {
      "text/html": [
       "<div>\n",
       "<style scoped>\n",
       "    .dataframe tbody tr th:only-of-type {\n",
       "        vertical-align: middle;\n",
       "    }\n",
       "\n",
       "    .dataframe tbody tr th {\n",
       "        vertical-align: top;\n",
       "    }\n",
       "\n",
       "    .dataframe thead th {\n",
       "        text-align: right;\n",
       "    }\n",
       "</style>\n",
       "<table border=\"1\" class=\"dataframe\">\n",
       "  <thead>\n",
       "    <tr style=\"text-align: right;\">\n",
       "      <th></th>\n",
       "      <th>name</th>\n",
       "      <th>age</th>\n",
       "      <th>email</th>\n",
       "      <th>address</th>\n",
       "      <th>job</th>\n",
       "    </tr>\n",
       "  </thead>\n",
       "  <tbody>\n",
       "    <tr>\n",
       "      <th>0</th>\n",
       "      <td>홍길동</td>\n",
       "      <td>20</td>\n",
       "      <td>h@h.com</td>\n",
       "      <td>서울시 관악구</td>\n",
       "      <td>NaN</td>\n",
       "    </tr>\n",
       "    <tr>\n",
       "      <th>1</th>\n",
       "      <td>신길동</td>\n",
       "      <td>40</td>\n",
       "      <td>s@h.com</td>\n",
       "      <td>서울시 영등포구</td>\n",
       "      <td>팀장</td>\n",
       "    </tr>\n",
       "    <tr>\n",
       "      <th>2</th>\n",
       "      <td>김길동</td>\n",
       "      <td>30</td>\n",
       "      <td>k@h.com</td>\n",
       "      <td>서울시 동작구</td>\n",
       "      <td>NaN</td>\n",
       "    </tr>\n",
       "  </tbody>\n",
       "</table>\n",
       "</div>"
      ],
      "text/plain": [
       "  name  age    email   address  job\n",
       "0  홍길동   20  h@h.com   서울시 관악구  NaN\n",
       "1  신길동   40  s@h.com  서울시 영등포구   팀장\n",
       "2  김길동   30  k@h.com   서울시 동작구  NaN"
      ]
     },
     "execution_count": 50,
     "metadata": {},
     "output_type": "execute_result"
    }
   ],
   "source": [
    "import pandas as pd\n",
    "member = pd.read_csv('data/ch09_member3.csv', encoding='utf-8')\n",
    "member"
   ]
  },
  {
   "cell_type": "code",
   "execution_count": 51,
   "id": "3c29ecc8",
   "metadata": {},
   "outputs": [
    {
     "data": {
      "text/plain": [
       "pandas.core.frame.DataFrame"
      ]
     },
     "execution_count": 51,
     "metadata": {},
     "output_type": "execute_result"
    }
   ],
   "source": [
    "type(member)"
   ]
  },
  {
   "cell_type": "markdown",
   "id": "dfc7e5ac",
   "metadata": {},
   "source": [
    "## 4절. JSON 데이터 저장하고 불러오기(dump, load)\n",
    "- 딕셔너리리스트 <->JSON파일\n",
    "- 객체리스트 <-> JSON 파일\n",
    "## 4.1 dump(파일 출력)\n"
   ]
  },
  {
   "cell_type": "code",
   "execution_count": 52,
   "id": "8f71776e",
   "metadata": {},
   "outputs": [],
   "source": [
    "data = [{'name': '홍길동', 'age': 20, 'email': 'kildong@hong.com', 'address': '서울시 관악구'},\n",
    "        {'name': '신길동', 'age': 30, 'email': 'shinkil@hong.com', 'address': '서울시 동작구'}]"
   ]
  },
  {
   "cell_type": "code",
   "execution_count": 53,
   "id": "28b3e919",
   "metadata": {},
   "outputs": [],
   "source": [
    "# ensure_ascii 매개변수\n",
    "    # True : 비 ASCII문은 유니코드 형태로 저장\n",
    "    # False : 비 ASCII문자 원래 형태로 저장\n",
    "import json\n",
    "with open('data/ch09_member.json','w', encoding='utf-8') as jsonfile:\n",
    "    json.dump(data, # 딕셔너리 리스트\n",
    "              jsonfile,\n",
    "              ensure_ascii=False,\n",
    "              indent='\\t')  # 들여쓰기 또는 띄어쓰기용\n",
    "    "
   ]
  },
  {
   "cell_type": "code",
   "execution_count": 54,
   "id": "c7ce6f49",
   "metadata": {},
   "outputs": [],
   "source": [
    "class Member:\n",
    "    def __init__(self, name, age, email, address):\n",
    "        self.name=name\n",
    "        self.age=age\n",
    "        self.email=email\n",
    "        self.address=address\n",
    "    def __str__(self):\n",
    "        return \"{}, {}, {}, {}\" .format(self.name, \"성년\" if self.age>18 else \"미성년\", self.email,\n",
    "                                         self.address)\n",
    "    def as_dict(self): # 객체를 dic 로 반환해줌\n",
    "        return{\n",
    "            'name':self.name,\n",
    "            'age':self.age,\n",
    "            'email':self.email,\n",
    "            'address':self.address\n",
    "               }\n",
    "    def __eq__(self, other):\n",
    "        if isinstance(other, Member):\n",
    "            return self.__str__() == other.__str__()\n",
    "        \n",
    "        else:\n",
    "            return False\n",
    "    "
   ]
  },
  {
   "cell_type": "code",
   "execution_count": 55,
   "id": "3ec6755f",
   "metadata": {},
   "outputs": [
    {
     "name": "stdout",
     "output_type": "stream",
     "text": [
      "True\n",
      "True\n"
     ]
    }
   ],
   "source": [
    "user1 = Member('홍길동', 22, 'a@a.com','신림동')\n",
    "user2 = Member('홍길동', 22, 'a@a.com','신림동')\n",
    "print(user1.__eq__(user2))\n",
    "print(user1== user2)"
   ]
  },
  {
   "cell_type": "code",
   "execution_count": 56,
   "id": "cd1e2f3b",
   "metadata": {},
   "outputs": [],
   "source": [
    "member_list = [Member('홍길동', 2, 'a@a.com', '서울'),\n",
    "               Member('신길동', 2, 'a@a.com', '서울'),\n",
    "               Member('김길동', 2, 'a@a.com', '서울'),]"
   ]
  },
  {
   "cell_type": "code",
   "execution_count": 57,
   "id": "51191898",
   "metadata": {},
   "outputs": [],
   "source": [
    "with open('data/ch09_member1.json','w', encoding='utf-8') as jsonfile:\n",
    "    json.dump(member_list, # 객체 리스트)\n",
    "              jsonfile,\n",
    "              ensure_ascii=False,\n",
    "              indent='\\t',\n",
    "              default = Member.as_dict #객체를 딕셔너리로 return 하는 인스턴스 함수\n",
    "             )"
   ]
  },
  {
   "cell_type": "markdown",
   "id": "f90682d7",
   "metadata": {},
   "source": [
    "## 4.2 load(파일 입력)\n",
    "- json파일 -> 딕셔너리리스트(기본)\n",
    "- json파일 -> 객체리스트     이걸 만들고 싶으면 딕셔너리리스트에서 객체 리스트로 바꾸어 주어야 한다"
   ]
  },
  {
   "cell_type": "code",
   "execution_count": 58,
   "id": "1e913d3a",
   "metadata": {},
   "outputs": [],
   "source": [
    "def as_member(dic):\n",
    "    '매개변수로 딕셔너리를 받아 Member 객체를 return'\n",
    "    return Member(dic.get('name'), dic['age'], dic.get('email'), dic.get('address'))"
   ]
  },
  {
   "cell_type": "code",
   "execution_count": 59,
   "id": "5e848b49",
   "metadata": {},
   "outputs": [
    {
     "name": "stdout",
     "output_type": "stream",
     "text": [
      "김길동, 성년, z@z.com, 관악\n"
     ]
    }
   ],
   "source": [
    "member = as_member({'name':'김길동', 'age':20, 'email' : 'z@z.com', 'address':'관악'})\n",
    "print(member)"
   ]
  },
  {
   "cell_type": "code",
   "execution_count": 60,
   "id": "8fece594",
   "metadata": {},
   "outputs": [
    {
     "data": {
      "text/plain": [
       "[{'name': '홍길동', 'age': 20, 'email': 'kildong@hong.com', 'address': '서울시 관악구'},\n",
       " {'name': '신길동', 'age': 30, 'email': 'shinkil@hong.com', 'address': '서울시 동작구'}]"
      ]
     },
     "execution_count": 60,
     "metadata": {},
     "output_type": "execute_result"
    }
   ],
   "source": [
    "with open('data/ch09_member.json', 'r', encoding=\"utf-8\") as f:\n",
    "    load_data = json.load(f)\n",
    "load_data"
   ]
  },
  {
   "cell_type": "code",
   "execution_count": 61,
   "id": "e28ff8d1",
   "metadata": {},
   "outputs": [
    {
     "name": "stdout",
     "output_type": "stream",
     "text": [
      "홍길동, 성년, kildong@hong.com, 서울시 관악구\n",
      "신길동, 성년, shinkil@hong.com, 서울시 동작구\n"
     ]
    }
   ],
   "source": [
    "with open('data/ch09_member.json', 'r', encoding=\"utf-8\") as f:\n",
    "    load_member_list = json.load(f, object_hook=as_member)\n",
    "for load_member in load_member_list:\n",
    "    print(load_member)"
   ]
  },
  {
   "cell_type": "markdown",
   "id": "448e59b0",
   "metadata": {},
   "source": [
    "## JSON -> 데이터프레임"
   ]
  },
  {
   "cell_type": "code",
   "execution_count": 62,
   "id": "dc4be8c1",
   "metadata": {},
   "outputs": [
    {
     "data": {
      "text/html": [
       "<div>\n",
       "<style scoped>\n",
       "    .dataframe tbody tr th:only-of-type {\n",
       "        vertical-align: middle;\n",
       "    }\n",
       "\n",
       "    .dataframe tbody tr th {\n",
       "        vertical-align: top;\n",
       "    }\n",
       "\n",
       "    .dataframe thead th {\n",
       "        text-align: right;\n",
       "    }\n",
       "</style>\n",
       "<table border=\"1\" class=\"dataframe\">\n",
       "  <thead>\n",
       "    <tr style=\"text-align: right;\">\n",
       "      <th></th>\n",
       "      <th>name</th>\n",
       "      <th>age</th>\n",
       "      <th>email</th>\n",
       "      <th>address</th>\n",
       "    </tr>\n",
       "  </thead>\n",
       "  <tbody>\n",
       "    <tr>\n",
       "      <th>0</th>\n",
       "      <td>홍길동</td>\n",
       "      <td>2</td>\n",
       "      <td>a@a.com</td>\n",
       "      <td>서울</td>\n",
       "    </tr>\n",
       "    <tr>\n",
       "      <th>1</th>\n",
       "      <td>신길동</td>\n",
       "      <td>2</td>\n",
       "      <td>a@a.com</td>\n",
       "      <td>서울</td>\n",
       "    </tr>\n",
       "    <tr>\n",
       "      <th>2</th>\n",
       "      <td>김길동</td>\n",
       "      <td>2</td>\n",
       "      <td>a@a.com</td>\n",
       "      <td>서울</td>\n",
       "    </tr>\n",
       "  </tbody>\n",
       "</table>\n",
       "</div>"
      ],
      "text/plain": [
       "  name  age    email address\n",
       "0  홍길동    2  a@a.com      서울\n",
       "1  신길동    2  a@a.com      서울\n",
       "2  김길동    2  a@a.com      서울"
      ]
     },
     "execution_count": 62,
     "metadata": {},
     "output_type": "execute_result"
    }
   ],
   "source": [
    "import pandas as pd\n",
    "pd.read_json('data/ch09_member1.json', encoding='utf-8')\n",
    "# pd.함수() : encoding = 'utf-8' 기본값"
   ]
  },
  {
   "cell_type": "code",
   "execution_count": 63,
   "id": "aa2a06cf",
   "metadata": {},
   "outputs": [
    {
     "data": {
      "text/html": [
       "<div>\n",
       "<style scoped>\n",
       "    .dataframe tbody tr th:only-of-type {\n",
       "        vertical-align: middle;\n",
       "    }\n",
       "\n",
       "    .dataframe tbody tr th {\n",
       "        vertical-align: top;\n",
       "    }\n",
       "\n",
       "    .dataframe thead th {\n",
       "        text-align: right;\n",
       "    }\n",
       "</style>\n",
       "<table border=\"1\" class=\"dataframe\">\n",
       "  <thead>\n",
       "    <tr style=\"text-align: right;\">\n",
       "      <th></th>\n",
       "      <th>name</th>\n",
       "      <th>age</th>\n",
       "      <th>email</th>\n",
       "      <th>address</th>\n",
       "    </tr>\n",
       "  </thead>\n",
       "  <tbody>\n",
       "    <tr>\n",
       "      <th>0</th>\n",
       "      <td>홍길동</td>\n",
       "      <td>20</td>\n",
       "      <td>kildong@hong.com</td>\n",
       "      <td>서울시 관악구</td>\n",
       "    </tr>\n",
       "    <tr>\n",
       "      <th>1</th>\n",
       "      <td>신길동</td>\n",
       "      <td>30</td>\n",
       "      <td>shinkil@hong.com</td>\n",
       "      <td>서울시 동작구</td>\n",
       "    </tr>\n",
       "  </tbody>\n",
       "</table>\n",
       "</div>"
      ],
      "text/plain": [
       "  name  age             email  address\n",
       "0  홍길동   20  kildong@hong.com  서울시 관악구\n",
       "1  신길동   30  shinkil@hong.com  서울시 동작구"
      ]
     },
     "execution_count": 63,
     "metadata": {},
     "output_type": "execute_result"
    }
   ],
   "source": [
    "import pandas as pd\n",
    "pd.read_json('data/ch09_member.json')\n",
    "# pd.함수() : encoding = 'utf-8' 기본값"
   ]
  },
  {
   "cell_type": "markdown",
   "id": "3b07edc3",
   "metadata": {},
   "source": [
    "# 5.절 hdfd()h5 파일 쓰기/읽기\n",
    "- h5py 사용\n",
    "## 5.1 pdf5파일 쓰기\n",
    "- 딕셔너리 리스트를 hdf5 파일에 쓰기\n",
    "- 데이터프레임을 hdf5파일에 쓰기"
   ]
  },
  {
   "cell_type": "code",
   "execution_count": 67,
   "id": "bff4bf4d",
   "metadata": {},
   "outputs": [
    {
     "data": {
      "text/html": [
       "<div>\n",
       "<style scoped>\n",
       "    .dataframe tbody tr th:only-of-type {\n",
       "        vertical-align: middle;\n",
       "    }\n",
       "\n",
       "    .dataframe tbody tr th {\n",
       "        vertical-align: top;\n",
       "    }\n",
       "\n",
       "    .dataframe thead th {\n",
       "        text-align: right;\n",
       "    }\n",
       "</style>\n",
       "<table border=\"1\" class=\"dataframe\">\n",
       "  <thead>\n",
       "    <tr style=\"text-align: right;\">\n",
       "      <th></th>\n",
       "      <th>sepal_length</th>\n",
       "      <th>sepal_width</th>\n",
       "      <th>petal_length</th>\n",
       "      <th>petal_width</th>\n",
       "      <th>species</th>\n",
       "    </tr>\n",
       "  </thead>\n",
       "  <tbody>\n",
       "    <tr>\n",
       "      <th>0</th>\n",
       "      <td>5.1</td>\n",
       "      <td>3.5</td>\n",
       "      <td>1.4</td>\n",
       "      <td>0.2</td>\n",
       "      <td>setosa</td>\n",
       "    </tr>\n",
       "    <tr>\n",
       "      <th>50</th>\n",
       "      <td>7.0</td>\n",
       "      <td>3.2</td>\n",
       "      <td>4.7</td>\n",
       "      <td>1.4</td>\n",
       "      <td>versicolor</td>\n",
       "    </tr>\n",
       "    <tr>\n",
       "      <th>100</th>\n",
       "      <td>6.3</td>\n",
       "      <td>3.3</td>\n",
       "      <td>6.0</td>\n",
       "      <td>2.5</td>\n",
       "      <td>virginica</td>\n",
       "    </tr>\n",
       "  </tbody>\n",
       "</table>\n",
       "</div>"
      ],
      "text/plain": [
       "     sepal_length  sepal_width  petal_length  petal_width     species\n",
       "0             5.1          3.5           1.4          0.2      setosa\n",
       "50            7.0          3.2           4.7          1.4  versicolor\n",
       "100           6.3          3.3           6.0          2.5   virginica"
      ]
     },
     "metadata": {},
     "output_type": "display_data"
    }
   ],
   "source": [
    "# seaborn : 시각화 패키지. 학습을 위한 데이터셋 다수\n",
    "import seaborn as sns \n",
    "iris_df = sns.load_dataset(\"iris\")\n",
    "iris_df\n",
    "display(iris_df[::50])   # 데이터 프레임은 print 하는 것이 아니다 display 로 하는 것이다"
   ]
  },
  {
   "cell_type": "code",
   "execution_count": 76,
   "id": "5ed1fbad",
   "metadata": {},
   "outputs": [],
   "source": [
    "iris_df.to_hdf(\"data/ch09_iris.hdf5\", key = 'iris')"
   ]
  },
  {
   "cell_type": "code",
   "execution_count": 91,
   "id": "9354ed73",
   "metadata": {},
   "outputs": [
    {
     "data": {
      "text/plain": [
       "(dict, pandas.core.frame.DataFrame)"
      ]
     },
     "execution_count": 91,
     "metadata": {},
     "output_type": "execute_result"
    }
   ],
   "source": [
    "iris_dic = iris_df.to_dict()\n",
    "type(iris_dic), type(iris_df)"
   ]
  },
  {
   "cell_type": "code",
   "execution_count": 74,
   "id": "139ea40c",
   "metadata": {},
   "outputs": [
    {
     "name": "stdout",
     "output_type": "stream",
     "text": [
      "그룹명 sepal_length\n",
      "그룹명 sepal_width\n",
      "그룹명 petal_length\n",
      "그룹명 petal_width\n",
      "그룹명 species\n"
     ]
    }
   ],
   "source": [
    "for group, value in iris_dic.items():   # items 를 해야 key 랑 value 값이 구별되어서 나온다\n",
    "    print(\"그룹명\", group)\n",
    "    # print(value)"
   ]
  },
  {
   "cell_type": "code",
   "execution_count": 75,
   "id": "b6d01af1",
   "metadata": {
    "collapsed": true
   },
   "outputs": [
    {
     "name": "stdout",
     "output_type": "stream",
     "text": [
      "그룹명 sepal_length\n",
      "0:5.1\t1:4.9\t2:4.7\t3:4.6\t4:5.0\t5:5.4\t6:4.6\t7:5.0\t8:4.4\t9:4.9\t10:5.4\t11:4.8\t12:4.8\t13:4.3\t14:5.8\t15:5.7\t16:5.4\t17:5.1\t18:5.7\t19:5.1\t20:5.4\t21:5.1\t22:4.6\t23:5.1\t24:4.8\t25:5.0\t26:5.0\t27:5.2\t28:5.2\t29:4.7\t30:4.8\t31:5.4\t32:5.2\t33:5.5\t34:4.9\t35:5.0\t36:5.5\t37:4.9\t38:4.4\t39:5.1\t40:5.0\t41:4.5\t42:4.4\t43:5.0\t44:5.1\t45:4.8\t46:5.1\t47:4.6\t48:5.3\t49:5.0\t50:7.0\t51:6.4\t52:6.9\t53:5.5\t54:6.5\t55:5.7\t56:6.3\t57:4.9\t58:6.6\t59:5.2\t60:5.0\t61:5.9\t62:6.0\t63:6.1\t64:5.6\t65:6.7\t66:5.6\t67:5.8\t68:6.2\t69:5.6\t70:5.9\t71:6.1\t72:6.3\t73:6.1\t74:6.4\t75:6.6\t76:6.8\t77:6.7\t78:6.0\t79:5.7\t80:5.5\t81:5.5\t82:5.8\t83:6.0\t84:5.4\t85:6.0\t86:6.7\t87:6.3\t88:5.6\t89:5.5\t90:5.5\t91:6.1\t92:5.8\t93:5.0\t94:5.6\t95:5.7\t96:5.7\t97:6.2\t98:5.1\t99:5.7\t100:6.3\t101:5.8\t102:7.1\t103:6.3\t104:6.5\t105:7.6\t106:4.9\t107:7.3\t108:6.7\t109:7.2\t110:6.5\t111:6.4\t112:6.8\t113:5.7\t114:5.8\t115:6.4\t116:6.5\t117:7.7\t118:7.7\t119:6.0\t120:6.9\t121:5.6\t122:7.7\t123:6.3\t124:6.7\t125:7.2\t126:6.2\t127:6.1\t128:6.4\t129:7.2\t130:7.4\t131:7.9\t132:6.4\t133:6.3\t134:6.1\t135:7.7\t136:6.3\t137:6.4\t138:6.0\t139:6.9\t140:6.7\t141:6.9\t142:5.8\t143:6.8\t144:6.7\t145:6.7\t146:6.3\t147:6.5\t148:6.2\t149:5.9\t\n",
      "그룹명 sepal_width\n",
      "0:3.5\t1:3.0\t2:3.2\t3:3.1\t4:3.6\t5:3.9\t6:3.4\t7:3.4\t8:2.9\t9:3.1\t10:3.7\t11:3.4\t12:3.0\t13:3.0\t14:4.0\t15:4.4\t16:3.9\t17:3.5\t18:3.8\t19:3.8\t20:3.4\t21:3.7\t22:3.6\t23:3.3\t24:3.4\t25:3.0\t26:3.4\t27:3.5\t28:3.4\t29:3.2\t30:3.1\t31:3.4\t32:4.1\t33:4.2\t34:3.1\t35:3.2\t36:3.5\t37:3.6\t38:3.0\t39:3.4\t40:3.5\t41:2.3\t42:3.2\t43:3.5\t44:3.8\t45:3.0\t46:3.8\t47:3.2\t48:3.7\t49:3.3\t50:3.2\t51:3.2\t52:3.1\t53:2.3\t54:2.8\t55:2.8\t56:3.3\t57:2.4\t58:2.9\t59:2.7\t60:2.0\t61:3.0\t62:2.2\t63:2.9\t64:2.9\t65:3.1\t66:3.0\t67:2.7\t68:2.2\t69:2.5\t70:3.2\t71:2.8\t72:2.5\t73:2.8\t74:2.9\t75:3.0\t76:2.8\t77:3.0\t78:2.9\t79:2.6\t80:2.4\t81:2.4\t82:2.7\t83:2.7\t84:3.0\t85:3.4\t86:3.1\t87:2.3\t88:3.0\t89:2.5\t90:2.6\t91:3.0\t92:2.6\t93:2.3\t94:2.7\t95:3.0\t96:2.9\t97:2.9\t98:2.5\t99:2.8\t100:3.3\t101:2.7\t102:3.0\t103:2.9\t104:3.0\t105:3.0\t106:2.5\t107:2.9\t108:2.5\t109:3.6\t110:3.2\t111:2.7\t112:3.0\t113:2.5\t114:2.8\t115:3.2\t116:3.0\t117:3.8\t118:2.6\t119:2.2\t120:3.2\t121:2.8\t122:2.8\t123:2.7\t124:3.3\t125:3.2\t126:2.8\t127:3.0\t128:2.8\t129:3.0\t130:2.8\t131:3.8\t132:2.8\t133:2.8\t134:2.6\t135:3.0\t136:3.4\t137:3.1\t138:3.0\t139:3.1\t140:3.1\t141:3.1\t142:2.7\t143:3.2\t144:3.3\t145:3.0\t146:2.5\t147:3.0\t148:3.4\t149:3.0\t\n",
      "그룹명 petal_length\n",
      "0:1.4\t1:1.4\t2:1.3\t3:1.5\t4:1.4\t5:1.7\t6:1.4\t7:1.5\t8:1.4\t9:1.5\t10:1.5\t11:1.6\t12:1.4\t13:1.1\t14:1.2\t15:1.5\t16:1.3\t17:1.4\t18:1.7\t19:1.5\t20:1.7\t21:1.5\t22:1.0\t23:1.7\t24:1.9\t25:1.6\t26:1.6\t27:1.5\t28:1.4\t29:1.6\t30:1.6\t31:1.5\t32:1.5\t33:1.4\t34:1.5\t35:1.2\t36:1.3\t37:1.4\t38:1.3\t39:1.5\t40:1.3\t41:1.3\t42:1.3\t43:1.6\t44:1.9\t45:1.4\t46:1.6\t47:1.4\t48:1.5\t49:1.4\t50:4.7\t51:4.5\t52:4.9\t53:4.0\t54:4.6\t55:4.5\t56:4.7\t57:3.3\t58:4.6\t59:3.9\t60:3.5\t61:4.2\t62:4.0\t63:4.7\t64:3.6\t65:4.4\t66:4.5\t67:4.1\t68:4.5\t69:3.9\t70:4.8\t71:4.0\t72:4.9\t73:4.7\t74:4.3\t75:4.4\t76:4.8\t77:5.0\t78:4.5\t79:3.5\t80:3.8\t81:3.7\t82:3.9\t83:5.1\t84:4.5\t85:4.5\t86:4.7\t87:4.4\t88:4.1\t89:4.0\t90:4.4\t91:4.6\t92:4.0\t93:3.3\t94:4.2\t95:4.2\t96:4.2\t97:4.3\t98:3.0\t99:4.1\t100:6.0\t101:5.1\t102:5.9\t103:5.6\t104:5.8\t105:6.6\t106:4.5\t107:6.3\t108:5.8\t109:6.1\t110:5.1\t111:5.3\t112:5.5\t113:5.0\t114:5.1\t115:5.3\t116:5.5\t117:6.7\t118:6.9\t119:5.0\t120:5.7\t121:4.9\t122:6.7\t123:4.9\t124:5.7\t125:6.0\t126:4.8\t127:4.9\t128:5.6\t129:5.8\t130:6.1\t131:6.4\t132:5.6\t133:5.1\t134:5.6\t135:6.1\t136:5.6\t137:5.5\t138:4.8\t139:5.4\t140:5.6\t141:5.1\t142:5.1\t143:5.9\t144:5.7\t145:5.2\t146:5.0\t147:5.2\t148:5.4\t149:5.1\t\n",
      "그룹명 petal_width\n",
      "0:0.2\t1:0.2\t2:0.2\t3:0.2\t4:0.2\t5:0.4\t6:0.3\t7:0.2\t8:0.2\t9:0.1\t10:0.2\t11:0.2\t12:0.1\t13:0.1\t14:0.2\t15:0.4\t16:0.4\t17:0.3\t18:0.3\t19:0.3\t20:0.2\t21:0.4\t22:0.2\t23:0.5\t24:0.2\t25:0.2\t26:0.4\t27:0.2\t28:0.2\t29:0.2\t30:0.2\t31:0.4\t32:0.1\t33:0.2\t34:0.2\t35:0.2\t36:0.2\t37:0.1\t38:0.2\t39:0.2\t40:0.3\t41:0.3\t42:0.2\t43:0.6\t44:0.4\t45:0.3\t46:0.2\t47:0.2\t48:0.2\t49:0.2\t50:1.4\t51:1.5\t52:1.5\t53:1.3\t54:1.5\t55:1.3\t56:1.6\t57:1.0\t58:1.3\t59:1.4\t60:1.0\t61:1.5\t62:1.0\t63:1.4\t64:1.3\t65:1.4\t66:1.5\t67:1.0\t68:1.5\t69:1.1\t70:1.8\t71:1.3\t72:1.5\t73:1.2\t74:1.3\t75:1.4\t76:1.4\t77:1.7\t78:1.5\t79:1.0\t80:1.1\t81:1.0\t82:1.2\t83:1.6\t84:1.5\t85:1.6\t86:1.5\t87:1.3\t88:1.3\t89:1.3\t90:1.2\t91:1.4\t92:1.2\t93:1.0\t94:1.3\t95:1.2\t96:1.3\t97:1.3\t98:1.1\t99:1.3\t100:2.5\t101:1.9\t102:2.1\t103:1.8\t104:2.2\t105:2.1\t106:1.7\t107:1.8\t108:1.8\t109:2.5\t110:2.0\t111:1.9\t112:2.1\t113:2.0\t114:2.4\t115:2.3\t116:1.8\t117:2.2\t118:2.3\t119:1.5\t120:2.3\t121:2.0\t122:2.0\t123:1.8\t124:2.1\t125:1.8\t126:1.8\t127:1.8\t128:2.1\t129:1.6\t130:1.9\t131:2.0\t132:2.2\t133:1.5\t134:1.4\t135:2.3\t136:2.4\t137:1.8\t138:1.8\t139:2.1\t140:2.4\t141:2.3\t142:1.9\t143:2.3\t144:2.5\t145:2.3\t146:1.9\t147:2.0\t148:2.3\t149:1.8\t\n",
      "그룹명 species\n",
      "0:setosa\t1:setosa\t2:setosa\t3:setosa\t4:setosa\t5:setosa\t6:setosa\t7:setosa\t8:setosa\t9:setosa\t10:setosa\t11:setosa\t12:setosa\t13:setosa\t14:setosa\t15:setosa\t16:setosa\t17:setosa\t18:setosa\t19:setosa\t20:setosa\t21:setosa\t22:setosa\t23:setosa\t24:setosa\t25:setosa\t26:setosa\t27:setosa\t28:setosa\t29:setosa\t30:setosa\t31:setosa\t32:setosa\t33:setosa\t34:setosa\t35:setosa\t36:setosa\t37:setosa\t38:setosa\t39:setosa\t40:setosa\t41:setosa\t42:setosa\t43:setosa\t44:setosa\t45:setosa\t46:setosa\t47:setosa\t48:setosa\t49:setosa\t50:versicolor\t51:versicolor\t52:versicolor\t53:versicolor\t54:versicolor\t55:versicolor\t56:versicolor\t57:versicolor\t58:versicolor\t59:versicolor\t60:versicolor\t61:versicolor\t62:versicolor\t63:versicolor\t64:versicolor\t65:versicolor\t66:versicolor\t67:versicolor\t68:versicolor\t69:versicolor\t70:versicolor\t71:versicolor\t72:versicolor\t73:versicolor\t74:versicolor\t75:versicolor\t76:versicolor\t77:versicolor\t78:versicolor\t79:versicolor\t80:versicolor\t81:versicolor\t82:versicolor\t83:versicolor\t84:versicolor\t85:versicolor\t86:versicolor\t87:versicolor\t88:versicolor\t89:versicolor\t90:versicolor\t91:versicolor\t92:versicolor\t93:versicolor\t94:versicolor\t95:versicolor\t96:versicolor\t97:versicolor\t98:versicolor\t99:versicolor\t100:virginica\t101:virginica\t102:virginica\t103:virginica\t104:virginica\t105:virginica\t106:virginica\t107:virginica\t108:virginica\t109:virginica\t110:virginica\t111:virginica\t112:virginica\t113:virginica\t114:virginica\t115:virginica\t116:virginica\t117:virginica\t118:virginica\t119:virginica\t120:virginica\t121:virginica\t122:virginica\t123:virginica\t124:virginica\t125:virginica\t126:virginica\t127:virginica\t128:virginica\t129:virginica\t130:virginica\t131:virginica\t132:virginica\t133:virginica\t134:virginica\t135:virginica\t136:virginica\t137:virginica\t138:virginica\t139:virginica\t140:virginica\t141:virginica\t142:virginica\t143:virginica\t144:virginica\t145:virginica\t146:virginica\t147:virginica\t148:virginica\t149:virginica\t\n"
     ]
    }
   ],
   "source": [
    "for group, value in iris_dic.items():   # items 를 해야 key 랑 value 값이 구별되어서 나온다\n",
    "    print(\"그룹명\", group)\n",
    "    for key, data in value.items():\n",
    "        print(\"{}:{}\".format(str(key), data), end='\\t')\n",
    "    print() # 개행"
   ]
  },
  {
   "cell_type": "code",
   "execution_count": 86,
   "id": "ef61644d",
   "metadata": {},
   "outputs": [],
   "source": [
    "# 딕셔너리 리스트를 hdf파일로 쓰기\n",
    "import h5py\n",
    "with h5py.File(\"data/ch09_iris_dic.hdf5\", 'w') as f:\n",
    "    for group, value in iris_dic.items():\n",
    "        grp = f.create_group(group)\n",
    "        for key, data in value.items():\n",
    "            grp.create_dataset(str(key), data=data)"
   ]
  },
  {
   "cell_type": "code",
   "execution_count": null,
   "id": "d652e336",
   "metadata": {},
   "outputs": [],
   "source": []
  },
  {
   "cell_type": "code",
   "execution_count": null,
   "id": "ded213db",
   "metadata": {},
   "outputs": [],
   "source": []
  },
  {
   "cell_type": "markdown",
   "id": "749148ab",
   "metadata": {},
   "source": [
    "## 5.2 hdf5파일 읽기\n",
    "- hdf5 파일을 딕셔너리 리스트로 읽기\n",
    "- hdf5 파일을 데이터프레임으로 읽기"
   ]
  },
  {
   "cell_type": "code",
   "execution_count": 77,
   "id": "7bfa9ad3",
   "metadata": {},
   "outputs": [
    {
     "data": {
      "text/html": [
       "<div>\n",
       "<style scoped>\n",
       "    .dataframe tbody tr th:only-of-type {\n",
       "        vertical-align: middle;\n",
       "    }\n",
       "\n",
       "    .dataframe tbody tr th {\n",
       "        vertical-align: top;\n",
       "    }\n",
       "\n",
       "    .dataframe thead th {\n",
       "        text-align: right;\n",
       "    }\n",
       "</style>\n",
       "<table border=\"1\" class=\"dataframe\">\n",
       "  <thead>\n",
       "    <tr style=\"text-align: right;\">\n",
       "      <th></th>\n",
       "      <th>sepal_length</th>\n",
       "      <th>sepal_width</th>\n",
       "      <th>petal_length</th>\n",
       "      <th>petal_width</th>\n",
       "      <th>species</th>\n",
       "    </tr>\n",
       "  </thead>\n",
       "  <tbody>\n",
       "    <tr>\n",
       "      <th>0</th>\n",
       "      <td>5.1</td>\n",
       "      <td>3.5</td>\n",
       "      <td>1.4</td>\n",
       "      <td>0.2</td>\n",
       "      <td>setosa</td>\n",
       "    </tr>\n",
       "    <tr>\n",
       "      <th>50</th>\n",
       "      <td>7.0</td>\n",
       "      <td>3.2</td>\n",
       "      <td>4.7</td>\n",
       "      <td>1.4</td>\n",
       "      <td>versicolor</td>\n",
       "    </tr>\n",
       "    <tr>\n",
       "      <th>100</th>\n",
       "      <td>6.3</td>\n",
       "      <td>3.3</td>\n",
       "      <td>6.0</td>\n",
       "      <td>2.5</td>\n",
       "      <td>virginica</td>\n",
       "    </tr>\n",
       "  </tbody>\n",
       "</table>\n",
       "</div>"
      ],
      "text/plain": [
       "     sepal_length  sepal_width  petal_length  petal_width     species\n",
       "0             5.1          3.5           1.4          0.2      setosa\n",
       "50            7.0          3.2           4.7          1.4  versicolor\n",
       "100           6.3          3.3           6.0          2.5   virginica"
      ]
     },
     "execution_count": 77,
     "metadata": {},
     "output_type": "execute_result"
    }
   ],
   "source": [
    "import pandas as pd\n",
    "load_iris_df = pd.read_hdf(\"data/ch09_iris.hdf5\", key = 'iris')\n",
    "load_iris_df[::50]"
   ]
  },
  {
   "cell_type": "code",
   "execution_count": 90,
   "id": "4f835515",
   "metadata": {},
   "outputs": [
    {
     "data": {
      "text/plain": [
       "True"
      ]
     },
     "execution_count": 90,
     "metadata": {},
     "output_type": "execute_result"
    }
   ],
   "source": [
    "all(iris_df == load_iris_df) #두 데이터 프레임 변수의 보든 행과 열이 같은 같인지 여부 확인"
   ]
  },
  {
   "cell_type": "code",
   "execution_count": 87,
   "id": "9baf386a",
   "metadata": {},
   "outputs": [
    {
     "name": "stdout",
     "output_type": "stream",
     "text": [
      "그룹: petal_length\n",
      "0:1.4\t1:1.4\t10:1.5\t100:6.0\t101:5.1\t102:5.9\t103:5.6\t104:5.8\t105:6.6\t106:4.5\t107:6.3\t108:5.8\t109:6.1\t11:1.6\t110:5.1\t111:5.3\t112:5.5\t113:5.0\t114:5.1\t115:5.3\t116:5.5\t117:6.7\t118:6.9\t119:5.0\t12:1.4\t120:5.7\t121:4.9\t122:6.7\t123:4.9\t124:5.7\t125:6.0\t126:4.8\t127:4.9\t128:5.6\t129:5.8\t13:1.1\t130:6.1\t131:6.4\t132:5.6\t133:5.1\t134:5.6\t135:6.1\t136:5.6\t137:5.5\t138:4.8\t139:5.4\t14:1.2\t140:5.6\t141:5.1\t142:5.1\t143:5.9\t144:5.7\t145:5.2\t146:5.0\t147:5.2\t148:5.4\t149:5.1\t15:1.5\t16:1.3\t17:1.4\t18:1.7\t19:1.5\t2:1.3\t20:1.7\t21:1.5\t22:1.0\t23:1.7\t24:1.9\t25:1.6\t26:1.6\t27:1.5\t28:1.4\t29:1.6\t3:1.5\t30:1.6\t31:1.5\t32:1.5\t33:1.4\t34:1.5\t35:1.2\t36:1.3\t37:1.4\t38:1.3\t39:1.5\t4:1.4\t40:1.3\t41:1.3\t42:1.3\t43:1.6\t44:1.9\t45:1.4\t46:1.6\t47:1.4\t48:1.5\t49:1.4\t5:1.7\t50:4.7\t51:4.5\t52:4.9\t53:4.0\t54:4.6\t55:4.5\t56:4.7\t57:3.3\t58:4.6\t59:3.9\t6:1.4\t60:3.5\t61:4.2\t62:4.0\t63:4.7\t64:3.6\t65:4.4\t66:4.5\t67:4.1\t68:4.5\t69:3.9\t7:1.5\t70:4.8\t71:4.0\t72:4.9\t73:4.7\t74:4.3\t75:4.4\t76:4.8\t77:5.0\t78:4.5\t79:3.5\t8:1.4\t80:3.8\t81:3.7\t82:3.9\t83:5.1\t84:4.5\t85:4.5\t86:4.7\t87:4.4\t88:4.1\t89:4.0\t9:1.5\t90:4.4\t91:4.6\t92:4.0\t93:3.3\t94:4.2\t95:4.2\t96:4.2\t97:4.3\t98:3.0\t99:4.1\t그룹: petal_width\n",
      "0:0.2\t1:0.2\t10:0.2\t100:2.5\t101:1.9\t102:2.1\t103:1.8\t104:2.2\t105:2.1\t106:1.7\t107:1.8\t108:1.8\t109:2.5\t11:0.2\t110:2.0\t111:1.9\t112:2.1\t113:2.0\t114:2.4\t115:2.3\t116:1.8\t117:2.2\t118:2.3\t119:1.5\t12:0.1\t120:2.3\t121:2.0\t122:2.0\t123:1.8\t124:2.1\t125:1.8\t126:1.8\t127:1.8\t128:2.1\t129:1.6\t13:0.1\t130:1.9\t131:2.0\t132:2.2\t133:1.5\t134:1.4\t135:2.3\t136:2.4\t137:1.8\t138:1.8\t139:2.1\t14:0.2\t140:2.4\t141:2.3\t142:1.9\t143:2.3\t144:2.5\t145:2.3\t146:1.9\t147:2.0\t148:2.3\t149:1.8\t15:0.4\t16:0.4\t17:0.3\t18:0.3\t19:0.3\t2:0.2\t20:0.2\t21:0.4\t22:0.2\t23:0.5\t24:0.2\t25:0.2\t26:0.4\t27:0.2\t28:0.2\t29:0.2\t3:0.2\t30:0.2\t31:0.4\t32:0.1\t33:0.2\t34:0.2\t35:0.2\t36:0.2\t37:0.1\t38:0.2\t39:0.2\t4:0.2\t40:0.3\t41:0.3\t42:0.2\t43:0.6\t44:0.4\t45:0.3\t46:0.2\t47:0.2\t48:0.2\t49:0.2\t5:0.4\t50:1.4\t51:1.5\t52:1.5\t53:1.3\t54:1.5\t55:1.3\t56:1.6\t57:1.0\t58:1.3\t59:1.4\t6:0.3\t60:1.0\t61:1.5\t62:1.0\t63:1.4\t64:1.3\t65:1.4\t66:1.5\t67:1.0\t68:1.5\t69:1.1\t7:0.2\t70:1.8\t71:1.3\t72:1.5\t73:1.2\t74:1.3\t75:1.4\t76:1.4\t77:1.7\t78:1.5\t79:1.0\t8:0.2\t80:1.1\t81:1.0\t82:1.2\t83:1.6\t84:1.5\t85:1.6\t86:1.5\t87:1.3\t88:1.3\t89:1.3\t9:0.1\t90:1.2\t91:1.4\t92:1.2\t93:1.0\t94:1.3\t95:1.2\t96:1.3\t97:1.3\t98:1.1\t99:1.3\t그룹: sepal_length\n",
      "0:5.1\t1:4.9\t10:5.4\t100:6.3\t101:5.8\t102:7.1\t103:6.3\t104:6.5\t105:7.6\t106:4.9\t107:7.3\t108:6.7\t109:7.2\t11:4.8\t110:6.5\t111:6.4\t112:6.8\t113:5.7\t114:5.8\t115:6.4\t116:6.5\t117:7.7\t118:7.7\t119:6.0\t12:4.8\t120:6.9\t121:5.6\t122:7.7\t123:6.3\t124:6.7\t125:7.2\t126:6.2\t127:6.1\t128:6.4\t129:7.2\t13:4.3\t130:7.4\t131:7.9\t132:6.4\t133:6.3\t134:6.1\t135:7.7\t136:6.3\t137:6.4\t138:6.0\t139:6.9\t14:5.8\t140:6.7\t141:6.9\t142:5.8\t143:6.8\t144:6.7\t145:6.7\t146:6.3\t147:6.5\t148:6.2\t149:5.9\t15:5.7\t16:5.4\t17:5.1\t18:5.7\t19:5.1\t2:4.7\t20:5.4\t21:5.1\t22:4.6\t23:5.1\t24:4.8\t25:5.0\t26:5.0\t27:5.2\t28:5.2\t29:4.7\t3:4.6\t30:4.8\t31:5.4\t32:5.2\t33:5.5\t34:4.9\t35:5.0\t36:5.5\t37:4.9\t38:4.4\t39:5.1\t4:5.0\t40:5.0\t41:4.5\t42:4.4\t43:5.0\t44:5.1\t45:4.8\t46:5.1\t47:4.6\t48:5.3\t49:5.0\t5:5.4\t50:7.0\t51:6.4\t52:6.9\t53:5.5\t54:6.5\t55:5.7\t56:6.3\t57:4.9\t58:6.6\t59:5.2\t6:4.6\t60:5.0\t61:5.9\t62:6.0\t63:6.1\t64:5.6\t65:6.7\t66:5.6\t67:5.8\t68:6.2\t69:5.6\t7:5.0\t70:5.9\t71:6.1\t72:6.3\t73:6.1\t74:6.4\t75:6.6\t76:6.8\t77:6.7\t78:6.0\t79:5.7\t8:4.4\t80:5.5\t81:5.5\t82:5.8\t83:6.0\t84:5.4\t85:6.0\t86:6.7\t87:6.3\t88:5.6\t89:5.5\t9:4.9\t90:5.5\t91:6.1\t92:5.8\t93:5.0\t94:5.6\t95:5.7\t96:5.7\t97:6.2\t98:5.1\t99:5.7\t그룹: sepal_width\n",
      "0:3.5\t1:3.0\t10:3.7\t100:3.3\t101:2.7\t102:3.0\t103:2.9\t104:3.0\t105:3.0\t106:2.5\t107:2.9\t108:2.5\t109:3.6\t11:3.4\t110:3.2\t111:2.7\t112:3.0\t113:2.5\t114:2.8\t115:3.2\t116:3.0\t117:3.8\t118:2.6\t119:2.2\t12:3.0\t120:3.2\t121:2.8\t122:2.8\t123:2.7\t124:3.3\t125:3.2\t126:2.8\t127:3.0\t128:2.8\t129:3.0\t13:3.0\t130:2.8\t131:3.8\t132:2.8\t133:2.8\t134:2.6\t135:3.0\t136:3.4\t137:3.1\t138:3.0\t139:3.1\t14:4.0\t140:3.1\t141:3.1\t142:2.7\t143:3.2\t144:3.3\t145:3.0\t146:2.5\t147:3.0\t148:3.4\t149:3.0\t15:4.4\t16:3.9\t17:3.5\t18:3.8\t19:3.8\t2:3.2\t20:3.4\t21:3.7\t22:3.6\t23:3.3\t24:3.4\t25:3.0\t26:3.4\t27:3.5\t28:3.4\t29:3.2\t3:3.1\t30:3.1\t31:3.4\t32:4.1\t33:4.2\t34:3.1\t35:3.2\t36:3.5\t37:3.6\t38:3.0\t39:3.4\t4:3.6\t40:3.5\t41:2.3\t42:3.2\t43:3.5\t44:3.8\t45:3.0\t46:3.8\t47:3.2\t48:3.7\t49:3.3\t5:3.9\t50:3.2\t51:3.2\t52:3.1\t53:2.3\t54:2.8\t55:2.8\t56:3.3\t57:2.4\t58:2.9\t59:2.7\t6:3.4\t60:2.0\t61:3.0\t62:2.2\t63:2.9\t64:2.9\t65:3.1\t66:3.0\t67:2.7\t68:2.2\t69:2.5\t7:3.4\t70:3.2\t71:2.8\t72:2.5\t73:2.8\t74:2.9\t75:3.0\t76:2.8\t77:3.0\t78:2.9\t79:2.6\t8:2.9\t80:2.4\t81:2.4\t82:2.7\t83:2.7\t84:3.0\t85:3.4\t86:3.1\t87:2.3\t88:3.0\t89:2.5\t9:3.1\t90:2.6\t91:3.0\t92:2.6\t93:2.3\t94:2.7\t95:3.0\t96:2.9\t97:2.9\t98:2.5\t99:2.8\t그룹: species\n",
      "0:b'setosa'\t1:b'setosa'\t10:b'setosa'\t100:b'virginica'\t101:b'virginica'\t102:b'virginica'\t103:b'virginica'\t104:b'virginica'\t105:b'virginica'\t106:b'virginica'\t107:b'virginica'\t108:b'virginica'\t109:b'virginica'\t11:b'setosa'\t110:b'virginica'\t111:b'virginica'\t112:b'virginica'\t113:b'virginica'\t114:b'virginica'\t115:b'virginica'\t116:b'virginica'\t117:b'virginica'\t118:b'virginica'\t119:b'virginica'\t12:b'setosa'\t120:b'virginica'\t121:b'virginica'\t122:b'virginica'\t123:b'virginica'\t124:b'virginica'\t125:b'virginica'\t126:b'virginica'\t127:b'virginica'\t128:b'virginica'\t129:b'virginica'\t13:b'setosa'\t130:b'virginica'\t131:b'virginica'\t132:b'virginica'\t133:b'virginica'\t134:b'virginica'\t135:b'virginica'\t136:b'virginica'\t137:b'virginica'\t138:b'virginica'\t139:b'virginica'\t14:b'setosa'\t140:b'virginica'\t141:b'virginica'\t142:b'virginica'\t143:b'virginica'\t144:b'virginica'\t145:b'virginica'\t146:b'virginica'\t147:b'virginica'\t148:b'virginica'\t149:b'virginica'\t15:b'setosa'\t16:b'setosa'\t17:b'setosa'\t18:b'setosa'\t19:b'setosa'\t2:b'setosa'\t20:b'setosa'\t21:b'setosa'\t22:b'setosa'\t23:b'setosa'\t24:b'setosa'\t25:b'setosa'\t26:b'setosa'\t27:b'setosa'\t28:b'setosa'\t29:b'setosa'\t3:b'setosa'\t30:b'setosa'\t31:b'setosa'\t32:b'setosa'\t33:b'setosa'\t34:b'setosa'\t35:b'setosa'\t36:b'setosa'\t37:b'setosa'\t38:b'setosa'\t39:b'setosa'\t4:b'setosa'\t40:b'setosa'\t41:b'setosa'\t42:b'setosa'\t43:b'setosa'\t44:b'setosa'\t45:b'setosa'\t46:b'setosa'\t47:b'setosa'\t48:b'setosa'\t49:b'setosa'\t5:b'setosa'\t50:b'versicolor'\t51:b'versicolor'\t52:b'versicolor'\t53:b'versicolor'\t54:b'versicolor'\t55:b'versicolor'\t56:b'versicolor'\t57:b'versicolor'\t58:b'versicolor'\t59:b'versicolor'\t6:b'setosa'\t60:b'versicolor'\t61:b'versicolor'\t62:b'versicolor'\t63:b'versicolor'\t64:b'versicolor'\t65:b'versicolor'\t66:b'versicolor'\t67:b'versicolor'\t68:b'versicolor'\t69:b'versicolor'\t7:b'setosa'\t70:b'versicolor'\t71:b'versicolor'\t72:b'versicolor'\t73:b'versicolor'\t74:b'versicolor'\t75:b'versicolor'\t76:b'versicolor'\t77:b'versicolor'\t78:b'versicolor'\t79:b'versicolor'\t8:b'setosa'\t80:b'versicolor'\t81:b'versicolor'\t82:b'versicolor'\t83:b'versicolor'\t84:b'versicolor'\t85:b'versicolor'\t86:b'versicolor'\t87:b'versicolor'\t88:b'versicolor'\t89:b'versicolor'\t9:b'setosa'\t90:b'versicolor'\t91:b'versicolor'\t92:b'versicolor'\t93:b'versicolor'\t94:b'versicolor'\t95:b'versicolor'\t96:b'versicolor'\t97:b'versicolor'\t98:b'versicolor'\t99:b'versicolor'\t"
     ]
    }
   ],
   "source": [
    "with h5py.File('data/ch09_iris_dic.hdf5', 'r') as f:\n",
    "    for group, value in f.items():\n",
    "        print('그룹:', group)\n",
    "        for key, data in value.items():\n",
    "            print(\"{}:{}\".format(key, data[()]), end='\\t')\n",
    "            # data[()] : h5 DataSet 타입을 가져올때"
   ]
  },
  {
   "cell_type": "code",
   "execution_count": 88,
   "id": "fe8a8c95",
   "metadata": {},
   "outputs": [],
   "source": [
    "load_iris_dic = {}\n",
    "with h5py.File('data/ch09_iris_dic.hdf5', 'r') as f:\n",
    "    for group, value in f.items():\n",
    "        temp = {}\n",
    "        for key, data in value.items():\n",
    "            temp[int(key)] = data[()]\n",
    "        load_iris_dic[group] = temp\n",
    "    #load_iris_dic['s_l'] = {0:5.4, 1:4}\n",
    "#load_iris_dic['s_w'] = {0:5.4, 1:4}\n",
    "#load_iris_dic"
   ]
  },
  {
   "cell_type": "code",
   "execution_count": 93,
   "id": "d4f34301",
   "metadata": {},
   "outputs": [
    {
     "data": {
      "text/plain": [
       "dict_keys(['petal_length', 'petal_width', 'sepal_length', 'sepal_width', 'species'])"
      ]
     },
     "execution_count": 93,
     "metadata": {},
     "output_type": "execute_result"
    }
   ],
   "source": [
    "load_iris_dic.keys()"
   ]
  },
  {
   "cell_type": "code",
   "execution_count": 73,
   "id": "c0fd0919",
   "metadata": {},
   "outputs": [
    {
     "data": {
      "text/plain": [
       "dict_keys(['sepal_length', 'sepal_width', 'petal_length', 'petal_width', 'species'])"
      ]
     },
     "execution_count": 73,
     "metadata": {},
     "output_type": "execute_result"
    }
   ],
   "source": [
    "iris_dic.keys()"
   ]
  },
  {
   "cell_type": "markdown",
   "id": "c888525f",
   "metadata": {},
   "source": [
    "# 연습문제: 고객관리\n",
    "- 프로그램 시작시 \"data/ch09_customers.txt\"(고객 데이터 백업용)의 내용을 load(객체 list)\n",
    "-                 파일이 없을 경우 빈 파일 발생\n",
    "\n",
    "- 'data/ch09_customers.txt(고객 데이터 백업)' 의 내용\n",
    "    유질동, 010-5432-2222,yu@hong.com,20, 열심히\n",
    "    \n",
    "## customer 크래스 작성"
   ]
  },
  {
   "cell_type": "code",
   "execution_count": 241,
   "id": "9970b9a1",
   "metadata": {},
   "outputs": [],
   "source": [
    "class Customer:\n",
    "    '고객 데이터와 as_dic(), to_list_style(txt백업시), __str()'\n",
    "    def __init__(self, name, phone, email, age, grade, etc):\n",
    "        self.name = name\n",
    "        self.phone = phone\n",
    "        self.email = email\n",
    "        self.age = age\n",
    "        self.grade = grade\n",
    "        self.etc = etc\n",
    "    def as_dic(self): # 고객데이터를 딕셔너리로\n",
    "        return {'name' : self.name,\n",
    "                'phone' : self.phone,\n",
    "                'email' : self.email,\n",
    "                'age' : int(self.age),\n",
    "                'grade' : int(self.grade),\n",
    "                'etc': self.etc}\n",
    "    def to_list_style(self):\n",
    "        return \"{},{},{},{},{},{}\".format(self.name, self.phone, self.email, int(self.age), int(self.grade), self.etc)\n",
    "           # \"유질동, 010-5432-2222,yu@hong.com,20,3, 열심히\"\n",
    "        # temp = [self.name, \n",
    "        #        self.phone, \n",
    "        #        self.email, \n",
    "        #        str(self.age), \n",
    "        #        str(self.grade), \n",
    "        #        self.etc]\n",
    "        # return ', '.join(temp)\n",
    "    def __str__(self):\n",
    "        return \"{:>5}\\t{:3}\\t{:13}\\t{:15}\\t{:3}\\t{} \".format('★'*self.grade, self.name, self.phone, self.email, self.age, self.etc)\n",
    "       # {}안에 띄어 쓰기랑 format 안에 self.name ~~ 식으로 가야 한다"
   ]
  },
  {
   "cell_type": "code",
   "execution_count": 242,
   "id": "21b83aaa",
   "metadata": {},
   "outputs": [],
   "source": [
    "def to_customer(row):\n",
    "    '''\n",
    "      row =  홍길동, 010-9999-9999, a@a.com, 30, 3, 까칠해 이 내용을 매개 변수 받아\n",
    "      customer 객체로 return\n",
    "    '''  \n",
    "    data = row.split(',')\n",
    "    name = data[0]\n",
    "    phone = data[1].strip() # strip은 앞뒤 white space 제거\n",
    "    email = data[2].strip()\n",
    "    age = int(data[3].strip())\n",
    "    grade = int(data[4].strip())\n",
    "    etc = data[5].strip()\n",
    "    return Customer(name, phone, email, age, grade, etc)\n"
   ]
  },
  {
   "cell_type": "code",
   "execution_count": 243,
   "id": "a669d807",
   "metadata": {},
   "outputs": [
    {
     "ename": "TypeError",
     "evalue": "'Customer' object is not callable",
     "output_type": "error",
     "traceback": [
      "\u001b[1;31m---------------------------------------------------------------------------\u001b[0m",
      "\u001b[1;31mTypeError\u001b[0m                                 Traceback (most recent call last)",
      "Cell \u001b[1;32mIn[243], line 1\u001b[0m\n\u001b[1;32m----> 1\u001b[0m c1 \u001b[38;5;241m=\u001b[39m \u001b[43mcustomer\u001b[49m\u001b[43m(\u001b[49m\u001b[38;5;124;43m\"\u001b[39;49m\u001b[38;5;124;43m홍길동\u001b[39;49m\u001b[38;5;124;43m\"\u001b[39;49m\u001b[43m,\u001b[49m\u001b[43m \u001b[49m\u001b[38;5;124;43m\"\u001b[39;49m\u001b[38;5;124;43m010-9999-9999\u001b[39;49m\u001b[38;5;124;43m\"\u001b[39;49m\u001b[43m,\u001b[49m\u001b[43m \u001b[49m\u001b[38;5;124;43m\"\u001b[39;49m\u001b[38;5;124;43ma@a.com\u001b[39;49m\u001b[38;5;124;43m\"\u001b[39;49m\u001b[43m,\u001b[49m\u001b[43m \u001b[49m\u001b[38;5;241;43m30\u001b[39;49m\u001b[43m,\u001b[49m\u001b[43m \u001b[49m\u001b[38;5;241;43m3\u001b[39;49m\u001b[43m,\u001b[49m\u001b[43m \u001b[49m\u001b[38;5;124;43m\"\u001b[39;49m\u001b[38;5;124;43m까칠해\u001b[39;49m\u001b[38;5;124;43m\"\u001b[39;49m\u001b[43m)\u001b[49m\n\u001b[0;32m      2\u001b[0m \u001b[38;5;28mprint\u001b[39m(c1)\n\u001b[0;32m      3\u001b[0m \u001b[38;5;28mprint\u001b[39m(c1\u001b[38;5;241m.\u001b[39mas_dic())\n",
      "\u001b[1;31mTypeError\u001b[0m: 'Customer' object is not callable"
     ]
    }
   ],
   "source": [
    "c1 = customer(\"홍길동\", \"010-9999-9999\", \"a@a.com\", 30, 3, \"까칠해\")\n",
    "print(c1)\n",
    "print(c1.as_dic())\n",
    "print(c1.to_list_style())\n",
    "c2 = to_customer(\"홍길동, 010-9999-9999, a@a.com, 30, 3, 까칠해\")\n",
    "print(c2)"
   ]
  },
  {
   "cell_type": "markdown",
   "id": "00c602ee",
   "metadata": {},
   "source": [
    "## 0. 처음 실행시 호출\n",
    "- ch09_customers.txt(백업데이터) 에서 custoner_list return\n",
    "- 파일이 없으면 빈 파일 생성, customer_list = [] return"
   ]
  },
  {
   "cell_type": "code",
   "execution_count": 244,
   "id": "33a2bb50",
   "metadata": {},
   "outputs": [],
   "source": [
    "def load_customers():\n",
    "    customer_list = []\n",
    "    try:\n",
    "        with open('data/ch09_customer.txt', 'r', encoding='utf-8') as f:\n",
    "            # txt 데이터 한줄씩 customer 객체로 받아 customer_list.append\n",
    "            lines = f.readlines() # 한꺼번에 읽는거\n",
    "            for line in lines:  #line = \"홍길동, 010-9999-9999, a@a.com, 30, 3, 까칠해\"\n",
    "                customer = to_customer(line)\n",
    "                customer_list.append(customer)\n",
    "    except:\n",
    "        with open('data/ch09_customer.txt', 'w', encoding='utf-8') as f:\n",
    "            print('초기화 파일을 생성했습니다')\n",
    "    return customer_list"
   ]
  },
  {
   "cell_type": "code",
   "execution_count": 245,
   "id": "1cf49d12",
   "metadata": {},
   "outputs": [
    {
     "name": "stdout",
     "output_type": "stream",
     "text": [
      "  ★★★\t홍길동\t010-9999-9999\ta@a.com        \t 30\t까칠해 \n",
      "  ★★★\t이길동\t010-9999-9999\ta@a.com        \t 30\t까칠해 \n",
      "  ★★★\t신길동\t010-9999-9999\ta@a.com        \t 30\t까칠해 \n",
      "  ★★★\t홍길동\t010-9999-9999\ta@a.com        \t 30\t까칠해 \n",
      "  ★★★\t이길동\t010-9999-9999\ta@a.com        \t 30\t까칠해 \n",
      "  ★★★\t신길동\t010-9999-9999\ta@a.com        \t 30\t까칠해 \n"
     ]
    }
   ],
   "source": [
    "customer_list = load_customers()\n",
    "for customer in customer_list:\n",
    "    print(customer)"
   ]
  },
  {
   "cell_type": "markdown",
   "id": "516b1252",
   "metadata": {},
   "source": [
    "## 1. 입력"
   ]
  },
  {
   "cell_type": "code",
   "execution_count": 246,
   "id": "c08a8df1",
   "metadata": {},
   "outputs": [],
   "source": [
    "def fn1_insert_customer_info():\n",
    "    '''\n",
    "    사용자로부터 name, phone, email, age, grade, etc를 입력받아 Customer형 객체 반환\n",
    "    '''\n",
    "    name = input('이름:')\n",
    "    phone = input('번호:')\n",
    "    email = input('매일:')\n",
    "    while True:\n",
    "        try:\n",
    "            age = int(input('나이:'))\n",
    "            if (age<0) or (age>130):\n",
    "                raise Exception('나이 범위 이상')\n",
    "            break\n",
    "        except:\n",
    "            print('올바른 나이를 입력하시오')\n",
    "    try:\n",
    "        grade = int(input('등급(1~5):'))\n",
    "        if grade <1:\n",
    "            grade = 1\n",
    "        if grade >5:\n",
    "            grade = 5\n",
    "    except:\n",
    "        print('유요하지 않는 등급 입력시 1등급으로 초기화')\n",
    "    etc = input('기타 정보:')\n",
    "    return Customer(name, phone, email, age, grade, etc)"
   ]
  },
  {
   "cell_type": "code",
   "execution_count": 247,
   "id": "ee15fa81",
   "metadata": {},
   "outputs": [
    {
     "name": "stdout",
     "output_type": "stream",
     "text": [
      "이름:박선우\n",
      "번호:010-3083-5968\n",
      "매일:sd@.com\n",
      "나이:45\n",
      "등급(1~5):5\n",
      "기타 정보:걱정\n",
      "  ★★★\t홍길동\t010-9999-9999\ta@a.com        \t 30\t까칠해 \n",
      "  ★★★\t이길동\t010-9999-9999\ta@a.com        \t 30\t까칠해 \n",
      "  ★★★\t신길동\t010-9999-9999\ta@a.com        \t 30\t까칠해 \n",
      "  ★★★\t홍길동\t010-9999-9999\ta@a.com        \t 30\t까칠해 \n",
      "  ★★★\t이길동\t010-9999-9999\ta@a.com        \t 30\t까칠해 \n",
      "  ★★★\t신길동\t010-9999-9999\ta@a.com        \t 30\t까칠해 \n",
      "★★★★★\t박선우\t010-3083-5968\tsd@.com        \t 45\t걱정 \n"
     ]
    }
   ],
   "source": [
    "# 1번 함수 테스트\n",
    "customer_list = load_customers()\n",
    "customer = fn1_insert_customer_info()\n",
    "customer_list.append(customer)\n",
    "for customer in customer_list:\n",
    "    print(customer)"
   ]
  },
  {
   "cell_type": "markdown",
   "id": "8cffb742",
   "metadata": {},
   "source": [
    "## 2.전체 출력"
   ]
  },
  {
   "cell_type": "code",
   "execution_count": 248,
   "id": "4907d68e",
   "metadata": {},
   "outputs": [],
   "source": [
    "def fn2_print_customers(customer_list):\n",
    "    '''\n",
    "    customer_list를 출력(pdf p.40)\n",
    "    '''\n",
    "    print('='*70)\n",
    "    print('{:^70}'.format('고객정보'))\n",
    "    print('='*70)\n",
    "    print(\"{:>5}\\t{:3}\\t{:13}\\t{:15}\\t{:3}\\t{}\".format(\"grade\", \"이름\", \"전화\",\n",
    "                                                        \"메일\", \"나이\", \"기타\"))\n",
    "    print('-'*70)\n",
    "    for customer in customer_list:\n",
    "          print(customer)\n",
    "    "
   ]
  },
  {
   "cell_type": "code",
   "execution_count": 249,
   "id": "5c2cc69c",
   "metadata": {},
   "outputs": [
    {
     "name": "stdout",
     "output_type": "stream",
     "text": [
      "  ★★★\t홍길동\t010-9999-9999\ta@a.com        \t 30\t까칠해 \n",
      "  ★★★\t이길동\t010-9999-9999\ta@a.com        \t 30\t까칠해 \n",
      "  ★★★\t신길동\t010-9999-9999\ta@a.com        \t 30\t까칠해 \n",
      "  ★★★\t홍길동\t010-9999-9999\ta@a.com        \t 30\t까칠해 \n",
      "  ★★★\t이길동\t010-9999-9999\ta@a.com        \t 30\t까칠해 \n",
      "  ★★★\t신길동\t010-9999-9999\ta@a.com        \t 30\t까칠해 \n",
      "★★★★★\t박선우\t010-3083-5968\tsd@.com        \t 45\t걱정 \n"
     ]
    }
   ],
   "source": [
    "# 2번 기능 테스트\n",
    "\n",
    "for customer in customer_list:\n",
    "    print(customer)"
   ]
  },
  {
   "cell_type": "markdown",
   "id": "b1fd1d67",
   "metadata": {},
   "source": [
    "## 3. 삭제"
   ]
  },
  {
   "cell_type": "code",
   "execution_count": 250,
   "id": "73d4fb29",
   "metadata": {},
   "outputs": [],
   "source": [
    "# 3.삭제 동명이인이 없다 구현\n",
    "def fn3_delete_customer(customer_list):\n",
    "    '''\n",
    "    삭제하고자 하는 고객이름을 input으로 받아\n",
    "    매개변수로 들어온 customer_list에서 삭제하고 \"삭제했음/삭제못했음\"을 메세지로 출력\n",
    "    '''\n",
    "    delete_name = input('삭제할 고객 이름은?')\n",
    "    for customer in customer_list:\n",
    "        if customer.name == delete_name:\n",
    "            customer_list.remove(customer)\n",
    "            print('{}님 데이터를 삭제하였습니다'.format(delete_name))\n",
    "            break # for 문을 빠져 나오기 위해서 return 을 쓰게 된다면?\n",
    "    else:\n",
    "        print('{}님 데이터는 존재하지 않습니다'.format(delete_name))\n",
    "        "
   ]
  },
  {
   "cell_type": "code",
   "execution_count": 231,
   "id": "e4479b5c",
   "metadata": {},
   "outputs": [
    {
     "name": "stdout",
     "output_type": "stream",
     "text": [
      "삭제할 고객 이름은?홍길동\n",
      "홍길동님 데이터를 삭제하였습니다\n"
     ]
    }
   ],
   "source": [
    "# 3번 기능 테스트\n",
    "customer_list = load_customers()\n",
    "fn3_delete_customer(customer_list)"
   ]
  },
  {
   "cell_type": "code",
   "execution_count": 234,
   "id": "ca5f49e0",
   "metadata": {},
   "outputs": [
    {
     "name": "stdout",
     "output_type": "stream",
     "text": [
      "======================================================================\n",
      "                                 고객정보                                 \n",
      "======================================================================\n",
      "grade\t이름 \t전화           \t메일             \t나이 \t기타\n",
      "----------------------------------------------------------------------\n",
      "  ★★★\t이길동\t010-9999-9999\ta@a.com        \t 30\t까칠해 \n",
      "  ★★★\t신길동\t010-9999-9999\ta@a.com        \t 30\t까칠해 \n",
      "  ★★★\t홍길동\t010-9999-9999\ta@a.com        \t 30\t까칠해 \n",
      "  ★★★\t이길동\t010-9999-9999\ta@a.com        \t 30\t까칠해 \n",
      "  ★★★\t신길동\t010-9999-9999\ta@a.com        \t 30\t까칠해 \n"
     ]
    }
   ],
   "source": [
    "fn2_print_customers(customer_list)"
   ]
  },
  {
   "cell_type": "code",
   "execution_count": 259,
   "id": "a98986f0",
   "metadata": {},
   "outputs": [],
   "source": [
    "# 3.삭제 동명이인이 있다 구현\n",
    "def fn3_delete_customer(customer_list):\n",
    "    delete_name = input('삭제할 고객 이름은?')\n",
    "    delete_idx = [] # 삭제할 인덱스를 저장하는 용도\n",
    "    for idx, customer in enumerate(customer_list):\n",
    "        if customer.name == delete_name:\n",
    "            delete_idx.append(idx)\n",
    "        if delete_idx:\n",
    "            for idx in delete_idx[::-1]:# 반대로 삭제를 하는것 \n",
    "                del customer_list[idx]  # 여기서는 break 와 else를 안쓰는 이유는?\n",
    "            print('{}님 {}명 삭제하였습니다'.format(delete_name, len(delete_idx))) \n",
    "        else:\n",
    "            print('{}님 데이터가 존재하지 않습니다'.format(delete_name))\n",
    "                \n",
    "\n",
    "        \n",
    "        "
   ]
  },
  {
   "cell_type": "code",
   "execution_count": 258,
   "id": "9ca3a180",
   "metadata": {},
   "outputs": [
    {
     "name": "stdout",
     "output_type": "stream",
     "text": [
      "삭제할 고객 이름은?신길동\n",
      "신길동님 1명 삭제하였습니다\n",
      "신길동님 1명 삭제하였습니다\n"
     ]
    }
   ],
   "source": [
    "customer_list = load_customers()\n",
    "fn3_delete_customer(customer_list)"
   ]
  },
  {
   "cell_type": "code",
   "execution_count": 260,
   "id": "14ff380a",
   "metadata": {},
   "outputs": [
    {
     "name": "stdout",
     "output_type": "stream",
     "text": [
      "======================================================================\n",
      "                                 고객정보                                 \n",
      "======================================================================\n",
      "grade\t이름 \t전화           \t메일             \t나이 \t기타\n",
      "----------------------------------------------------------------------\n",
      "  ★★★\t홍길동\t010-9999-9999\ta@a.com        \t 30\t까칠해 \n",
      "  ★★★\t이길동\t010-9999-9999\ta@a.com        \t 30\t까칠해 \n",
      "  ★★★\t이길동\t010-9999-9999\ta@a.com        \t 30\t까칠해 \n",
      "  ★★★\t신길동\t010-9999-9999\ta@a.com        \t 30\t까칠해 \n"
     ]
    }
   ],
   "source": [
    "fn2_print_customers(customer_list)"
   ]
  },
  {
   "cell_type": "markdown",
   "id": "6d237863",
   "metadata": {},
   "source": [
    "## 4. 이름찾기"
   ]
  },
  {
   "cell_type": "code",
   "execution_count": 271,
   "id": "0b7e038e",
   "metadata": {},
   "outputs": [],
   "source": [
    "# 4.이름찾기 동명이인이 있음\n",
    "'''\n",
    "찾고자 할 이름을 input 으로 입력을 받아, customer_list에서 검색\n",
    "없으면 요청한 이름은 없습니다\n",
    "'''\n",
    "def fn4_search_customer(customer_list):\n",
    "    find_name=input('찾는이름:')\n",
    "    find_idx=[]\n",
    "    for idx, customer in enumerate(customer_list):\n",
    "        if customer.name == find_name:\n",
    "            find_idx.append(idx)\n",
    "    if find_idx:\n",
    "        for idx in find_idx:\n",
    "            #print('{}님 {}명 존재하였습니다'.format(find_name, len(find_idx))) \n",
    "            print(customer_list[idx])\n",
    "    else:\n",
    "        print('{}님 데이터가 존재하지 않습니다'.format(find_name))\n",
    "                "
   ]
  },
  {
   "cell_type": "code",
   "execution_count": 273,
   "id": "c58c97b0",
   "metadata": {},
   "outputs": [
    {
     "name": "stdout",
     "output_type": "stream",
     "text": [
      "찾는이름:이길동\n",
      "  ★★★\t이길동\t010-9999-9999\ta@a.com        \t 30\t까칠해 \n",
      "  ★★★\t이길동\t010-9999-9999\ta@a.com        \t 30\t까칠해 \n"
     ]
    }
   ],
   "source": [
    "# 4번 기능 테스트\n",
    "customer_list = load_customers()\n",
    "fn4_search_customer(customer_list)"
   ]
  },
  {
   "cell_type": "markdown",
   "id": "b5107cd0",
   "metadata": {},
   "source": [
    "## 5. 내보내기(csv)"
   ]
  },
  {
   "cell_type": "code",
   "execution_count": null,
   "id": "2667ad3d",
   "metadata": {},
   "outputs": [],
   "source": [
    "# 5.내보내기 (csv)\n",
    "def fn5_save_customer_csv(customer_list):"
   ]
  },
  {
   "cell_type": "code",
   "execution_count": null,
   "id": "23f1ed7d",
   "metadata": {},
   "outputs": [],
   "source": [
    "#5번 테스트"
   ]
  },
  {
   "cell_type": "code",
   "execution_count": null,
   "id": "736eebce",
   "metadata": {},
   "outputs": [],
   "source": [
    "## 9. 종료"
   ]
  },
  {
   "cell_type": "code",
   "execution_count": null,
   "id": "3931fb5c",
   "metadata": {},
   "outputs": [],
   "source": [
    "# 9.종료 종료하기 전 customer_list 를 txt 파일에 저장하고 종료\n",
    "def fn9_save_customer_txt(customer_list):"
   ]
  },
  {
   "cell_type": "code",
   "execution_count": null,
   "id": "4c7b8296",
   "metadata": {},
   "outputs": [],
   "source": [
    "#9번 기능 테스트"
   ]
  },
  {
   "cell_type": "code",
   "execution_count": null,
   "id": "1646b015",
   "metadata": {},
   "outputs": [],
   "source": []
  },
  {
   "cell_type": "code",
   "execution_count": null,
   "id": "5fe3404a",
   "metadata": {},
   "outputs": [],
   "source": []
  }
 ],
 "metadata": {
  "kernelspec": {
   "display_name": "Python 3 (ipykernel)",
   "language": "python",
   "name": "python3"
  },
  "language_info": {
   "codemirror_mode": {
    "name": "ipython",
    "version": 3
   },
   "file_extension": ".py",
   "mimetype": "text/x-python",
   "name": "python",
   "nbconvert_exporter": "python",
   "pygments_lexer": "ipython3",
   "version": "3.10.9"
  },
  "toc": {
   "base_numbering": 1,
   "nav_menu": {},
   "number_sections": false,
   "sideBar": true,
   "skip_h1_title": false,
   "title_cell": "Table of Contents",
   "title_sidebar": "Contents",
   "toc_cell": false,
   "toc_position": {
    "height": "calc(100% - 180px)",
    "left": "10px",
    "top": "150px",
    "width": "165px"
   },
   "toc_section_display": true,
   "toc_window_display": true
  }
 },
 "nbformat": 4,
 "nbformat_minor": 5
}
