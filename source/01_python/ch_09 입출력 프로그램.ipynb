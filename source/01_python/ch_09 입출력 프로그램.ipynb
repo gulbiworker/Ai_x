{
 "cells": [
  {
   "cell_type": "code",
   "execution_count": 84,
   "id": "2ce7c24d",
   "metadata": {},
   "outputs": [
    {
     "data": {
      "text/html": [
       "\n",
       "<style>\n",
       "div.container{width:86% !important;}\n",
       "div.cell.code_cell.rendered{width:100%;}\n",
       "div.CodeMirror {font-family:Consolas; font-size:15pt;}\n",
       "div.output {font-size:15pt; font-weight:bold;}\n",
       "div.input {font-family:Consolas; font-size:15pt;}\n",
       "div.prompt {min-width:70px;\n",
       "div#toc-wrapper{padding-top:120px;}\n",
       "div.text_cell_render ul li{font-size:12pt;padding:5px;}\n",
       "table.dataframe{font-size:15px;}\n",
       "</style>\n"
      ],
      "text/plain": [
       "<IPython.core.display.HTML object>"
      ]
     },
     "metadata": {},
     "output_type": "display_data"
    }
   ],
   "source": [
    "from IPython.display import display, HTML\n",
    "display(HTML(\"\"\"\n",
    "<style>\n",
    "div.container{width:86% !important;}\n",
    "div.cell.code_cell.rendered{width:100%;}\n",
    "div.CodeMirror {font-family:Consolas; font-size:15pt;}\n",
    "div.output {font-size:15pt; font-weight:bold;}\n",
    "div.input {font-family:Consolas; font-size:15pt;}\n",
    "div.prompt {min-width:70px;\n",
    "div#toc-wrapper{padding-top:120px;}\n",
    "div.text_cell_render ul li{font-size:12pt;padding:5px;}\n",
    "table.dataframe{font-size:15px;}\n",
    "</style>\n",
    "\"\"\"))"
   ]
  },
  {
   "cell_type": "markdown",
   "id": "da5d2a1f",
   "metadata": {},
   "source": [
    "<font size=\"5\" color=\"red\">ch09 입출력 프로그램</font>\n",
    "파일 : txt, pickle, csv, json, hdf5(h5)\n",
    "\n",
    "# 1절. txt파일에 데이터 저장하고 불러오기"
   ]
  },
  {
   "cell_type": "code",
   "execution_count": 2,
   "id": "922b0559",
   "metadata": {},
   "outputs": [],
   "source": [
    "#try: \n",
    "#    f = open('data/ch09.txt', 'w') # 데이터 출력\n",
    "#except FileNotFoundError as e:\n",
    "#    print(e)   # 파일 이름이 잘못치면 try, except 하고 예외 처리를 해주어야 한다\n",
    "#finally:\n",
    "#    f.close()"
   ]
  },
  {
   "cell_type": "code",
   "execution_count": 3,
   "id": "a6c99b9d",
   "metadata": {},
   "outputs": [
    {
     "name": "stdout",
     "output_type": "stream",
     "text": [
      "쓰기 가능한지 여부 : True\n"
     ]
    }
   ],
   "source": [
    "f = open('data/ch09.txt', 'w')\n",
    "print('쓰기 가능한지 여부 :', f.writable())"
   ]
  },
  {
   "cell_type": "code",
   "execution_count": 4,
   "id": "582b4689",
   "metadata": {},
   "outputs": [],
   "source": [
    "f.write(\"H\")\n",
    "f.close()    #close()로 마무리 지어야 함   저장은 x"
   ]
  },
  {
   "cell_type": "code",
   "execution_count": 5,
   "id": "b4ce95c2",
   "metadata": {},
   "outputs": [
    {
     "name": "stdout",
     "output_type": "stream",
     "text": [
      "쓰기 가능한지 여부 : True\n"
     ]
    }
   ],
   "source": [
    "# mode : 'r' 또는 'rt' : text읽기 모드\n",
    "      #  'rb' : 바이너리읽기 모드\n",
    "      #  'w' 또는 'wt' : text쓰기 모드 (파일이 있으면 덮어씀, 파일이 없으면 파일 생성)\n",
    "      #  'wb' : 바이너리쓰기 모드\n",
    "      #  'a' 또는 'at' : text 추가 모드(파일이 있으면 append, 파일이 없으면 파일 생성)\n",
    "      # 읽기모드에서는 파일이 없으면 예외/쓰기모드에서는 폴더가 없으면 예외\n",
    "# encoding \n",
    "     # euc-kr (한글완성형) 믜x\n",
    "     # cp949 (확장된 한글완성형) : open()함수 기본 encoding방식(win)\n",
    "     # utf-8 (한글조합형): open()함수 기본 encoding방식(mac, linux), 주피터노트북 기본\n",
    "with open('data/ch09.txt', 'w') as f:\n",
    "    print('쓰기 가능한지 여부 :', f.writable())\n",
    "    f.write('Hello\\nPython')"
   ]
  },
  {
   "cell_type": "code",
   "execution_count": 24,
   "id": "c5a838be",
   "metadata": {},
   "outputs": [],
   "source": [
    "with open('data/ch09.txt', 'w') as f:\n",
    "    # 1방법\n",
    "    f.write('홍길동, 33, 아무동9\\n')\n",
    "    f.write('김길동, 33, 아무동9\\n')\n",
    "    # 2방법\n",
    "    textlist = ['홍길동, 33, 아무동9\\n', '김길동, 33, 아무동9\\n']\n",
    "    for line in textlist:\n",
    "        f.write(line)\n",
    "    # 3방법\n",
    "    f.writelines(textlist)"
   ]
  },
  {
   "cell_type": "code",
   "execution_count": 26,
   "id": "f9347277",
   "metadata": {},
   "outputs": [
    {
     "name": "stdout",
     "output_type": "stream",
     "text": [
      "홍길동, 33, 아무동9\n",
      "김길동, 33, 아무동9\n",
      "홍길동, 33, 아무동9\n",
      "김길동, 33, 아무동9\n",
      "홍길동, 33, 아무동9\n",
      "김길동, 33, 아무동9\n"
     ]
    }
   ],
   "source": [
    "# 한줄씩 읽기\n",
    "with open('data/ch09.txt', 'r') as f:\n",
    "    line = f.readline()\n",
    "    while line!='':\n",
    "        print(line, end='')\n",
    "        line = f.readline()"
   ]
  },
  {
   "cell_type": "code",
   "execution_count": 8,
   "id": "f2afb1a7",
   "metadata": {},
   "outputs": [
    {
     "name": "stdout",
     "output_type": "stream",
     "text": [
      "['홍길동, 33, 아무동9\\n', '김길동, 33, 아무동9\\n', '홍길동, 33, 아무동9\\n', '김길동, 33, 아무동9\\n', '홍길동, 33, 아무동9\\n', '김길동, 33, 아무동9\\n']\n"
     ]
    }
   ],
   "source": [
    "# 모든 줄을 읽기\n",
    "with open('data/ch09.txt', 'r') as f:\n",
    "    lines = f.readlines()\n",
    "    print(lines)"
   ]
  },
  {
   "cell_type": "code",
   "execution_count": 9,
   "id": "00378370",
   "metadata": {},
   "outputs": [
    {
     "name": "stdout",
     "output_type": "stream",
     "text": [
      "홍길동, 33, 아무동9\n",
      "김길동, 33, 아무동9\n",
      "홍길동, 33, 아무동9\n",
      "김길동, 33, 아무동9\n",
      "홍길동, 33, 아무동9\n",
      "김길동, 33, 아무동9\n",
      "\n"
     ]
    }
   ],
   "source": [
    "# 모두 읽기\n",
    "with open('data/ch09.txt', 'r') as f:\n",
    "    lines = f.read()\n",
    "    print(lines)"
   ]
  },
  {
   "cell_type": "markdown",
   "id": "4b074494",
   "metadata": {},
   "source": [
    "## 2절. 피클을 이용한 객체 저장 및 불러오기\n",
    "# 2.1 형식이 있는 txt 데이터 불러오기"
   ]
  },
  {
   "cell_type": "code",
   "execution_count": 10,
   "id": "af755357",
   "metadata": {},
   "outputs": [],
   "source": [
    "class Member:\n",
    "    def __init__(self, name, age, email, address):\n",
    "        self.name=name\n",
    "        self.age=age\n",
    "        self.email=email\n",
    "        self.address=address\n",
    "    def __str__(self):\n",
    "        return \"{}, {}, {}, {}\" .format(self.name, \"성년\" if self.age>18 else \"미성년\", self.email,\n",
    "                                         self.address)\n",
    "    def as_dict(self): # 객체를 dic 로 반환해줌\n",
    "        return{\n",
    "            'name':self.name,\n",
    "            'age':self.age,\n",
    "            'email':self.email,\n",
    "            'address':self.address\n",
    "        }\n",
    "    def __eq__(self, other):\n",
    "        return self.name == other.name and\\\n",
    "        self.age == other.age and self.email == other.email and\\\n",
    "        self.address == other.address\n",
    "    "
   ]
  },
  {
   "cell_type": "code",
   "execution_count": 11,
   "id": "41ae0dfb",
   "metadata": {},
   "outputs": [
    {
     "name": "stdout",
     "output_type": "stream",
     "text": [
      "True\n",
      "True\n"
     ]
    }
   ],
   "source": [
    "user1 = Member('홍',20,'a@a.com','신림동')\n",
    "user2 = Member('홍',20,'a@a.com','신림동')\n",
    "print(user1==user2)\n",
    "print(user1.__eq__(user2)) # 같은 내용이면 True"
   ]
  },
  {
   "cell_type": "code",
   "execution_count": 33,
   "id": "353d13c8",
   "metadata": {},
   "outputs": [],
   "source": [
    "# 형식이 있는 txt 파일 내용을 member list(피클 저장), 딕셔너리 list(데이터프레임)로 저장\n",
    "user_list = [] # member list\n",
    "user_dict = [] # 딕셔너리 list\n",
    "with open('data/ch09_member.txt', 'r', encoding='utf-8') as f:\n",
    "    lines = f.readlines()\n",
    "#print(lines)\n",
    "for line in lines:\n",
    "    data = line.split(',')\n",
    "    #print(data)\n",
    "    name=data[0]\n",
    "    age=int(data[1].strip())   # strip() 는 좌우 공백제거\n",
    "    email = data[2].strip()\n",
    "    address = data[3].strip()\n",
    "    user = Member(name, age, email, address)\n",
    "    user_list.append(user)\n",
    "    user_dict.append(user.as_dict())"
   ]
  },
  {
   "cell_type": "code",
   "execution_count": 34,
   "id": "9e8b4a79",
   "metadata": {},
   "outputs": [
    {
     "data": {
      "text/plain": [
       "[{'name': '홍길동', 'age': 20, 'email': 'kildong@hong.com', 'address': '서울시 관악구'},\n",
       " {'name': '홍길숙',\n",
       "  'age': 25,\n",
       "  'email': 'kilsuk1@hong.com',\n",
       "  'address': '서울시 영등포구'},\n",
       " {'name': '신길동', 'age': 30, 'email': 'shinkil@hong.com', 'address': '서울시 동작구'}]"
      ]
     },
     "execution_count": 34,
     "metadata": {},
     "output_type": "execute_result"
    }
   ],
   "source": [
    "user_dict"
   ]
  },
  {
   "cell_type": "code",
   "execution_count": 35,
   "id": "7e8363ff",
   "metadata": {},
   "outputs": [
    {
     "name": "stdout",
     "output_type": "stream",
     "text": [
      "홍길동, 성년, kildong@hong.com, 서울시 관악구\n",
      "홍길숙, 성년, kilsuk1@hong.com, 서울시 영등포구\n",
      "신길동, 성년, shinkil@hong.com, 서울시 동작구\n"
     ]
    }
   ],
   "source": [
    "for user in user_list:\n",
    "    print(user)"
   ]
  },
  {
   "cell_type": "markdown",
   "id": "6fa4c981",
   "metadata": {},
   "source": [
    "## 2.2 피클링\n",
    "- 객체 리스트(user_list) -> 피클파일로 쓰기\n",
    "- 피클 파일을 읽기 -> 객체 리스트(load_user_list)"
   ]
  },
  {
   "cell_type": "code",
   "execution_count": null,
   "id": "5444a105",
   "metadata": {},
   "outputs": [],
   "source": [
    "# 피클링을 이용한 객체를 저장하기\n",
    "import pickle\n",
    "with open('data/ch09_member.data', 'wb') as f:\n",
    "    pickle.dump(user_list, f)"
   ]
  },
  {
   "cell_type": "code",
   "execution_count": null,
   "id": "ade45da0",
   "metadata": {},
   "outputs": [],
   "source": [
    "# 피클링을 이용한 파일에서 객체 데이터로 읽기\n",
    "with open('data/ch09_member.data', 'rb') as f:\n",
    "    load_user_list = pickle.load(f)"
   ]
  },
  {
   "cell_type": "code",
   "execution_count": null,
   "id": "0ac1bc7e",
   "metadata": {},
   "outputs": [],
   "source": [
    "user_list == load_user_list"
   ]
  },
  {
   "cell_type": "code",
   "execution_count": null,
   "id": "eba6711b",
   "metadata": {},
   "outputs": [],
   "source": [
    "for idx in range(len(user_list)):\n",
    "    print(idx, user[idx])\n",
    "    print(idx, load_user_list[idx])"
   ]
  },
  {
   "cell_type": "code",
   "execution_count": null,
   "id": "da93ed0e",
   "metadata": {},
   "outputs": [],
   "source": [
    "for idx, (user, load_user) in enumerate(zip(user_list, load_user_list)):  # zip 은 같은 인덱스를 짝지어줌\n",
    "    print(user)\n",
    "    print(load_user)\n",
    "    print(user == load_user)"
   ]
  },
  {
   "cell_type": "code",
   "execution_count": null,
   "id": "e79ae4fd",
   "metadata": {},
   "outputs": [],
   "source": [
    "result = []\n",
    "for user, load_user in zip(user_list, load_user_list):\n",
    "    result.append(user==load_user)\n",
    "all(result)"
   ]
  },
  {
   "cell_type": "markdown",
   "id": "b78a921a",
   "metadata": {},
   "source": [
    "# 3절. csv 형식 파일 읽기/쓰기\n",
    "- csv <-> 리스트데이터로 읽기 3.1/3.2\n",
    "- csv <-> 딕셔너리데이터 3.3/3.4"
   ]
  },
  {
   "cell_type": "markdown",
   "id": "f7613952",
   "metadata": {},
   "source": [
    "## 3.1 reader"
   ]
  },
  {
   "cell_type": "code",
   "execution_count": null,
   "id": "173d46c1",
   "metadata": {},
   "outputs": [],
   "source": [
    "import csv    \n",
    "with open('data/ch09_member1.csv', 'r', encoding='utf-8') as f:\n",
    "    reader = csv.reader(f)\n",
    "    result = list(reader)\n",
    "print(result)   # print(list(reader)) : 사용할 경우 띄어쓰기 주의해야 할것"
   ]
  },
  {
   "cell_type": "code",
   "execution_count": null,
   "id": "c58b44e5",
   "metadata": {},
   "outputs": [],
   "source": [
    "# \"\"(따옴표)가 없는 데이터는 numeric으로 \n",
    "import csv\n",
    "with open('data/ch09_member1.csv', 'r', encoding='utf-8') as f:\n",
    "    reader = csv.reader(f, \n",
    "                       quoting=csv.QUOTE_NONNUMERIC)\n",
    "    result = list(reader)\n",
    "print(result)"
   ]
  },
  {
   "cell_type": "code",
   "execution_count": null,
   "id": "d4515209",
   "metadata": {},
   "outputs": [],
   "source": [
    "import csv\n",
    "with open('data/ch09_member1.csv', 'r', encoding='utf-8') as f:\n",
    "    reader = csv.reader(f, \n",
    "                       quoting=csv.QUOTE_NONNUMERIC)\n",
    "    result = list(reader)\n",
    "dict_list = []\n",
    "for data in result:\n",
    "    dict_list.append({\n",
    "        'name':data[0],\n",
    "        'age':int(data[1]),\n",
    "        'email':data[2],\n",
    "        'address':data[3]\n",
    "    })\n",
    "print(dict_list)"
   ]
  },
  {
   "cell_type": "markdown",
   "id": "59d061b6",
   "metadata": {},
   "source": [
    "## 3.2 writer"
   ]
  },
  {
   "cell_type": "code",
   "execution_count": null,
   "id": "53b52aaf",
   "metadata": {},
   "outputs": [],
   "source": [
    "user_list=[['홍길동', 20, 'kildong@hong.com', '서울시 관악구'], \n",
    "           ['김길동', 40, 'kimdong@hong.com', '서울시 영등포구']]"
   ]
  },
  {
   "cell_type": "code",
   "execution_count": null,
   "id": "7fc60a9e",
   "metadata": {},
   "outputs": [],
   "source": [
    "with open('data/ch09_member_write.csv', 'a', newline='', encoding='utf-8') as f:\n",
    "    writer = csv.writer(f)\n",
    "    writer.writerows(user_list)"
   ]
  },
  {
   "cell_type": "code",
   "execution_count": null,
   "id": "56213314",
   "metadata": {},
   "outputs": [],
   "source": [
    "import csv\n",
    "with open('data/ch09_member_write.csv', 'w', newline='', encoding='utf-8') as f:\n",
    "    writer = csv.writer(f, quoting=csv.QUOTE_NONNUMERIC)\n",
    "    writer.writerows(user_list)"
   ]
  },
  {
   "cell_type": "markdown",
   "id": "da26a7e7",
   "metadata": {},
   "source": [
    "## 3.3 DictReader "
   ]
  },
  {
   "cell_type": "code",
   "execution_count": null,
   "id": "40e7533c",
   "metadata": {},
   "outputs": [],
   "source": [
    "import csv\n",
    "#헤더가 있으면 지정 안해도 되고 없으면 해야 한다\n",
    "with open('data/ch09_member3.csv', 'r', encoding='utf-8') as f:\n",
    "    dict_reader = csv.DictReader(f)\n",
    "    print(dict_reader)\n",
    "    for row in dict_reader:\n",
    "        if row['job'] is None:  # == None 이라는 표현 보다 is None 사용하기\n",
    "            print(row['name'], row['age'], row['email'], row['address'])\n",
    "        else:\n",
    "            print(row['name'], row['age'], row['email'], row['address'], row['job'])"
   ]
  },
  {
   "cell_type": "code",
   "execution_count": null,
   "id": "63109706",
   "metadata": {},
   "outputs": [],
   "source": [
    "# 헤더가 없는 csv파일(ch09_member1-cp.csv)을 dict로 읽기\n",
    "with open('data/ch09_member1-cp.csv', encoding='cp949') as f:\n",
    "    dict_reader = csv.DictReader(f,\n",
    "                fieldnames=['Name', 'Age','Email','Address',],\n",
    "                                restkey='job') #헤더가 없어서 이렇게 해 주어야 함\n",
    "    restult = list(dict_reader)\n",
    "for row in restult:\n",
    "    print(row)"
   ]
  },
  {
   "cell_type": "markdown",
   "id": "798566f7",
   "metadata": {},
   "source": [
    "## 3.4 DictWriter\n",
    "- 딕셔너리 리스트 -> csv파일"
   ]
  },
  {
   "cell_type": "code",
   "execution_count": null,
   "id": "789e89ae",
   "metadata": {},
   "outputs": [],
   "source": [
    "user1 = {'name' : '홍길동', 'age':22, 'email':'a@a.com', 'address':'신림동'}\n",
    "user2 = {'name' : '신길동', 'age':32, 'email':'a@a.com', 'address':'신림동'}\n",
    "user3 = {'name' : '김길동', 'age':42, 'email':'a@a.com', 'address':'신림동'}\n",
    "user_list = [user1, user2, user3]\n",
    "fieldnames=list(user1.keys())"
   ]
  },
  {
   "cell_type": "code",
   "execution_count": null,
   "id": "9221111c",
   "metadata": {},
   "outputs": [],
   "source": [
    "user1.values()"
   ]
  },
  {
   "cell_type": "code",
   "execution_count": null,
   "id": "54c7efce",
   "metadata": {},
   "outputs": [],
   "source": [
    "user1.keys()"
   ]
  },
  {
   "cell_type": "code",
   "execution_count": null,
   "id": "da6576a2",
   "metadata": {},
   "outputs": [],
   "source": [
    "user1.items()"
   ]
  },
  {
   "cell_type": "code",
   "execution_count": null,
   "id": "ae2fc1b9",
   "metadata": {},
   "outputs": [],
   "source": [
    "print(fieldnames)"
   ]
  },
  {
   "cell_type": "code",
   "execution_count": null,
   "id": "df196d4e",
   "metadata": {},
   "outputs": [],
   "source": [
    "with open('data/ch09_member4.csv', 'w', encoding='utf-8', newline='') as f:\n",
    "    dict_writer = csv.DictWriter(f,\n",
    "                                fieldnames=fieldnames)  # fieldname 에 fieldname 을 넣는것?\n",
    "    dict_writer.writeheader() # header 쓰기\n",
    "    dict_writer.writerows(user_list)"
   ]
  },
  {
   "cell_type": "markdown",
   "id": "ca92723e",
   "metadata": {},
   "source": [
    "## csv <-> 데이터 프레임"
   ]
  },
  {
   "cell_type": "code",
   "execution_count": null,
   "id": "4be4ebed",
   "metadata": {},
   "outputs": [],
   "source": [
    "import pandas as pd\n",
    "member = pd.read_csv('data/ch09_member3.csv', encoding='utf-8')\n",
    "member"
   ]
  },
  {
   "cell_type": "code",
   "execution_count": null,
   "id": "3c29ecc8",
   "metadata": {},
   "outputs": [],
   "source": [
    "type(member)"
   ]
  },
  {
   "cell_type": "markdown",
   "id": "dfc7e5ac",
   "metadata": {},
   "source": [
    "## 4절. JSON 데이터 저장하고 불러오기(dump, load)\n",
    "- 딕셔너리리스트 <->JSON파일\n",
    "- 객체리스트 <-> JSON 파일\n",
    "## 4.1 dump(파일 출력)\n"
   ]
  },
  {
   "cell_type": "code",
   "execution_count": null,
   "id": "8f71776e",
   "metadata": {},
   "outputs": [],
   "source": [
    "data = [{'name': '홍길동', 'age': 20, 'email': 'kildong@hong.com', 'address': '서울시 관악구'},\n",
    "        {'name': '신길동', 'age': 30, 'email': 'shinkil@hong.com', 'address': '서울시 동작구'}]"
   ]
  },
  {
   "cell_type": "code",
   "execution_count": null,
   "id": "28b3e919",
   "metadata": {},
   "outputs": [],
   "source": [
    "# ensure_ascii 매개변수\n",
    "    # True : 비 ASCII문은 유니코드 형태로 저장\n",
    "    # False : 비 ASCII문자 원래 형태로 저장\n",
    "import json\n",
    "with open('data/ch09_member.json','w', encoding='utf-8') as jsonfile:\n",
    "    json.dump(data, # 딕셔너리 리스트\n",
    "              jsonfile,\n",
    "              ensure_ascii=False,\n",
    "              indent='\\t')  # 들여쓰기 또는 띄어쓰기용\n",
    "    "
   ]
  },
  {
   "cell_type": "code",
   "execution_count": null,
   "id": "c7ce6f49",
   "metadata": {},
   "outputs": [],
   "source": [
    "class Member:\n",
    "    def __init__(self, name, age, email, address):\n",
    "        self.name=name\n",
    "        self.age=age\n",
    "        self.email=email\n",
    "        self.address=address\n",
    "    def __str__(self):\n",
    "        return \"{}, {}, {}, {}\" .format(self.name, \"성년\" if self.age>18 else \"미성년\", self.email,\n",
    "                                         self.address)\n",
    "    def as_dict(self): # 객체를 dic 로 반환해줌\n",
    "        return{\n",
    "            'name':self.name,\n",
    "            'age':self.age,\n",
    "            'email':self.email,\n",
    "            'address':self.address\n",
    "               }\n",
    "    def __eq__(self, other):\n",
    "        if isinstance(other, Member):\n",
    "            return self.__str__() == other.__str__()\n",
    "        \n",
    "        else:\n",
    "            return False\n",
    "    "
   ]
  },
  {
   "cell_type": "code",
   "execution_count": null,
   "id": "3ec6755f",
   "metadata": {},
   "outputs": [],
   "source": [
    "user1 = Member('홍길동', 22, 'a@a.com','신림동')\n",
    "user2 = Member('홍길동', 22, 'a@a.com','신림동')\n",
    "print(user1.__eq__(user2))\n",
    "print(user1== user2)"
   ]
  },
  {
   "cell_type": "code",
   "execution_count": null,
   "id": "cd1e2f3b",
   "metadata": {},
   "outputs": [],
   "source": [
    "member_list = [Member('홍길동', 2, 'a@a.com', '서울'),\n",
    "               Member('신길동', 2, 'a@a.com', '서울'),\n",
    "               Member('김길동', 2, 'a@a.com', '서울'),]"
   ]
  },
  {
   "cell_type": "code",
   "execution_count": null,
   "id": "51191898",
   "metadata": {},
   "outputs": [],
   "source": [
    "with open('data/ch09_member1.json','w', encoding='utf-8') as jsonfile:\n",
    "    json.dump(member_list, # 객체 리스트)\n",
    "              jsonfile,\n",
    "              ensure_ascii=False,\n",
    "              indent='\\t',\n",
    "              default = Member.as_dict #객체를 딕셔너리로 return 하는 인스턴스 함수\n",
    "             )"
   ]
  },
  {
   "cell_type": "markdown",
   "id": "f90682d7",
   "metadata": {},
   "source": [
    "## 4.2 load(파일 입력)\n",
    "- json파일 -> 딕셔너리리스트(기본)\n",
    "- json파일 -> 객체리스트     이걸 만들고 싶으면 딕셔너리리스트에서 객체 리스트로 바꾸어 주어야 한다"
   ]
  },
  {
   "cell_type": "code",
   "execution_count": null,
   "id": "1e913d3a",
   "metadata": {},
   "outputs": [],
   "source": [
    "def as_member(dic):\n",
    "    '매개변수로 딕셔너리를 받아 Member 객체를 return'\n",
    "    return Member(dic.get('name'), dic['age'], dic.get('email'), dic.get('address'))"
   ]
  },
  {
   "cell_type": "code",
   "execution_count": null,
   "id": "5e848b49",
   "metadata": {},
   "outputs": [],
   "source": [
    "member = as_member({'name':'김길동', 'age':20, 'email' : 'z@z.com', 'address':'관악'})\n",
    "print(member)"
   ]
  },
  {
   "cell_type": "code",
   "execution_count": null,
   "id": "8fece594",
   "metadata": {},
   "outputs": [],
   "source": [
    "with open('data/ch09_member.json', 'r', encoding=\"utf-8\") as f:\n",
    "    load_data = json.load(f)\n",
    "load_data"
   ]
  },
  {
   "cell_type": "code",
   "execution_count": null,
   "id": "e28ff8d1",
   "metadata": {},
   "outputs": [],
   "source": [
    "with open('data/ch09_member.json', 'r', encoding=\"utf-8\") as f:\n",
    "    load_member_list = json.load(f, object_hook=as_member)\n",
    "for load_member in load_member_list:\n",
    "    print(load_member)"
   ]
  },
  {
   "cell_type": "markdown",
   "id": "448e59b0",
   "metadata": {},
   "source": [
    "## JSON -> 데이터프레임"
   ]
  },
  {
   "cell_type": "code",
   "execution_count": null,
   "id": "dc4be8c1",
   "metadata": {},
   "outputs": [],
   "source": [
    "import pandas as pd\n",
    "pd.read_json('data/ch09_member1.json', encoding='utf-8')\n",
    "# pd.함수() : encoding = 'utf-8' 기본값"
   ]
  },
  {
   "cell_type": "code",
   "execution_count": null,
   "id": "aa2a06cf",
   "metadata": {},
   "outputs": [],
   "source": [
    "import pandas as pd\n",
    "pd.read_json('data/ch09_member.json')\n",
    "# pd.함수() : encoding = 'utf-8' 기본값"
   ]
  },
  {
   "cell_type": "markdown",
   "id": "3b07edc3",
   "metadata": {},
   "source": [
    "# 5.절 hdfd()h5 파일 쓰기/읽기\n",
    "- h5py 사용\n",
    "## 5.1 pdf5파일 쓰기\n",
    "- 딕셔너리 리스트를 hdf5 파일에 쓰기\n",
    "- 데이터프레임을 hdf5파일에 쓰기"
   ]
  },
  {
   "cell_type": "code",
   "execution_count": null,
   "id": "bff4bf4d",
   "metadata": {},
   "outputs": [],
   "source": [
    "# seaborn : 시각화 패키지. 학습을 위한 데이터셋 다수\n",
    "import seaborn as sns \n",
    "iris_df = sns.load_dataset(\"iris\")\n",
    "iris_df\n",
    "display(iris_df[::50])   # 데이터 프레임은 print 하는 것이 아니다 display 로 하는 것이다"
   ]
  },
  {
   "cell_type": "code",
   "execution_count": null,
   "id": "5ed1fbad",
   "metadata": {},
   "outputs": [],
   "source": [
    "iris_df.to_hdf(\"data/ch09_iris.hdf5\", key = 'iris')"
   ]
  },
  {
   "cell_type": "code",
   "execution_count": null,
   "id": "9354ed73",
   "metadata": {},
   "outputs": [],
   "source": [
    "iris_dic = iris_df.to_dict()\n",
    "type(iris_dic), type(iris_df)"
   ]
  },
  {
   "cell_type": "code",
   "execution_count": null,
   "id": "139ea40c",
   "metadata": {},
   "outputs": [],
   "source": [
    "for group, value in iris_dic.items():   # items 를 해야 key 랑 value 값이 구별되어서 나온다\n",
    "    print(\"그룹명\", group)\n",
    "    # print(value)"
   ]
  },
  {
   "cell_type": "code",
   "execution_count": null,
   "id": "b6d01af1",
   "metadata": {},
   "outputs": [],
   "source": [
    "for group, value in iris_dic.items():   # items 를 해야 key 랑 value 값이 구별되어서 나온다\n",
    "    print(\"그룹명\", group)\n",
    "    for key, data in value.items():\n",
    "        print(\"{}:{}\".format(str(key), data), end='\\t')\n",
    "    print() # 개행"
   ]
  },
  {
   "cell_type": "code",
   "execution_count": null,
   "id": "ef61644d",
   "metadata": {},
   "outputs": [],
   "source": [
    "# 딕셔너리 리스트를 hdf파일로 쓰기\n",
    "import h5py\n",
    "with h5py.File(\"data/ch09_iris_dic.hdf5\", 'w') as f:\n",
    "    for group, value in iris_dic.items():\n",
    "        grp = f.create_group(group)\n",
    "        for key, data in value.items():\n",
    "            grp.create_dataset(str(key), data=data)"
   ]
  },
  {
   "cell_type": "code",
   "execution_count": null,
   "id": "d652e336",
   "metadata": {},
   "outputs": [],
   "source": []
  },
  {
   "cell_type": "code",
   "execution_count": null,
   "id": "ded213db",
   "metadata": {},
   "outputs": [],
   "source": []
  },
  {
   "cell_type": "markdown",
   "id": "749148ab",
   "metadata": {},
   "source": [
    "## 5.2 hdf5파일 읽기\n",
    "- hdf5 파일을 딕셔너리 리스트로 읽기\n",
    "- hdf5 파일을 데이터프레임으로 읽기"
   ]
  },
  {
   "cell_type": "code",
   "execution_count": null,
   "id": "7bfa9ad3",
   "metadata": {},
   "outputs": [],
   "source": [
    "import pandas as pd\n",
    "load_iris_df = pd.read_hdf(\"data/ch09_iris.hdf5\", key = 'iris')\n",
    "load_iris_df[::50]"
   ]
  },
  {
   "cell_type": "code",
   "execution_count": null,
   "id": "4f835515",
   "metadata": {},
   "outputs": [],
   "source": [
    "all(iris_df == load_iris_df) #두 데이터 프레임 변수의 보든 행과 열이 같은 같인지 여부 확인"
   ]
  },
  {
   "cell_type": "code",
   "execution_count": null,
   "id": "9baf386a",
   "metadata": {},
   "outputs": [],
   "source": [
    "with h5py.File('data/ch09_iris_dic.hdf5', 'r') as f:\n",
    "    for group, value in f.items():\n",
    "        print('그룹:', group)\n",
    "        for key, data in value.items():\n",
    "            print(\"{}:{}\".format(key, data[()]), end='\\t')\n",
    "            # data[()] : h5 DataSet 타입을 가져올때"
   ]
  },
  {
   "cell_type": "code",
   "execution_count": null,
   "id": "fe8a8c95",
   "metadata": {},
   "outputs": [],
   "source": [
    "load_iris_dic = {}\n",
    "with h5py.File('data/ch09_iris_dic.hdf5', 'r') as f:\n",
    "    for group, value in f.items():\n",
    "        temp = {}\n",
    "        for key, data in value.items():\n",
    "            temp[int(key)] = data[()]\n",
    "        load_iris_dic[group] = temp\n",
    "    #load_iris_dic['s_l'] = {0:5.4, 1:4}\n",
    "#load_iris_dic['s_w'] = {0:5.4, 1:4}\n",
    "#load_iris_dic"
   ]
  },
  {
   "cell_type": "code",
   "execution_count": null,
   "id": "d4f34301",
   "metadata": {},
   "outputs": [],
   "source": [
    "load_iris_dic.keys()"
   ]
  },
  {
   "cell_type": "code",
   "execution_count": null,
   "id": "c0fd0919",
   "metadata": {},
   "outputs": [],
   "source": [
    "iris_dic.keys()"
   ]
  },
  {
   "cell_type": "markdown",
   "id": "c888525f",
   "metadata": {},
   "source": [
    "# 연습문제: 고객관리\n",
    "- 프로그램 시작시 \"data/ch09_customers.txt\"(고객 데이터 백업용)의 내용을 load(객체 list)\n",
    "-                 파일이 없을 경우 빈 파일 발생\n",
    "\n",
    "- 'data/ch09_customers.txt(고객 데이터 백업)' 의 내용\n",
    "    유질동, 010-5432-2222,yu@hong.com,20, 열심히\n",
    "    \n",
    "## customer 크래스 작성"
   ]
  },
  {
   "cell_type": "code",
   "execution_count": 14,
   "id": "9970b9a1",
   "metadata": {},
   "outputs": [],
   "source": [
    "class Customer:\n",
    "    '고객 데이터와 as_dic(), to_list_style(txt백업시), __str()'\n",
    "    def __init__(self, name, phone, email, age, grade, etc):\n",
    "        self.name = name\n",
    "        self.phone = phone\n",
    "        self.email = email\n",
    "        self.age = age\n",
    "        self.grade = grade\n",
    "        self.etc = etc\n",
    "    def as_dic(self): # 고객데이터를 딕셔너리로\n",
    "        return {'name' : self.name,\n",
    "                'phone' : self.phone,\n",
    "                'email' : self.email,\n",
    "                'age' : int(self.age),\n",
    "                'grade' : int(self.grade),\n",
    "                'etc': self.etc}\n",
    "    def to_list_style(self):\n",
    "        return \"{},{},{},{},{},{}\".format(self.name, self.phone, self.email, int(self.age), int(self.grade), self.etc)\n",
    "           # \"유질동, 010-5432-2222,yu@hong.com,20,3, 열심히\"\n",
    "        # temp = [self.name, \n",
    "        #        self.phone, \n",
    "        #        self.email, \n",
    "        #        str(self.age), \n",
    "        #        str(self.grade), \n",
    "        #        self.etc]\n",
    "        # return ', '.join(temp)\n",
    "    def __str__(self):\n",
    "        return \"{:>5}\\t{:3}\\t{:13}\\t{:15}\\t{:3}\\t{} \".format('★'*self.grade, self.name, self.phone, self.email, self.age, self.etc)\n",
    "       # {}안에 띄어 쓰기랑 format 안에 self.name ~~ 식으로 가야 한다"
   ]
  },
  {
   "cell_type": "code",
   "execution_count": 15,
   "id": "21b83aaa",
   "metadata": {},
   "outputs": [],
   "source": [
    "def to_customer(row):\n",
    "    '''\n",
    "      row =  홍길동, 010-9999-9999, a@a.com, 30, 3, 까칠해 이 내용을 매개 변수 받아\n",
    "      customer 객체로 return\n",
    "    '''  \n",
    "    data = row.split(',')\n",
    "    name = data[0]\n",
    "    phone = data[1].strip() # strip은 앞뒤 white space 제거\n",
    "    email = data[2].strip()\n",
    "    age = int(data[3].strip())\n",
    "    grade = int(data[4].strip())\n",
    "    etc = data[5].strip()\n",
    "    return Customer(name, phone, email, age, grade, etc)\n"
   ]
  },
  {
   "cell_type": "code",
   "execution_count": 16,
   "id": "a669d807",
   "metadata": {},
   "outputs": [
    {
     "name": "stdout",
     "output_type": "stream",
     "text": [
      "  ★★★\t홍길동\t010-9999-9999\ta@a.com        \t 30\t까칠해 \n",
      "{'name': '홍길동', 'phone': '010-9999-9999', 'email': 'a@a.com', 'age': 30, 'grade': 3, 'etc': '까칠해'}\n",
      "홍길동,010-9999-9999,a@a.com,30,3,까칠해\n",
      "  ★★★\t홍길동\t010-9999-9999\ta@a.com        \t 30\t까칠해 \n"
     ]
    }
   ],
   "source": [
    "c1 = Customer(\"홍길동\", \"010-9999-9999\", \"a@a.com\", 30, 3, \"까칠해\")\n",
    "print(c1)\n",
    "print(c1.as_dic())\n",
    "print(c1.to_list_style())\n",
    "c2 = to_customer(\"홍길동, 010-9999-9999, a@a.com, 30, 3, 까칠해\")\n",
    "print(c2)"
   ]
  },
  {
   "cell_type": "markdown",
   "id": "00c602ee",
   "metadata": {},
   "source": [
    "## 0. 처음 실행시 호출\n",
    "- ch09_customers.txt(백업데이터) 에서 custoner_list return\n",
    "- 파일이 없으면 빈 파일 생성, customer_list = [] return"
   ]
  },
  {
   "cell_type": "code",
   "execution_count": 17,
   "id": "33a2bb50",
   "metadata": {},
   "outputs": [],
   "source": [
    "def load_customers():\n",
    "    customer_list = []\n",
    "    try:\n",
    "        with open('data/ch09_customer.txt', 'r', encoding='utf-8') as f:\n",
    "            # txt 데이터 한줄씩 customer 객체로 받아 customer_list.append\n",
    "            lines = f.readlines() # 한꺼번에 읽는거Ff\n",
    "            for line in lines:  #line = \"홍길동, 010-9999-9999, a@a.com, 30, 3, 까칠해\"\n",
    "                customer = to_customer(line)\n",
    "                customer_list.append(customer)\n",
    "    except:\n",
    "        with open('data/ch09_customer.txt', 'w', encoding='utf-8') as f:\n",
    "            print('초기화 파일을 생성했습니다')\n",
    "    return customer_list"
   ]
  },
  {
   "cell_type": "code",
   "execution_count": null,
   "id": "36e877dc",
   "metadata": {},
   "outputs": [],
   "source": [
    "# 참고\n",
    "# 형식이 있는 txt 파일 내용을 member list(피클 저장), 딕셔너리 list(데이터프레임)로 저장\n",
    "# user_list = [] # member list\n",
    "# user_dict = [] # 딕셔너리 list\n",
    "# with open('data/ch09_member.txt', 'r', encoding='utf-8') as f:\n",
    "#     lines = f.readlines()\n",
    "# #print(lines)\n",
    "# for line in lines:\n",
    "#     data = line.split(',')\n",
    "#     #print(data)\n",
    "#     name=data[0]\n",
    "#     age=int(data[1].strip())   # strip() 는 좌우 공백제거\n",
    "#     email = data[2].strip()\n",
    "#     address = data[3].strip()\n",
    "#     user = Member(name, age, email, address)\n",
    "#     user_list.append(user)\n",
    "#     user_dict.append(user.as_dict())\n",
    "# 참고"
   ]
  },
  {
   "cell_type": "code",
   "execution_count": 18,
   "id": "1cf49d12",
   "metadata": {},
   "outputs": [],
   "source": [
    "customer_list = load_customers()\n",
    "for customer in customer_list:\n",
    "    print(customer)"
   ]
  },
  {
   "cell_type": "markdown",
   "id": "516b1252",
   "metadata": {},
   "source": [
    "## 1. 입력"
   ]
  },
  {
   "cell_type": "code",
   "execution_count": 19,
   "id": "c08a8df1",
   "metadata": {},
   "outputs": [],
   "source": [
    "def fn1_insert_customer_info():\n",
    "    '''\n",
    "    사용자로부터 name, phone, email, age, grade, etc를 입력받아 Customer형 객체 반환\n",
    "    '''\n",
    "    name = input('이름:')\n",
    "    phone = input('번호:')\n",
    "    email = input('매일:')\n",
    "    while True:\n",
    "        try:\n",
    "            age = int(input('나이:'))\n",
    "            if (age<0) or (age>130):\n",
    "                raise Exception('나이 범위 이상')\n",
    "            break\n",
    "        except:\n",
    "            print('올바른 나이를 입력하시오')\n",
    "    try:\n",
    "        grade = int(input('등급(1~5):'))\n",
    "        if grade <1:\n",
    "            grade = 1\n",
    "        if grade >5:\n",
    "            grade = 5\n",
    "    except:\n",
    "        print('유요하지 않는 등급 입력시 1등급으로 초기화')\n",
    "    etc = input('기타 정보:')\n",
    "    return Customer(name, phone, email, age, grade, etc)"
   ]
  },
  {
   "cell_type": "code",
   "execution_count": 21,
   "id": "ee15fa81",
   "metadata": {},
   "outputs": [
    {
     "name": "stdout",
     "output_type": "stream",
     "text": [
      "이름:d\n",
      "번호:d\n",
      "매일:d\n",
      "나이:4\n",
      "등급(1~5):4\n",
      "기타 정보:d\n",
      " ★★★★\td  \td            \td              \t  4\td \n"
     ]
    }
   ],
   "source": [
    "# 1번 함수 테스트\n",
    "customer_list = load_customers()\n",
    "customer = fn1_insert_customer_info()\n",
    "customer_list.append(customer)\n",
    "for customer in customer_list:\n",
    "    print(customer)"
   ]
  },
  {
   "cell_type": "markdown",
   "id": "8cffb742",
   "metadata": {},
   "source": [
    "## 2.전체 출력"
   ]
  },
  {
   "cell_type": "code",
   "execution_count": null,
   "id": "4907d68e",
   "metadata": {},
   "outputs": [],
   "source": [
    "def fn2_print_customers(customer_list):\n",
    "    '''\n",
    "    customer_list를 출력(pdf p.40)\n",
    "    '''\n",
    "    print('='*70)\n",
    "    print('{:^70}'.format('고객정보'))\n",
    "    print('='*70)\n",
    "    print(\"{:>5}\\t{:3}\\t{:13}\\t{:15}\\t{:3}\\t{}\".format(\"grade\", \"이름\", \"전화\",\n",
    "                                                        \"메일\", \"나이\", \"기타\"))\n",
    "    print('-'*70)\n",
    "    for customer in customer_list:\n",
    "          print(customer)\n",
    "    "
   ]
  },
  {
   "cell_type": "code",
   "execution_count": null,
   "id": "5c2cc69c",
   "metadata": {},
   "outputs": [],
   "source": [
    "# 2번 기능 테스트\n",
    "\n",
    "for customer in customer_list:\n",
    "    print(customer)"
   ]
  },
  {
   "cell_type": "markdown",
   "id": "b1fd1d67",
   "metadata": {},
   "source": [
    "## 3. 삭제"
   ]
  },
  {
   "cell_type": "code",
   "execution_count": null,
   "id": "73d4fb29",
   "metadata": {},
   "outputs": [],
   "source": [
    "# 3.삭제 동명이인이 없다 구현\n",
    "def fn3_delete_customer(customer_list):\n",
    "    '''\n",
    "    삭제하고자 하는 고객이름을 input으로 받아\n",
    "    매개변수로 들어온 customer_list에서 삭제하고 \"삭제했음/삭제못했음\"을 메세지로 출력\n",
    "    '''\n",
    "    delete_name = input('삭제할 고객 이름은?')\n",
    "    for customer in customer_list:\n",
    "        if customer.name == delete_name:\n",
    "            customer_list.remove(customer)\n",
    "            print('{}님 데이터를 삭제하였습니다'.format(delete_name))\n",
    "            break # for 문을 빠져 나오기 위해서 return 을 쓰게 된다면?\n",
    "    else:\n",
    "        print('{}님 데이터는 존재하지 않습니다'.format(delete_name))\n",
    "        "
   ]
  },
  {
   "cell_type": "code",
   "execution_count": null,
   "id": "e4479b5c",
   "metadata": {},
   "outputs": [],
   "source": [
    "# 3번 기능 테스트\n",
    "customer_list = load_customers()\n",
    "fn3_delete_customer(customer_list)"
   ]
  },
  {
   "cell_type": "code",
   "execution_count": null,
   "id": "ca5f49e0",
   "metadata": {},
   "outputs": [],
   "source": [
    "fn2_print_customers(customer_list)"
   ]
  },
  {
   "cell_type": "code",
   "execution_count": null,
   "id": "a98986f0",
   "metadata": {},
   "outputs": [],
   "source": [
    "# 3.삭제 동명이인이 있다 구현\n",
    "def fn3_delete_customer(customer_list):\n",
    "    delete_name = input('삭제할 고객 이름은?')\n",
    "    delete_idx = [] # 삭제할 인덱스를 저장하는 용도\n",
    "    for idx, customer in enumerate(customer_list):\n",
    "        if customer.name == delete_name:\n",
    "            delete_idx.append(idx)\n",
    "        if delete_idx:\n",
    "            for idx in delete_idx[::-1]:# 반대로 삭제를 하는것 \n",
    "                del customer_list[idx]  # 여기서는 break 와 else를 안쓰는 이유는?\n",
    "            print('{}님 {}명 삭제하였습니다'.format(delete_name, len(delete_idx))) \n",
    "        else:\n",
    "            print('{}님 데이터가 존재하지 않습니다'.format(delete_name))\n",
    "                \n",
    "\n",
    "        \n",
    "        "
   ]
  },
  {
   "cell_type": "code",
   "execution_count": 27,
   "id": "a16da4b3",
   "metadata": {},
   "outputs": [],
   "source": [
    "# 삭제하는데 동명이인이 있냐고 물어보고 지우는것\n",
    "def fn3_delete_customer(customer_list):\n",
    "    delete_name = input('삭제할 고객 이름은?')\n",
    "    delete_idx = [] # 삭제할 인덱스를 저장하는 용도\n",
    "    for idx, customer in enumerate(customer_list):\n",
    "        if customer.name == delete_name:\n",
    "            delete_idx.append(idx)\n",
    "        if delete_idx:  # 뭔가 지울게 있다면 들어간다\n",
    "            for idx in delete_idx[::-1]:# 반대로 삭제를 하는것 \n",
    "                print(customer_list[idx], '지울겁니까?', end='')\n",
    "                answer = input('(y/n)')\n",
    "                if (answer == 'y') or (answeer == 'Y'):\n",
    "                # if answer.upper() == Y:\n",
    "                    del customer_list[idx]\n",
    "        else:\n",
    "            print('{}님 데이터가 존재하지 않습니다'.format(delete_name))"
   ]
  },
  {
   "cell_type": "code",
   "execution_count": 28,
   "id": "9ca3a180",
   "metadata": {},
   "outputs": [
    {
     "name": "stdout",
     "output_type": "stream",
     "text": [
      "삭제할 고객 이름은?홍길동\n"
     ]
    }
   ],
   "source": [
    "customer_list = load_customers()\n",
    "fn3_delete_customer(customer_list)"
   ]
  },
  {
   "cell_type": "code",
   "execution_count": 29,
   "id": "14ff380a",
   "metadata": {},
   "outputs": [
    {
     "ename": "NameError",
     "evalue": "name 'fn2_print_customers' is not defined",
     "output_type": "error",
     "traceback": [
      "\u001b[1;31m---------------------------------------------------------------------------\u001b[0m",
      "\u001b[1;31mNameError\u001b[0m                                 Traceback (most recent call last)",
      "Cell \u001b[1;32mIn[29], line 1\u001b[0m\n\u001b[1;32m----> 1\u001b[0m \u001b[43mfn2_print_customers\u001b[49m(customer_list)\n",
      "\u001b[1;31mNameError\u001b[0m: name 'fn2_print_customers' is not defined"
     ]
    }
   ],
   "source": [
    "fn2_print_customers(customer_list)"
   ]
  },
  {
   "cell_type": "markdown",
   "id": "6d237863",
   "metadata": {},
   "source": [
    "## 4. 이름찾기"
   ]
  },
  {
   "cell_type": "code",
   "execution_count": 30,
   "id": "0b7e038e",
   "metadata": {},
   "outputs": [],
   "source": [
    "# 4.이름찾기 동명이인이 있음\n",
    "'''\n",
    "찾고자 할 이름을 input 으로 입력을 받아, customer_list에서 검색\n",
    "없으면 요청한 이름은 없습니다\n",
    "'''\n",
    "def fn4_search_customer(customer_list):\n",
    "    find_name=input('찾는이름:')\n",
    "    find_idx=[]\n",
    "    for idx, customer in enumerate(customer_list):\n",
    "        if customer.name == find_name:\n",
    "            find_idx.append(idx)\n",
    "    if find_idx:     # 뭔가 지울게 있나? 라고 물어봄\n",
    "        for idx in find_idx:\n",
    "            #print('{}님 {}명 존재하였습니다'.format(find_name, len(find_idx))) \n",
    "            print(customer_list[idx])\n",
    "    else:\n",
    "        print('{}님 데이터가 존재하지 않습니다'.format(find_name))\n",
    "                "
   ]
  },
  {
   "cell_type": "code",
   "execution_count": 31,
   "id": "c58c97b0",
   "metadata": {},
   "outputs": [
    {
     "name": "stdout",
     "output_type": "stream",
     "text": [
      "찾는이름:\n",
      "님 데이터가 존재하지 않습니다\n"
     ]
    }
   ],
   "source": [
    "# 4번 기능 테스트\n",
    "customer_list = load_customers()\n",
    "fn4_search_customer(customer_list)"
   ]
  },
  {
   "cell_type": "markdown",
   "id": "b5107cd0",
   "metadata": {},
   "source": [
    "## 5. 내보내기(csv)"
   ]
  },
  {
   "cell_type": "code",
   "execution_count": 61,
   "id": "a5a0cf6c",
   "metadata": {},
   "outputs": [
    {
     "data": {
      "text/plain": [
       "[<__main__.Customer at 0x2295e3049a0>, <__main__.Customer at 0x2295e3069e0>]"
      ]
     },
     "execution_count": 61,
     "metadata": {},
     "output_type": "execute_result"
    }
   ],
   "source": [
    "customer_list = load_customers()\n",
    "customer_list"
   ]
  },
  {
   "cell_type": "code",
   "execution_count": 68,
   "id": "2667ad3d",
   "metadata": {},
   "outputs": [],
   "source": [
    "# 5.내보내기 (csv)\n",
    "def fn5_save_customer_csv(customer_list):\n",
    "    '''\n",
    "    매개변수로 받은 customer_list 를 딕셔너리 리스트로 변환\n",
    "    '''\n",
    "    import csv\n",
    "    if customer_list:  # 커스터머가 들어있나? 라고 물어봄\n",
    "        customer_dic_list = []\n",
    "        for customer in customer_list:\n",
    "            customer_dic_list.append(customer.as_dic())\n",
    "        fieldnames = list(customer_dic_list[0].keys())\n",
    "        filename = input('저장할 csv 파일명은?')\n",
    "        with open('data/{}.csv'.format(filename), 'w', encoding='utf-8', newline='') as f:\n",
    "            dict_writer = csv.DictWriter(f, fieldnames=fieldnames)\n",
    "            dict_writer.writeheader()  # 헤더     \n",
    "            dict_writer.writerows(customer_dic_list)\n",
    "            print(f\"data/{filename}.csv 내보내기 완료\")\n",
    "    else:\n",
    "        print('입력된 데이터가 없습니다')"
   ]
  },
  {
   "cell_type": "code",
   "execution_count": 69,
   "id": "23f1ed7d",
   "metadata": {},
   "outputs": [
    {
     "name": "stdout",
     "output_type": "stream",
     "text": [
      "저장할 csv 파일명은?ㅁㅁㅁ\n",
      "data/ㅁㅁㅁ.csv 내보내기 완료\n"
     ]
    }
   ],
   "source": [
    "#5번 테스트\n",
    "fn5_save_customer_csv(customer_list)"
   ]
  },
  {
   "cell_type": "code",
   "execution_count": null,
   "id": "736eebce",
   "metadata": {},
   "outputs": [],
   "source": [
    "## 9. 종료"
   ]
  },
  {
   "cell_type": "code",
   "execution_count": 76,
   "id": "3931fb5c",
   "metadata": {},
   "outputs": [],
   "source": [
    "# 9.종료 종료하기 전 customer_list 를 txt 파일에 저장하고 종료\n",
    "def fn9_save_customer_txt(customer_list):\n",
    "    '''\n",
    "    customer_list 를 list style 로 바꾼다\n",
    "    to_list_style()을 이용해서 작업     ch09_customers.txt 로 백업\n",
    "    '''\n",
    "    customer_txt_list = []\n",
    "    for customer in customer_list:\n",
    "        customer_txt_list.append(customer.to_list_style() + '\\n')\n",
    "    with open('data/ch09_customers.txt', 'w', encoding='utf-8') as f:\n",
    "        f.writelines(customer_txt_list)\n",
    "        \n",
    "                   \n",
    "    "
   ]
  },
  {
   "cell_type": "code",
   "execution_count": 78,
   "id": "4c7b8296",
   "metadata": {},
   "outputs": [],
   "source": [
    "#9번 기능 테스트\n",
    "fn9_save_customer_txt(customer_list)"
   ]
  },
  {
   "cell_type": "markdown",
   "id": "04cb8019",
   "metadata": {},
   "source": [
    "## main()"
   ]
  },
  {
   "cell_type": "code",
   "execution_count": 80,
   "id": "5fe3404a",
   "metadata": {},
   "outputs": [],
   "source": [
    "def main():\n",
    "    global customer_list\n",
    "    customer_list = load_customers()\n",
    "    while True:\n",
    "        print(\"1:입력, 2:전체출력, 3:삭제, 4:이름검색, 5:내보내기\", end ='')\n",
    "        fn = input(\"메뉴선택:\")\n",
    "        if fn=='1':\n",
    "            print('fn1_호출한 결과를 customer에 받아 customer_list에 append')\n",
    "        elif fn=='2':\n",
    "            print('fn2_호출')\n",
    "        elif fn=='3' :\n",
    "            print('fn3_호출')\n",
    "        elif fn=='4':\n",
    "            print('fn4_호출')\n",
    "        elif fn=='5':\n",
    "            print('fn4_호출')\n",
    "        elif fn=='9':\n",
    "            print('fn9_호출')\n",
    "            break"
   ]
  },
  {
   "cell_type": "code",
   "execution_count": 81,
   "id": "a5828db1",
   "metadata": {},
   "outputs": [
    {
     "name": "stdout",
     "output_type": "stream",
     "text": [
      "1:입력, 2:전체출력, 3:삭제, 4:이름검색, 5:내보내기메뉴선택:5\n",
      "fn4_호출\n",
      "1:입력, 2:전체출력, 3:삭제, 4:이름검색, 5:내보내기메뉴선택:4\n",
      "fn4_호출\n",
      "1:입력, 2:전체출력, 3:삭제, 4:이름검색, 5:내보내기메뉴선택:1\n",
      "fn1_호출한 결과를 customer에 받아 customer_list에 append\n",
      "1:입력, 2:전체출력, 3:삭제, 4:이름검색, 5:내보내기메뉴선택:6\n",
      "1:입력, 2:전체출력, 3:삭제, 4:이름검색, 5:내보내기메뉴선택:9\n",
      "fn9_호출\n"
     ]
    }
   ],
   "source": [
    "if __name__ == '__main__':\n",
    "    main()\n"
   ]
  },
  {
   "cell_type": "code",
   "execution_count": 82,
   "id": "ed90fe22",
   "metadata": {},
   "outputs": [],
   "source": [
    "def main():\n",
    "    global customer_list\n",
    "    customer_list = load_customers()\n",
    "    while True:\n",
    "        print(\"1:입력|2:전체출력|3:삭제|4:이름검색|5:csv내보내기|9: 종료\", end='')\n",
    "        fn = input(\"메뉴 선택 : \")\n",
    "        if fn=='1':\n",
    "            # print(\"fn1_호출한 결과를 customer에 받아 customer_list에 append\")\n",
    "            customer = fn1_insert_customer_info()\n",
    "            customer_list.append(customer)\n",
    "        elif fn=='2':\n",
    "            # print('fn2_호출')\n",
    "            fn2_print_customers(customer_list)\n",
    "        elif fn=='3':\n",
    "            # print('fn3_호출')\n",
    "            fn3_delete_customer(customer_list)\n",
    "        elif fn=='4':\n",
    "            # print('fn4_호출')\n",
    "            fn4_search_customer(customer_list)\n",
    "        elif fn=='5':\n",
    "            # print('fn5_호출')\n",
    "            fn5_save_customer_csv(customer_list)\n",
    "        elif fn=='9':\n",
    "            # print('fn9_호출')\n",
    "            fn9_save_customer_txt(customer_list)\n",
    "            break"
   ]
  },
  {
   "cell_type": "code",
   "execution_count": null,
   "id": "337dafdb",
   "metadata": {},
   "outputs": [
    {
     "name": "stdout",
     "output_type": "stream",
     "text": [
      "1:입력|2:전체출력|3:삭제|4:이름검색|5:csv내보내기|9: 종료메뉴 선택 : 5\n",
      "저장할 csv 파일명은?ㅠ\n",
      "data/ㅠ.csv 내보내기 완료\n",
      "1:입력|2:전체출력|3:삭제|4:이름검색|5:csv내보내기|9: 종료"
     ]
    }
   ],
   "source": [
    "if __name__ == '__main__':\n",
    "    main()"
   ]
  },
  {
   "cell_type": "code",
   "execution_count": null,
   "id": "6c4e0c2d",
   "metadata": {},
   "outputs": [],
   "source": []
  },
  {
   "cell_type": "code",
   "execution_count": null,
   "id": "56313704",
   "metadata": {},
   "outputs": [],
   "source": []
  },
  {
   "cell_type": "code",
   "execution_count": null,
   "id": "49f6de1d",
   "metadata": {},
   "outputs": [],
   "source": []
  },
  {
   "cell_type": "code",
   "execution_count": null,
   "id": "d79ff945",
   "metadata": {},
   "outputs": [],
   "source": []
  },
  {
   "cell_type": "code",
   "execution_count": null,
   "id": "b22a3fba",
   "metadata": {},
   "outputs": [],
   "source": []
  }
 ],
 "metadata": {
  "kernelspec": {
   "display_name": "Python 3 (ipykernel)",
   "language": "python",
   "name": "python3"
  },
  "language_info": {
   "codemirror_mode": {
    "name": "ipython",
    "version": 3
   },
   "file_extension": ".py",
   "mimetype": "text/x-python",
   "name": "python",
   "nbconvert_exporter": "python",
   "pygments_lexer": "ipython3",
   "version": "3.10.9"
  },
  "toc": {
   "base_numbering": 1,
   "nav_menu": {},
   "number_sections": false,
   "sideBar": true,
   "skip_h1_title": false,
   "title_cell": "Table of Contents",
   "title_sidebar": "Contents",
   "toc_cell": false,
   "toc_position": {
    "height": "calc(100% - 180px)",
    "left": "10px",
    "top": "150px",
    "width": "165px"
   },
   "toc_section_display": true,
   "toc_window_display": true
  }
 },
 "nbformat": 4,
 "nbformat_minor": 5
}
